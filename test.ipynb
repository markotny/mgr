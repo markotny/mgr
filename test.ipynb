{
 "cells": [
  {
   "cell_type": "code",
   "execution_count": 1,
   "metadata": {},
   "outputs": [],
   "source": [
    "from bs4 import BeautifulSoup\n",
    "from posl import load_posl_df\n",
    "from glob import glob\n",
    "from datetime import datetime\n",
    "import os\n",
    "import pandas as pd\n",
    "import re\n",
    "%matplotlib tk"
   ]
  },
  {
   "cell_type": "code",
   "execution_count": 2,
   "metadata": {},
   "outputs": [],
   "source": [
    "def is_comment(tag):\n",
    "    text = tag.getText()\n",
    "    return text.startswith(\"(\") and text.endswith(\")\")\n",
    "\n",
    "def is_speaker(tag):\n",
    "    return not is_comment(tag) and not tag['who'].lower().startswith(('#komentarz', '#glos', '#marszalek', '#poslowie', '#wicemarszalek', '#gwar')) \n",
    "\n",
    "def get_speaker_name(speaker_dict, tag):\n",
    "    speaker_id = tag.find(is_speaker)['who'][1:]\n",
    "    [name, surname] = speaker_dict[speaker_id].split(' ')[-2:]\n",
    "    return f'{name} {surname}'\n",
    "\n",
    "def get_id(doc_id, tag):\n",
    "    return f'{doc_id}-{tag[\"xml:id\"]}'\n",
    "\n",
    "def parse_folder(folder):\n",
    "    with open(os.path.join(folder, \"header.xml\"), 'r') as header_file:\n",
    "        header = BeautifulSoup(header_file, 'lxml')\n",
    "\n",
    "    doc_id =  header.find(\"teiheader\")[\"xml:id\"]\n",
    "    doc_date = datetime.strptime(header.find(\"date\").text, '%Y-%m-%d')\n",
    "    doc_title = header.find(\"title\").text\n",
    "    doc_speakers = {x[\"xml:id\"]: x.text.strip() for x in header.find_all(\"person\")}\n",
    "\n",
    "    with open(os.path.join(folder, \"text_structure.xml\"), 'r') as data_file:\n",
    "        data = BeautifulSoup(data_file, 'lxml')\n",
    "    \n",
    "    divs = data.find_all('div')\n",
    "    texts = [[get_id(doc_id, div), get_speaker_name(doc_speakers, div), doc_date, ' '.join([x.text for x in div.find_all(is_speaker)])] for div in divs if div.find(is_speaker)]\n",
    "    texts = [t for t in texts if len(t[3]) >= 200]\n",
    "    df = pd.DataFrame(texts, columns=[\"id\", \"speaker\", \"date\", \"text\"])\n",
    "\n",
    "    return df   "
   ]
  },
  {
   "cell_type": "code",
   "execution_count": 3,
   "metadata": {},
   "outputs": [],
   "source": [
    "pp_all = 'corpus/2015-2019/sejm/posiedzenia/pp/*'\n",
    "\n",
    "frames = [parse_folder(f) for f in glob(pp_all)]\n",
    "\n",
    "corpus = pd.concat(frames)"
   ]
  },
  {
   "cell_type": "code",
   "execution_count": 4,
   "metadata": {},
   "outputs": [],
   "source": [
    "posl = load_posl_df()\n",
    "with open('posl/kadencje_start') as f:\n",
    "    all_kadencje = sorted([datetime.strptime(x.strip(), '%Y-%m-%d') for x in f], reverse=True)\n",
    "\n",
    "posel = []\n",
    "klub = []\n",
    "lista = []\n",
    "okreg = []\n",
    "\n",
    "for _, row in corpus.iterrows():\n",
    "    speaker = row.speaker\n",
    "    kadencja = next((k for k in all_kadencje if row.date >= k))\n",
    "\n",
    "    found = posl[(posl.rok == kadencja.year) & (posl.posel.str.endswith(speaker))]\n",
    "\n",
    "    if len(found == 1):\n",
    "        found = found.squeeze()\n",
    "\n",
    "        posel.append(found.posel)\n",
    "        lista.append(found.partia or found.lista or found.klub or '')\n",
    "        klub.append(found.klub or '')\n",
    "        okreg.append(found.okreg)\n",
    "    else:\n",
    "        posel.append('')\n",
    "        lista.append('')\n",
    "        klub.append('')\n",
    "        okreg.append('')\n",
    "\n",
    "corpus['posel'] = posel\n",
    "corpus['klub'] = klub\n",
    "corpus['lista'] = lista\n",
    "corpus['okreg'] = okreg\n",
    "\n",
    "corpus = corpus[corpus.posel != '']"
   ]
  },
  {
   "cell_type": "code",
   "execution_count": 8,
   "metadata": {},
   "outputs": [],
   "source": [
    "corpus.to_csv('parsed/corpus/2015.csv')"
   ]
  },
  {
   "cell_type": "code",
   "execution_count": 7,
   "metadata": {},
   "outputs": [],
   "source": [
    "posl = load_posl_df()\n",
    "corpus = pd.read_csv('parsed/corpus/2015.csv', index_col=0, na_filter=False)"
   ]
  },
  {
   "cell_type": "code",
   "execution_count": 7,
   "metadata": {},
   "outputs": [
    {
     "data": {
      "text/plain": "<AxesSubplot:>"
     },
     "execution_count": 7,
     "metadata": {},
     "output_type": "execute_result"
    }
   ],
   "source": [
    "corpus.lista.value_counts().plot(kind='barh')"
   ]
  },
  {
   "cell_type": "code",
   "execution_count": 57,
   "metadata": {},
   "outputs": [],
   "source": [
    "corpus['text_lengts'] = [len(x) for x in corpus['text']]"
   ]
  },
  {
   "cell_type": "code",
   "execution_count": 58,
   "metadata": {},
   "outputs": [
    {
     "data": {
      "text/plain": "<AxesSubplot:>"
     },
     "execution_count": 58,
     "metadata": {},
     "output_type": "execute_result"
    }
   ],
   "source": [
    "corpus['text_lengts'].hist(bins=500)"
   ]
  },
  {
   "cell_type": "code",
   "execution_count": 59,
   "metadata": {},
   "outputs": [
    {
     "data": {
      "text/html": "<div>\n<style scoped>\n    .dataframe tbody tr th:only-of-type {\n        vertical-align: middle;\n    }\n\n    .dataframe tbody tr th {\n        vertical-align: top;\n    }\n\n    .dataframe thead th {\n        text-align: right;\n    }\n</style>\n<table border=\"1\" class=\"dataframe\">\n  <thead>\n    <tr style=\"text-align: right;\">\n      <th></th>\n      <th>id</th>\n      <th>speaker</th>\n      <th>date</th>\n      <th>text</th>\n      <th>posel</th>\n      <th>klub</th>\n      <th>okreg</th>\n      <th>lista</th>\n      <th>text_lengts</th>\n    </tr>\n  </thead>\n  <tbody>\n    <tr>\n      <th>5</th>\n      <td>PPC-201519-sjm-ppxxx-00048-01-div-12</td>\n      <td>Mirosław Maliszewski</td>\n      <td>2017-09-27</td>\n      <td>Panie Marszałku! Pani Premier! Panie i Panowie...</td>\n      <td>Mirosław Maliszewski</td>\n      <td>Klub Parlamentarny Polskie Stronnictwo Ludowe ...</td>\n      <td>Radom</td>\n      <td>Polskie Stronnictwo Ludowe</td>\n      <td>90450</td>\n    </tr>\n    <tr>\n      <th>99</th>\n      <td>PPC-201519-sjm-ppxxx-00020-02-div-202</td>\n      <td>Stanisław Piotrowicz</td>\n      <td>2016-06-09</td>\n      <td>Pani Marszałek! Wysoka Izbo! Zanim przystąpię ...</td>\n      <td>Stanisław Piotrowicz</td>\n      <td>Klub Parlamentarny Prawo i Sprawiedliwość</td>\n      <td>Krosno</td>\n      <td>Prawo i Sprawiedliwość</td>\n      <td>74513</td>\n    </tr>\n    <tr>\n      <th>1</th>\n      <td>PPC-201519-sjm-ppxxx-00035-02-div-4</td>\n      <td>Witold Waszczykowski</td>\n      <td>2017-02-09</td>\n      <td>Panie Prezydencie! Panie Marszałku! Szanowna P...</td>\n      <td>Witold Waszczykowski</td>\n      <td>Klub Parlamentarny Prawo i Sprawiedliwość</td>\n      <td>Sieradz</td>\n      <td>Prawo i Sprawiedliwość</td>\n      <td>58792</td>\n    </tr>\n    <tr>\n      <th>1</th>\n      <td>PPC-201519-sjm-ppxxx-00010-02-div-4</td>\n      <td>Witold Waszczykowski</td>\n      <td>2016-01-29</td>\n      <td>Panie Prezydencie! Panie Marszałku! Pani Premi...</td>\n      <td>Witold Waszczykowski</td>\n      <td>Klub Parlamentarny Prawo i Sprawiedliwość</td>\n      <td>Sieradz</td>\n      <td>Prawo i Sprawiedliwość</td>\n      <td>57856</td>\n    </tr>\n    <tr>\n      <th>1</th>\n      <td>PPC-201519-sjm-ppxxx-00039-03-div-4</td>\n      <td>Grzegorz Schetyna</td>\n      <td>2017-04-07</td>\n      <td>Panie Marszałku! Ten się śmieje, kto się śmiej...</td>\n      <td>Grzegorz Schetyna</td>\n      <td>Klub Parlamentarny Platforma Obywatelska - Koa...</td>\n      <td>Kielce</td>\n      <td>Platforma Obywatelska</td>\n      <td>52446</td>\n    </tr>\n    <tr>\n      <th>...</th>\n      <td>...</td>\n      <td>...</td>\n      <td>...</td>\n      <td>...</td>\n      <td>...</td>\n      <td>...</td>\n      <td>...</td>\n      <td>...</td>\n      <td>...</td>\n    </tr>\n    <tr>\n      <th>234</th>\n      <td>PPC-201519-sjm-ppxxx-00039-02-div-475</td>\n      <td>Szymon Giżyński</td>\n      <td>2017-04-06</td>\n      <td>Panie Marszałku! Wysoki Sejmie! Nowoczesna i P...</td>\n      <td>Szymon Giżyński</td>\n      <td>Klub Parlamentarny Prawo i Sprawiedliwość</td>\n      <td>Częstochowa</td>\n      <td>Prawo i Sprawiedliwość</td>\n      <td>201</td>\n    </tr>\n    <tr>\n      <th>309</th>\n      <td>PPC-201519-sjm-ppxxx-00081-02-div-625</td>\n      <td>Bożenna Bukiewicz</td>\n      <td>2019-05-16</td>\n      <td>Oświadczam, że w dniu 16 maja 2019 r. w głosow...</td>\n      <td>Bożenna Bukiewicz</td>\n      <td>Klub Parlamentarny Platforma Obywatelska - Koa...</td>\n      <td>Zielona Góra</td>\n      <td>Platforma Obywatelska</td>\n      <td>201</td>\n    </tr>\n    <tr>\n      <th>230</th>\n      <td>PPC-201519-sjm-ppxxx-00015-02-div-466</td>\n      <td>Sławomir Neumann</td>\n      <td>2016-03-31</td>\n      <td>Panie marszałku, chciałbym tutaj dla higieny p...</td>\n      <td>Sławomir Neumann</td>\n      <td>Klub Parlamentarny Platforma Obywatelska - Koa...</td>\n      <td>Gdańsk</td>\n      <td>Platforma Obywatelska</td>\n      <td>200</td>\n    </tr>\n    <tr>\n      <th>31</th>\n      <td>PPC-201519-sjm-ppxxx-00076-02-div-66</td>\n      <td>Elżbieta Duda</td>\n      <td>2019-01-17</td>\n      <td>Drugie pytanie uzupełniające. Czy na podstawie...</td>\n      <td>Elżbieta Duda</td>\n      <td>Klub Parlamentarny Prawo i Sprawiedliwość</td>\n      <td>Kraków</td>\n      <td>Prawo i Sprawiedliwość</td>\n      <td>200</td>\n    </tr>\n    <tr>\n      <th>308</th>\n      <td>PPC-201519-sjm-ppxxx-00080-03-div-621</td>\n      <td>Robert Telus</td>\n      <td>2019-04-25</td>\n      <td>Szanowny Panie Marszałku! Panie Premierze! Wys...</td>\n      <td>Robert Telus</td>\n      <td>Klub Parlamentarny Prawo i Sprawiedliwość</td>\n      <td>Piotrków Trybunalski</td>\n      <td>Prawo i Sprawiedliwość</td>\n      <td>200</td>\n    </tr>\n  </tbody>\n</table>\n<p>41882 rows × 9 columns</p>\n</div>",
      "text/plain": "                                        id               speaker        date  \\\n5     PPC-201519-sjm-ppxxx-00048-01-div-12  Mirosław Maliszewski  2017-09-27   \n99   PPC-201519-sjm-ppxxx-00020-02-div-202  Stanisław Piotrowicz  2016-06-09   \n1      PPC-201519-sjm-ppxxx-00035-02-div-4  Witold Waszczykowski  2017-02-09   \n1      PPC-201519-sjm-ppxxx-00010-02-div-4  Witold Waszczykowski  2016-01-29   \n1      PPC-201519-sjm-ppxxx-00039-03-div-4     Grzegorz Schetyna  2017-04-07   \n..                                     ...                   ...         ...   \n234  PPC-201519-sjm-ppxxx-00039-02-div-475       Szymon Giżyński  2017-04-06   \n309  PPC-201519-sjm-ppxxx-00081-02-div-625     Bożenna Bukiewicz  2019-05-16   \n230  PPC-201519-sjm-ppxxx-00015-02-div-466      Sławomir Neumann  2016-03-31   \n31    PPC-201519-sjm-ppxxx-00076-02-div-66         Elżbieta Duda  2019-01-17   \n308  PPC-201519-sjm-ppxxx-00080-03-div-621          Robert Telus  2019-04-25   \n\n                                                  text                 posel  \\\n5    Panie Marszałku! Pani Premier! Panie i Panowie...  Mirosław Maliszewski   \n99   Pani Marszałek! Wysoka Izbo! Zanim przystąpię ...  Stanisław Piotrowicz   \n1    Panie Prezydencie! Panie Marszałku! Szanowna P...  Witold Waszczykowski   \n1    Panie Prezydencie! Panie Marszałku! Pani Premi...  Witold Waszczykowski   \n1    Panie Marszałku! Ten się śmieje, kto się śmiej...     Grzegorz Schetyna   \n..                                                 ...                   ...   \n234  Panie Marszałku! Wysoki Sejmie! Nowoczesna i P...       Szymon Giżyński   \n309  Oświadczam, że w dniu 16 maja 2019 r. w głosow...     Bożenna Bukiewicz   \n230  Panie marszałku, chciałbym tutaj dla higieny p...      Sławomir Neumann   \n31   Drugie pytanie uzupełniające. Czy na podstawie...         Elżbieta Duda   \n308  Szanowny Panie Marszałku! Panie Premierze! Wys...          Robert Telus   \n\n                                                  klub                 okreg  \\\n5    Klub Parlamentarny Polskie Stronnictwo Ludowe ...                 Radom   \n99           Klub Parlamentarny Prawo i Sprawiedliwość                Krosno   \n1            Klub Parlamentarny Prawo i Sprawiedliwość               Sieradz   \n1            Klub Parlamentarny Prawo i Sprawiedliwość               Sieradz   \n1    Klub Parlamentarny Platforma Obywatelska - Koa...                Kielce   \n..                                                 ...                   ...   \n234          Klub Parlamentarny Prawo i Sprawiedliwość           Częstochowa   \n309  Klub Parlamentarny Platforma Obywatelska - Koa...          Zielona Góra   \n230  Klub Parlamentarny Platforma Obywatelska - Koa...                Gdańsk   \n31           Klub Parlamentarny Prawo i Sprawiedliwość                Kraków   \n308          Klub Parlamentarny Prawo i Sprawiedliwość  Piotrków Trybunalski   \n\n                          lista  text_lengts  \n5    Polskie Stronnictwo Ludowe        90450  \n99       Prawo i Sprawiedliwość        74513  \n1        Prawo i Sprawiedliwość        58792  \n1        Prawo i Sprawiedliwość        57856  \n1         Platforma Obywatelska        52446  \n..                          ...          ...  \n234      Prawo i Sprawiedliwość          201  \n309       Platforma Obywatelska          201  \n230       Platforma Obywatelska          200  \n31       Prawo i Sprawiedliwość          200  \n308      Prawo i Sprawiedliwość          200  \n\n[41882 rows x 9 columns]"
     },
     "execution_count": 59,
     "metadata": {},
     "output_type": "execute_result"
    }
   ],
   "source": [
    "corpus.sort_values(by=['text_lengts'],ascending=False)"
   ]
  }
 ],
 "metadata": {
  "kernelspec": {
   "display_name": "Python 3.8.8 64-bit ('mgr-pytorch-test': conda)",
   "name": "python388jvsc74a57bd0c1bf7015d0c56f3fc2ac438580d318c812fd590bd1722092edb637ef32d41bb3"
  },
  "language_info": {
   "codemirror_mode": {
    "name": "ipython",
    "version": 3
   },
   "file_extension": ".py",
   "mimetype": "text/x-python",
   "name": "python",
   "nbconvert_exporter": "python",
   "pygments_lexer": "ipython3",
   "version": "3.8.8"
  },
  "orig_nbformat": 2
 },
 "nbformat": 4,
 "nbformat_minor": 2
}
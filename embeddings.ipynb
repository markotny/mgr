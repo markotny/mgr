{
 "cells": [
  {
   "cell_type": "code",
   "execution_count": 1,
   "metadata": {},
   "outputs": [],
   "source": [
    "from sentence_transformers import SentenceTransformer, util\n",
    "from LexRank import degree_centrality_scores\n",
    "from tqdm import tqdm\n",
    "import nltk\n",
    "import pandas as pd\n",
    "import numpy as np\n",
    "import torch\n",
    "import pickle"
   ]
  },
  {
   "cell_type": "code",
   "execution_count": 2,
   "metadata": {},
   "outputs": [],
   "source": [
    "model_path='/media/marcin/Dane/model/'\n",
    "# model_path='model/'"
   ]
  },
  {
   "cell_type": "code",
   "execution_count": 4,
   "metadata": {},
   "outputs": [
    {
     "name": "stderr",
     "output_type": "stream",
     "text": [
      "[nltk_data] Downloading package punkt to /home/marcin/nltk_data...\n",
      "[nltk_data]   Package punkt is already up-to-date!\n"
     ]
    }
   ],
   "source": [
    "nltk.download('punkt')\n",
    "tokenizer = nltk.data.load('tokenizers/punkt/polish.pickle')"
   ]
  },
  {
   "cell_type": "code",
   "execution_count": 5,
   "metadata": {},
   "outputs": [],
   "source": [
    "df = pd.read_csv('parsed/corpus/all.csv', index_col=0, na_filter=False)\n",
    "docs = df.text.to_list()"
   ]
  },
  {
   "cell_type": "code",
   "execution_count": 6,
   "metadata": {},
   "outputs": [],
   "source": [
    "model = SentenceTransformer('xlm-r-distilroberta-base-paraphrase-v1')"
   ]
  },
  {
   "cell_type": "code",
   "execution_count": 9,
   "metadata": {},
   "outputs": [
    {
     "name": "stderr",
     "output_type": "stream",
     "text": [
      " 66%|██████▌   | 27581/41930 [51:00<20:24, 11.72it/s]"
     ]
    }
   ],
   "source": [
    "docs_failed = []\n",
    "\n",
    "def embed_doc(doc):\n",
    "    # Split the document into sentences\n",
    "    sentences = tokenizer.tokenize(doc)\n",
    "\n",
    "    # Compute the sentence embeddings\n",
    "    embeddings = model.encode(sentences, convert_to_tensor=True)\n",
    "\n",
    "    # Compute the pair-wise cosine similarities\n",
    "    cos_scores = util.pytorch_cos_sim(embeddings, embeddings).numpy()\n",
    "\n",
    "    # Compute the centrality for each sentence\n",
    "    try:\n",
    "        centrality_scores = degree_centrality_scores(cos_scores, threshold=None)\n",
    "    except Exception as ex:\n",
    "        print('Failed to calculate eigenvector - returning whole doc embedding')\n",
    "        docs_failed.append(doc)\n",
    "        return model.encode(doc, convert_to_tensor=True)\n",
    "\n",
    "    # We argsort so that the first element is the sentence with the highest score\n",
    "    most_central_sentence_indices = np.argsort(-centrality_scores)\n",
    "\n",
    "    # Return mean embedding of top 5 sentences\n",
    "    best_embeddings = [e for i, e in enumerate(embeddings) if i in most_central_sentence_indices[:5]]\n",
    "    \n",
    "    mean_embedding = torch.mean(torch.stack(best_embeddings), dim=0)\n",
    "\n",
    "    return mean_embedding\n",
    "\n",
    "embeddings_all = [embed_doc(doc) for doc in tqdm(docs)]"
   ]
  },
  {
   "cell_type": "code",
   "execution_count": null,
   "metadata": {},
   "outputs": [],
   "source": [
    "with open(f'{model_path}embeddings-lexrank.pkl', \"wb\") as fOut:\n",
    "    pickle.dump(embeddings_all, fOut, protocol=pickle.HIGHEST_PROTOCOL)"
   ]
  }
 ],
 "metadata": {
  "kernelspec": {
   "display_name": "Python 3.8.8 64-bit",
   "language": "python",
   "name": "python388jvsc74a57bd04c5c8db328c264de2407c70dad8cea85c5f3b5b9d4ef25d8020199a954a0aca6"
  },
  "language_info": {
   "name": "python",
   "version": ""
  },
  "orig_nbformat": 2
 },
 "nbformat": 4,
 "nbformat_minor": 2
}
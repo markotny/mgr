{
  "cells": [
    {
      "cell_type": "code",
      "execution_count": null,
      "metadata": {
        "id": "kEmX2xtTVlMc"
      },
      "outputs": [],
      "source": [
        "from sentence_transformers import SentenceTransformer, util\n",
        "from LexRank import degree_centrality_scores\n",
        "from tqdm import tqdm\n",
        "import nltk\n",
        "import pandas as pd\n",
        "import numpy as np\n",
        "import torch\n",
        "import pickle\n",
        "import os"
      ]
    },
    {
      "cell_type": "code",
      "execution_count": null,
      "metadata": {
        "id": "NnRyrkLhVlMg"
      },
      "outputs": [],
      "source": [
        "model_path='/data/models/iii/'"
      ]
    },
    {
      "cell_type": "code",
      "execution_count": null,
      "metadata": {
        "colab": {
          "base_uri": "https://localhost:8080/"
        },
        "id": "ZIxSlzFWVlMl",
        "outputId": "b6190bd6-661f-4082-834e-aa9607acc400"
      },
      "outputs": [
        {
          "name": "stdout",
          "output_type": "stream",
          "text": [
            "[nltk_data] Downloading package punkt to /root/nltk_data...\n",
            "[nltk_data]   Unzipping tokenizers/punkt.zip.\n"
          ]
        }
      ],
      "source": [
        "nltk.download('punkt')\n",
        "tokenizer = nltk.data.load('tokenizers/punkt/polish.pickle')"
      ]
    },
    {
      "cell_type": "code",
      "execution_count": null,
      "metadata": {
        "id": "PtlPMwbNVlMm"
      },
      "outputs": [],
      "source": [
        "df = pd.read_csv(f'{model_path}iii.csv', index_col=0, na_filter=False)"
      ]
    },
    {
      "cell_type": "code",
      "execution_count": null,
      "metadata": {
        "colab": {
          "base_uri": "https://localhost:8080/"
        },
        "id": "LJpnJRH05icB",
        "outputId": "70358d1c-cf5e-40ab-95ad-91c9fc6c8865"
      },
      "outputs": [
        {
          "name": "stderr",
          "output_type": "stream",
          "text": [
            "/usr/local/lib/python3.7/dist-packages/sklearn/base.py:318: UserWarning: Trying to unpickle estimator TfidfTransformer from version 0.24.1 when using version 0.22.2.post1. This might lead to breaking code or invalid results. Use at your own risk.\n",
            "  UserWarning)\n",
            "/usr/local/lib/python3.7/dist-packages/sklearn/base.py:318: UserWarning: Trying to unpickle estimator TfidfVectorizer from version 0.24.1 when using version 0.22.2.post1. This might lead to breaking code or invalid results. Use at your own risk.\n",
            "  UserWarning)\n"
          ]
        }
      ],
      "source": [
        "tfidf_vectorizer = pickle.load(open(f'{model_path}tfidf-vectorizer-iii.pkl', \"rb\"))\n",
        "len_coef_popt = pickle.load(open(f'{model_path}tfidf-coef-popt.pkl', \"rb\"))\n",
        "\n",
        "def len_coef(len, a,b,c,d):\n",
        "    return a*np.power(b*len,c)+d"
      ]
    },
    {
      "cell_type": "code",
      "execution_count": null,
      "metadata": {
        "colab": {
          "base_uri": "https://localhost:8080/",
          "height": 66,
          "referenced_widgets": [
            "5ddd1977d0c241938f253a3eb6ef278d",
            "5010306f76854eeea9654589fc64b230",
            "ae83dff634f2440eb9a514a157713697",
            "515745e9b4074af491137569e930987f",
            "b0fd4d00cb594990b30e0d95a829d100",
            "cb7b003557dc4dc6846ff52d0415fae7",
            "0f07ae975f33454c87df51d8948dc228",
            "90c7ac0addd441b788ec3c0961509e1e"
          ]
        },
        "id": "Qk9Hgy7sVlMo",
        "outputId": "340c48f9-f72a-4217-f1ef-814a3f6fb684"
      },
      "outputs": [
        {
          "data": {
            "application/vnd.jupyter.widget-view+json": {
              "model_id": "5ddd1977d0c241938f253a3eb6ef278d",
              "version_major": 2,
              "version_minor": 0
            },
            "text/plain": [
              "HBox(children=(FloatProgress(value=0.0, max=1014059776.0), HTML(value='')))"
            ]
          },
          "metadata": {
            "tags": []
          },
          "output_type": "display_data"
        },
        {
          "name": "stdout",
          "output_type": "stream",
          "text": [
            "\n"
          ]
        }
      ],
      "source": [
        "model = SentenceTransformer('xlm-r-distilroberta-base-paraphrase-v1')"
      ]
    },
    {
      "cell_type": "code",
      "execution_count": null,
      "metadata": {
        "id": "jbcDPvAf5f53"
      },
      "outputs": [],
      "source": [
        "top_count = 3\n",
        "\n",
        "def tf_idf_scores(sentences, embeddings):\n",
        "    tf_idf = tfidf_vectorizer.transform(sentences)\n",
        "    \n",
        "    sums = tf_idf.sum(axis=1).A1\n",
        "    counts = len_coef(tf_idf.getnnz(axis=1), *len_coef_popt)\n",
        "    scores = np.divide(sums, counts, out=np.zeros_like(sums), where=counts>5)\n",
        "    \n",
        "    i_scores = np.argsort(-scores)\n",
        "\n",
        "    weighted = embeddings * torch.from_numpy(scores).cuda()[:,None]\n",
        "    top = [embeddings[i] for i in i_scores[:top_count]]\n",
        "    \n",
        "    weighted = torch.div(torch.sum(weighted, axis=0), np.sum(scores))\n",
        "    top = torch.mean(torch.stack(top), dim=0)\n",
        "    top1 = embeddings[i_scores[0]]\n",
        "\n",
        "    return weighted, top, top1\n",
        "\n",
        "def lexrank_scores(embeddings):\n",
        "    cos_scores = util.pytorch_cos_sim(embeddings, embeddings).cpu().numpy()\n",
        "    \n",
        "    centrality_scores = degree_centrality_scores(cos_scores, threshold=None)\n",
        "    \n",
        "    if np.any(np.isinf(centrality_scores)) or np.any(np.isnan(centrality_scores)):\n",
        "        raise Exception()\n",
        "    \n",
        "    weighted = embeddings * torch.from_numpy(centrality_scores).cuda()[:,None]\n",
        "\n",
        "    i_scores = np.argsort(-centrality_scores)\n",
        "\n",
        "    top = [embeddings[i] for i in i_scores[:top_count] if centrality_scores[i] >= 1.0]\n",
        "\n",
        "    if len(top) == 0:\n",
        "        top = [embeddings[i] for i in i_scores[:top_count]]\n",
        "    \n",
        "    weighted = torch.div(torch.sum(weighted, axis=0), np.sum(centrality_scores))\n",
        "    top = torch.mean(torch.stack(top), dim=0)\n",
        "    top1 = embeddings[i_scores[0]]\n",
        "\n",
        "    return weighted, top, top1"
      ]
    },
    {
      "cell_type": "code",
      "execution_count": null,
      "metadata": {
        "id": "o3yvBnVmrVTL"
      },
      "outputs": [],
      "source": [
        "def embed_doc(doc):\n",
        "    sentences = [sentence for sentence in tokenizer.tokenize(doc) if len(sentence) > 20]\n",
        "\n",
        "    if len(sentences) == 0:\n",
        "        fallback = model.encode(doc, convert_to_tensor=True)\n",
        "        return (fallback,) * 6\n",
        "\n",
        "    embeddings = model.encode(sentences, convert_to_tensor=True)\n",
        "\n",
        "    embeddings_tfidf = tf_idf_scores(sentences, embeddings)\n",
        "    try:\n",
        "        embeddings_lexrank = lexrank_scores(embeddings)\n",
        "    except Exception as ex:\n",
        "        fallback = model.encode(' '.join(sentences), convert_to_tensor=True)\n",
        "        embeddings_lexrank = (fallback,) * 3\n",
        "\n",
        "    return (*embeddings_tfidf, *embeddings_lexrank)\n",
        "  \n",
        "def save_embeddings(emb, kad, name):\n",
        "    emb_np = np.asarray([x.cpu().numpy() for x in emb])\n",
        "\n",
        "    filename = f'{model_path}{kad}/{name}.pkl' \n",
        "\n",
        "    os.makedirs(os.path.dirname(filename), exist_ok=True)\n",
        "\n",
        "    pickle.dump(emb_np, open(filename, \"wb\"))"
      ]
    },
    {
      "cell_type": "code",
      "execution_count": null,
      "metadata": {
        "colab": {
          "base_uri": "https://localhost:8080/"
        },
        "id": "HFgK4aAYA8ph",
        "outputId": "793db5a5-6f88-4142-f35a-dc99f36a84bb"
      },
      "outputs": [
        {
          "name": "stderr",
          "output_type": "stream",
          "text": [
            "100%|██████████| 44873/44873 [1:04:25<00:00, 11.61it/s]\n"
          ]
        },
        {
          "name": "stdout",
          "output_type": "stream",
          "text": [
            " saving kad 8\n"
          ]
        }
      ],
      "source": [
        "for kad, group in df.groupby(by=\"kad\"):\n",
        "    embeddings = list(zip(*[embed_doc(doc) for doc in tqdm(group.text.to_list(), position=0, leave=True)]))\n",
        "\n",
        "    print(' saving kad', kad)\n",
        "    save_embeddings(embeddings[0], kad, 'tfidf-weighted')\n",
        "    save_embeddings(embeddings[1], kad, f'tfidf-top{top_count}')\n",
        "    save_embeddings(embeddings[2], kad, 'tfidf-top1')\n",
        "    save_embeddings(embeddings[3], kad, 'lexrank-weighted')\n",
        "    save_embeddings(embeddings[4], kad, f'lexrank-top{top_count}')\n",
        "    save_embeddings(embeddings[5], kad, 'lexrank-top1')"
      ]
    },
    {
      "cell_type": "markdown",
      "metadata": {
        "id": "3Wmr-xi3Vx4E"
      },
      "source": [
        "# Sentence coef"
      ]
    },
    {
      "cell_type": "code",
      "execution_count": null,
      "metadata": {
        "id": "YubbH6nDWAcy"
      },
      "outputs": [],
      "source": [
        "from scipy.optimize import curve_fit\n",
        "from multiprocessing import Pool, cpu_count\n",
        "import matplotlib.pyplot as plt"
      ]
    },
    {
      "cell_type": "code",
      "execution_count": null,
      "metadata": {
        "id": "qFdcox4ouF_r"
      },
      "outputs": [],
      "source": [
        "def tfidf_scores(doc):\n",
        "    sentences = [sentence for sentence in tokenizer.tokenize(doc) if len(sentence) > 20]\n",
        "\n",
        "    tf_idf = tfidf_vectorizer.transform(sentences)\n",
        "\n",
        "    sums = tf_idf.sum(axis=1).A1\n",
        "    counts = tf_idf.getnnz(axis=1)\n",
        "\n",
        "    return [x for x in zip(counts, sums) if x[0] > 0]"
      ]
    },
    {
      "cell_type": "code",
      "execution_count": null,
      "metadata": {
        "colab": {
          "base_uri": "https://localhost:8080/"
        },
        "id": "NYdVhGiVua7Q",
        "outputId": "c56225c6-256a-42f7-b8cd-808c3d1aa7ff"
      },
      "outputs": [
        {
          "name": "stderr",
          "output_type": "stream",
          "text": [
            "100%|██████████| 291415/291415 [2:12:50<00:00, 36.56it/s]\n"
          ]
        }
      ],
      "source": [
        "total = 291415\n",
        "\n",
        "with Pool(cpu_count()) as p:\n",
        "    result = [x for y in list(tqdm(p.imap(tfidf_scores, df.text.to_list()), total=total, position=0, leave=True)) for x in y]"
      ]
    },
    {
      "cell_type": "code",
      "execution_count": null,
      "metadata": {
        "id": "TpHc7cb2WpXw"
      },
      "outputs": [],
      "source": [
        "x,y = zip(*sorted(result, key=lambda r: r[0]))\n",
        "x = np.asarray(x)\n",
        "y = np.asarray(y)"
      ]
    },
    {
      "cell_type": "code",
      "execution_count": null,
      "metadata": {
        "colab": {
          "base_uri": "https://localhost:8080/"
        },
        "id": "MP0eBCMCW6s6",
        "outputId": "edaadd4f-7be2-45d5-d274-6df9c347b5a8"
      },
      "outputs": [
        {
          "name": "stderr",
          "output_type": "stream",
          "text": [
            "/usr/local/lib/python3.7/dist-packages/ipykernel_launcher.py:2: RuntimeWarning: invalid value encountered in power\n",
            "  \n"
          ]
        }
      ],
      "source": [
        "def len_coef(len, a,b,c,d):\n",
        "    return a*np.power(b*len,c)+d\n",
        "\n",
        "popt, _ = curve_fit(len_coef,  x,  y)"
      ]
    },
    {
      "cell_type": "code",
      "execution_count": null,
      "metadata": {
        "id": "7STCtwTW7vKg"
      },
      "outputs": [],
      "source": [
        "y_norm = y / len_coef(x, *popt)"
      ]
    },
    {
      "cell_type": "code",
      "execution_count": null,
      "metadata": {
        "colab": {
          "base_uri": "https://localhost:8080/",
          "height": 487
        },
        "id": "XebMufFvYTR9",
        "outputId": "674db873-bacd-4dbc-c7aa-c6a59a1983cd"
      },
      "outputs": [
        {
          "data": {
            "image/png": "[encoded data removed]",
            "text/plain": [
              "<Figure size 1728x576 with 2 Axes>"
            ]
          },
          "metadata": {
            "needs_background": "light",
            "tags": []
          },
          "output_type": "display_data"
        }
      ],
      "source": [
        "fig, (ax1, ax2) = plt.subplots(1, 2, figsize=(24,8))\n",
        "\n",
        "ax1.scatter(x, y)\n",
        "ax1.plot(x, len_coef(x, *popt), 'r-')\n",
        "\n",
        "ax2.scatter(x, y_norm)\n",
        "\n",
        "fig.show()"
      ]
    },
    {
      "cell_type": "code",
      "execution_count": null,
      "metadata": {
        "colab": {
          "base_uri": "https://localhost:8080/"
        },
        "id": "roxqLKc2OI9h",
        "outputId": "2b0b71d5-39ef-427a-80e3-19488ad574f3"
      },
      "outputs": [
        {
          "data": {
            "text/plain": [
              "array([ 0.90739735,  1.22882882,  0.48556537, -0.06485649])"
            ]
          },
          "execution_count": 22,
          "metadata": {
            "tags": []
          },
          "output_type": "execute_result"
        }
      ],
      "source": [
        "popt"
      ]
    },
    {
      "cell_type": "code",
      "execution_count": null,
      "metadata": {
        "id": "3WDSucJMOBAL"
      },
      "outputs": [],
      "source": [
        "with open(f'{model_path}tfidf-coef-popt.pkl', \"wb\") as f:\n",
        "    pickle.dump(popt, f)"
      ]
    },
    {
      "cell_type": "code",
      "execution_count": null,
      "metadata": {
        "id": "Qxk_mJQLMfXb"
      },
      "outputs": [],
      "source": [
        "with open(f'{model_path}tfidf-coef.pkl', \"wb\") as f:\n",
        "    pickle.dump(x, f)\n",
        "    pickle.dump(y, f)\n",
        "    # x = pickle.load(f)\n",
        "    # y = pickle.load(f)\n"
      ]
    }
  ],
  "metadata": {
    "accelerator": "GPU",
    "colab": {
      "collapsed_sections": [],
      "name": "Copy of embeddings.ipynb",
      "provenance": [],
      "toc_visible": true
    },
    "kernelspec": {
      "display_name": "Python 3.8.8 64-bit ('dash-elk': conda)",
      "name": "python388jvsc74a57bd0d1d681f4305f1255ac663c15d05f8c35ebb140d52bd435c8c2dc01f94f8fa81b"
    },
    "language_info": {
      "name": "python",
      "version": ""
    },
    "widgets": {
      "application/vnd.jupyter.widget-state+json": {
        "0f07ae975f33454c87df51d8948dc228": {
          "model_module": "@jupyter-widgets/controls",
          "model_name": "DescriptionStyleModel",
          "state": {
            "_model_module": "@jupyter-widgets/controls",
            "_model_module_version": "1.5.0",
            "_model_name": "DescriptionStyleModel",
            "_view_count": null,
            "_view_module": "@jupyter-widgets/base",
            "_view_module_version": "1.2.0",
            "_view_name": "StyleView",
            "description_width": ""
          }
        },
        "5010306f76854eeea9654589fc64b230": {
          "model_module": "@jupyter-widgets/base",
          "model_name": "LayoutModel",
          "state": {
            "_model_module": "@jupyter-widgets/base",
            "_model_module_version": "1.2.0",
            "_model_name": "LayoutModel",
            "_view_count": null,
            "_view_module": "@jupyter-widgets/base",
            "_view_module_version": "1.2.0",
            "_view_name": "LayoutView",
            "align_content": null,
            "align_items": null,
            "align_self": null,
            "border": null,
            "bottom": null,
            "display": null,
            "flex": null,
            "flex_flow": null,
            "grid_area": null,
            "grid_auto_columns": null,
            "grid_auto_flow": null,
            "grid_auto_rows": null,
            "grid_column": null,
            "grid_gap": null,
            "grid_row": null,
            "grid_template_areas": null,
            "grid_template_columns": null,
            "grid_template_rows": null,
            "height": null,
            "justify_content": null,
            "justify_items": null,
            "left": null,
            "margin": null,
            "max_height": null,
            "max_width": null,
            "min_height": null,
            "min_width": null,
            "object_fit": null,
            "object_position": null,
            "order": null,
            "overflow": null,
            "overflow_x": null,
            "overflow_y": null,
            "padding": null,
            "right": null,
            "top": null,
            "visibility": null,
            "width": null
          }
        },
        "515745e9b4074af491137569e930987f": {
          "model_module": "@jupyter-widgets/controls",
          "model_name": "HTMLModel",
          "state": {
            "_dom_classes": [],
            "_model_module": "@jupyter-widgets/controls",
            "_model_module_version": "1.5.0",
            "_model_name": "HTMLModel",
            "_view_count": null,
            "_view_module": "@jupyter-widgets/controls",
            "_view_module_version": "1.5.0",
            "_view_name": "HTMLView",
            "description": "",
            "description_tooltip": null,
            "layout": "IPY_MODEL_90c7ac0addd441b788ec3c0961509e1e",
            "placeholder": "​",
            "style": "IPY_MODEL_0f07ae975f33454c87df51d8948dc228",
            "value": " 1.01G/1.01G [00:50&lt;00:00, 20.3MB/s]"
          }
        },
        "5ddd1977d0c241938f253a3eb6ef278d": {
          "model_module": "@jupyter-widgets/controls",
          "model_name": "HBoxModel",
          "state": {
            "_dom_classes": [],
            "_model_module": "@jupyter-widgets/controls",
            "_model_module_version": "1.5.0",
            "_model_name": "HBoxModel",
            "_view_count": null,
            "_view_module": "@jupyter-widgets/controls",
            "_view_module_version": "1.5.0",
            "_view_name": "HBoxView",
            "box_style": "",
            "children": [
              "IPY_MODEL_ae83dff634f2440eb9a514a157713697",
              "IPY_MODEL_515745e9b4074af491137569e930987f"
            ],
            "layout": "IPY_MODEL_5010306f76854eeea9654589fc64b230"
          }
        },
        "90c7ac0addd441b788ec3c0961509e1e": {
          "model_module": "@jupyter-widgets/base",
          "model_name": "LayoutModel",
          "state": {
            "_model_module": "@jupyter-widgets/base",
            "_model_module_version": "1.2.0",
            "_model_name": "LayoutModel",
            "_view_count": null,
            "_view_module": "@jupyter-widgets/base",
            "_view_module_version": "1.2.0",
            "_view_name": "LayoutView",
            "align_content": null,
            "align_items": null,
            "align_self": null,
            "border": null,
            "bottom": null,
            "display": null,
            "flex": null,
            "flex_flow": null,
            "grid_area": null,
            "grid_auto_columns": null,
            "grid_auto_flow": null,
            "grid_auto_rows": null,
            "grid_column": null,
            "grid_gap": null,
            "grid_row": null,
            "grid_template_areas": null,
            "grid_template_columns": null,
            "grid_template_rows": null,
            "height": null,
            "justify_content": null,
            "justify_items": null,
            "left": null,
            "margin": null,
            "max_height": null,
            "max_width": null,
            "min_height": null,
            "min_width": null,
            "object_fit": null,
            "object_position": null,
            "order": null,
            "overflow": null,
            "overflow_x": null,
            "overflow_y": null,
            "padding": null,
            "right": null,
            "top": null,
            "visibility": null,
            "width": null
          }
        },
        "ae83dff634f2440eb9a514a157713697": {
          "model_module": "@jupyter-widgets/controls",
          "model_name": "FloatProgressModel",
          "state": {
            "_dom_classes": [],
            "_model_module": "@jupyter-widgets/controls",
            "_model_module_version": "1.5.0",
            "_model_name": "FloatProgressModel",
            "_view_count": null,
            "_view_module": "@jupyter-widgets/controls",
            "_view_module_version": "1.5.0",
            "_view_name": "ProgressView",
            "bar_style": "success",
            "description": "100%",
            "description_tooltip": null,
            "layout": "IPY_MODEL_cb7b003557dc4dc6846ff52d0415fae7",
            "max": 1014059776,
            "min": 0,
            "orientation": "horizontal",
            "style": "IPY_MODEL_b0fd4d00cb594990b30e0d95a829d100",
            "value": 1014059776
          }
        },
        "b0fd4d00cb594990b30e0d95a829d100": {
          "model_module": "@jupyter-widgets/controls",
          "model_name": "ProgressStyleModel",
          "state": {
            "_model_module": "@jupyter-widgets/controls",
            "_model_module_version": "1.5.0",
            "_model_name": "ProgressStyleModel",
            "_view_count": null,
            "_view_module": "@jupyter-widgets/base",
            "_view_module_version": "1.2.0",
            "_view_name": "StyleView",
            "bar_color": null,
            "description_width": "initial"
          }
        },
        "cb7b003557dc4dc6846ff52d0415fae7": {
          "model_module": "@jupyter-widgets/base",
          "model_name": "LayoutModel",
          "state": {
            "_model_module": "@jupyter-widgets/base",
            "_model_module_version": "1.2.0",
            "_model_name": "LayoutModel",
            "_view_count": null,
            "_view_module": "@jupyter-widgets/base",
            "_view_module_version": "1.2.0",
            "_view_name": "LayoutView",
            "align_content": null,
            "align_items": null,
            "align_self": null,
            "border": null,
            "bottom": null,
            "display": null,
            "flex": null,
            "flex_flow": null,
            "grid_area": null,
            "grid_auto_columns": null,
            "grid_auto_flow": null,
            "grid_auto_rows": null,
            "grid_column": null,
            "grid_gap": null,
            "grid_row": null,
            "grid_template_areas": null,
            "grid_template_columns": null,
            "grid_template_rows": null,
            "height": null,
            "justify_content": null,
            "justify_items": null,
            "left": null,
            "margin": null,
            "max_height": null,
            "max_width": null,
            "min_height": null,
            "min_width": null,
            "object_fit": null,
            "object_position": null,
            "order": null,
            "overflow": null,
            "overflow_x": null,
            "overflow_y": null,
            "padding": null,
            "right": null,
            "top": null,
            "visibility": null,
            "width": null
          }
        }
      }
    }
  },
  "nbformat": 4,
  "nbformat_minor": 0
}
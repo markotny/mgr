{
 "cells": [
  {
   "cell_type": "code",
   "execution_count": 1,
   "metadata": {},
   "outputs": [],
   "source": [
    "from sentence_transformers import SentenceTransformer, util\n",
    "from LexRank import degree_centrality_scores\n",
    "from tqdm import tqdm\n",
    "import nltk\n",
    "import pandas as pd\n",
    "import numpy as np\n",
    "import torch\n",
    "import pickle"
   ]
  },
  {
   "cell_type": "code",
   "execution_count": 2,
   "metadata": {},
   "outputs": [],
   "source": [
    "model_path='/media/marcin/Dane/model/'\n",
    "# model_path='model/'"
   ]
  },
  {
   "cell_type": "code",
   "execution_count": null,
   "metadata": {},
   "outputs": [
    {
     "ename": "Error",
     "evalue": "Session cannot generate requests",
     "output_type": "error",
     "traceback": [
      "Error: Session cannot generate requests",
      "at w.executeCodeCell (/home/marcin/.vscode-insiders/extensions/ms-toolsai.jupyter-2021.5.702919634/out/client/extension.js:49:635467)",
      "at w.execute (/home/marcin/.vscode-insiders/extensions/ms-toolsai.jupyter-2021.5.702919634/out/client/extension.js:49:634856)",
      "at w.start (/home/marcin/.vscode-insiders/extensions/ms-toolsai.jupyter-2021.5.702919634/out/client/extension.js:49:629765)",
      "at runMicrotasks (<anonymous>)",
      "at processTicksAndRejections (internal/process/task_queues.js:97:5)",
      "at async t.CellExecutionQueue.executeQueuedCells (/home/marcin/.vscode-insiders/extensions/ms-toolsai.jupyter-2021.5.702919634/out/client/extension.js:49:644951)",
      "at async t.CellExecutionQueue.start (/home/marcin/.vscode-insiders/extensions/ms-toolsai.jupyter-2021.5.702919634/out/client/extension.js:49:644491)"
     ]
    }
   ],
   "source": [
    "import psutil\n",
    "psutil.virtual_memory()"
   ]
  },
  {
   "cell_type": "code",
   "execution_count": 3,
   "metadata": {},
   "outputs": [
    {
     "name": "stderr",
     "output_type": "stream",
     "text": [
      "[nltk_data] Downloading package punkt to /home/marcin/nltk_data...\n",
      "[nltk_data]   Package punkt is already up-to-date!\n"
     ]
    }
   ],
   "source": [
    "nltk.download('punkt')\n",
    "tokenizer = nltk.data.load('tokenizers/punkt/polish.pickle')"
   ]
  },
  {
   "cell_type": "code",
   "execution_count": 4,
   "metadata": {},
   "outputs": [],
   "source": [
    "df = pd.read_csv('parsed/corpus/all.csv', index_col=0, na_filter=False)\n",
    "docs = df.text.to_list()"
   ]
  },
  {
   "cell_type": "code",
   "execution_count": 5,
   "metadata": {},
   "outputs": [],
   "source": [
    "model = SentenceTransformer('xlm-r-distilroberta-base-paraphrase-v1')"
   ]
  },
  {
   "cell_type": "code",
   "execution_count": 6,
   "metadata": {},
   "outputs": [],
   "source": [
    "corpus2015 = df[df.rok == '2015']\n",
    "docs2015 = corpus2015.text.to_list()"
   ]
  },
  {
   "cell_type": "code",
   "execution_count": 7,
   "metadata": {},
   "outputs": [
    {
     "name": "stderr",
     "output_type": "stream",
     "text": [
      "  0%|          | 0/41930 [00:00<?, ?it/s]"
     ]
    }
   ],
   "source": [
    "def embed_doc(doc):\n",
    "    # Split the document into sentences\n",
    "    sentences = tokenizer.tokenize(doc)\n",
    "\n",
    "    # Compute the sentence embeddings\n",
    "    embeddings = model.encode(sentences, convert_to_tensor=True)\n",
    "\n",
    "    # Compute the pair-wise cosine similarities\n",
    "    cos_scores = util.pytorch_cos_sim(embeddings, embeddings).numpy()\n",
    "\n",
    "    # Compute the centrality for each sentence\n",
    "    centrality_scores = degree_centrality_scores(cos_scores, threshold=None)\n",
    "\n",
    "    # We argsort so that the first element is the sentence with the highest score\n",
    "    most_central_sentence_indices = np.argsort(-centrality_scores)\n",
    "\n",
    "    # Return mean embedding of top 5 sentences\n",
    "    best_embeddings = [e for i, e in enumerate(embeddings) if i in most_central_sentence_indices[:5]]\n",
    "    \n",
    "    mean_embedding = torch.mean(torch.stack(best_embeddings), dim=0)\n",
    "\n",
    "    return mean_embedding\n",
    "\n",
    "embeddings2015 = [embed_doc(doc) for doc in tqdm(docs2015)]"
   ]
  },
  {
   "cell_type": "code",
   "execution_count": null,
   "metadata": {},
   "outputs": [],
   "source": [
    "with open(f'{model_path}embeddings-lexrank-2015.pkl', \"wb\") as fOut:\n",
    "    pickle.dump(embeddings2015, fOut, protocol=pickle.HIGHEST_PROTOCOL)"
   ]
  },
  {
   "cell_type": "code",
   "execution_count": 81,
   "metadata": {},
   "outputs": [
    {
     "data": {
      "text/plain": "torch.Size([299, 768])"
     },
     "execution_count": 81,
     "metadata": {},
     "output_type": "execute_result"
    }
   ],
   "source": [
    "embeddings.shape"
   ]
  },
  {
   "cell_type": "code",
   "execution_count": 83,
   "metadata": {},
   "outputs": [],
   "source": [
    "best_embeddings = [e for i, e in enumerate(embeddings) if i in most_central_sentence_indices[:5]]"
   ]
  },
  {
   "cell_type": "code",
   "execution_count": 101,
   "metadata": {},
   "outputs": [
    {
     "data": {
      "text/plain": "torch.Size([299, 768])"
     },
     "execution_count": 101,
     "metadata": {},
     "output_type": "execute_result"
    }
   ],
   "source": [
    "embeddings.shape"
   ]
  },
  {
   "cell_type": "code",
   "execution_count": 102,
   "metadata": {},
   "outputs": [],
   "source": [
    "mean_embedding = torch.mean(torch.stack(best_embeddings), dim=0)"
   ]
  },
  {
   "cell_type": "code",
   "execution_count": 82,
   "metadata": {},
   "outputs": [
    {
     "name": "stdout",
     "output_type": "stream",
     "text": [
      "Summary:\n",
      "1.4220720242853406 W związku z tym, proszę państwa, że zależy nam na określonym uczniu, tak jak i państwu, tak jak rodzicom, uczeń ma posiadać kilka kompetencji tych najbardziej podstawowych.\n",
      "1.4045924258226286 Proszę państwa, mówimy o 4-letnim liceum, bo taka jest konieczność, bo tak tylko możemy mówić o wykształceniu naszych obywateli, dlatego że ostatnia zmiana podstawy programowej - wprowadzana właściwie z miesiąca na miesiąc, proszę sobie przypomnieć daty - doprowadziła do tego, że mamy 4-letnie gimnazjum, kończymy podstawę programową gimnazjum w I klasie, a liceum jest półtorarocznym kursem przygotowującym do matury.\n",
      "1.4039751338627113 Dlatego, proszę państwa, mówimy o zmniejszeniu obwodów szkół.\n",
      "1.3734664624078194 Jednocześnie, proszę państwa, mówimy o czytaniu, o tym, że rzeczywiście będziemy to czytanie wzmacniać różnymi projektami, na które są oczywiście pieniądze, ale również poprzez podstawy programowe i czytanie dzieciom w szkole.\n",
      "1.3681254541205499 Tam oczywiście nawet potrafią być oddziały przedszkolne, bo jest taka potrzeba, żeby rzeczywiście młodzi ludzie za siebie wzajemnie odpowiadali.\n",
      "1.361783923668623 Jednocześnie, proszę państwa, jeżeli chodzi o gimnazja, te 2080 czy gimnazja w ogóle w zespołach - musimy oczywiście patrzeć na to w całości - to jest tam o 33% mniej dzieci, o 12% zwiększyła się liczba gimnazjów.\n",
      "1.3601639766581406 Przypominam, że gimnazja miały być wyrównywaniem szans.\n",
      "1.3585890237724187 Oczywiście, proszę państwa, wzmacniamy rolę wychowawczą szkoły poprzez to, w jaki sposób patrzymy na zadania wychowawcy.\n",
      "1.3569261463213884 I tu dotykamy, proszę państwa, kolejnego przebadanego problemu, który również wybrzmiał i który zapisany jest w Prawie oświatowym: małe szkoły.\n",
      "1.3523651970830792 I rzeczywiście nad tym musimy się wszyscy pochylić, bo każdy z nas ma dzieci, sam chodził do szkoły, wie, po co ta szkoła jest.\n",
      "1.347085033387207 W związku z tym dostosowanie sali, tak żeby kupić tam krzesełka, ławeczki, zrobić małe toalety, bo rozumiem, sprawdziliśmy to, w każdej szkole jest kanalizacja... ...więc nie trzeba będzie dokonywać dużych inwestycji, będzie trzeba wymienić toalety, regały biblioteczne plus oczywiście fragmenty w świetlicy, które będą przystosowane dla małych dzieci.\n",
      "1.3386148051010949 Chodzi o to, żeby nie zmniejszyć, ale zwiększyć liczbę lat kształcenia ogólnego.\n",
      "1.333058853570568 Jednocześnie, proszę państwa, mówimy o tym, o czym mówią rodzice, nauczyciele, nawet w przestrzeni medialnej pojawiło się takie ubolewanie, że skoro nie ma egzaminu po VI klasie, to właściwie nie ma czego uczyć w VI klasie.\n",
      "1.332871137834921 Zdążymy, sześciolatek zostanie objęty subwencją oświatową, co zresztą znakomicie poprawia wskaźniki samorządów.\n",
      "1.3291500423946454 Jednocześnie mówimy, proszę państwa, o tym, że musi wrócić kształcenie ogólne.\n",
      "1.326564607597591 W związku z tym rzeczywiście stwórzmy szkołę, w której dzieci będą chętnie przebywać.\n",
      "1.324216721684063 Zostaną tak zorganizowane, żeby jeszcze intensywniej zadbać o dzieci, żeby rzeczywiście szkoła podstawowa od I klasy... Przypominam, że dzieci w szkole sportowej od I klasy, zgodnie z rozporządzeniem, można uczyć tylko w określonych dziedzinach, bo inaczej można dzieciom zrobić krzywdę.\n",
      "1.320062467691256 Proszę państwa, po wielu latach wydatkowania ogromnych pieniędzy pracownie przedmiotowe mamy w 27% gimnazjów, tylko w 18% szkół podstawowych.\n",
      "1.3152539771038094 Jednocześnie, proszę państwa, mówimy o tym, że w polskiej szkole, w której wydaje się ogromne pieniądze na kształcenie językowe, nie może być tak, że ciągle uczy się języka od początku.\n",
      "1.3149991235808534 Jednocześnie mówimy o tym, że w ustawie wprost pojawia się innowacyjność jako zadanie szkoły.\n"
     ]
    }
   ],
   "source": [
    "#Print the 5 sentences with the highest scores\n",
    "print(\"Summary:\")\n",
    "for idx in most_central_sentence_indices[0:20]:\n",
    "    print(centrality_scores[idx], sentences[idx].strip())"
   ]
  },
  {
   "cell_type": "code",
   "execution_count": 47,
   "metadata": {},
   "outputs": [],
   "source": [
    "indexes_with_topics = [i for i, t in  enumerate(topics) if t != -1]"
   ]
  },
  {
   "cell_type": "code",
   "execution_count": null,
   "metadata": {},
   "outputs": [],
   "source": [
    "indexes_with_topics"
   ]
  },
  {
   "cell_type": "code",
   "execution_count": 59,
   "metadata": {},
   "outputs": [],
   "source": [
    "df['text_lengts'] = [len(x.split()) for x in df['text']]"
   ]
  },
  {
   "cell_type": "code",
   "execution_count": 66,
   "metadata": {},
   "outputs": [],
   "source": [
    "df_with_topics = df[df.topic != -1]"
   ]
  },
  {
   "cell_type": "code",
   "execution_count": 76,
   "metadata": {},
   "outputs": [
    {
     "data": {
      "text/plain": "'Panie Marszałku! Wysoka Izbo! Rodzice kochają swoje dzieci i płacą podatki, dlatego pragną dobrej szkoły. Szkoły, która zapewnia doskonałą jakość edukacji, która nie tylko testuje, ale wychowuje, która gwarantuje bezpieczeństwo i która daje satysfakcję nauczycielowi i radość z chodzenia do szkoły właśnie dzieciom. Tak zostało zaplanowane Prawo oświatowe, tak zostały zaplanowane przepisy wprowadzające i tak skonstruowane są systematyczne plany na przyszłość, na całą kadencję. Chcemy, proszę państwa, podnieść jakość kształcenia. Rzeczywiście bardzo często w przestrzeni medialnej słyszycie państwo o międzynarodowych badaniach, które pokazują, że piętnastolatek dobrze odtwarza. Powinniśmy być dumni z tego faktu. Rzeczywiście odtwarza matematykę, czyta, ma umiejętności przyrodnicze. Niestety tylko odtwarza. Te same międzynarodowe badania mówią jednoznacznie, że nie potrafi rozwiązywać problemów, nie współpracuje w grupie, nie potrafi zastosować prostego wzoru matematycznego, że zwyczajnie nie lubi szkoły. Nie wiem, czy państwo wiedzą, ale polski uczeń jest ostatni w Europie, jeżeli mierzymy jego przychylność wobec szkoły i jej akceptację. Jednocześnie te same międzynarodowe badania, o których państwo słyszycie w przestrzeni medialnej, tak często powtarzane, mówią jednoznacznie - polski nauczyciel, choć świetnie wykształcony, najlepiej wykształcony w Europie, nie ma satysfakcji ze swojej pracy. Jednocześnie, co również widać w międzynarodowych badaniach, jest tym, który jest w ogonie Europy, jeżeli chodzi o wykorzystywanie technologii informatycznych. Ale w jaki sposób ma wykorzystywać tę technologię informatyczną, gdy tego zwyczajnie nie ma w szkole. Kilkanaście procent szkół po wielkich, wielomilionowych projektach nazywanych ˝Cyfrową szkołą˝ - tylko kilkanaście procent szkół - ma przygotowane sale do tego, żeby rzeczywiście móc korzystać z szerokopasmowego Internetu na miarę XXI w. Podniesienie jakości szkoły to właśnie nowoczesna szkoła, gdzie będzie szerokopasmowy Internet. Razem z panią minister Streżyńską gwarantujemy każdej placówce oświatowej w ciągu 2 lat szerokopasmowy Internet. Jednocześnie mówimy, że w każdej klasie ma być - jak to już się przyjęło - aktywna tablica do tego, żeby nauczyciel w każdej chwili mógł z tych nowoczesnych narzędzi skorzystać. Zresztą wydaliśmy dziesiątki milionów złotych na e-zasoby, popularnie nazywane e-podręcznikami. Gdzież je wykorzystać, jeżeli tego sprzętu zwyczajnie nie będzie? Jednocześnie mówimy, proszę państwa, o tym, że musi wrócić kształcenie ogólne. Kształcenie ogólne, kształcenie przedmiotowe, znowu mówimy o każdym przedmiocie - o historii, o geografii, o biologii, o chemii, o fizyce, o matematyce. Nie wiem, czy państwo pamiętają, wiedzą, skąd wziął się przedmiot przyroda. Z prostego powodu. W międzynarodowych badaniach nie było biologii i chemii - była przyroda. System po raz kolejny musiał podporządkować się jednemu międzynarodowemu badaniu. Chcemy, proszę państwa, wzmocnić kształcenie ogólne, bo polski uczeń będzie uczył się o rok dłużej. Nieprawdą jest, że zostanie skrócone kształcenie ogólne. Przypominam państwu, systematycznie przypominam Komisji Europejskiej, że sześciolatek w polskim przedszkolu się uczy. Nauczyciele z radością wyciągnęli literki i jeżeli pięciolatek, czterolatek chce z tego korzystać, chce się uczyć, również ma do tego prawo. Wcześniej nauczyciel raczej uczył na tajnych kompletach. Kuratorium pilnowało, żeby edukacji rzeczywiście nie było, a nauczyciele zakładali określone karty, indywidualne... ...karty, po to żeby rzeczywiście móc wzmocnić chęć dziecka do edukacji. Jednocześnie, proszę państwa, trzeba obalić kolejną półprawdę, nieprawdę i kłamstwo: 80% rodziców zdecydowało, że dziecko uczy się w przedszkolu. Przypominam: polski uczeń będzie 13 lat w kształceniu ogólnym. Jednocześnie dotrzymaliśmy słowa, bo my zawsze dotrzymujemy słowa, szczególnie wtedy kiedy mówimy samorządom, że nakazujemy, prosimy, wnioskujemy, planujemy określone zadania. Skoro powiedzieliśmy, że sześciolatek ma uczyć się w przedszkolu - tak mówi o tym ustawa - zadeklarowaliśmy subwencję oświatową. Jak państwo śledzą plany i prace nad projektem budżetu, to widzą państwo, że sześciolatek jest w subwencji oświatowej, to 4300. Projekt poselski dotyczący zmiany ustawy o dochodach jednostek samorządu terytorialnego trafi do polskiego Sejmu. Zdążymy, sześciolatek zostanie objęty subwencją oświatową, co zresztą znakomicie poprawia wskaźniki samorządów. Przypominam państwu, że podobnie jak z 500+, kiedy było określone zadanie przyporządkowane gminie, poszły za tym konkretne pieniądze, tak i w wypadku tych zadań zapisanych w ustawie, o których mówię, również będą zaprojektowane pieniądze. Jednocześnie mówimy o tym, że w ustawie wprost pojawia się innowacyjność jako zadanie szkoły. Wreszcie - już to zrobiliśmy, będziemy to wzmacniać - nauczyciel ma prawo realizować w dowolnym rytmie i tempie podstawę programową. Wcześniej tylko sprawozdawał. Tak projektujemy podstawy programowe, które zobaczycie państwo jutro... ...tak jak mówiliśmy, tak dotrzymujemy słowa i tak ustaliliśmy ten rytm z wydawcami, którzy po raz pierwszy zjawili się w ministerstwie wszyscy, a nie wybrani, i po raz pierwszy rzeczywiście podporządkowali się, nie są w grupie piszącej podstawy programowe, bo kiedyś było tak, że mimo iż pisały się podstawy programowe, wydawnictwa były już w szkole, proponowały określone podręczniki. Mówimy o takiej realizacji podstawy programowej, która da każdemu nauczycielowi na każdej lekcji możliwość w 20% wolności i pracy projektowej, po to żeby kończyć rok szkolny świętem szkoły, po to żeby każdy z każdej lekcji, z każdego przedmiotu mógł pokazać to, co razem z grupą, razem z klasą, koleżanką zrobił, czego doświadczył, o czym dyskutował. Jednocześnie, proszę państwa, podejmujemy ogromny wysiłek i trud budowania pracowni przedmiotowych. Państwo słyszeli o tym, kiedy dyskutujemy o tych zmianach ustrojowych, jest wielkie ubolewanie nad tym, że rzeczywiście znikną pracownie przedmiotowe. Proszę państwa, po wielu latach wydatkowania ogromnych pieniędzy pracownie przedmiotowe mamy w 27% gimnazjów, tylko w 18% szkół podstawowych. Gdzie mówić o doświadczaniu, gdzie mówić o rozwijaniu, o ciekawości świata? To rzeczywiście wyzwanie i to wyzwanie, które wróci razem z nauczaniem przedmiotowym. Jednocześnie, proszę państwa, mówimy o tym, o czym mówią rodzice, nauczyciele, nawet w przestrzeni medialnej pojawiło się takie ubolewanie, że skoro nie ma egzaminu po VI klasie, to właściwie nie ma czego uczyć w VI klasie. To zdefiniowanie tego systemu: przestajemy uczyć pod testy. Test oczywiście pojawi się na egzaminie, ale będzie on tylko w połowie tego egzaminu. To rzeczywiście będzie rozwiązywanie problemu, bo trzeba odpowiedzieć na międzynarodowe badania, które właśnie na to wskazują, że tej umiejętności polski uczeń nie posiada. Jednocześnie, proszę państwa, w Prawie oświatowym macie takie rozwiązania, które przełożą się pod koniec czerwca na krajowy program, krajowy plan doskonalenia zawodowego nauczycieli. Skutecznie zdyskwalifikowaliście państwo to doskonalenie zawodowe. Rzeczywiście nauczyciel ma słabą ofertę, w dodatku nikomu na tym doskonaleniu zawodowym nie zależy. Jesteśmy jednym z nielicznych krajów w Europie, gdzie nie odpowiada się na zapotrzebowanie systemu ani na zapotrzebowanie nauczycieli. Wraca, proszę państwa, 1%, do którego jest zobowiązany samorząd, by odprowadzać środki na doskonalenie zawodowe nauczycieli. Trzeba nauczyciela wesprzeć. Nauczyciel ma świadomość, że szkoła, co wynika z międzynarodowych badań, jest na takim etapie, że trzeba być z dzieckiem, że cywilizacyjny pęd jest tak ogromny, że trzeba nadążać za dzieckiem i być nie tylko partnerem, ale przede wszystkim mistrzem, odpowiadającym również za cyfrowy świat, ten bezpieczny cyfrowy świat, który rozpoczynamy budować w szkole. Jednocześnie, proszę państwa - to jest wzmocnienie nauczania ogólnego, nauczania przedmiotowego - rodzice chcą przestać wydawać tysiące złotych rocznie na korepetycje. Proszę państwa, to nie jest problem liceum ogólnokształcącego, tylko to jest problem gimnazjum - uwaga - rodzice mówią, że już IV klasy szkoły podstawowej. To efekt tak, a nie inaczej skonstruowanej podstawy programowej, podręcznika, z którego ani nie potrafi nauczyć się dziecko, ani dzięki któremu nie pomoże mu rodzic. W związku z tym rzeczywiście jest to żmudne, wieloletnie, cierpliwe dochodzenie do takiego momentu, kiedy rzeczywiście uczeń będzie miał satysfakcję ze swojej samodzielności. Teraz bardzo często nie z jego powodu jest mu to odebrane. Jednocześnie, proszę państwa, mówimy o tym, że w polskiej szkole, w której wydaje się ogromne pieniądze na kształcenie językowe, nie może być tak, że ciągle uczy się języka od początku. To również etapowość, to, że my co 3 lata przerywamy edukację, powoduje, że wydajemy miliardy złotych na języki obce, a rodzice i tak równolegle wydają pieniądze, płacąc za prywatne lekcje, zapisując do różnych akademii językowych. Proszę się nie martwić, bo to też wybrzmiało w przestrzeni publicznej, dwujęzyczność została utrzymana. Klasy sportowe, mistrzostwa sportowego zostały utrzymane. Zostaną tak zorganizowane, żeby jeszcze intensywniej zadbać o dzieci, żeby rzeczywiście szkoła podstawowa od I klasy... Przypominam, że dzieci w szkole sportowej od I klasy, zgodnie z rozporządzeniem, można uczyć tylko w określonych dziedzinach, bo inaczej można dzieciom zrobić krzywdę. A więc szkoły sportowe będą mogły być w zespołach, tak jak do tej pory, szkoły mistrzostwa sportowego. W Prawie oświatowym zabezpieczyliśmy, jeżeli chodzi o kontakt z dyrektorami szkół sportowych, szkół z oddziałami sportowymi, każde rozwiązanie, każdy wysiłek tych, którzy od bardzo wielu lat pracowali nad swoją renomą. Wzmacniamy to Prawem oświatowym. Jednocześnie mówimy o tym, że chcemy, proszę państwa, żeby nauczyciele rzeczywiście odczuwali satysfakcję ze swojej pracy, żeby byli razem z uczniem, żeby się doskonalili zawodowo. Proszę zauważyć, przeczytać w Prawie oświatowym, że bardzo wzmacniamy ośrodki doskonalenia zawodowego. 430 placówek uczy polskich nauczycieli, średnio się do tego przykładając. Proszę zobaczyć, że po prostu trzeba będzie mieć akredytację. Proszę państwa, to wynika z badań, tych badań, o których państwo mówią, na które państwo się powołują. Mało tego, najwięksi moi krytycy, najwięksi krytycy reformy, z którą przecież Prawo i Sprawiedliwość szło do wyborów, wskazują, że mam rację, że nie ma 4-letniego liceum, że nie ma szkoły zawodowej, a uczniowie i nauczyciele szkół podstawowych mówią, że ich praca nie ma znaczenia, dlatego że gimnazjum jest oknem na świat. Nie, proszę państwa, rodzicowi zależy na całym systemie. Chcę, żeby rzeczywiście edukacja kończyła się tak, aby absolwent był gotowy do pracy lub był gotowy do studiowania, a przede wszystkim, żeby umiał uczyć się przez całe życie. Proszę państwa, nasz uczeń nie umie uczyć się przez całe życie, kiedy wchodzi w wiek dorosły. Jesteśmy w absolutnym kolejnym ogonie Europy uczenia się przez całe życie. To jest klucz do wyzwań cywilizacyjnych, to jest również klucz do edukacji naszych dzieci, kiedy rodzice mają świadomość, że trzeba uczyć się przez całe życie. I tu dotykamy, proszę państwa, kolejnego przebadanego problemu, który również wybrzmiał i który zapisany jest w Prawie oświatowym: małe szkoły. Państwa poprzednie rządy spowodowały rzeczywiście absolutne zdeprecjonowanie małej szkoły, a tak naprawdę chętnie się jej państwo pozbywali, czasami z tygodnia na tydzień, z miesiąca na miesiąc. Ta zmiana ma wzmocnić małą szkołę, prawie 30% szkół liczy ok. 70 uczniów. Ma wzmocnić małą szkołę, bo to nie tylko centrum edukacyjne, ale to centrum cywilizacyjne. To jest centrum, proszę państwa. Z pogłębionych badań z zakresu uczenia się przez całe życie dorosłego człowieka wynika jednoznacznie, że wtedy osiągniemy wyniki w edukacji dorosłych, jeżeli zwiążemy to właśnie z małymi szkołami. To jest miejsce, gdzie babcia albo rodzic ma uczyć się tam, gdzie uczy się jego dziecko. Przypominam, to uratowany projekt z grudnia 2015 r. o Zintegrowanym Systemie Kwalifikacji. Tam są pieniądze, o których mówią pracodawcy, których potrzebują pracownicy, dlatego że wszyscy inwestorzy, np. lokujący inwestycje w polskich strefach, pytają o kwalifikacje. Potrzebujemy potwierdzenia kwalifikacji, potrzebujemy tak zorganizowanego szkolnictwa zawodowego. Jednocześnie, proszę państwa, mała szkoła to jest miejsce, które jest szczególnie ważne dla ministerstwa kultury. Tam właśnie będą kierowane pieniądze na nowoczesne biblioteki. Pamiętam, że kilka lat temu walczyliśmy o bibliotekę, żeby w ogóle została. W tej chwili borykamy się z żenującymi i wstydliwymi wynikami czytelnictwa w Polsce. Dlatego właśnie ta mała szkoła, każda szkoła, która została zapomniana, która nie była oknem na świat, ma być oknem na świat. Proszę państwa, mówimy o 4-letnim liceum, bo taka jest konieczność, bo tak tylko możemy mówić o wykształceniu naszych obywateli, dlatego że ostatnia zmiana podstawy programowej - wprowadzana właściwie z miesiąca na miesiąc, proszę sobie przypomnieć daty - doprowadziła do tego, że mamy 4-letnie gimnazjum, kończymy podstawę programową gimnazjum w I klasie, a liceum jest półtorarocznym kursem przygotowującym do matury. I to jest duże wyzwanie dla nauczycieli, którzy mają duży problem z realizacją tychże podstaw programowych, którzy rzeczywiście mają dyskomfort, bo to wybitni nauczyciele przygotowujący swoich uczniów do studiowania na najlepszych uczelniach. Przeszkadza im to, że właśnie taką blokową i infantylną podstawę programową muszą realizować. Pracodawcy, proszę państwa, mówią jednoznacznie... ...40% pracodawców natychmiast, już jutro, za tydzień, za miesiąc potrzebuje pracowników, potrzebuje polskich pracowników. Przypominam, że wszystkie działania polskiego rządu, m.in. podnoszące płacę minimalną, prowadzą do tego, żeby powiedzieć, że zbliżają się czasy pracownika. Dobrze by było, żeby był to dobrze przygotowany młody człowiek. Dlatego mówimy o branżowej szkole. Mówimy o tym, proszę państwa, że podstawy programowe muszą być elastyczne, szybko dostosowywane, pisane z pracodawcami, że pracodawca będzie mógł być egzaminatorem, żeby młody człowiek mógł praktykować, ale również przede wszystkim zdawać egzaminy w miejscu pracy. Jednocześnie, proszę państwa, pokazujemy, jaką dużą szansą, modą i trendem powinna się stać, i będziemy o to zabiegać, dbać każdego tygodnia. Pracujemy od bardzo wielu miesięcy na taką pozycję szkoły branżowej, że będzie można II stopień skończyć maturą, proszę państwa, gdzie egzamin zawodowy będzie tym, który jest w katalogu rozszerzonych przedmiotów, co spowoduje, że młody człowiek będzie miał szansę studiowania na każdej uczelni. To rzeczywiście jest istotne dla uczelni wyższych, dlatego że niż demograficzny powoduje rzeczywiście duże kłopoty, jeżeli chodzi o liczbę studentów. Jednocześnie, proszę państwa, to, o co zadbaliśmy, co wyraźnie wypływa z Prawa oświatowego, które - mam nadzieję - razem z państwem w zgodzie, choć dyskutując, w kompromisie, choć czasami mając odrębne stanowiska, będziemy wdrażać dla spokoju naszych dzieci i dla przyszłych pokoleń. My mówimy wyraźnie o bezpieczeństwie. Dlatego, proszę państwa, mówimy o zmniejszeniu obwodów szkół. Dlatego słucham ze zdziwieniem, kiedy ktoś mówi, że będzie jakiś pusty budynek. Żadnych pustych budynków nie będzie. Będą zmniejszone obwody, będzie ograniczone dowożenie, na czym zależy rodzicom. Zresztą raporty Najwyższej Izby Kontroli są bezlitosne, jak zresztą w większości, kiedy oceniają poprzednie rządy Platformy Obywatelskiej i PSL. Są bezlitosne, bo 1/3 gimbusów nie powinna wyjechać, żeby transportować, żeby uczestniczyć w dowożeniu dzieci. Jednocześnie, proszę państwa, będziemy pracować i przymierzamy się do inwentaryzacji subwencji oświatowej, bo ta jest po prostu archaiczna, nieprzystająca do wyzwań cywilizacyjnych, do wyzwań, które stoją przed nami. Nie tylko nie oddaje pracy nauczycieli, lecz także powoduje konflikty w samorządach. Będziemy analizować subwencję oświatową, żeby wskazać tam wagę. Być może nie będzie to waga, bo będą to robić eksperci, również samorządy. Będziemy dążyć do jednozmianowości, proszę państwa. To głęboki europejski wstyd, że w polskiej szkole są dwie zmiany, a nawet 2,5. W związku z tym rzeczywiście stwórzmy szkołę, w której dzieci będą chętnie przebywać. Oczywiście, proszę państwa, wzmacniamy rolę wychowawczą szkoły poprzez to, w jaki sposób patrzymy na zadania wychowawcy. Do podstaw programowych, o czym jutro państwo usłyszą, wracają te cele wychowawcze. Czynimy się wszyscy wspólnie odpowiedzialni, razem z nauczycielami. Trzeba wesprzeć rodzica, bo to rodzic wychowuje swoje dziecko, ale rzeczywiście muszą być określone zasady na matematyce, fizyce, historii, biologii i chemii. Wszyscy w szkole wychowujemy dziecko. Rodzice tego oczekują, rodzice tego chcą od polskiej szkoły. Wreszcie, proszę państwa, to, co budzi najwięcej emocji, co zostało doskonale opisane razem z samorządowcami, to rzeczywiście domknięcie tego, co wydarzyło się w systemie. Nie można dłużej udawać i godzić się na to, że nie ma liceum, że nie ma szkoły zawodowej, a szkoła podstawowa nie jest oknem na świat. Jednocześnie mądrzy rodzice, mądrzy radni, konsolidując również w związku z niżem demograficznym budynki, kadrę, finanse publiczne - przypominam, że rok do roku do systemu trafia kilkadziesiąt tysięcy mniej dzieci - już zdecydowali i większość gimnazjów jest w zespołach szkół, zostało 2080 samodzielnych gimnazjów. W związku z tym, proszę państwa, że tam są lepsze wyniki, tam rzeczywiście jest mniej agresji, tam dzieci czują się bezpiecznie. Tam oczywiście nawet potrafią być oddziały przedszkolne, bo jest taka potrzeba, żeby rzeczywiście młodzi ludzie za siebie wzajemnie odpowiadali. Jednocześnie, proszę państwa, mówimy o badaniach, które potwierdzają nasze obserwacje. Nie tylko te międzynarodowe, bo już na nie wskazywałam, ale również Instytutu Badań Edukacyjnych, które oczywiście nie rekomendują. Proszę państwa, wydać 350 mln na badania, bo tyle wydał Instytut Badań Edukacyjnych, nie rekomendować i uznać, że należy to wszystko schować do piwnicy - nie, proszę państwa, to nie jest odpowiedzialność polskiego rządu. System został zdefiniowany, opisany. My wyciągamy wnioski dla dobra dzieci. Jednocześnie, proszę państwa, jeżeli chodzi o gimnazja, te 2080 czy gimnazja w ogóle w zespołach - musimy oczywiście patrzeć na to w całości - to jest tam o 33% mniej dzieci, o 12% zwiększyła się liczba gimnazjów. To oczywiście niepubliczne, te, które uciekają od rejonizacji, od obwodowości. Przypominam, że gimnazja miały być wyrównywaniem szans. W dużych miastach aż 25% gimnazjów to właśnie gimnazja nieobwodowe, bardzo często niepubliczne - oczywiście z całym szacunkiem dla gimnazjów niepublicznych. Przypominam, że przy całej awanturze o sześciolatki - na szczęście rodzice w 80% zdecydowali, że sześciolatki uczą się w przedszkolach - byłam jedyną ratującą, jedyną orędowniczką niepublicznych przedszkoli, szczególnie w Warszawie. One deklarują jednoznacznie, że są w stanie objąć wychowaniem przedszkolnym 42% dzieci. Ostatnie, świeże dane: trzylatków, proszę państwa, jest 70%. Te wskaźniki pewnie podniosą się jeszcze o 10%. Większość gmin, większość samorządów jest przygotowana na przyjęcie trzylatków, tym bardziej że zostawiliśmy dużą elastyczność. Generalnie w dużej mierze już uwolniliśmy szkoły od biurokracji, ale chodzi właśnie o umiejętności czy możliwości poruszania się po podstawach programowych, po systemie. W związku z tym, proszę państwa, za rok, za 2 lata samorządy w sposób niekontrolowany zwyczajnie likwidowałyby gimnazja, bo, przypominam, w założeniach pana ministra Handkego... Staram się z wielkim szacunkiem mówić o jego założeniach, o jego pracy, bo zakładam, że nikt, kto zakłada reformę oświaty, nie chce zrobić niczego złego w systemie, ale rzeczywiście to było dziwne, bo wtedy była mowa o czterech różnych reformach, m.in. o reformie samorządowej, która absolutnie nie współgrała z decyzją dotyczącą gimnazjów. One miały być przy liceach ogólnokształcących - takich jest tylko kilka procent, i to właściwie w miastach na prawach powiatu, gdzie jest ten sam organ prowadzący. W związku z tym trudno sobie wyobrazić, że samorządy mogły zachować się inaczej niż tak, jak się zachowały. To znaczy rzeczywiście w większości są to zespoły i trudno dzisiaj powiedzieć samorządowi gminnemu, że oto subwencja oświatowa państwa będzie mniejsza o trzy roczniki. Ta troska o sześciolatka wynika z odpowiedzialności za obowiązek edukacji. Chodzi o to, żeby nie zmniejszyć, ale zwiększyć liczbę lat kształcenia ogólnego. Również odpowiedzialność za budżety samorządów powoduje, że w okresie przejściowym, jeżeli Wysoka Izba tak zdecyduje, przez 2 lata one będą mieć 10 roczników w subwencji oświatowej, a docelowo będą mieć dziewięć, tak jak mają w tej chwili. To jest troska o budżety samorządów. Odbyłam setki spotkań. Mogę państwu powiedzieć tylko o swoich ostatnich doświadczeniach. Oczywiście nie omieszkam przypomnieć, ile było dyskusji na temat zmiany, którą w tej chwili proponujemy. Mianowicie odwiedziłam cztery duże miejscowości, wspierając i odpowiadając na zaproszenia, też wprost, lub uspokajając sytuację. To, nad czym boleję, bo to jest ze szkodą dla dzieci, rodziców i nauczycieli, to próby zwyczajnej dezinformacji, dezinformowania z premedytacją. Oto np. pan prezydent Częstochowy napisał do mnie list, napisał, że zwolni 200 nauczycieli i straci pieniądze. Okazało się, proszę państwa, bo mamy te same dane w systemie informacji oświatowej... Proponuję moim poprzedniczkom przeczytanie raportu Najwyższej Izby Kontroli na temat systemu informacji oświatowej. Właśnie jesteśmy na etapie ratowania systemu, który jest związany z wieloma systemami informatycznymi... ...w całej Polsce. I, proszę państwa, cóż się okazało? Okazało się, że będzie potrzebnych 39 dodatkowych etatów, a samorząd dzięki waloryzacji, bo przygotowaliśmy pieniądze i te pieniądze są... Nie podwyżce, proszę nie ironizować. Właśnie w tej chwili zespół składający się z osób ze związków zawodowych i z ministerstwa edukacji oraz samorządów pracuje nad kompleksowymi rozwiązaniami i w związku z subwencją samorząd będzie miał kilkanaście milionów więcej. Jednocześnie, proszę państwa, kiedy dyskutujemy, pojawia się... Tak było w Płocku, tak było w Lublinie i tak było w Gorzowie. Rzeczywiście w żadnej sytuacji nie było miejsca na utratę pracy przez nauczycieli i wszędzie był zysk - od 5 do 18 mln, w zależności od tego, jaka była liczba sześciolatków. Przypominam również, że ten sześciolatek, który jest w 2016 r., też jest ˝zapłacony˝ czy jest przewidziany w subwencji oświatowej, obojętnie czy jest w przedszkolu, czy w szkole. I, proszę państwa, policzyliśmy... To państwo dokładnie wiedzą, bo jest to w uzasadnieniu. Mamy obowiązek przewidzieć skutki finansowe na 10 lat. To nie zawsze jest takie jednoznaczne, ale musimy, jesteśmy zobowiązani ustawami. Otóż, proszę państwa, jednoznacznie wynika, że przybędzie kilka tysięcy nowych oddziałów i kilka tysięcy etatów dla nauczycieli. Nauczycielu, polski nauczycielu, bądź spokojny. To rząd, który myśli o tym, jak przy dramatycznym niżu demograficznym być z tobą i nie tylko wzmóc twoją rolę przy przekształceniu, ale również zadbać o to, co będzie za 2, za 3 lata, kiedy kolejnych tysięcy uczniów zabraknie w systemie. Dlatego przed nami - razem, mam nadzieję, będziemy to budować - ustalenie, i to wiąże się też z bezpieczeństwem, jakie jest pensum pedagoga, psychologa, logopedy, a będzie to w każdej szkole. Jednocześnie mówimy o doradcy zawodowym, o metodyku. To są te przepisy, które zaczynają się w Prawie oświatowym. Jednocześnie, polski rodzicu, polski nauczycielu, polski samorządowcu, masz 900 mln na dostosowanie... ...na dodatkowe klasy, na utworzenie oddziałów przygotowawczych. Tak one się nazywają. Po raz pierwszy polski system zauważył obcokrajowca w systemie, w dodatku troszczy się o niego, bo nie chce, żeby marnował kolejne lata, ucząc się języka polskiego, nie ucząc się jednocześnie takich przedmiotów, jak matematyka, fizyka, biologia. Jednocześnie są pieniądze na doradztwo zawodowe, wprost, proszę państwa, na dostosowanie. I teraz, proszę państwa, krótka matematyka. Bo jeszcze jest 168 mln w rezerwie, chodzi o 0,4, i czujność polskiego rządu, bo to będzie proces 5-letni, proces wieloletni. Przypominam. Policzymy i ustalimy, jakie to są pieniądze. To są pieniądze polskiego obywatela, polskiego podatnika. W związku z tym mamy do dostosowania - liczmy tak spokojnie - 2000, bez 80, gimnazjów, tak żeby stały się samodzielnymi szkołami podstawowymi, żeby były mniejsze obwody. Uwaga: będzie jedna uchwała, która rozpocznie proces. Od 1 września rozpoczynamy 5-letni proces. Nie będzie niczego takiego w systemie, że oto coś wydarzy się jednoznacznie, ostatecznie, oprócz tego, że pojawi się VII klasa, IV i I z nowymi podstawami programowymi. Będzie 5 lat na to, żeby samodzielne gimnazjum z tym samym dyrektorem, z tymi samymi nauczycielami, z tym samym potencjałem, z umiejętnościami, z metodami, rzeczywiście przygotowało się na to, żeby stać się klasami I-VIII. Choć oczywiście widzimy również takie szkoły, które nie będą mieć tego cyklu. Dlaczego? Bo w danych gminach nie urodziły się dzieci w jednym roczniku i żadnej takiej klasy nie będzie. Ten system już to widzi, to prawo już to widzi i o takie szkoły będzie dbać. I oto mamy, proszę państwa, 2000 gimnazjów. Sprawdziłam sobie, bo oczywiście, proszę państwa, samorządowcy w większości wypadków już to policzyli, nawet jeśli spod grubego palca. W związku z tym dostosowanie sali, tak żeby kupić tam krzesełka, ławeczki, zrobić małe toalety, bo rozumiem, sprawdziliśmy to, w każdej szkole jest kanalizacja... ...więc nie trzeba będzie dokonywać dużych inwestycji, będzie trzeba wymienić toalety, regały biblioteczne plus oczywiście fragmenty w świetlicy, które będą przystosowane dla małych dzieci. Średnio to jest na dwa oddziały - tak to szacujemy - ok. 100 tys. Tak więc 2000 razy 100 tys. - to naprawdę łatwo policzyć. Tutaj trzeba rzeczywiście odnieść się do tego, co funkcjonowało w przestrzeni medialnej, bo też obiecałam państwu, że do tego będę się odnosić, dlatego że naprawdę polski nauczyciel i polski rodzic mają prawo wiedzieć wszystko, mają prawo pytać, dlatego jest uruchomiona strona internetowa, dlatego piszą do nas maile, dzwonią do nas wojewodowie, rozmawiają samorządowcy i kuratorzy, wizytatorzy są w każdej szkole. W każdej szkole również dzięki uprzejmości i umowie z Pocztą Polską jest pakiet informacyjny. Pojawiły się jeszcze dwie takie magiczne, duże liczby, wyliczenia samorządowe. Myślę, że trzeba sobie przypomnieć, jak wygląda ustawa o samorządzie, jaki jest udział w PIT, CIT samorządów, jeżeli chodzi o podatki obywateli, i że subwencja oświatowa to nie jest podatek rządu dla samorządu. Subwencja oświatowa odpowiada za dzieci i za nauczycieli, za podstawy programowe, podręczniki, ale oczywiście organ prowadzący to budynek, wyposażenie, ogrzewanie. Rzeczywiście tutaj musimy pokazywać, że jesteśmy razem i razem to zrobimy, jeżeli sobie wzajemnie zaufamy. Dwie liczby, magiczne liczby, które pojawiały się w przestrzeni medialnej. Oto samorządy wydały 140 mld zł na gimnazja. Proszę państwa, 140 mld zł przez 17 lat to jest po prostu rozdział w budżecie państwa, który nazywa się gimnazja i gimnazja specjalne, czyli to obojętne, czy byłyby gimnazja czy też by ich nie było, po prostu ten rozdział byłby inaczej nazwany. To jest po prostu suma środków z subwencji oświatowej przeznaczanych przez 17 lat na dzieci w takim przedziale wiekowym. To jest pierwsza kwota i pierwsza magiczna liczba. Druga: 8 mld wydanych na inwestycje. Proszę państwa, to jest prosta matematyka. Proszę podzielić 8 mld przez 17 lat - zostaje nam na rok kilkaset milionów. Proszę podzielić to przez kilka tysięcy gmin. Proszę zobaczyć, jaka to jest rocznie kwota na owe inwestycje. I to nie są inwestycje gimnazjalne. To są po prostu inwestycje w edukację. Bardzo dobrze, samorząd dba i obywatele, którzy widzą, jak samorząd dba o polską edukację, o szkołę, rzeczywiście odwdzięczają się, po prostu wybierają takich wójtów, burmistrzów, prezydentów, a oni w pełni na to zasługują, bo potrafią tak dbać, tak inwestować w szkołę. Mają takie zadanie. Tak to zostało opisane w ustawie o samorządzie, w ustawie o systemie oświaty. I jeszcze jedna liczba. Zapomniałam o niej, powiedziałam o dwóch. Przepraszam, jest jeszcze trzecia. Oto 1 mld zł zostanie zabrany samorządowcom w związku z tym, że nie będzie I klasy gimnazjum a będzie VII. Ano, proszę państwa, to nieprawda. To jedno zdanie i dwie wagi, dwa wskaźniki procentowe, które zakładają, że rocznik, który w roku 2017/2018 powinien pojawić się w I klasie gimnazjum, po prostu się spakuje i wyjedzie. Ten rocznik jest. Ten rocznik jest w dodatku lepiej opłacany, dlatego że dziecko w szkole podstawowej to minimalnie, ale jednak, trochę większe pieniądze, nie bardzo duże, ale trochę większe. Teraz proszę państwa, proszę zauważyć, bo to też jest powtarzane, musimy się z tym zderzyć, ja muszę to powtarzać, bo to jest zwyczajnie nieprawda, że coś się dzieje na kolanie, szybko, bez konsultacji, bez debaty, bez przygotowania. Od lutego dyskutujemy w całej Polsce. Proszę państwa, każdy mógł się na debatę zapisać. Każdy mógł przeprowadzić debatę. Zapowiadałam to, mówiłam na każdej konferencji prasowej, na każdym spotkaniu w kolejnym samorządzie i na kolejnych spotkaniach wojewódzkich. To było kilkadziesiąt tysięcy osób, kilkaset spotkań. Sami kuratorzy, proszę państwa, zrobili tych spotkań 177 czy 160. Boję się używać bardzo precyzyjnych liczb, więc będę mówiła ˝około˝, żeby nie być później dyscyplinowaną, że w czymś się pomyliłam. Jednocześnie, proszę państwa, rzeczywiście od lutego, cierpliwie: w sobotę, w niedzielę pracowali eksperci. Być może nie wszyscy myśleli, że będą analizować podstawy programowe. Analizowali podstawy programowe po to, żeby bardzo szybko, ale bardzo precyzyjnie móc napisać podstawy programowe. Jutro je państwu zaprezentujemy i pokażemy kolejne etapy, jak dalece to jeszcze uspołecznimy. Jednocześnie przypominam państwu, że odbyły się spotkania rodziców, rad rodziców. Tu, w sali kolumnowej, z wielką pompą odbywały się spotkania młodzieży. Zresztą samorządowcy, rady pedagogiczne spotykały się, by wnioski, które rzeczywiście definiują zmiany w Prawie oświatowym, dostarczyć do ministerstwa edukacji. W związku z tym, proszę państwa, że cały czas dokonywaliśmy przygotowań do zmiany systemu, najdramatyczniejsze było oczywiście to wszystko, co działo się w grudniu, bo trzeba było zadbać o pieniądze europejskie, nie stracić pieniędzy, rozliczyć wszystkie projekty, choć niektóre z dużym drżeniem serca podpisywałam, ale na wszelki wypadek zawołałam Najwyższą Izbę Kontroli do e-zasobów i e-podręcznika, żeby rzeczywiście zweryfikowała, w jaki sposób to wszystko przebiegało, bo nie można odpowiadać za projekt, kiedy jest się przy nim tylko 2 tygodnie. Jednocześnie przypominam państwu, co wydarzyło się w systemie, jak spokojnie i bezpiecznie jest w tej chwili w szkole. Nie ma godzin karcianych. Obiecywałam monitorowanie i teraz będziecie mieć państwo, również dzięki posłom, poprawkę dotyczącą art. 42, bo okazało się - i monitorowanie, tak jest przy każdym zarządzaniu - że rzeczywiście odbyły się jakieś dziwne szkolenia, które pokazywały, w jaki sposób obejść ten przepis, dlatego go wzmocnimy po to, żeby nie było dowolności i niejednoznaczności. To jesteśmy winni nauczycielom. Przypominam, że zrezygnowaliśmy z testu po VI klasie, nie ma tego testu. Odwołanie od matury to jest to, co powinniśmy dać - od wyników matury do okręgowej komisji egzaminacyjnej - młodym obywatelom, którzy mają się tej dorosłości uczyć. Zwykła rejestracja tejże pracy, od której człowiek się odwołuje, od oceny - poprzez telefon komórkowy. Komisja dyscyplinarna - wzmocnienie roli kuratora i tutaj jest dalszy ciąg. Tutaj też zauważyliśmy związki zawodowe w Prawie oświatowym, których miało nie być za państwa czasów. Bardzo sprawnie rozmawiamy ze związkami. Odbyło się kilkadziesiąt spotkań ze związkami zawodowymi... ...przede wszystkim w ministerstwie edukacji, ale i w radzie dialogu. Przypominam, że jesteśmy w zespole, który pracuje nad wynagrodzeniem nauczycieli. Jednocześnie, proszę państwa, chcę jeszcze powtórzyć jedną rzecz czy przypomnieć to, co wybrzmiewa również w państwa wystąpieniach, mianowicie, że będzie jakiś kłopot z podwójnym rocznikiem w 2019 r. Nie będzie, proszę państwa. Jest tak dramatyczny niż demograficzny, że nie będzie żadnego problemu. Jeszcze 6 lat temu to był jeden rocznik. W związku z tym, że w systemie informacji oświatowej mamy pełne dane, łącznie z dotyczącymi pomieszczeń, które są w poszczególnych szkołach, możemy w bardzo odpowiedzialny sposób powiedzieć, że jest to nieprawda. Jeszcze jedna kwestia, bo tak jak państwu obiecywałam, te państwa obawy chcę eliminować, że przepadną pieniądze, które zostały wydane na budowanie gimnazjów. Nie przepadną. Komisji Europejskiej nie interesuje, na jaki to jest etap kształcenia, po prostu zwyczajnie ma to być placówka oświatowa. Zresztą w poprzedniej perspektywie finansowej bardzo wielu prezydentów likwidowało szkoły, np. w Wałbrzychu tak było, gdzie były wydatkowane pieniądze europejskie, ale ponieważ pan prezydent zadeklarował, że będzie tam placówka oświatowa, w związku z tym rzeczywiście nie musiał tych pieniędzy zwracać. Proszę państwa, moim zadaniem, naszym zadaniem, wspólnym zadaniem jest zadbanie o to, aby rodzic oddawał dziecko do bezpiecznej i dobrej szkoły, żeby wesprzeć nauczyciela, powiedzieć mu jednoznacznie, że w związku ze zmianami nie będzie żadnych zwolnień. Konkret i dowód. To samo mówiliście państwo przy sześciolatku, miało być zwolnionych, do dzisiaj pewnie jeszcze to powtarzacie, że... ...tak, miało zostać zwolnionych 7 tys. Nie, proszę pani, zostało przywróconych czy są dodatkowe miejsca dla tysiąca pracowników. Zapraszam do analizy systemu informacji oświatowej. W związku z tym, proszę państwa, że zależy nam na określonym uczniu, tak jak i państwu, tak jak rodzicom, uczeń ma posiadać kilka kompetencji tych najbardziej podstawowych. Ma umieć matematykę. Zobaczcie, nie drażni was, nie martwi was, nie jest to dla was alarmem, że uczeń w międzynarodowym badaniu odtwarza matematykę dobrze, po czym za 3 lata 20% uczniów nie zdaje matematyki na poziomie podstawowym? To zatrważające. I rzeczywiście nad tym musimy się wszyscy pochylić, bo każdy z nas ma dzieci, sam chodził do szkoły, wie, po co ta szkoła jest. Mówimy więc o takich kompetencjach, jak matematyka, język obcy, informatyka - informatyka w postaci uzgodnionej z ekspertami. Jesteśmy dogadani, ile będzie tych lekcji, ale przede wszystkim mówimy o tym, że ta informatyka ma być na każdej lekcji, nie na przedmiocie informatyka tylko i wyłącznie, bo rzeczywiście jest wyzwanie cywilizacyjne, żeby tam pojawił się sprzęt na miarę XXI w. Mówimy, proszę państwa, oczywiście o języku polskim, bo trzeba znać swoją kulturę. Nie odbierze się czy nie będzie się uczestnikiem współczesnej kultury, jeżeli nie będzie się znało historii literatury. Trudno jest zrozumieć polski współczesny teatr, kiedy np. nie zna się ewolucji dramatu w ogóle, od tragedii przez dramat romantyczny czy też dramat symboliczny. Jednocześnie, proszę państwa, mówimy o czytaniu, o tym, że rzeczywiście będziemy to czytanie wzmacniać różnymi projektami, na które są oczywiście pieniądze, ale również poprzez podstawy programowe i czytanie dzieciom w szkole. Stąd też takie podstawy programowe dla klas I-III. Myślę, że będziecie państwo usatysfakcjonowani, bo tam znalazły się nie tylko nowoczesne podstawy, nie tylko czytanie, ale też podstawy programowania i podstawy gry w szachy, bo to właśnie ma wzmacniać matematykę. To też wynikło z badań, proszę państwa, ale nikt nie zastanowił się, w jaki sposób można było to wdrożyć. I mówimy, proszę państwa, o historii. Nie zbuduje się przyszłości, żadnej wspólnoty, żadnego państwa bez znajomości historii. Dlatego chcemy o niej mówić z szacunkiem, dając wolność dyskusji. Chcemy razem z państwem - bo mam taką nadzieję, że wreszcie staniemy do tego, żeby to uczynić razem - przedyskutować, napisać, dokończyć, uzupełnić to. Być może macie państwo jakieś pomysły, bo ja jeszcze nie dostałam żadnych poprawek od państwa czy żadnych wystąpień, które rzeczywiście dotykałyby Prawa oświatowego. Warto. Warto dla polskiego ucznia, polskiego rodzica i nauczyciela. Dziękuję.'"
     },
     "execution_count": 76,
     "metadata": {},
     "output_type": "execute_result"
    }
   ],
   "source": [
    "df[df.id.str.endswith('00031-01-div-56')].squeeze().text"
   ]
  },
  {
   "cell_type": "code",
   "execution_count": 69,
   "metadata": {},
   "outputs": [
    {
     "data": {
      "text/html": "<div>\n<style scoped>\n    .dataframe tbody tr th:only-of-type {\n        vertical-align: middle;\n    }\n\n    .dataframe tbody tr th {\n        vertical-align: top;\n    }\n\n    .dataframe thead th {\n        text-align: right;\n    }\n</style>\n<table border=\"1\" class=\"dataframe\">\n  <thead>\n    <tr style=\"text-align: right;\">\n      <th></th>\n      <th>id</th>\n      <th>speaker</th>\n      <th>date</th>\n      <th>text</th>\n      <th>posel</th>\n      <th>klub</th>\n      <th>lista</th>\n      <th>okreg</th>\n      <th>text_lengts</th>\n      <th>topic</th>\n    </tr>\n  </thead>\n  <tbody>\n    <tr>\n      <th>1</th>\n      <td>PPC-201519-sjm-ppxxx-00035-02-div-4</td>\n      <td>Witold Waszczykowski</td>\n      <td>2017-02-09</td>\n      <td>Panie Prezydencie! Panie Marszałku! Szanowna P...</td>\n      <td>Witold Waszczykowski</td>\n      <td>Klub Parlamentarny Prawo i Sprawiedliwość</td>\n      <td>Prawo i Sprawiedliwość</td>\n      <td>Sieradz</td>\n      <td>7641</td>\n      <td>195</td>\n    </tr>\n    <tr>\n      <th>12</th>\n      <td>PPC-201519-sjm-ppxxx-00039-03-div-26</td>\n      <td>Beata Szydło</td>\n      <td>2017-04-07</td>\n      <td>Panie Marszałku! Wysoka Izbo! Można powiedzieć...</td>\n      <td>Beata Szydło</td>\n      <td>Klub Parlamentarny Prawo i Sprawiedliwość</td>\n      <td>Prawo i Sprawiedliwość</td>\n      <td>Kraków</td>\n      <td>6750</td>\n      <td>195</td>\n    </tr>\n    <tr>\n      <th>27</th>\n      <td>PPC-201519-sjm-ppxxx-00031-01-div-56</td>\n      <td>Anna Zalewska</td>\n      <td>2016-11-29</td>\n      <td>Panie Marszałku! Wysoka Izbo! Rodzice kochają ...</td>\n      <td>Anna Zalewska</td>\n      <td>Klub Parlamentarny Prawo i Sprawiedliwość</td>\n      <td>Prawo i Sprawiedliwość</td>\n      <td>Wałbrzych</td>\n      <td>5241</td>\n      <td>94</td>\n    </tr>\n    <tr>\n      <th>34</th>\n      <td>PPC-201519-sjm-ppxxx-00032-01-div-69</td>\n      <td>Jacek Sasin</td>\n      <td>2016-12-13</td>\n      <td>Pani Marszałek! Wysoka Izbo! W dniu 30 wrześni...</td>\n      <td>Jacek Sasin</td>\n      <td>Klub Parlamentarny Prawo i Sprawiedliwość</td>\n      <td>Prawo i Sprawiedliwość</td>\n      <td>Warszawa</td>\n      <td>4528</td>\n      <td>229</td>\n    </tr>\n    <tr>\n      <th>3</th>\n      <td>PPC-201519-sjm-ppxxx-00035-02-div-8</td>\n      <td>Grzegorz Schetyna</td>\n      <td>2017-02-09</td>\n      <td>Panie Marszałku! Pani Premier! Panie Premierze...</td>\n      <td>Grzegorz Schetyna</td>\n      <td>Klub Parlamentarny Platforma Obywatelska - Koa...</td>\n      <td>Platforma Obywatelska</td>\n      <td>Kielce</td>\n      <td>4452</td>\n      <td>195</td>\n    </tr>\n    <tr>\n      <th>...</th>\n      <td>...</td>\n      <td>...</td>\n      <td>...</td>\n      <td>...</td>\n      <td>...</td>\n      <td>...</td>\n      <td>...</td>\n      <td>...</td>\n      <td>...</td>\n      <td>...</td>\n    </tr>\n    <tr>\n      <th>56</th>\n      <td>PPC-201519-sjm-ppxxx-00064-02-div-116</td>\n      <td>Dariusz Piontkowski</td>\n      <td>2018-06-15</td>\n      <td>Panie Marszałku! Wysoka Izbo! Komisja ochrony ...</td>\n      <td>Dariusz Piontkowski</td>\n      <td>Klub Parlamentarny Prawo i Sprawiedliwość</td>\n      <td>Prawo i Sprawiedliwość</td>\n      <td>Białystok</td>\n      <td>27</td>\n      <td>240</td>\n    </tr>\n    <tr>\n      <th>1</th>\n      <td>PPC-201519-sjm-ppxxx-00008-03-div-4</td>\n      <td>Andrzej Matusiewicz</td>\n      <td>2016-01-15</td>\n      <td>Panie Marszałku! Wysoka Izbo! Komisja Nadzwycz...</td>\n      <td>Andrzej Matusiewicz</td>\n      <td>Klub Parlamentarny Prawo i Sprawiedliwość</td>\n      <td>Prawo i Sprawiedliwość</td>\n      <td>Krosno</td>\n      <td>27</td>\n      <td>240</td>\n    </tr>\n    <tr>\n      <th>167</th>\n      <td>PPC-201519-sjm-ppxxx-00031-01-div-332</td>\n      <td>Stefan Romecki</td>\n      <td>2016-11-29</td>\n      <td>Pani Marszałek! Panie Ministrze! Wysoka Izbo! ...</td>\n      <td>Stefan Romecki</td>\n      <td>Klub Poselski Kukiz'15</td>\n      <td>Kukiz'15</td>\n      <td>Koszalin</td>\n      <td>26</td>\n      <td>173</td>\n    </tr>\n    <tr>\n      <th>32</th>\n      <td>PPC-201519-sjm-ppxxx-00044-03-div-70</td>\n      <td>Artur Soboń</td>\n      <td>2017-06-22</td>\n      <td>Panie Marszałku! Wysoka Izbo! W czasie drugieg...</td>\n      <td>Artur Soboń</td>\n      <td>Klub Parlamentarny Prawo i Sprawiedliwość</td>\n      <td>Prawo i Sprawiedliwość</td>\n      <td>Lublin</td>\n      <td>26</td>\n      <td>240</td>\n    </tr>\n    <tr>\n      <th>308</th>\n      <td>PPC-201519-sjm-ppxxx-00080-03-div-621</td>\n      <td>Robert Telus</td>\n      <td>2019-04-25</td>\n      <td>Szanowny Panie Marszałku! Panie Premierze! Wys...</td>\n      <td>Robert Telus</td>\n      <td>Klub Parlamentarny Prawo i Sprawiedliwość</td>\n      <td>Prawo i Sprawiedliwość</td>\n      <td>Piotrków Trybunalski</td>\n      <td>25</td>\n      <td>240</td>\n    </tr>\n  </tbody>\n</table>\n<p>15365 rows × 10 columns</p>\n</div>",
      "text/plain": "                                        id               speaker        date  \\\n1      PPC-201519-sjm-ppxxx-00035-02-div-4  Witold Waszczykowski  2017-02-09   \n12    PPC-201519-sjm-ppxxx-00039-03-div-26          Beata Szydło  2017-04-07   \n27    PPC-201519-sjm-ppxxx-00031-01-div-56         Anna Zalewska  2016-11-29   \n34    PPC-201519-sjm-ppxxx-00032-01-div-69           Jacek Sasin  2016-12-13   \n3      PPC-201519-sjm-ppxxx-00035-02-div-8     Grzegorz Schetyna  2017-02-09   \n..                                     ...                   ...         ...   \n56   PPC-201519-sjm-ppxxx-00064-02-div-116   Dariusz Piontkowski  2018-06-15   \n1      PPC-201519-sjm-ppxxx-00008-03-div-4   Andrzej Matusiewicz  2016-01-15   \n167  PPC-201519-sjm-ppxxx-00031-01-div-332        Stefan Romecki  2016-11-29   \n32    PPC-201519-sjm-ppxxx-00044-03-div-70           Artur Soboń  2017-06-22   \n308  PPC-201519-sjm-ppxxx-00080-03-div-621          Robert Telus  2019-04-25   \n\n                                                  text                 posel  \\\n1    Panie Prezydencie! Panie Marszałku! Szanowna P...  Witold Waszczykowski   \n12   Panie Marszałku! Wysoka Izbo! Można powiedzieć...          Beata Szydło   \n27   Panie Marszałku! Wysoka Izbo! Rodzice kochają ...         Anna Zalewska   \n34   Pani Marszałek! Wysoka Izbo! W dniu 30 wrześni...           Jacek Sasin   \n3    Panie Marszałku! Pani Premier! Panie Premierze...     Grzegorz Schetyna   \n..                                                 ...                   ...   \n56   Panie Marszałku! Wysoka Izbo! Komisja ochrony ...   Dariusz Piontkowski   \n1    Panie Marszałku! Wysoka Izbo! Komisja Nadzwycz...   Andrzej Matusiewicz   \n167  Pani Marszałek! Panie Ministrze! Wysoka Izbo! ...        Stefan Romecki   \n32   Panie Marszałku! Wysoka Izbo! W czasie drugieg...           Artur Soboń   \n308  Szanowny Panie Marszałku! Panie Premierze! Wys...          Robert Telus   \n\n                                                  klub  \\\n1            Klub Parlamentarny Prawo i Sprawiedliwość   \n12           Klub Parlamentarny Prawo i Sprawiedliwość   \n27           Klub Parlamentarny Prawo i Sprawiedliwość   \n34           Klub Parlamentarny Prawo i Sprawiedliwość   \n3    Klub Parlamentarny Platforma Obywatelska - Koa...   \n..                                                 ...   \n56           Klub Parlamentarny Prawo i Sprawiedliwość   \n1            Klub Parlamentarny Prawo i Sprawiedliwość   \n167                             Klub Poselski Kukiz'15   \n32           Klub Parlamentarny Prawo i Sprawiedliwość   \n308          Klub Parlamentarny Prawo i Sprawiedliwość   \n\n                      lista                 okreg  text_lengts  topic  \n1    Prawo i Sprawiedliwość               Sieradz         7641    195  \n12   Prawo i Sprawiedliwość                Kraków         6750    195  \n27   Prawo i Sprawiedliwość             Wałbrzych         5241     94  \n34   Prawo i Sprawiedliwość              Warszawa         4528    229  \n3     Platforma Obywatelska                Kielce         4452    195  \n..                      ...                   ...          ...    ...  \n56   Prawo i Sprawiedliwość             Białystok           27    240  \n1    Prawo i Sprawiedliwość                Krosno           27    240  \n167                Kukiz'15              Koszalin           26    173  \n32   Prawo i Sprawiedliwość                Lublin           26    240  \n308  Prawo i Sprawiedliwość  Piotrków Trybunalski           25    240  \n\n[15365 rows x 10 columns]"
     },
     "execution_count": 69,
     "metadata": {},
     "output_type": "execute_result"
    }
   ],
   "source": [
    "df[df.topic != -1].sort_values(by=['text_lengts'],ascending=False)"
   ]
  },
  {
   "cell_type": "code",
   "execution_count": 53,
   "metadata": {},
   "outputs": [
    {
     "data": {
      "text/plain": "103"
     },
     "execution_count": 53,
     "metadata": {},
     "output_type": "execute_result"
    }
   ],
   "source": [
    "topics[585]"
   ]
  },
  {
   "cell_type": "code",
   "execution_count": 54,
   "metadata": {},
   "outputs": [
    {
     "data": {
      "text/plain": "'Panie Marszałku! Panie Ministrze! Wysoka Izbo! Na rozwój handlu zagranicznego w Polsce wpływają różne czynniki, przede wszystkim polityka władz państwowych, które wyznaczają kierunek wymiany handlowej, popyt na określone dobra czy usługi oferowane na rynkach, zapotrzebowanie gospodarki Polski na towary wymagane do rozwoju poszczególnych sektorów. To od władz Polski zależy, w jakim kierunku będzie zmierzać handel zagraniczny. Zagraniczna wymiana handlowa to bardzo często wyznacznik dobrobytu państwa. Często stanowi impuls do rozwoju gospodarczego. Dodatnie saldo bilansu handlowego jest bardzo korzystne z punktu widzenia gospodarki. Pozwala utrzymać miejsca pracy i wpływa korzystnie na rozwój krajowej gospodarki. Panie ministrze, według danych Ministerstwa Rozwoju ujemne saldo polsko-chińskich obrotów handlowych w 2015 r. uległo zwiększeniu. Dlaczego mamy tak duży deficyt w handlu z Chinami? Czy mamy szansę to przełamać? Czy wizyta prezydenta Andrzeja Dudy w Chinach będzie miała wpływ na zwiększenie obecności polskich eksporterów na rynku chińskim? Czy jest szansa na zwiększenie wolumenu inwestycji chińskich... Wicemarszałek Joachim Brudziński: Dziękuję, pani poseł. Poseł Bernadeta Krynicka: ...w Polsce na preferowanych obszarach? Dziękuję bardzo.'"
     },
     "execution_count": 54,
     "metadata": {},
     "output_type": "execute_result"
    }
   ],
   "source": [
    "df.iloc[585].text"
   ]
  }
 ],
 "metadata": {
  "kernelspec": {
   "display_name": "Python 3.8.8 64-bit ('mgr-bertopic': conda)",
   "name": "python388jvsc74a57bd04c5c8db328c264de2407c70dad8cea85c5f3b5b9d4ef25d8020199a954a0aca6"
  },
  "language_info": {
   "codemirror_mode": {
    "name": "ipython",
    "version": 3
   },
   "file_extension": ".py",
   "mimetype": "text/x-python",
   "name": "python",
   "nbconvert_exporter": "python",
   "pygments_lexer": "ipython3",
   "version": "3.8.8"
  },
  "orig_nbformat": 2
 },
 "nbformat": 4,
 "nbformat_minor": 2
}
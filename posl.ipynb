{
 "cells": [
  {
   "cell_type": "code",
   "execution_count": 1,
   "metadata": {},
   "outputs": [],
   "source": [
    "from bs4 import BeautifulSoup\n",
    "from posl import generate_posl_dict, load_posl_df\n",
    "from glob import glob\n",
    "import requests\n",
    "import os\n",
    "import pandas as pd\n",
    "import matplotlib.pyplot as plt\n",
    "import re\n",
    "%matplotlib tk"
   ]
  },
  {
   "cell_type": "code",
   "execution_count": 5,
   "metadata": {},
   "outputs": [],
   "source": [
    "# generate_posl_dict()"
   ]
  },
  {
   "cell_type": "code",
   "execution_count": 2,
   "metadata": {},
   "outputs": [],
   "source": [
    "posl = load_posl_df()\n",
    "corpus = pd.read_csv('parsed/corpus/2015.csv', index_col=0)"
   ]
  },
  {
   "cell_type": "code",
   "execution_count": 36,
   "metadata": {},
   "outputs": [],
   "source": [
    "all_kadencje = sorted(posl.rok.unique(), reverse=True)\n",
    "\n",
    "posel = []\n",
    "klub = []\n",
    "okreg = []\n",
    "\n",
    "for _, row in corpus.iterrows():\n",
    "    speaker = row.speaker\n",
    "    rok = int(row.date[:4])\n",
    "    kadencja = next((k for k in all_kadencje if rok >= k))\n",
    "\n",
    "    found = posl[(posl.rok == kadencja) & (posl.posel.str.endswith(speaker))]\n",
    "\n",
    "    if len(found == 1):\n",
    "        found = found.squeeze()\n",
    "        posel.append(found.posel)\n",
    "        klub.append(found.partia or found.lista or found.klub or '')\n",
    "        okreg.append(found.okreg)\n",
    "    else:\n",
    "        posel.append('')\n",
    "        klub.append('')\n",
    "        okreg.append('')\n",
    "\n",
    "corpus['posel'] = posel\n",
    "corpus['klub'] = klub\n",
    "corpus['okreg'] = okreg"
   ]
  },
  {
   "cell_type": "code",
   "execution_count": 45,
   "metadata": {},
   "outputs": [],
   "source": [
    "corpus.to_csv('parsed/corpus/2015.csv')"
   ]
  },
  {
   "cell_type": "code",
   "execution_count": 10,
   "metadata": {},
   "outputs": [
    {
     "data": {
      "text/plain": "<AxesSubplot:>"
     },
     "execution_count": 10,
     "metadata": {},
     "output_type": "execute_result"
    }
   ],
   "source": [
    "plt.xticks(rotation='vertical')\n",
    "df[df['rok'] == 2015]['partia'].value_counts().plot(kind='bar')"
   ]
  },
  {
   "cell_type": "code",
   "execution_count": 3,
   "metadata": {},
   "outputs": [
    {
     "data": {
      "text/plain": "<AxesSubplot:>"
     },
     "execution_count": 3,
     "metadata": {},
     "output_type": "execute_result"
    }
   ],
   "source": [
    "plt.xticks(rotation='vertical')\n",
    "df['partia'].value_counts().plot(kind='bar')"
   ]
  }
 ],
 "metadata": {
  "kernelspec": {
   "display_name": "Python 3.8.8 64-bit ('mgr-pytorch-test': conda)",
   "name": "python388jvsc74a57bd0c1bf7015d0c56f3fc2ac438580d318c812fd590bd1722092edb637ef32d41bb3"
  },
  "language_info": {
   "codemirror_mode": {
    "name": "ipython",
    "version": 3
   },
   "file_extension": ".py",
   "mimetype": "text/x-python",
   "name": "python",
   "nbconvert_exporter": "python",
   "pygments_lexer": "ipython3",
   "version": "3.8.8"
  },
  "orig_nbformat": 2
 },
 "nbformat": 4,
 "nbformat_minor": 2
}
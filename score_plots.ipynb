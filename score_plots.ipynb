{
 "cells": [
  {
   "cell_type": "code",
   "execution_count": 190,
   "metadata": {},
   "outputs": [],
   "source": [
    "import plotly.express as px\n",
    "import plotly.graph_objs as go\n",
    "import colorcet as cc\n",
    "from colorhash import ColorHash\n",
    "import pandas as pd\n",
    "import numpy as np\n",
    "import pickle"
   ]
  },
  {
   "cell_type": "code",
   "execution_count": 142,
   "metadata": {},
   "outputs": [],
   "source": [
    "colors ={\n",
    "    'sbert-default': cc.fire[50],\n",
    "    'sbert-lexrank-top1': cc.fire[75],\n",
    "    'sbert-lexrank-top5': cc.fire[100],\n",
    "    'sbert-lexrank-weighted': cc.fire[125],\n",
    "    'sbert-mean': cc.fire[150],\n",
    "    'sbert-tf-idf-top1': cc.fire[175],\n",
    "    'sbert-tf-idf-top5': cc.fire[200],\n",
    "    'sbert-tf-idf-weighted': cc.fire[225],\n",
    "    'tfidf': cc.kgy[100],\n",
    "    'tfidf-spacy': cc.kgy[200],\n",
    "    'use-default': cc.bmw[25],\n",
    "    'use-lexrank-top1': cc.bmw[50],\n",
    "    'use-lexrank-top5': cc.bmw[75],\n",
    "    'use-lexrank-weighted': cc.bmw[100],\n",
    "    'use-mean': cc.bmw[125],\n",
    "    'use-tf-idf-top1': cc.bmw[150],\n",
    "    'use-tf-idf-top5': cc.bmw[175],\n",
    "    'use-tf-idf-weighted': cc.bmw[200]\n",
    "}"
   ]
  },
  {
   "cell_type": "markdown",
   "metadata": {},
   "source": [
    "# LDA"
   ]
  },
  {
   "cell_type": "code",
   "execution_count": 3,
   "metadata": {},
   "outputs": [],
   "source": [
    "with open('lda.txt', 'r') as f:\n",
    "    x, y = zip(*[(int(line.split(':')[0]), float(line.split(':')[1].strip())) for line in f.readlines()])\n",
    "    scores_lda = pd.DataFrame(y, index=x, columns=['c_v'])"
   ]
  },
  {
   "cell_type": "code",
   "execution_count": 10,
   "metadata": {},
   "outputs": [
    {
     "output_type": "display_data",
     "data": {
      "application/vnd.plotly.v1+json": {
       "config": {
        "plotlyServerURL": "https://plot.ly"
       },
       "data": [
        {
         "hovertemplate": "variable=c_v<br>liczba tematów=%{x}<br>c_v=%{y}<extra></extra>",
         "legendgroup": "c_v",
         "line": {
          "color": "#636efa",
          "dash": "solid"
         },
         "mode": "lines",
         "name": "c_v",
         "orientation": "v",
         "showlegend": true,
         "type": "scatter",
         "x": [
          10,
          20,
          30,
          40,
          50,
          60,
          70,
          80,
          90,
          100,
          150,
          200,
          250,
          300
         ],
         "xaxis": "x",
         "y": [
          0.6291192318287642,
          0.6286451794613528,
          0.5695820401162344,
          0.6226362818051472,
          0.5850611554904446,
          0.5735516564408863,
          0.5757096715313936,
          0.582384029028718,
          0.5800484277940015,
          0.5781484312117704,
          0.5396395074758393,
          0.5194403529806774,
          0.5043904605431779,
          0.49672939462426796
         ],
         "yaxis": "y"
        }
       ],
       "layout": {
        "legend": {
         "title": {
          "text": "variable"
         },
         "tracegroupgap": 0
        },
        "margin": {
         "t": 60
        },
        "showlegend": false,
        "template": {
         "data": {
          "bar": [
           {
            "error_x": {
             "color": "#2a3f5f"
            },
            "error_y": {
             "color": "#2a3f5f"
            },
            "marker": {
             "line": {
              "color": "#E5ECF6",
              "width": 0.5
             }
            },
            "type": "bar"
           }
          ],
          "barpolar": [
           {
            "marker": {
             "line": {
              "color": "#E5ECF6",
              "width": 0.5
             }
            },
            "type": "barpolar"
           }
          ],
          "carpet": [
           {
            "aaxis": {
             "endlinecolor": "#2a3f5f",
             "gridcolor": "white",
             "linecolor": "white",
             "minorgridcolor": "white",
             "startlinecolor": "#2a3f5f"
            },
            "baxis": {
             "endlinecolor": "#2a3f5f",
             "gridcolor": "white",
             "linecolor": "white",
             "minorgridcolor": "white",
             "startlinecolor": "#2a3f5f"
            },
            "type": "carpet"
           }
          ],
          "choropleth": [
           {
            "colorbar": {
             "outlinewidth": 0,
             "ticks": ""
            },
            "type": "choropleth"
           }
          ],
          "contour": [
           {
            "colorbar": {
             "outlinewidth": 0,
             "ticks": ""
            },
            "colorscale": [
             [
              0,
              "#0d0887"
             ],
             [
              0.1111111111111111,
              "#46039f"
             ],
             [
              0.2222222222222222,
              "#7201a8"
             ],
             [
              0.3333333333333333,
              "#9c179e"
             ],
             [
              0.4444444444444444,
              "#bd3786"
             ],
             [
              0.5555555555555556,
              "#d8576b"
             ],
             [
              0.6666666666666666,
              "#ed7953"
             ],
             [
              0.7777777777777778,
              "#fb9f3a"
             ],
             [
              0.8888888888888888,
              "#fdca26"
             ],
             [
              1,
              "#f0f921"
             ]
            ],
            "type": "contour"
           }
          ],
          "contourcarpet": [
           {
            "colorbar": {
             "outlinewidth": 0,
             "ticks": ""
            },
            "type": "contourcarpet"
           }
          ],
          "heatmap": [
           {
            "colorbar": {
             "outlinewidth": 0,
             "ticks": ""
            },
            "colorscale": [
             [
              0,
              "#0d0887"
             ],
             [
              0.1111111111111111,
              "#46039f"
             ],
             [
              0.2222222222222222,
              "#7201a8"
             ],
             [
              0.3333333333333333,
              "#9c179e"
             ],
             [
              0.4444444444444444,
              "#bd3786"
             ],
             [
              0.5555555555555556,
              "#d8576b"
             ],
             [
              0.6666666666666666,
              "#ed7953"
             ],
             [
              0.7777777777777778,
              "#fb9f3a"
             ],
             [
              0.8888888888888888,
              "#fdca26"
             ],
             [
              1,
              "#f0f921"
             ]
            ],
            "type": "heatmap"
           }
          ],
          "heatmapgl": [
           {
            "colorbar": {
             "outlinewidth": 0,
             "ticks": ""
            },
            "colorscale": [
             [
              0,
              "#0d0887"
             ],
             [
              0.1111111111111111,
              "#46039f"
             ],
             [
              0.2222222222222222,
              "#7201a8"
             ],
             [
              0.3333333333333333,
              "#9c179e"
             ],
             [
              0.4444444444444444,
              "#bd3786"
             ],
             [
              0.5555555555555556,
              "#d8576b"
             ],
             [
              0.6666666666666666,
              "#ed7953"
             ],
             [
              0.7777777777777778,
              "#fb9f3a"
             ],
             [
              0.8888888888888888,
              "#fdca26"
             ],
             [
              1,
              "#f0f921"
             ]
            ],
            "type": "heatmapgl"
           }
          ],
          "histogram": [
           {
            "marker": {
             "colorbar": {
              "outlinewidth": 0,
              "ticks": ""
             }
            },
            "type": "histogram"
           }
          ],
          "histogram2d": [
           {
            "colorbar": {
             "outlinewidth": 0,
             "ticks": ""
            },
            "colorscale": [
             [
              0,
              "#0d0887"
             ],
             [
              0.1111111111111111,
              "#46039f"
             ],
             [
              0.2222222222222222,
              "#7201a8"
             ],
             [
              0.3333333333333333,
              "#9c179e"
             ],
             [
              0.4444444444444444,
              "#bd3786"
             ],
             [
              0.5555555555555556,
              "#d8576b"
             ],
             [
              0.6666666666666666,
              "#ed7953"
             ],
             [
              0.7777777777777778,
              "#fb9f3a"
             ],
             [
              0.8888888888888888,
              "#fdca26"
             ],
             [
              1,
              "#f0f921"
             ]
            ],
            "type": "histogram2d"
           }
          ],
          "histogram2dcontour": [
           {
            "colorbar": {
             "outlinewidth": 0,
             "ticks": ""
            },
            "colorscale": [
             [
              0,
              "#0d0887"
             ],
             [
              0.1111111111111111,
              "#46039f"
             ],
             [
              0.2222222222222222,
              "#7201a8"
             ],
             [
              0.3333333333333333,
              "#9c179e"
             ],
             [
              0.4444444444444444,
              "#bd3786"
             ],
             [
              0.5555555555555556,
              "#d8576b"
             ],
             [
              0.6666666666666666,
              "#ed7953"
             ],
             [
              0.7777777777777778,
              "#fb9f3a"
             ],
             [
              0.8888888888888888,
              "#fdca26"
             ],
             [
              1,
              "#f0f921"
             ]
            ],
            "type": "histogram2dcontour"
           }
          ],
          "mesh3d": [
           {
            "colorbar": {
             "outlinewidth": 0,
             "ticks": ""
            },
            "type": "mesh3d"
           }
          ],
          "parcoords": [
           {
            "line": {
             "colorbar": {
              "outlinewidth": 0,
              "ticks": ""
             }
            },
            "type": "parcoords"
           }
          ],
          "pie": [
           {
            "automargin": true,
            "type": "pie"
           }
          ],
          "scatter": [
           {
            "marker": {
             "colorbar": {
              "outlinewidth": 0,
              "ticks": ""
             }
            },
            "type": "scatter"
           }
          ],
          "scatter3d": [
           {
            "line": {
             "colorbar": {
              "outlinewidth": 0,
              "ticks": ""
             }
            },
            "marker": {
             "colorbar": {
              "outlinewidth": 0,
              "ticks": ""
             }
            },
            "type": "scatter3d"
           }
          ],
          "scattercarpet": [
           {
            "marker": {
             "colorbar": {
              "outlinewidth": 0,
              "ticks": ""
             }
            },
            "type": "scattercarpet"
           }
          ],
          "scattergeo": [
           {
            "marker": {
             "colorbar": {
              "outlinewidth": 0,
              "ticks": ""
             }
            },
            "type": "scattergeo"
           }
          ],
          "scattergl": [
           {
            "marker": {
             "colorbar": {
              "outlinewidth": 0,
              "ticks": ""
             }
            },
            "type": "scattergl"
           }
          ],
          "scattermapbox": [
           {
            "marker": {
             "colorbar": {
              "outlinewidth": 0,
              "ticks": ""
             }
            },
            "type": "scattermapbox"
           }
          ],
          "scatterpolar": [
           {
            "marker": {
             "colorbar": {
              "outlinewidth": 0,
              "ticks": ""
             }
            },
            "type": "scatterpolar"
           }
          ],
          "scatterpolargl": [
           {
            "marker": {
             "colorbar": {
              "outlinewidth": 0,
              "ticks": ""
             }
            },
            "type": "scatterpolargl"
           }
          ],
          "scatterternary": [
           {
            "marker": {
             "colorbar": {
              "outlinewidth": 0,
              "ticks": ""
             }
            },
            "type": "scatterternary"
           }
          ],
          "surface": [
           {
            "colorbar": {
             "outlinewidth": 0,
             "ticks": ""
            },
            "colorscale": [
             [
              0,
              "#0d0887"
             ],
             [
              0.1111111111111111,
              "#46039f"
             ],
             [
              0.2222222222222222,
              "#7201a8"
             ],
             [
              0.3333333333333333,
              "#9c179e"
             ],
             [
              0.4444444444444444,
              "#bd3786"
             ],
             [
              0.5555555555555556,
              "#d8576b"
             ],
             [
              0.6666666666666666,
              "#ed7953"
             ],
             [
              0.7777777777777778,
              "#fb9f3a"
             ],
             [
              0.8888888888888888,
              "#fdca26"
             ],
             [
              1,
              "#f0f921"
             ]
            ],
            "type": "surface"
           }
          ],
          "table": [
           {
            "cells": {
             "fill": {
              "color": "#EBF0F8"
             },
             "line": {
              "color": "white"
             }
            },
            "header": {
             "fill": {
              "color": "#C8D4E3"
             },
             "line": {
              "color": "white"
             }
            },
            "type": "table"
           }
          ]
         },
         "layout": {
          "annotationdefaults": {
           "arrowcolor": "#2a3f5f",
           "arrowhead": 0,
           "arrowwidth": 1
          },
          "autotypenumbers": "strict",
          "coloraxis": {
           "colorbar": {
            "outlinewidth": 0,
            "ticks": ""
           }
          },
          "colorscale": {
           "diverging": [
            [
             0,
             "#8e0152"
            ],
            [
             0.1,
             "#c51b7d"
            ],
            [
             0.2,
             "#de77ae"
            ],
            [
             0.3,
             "#f1b6da"
            ],
            [
             0.4,
             "#fde0ef"
            ],
            [
             0.5,
             "#f7f7f7"
            ],
            [
             0.6,
             "#e6f5d0"
            ],
            [
             0.7,
             "#b8e186"
            ],
            [
             0.8,
             "#7fbc41"
            ],
            [
             0.9,
             "#4d9221"
            ],
            [
             1,
             "#276419"
            ]
           ],
           "sequential": [
            [
             0,
             "#0d0887"
            ],
            [
             0.1111111111111111,
             "#46039f"
            ],
            [
             0.2222222222222222,
             "#7201a8"
            ],
            [
             0.3333333333333333,
             "#9c179e"
            ],
            [
             0.4444444444444444,
             "#bd3786"
            ],
            [
             0.5555555555555556,
             "#d8576b"
            ],
            [
             0.6666666666666666,
             "#ed7953"
            ],
            [
             0.7777777777777778,
             "#fb9f3a"
            ],
            [
             0.8888888888888888,
             "#fdca26"
            ],
            [
             1,
             "#f0f921"
            ]
           ],
           "sequentialminus": [
            [
             0,
             "#0d0887"
            ],
            [
             0.1111111111111111,
             "#46039f"
            ],
            [
             0.2222222222222222,
             "#7201a8"
            ],
            [
             0.3333333333333333,
             "#9c179e"
            ],
            [
             0.4444444444444444,
             "#bd3786"
            ],
            [
             0.5555555555555556,
             "#d8576b"
            ],
            [
             0.6666666666666666,
             "#ed7953"
            ],
            [
             0.7777777777777778,
             "#fb9f3a"
            ],
            [
             0.8888888888888888,
             "#fdca26"
            ],
            [
             1,
             "#f0f921"
            ]
           ]
          },
          "colorway": [
           "#636efa",
           "#EF553B",
           "#00cc96",
           "#ab63fa",
           "#FFA15A",
           "#19d3f3",
           "#FF6692",
           "#B6E880",
           "#FF97FF",
           "#FECB52"
          ],
          "font": {
           "color": "#2a3f5f"
          },
          "geo": {
           "bgcolor": "white",
           "lakecolor": "white",
           "landcolor": "#E5ECF6",
           "showlakes": true,
           "showland": true,
           "subunitcolor": "white"
          },
          "hoverlabel": {
           "align": "left"
          },
          "hovermode": "closest",
          "mapbox": {
           "style": "light"
          },
          "paper_bgcolor": "white",
          "plot_bgcolor": "#E5ECF6",
          "polar": {
           "angularaxis": {
            "gridcolor": "white",
            "linecolor": "white",
            "ticks": ""
           },
           "bgcolor": "#E5ECF6",
           "radialaxis": {
            "gridcolor": "white",
            "linecolor": "white",
            "ticks": ""
           }
          },
          "scene": {
           "xaxis": {
            "backgroundcolor": "#E5ECF6",
            "gridcolor": "white",
            "gridwidth": 2,
            "linecolor": "white",
            "showbackground": true,
            "ticks": "",
            "zerolinecolor": "white"
           },
           "yaxis": {
            "backgroundcolor": "#E5ECF6",
            "gridcolor": "white",
            "gridwidth": 2,
            "linecolor": "white",
            "showbackground": true,
            "ticks": "",
            "zerolinecolor": "white"
           },
           "zaxis": {
            "backgroundcolor": "#E5ECF6",
            "gridcolor": "white",
            "gridwidth": 2,
            "linecolor": "white",
            "showbackground": true,
            "ticks": "",
            "zerolinecolor": "white"
           }
          },
          "shapedefaults": {
           "line": {
            "color": "#2a3f5f"
           }
          },
          "ternary": {
           "aaxis": {
            "gridcolor": "white",
            "linecolor": "white",
            "ticks": ""
           },
           "baxis": {
            "gridcolor": "white",
            "linecolor": "white",
            "ticks": ""
           },
           "bgcolor": "#E5ECF6",
           "caxis": {
            "gridcolor": "white",
            "linecolor": "white",
            "ticks": ""
           }
          },
          "title": {
           "x": 0.05
          },
          "xaxis": {
           "automargin": true,
           "gridcolor": "white",
           "linecolor": "white",
           "ticks": "",
           "title": {
            "standoff": 15
           },
           "zerolinecolor": "white",
           "zerolinewidth": 2
          },
          "yaxis": {
           "automargin": true,
           "gridcolor": "white",
           "linecolor": "white",
           "ticks": "",
           "title": {
            "standoff": 15
           },
           "zerolinecolor": "white",
           "zerolinewidth": 2
          }
         }
        },
        "xaxis": {
         "anchor": "y",
         "domain": [
          0,
          1
         ],
         "title": {
          "text": "liczba tematów"
         }
        },
        "yaxis": {
         "anchor": "x",
         "domain": [
          0,
          1
         ],
         "title": {
          "text": "c_v"
         }
        }
       }
      }
     },
     "metadata": {}
    }
   ],
   "source": [
    "px.line(scores_lda, labels={'index': 'liczba tematów', 'value': 'c_v'}).update_layout(showlegend=False)"
   ]
  },
  {
   "source": [],
   "cell_type": "markdown",
   "metadata": {}
  },
  {
   "cell_type": "code",
   "execution_count": null,
   "metadata": {},
   "outputs": [],
   "source": [
    "# umap hdb"
   ]
  },
  {
   "cell_type": "code",
   "execution_count": 156,
   "metadata": {},
   "outputs": [],
   "source": [
    "def invalid_score(row):\n",
    "    if row['embedding'] == 'sbert-default':\n",
    "        return True\n",
    "    elif row['embedding'] == 'sbert-lexrank-top1' and row['n_neighbors'] == 15:\n",
    "        return True\n",
    "    return False\n",
    "\n",
    "def fix_not_found(df):\n",
    "    df['not_found'] = [s['not_found'] if not invalid_score(s) else s['not_found']*5 for _, s in df.iterrows()]"
   ]
  },
  {
   "cell_type": "code",
   "execution_count": 428,
   "metadata": {},
   "outputs": [],
   "source": [
    "scores = pd.read_csv('scores.csv', na_values='None')\n",
    "fix_not_found(scores)\n",
    "\n",
    "scores['x'] = [f'{row.n_neighbors}: {int(row.min_cluster_size)}, {int(row.min_samples)}' for _, row in scores.iterrows()]\n",
    "category_orders = {'x': scores['x'].unique()}\n",
    "scores = scores[scores['topics_num'] >= 50]"
   ]
  },
  {
   "cell_type": "code",
   "execution_count": 481,
   "metadata": {},
   "outputs": [],
   "source": [
    "def plot_score(score):\n",
    "    fig = go.Figure()\n",
    "\n",
    "    for emb, data in scores.groupby(by='embedding'):\n",
    "        showlegend=True\n",
    "        for n_n, points in data.groupby(by='n_neighbors'):\n",
    "            fig.add_trace(go.Scatter(x=points['x'], y=points[score], name=emb, legendgroup=emb, line=dict(color=colors[emb]), showlegend=showlegend,\n",
    "                text=[f\"{emb}<br>Topics: {p['topics_num']}<br>Unknown: {p['not_found']}\" for _, p in points.iterrows()]))\n",
    "            showlegend=False\n",
    "\n",
    "    fig.update_xaxes(categoryorder='array', categoryarray=category_orders['x'])\n",
    "\n",
    "    fig.update_layout(\n",
    "        width=2000,\n",
    "        height=1200\n",
    "    )\n",
    "    return fig"
   ]
  },
  {
   "cell_type": "code",
   "execution_count": 429,
   "metadata": {},
   "outputs": [
    {
     "output_type": "display_data",
     "data": {
      "application/vnd.plotly.v1+json": {
       "config": {
        "plotlyServerURL": "https://plot.ly"
       },
       "data": [
        {
         "legendgroup": "sbert-default",
         "line": {
          "color": "#660100"
         },
         "name": "sbert-default",
         "showlegend": true,
         "text": [
          "sbert-default<br>Topic size: 1896<br>Unknown: 185945",
          "sbert-default<br>Topic size: 971<br>Unknown: 188090",
          "sbert-default<br>Topic size: 652<br>Unknown: 188320",
          "sbert-default<br>Topic size: 374<br>Unknown: 182550",
          "sbert-default<br>Topic size: 282<br>Unknown: 177045",
          "sbert-default<br>Topic size: 222<br>Unknown: 182990",
          "sbert-default<br>Topic size: 300<br>Unknown: 170080",
          "sbert-default<br>Topic size: 197<br>Unknown: 181430",
          "sbert-default<br>Topic size: 154<br>Unknown: 179670",
          "sbert-default<br>Topic size: 119<br>Unknown: 172450"
         ],
         "type": "scatter",
         "x": [
          "5: 10, 10",
          "5: 20, 10",
          "5: 20, 20",
          "5: 50, 10",
          "5: 50, 25",
          "5: 50, 50",
          "5: 100, 1",
          "5: 100, 10",
          "5: 100, 50",
          "5: 100, 100"
         ],
         "y": [
          null,
          0.3933485687871578,
          0.3911532868733763,
          0.3795223902489475,
          0.3969529181356159,
          0.407436584816276,
          0.3765986961727815,
          0.377569646293837,
          0.3765048962062227,
          0.3767112623248437
         ]
        },
        {
         "legendgroup": "sbert-default",
         "line": {
          "color": "#660100"
         },
         "name": "sbert-default",
         "showlegend": false,
         "text": [
          "sbert-default<br>Topic size: 922<br>Unknown: 193660",
          "sbert-default<br>Topic size: 503<br>Unknown: 187830",
          "sbert-default<br>Topic size: 351<br>Unknown: 181750",
          "sbert-default<br>Topic size: 248<br>Unknown: 183780",
          "sbert-default<br>Topic size: 204<br>Unknown: 182645",
          "sbert-default<br>Topic size: 177<br>Unknown: 181135",
          "sbert-default<br>Topic size: 210<br>Unknown: 169805",
          "sbert-default<br>Topic size: 154<br>Unknown: 182080",
          "sbert-default<br>Topic size: 118<br>Unknown: 175780"
         ],
         "type": "scatter",
         "x": [
          "10: 10, 10",
          "10: 20, 10",
          "10: 20, 20",
          "10: 50, 10",
          "10: 50, 25",
          "10: 50, 50",
          "10: 100, 1",
          "10: 100, 10",
          "10: 100, 50"
         ],
         "y": [
          0.4126014081677993,
          0.4065118063018054,
          0.3960722670540102,
          0.3984929497120487,
          0.3755330884008057,
          0.3896400562614692,
          0.3846799353774285,
          0.3786794671001935,
          0.3705942700963062
         ]
        },
        {
         "legendgroup": "sbert-default",
         "line": {
          "color": "#660100"
         },
         "name": "sbert-default",
         "showlegend": false,
         "text": [
          "sbert-default<br>Topic size: 738<br>Unknown: 205200",
          "sbert-default<br>Topic size: 425<br>Unknown: 203275",
          "sbert-default<br>Topic size: 312<br>Unknown: 198540",
          "sbert-default<br>Topic size: 211<br>Unknown: 191905",
          "sbert-default<br>Topic size: 146<br>Unknown: 180010",
          "sbert-default<br>Topic size: 172<br>Unknown: 164975",
          "sbert-default<br>Topic size: 129<br>Unknown: 185330"
         ],
         "type": "scatter",
         "x": [
          "15: 10, 10",
          "15: 20, 10",
          "15: 20, 20",
          "15: 50, 10",
          "15: 50, 50",
          "15: 100, 1",
          "15: 100, 10"
         ],
         "y": [
          0.405061516958429,
          0.389481141499953,
          0.3920079553333176,
          0.3800637713464638,
          0.3821062132200787,
          0.3773406559636321,
          0.3769080003116276
         ]
        },
        {
         "legendgroup": "sbert-lexrank-top1",
         "line": {
          "color": "#900300"
         },
         "name": "sbert-lexrank-top1",
         "showlegend": true,
         "text": [
          "sbert-lexrank-top1<br>Topic size: 995<br>Unknown: 172310",
          "sbert-lexrank-top1<br>Topic size: 568<br>Unknown: 146070",
          "sbert-lexrank-top1<br>Topic size: 444<br>Unknown: 136840",
          "sbert-lexrank-top1<br>Topic size: 292<br>Unknown: 139400",
          "sbert-lexrank-top1<br>Topic size: 251<br>Unknown: 132910",
          "sbert-lexrank-top1<br>Topic size: 214<br>Unknown: 134730",
          "sbert-lexrank-top1<br>Topic size: 285<br>Unknown: 146610",
          "sbert-lexrank-top1<br>Topic size: 182<br>Unknown: 135615",
          "sbert-lexrank-top1<br>Topic size: 141<br>Unknown: 119045",
          "sbert-lexrank-top1<br>Topic size: 127<br>Unknown: 117995"
         ],
         "type": "scatter",
         "x": [
          "15: 10, 10",
          "15: 20, 10",
          "15: 20, 20",
          "15: 50, 10",
          "15: 50, 25",
          "15: 50, 50",
          "15: 100, 1",
          "15: 100, 10",
          "15: 100, 50",
          "15: 100, 100"
         ],
         "y": [
          0.4239717522233435,
          0.4374091585417085,
          0.4412186721375803,
          0.4004811441231399,
          0.4277424952943486,
          0.4285388259421214,
          0.3954476773723724,
          0.4004123634068157,
          0.4306696863991604,
          0.4224767465079491
         ]
        },
        {
         "legendgroup": "sbert-lexrank-top1",
         "line": {
          "color": "#900300"
         },
         "name": "sbert-lexrank-top1",
         "showlegend": false,
         "text": [
          "sbert-lexrank-top1<br>Topic size: 905<br>Unknown: 174548",
          "sbert-lexrank-top1<br>Topic size: 582<br>Unknown: 170249",
          "sbert-lexrank-top1<br>Topic size: 390<br>Unknown: 141916",
          "sbert-lexrank-top1<br>Topic size: 313<br>Unknown: 166167",
          "sbert-lexrank-top1<br>Topic size: 218<br>Unknown: 130313",
          "sbert-lexrank-top1<br>Topic size: 175<br>Unknown: 119157",
          "sbert-lexrank-top1<br>Topic size: 265<br>Unknown: 151123",
          "sbert-lexrank-top1<br>Topic size: 210<br>Unknown: 158513",
          "sbert-lexrank-top1<br>Topic size: 132<br>Unknown: 126116",
          "sbert-lexrank-top1<br>Topic size: 122<br>Unknown: 125570"
         ],
         "type": "scatter",
         "x": [
          "20: 10, 10",
          "20: 20, 10",
          "20: 20, 20",
          "20: 50, 10",
          "20: 50, 25",
          "20: 50, 50",
          "20: 100, 1",
          "20: 100, 10",
          "20: 100, 50",
          "20: 100, 100"
         ],
         "y": [
          0.4180062130927336,
          0.4273667143764396,
          0.4421607414411231,
          0.4140025057360673,
          0.4252364137300288,
          0.4331717478138713,
          0.3944454499018606,
          0.4025112376741204,
          0.4200558244989047,
          0.4350038731601208
         ]
        },
        {
         "legendgroup": "sbert-lexrank-top5",
         "line": {
          "color": "#bb0600"
         },
         "name": "sbert-lexrank-top5",
         "showlegend": true,
         "text": [
          "sbert-lexrank-top5<br>Topic size: 2140<br>Unknown: 161096",
          "sbert-lexrank-top5<br>Topic size: 1131<br>Unknown: 153871",
          "sbert-lexrank-top5<br>Topic size: 836<br>Unknown: 150101",
          "sbert-lexrank-top5<br>Topic size: 498<br>Unknown: 142758",
          "sbert-lexrank-top5<br>Topic size: 433<br>Unknown: 148144",
          "sbert-lexrank-top5<br>Topic size: 333<br>Unknown: 135451",
          "sbert-lexrank-top5<br>Topic size: 369<br>Unknown: 124453",
          "sbert-lexrank-top5<br>Topic size: 297<br>Unknown: 134392",
          "sbert-lexrank-top5<br>Topic size: 203<br>Unknown: 111536",
          "sbert-lexrank-top5<br>Topic size: 199<br>Unknown: 131812"
         ],
         "type": "scatter",
         "x": [
          "5: 10, 10",
          "5: 20, 10",
          "5: 20, 20",
          "5: 50, 10",
          "5: 50, 25",
          "5: 50, 50",
          "5: 100, 1",
          "5: 100, 10",
          "5: 100, 50",
          "5: 100, 100"
         ],
         "y": [
          null,
          null,
          0.4732278423418726,
          0.4356842670758606,
          0.4318503307648888,
          0.4193428077155138,
          0.4163249045594738,
          0.4086220025222166,
          0.3968280100378394,
          0.390290342599088
         ]
        },
        {
         "legendgroup": "sbert-lexrank-top5",
         "line": {
          "color": "#bb0600"
         },
         "name": "sbert-lexrank-top5",
         "showlegend": false,
         "text": [
          "sbert-lexrank-top5<br>Topic size: 1333<br>Unknown: 169948",
          "sbert-lexrank-top5<br>Topic size: 788<br>Unknown: 163483",
          "sbert-lexrank-top5<br>Topic size: 606<br>Unknown: 151789",
          "sbert-lexrank-top5<br>Topic size: 387<br>Unknown: 148930",
          "sbert-lexrank-top5<br>Topic size: 358<br>Unknown: 157413",
          "sbert-lexrank-top5<br>Topic size: 297<br>Unknown: 143972",
          "sbert-lexrank-top5<br>Topic size: 295<br>Unknown: 129452",
          "sbert-lexrank-top5<br>Topic size: 230<br>Unknown: 139647",
          "sbert-lexrank-top5<br>Topic size: 183<br>Unknown: 123162",
          "sbert-lexrank-top5<br>Topic size: 161<br>Unknown: 117952"
         ],
         "type": "scatter",
         "x": [
          "10: 10, 10",
          "10: 20, 10",
          "10: 20, 20",
          "10: 50, 10",
          "10: 50, 25",
          "10: 50, 50",
          "10: 100, 1",
          "10: 100, 10",
          "10: 100, 50",
          "10: 100, 100"
         ],
         "y": [
          null,
          0.4688464067857759,
          0.4775927497398519,
          0.4308638837663787,
          0.4284118298831608,
          0.4041465521965345,
          0.4083965433740346,
          0.4131565444368296,
          0.4148811342982543,
          0.4273466403959913
         ]
        },
        {
         "legendgroup": "sbert-lexrank-top5",
         "line": {
          "color": "#bb0600"
         },
         "name": "sbert-lexrank-top5",
         "showlegend": false,
         "text": [
          "sbert-lexrank-top5<br>Topic size: 1132<br>Unknown: 180465",
          "sbert-lexrank-top5<br>Topic size: 696<br>Unknown: 173951",
          "sbert-lexrank-top5<br>Topic size: 563<br>Unknown: 166568",
          "sbert-lexrank-top5<br>Topic size: 365<br>Unknown: 157272",
          "sbert-lexrank-top5<br>Topic size: 323<br>Unknown: 156678",
          "sbert-lexrank-top5<br>Topic size: 245<br>Unknown: 141331",
          "sbert-lexrank-top5<br>Topic size: 295<br>Unknown: 146673",
          "sbert-lexrank-top5<br>Topic size: 206<br>Unknown: 141583",
          "sbert-lexrank-top5<br>Topic size: 182<br>Unknown: 134081",
          "sbert-lexrank-top5<br>Topic size: 149<br>Unknown: 123281"
         ],
         "type": "scatter",
         "x": [
          "15: 10, 10",
          "15: 20, 10",
          "15: 20, 20",
          "15: 50, 10",
          "15: 50, 25",
          "15: 50, 50",
          "15: 100, 1",
          "15: 100, 10",
          "15: 100, 50",
          "15: 100, 100"
         ],
         "y": [
          null,
          0.4735525911129951,
          0.4687949851999536,
          0.4352658042380455,
          0.4266507133149653,
          0.427330222042724,
          0.4106550782106335,
          0.4241148790286315,
          0.403034881962461,
          0.4148299641049378
         ]
        },
        {
         "legendgroup": "sbert-lexrank-top5",
         "line": {
          "color": "#bb0600"
         },
         "name": "sbert-lexrank-top5",
         "showlegend": false,
         "text": [
          "sbert-lexrank-top5<br>Topic size: 1019<br>Unknown: 174684",
          "sbert-lexrank-top5<br>Topic size: 640<br>Unknown: 171719",
          "sbert-lexrank-top5<br>Topic size: 495<br>Unknown: 167793",
          "sbert-lexrank-top5<br>Topic size: 330<br>Unknown: 158205",
          "sbert-lexrank-top5<br>Topic size: 282<br>Unknown: 143166",
          "sbert-lexrank-top5<br>Topic size: 227<br>Unknown: 127898",
          "sbert-lexrank-top5<br>Topic size: 265<br>Unknown: 144576",
          "sbert-lexrank-top5<br>Topic size: 204<br>Unknown: 144744",
          "sbert-lexrank-top5<br>Topic size: 166<br>Unknown: 122429",
          "sbert-lexrank-top5<br>Topic size: 146<br>Unknown: 116951"
         ],
         "type": "scatter",
         "x": [
          "20: 10, 10",
          "20: 20, 10",
          "20: 20, 20",
          "20: 50, 10",
          "20: 50, 25",
          "20: 50, 50",
          "20: 100, 1",
          "20: 100, 10",
          "20: 100, 50",
          "20: 100, 100"
         ],
         "y": [
          null,
          0.4670164041939074,
          0.4612306139020136,
          0.4328896131057289,
          0.4273495494734975,
          0.4435810436296269,
          0.3955390580951125,
          0.4126526398242447,
          0.3997433299428327,
          0.3954384071608177
         ]
        },
        {
         "legendgroup": "sbert-lexrank-weighted",
         "line": {
          "color": "#e81000"
         },
         "name": "sbert-lexrank-weighted",
         "showlegend": true,
         "text": [
          "sbert-lexrank-weighted<br>Topic size: 2215<br>Unknown: 155735",
          "sbert-lexrank-weighted<br>Topic size: 1169<br>Unknown: 145094",
          "sbert-lexrank-weighted<br>Topic size: 881<br>Unknown: 145665",
          "sbert-lexrank-weighted<br>Topic size: 512<br>Unknown: 134962",
          "sbert-lexrank-weighted<br>Topic size: 396<br>Unknown: 134052",
          "sbert-lexrank-weighted<br>Topic size: 320<br>Unknown: 137559",
          "sbert-lexrank-weighted<br>Topic size: 361<br>Unknown: 124682",
          "sbert-lexrank-weighted<br>Topic size: 271<br>Unknown: 132201",
          "sbert-lexrank-weighted<br>Topic size: 201<br>Unknown: 123010",
          "sbert-lexrank-weighted<br>Topic size: 169<br>Unknown: 129006"
         ],
         "type": "scatter",
         "x": [
          "5: 10, 10",
          "5: 20, 10",
          "5: 20, 20",
          "5: 50, 10",
          "5: 50, 25",
          "5: 50, 50",
          "5: 100, 1",
          "5: 100, 10",
          "5: 100, 50",
          "5: 100, 100"
         ],
         "y": [
          null,
          null,
          0.4583847460544644,
          0.4310350934067958,
          0.4309194855684117,
          0.4341330670747478,
          0.4113075789945328,
          0.4124789258708903,
          0.4217448295163959,
          0.3847238613648849
         ]
        },
        {
         "legendgroup": "sbert-lexrank-weighted",
         "line": {
          "color": "#e81000"
         },
         "name": "sbert-lexrank-weighted",
         "showlegend": false,
         "text": [
          "sbert-lexrank-weighted<br>Topic size: 1293<br>Unknown: 170935",
          "sbert-lexrank-weighted<br>Topic size: 729<br>Unknown: 162427",
          "sbert-lexrank-weighted<br>Topic size: 574<br>Unknown: 161807",
          "sbert-lexrank-weighted<br>Topic size: 365<br>Unknown: 155211",
          "sbert-lexrank-weighted<br>Topic size: 312<br>Unknown: 151126",
          "sbert-lexrank-weighted<br>Topic size: 247<br>Unknown: 144339",
          "sbert-lexrank-weighted<br>Topic size: 274<br>Unknown: 130600",
          "sbert-lexrank-weighted<br>Topic size: 201<br>Unknown: 135032",
          "sbert-lexrank-weighted<br>Topic size: 163<br>Unknown: 136181",
          "sbert-lexrank-weighted<br>Topic size: 126<br>Unknown: 110932"
         ],
         "type": "scatter",
         "x": [
          "10: 10, 10",
          "10: 20, 10",
          "10: 20, 20",
          "10: 50, 10",
          "10: 50, 25",
          "10: 50, 50",
          "10: 100, 1",
          "10: 100, 10",
          "10: 100, 50",
          "10: 100, 100"
         ],
         "y": [
          null,
          0.4679670610777569,
          0.4733476035750034,
          0.4287985217955051,
          0.4250145796994575,
          0.4188653928611137,
          0.420443884123452,
          0.4121375013016115,
          0.3959615686803349,
          0.3939889679201556
         ]
        },
        {
         "legendgroup": "sbert-lexrank-weighted",
         "line": {
          "color": "#e81000"
         },
         "name": "sbert-lexrank-weighted",
         "showlegend": false,
         "text": [
          "sbert-lexrank-weighted<br>Topic size: 1048<br>Unknown: 176046",
          "sbert-lexrank-weighted<br>Topic size: 658<br>Unknown: 177833",
          "sbert-lexrank-weighted<br>Topic size: 494<br>Unknown: 165271",
          "sbert-lexrank-weighted<br>Topic size: 338<br>Unknown: 166685",
          "sbert-lexrank-weighted<br>Topic size: 286<br>Unknown: 161399",
          "sbert-lexrank-weighted<br>Topic size: 228<br>Unknown: 156457",
          "sbert-lexrank-weighted<br>Topic size: 214<br>Unknown: 120597",
          "sbert-lexrank-weighted<br>Topic size: 172<br>Unknown: 137225",
          "sbert-lexrank-weighted<br>Topic size: 155<br>Unknown: 141932",
          "sbert-lexrank-weighted<br>Topic size: 125<br>Unknown: 132242"
         ],
         "type": "scatter",
         "x": [
          "15: 10, 10",
          "15: 20, 10",
          "15: 20, 20",
          "15: 50, 10",
          "15: 50, 25",
          "15: 50, 50",
          "15: 100, 1",
          "15: 100, 10",
          "15: 100, 50",
          "15: 100, 100"
         ],
         "y": [
          null,
          0.4630032364135069,
          0.4618784127197969,
          0.4284687731547809,
          0.4380295252487271,
          0.4511666931493607,
          0.4210645975214883,
          0.410029427330853,
          0.4278417451944178,
          0.3672627870492416
         ]
        },
        {
         "legendgroup": "sbert-lexrank-weighted",
         "line": {
          "color": "#e81000"
         },
         "name": "sbert-lexrank-weighted",
         "showlegend": false,
         "text": [
          "sbert-lexrank-weighted<br>Topic size: 958<br>Unknown: 183047",
          "sbert-lexrank-weighted<br>Topic size: 570<br>Unknown: 170576",
          "sbert-lexrank-weighted<br>Topic size: 428<br>Unknown: 160220",
          "sbert-lexrank-weighted<br>Topic size: 308<br>Unknown: 155995",
          "sbert-lexrank-weighted<br>Topic size: 236<br>Unknown: 146632",
          "sbert-lexrank-weighted<br>Topic size: 210<br>Unknown: 152949",
          "sbert-lexrank-weighted<br>Topic size: 219<br>Unknown: 134265",
          "sbert-lexrank-weighted<br>Topic size: 174<br>Unknown: 148987",
          "sbert-lexrank-weighted<br>Topic size: 136<br>Unknown: 137453",
          "sbert-lexrank-weighted<br>Topic size: 128<br>Unknown: 146128"
         ],
         "type": "scatter",
         "x": [
          "20: 10, 10",
          "20: 20, 10",
          "20: 20, 20",
          "20: 50, 10",
          "20: 50, 25",
          "20: 50, 50",
          "20: 100, 1",
          "20: 100, 10",
          "20: 100, 50",
          "20: 100, 100"
         ],
         "y": [
          0.4670060161518748,
          0.4603551931447722,
          0.4557157874423163,
          0.4403758103969634,
          0.4369725028500839,
          0.4184547140532758,
          0.4069305482630725,
          0.3849193200298944,
          0.4197384782409881,
          0.3895750638133163
         ]
        },
        {
         "legendgroup": "sbert-mean",
         "line": {
          "color": "#fd5100"
         },
         "name": "sbert-mean",
         "showlegend": true,
         "text": [
          "sbert-mean<br>Topic size: 2062<br>Unknown: 151790",
          "sbert-mean<br>Topic size: 1063<br>Unknown: 141618",
          "sbert-mean<br>Topic size: 814<br>Unknown: 152206",
          "sbert-mean<br>Topic size: 471<br>Unknown: 138952",
          "sbert-mean<br>Topic size: 379<br>Unknown: 139983",
          "sbert-mean<br>Topic size: 306<br>Unknown: 137669",
          "sbert-mean<br>Topic size: 290<br>Unknown: 108633",
          "sbert-mean<br>Topic size: 251<br>Unknown: 129211",
          "sbert-mean<br>Topic size: 189<br>Unknown: 130519",
          "sbert-mean<br>Topic size: 159<br>Unknown: 130629"
         ],
         "type": "scatter",
         "x": [
          "5: 10, 10",
          "5: 20, 10",
          "5: 20, 20",
          "5: 50, 10",
          "5: 50, 25",
          "5: 50, 50",
          "5: 100, 1",
          "5: 100, 10",
          "5: 100, 50",
          "5: 100, 100"
         ],
         "y": [
          null,
          null,
          0.443656609398122,
          0.4428982617450152,
          0.4311396520294548,
          0.4262394582960053,
          0.4053471571649534,
          0.41415680975276,
          0.4136050407566802,
          0.3961111557835992
         ]
        },
        {
         "legendgroup": "sbert-mean",
         "line": {
          "color": "#fd5100"
         },
         "name": "sbert-mean",
         "showlegend": false,
         "text": [
          "sbert-mean<br>Topic size: 1169<br>Unknown: 168708",
          "sbert-mean<br>Topic size: 701<br>Unknown: 166099",
          "sbert-mean<br>Topic size: 508<br>Unknown: 151029",
          "sbert-mean<br>Topic size: 330<br>Unknown: 144545",
          "sbert-mean<br>Topic size: 279<br>Unknown: 145866",
          "sbert-mean<br>Topic size: 227<br>Unknown: 141800",
          "sbert-mean<br>Topic size: 266<br>Unknown: 134045",
          "sbert-mean<br>Topic size: 187<br>Unknown: 138033",
          "sbert-mean<br>Topic size: 161<br>Unknown: 134920",
          "sbert-mean<br>Topic size: 127<br>Unknown: 119106"
         ],
         "type": "scatter",
         "x": [
          "10: 10, 10",
          "10: 20, 10",
          "10: 20, 20",
          "10: 50, 10",
          "10: 50, 25",
          "10: 50, 50",
          "10: 100, 1",
          "10: 100, 10",
          "10: 100, 50",
          "10: 100, 100"
         ],
         "y": [
          null,
          0.4560202157280767,
          0.4628986546077776,
          0.4382909339075483,
          0.4364032868746319,
          0.4263726907876378,
          0.4155199399205877,
          0.401850595878935,
          0.3992550983128292,
          0.4136618881484113
         ]
        },
        {
         "legendgroup": "sbert-mean",
         "line": {
          "color": "#fd5100"
         },
         "name": "sbert-mean",
         "showlegend": false,
         "text": [
          "sbert-mean<br>Topic size: 911<br>Unknown: 169715",
          "sbert-mean<br>Topic size: 553<br>Unknown: 165919",
          "sbert-mean<br>Topic size: 477<br>Unknown: 172864",
          "sbert-mean<br>Topic size: 263<br>Unknown: 145584",
          "sbert-mean<br>Topic size: 230<br>Unknown: 143620",
          "sbert-mean<br>Topic size: 185<br>Unknown: 137601",
          "sbert-mean<br>Topic size: 212<br>Unknown: 128240",
          "sbert-mean<br>Topic size: 161<br>Unknown: 134317",
          "sbert-mean<br>Topic size: 141<br>Unknown: 135507",
          "sbert-mean<br>Topic size: 117<br>Unknown: 125059"
         ],
         "type": "scatter",
         "x": [
          "15: 10, 10",
          "15: 20, 10",
          "15: 20, 20",
          "15: 50, 10",
          "15: 50, 25",
          "15: 50, 50",
          "15: 100, 1",
          "15: 100, 10",
          "15: 100, 50",
          "15: 100, 100"
         ],
         "y": [
          0.4722023522097401,
          0.4634086850456435,
          0.4423821261097694,
          0.4304279866184928,
          0.4239346465091454,
          0.438489521372837,
          0.4193559190213894,
          0.4120136394410079,
          0.4261606300639217,
          0.4055914919944812
         ]
        },
        {
         "legendgroup": "sbert-mean",
         "line": {
          "color": "#fd5100"
         },
         "name": "sbert-mean",
         "showlegend": false,
         "text": [
          "sbert-mean<br>Topic size: 857<br>Unknown: 180243",
          "sbert-mean<br>Topic size: 515<br>Unknown: 164058",
          "sbert-mean<br>Topic size: 403<br>Unknown: 161256",
          "sbert-mean<br>Topic size: 276<br>Unknown: 159503",
          "sbert-mean<br>Topic size: 226<br>Unknown: 151423",
          "sbert-mean<br>Topic size: 190<br>Unknown: 146848",
          "sbert-mean<br>Topic size: 212<br>Unknown: 133421",
          "sbert-mean<br>Topic size: 157<br>Unknown: 140080",
          "sbert-mean<br>Topic size: 130<br>Unknown: 137358",
          "sbert-mean<br>Topic size: 121<br>Unknown: 137663"
         ],
         "type": "scatter",
         "x": [
          "20: 10, 10",
          "20: 20, 10",
          "20: 20, 20",
          "20: 50, 10",
          "20: 50, 25",
          "20: 50, 50",
          "20: 100, 1",
          "20: 100, 10",
          "20: 100, 50",
          "20: 100, 100"
         ],
         "y": [
          0.4693726289321672,
          0.4536944212370613,
          0.4510026811212103,
          0.4250259016667264,
          0.4263267100109587,
          0.4342887552087284,
          0.4141545479937454,
          0.4174960446582149,
          0.4171423012588101,
          0.4093903492533005
         ]
        },
        {
         "legendgroup": "sbert-tf-idf-top1",
         "line": {
          "color": "#ff8700"
         },
         "name": "sbert-tf-idf-top1",
         "showlegend": true,
         "text": [
          "sbert-tf-idf-top1<br>Topic size: 1302<br>Unknown: 162583",
          "sbert-tf-idf-top1<br>Topic size: 752<br>Unknown: 159697",
          "sbert-tf-idf-top1<br>Topic size: 566<br>Unknown: 161029",
          "sbert-tf-idf-top1<br>Topic size: 326<br>Unknown: 158131",
          "sbert-tf-idf-top1<br>Topic size: 273<br>Unknown: 162760",
          "sbert-tf-idf-top1<br>Topic size: 232<br>Unknown: 157454",
          "sbert-tf-idf-top1<br>Topic size: 261<br>Unknown: 155372",
          "sbert-tf-idf-top1<br>Topic size: 169<br>Unknown: 142025",
          "sbert-tf-idf-top1<br>Topic size: 129<br>Unknown: 138937",
          "sbert-tf-idf-top1<br>Topic size: 103<br>Unknown: 133838"
         ],
         "type": "scatter",
         "x": [
          "15: 10, 10",
          "15: 20, 10",
          "15: 20, 20",
          "15: 50, 10",
          "15: 50, 25",
          "15: 50, 50",
          "15: 100, 1",
          "15: 100, 10",
          "15: 100, 50",
          "15: 100, 100"
         ],
         "y": [
          null,
          0.4206055167968304,
          0.4207338038240828,
          0.4151865542141879,
          0.4296711041239119,
          0.4165024979997785,
          0.3837580612240485,
          0.410115927054254,
          0.4003026146390825,
          0.434920508754284
         ]
        },
        {
         "legendgroup": "sbert-tf-idf-top1",
         "line": {
          "color": "#ff8700"
         },
         "name": "sbert-tf-idf-top1",
         "showlegend": false,
         "text": [
          "sbert-tf-idf-top1<br>Topic size: 1288<br>Unknown: 190075",
          "sbert-tf-idf-top1<br>Topic size: 665<br>Unknown: 163287",
          "sbert-tf-idf-top1<br>Topic size: 511<br>Unknown: 161868",
          "sbert-tf-idf-top1<br>Topic size: 296<br>Unknown: 159825",
          "sbert-tf-idf-top1<br>Topic size: 245<br>Unknown: 160002",
          "sbert-tf-idf-top1<br>Topic size: 220<br>Unknown: 161647",
          "sbert-tf-idf-top1<br>Topic size: 144<br>Unknown: 142227",
          "sbert-tf-idf-top1<br>Topic size: 136<br>Unknown: 152855",
          "sbert-tf-idf-top1<br>Topic size: 108<br>Unknown: 144273"
         ],
         "type": "scatter",
         "x": [
          "20: 10, 10",
          "20: 20, 10",
          "20: 20, 20",
          "20: 50, 10",
          "20: 50, 25",
          "20: 50, 50",
          "20: 100, 10",
          "20: 100, 50",
          "20: 100, 100"
         ],
         "y": [
          null,
          0.4270953580066037,
          0.4259420813879778,
          0.4175201832832542,
          0.4092853179880675,
          0.4093624235224066,
          0.3977418214622307,
          0.396373646080191,
          0.3839598279848523
         ]
        },
        {
         "legendgroup": "sbert-tf-idf-top5",
         "line": {
          "color": "#ffb402"
         },
         "name": "sbert-tf-idf-top5",
         "showlegend": true,
         "text": [
          "sbert-tf-idf-top5<br>Topic size: 1751<br>Unknown: 170864",
          "sbert-tf-idf-top5<br>Topic size: 922<br>Unknown: 165115",
          "sbert-tf-idf-top5<br>Topic size: 671<br>Unknown: 171853",
          "sbert-tf-idf-top5<br>Topic size: 379<br>Unknown: 151077",
          "sbert-tf-idf-top5<br>Topic size: 327<br>Unknown: 165330",
          "sbert-tf-idf-top5<br>Topic size: 258<br>Unknown: 162205",
          "sbert-tf-idf-top5<br>Topic size: 284<br>Unknown: 134862",
          "sbert-tf-idf-top5<br>Topic size: 208<br>Unknown: 149433",
          "sbert-tf-idf-top5<br>Topic size: 168<br>Unknown: 155491",
          "sbert-tf-idf-top5<br>Topic size: 99<br>Unknown: 84934"
         ],
         "type": "scatter",
         "x": [
          "5: 10, 10",
          "5: 20, 10",
          "5: 20, 20",
          "5: 50, 10",
          "5: 50, 25",
          "5: 50, 50",
          "5: 100, 1",
          "5: 100, 10",
          "5: 100, 50",
          "5: 100, 100"
         ],
         "y": [
          null,
          0.4376565266440726,
          0.4467306494262074,
          0.4252477350248481,
          0.4268209204123017,
          0.4159551936209583,
          0.401697906549123,
          0.4213935385243642,
          0.3864467634771181,
          0.4159497353505221
         ]
        },
        {
         "legendgroup": "sbert-tf-idf-top5",
         "line": {
          "color": "#ffb402"
         },
         "name": "sbert-tf-idf-top5",
         "showlegend": false,
         "text": [
          "sbert-tf-idf-top5<br>Topic size: 956<br>Unknown: 183206",
          "sbert-tf-idf-top5<br>Topic size: 521<br>Unknown: 170760",
          "sbert-tf-idf-top5<br>Topic size: 403<br>Unknown: 171946",
          "sbert-tf-idf-top5<br>Topic size: 278<br>Unknown: 164865",
          "sbert-tf-idf-top5<br>Topic size: 231<br>Unknown: 160668",
          "sbert-tf-idf-top5<br>Topic size: 205<br>Unknown: 159403",
          "sbert-tf-idf-top5<br>Topic size: 213<br>Unknown: 140321",
          "sbert-tf-idf-top5<br>Topic size: 169<br>Unknown: 157660",
          "sbert-tf-idf-top5<br>Topic size: 143<br>Unknown: 154290",
          "sbert-tf-idf-top5<br>Topic size: 113<br>Unknown: 105132"
         ],
         "type": "scatter",
         "x": [
          "10: 10, 10",
          "10: 20, 10",
          "10: 20, 20",
          "10: 50, 10",
          "10: 50, 25",
          "10: 50, 50",
          "10: 100, 1",
          "10: 100, 10",
          "10: 100, 50",
          "10: 100, 100"
         ],
         "y": [
          0.4536786492978177,
          0.4479800268149622,
          0.4535514742516075,
          0.4291683497979759,
          0.4034563950015434,
          0.4178819148265794,
          0.4010998502317776,
          0.390996167486192,
          0.38474512770665,
          0.410352272713312
         ]
        },
        {
         "legendgroup": "sbert-tf-idf-top5",
         "line": {
          "color": "#ffb402"
         },
         "name": "sbert-tf-idf-top5",
         "showlegend": false,
         "text": [
          "sbert-tf-idf-top5<br>Topic size: 788<br>Unknown: 189523",
          "sbert-tf-idf-top5<br>Topic size: 460<br>Unknown: 179528",
          "sbert-tf-idf-top5<br>Topic size: 332<br>Unknown: 174636",
          "sbert-tf-idf-top5<br>Topic size: 230<br>Unknown: 172900",
          "sbert-tf-idf-top5<br>Topic size: 198<br>Unknown: 163613",
          "sbert-tf-idf-top5<br>Topic size: 176<br>Unknown: 169493",
          "sbert-tf-idf-top5<br>Topic size: 205<br>Unknown: 160879",
          "sbert-tf-idf-top5<br>Topic size: 145<br>Unknown: 168864",
          "sbert-tf-idf-top5<br>Topic size: 130<br>Unknown: 165443",
          "sbert-tf-idf-top5<br>Topic size: 113<br>Unknown: 160388"
         ],
         "type": "scatter",
         "x": [
          "15: 10, 10",
          "15: 20, 10",
          "15: 20, 20",
          "15: 50, 10",
          "15: 50, 25",
          "15: 50, 50",
          "15: 100, 1",
          "15: 100, 10",
          "15: 100, 50",
          "15: 100, 100"
         ],
         "y": [
          0.4574315114769558,
          0.4596332818361046,
          0.4453761893643709,
          0.426421319675174,
          0.42103456599644,
          0.437415431059023,
          0.4190933562921843,
          0.3941045576563053,
          0.3915582221394395,
          0.3654613627538413
         ]
        },
        {
         "legendgroup": "sbert-tf-idf-top5",
         "line": {
          "color": "#ffb402"
         },
         "name": "sbert-tf-idf-top5",
         "showlegend": false,
         "text": [
          "sbert-tf-idf-top5<br>Topic size: 696<br>Unknown: 189775",
          "sbert-tf-idf-top5<br>Topic size: 432<br>Unknown: 189483",
          "sbert-tf-idf-top5<br>Topic size: 307<br>Unknown: 178515",
          "sbert-tf-idf-top5<br>Topic size: 242<br>Unknown: 189894",
          "sbert-tf-idf-top5<br>Topic size: 182<br>Unknown: 168151",
          "sbert-tf-idf-top5<br>Topic size: 155<br>Unknown: 139696",
          "sbert-tf-idf-top5<br>Topic size: 204<br>Unknown: 166049",
          "sbert-tf-idf-top5<br>Topic size: 152<br>Unknown: 178992",
          "sbert-tf-idf-top5<br>Topic size: 122<br>Unknown: 140742",
          "sbert-tf-idf-top5<br>Topic size: 110<br>Unknown: 150644"
         ],
         "type": "scatter",
         "x": [
          "20: 10, 10",
          "20: 20, 10",
          "20: 20, 20",
          "20: 50, 10",
          "20: 50, 25",
          "20: 50, 50",
          "20: 100, 1",
          "20: 100, 10",
          "20: 100, 50",
          "20: 100, 100"
         ],
         "y": [
          0.4576495963701906,
          0.4542139246869705,
          0.4453677543176223,
          0.432796501186871,
          0.4148335835964823,
          0.4244481402054345,
          0.3986380202254198,
          0.3812085186298123,
          0.3935819293980261,
          0.3802419160633035
         ]
        },
        {
         "legendgroup": "sbert-tf-idf-weighted",
         "line": {
          "color": "#ffdc0a"
         },
         "name": "sbert-tf-idf-weighted",
         "showlegend": true,
         "text": [
          "sbert-tf-idf-weighted<br>Topic size: 1968<br>Unknown: 161481",
          "sbert-tf-idf-weighted<br>Topic size: 1132<br>Unknown: 159361",
          "sbert-tf-idf-weighted<br>Topic size: 857<br>Unknown: 159629",
          "sbert-tf-idf-weighted<br>Topic size: 506<br>Unknown: 142757",
          "sbert-tf-idf-weighted<br>Topic size: 402<br>Unknown: 135303",
          "sbert-tf-idf-weighted<br>Topic size: 299<br>Unknown: 123437",
          "sbert-tf-idf-weighted<br>Topic size: 340<br>Unknown: 115603",
          "sbert-tf-idf-weighted<br>Topic size: 260<br>Unknown: 122547",
          "sbert-tf-idf-weighted<br>Topic size: 188<br>Unknown: 107362",
          "sbert-tf-idf-weighted<br>Topic size: 181<br>Unknown: 124859"
         ],
         "type": "scatter",
         "x": [
          "5: 10, 10",
          "5: 20, 10",
          "5: 20, 20",
          "5: 50, 10",
          "5: 50, 25",
          "5: 50, 50",
          "5: 100, 1",
          "5: 100, 10",
          "5: 100, 50",
          "5: 100, 100"
         ],
         "y": [
          null,
          null,
          0.4660340980443063,
          0.435364386677256,
          0.4361400583070901,
          0.4123460381887504,
          0.4102907846022162,
          0.4101501025965113,
          0.4104329635341973,
          0.4027455215867357
         ]
        },
        {
         "legendgroup": "sbert-tf-idf-weighted",
         "line": {
          "color": "#ffdc0a"
         },
         "name": "sbert-tf-idf-weighted",
         "showlegend": false,
         "text": [
          "sbert-tf-idf-weighted<br>Topic size: 1060<br>Unknown: 163933",
          "sbert-tf-idf-weighted<br>Topic size: 635<br>Unknown: 160890",
          "sbert-tf-idf-weighted<br>Topic size: 465<br>Unknown: 150212",
          "sbert-tf-idf-weighted<br>Topic size: 316<br>Unknown: 146732",
          "sbert-tf-idf-weighted<br>Topic size: 260<br>Unknown: 134451",
          "sbert-tf-idf-weighted<br>Topic size: 227<br>Unknown: 137350",
          "sbert-tf-idf-weighted<br>Topic size: 243<br>Unknown: 125834",
          "sbert-tf-idf-weighted<br>Topic size: 200<br>Unknown: 141507",
          "sbert-tf-idf-weighted<br>Topic size: 174<br>Unknown: 134789",
          "sbert-tf-idf-weighted<br>Topic size: 145<br>Unknown: 125287"
         ],
         "type": "scatter",
         "x": [
          "10: 10, 10",
          "10: 20, 10",
          "10: 20, 20",
          "10: 50, 10",
          "10: 50, 25",
          "10: 50, 50",
          "10: 100, 1",
          "10: 100, 10",
          "10: 100, 50",
          "10: 100, 100"
         ],
         "y": [
          null,
          0.4742263211258761,
          0.4575584015630173,
          0.4274195240035532,
          0.4257276024418909,
          0.4187226577875256,
          0.4117834718467232,
          0.4031866207224209,
          0.3879708949864138,
          0.4278169162382225
         ]
        },
        {
         "legendgroup": "sbert-tf-idf-weighted",
         "line": {
          "color": "#ffdc0a"
         },
         "name": "sbert-tf-idf-weighted",
         "showlegend": false,
         "text": [
          "sbert-tf-idf-weighted<br>Topic size: 871<br>Unknown: 171902",
          "sbert-tf-idf-weighted<br>Topic size: 503<br>Unknown: 156945",
          "sbert-tf-idf-weighted<br>Topic size: 390<br>Unknown: 151173",
          "sbert-tf-idf-weighted<br>Topic size: 266<br>Unknown: 143514",
          "sbert-tf-idf-weighted<br>Topic size: 250<br>Unknown: 149099",
          "sbert-tf-idf-weighted<br>Topic size: 218<br>Unknown: 141563",
          "sbert-tf-idf-weighted<br>Topic size: 225<br>Unknown: 134190",
          "sbert-tf-idf-weighted<br>Topic size: 172<br>Unknown: 136439",
          "sbert-tf-idf-weighted<br>Topic size: 162<br>Unknown: 138939",
          "sbert-tf-idf-weighted<br>Topic size: 129<br>Unknown: 110520"
         ],
         "type": "scatter",
         "x": [
          "15: 10, 10",
          "15: 20, 10",
          "15: 20, 20",
          "15: 50, 10",
          "15: 50, 25",
          "15: 50, 50",
          "15: 100, 1",
          "15: 100, 10",
          "15: 100, 50",
          "15: 100, 100"
         ],
         "y": [
          0.4830262820042447,
          0.4576554289630286,
          0.4549555869871868,
          0.4180175051527816,
          0.4179644128418518,
          0.4338442338866984,
          0.3941405812253364,
          0.3961377669706568,
          0.4124123939712415,
          0.3962670242680163
         ]
        },
        {
         "legendgroup": "sbert-tf-idf-weighted",
         "line": {
          "color": "#ffdc0a"
         },
         "name": "sbert-tf-idf-weighted",
         "showlegend": false,
         "text": [
          "sbert-tf-idf-weighted<br>Topic size: 790<br>Unknown: 180027",
          "sbert-tf-idf-weighted<br>Topic size: 468<br>Unknown: 166074",
          "sbert-tf-idf-weighted<br>Topic size: 383<br>Unknown: 163967",
          "sbert-tf-idf-weighted<br>Topic size: 252<br>Unknown: 151942",
          "sbert-tf-idf-weighted<br>Topic size: 230<br>Unknown: 152597",
          "sbert-tf-idf-weighted<br>Topic size: 202<br>Unknown: 147752",
          "sbert-tf-idf-weighted<br>Topic size: 209<br>Unknown: 133934",
          "sbert-tf-idf-weighted<br>Topic size: 168<br>Unknown: 149785",
          "sbert-tf-idf-weighted<br>Topic size: 152<br>Unknown: 144955",
          "sbert-tf-idf-weighted<br>Topic size: 138<br>Unknown: 141721"
         ],
         "type": "scatter",
         "x": [
          "20: 10, 10",
          "20: 20, 10",
          "20: 20, 20",
          "20: 50, 10",
          "20: 50, 25",
          "20: 50, 50",
          "20: 100, 1",
          "20: 100, 10",
          "20: 100, 50",
          "20: 100, 100"
         ],
         "y": [
          0.4691830133935937,
          0.4695648484519595,
          0.4678716803921832,
          0.4291495418157466,
          0.4276736609459713,
          0.4151130566084215,
          0.4186424202351035,
          0.4022784131469311,
          0.400191131567909,
          0.3785850795147802
         ]
        },
        {
         "legendgroup": "tfidf",
         "line": {
          "color": "#176e08"
         },
         "name": "tfidf",
         "showlegend": true,
         "text": [
          "tfidf<br>Topic size: 3166<br>Unknown: 101038",
          "tfidf<br>Topic size: 1990<br>Unknown: 99607",
          "tfidf<br>Topic size: 1701<br>Unknown: 100783",
          "tfidf<br>Topic size: 978<br>Unknown: 94076",
          "tfidf<br>Topic size: 897<br>Unknown: 96726",
          "tfidf<br>Topic size: 810<br>Unknown: 102580",
          "tfidf<br>Topic size: 603<br>Unknown: 86810",
          "tfidf<br>Topic size: 557<br>Unknown: 90334",
          "tfidf<br>Topic size: 492<br>Unknown: 94265",
          "tfidf<br>Topic size: 446<br>Unknown: 102057"
         ],
         "type": "scatter",
         "x": [
          "5: 10, 10",
          "5: 20, 10",
          "5: 20, 20",
          "5: 50, 10",
          "5: 50, 25",
          "5: 50, 50",
          "5: 100, 1",
          "5: 100, 10",
          "5: 100, 50",
          "5: 100, 100"
         ],
         "y": [
          null,
          null,
          null,
          0.5267454030326351,
          0.519464475741218,
          0.5168316413759978,
          0.5026818672806822,
          0.4978423866583282,
          0.4953706501457939,
          0.4795252914124492
         ]
        },
        {
         "legendgroup": "tfidf",
         "line": {
          "color": "#176e08"
         },
         "name": "tfidf",
         "showlegend": false,
         "text": [
          "tfidf<br>Topic size: 2521<br>Unknown: 108449",
          "tfidf<br>Topic size: 1658<br>Unknown: 103430",
          "tfidf<br>Topic size: 1428<br>Unknown: 103625",
          "tfidf<br>Topic size: 880<br>Unknown: 98508",
          "tfidf<br>Topic size: 821<br>Unknown: 102868",
          "tfidf<br>Topic size: 735<br>Unknown: 105518",
          "tfidf<br>Topic size: 554<br>Unknown: 91551",
          "tfidf<br>Topic size: 498<br>Unknown: 95789",
          "tfidf<br>Topic size: 434<br>Unknown: 100864",
          "tfidf<br>Topic size: 387<br>Unknown: 104238"
         ],
         "type": "scatter",
         "x": [
          "10: 10, 10",
          "10: 20, 10",
          "10: 20, 20",
          "10: 50, 10",
          "10: 50, 25",
          "10: 50, 50",
          "10: 100, 1",
          "10: 100, 10",
          "10: 100, 50",
          "10: 100, 100"
         ],
         "y": [
          null,
          null,
          null,
          0.5299000467733556,
          0.530831881070921,
          0.5221080426742627,
          0.497981553958419,
          0.4981518588486781,
          0.479063092594871,
          0.4848964000264448
         ]
        },
        {
         "legendgroup": "tfidf",
         "line": {
          "color": "#176e08"
         },
         "name": "tfidf",
         "showlegend": false,
         "text": [
          "tfidf<br>Topic size: 2192<br>Unknown: 115298",
          "tfidf<br>Topic size: 1490<br>Unknown: 109817",
          "tfidf<br>Topic size: 1305<br>Unknown: 111618",
          "tfidf<br>Topic size: 799<br>Unknown: 108555",
          "tfidf<br>Topic size: 728<br>Unknown: 110421",
          "tfidf<br>Topic size: 625<br>Unknown: 108128",
          "tfidf<br>Topic size: 534<br>Unknown: 102198",
          "tfidf<br>Topic size: 478<br>Unknown: 105028",
          "tfidf<br>Topic size: 420<br>Unknown: 107763",
          "tfidf<br>Topic size: 375<br>Unknown: 111247"
         ],
         "type": "scatter",
         "x": [
          "15: 10, 10",
          "15: 20, 10",
          "15: 20, 20",
          "15: 50, 10",
          "15: 50, 25",
          "15: 50, 50",
          "15: 100, 1",
          "15: 100, 10",
          "15: 100, 50",
          "15: 100, 100"
         ],
         "y": [
          null,
          null,
          null,
          0.5270219424166368,
          0.5206964855426351,
          0.5207369789340232,
          0.5024225134835089,
          0.5003843294445264,
          0.501346960830788,
          0.4769398175058431
         ]
        },
        {
         "legendgroup": "tfidf",
         "line": {
          "color": "#176e08"
         },
         "name": "tfidf",
         "showlegend": false,
         "text": [
          "tfidf<br>Topic size: 1975<br>Unknown: 124230",
          "tfidf<br>Topic size: 1397<br>Unknown: 118391",
          "tfidf<br>Topic size: 1209<br>Unknown: 117410",
          "tfidf<br>Topic size: 743<br>Unknown: 115244",
          "tfidf<br>Topic size: 677<br>Unknown: 114138",
          "tfidf<br>Topic size: 597<br>Unknown: 115866",
          "tfidf<br>Topic size: 493<br>Unknown: 102837",
          "tfidf<br>Topic size: 438<br>Unknown: 106867",
          "tfidf<br>Topic size: 398<br>Unknown: 112509",
          "tfidf<br>Topic size: 361<br>Unknown: 120966"
         ],
         "type": "scatter",
         "x": [
          "20: 10, 10",
          "20: 20, 10",
          "20: 20, 20",
          "20: 50, 10",
          "20: 50, 25",
          "20: 50, 50",
          "20: 100, 1",
          "20: 100, 10",
          "20: 100, 50",
          "20: 100, 100"
         ],
         "y": [
          null,
          null,
          null,
          0.518568274394874,
          0.5214125319416315,
          0.5064140579649065,
          0.5061040509507159,
          0.4788234811443649,
          0.4874302227903416,
          0.4716593861087018
         ]
        },
        {
         "legendgroup": "tfidf-spacy",
         "line": {
          "color": "#32d613"
         },
         "name": "tfidf-spacy",
         "showlegend": true,
         "text": [
          "tfidf-spacy<br>Topic size: 3122<br>Unknown: 104087",
          "tfidf-spacy<br>Topic size: 1987<br>Unknown: 100627",
          "tfidf-spacy<br>Topic size: 1708<br>Unknown: 101697",
          "tfidf-spacy<br>Topic size: 947<br>Unknown: 91029",
          "tfidf-spacy<br>Topic size: 894<br>Unknown: 97191",
          "tfidf-spacy<br>Topic size: 785<br>Unknown: 95429",
          "tfidf-spacy<br>Topic size: 598<br>Unknown: 86577",
          "tfidf-spacy<br>Topic size: 554<br>Unknown: 92231",
          "tfidf-spacy<br>Topic size: 487<br>Unknown: 94829",
          "tfidf-spacy<br>Topic size: 432<br>Unknown: 101513"
         ],
         "type": "scatter",
         "x": [
          "5: 10, 10",
          "5: 20, 10",
          "5: 20, 20",
          "5: 50, 10",
          "5: 50, 25",
          "5: 50, 50",
          "5: 100, 1",
          "5: 100, 10",
          "5: 100, 50",
          "5: 100, 100"
         ],
         "y": [
          null,
          null,
          null,
          0.5183568514038761,
          0.5137538063900222,
          0.5140200778990122,
          0.4909531815083076,
          0.4922552628225125,
          0.4689843609881158,
          0.4644581129914478
         ]
        },
        {
         "legendgroup": "tfidf-spacy",
         "line": {
          "color": "#32d613"
         },
         "name": "tfidf-spacy",
         "showlegend": false,
         "text": [
          "tfidf-spacy<br>Topic size: 2384<br>Unknown: 111531",
          "tfidf-spacy<br>Topic size: 1587<br>Unknown: 107137",
          "tfidf-spacy<br>Topic size: 1386<br>Unknown: 109689",
          "tfidf-spacy<br>Topic size: 839<br>Unknown: 103862",
          "tfidf-spacy<br>Topic size: 764<br>Unknown: 103253",
          "tfidf-spacy<br>Topic size: 682<br>Unknown: 107957",
          "tfidf-spacy<br>Topic size: 544<br>Unknown: 94432",
          "tfidf-spacy<br>Topic size: 500<br>Unknown: 97323",
          "tfidf-spacy<br>Topic size: 447<br>Unknown: 101234",
          "tfidf-spacy<br>Topic size: 412<br>Unknown: 106260"
         ],
         "type": "scatter",
         "x": [
          "10: 10, 10",
          "10: 20, 10",
          "10: 20, 20",
          "10: 50, 10",
          "10: 50, 25",
          "10: 50, 50",
          "10: 100, 1",
          "10: 100, 10",
          "10: 100, 50",
          "10: 100, 100"
         ],
         "y": [
          null,
          null,
          null,
          0.5108221577709989,
          0.5142600617039725,
          0.5118263357233682,
          0.48288384423137,
          0.4795103323369268,
          0.4839126317943146,
          0.47501131799595
         ]
        },
        {
         "legendgroup": "tfidf-spacy",
         "line": {
          "color": "#32d613"
         },
         "name": "tfidf-spacy",
         "showlegend": false,
         "text": [
          "tfidf-spacy<br>Topic size: 2049<br>Unknown: 119179",
          "tfidf-spacy<br>Topic size: 1414<br>Unknown: 114679",
          "tfidf-spacy<br>Topic size: 1231<br>Unknown: 113401",
          "tfidf-spacy<br>Topic size: 760<br>Unknown: 112260",
          "tfidf-spacy<br>Topic size: 704<br>Unknown: 109677",
          "tfidf-spacy<br>Topic size: 625<br>Unknown: 108184",
          "tfidf-spacy<br>Topic size: 517<br>Unknown: 102312",
          "tfidf-spacy<br>Topic size: 472<br>Unknown: 109949",
          "tfidf-spacy<br>Topic size: 424<br>Unknown: 107108",
          "tfidf-spacy<br>Topic size: 361<br>Unknown: 104723"
         ],
         "type": "scatter",
         "x": [
          "15: 10, 10",
          "15: 20, 10",
          "15: 20, 20",
          "15: 50, 10",
          "15: 50, 25",
          "15: 50, 50",
          "15: 100, 1",
          "15: 100, 10",
          "15: 100, 50",
          "15: 100, 100"
         ],
         "y": [
          null,
          null,
          null,
          0.5109301645731767,
          0.5113067707787989,
          0.505130788579297,
          0.4914844712320482,
          0.4832392197959942,
          0.4694241980963384,
          0.4678186300799345
         ]
        },
        {
         "legendgroup": "tfidf-spacy",
         "line": {
          "color": "#32d613"
         },
         "name": "tfidf-spacy",
         "showlegend": false,
         "text": [
          "tfidf-spacy<br>Topic size: 1795<br>Unknown: 122619",
          "tfidf-spacy<br>Topic size: 1316<br>Unknown: 120519",
          "tfidf-spacy<br>Topic size: 1130<br>Unknown: 118965",
          "tfidf-spacy<br>Topic size: 718<br>Unknown: 110459",
          "tfidf-spacy<br>Topic size: 661<br>Unknown: 110827",
          "tfidf-spacy<br>Topic size: 599<br>Unknown: 114948",
          "tfidf-spacy<br>Topic size: 500<br>Unknown: 106795",
          "tfidf-spacy<br>Topic size: 447<br>Unknown: 107348",
          "tfidf-spacy<br>Topic size: 386<br>Unknown: 103489",
          "tfidf-spacy<br>Topic size: 348<br>Unknown: 106281"
         ],
         "type": "scatter",
         "x": [
          "20: 10, 10",
          "20: 20, 10",
          "20: 20, 20",
          "20: 50, 10",
          "20: 50, 25",
          "20: 50, 50",
          "20: 100, 1",
          "20: 100, 10",
          "20: 100, 50",
          "20: 100, 100"
         ],
         "y": [
          null,
          null,
          null,
          0.5025479438318157,
          0.5040532918427315,
          0.500175519151488,
          0.4682624463775596,
          0.4674553207677646,
          0.4780417652272474,
          0.4793188322212869
         ]
        },
        {
         "legendgroup": "use-default",
         "line": {
          "color": "#000d94"
         },
         "name": "use-default",
         "showlegend": true,
         "text": [
          "use-default<br>Topic size: 2320<br>Unknown: 168449",
          "use-default<br>Topic size: 1185<br>Unknown: 157924",
          "use-default<br>Topic size: 851<br>Unknown: 156391",
          "use-default<br>Topic size: 468<br>Unknown: 142916",
          "use-default<br>Topic size: 365<br>Unknown: 140735",
          "use-default<br>Topic size: 305<br>Unknown: 142972",
          "use-default<br>Topic size: 344<br>Unknown: 134310",
          "use-default<br>Topic size: 257<br>Unknown: 131986",
          "use-default<br>Topic size: 189<br>Unknown: 126356",
          "use-default<br>Topic size: 144<br>Unknown: 119373"
         ],
         "type": "scatter",
         "x": [
          "5: 10, 10",
          "5: 20, 10",
          "5: 20, 20",
          "5: 50, 10",
          "5: 50, 25",
          "5: 50, 50",
          "5: 100, 1",
          "5: 100, 10",
          "5: 100, 50",
          "5: 100, 100"
         ],
         "y": [
          null,
          null,
          0.4784082212142265,
          0.4547179891641008,
          0.4396967659813238,
          0.4174274321672481,
          0.414854521068043,
          0.3983562955326792,
          0.3878054858754316,
          0.3675001665119773
         ]
        },
        {
         "legendgroup": "use-default",
         "line": {
          "color": "#000d94"
         },
         "name": "use-default",
         "showlegend": false,
         "text": [
          "use-default<br>Topic size: 1389<br>Unknown: 165258",
          "use-default<br>Topic size: 764<br>Unknown: 155334",
          "use-default<br>Topic size: 600<br>Unknown: 162100",
          "use-default<br>Topic size: 345<br>Unknown: 141428",
          "use-default<br>Topic size: 321<br>Unknown: 153931",
          "use-default<br>Topic size: 265<br>Unknown: 148088",
          "use-default<br>Topic size: 265<br>Unknown: 129448",
          "use-default<br>Topic size: 212<br>Unknown: 136431",
          "use-default<br>Topic size: 183<br>Unknown: 145104",
          "use-default<br>Topic size: 145<br>Unknown: 133044"
         ],
         "type": "scatter",
         "x": [
          "10: 10, 10",
          "10: 20, 10",
          "10: 20, 20",
          "10: 50, 10",
          "10: 50, 25",
          "10: 50, 50",
          "10: 100, 1",
          "10: 100, 10",
          "10: 100, 50",
          "10: 100, 100"
         ],
         "y": [
          null,
          0.4785336432759837,
          0.4734486426220888,
          0.4394892485571195,
          0.451101729361449,
          0.4400658072341465,
          0.4033820809097072,
          0.4132945128400471,
          0.4023109428902389,
          0.4118465403162534
         ]
        },
        {
         "legendgroup": "use-default",
         "line": {
          "color": "#000d94"
         },
         "name": "use-default",
         "showlegend": false,
         "text": [
          "use-default<br>Topic size: 1180<br>Unknown: 176946",
          "use-default<br>Topic size: 680<br>Unknown: 174619",
          "use-default<br>Topic size: 506<br>Unknown: 167956",
          "use-default<br>Topic size: 339<br>Unknown: 157403",
          "use-default<br>Topic size: 274<br>Unknown: 146213",
          "use-default<br>Topic size: 222<br>Unknown: 143338",
          "use-default<br>Topic size: 254<br>Unknown: 133453",
          "use-default<br>Topic size: 197<br>Unknown: 151287",
          "use-default<br>Topic size: 152<br>Unknown: 141350",
          "use-default<br>Topic size: 118<br>Unknown: 131381"
         ],
         "type": "scatter",
         "x": [
          "15: 10, 10",
          "15: 20, 10",
          "15: 20, 20",
          "15: 50, 10",
          "15: 50, 25",
          "15: 50, 50",
          "15: 100, 1",
          "15: 100, 10",
          "15: 100, 50",
          "15: 100, 100"
         ],
         "y": [
          null,
          0.4852467338151264,
          0.4800446098943414,
          0.4460222107284662,
          0.4620576764450838,
          0.432993575915376,
          0.4173579632485572,
          0.3958920563769792,
          0.3853122883272801,
          0.4049523355405582
         ]
        },
        {
         "legendgroup": "use-default",
         "line": {
          "color": "#000d94"
         },
         "name": "use-default",
         "showlegend": false,
         "text": [
          "use-default<br>Topic size: 1013<br>Unknown: 179619",
          "use-default<br>Topic size: 637<br>Unknown: 176330",
          "use-default<br>Topic size: 471<br>Unknown: 169874",
          "use-default<br>Topic size: 297<br>Unknown: 150140",
          "use-default<br>Topic size: 252<br>Unknown: 151859",
          "use-default<br>Topic size: 206<br>Unknown: 139269",
          "use-default<br>Topic size: 224<br>Unknown: 132618",
          "use-default<br>Topic size: 183<br>Unknown: 143406",
          "use-default<br>Topic size: 147<br>Unknown: 144270",
          "use-default<br>Topic size: 117<br>Unknown: 138515"
         ],
         "type": "scatter",
         "x": [
          "20: 10, 10",
          "20: 20, 10",
          "20: 20, 20",
          "20: 50, 10",
          "20: 50, 25",
          "20: 50, 50",
          "20: 100, 1",
          "20: 100, 10",
          "20: 100, 50",
          "20: 100, 100"
         ],
         "y": [
          null,
          0.4788180396884691,
          0.4625296360997777,
          0.4468559014783447,
          0.4412377235512428,
          0.4465242897789034,
          0.4213541543996853,
          0.4047648855588504,
          0.3979652909001198,
          0.3975359732033758
         ]
        },
        {
         "legendgroup": "use-lexrank-top1",
         "line": {
          "color": "#0017d1"
         },
         "name": "use-lexrank-top1",
         "showlegend": true,
         "text": [
          "use-lexrank-top1<br>Topic size: 1024<br>Unknown: 176210",
          "use-lexrank-top1<br>Topic size: 621<br>Unknown: 169745",
          "use-lexrank-top1<br>Topic size: 463<br>Unknown: 151009",
          "use-lexrank-top1<br>Topic size: 349<br>Unknown: 163865",
          "use-lexrank-top1<br>Topic size: 258<br>Unknown: 141003",
          "use-lexrank-top1<br>Topic size: 212<br>Unknown: 140589",
          "use-lexrank-top1<br>Topic size: 270<br>Unknown: 144281",
          "use-lexrank-top1<br>Topic size: 207<br>Unknown: 154798",
          "use-lexrank-top1<br>Topic size: 156<br>Unknown: 143121",
          "use-lexrank-top1<br>Topic size: 129<br>Unknown: 137992"
         ],
         "type": "scatter",
         "x": [
          "15: 10, 10",
          "15: 20, 10",
          "15: 20, 20",
          "15: 50, 10",
          "15: 50, 25",
          "15: 50, 50",
          "15: 100, 1",
          "15: 100, 10",
          "15: 100, 50",
          "15: 100, 100"
         ],
         "y": [
          null,
          0.458193649522129,
          0.4606266851068894,
          0.4308274695354239,
          0.4321986014731274,
          0.4209880976521962,
          0.4039567186836927,
          0.3975056757486494,
          0.4031040623655285,
          0.4220345538903788
         ]
        },
        {
         "legendgroup": "use-lexrank-top1",
         "line": {
          "color": "#0017d1"
         },
         "name": "use-lexrank-top1",
         "showlegend": false,
         "text": [
          "use-lexrank-top1<br>Topic size: 873<br>Unknown: 161017",
          "use-lexrank-top1<br>Topic size: 528<br>Unknown: 152389",
          "use-lexrank-top1<br>Topic size: 441<br>Unknown: 167588",
          "use-lexrank-top1<br>Topic size: 274<br>Unknown: 145308",
          "use-lexrank-top1<br>Topic size: 234<br>Unknown: 145740",
          "use-lexrank-top1<br>Topic size: 190<br>Unknown: 143712",
          "use-lexrank-top1<br>Topic size: 240<br>Unknown: 143090",
          "use-lexrank-top1<br>Topic size: 166<br>Unknown: 137125",
          "use-lexrank-top1<br>Topic size: 129<br>Unknown: 136533",
          "use-lexrank-top1<br>Topic size: 118<br>Unknown: 137751"
         ],
         "type": "scatter",
         "x": [
          "20: 10, 10",
          "20: 20, 10",
          "20: 20, 20",
          "20: 50, 10",
          "20: 50, 25",
          "20: 50, 50",
          "20: 100, 1",
          "20: 100, 10",
          "20: 100, 50",
          "20: 100, 100"
         ],
         "y": [
          0.4630947510927701,
          0.4603788068719078,
          0.440262596982629,
          0.4372660754042843,
          0.4300402574362285,
          0.4304072387422827,
          0.4126013592331112,
          0.413195540961915,
          0.4192980846550838,
          0.4168228733697339
         ]
        },
        {
         "legendgroup": "use-lexrank-top5",
         "line": {
          "color": "#001ef7"
         },
         "name": "use-lexrank-top5",
         "showlegend": true,
         "text": [
          "use-lexrank-top5<br>Topic size: 1107<br>Unknown: 160424",
          "use-lexrank-top5<br>Topic size: 676<br>Unknown: 160709",
          "use-lexrank-top5<br>Topic size: 560<br>Unknown: 157444",
          "use-lexrank-top5<br>Topic size: 372<br>Unknown: 149258",
          "use-lexrank-top5<br>Topic size: 305<br>Unknown: 133281",
          "use-lexrank-top5<br>Topic size: 276<br>Unknown: 140985",
          "use-lexrank-top5<br>Topic size: 283<br>Unknown: 131438",
          "use-lexrank-top5<br>Topic size: 230<br>Unknown: 142580",
          "use-lexrank-top5<br>Topic size: 189<br>Unknown: 135696",
          "use-lexrank-top5<br>Topic size: 159<br>Unknown: 137316"
         ],
         "type": "scatter",
         "x": [
          "15: 10, 10",
          "15: 20, 10",
          "15: 20, 20",
          "15: 50, 10",
          "15: 50, 25",
          "15: 50, 50",
          "15: 100, 1",
          "15: 100, 10",
          "15: 100, 50",
          "15: 100, 100"
         ],
         "y": [
          null,
          0.4565236958940141,
          0.4500152000593857,
          0.4264806079591629,
          0.4134227695376974,
          0.4206757969279254,
          0.4057567647186181,
          0.3808709960221209,
          0.4035188999146366,
          0.3729968935734145
         ]
        },
        {
         "legendgroup": "use-lexrank-top5",
         "line": {
          "color": "#001ef7"
         },
         "name": "use-lexrank-top5",
         "showlegend": false,
         "text": [
          "use-lexrank-top5<br>Topic size: 1010<br>Unknown: 165575",
          "use-lexrank-top5<br>Topic size: 674<br>Unknown: 166743",
          "use-lexrank-top5<br>Topic size: 546<br>Unknown: 160540",
          "use-lexrank-top5<br>Topic size: 352<br>Unknown: 151167",
          "use-lexrank-top5<br>Topic size: 312<br>Unknown: 147368",
          "use-lexrank-top5<br>Topic size: 273<br>Unknown: 147209",
          "use-lexrank-top5<br>Topic size: 289<br>Unknown: 140051",
          "use-lexrank-top5<br>Topic size: 228<br>Unknown: 151085",
          "use-lexrank-top5<br>Topic size: 177<br>Unknown: 139598",
          "use-lexrank-top5<br>Topic size: 145<br>Unknown: 138498"
         ],
         "type": "scatter",
         "x": [
          "20: 10, 10",
          "20: 20, 10",
          "20: 20, 20",
          "20: 50, 10",
          "20: 50, 25",
          "20: 50, 50",
          "20: 100, 1",
          "20: 100, 10",
          "20: 100, 50",
          "20: 100, 100"
         ],
         "y": [
          null,
          0.4756909009333627,
          0.4721977134531808,
          0.4266514294893427,
          0.4199020847414342,
          0.4197135816937276,
          0.4098290104518636,
          0.4096033295099043,
          0.3735639507913241,
          0.3889896275576444
         ]
        },
        {
         "legendgroup": "use-lexrank-weighted",
         "line": {
          "color": "#691fff"
         },
         "name": "use-lexrank-weighted",
         "showlegend": true,
         "text": [
          "use-lexrank-weighted<br>Topic size: 1023<br>Unknown: 165425",
          "use-lexrank-weighted<br>Topic size: 642<br>Unknown: 163991",
          "use-lexrank-weighted<br>Topic size: 519<br>Unknown: 160937",
          "use-lexrank-weighted<br>Topic size: 316<br>Unknown: 152270",
          "use-lexrank-weighted<br>Topic size: 265<br>Unknown: 144103",
          "use-lexrank-weighted<br>Topic size: 243<br>Unknown: 153640",
          "use-lexrank-weighted<br>Topic size: 248<br>Unknown: 140402",
          "use-lexrank-weighted<br>Topic size: 197<br>Unknown: 147651",
          "use-lexrank-weighted<br>Topic size: 161<br>Unknown: 146824",
          "use-lexrank-weighted<br>Topic size: 146<br>Unknown: 147573"
         ],
         "type": "scatter",
         "x": [
          "15: 10, 10",
          "15: 20, 10",
          "15: 20, 20",
          "15: 50, 10",
          "15: 50, 25",
          "15: 50, 50",
          "15: 100, 1",
          "15: 100, 10",
          "15: 100, 50",
          "15: 100, 100"
         ],
         "y": [
          null,
          0.4650171360158702,
          0.4720058178413189,
          0.4218220825570646,
          0.4216335675388362,
          0.4242017200973991,
          0.4131923211717253,
          0.3900143187080879,
          0.3885118539164424,
          0.3836071094724252
         ]
        },
        {
         "legendgroup": "use-lexrank-weighted",
         "line": {
          "color": "#691fff"
         },
         "name": "use-lexrank-weighted",
         "showlegend": false,
         "text": [
          "use-lexrank-weighted<br>Topic size: 958<br>Unknown: 170818",
          "use-lexrank-weighted<br>Topic size: 567<br>Unknown: 159346",
          "use-lexrank-weighted<br>Topic size: 477<br>Unknown: 163184",
          "use-lexrank-weighted<br>Topic size: 301<br>Unknown: 152277",
          "use-lexrank-weighted<br>Topic size: 251<br>Unknown: 147466",
          "use-lexrank-weighted<br>Topic size: 237<br>Unknown: 154875",
          "use-lexrank-weighted<br>Topic size: 238<br>Unknown: 139242",
          "use-lexrank-weighted<br>Topic size: 186<br>Unknown: 148863",
          "use-lexrank-weighted<br>Topic size: 158<br>Unknown: 153003",
          "use-lexrank-weighted<br>Topic size: 137<br>Unknown: 149190"
         ],
         "type": "scatter",
         "x": [
          "20: 10, 10",
          "20: 20, 10",
          "20: 20, 20",
          "20: 50, 10",
          "20: 50, 25",
          "20: 50, 50",
          "20: 100, 1",
          "20: 100, 10",
          "20: 100, 50",
          "20: 100, 100"
         ],
         "y": [
          0.485070836521257,
          0.4747750639208288,
          0.4613449604532383,
          0.4374563671819383,
          0.4117103461201875,
          0.4152947339481069,
          0.4105288178347012,
          0.3906180441306878,
          0.3456415298299954,
          0.3776688887401792
         ]
        },
        {
         "legendgroup": "use-mean",
         "line": {
          "color": "#b11eff"
         },
         "name": "use-mean",
         "showlegend": true,
         "text": [
          "use-mean<br>Topic size: 958<br>Unknown: 175245",
          "use-mean<br>Topic size: 555<br>Unknown: 165079",
          "use-mean<br>Topic size: 442<br>Unknown: 159221",
          "use-mean<br>Topic size: 282<br>Unknown: 150523",
          "use-mean<br>Topic size: 263<br>Unknown: 153819",
          "use-mean<br>Topic size: 217<br>Unknown: 152398",
          "use-mean<br>Topic size: 208<br>Unknown: 132104",
          "use-mean<br>Topic size: 174<br>Unknown: 141971",
          "use-mean<br>Topic size: 143<br>Unknown: 143597",
          "use-mean<br>Topic size: 117<br>Unknown: 131022"
         ],
         "type": "scatter",
         "x": [
          "15: 10, 10",
          "15: 20, 10",
          "15: 20, 20",
          "15: 50, 10",
          "15: 50, 25",
          "15: 50, 50",
          "15: 100, 1",
          "15: 100, 10",
          "15: 100, 50",
          "15: 100, 100"
         ],
         "y": [
          0.4855279996303336,
          0.4903790901281458,
          0.4884723559888242,
          0.4564454379064651,
          0.4464947787498202,
          0.435039150366778,
          0.4010275264818597,
          0.4304281355108006,
          0.4033921074322731,
          0.3940264410395369
         ]
        },
        {
         "legendgroup": "use-mean",
         "line": {
          "color": "#b11eff"
         },
         "name": "use-mean",
         "showlegend": false,
         "text": [
          "use-mean<br>Topic size: 784<br>Unknown: 164685",
          "use-mean<br>Topic size: 478<br>Unknown: 164395",
          "use-mean<br>Topic size: 376<br>Unknown: 153545",
          "use-mean<br>Topic size: 235<br>Unknown: 144317",
          "use-mean<br>Topic size: 199<br>Unknown: 141705",
          "use-mean<br>Topic size: 182<br>Unknown: 145783",
          "use-mean<br>Topic size: 203<br>Unknown: 140046",
          "use-mean<br>Topic size: 160<br>Unknown: 147992",
          "use-mean<br>Topic size: 125<br>Unknown: 137174",
          "use-mean<br>Topic size: 111<br>Unknown: 135007"
         ],
         "type": "scatter",
         "x": [
          "20: 10, 10",
          "20: 20, 10",
          "20: 20, 20",
          "20: 50, 10",
          "20: 50, 25",
          "20: 50, 50",
          "20: 100, 1",
          "20: 100, 10",
          "20: 100, 50",
          "20: 100, 100"
         ],
         "y": [
          0.4673073274204041,
          0.4751294914280661,
          0.4555475889855181,
          0.4318117696486221,
          0.4390527497902526,
          0.4242253272935181,
          0.4232314988317401,
          0.4075862844168975,
          0.3889383698154891,
          0.3955716371747061
         ]
        },
        {
         "legendgroup": "use-tf-idf-top5",
         "line": {
          "color": "#fc5eff"
         },
         "name": "use-tf-idf-top5",
         "showlegend": true,
         "text": [
          "use-tf-idf-top5<br>Topic size: 739<br>Unknown: 173283",
          "use-tf-idf-top5<br>Topic size: 416<br>Unknown: 160302",
          "use-tf-idf-top5<br>Topic size: 312<br>Unknown: 148997",
          "use-tf-idf-top5<br>Topic size: 222<br>Unknown: 150589",
          "use-tf-idf-top5<br>Topic size: 188<br>Unknown: 148560",
          "use-tf-idf-top5<br>Topic size: 156<br>Unknown: 146495",
          "use-tf-idf-top5<br>Topic size: 186<br>Unknown: 143857",
          "use-tf-idf-top5<br>Topic size: 130<br>Unknown: 142614",
          "use-tf-idf-top5<br>Topic size: 119<br>Unknown: 147638",
          "use-tf-idf-top5<br>Topic size: 105<br>Unknown: 148130"
         ],
         "type": "scatter",
         "x": [
          "15: 10, 10",
          "15: 20, 10",
          "15: 20, 20",
          "15: 50, 10",
          "15: 50, 25",
          "15: 50, 50",
          "15: 100, 1",
          "15: 100, 10",
          "15: 100, 50",
          "15: 100, 100"
         ],
         "y": [
          0.4836807402483351,
          0.4769334471453408,
          0.4652269844675253,
          0.4323192170800837,
          0.4146961781128122,
          0.420259940080333,
          0.4139764247800769,
          0.3805362328847046,
          0.405306928557864,
          0.3872876755342352
         ]
        },
        {
         "legendgroup": "use-tf-idf-top5",
         "line": {
          "color": "#fc5eff"
         },
         "name": "use-tf-idf-top5",
         "showlegend": false,
         "text": [
          "use-tf-idf-top5<br>Topic size: 666<br>Unknown: 184270",
          "use-tf-idf-top5<br>Topic size: 390<br>Unknown: 173755",
          "use-tf-idf-top5<br>Topic size: 309<br>Unknown: 170156",
          "use-tf-idf-top5<br>Topic size: 216<br>Unknown: 161310",
          "use-tf-idf-top5<br>Topic size: 170<br>Unknown: 152722",
          "use-tf-idf-top5<br>Topic size: 147<br>Unknown: 152042",
          "use-tf-idf-top5<br>Topic size: 149<br>Unknown: 132123",
          "use-tf-idf-top5<br>Topic size: 126<br>Unknown: 159325",
          "use-tf-idf-top5<br>Topic size: 103<br>Unknown: 144677",
          "use-tf-idf-top5<br>Topic size: 98<br>Unknown: 149071"
         ],
         "type": "scatter",
         "x": [
          "20: 10, 10",
          "20: 20, 10",
          "20: 20, 20",
          "20: 50, 10",
          "20: 50, 25",
          "20: 50, 50",
          "20: 100, 1",
          "20: 100, 10",
          "20: 100, 50",
          "20: 100, 100"
         ],
         "y": [
          0.4735744128506605,
          0.4534333207099913,
          0.4583568580038299,
          0.4091859202946407,
          0.4257718914262639,
          0.4206799958288546,
          0.3904255176549697,
          0.3601249656386968,
          0.388656510336388,
          0.379606041633672
         ]
        },
        {
         "legendgroup": "use-tf-idf-weighted",
         "line": {
          "color": "#ff91ff"
         },
         "name": "use-tf-idf-weighted",
         "showlegend": true,
         "text": [
          "use-tf-idf-weighted<br>Topic size: 885<br>Unknown: 171557",
          "use-tf-idf-weighted<br>Topic size: 553<br>Unknown: 164910",
          "use-tf-idf-weighted<br>Topic size: 384<br>Unknown: 115783",
          "use-tf-idf-weighted<br>Topic size: 302<br>Unknown: 158141",
          "use-tf-idf-weighted<br>Topic size: 262<br>Unknown: 153966",
          "use-tf-idf-weighted<br>Topic size: 189<br>Unknown: 102069",
          "use-tf-idf-weighted<br>Topic size: 237<br>Unknown: 136939",
          "use-tf-idf-weighted<br>Topic size: 185<br>Unknown: 150470",
          "use-tf-idf-weighted<br>Topic size: 135<br>Unknown: 100334",
          "use-tf-idf-weighted<br>Topic size: 151<br>Unknown: 151837"
         ],
         "type": "scatter",
         "x": [
          "15: 10, 10",
          "15: 20, 10",
          "15: 20, 20",
          "15: 50, 10",
          "15: 50, 25",
          "15: 50, 50",
          "15: 100, 1",
          "15: 100, 10",
          "15: 100, 50",
          "15: 100, 100"
         ],
         "y": [
          0.5125481321347017,
          0.5111805144998578,
          0.525486547329541,
          0.4895861372282525,
          0.4786258413303212,
          0.4556793431246215,
          0.4764751031651302,
          0.4561900495704676,
          0.4247451871883055,
          0.4332833651860442
         ]
        },
        {
         "legendgroup": "use-tf-idf-weighted",
         "line": {
          "color": "#ff91ff"
         },
         "name": "use-tf-idf-weighted",
         "showlegend": false,
         "text": [
          "use-tf-idf-weighted<br>Topic size: 765<br>Unknown: 173416",
          "use-tf-idf-weighted<br>Topic size: 492<br>Unknown: 173609",
          "use-tf-idf-weighted<br>Topic size: 404<br>Unknown: 165925",
          "use-tf-idf-weighted<br>Topic size: 270<br>Unknown: 160523",
          "use-tf-idf-weighted<br>Topic size: 220<br>Unknown: 117088",
          "use-tf-idf-weighted<br>Topic size: 185<br>Unknown: 112144",
          "use-tf-idf-weighted<br>Topic size: 236<br>Unknown: 158101",
          "use-tf-idf-weighted<br>Topic size: 167<br>Unknown: 147824",
          "use-tf-idf-weighted<br>Topic size: 129<br>Unknown: 109917",
          "use-tf-idf-weighted<br>Topic size: 148<br>Unknown: 160908"
         ],
         "type": "scatter",
         "x": [
          "20: 10, 10",
          "20: 20, 10",
          "20: 20, 20",
          "20: 50, 10",
          "20: 50, 25",
          "20: 50, 50",
          "20: 100, 1",
          "20: 100, 10",
          "20: 100, 50",
          "20: 100, 100"
         ],
         "y": [
          0.504921562823311,
          0.5112696516036053,
          0.4951046921492162,
          0.4594472287900907,
          0.4638808790932914,
          0.4688043269084688,
          0.4605604150147319,
          0.4368886849634168,
          0.4114353792503112,
          0.4181939649335813
         ]
        }
       ],
       "layout": {
        "height": 1200,
        "template": {
         "data": {
          "bar": [
           {
            "error_x": {
             "color": "#2a3f5f"
            },
            "error_y": {
             "color": "#2a3f5f"
            },
            "marker": {
             "line": {
              "color": "#E5ECF6",
              "width": 0.5
             }
            },
            "type": "bar"
           }
          ],
          "barpolar": [
           {
            "marker": {
             "line": {
              "color": "#E5ECF6",
              "width": 0.5
             }
            },
            "type": "barpolar"
           }
          ],
          "carpet": [
           {
            "aaxis": {
             "endlinecolor": "#2a3f5f",
             "gridcolor": "white",
             "linecolor": "white",
             "minorgridcolor": "white",
             "startlinecolor": "#2a3f5f"
            },
            "baxis": {
             "endlinecolor": "#2a3f5f",
             "gridcolor": "white",
             "linecolor": "white",
             "minorgridcolor": "white",
             "startlinecolor": "#2a3f5f"
            },
            "type": "carpet"
           }
          ],
          "choropleth": [
           {
            "colorbar": {
             "outlinewidth": 0,
             "ticks": ""
            },
            "type": "choropleth"
           }
          ],
          "contour": [
           {
            "colorbar": {
             "outlinewidth": 0,
             "ticks": ""
            },
            "colorscale": [
             [
              0,
              "#0d0887"
             ],
             [
              0.1111111111111111,
              "#46039f"
             ],
             [
              0.2222222222222222,
              "#7201a8"
             ],
             [
              0.3333333333333333,
              "#9c179e"
             ],
             [
              0.4444444444444444,
              "#bd3786"
             ],
             [
              0.5555555555555556,
              "#d8576b"
             ],
             [
              0.6666666666666666,
              "#ed7953"
             ],
             [
              0.7777777777777778,
              "#fb9f3a"
             ],
             [
              0.8888888888888888,
              "#fdca26"
             ],
             [
              1,
              "#f0f921"
             ]
            ],
            "type": "contour"
           }
          ],
          "contourcarpet": [
           {
            "colorbar": {
             "outlinewidth": 0,
             "ticks": ""
            },
            "type": "contourcarpet"
           }
          ],
          "heatmap": [
           {
            "colorbar": {
             "outlinewidth": 0,
             "ticks": ""
            },
            "colorscale": [
             [
              0,
              "#0d0887"
             ],
             [
              0.1111111111111111,
              "#46039f"
             ],
             [
              0.2222222222222222,
              "#7201a8"
             ],
             [
              0.3333333333333333,
              "#9c179e"
             ],
             [
              0.4444444444444444,
              "#bd3786"
             ],
             [
              0.5555555555555556,
              "#d8576b"
             ],
             [
              0.6666666666666666,
              "#ed7953"
             ],
             [
              0.7777777777777778,
              "#fb9f3a"
             ],
             [
              0.8888888888888888,
              "#fdca26"
             ],
             [
              1,
              "#f0f921"
             ]
            ],
            "type": "heatmap"
           }
          ],
          "heatmapgl": [
           {
            "colorbar": {
             "outlinewidth": 0,
             "ticks": ""
            },
            "colorscale": [
             [
              0,
              "#0d0887"
             ],
             [
              0.1111111111111111,
              "#46039f"
             ],
             [
              0.2222222222222222,
              "#7201a8"
             ],
             [
              0.3333333333333333,
              "#9c179e"
             ],
             [
              0.4444444444444444,
              "#bd3786"
             ],
             [
              0.5555555555555556,
              "#d8576b"
             ],
             [
              0.6666666666666666,
              "#ed7953"
             ],
             [
              0.7777777777777778,
              "#fb9f3a"
             ],
             [
              0.8888888888888888,
              "#fdca26"
             ],
             [
              1,
              "#f0f921"
             ]
            ],
            "type": "heatmapgl"
           }
          ],
          "histogram": [
           {
            "marker": {
             "colorbar": {
              "outlinewidth": 0,
              "ticks": ""
             }
            },
            "type": "histogram"
           }
          ],
          "histogram2d": [
           {
            "colorbar": {
             "outlinewidth": 0,
             "ticks": ""
            },
            "colorscale": [
             [
              0,
              "#0d0887"
             ],
             [
              0.1111111111111111,
              "#46039f"
             ],
             [
              0.2222222222222222,
              "#7201a8"
             ],
             [
              0.3333333333333333,
              "#9c179e"
             ],
             [
              0.4444444444444444,
              "#bd3786"
             ],
             [
              0.5555555555555556,
              "#d8576b"
             ],
             [
              0.6666666666666666,
              "#ed7953"
             ],
             [
              0.7777777777777778,
              "#fb9f3a"
             ],
             [
              0.8888888888888888,
              "#fdca26"
             ],
             [
              1,
              "#f0f921"
             ]
            ],
            "type": "histogram2d"
           }
          ],
          "histogram2dcontour": [
           {
            "colorbar": {
             "outlinewidth": 0,
             "ticks": ""
            },
            "colorscale": [
             [
              0,
              "#0d0887"
             ],
             [
              0.1111111111111111,
              "#46039f"
             ],
             [
              0.2222222222222222,
              "#7201a8"
             ],
             [
              0.3333333333333333,
              "#9c179e"
             ],
             [
              0.4444444444444444,
              "#bd3786"
             ],
             [
              0.5555555555555556,
              "#d8576b"
             ],
             [
              0.6666666666666666,
              "#ed7953"
             ],
             [
              0.7777777777777778,
              "#fb9f3a"
             ],
             [
              0.8888888888888888,
              "#fdca26"
             ],
             [
              1,
              "#f0f921"
             ]
            ],
            "type": "histogram2dcontour"
           }
          ],
          "mesh3d": [
           {
            "colorbar": {
             "outlinewidth": 0,
             "ticks": ""
            },
            "type": "mesh3d"
           }
          ],
          "parcoords": [
           {
            "line": {
             "colorbar": {
              "outlinewidth": 0,
              "ticks": ""
             }
            },
            "type": "parcoords"
           }
          ],
          "pie": [
           {
            "automargin": true,
            "type": "pie"
           }
          ],
          "scatter": [
           {
            "marker": {
             "colorbar": {
              "outlinewidth": 0,
              "ticks": ""
             }
            },
            "type": "scatter"
           }
          ],
          "scatter3d": [
           {
            "line": {
             "colorbar": {
              "outlinewidth": 0,
              "ticks": ""
             }
            },
            "marker": {
             "colorbar": {
              "outlinewidth": 0,
              "ticks": ""
             }
            },
            "type": "scatter3d"
           }
          ],
          "scattercarpet": [
           {
            "marker": {
             "colorbar": {
              "outlinewidth": 0,
              "ticks": ""
             }
            },
            "type": "scattercarpet"
           }
          ],
          "scattergeo": [
           {
            "marker": {
             "colorbar": {
              "outlinewidth": 0,
              "ticks": ""
             }
            },
            "type": "scattergeo"
           }
          ],
          "scattergl": [
           {
            "marker": {
             "colorbar": {
              "outlinewidth": 0,
              "ticks": ""
             }
            },
            "type": "scattergl"
           }
          ],
          "scattermapbox": [
           {
            "marker": {
             "colorbar": {
              "outlinewidth": 0,
              "ticks": ""
             }
            },
            "type": "scattermapbox"
           }
          ],
          "scatterpolar": [
           {
            "marker": {
             "colorbar": {
              "outlinewidth": 0,
              "ticks": ""
             }
            },
            "type": "scatterpolar"
           }
          ],
          "scatterpolargl": [
           {
            "marker": {
             "colorbar": {
              "outlinewidth": 0,
              "ticks": ""
             }
            },
            "type": "scatterpolargl"
           }
          ],
          "scatterternary": [
           {
            "marker": {
             "colorbar": {
              "outlinewidth": 0,
              "ticks": ""
             }
            },
            "type": "scatterternary"
           }
          ],
          "surface": [
           {
            "colorbar": {
             "outlinewidth": 0,
             "ticks": ""
            },
            "colorscale": [
             [
              0,
              "#0d0887"
             ],
             [
              0.1111111111111111,
              "#46039f"
             ],
             [
              0.2222222222222222,
              "#7201a8"
             ],
             [
              0.3333333333333333,
              "#9c179e"
             ],
             [
              0.4444444444444444,
              "#bd3786"
             ],
             [
              0.5555555555555556,
              "#d8576b"
             ],
             [
              0.6666666666666666,
              "#ed7953"
             ],
             [
              0.7777777777777778,
              "#fb9f3a"
             ],
             [
              0.8888888888888888,
              "#fdca26"
             ],
             [
              1,
              "#f0f921"
             ]
            ],
            "type": "surface"
           }
          ],
          "table": [
           {
            "cells": {
             "fill": {
              "color": "#EBF0F8"
             },
             "line": {
              "color": "white"
             }
            },
            "header": {
             "fill": {
              "color": "#C8D4E3"
             },
             "line": {
              "color": "white"
             }
            },
            "type": "table"
           }
          ]
         },
         "layout": {
          "annotationdefaults": {
           "arrowcolor": "#2a3f5f",
           "arrowhead": 0,
           "arrowwidth": 1
          },
          "autotypenumbers": "strict",
          "coloraxis": {
           "colorbar": {
            "outlinewidth": 0,
            "ticks": ""
           }
          },
          "colorscale": {
           "diverging": [
            [
             0,
             "#8e0152"
            ],
            [
             0.1,
             "#c51b7d"
            ],
            [
             0.2,
             "#de77ae"
            ],
            [
             0.3,
             "#f1b6da"
            ],
            [
             0.4,
             "#fde0ef"
            ],
            [
             0.5,
             "#f7f7f7"
            ],
            [
             0.6,
             "#e6f5d0"
            ],
            [
             0.7,
             "#b8e186"
            ],
            [
             0.8,
             "#7fbc41"
            ],
            [
             0.9,
             "#4d9221"
            ],
            [
             1,
             "#276419"
            ]
           ],
           "sequential": [
            [
             0,
             "#0d0887"
            ],
            [
             0.1111111111111111,
             "#46039f"
            ],
            [
             0.2222222222222222,
             "#7201a8"
            ],
            [
             0.3333333333333333,
             "#9c179e"
            ],
            [
             0.4444444444444444,
             "#bd3786"
            ],
            [
             0.5555555555555556,
             "#d8576b"
            ],
            [
             0.6666666666666666,
             "#ed7953"
            ],
            [
             0.7777777777777778,
             "#fb9f3a"
            ],
            [
             0.8888888888888888,
             "#fdca26"
            ],
            [
             1,
             "#f0f921"
            ]
           ],
           "sequentialminus": [
            [
             0,
             "#0d0887"
            ],
            [
             0.1111111111111111,
             "#46039f"
            ],
            [
             0.2222222222222222,
             "#7201a8"
            ],
            [
             0.3333333333333333,
             "#9c179e"
            ],
            [
             0.4444444444444444,
             "#bd3786"
            ],
            [
             0.5555555555555556,
             "#d8576b"
            ],
            [
             0.6666666666666666,
             "#ed7953"
            ],
            [
             0.7777777777777778,
             "#fb9f3a"
            ],
            [
             0.8888888888888888,
             "#fdca26"
            ],
            [
             1,
             "#f0f921"
            ]
           ]
          },
          "colorway": [
           "#636efa",
           "#EF553B",
           "#00cc96",
           "#ab63fa",
           "#FFA15A",
           "#19d3f3",
           "#FF6692",
           "#B6E880",
           "#FF97FF",
           "#FECB52"
          ],
          "font": {
           "color": "#2a3f5f"
          },
          "geo": {
           "bgcolor": "white",
           "lakecolor": "white",
           "landcolor": "#E5ECF6",
           "showlakes": true,
           "showland": true,
           "subunitcolor": "white"
          },
          "hoverlabel": {
           "align": "left"
          },
          "hovermode": "closest",
          "mapbox": {
           "style": "light"
          },
          "paper_bgcolor": "white",
          "plot_bgcolor": "#E5ECF6",
          "polar": {
           "angularaxis": {
            "gridcolor": "white",
            "linecolor": "white",
            "ticks": ""
           },
           "bgcolor": "#E5ECF6",
           "radialaxis": {
            "gridcolor": "white",
            "linecolor": "white",
            "ticks": ""
           }
          },
          "scene": {
           "xaxis": {
            "backgroundcolor": "#E5ECF6",
            "gridcolor": "white",
            "gridwidth": 2,
            "linecolor": "white",
            "showbackground": true,
            "ticks": "",
            "zerolinecolor": "white"
           },
           "yaxis": {
            "backgroundcolor": "#E5ECF6",
            "gridcolor": "white",
            "gridwidth": 2,
            "linecolor": "white",
            "showbackground": true,
            "ticks": "",
            "zerolinecolor": "white"
           },
           "zaxis": {
            "backgroundcolor": "#E5ECF6",
            "gridcolor": "white",
            "gridwidth": 2,
            "linecolor": "white",
            "showbackground": true,
            "ticks": "",
            "zerolinecolor": "white"
           }
          },
          "shapedefaults": {
           "line": {
            "color": "#2a3f5f"
           }
          },
          "ternary": {
           "aaxis": {
            "gridcolor": "white",
            "linecolor": "white",
            "ticks": ""
           },
           "baxis": {
            "gridcolor": "white",
            "linecolor": "white",
            "ticks": ""
           },
           "bgcolor": "#E5ECF6",
           "caxis": {
            "gridcolor": "white",
            "linecolor": "white",
            "ticks": ""
           }
          },
          "title": {
           "x": 0.05
          },
          "xaxis": {
           "automargin": true,
           "gridcolor": "white",
           "linecolor": "white",
           "ticks": "",
           "title": {
            "standoff": 15
           },
           "zerolinecolor": "white",
           "zerolinewidth": 2
          },
          "yaxis": {
           "automargin": true,
           "gridcolor": "white",
           "linecolor": "white",
           "ticks": "",
           "title": {
            "standoff": 15
           },
           "zerolinecolor": "white",
           "zerolinewidth": 2
          }
         }
        },
        "width": 2000,
        "xaxis": {
         "categoryarray": [
          "5: 10, 10",
          "5: 20, 10",
          "5: 20, 20",
          "5: 50, 10",
          "5: 50, 25",
          "5: 50, 50",
          "5: 100, 1",
          "5: 100, 10",
          "5: 100, 50",
          "5: 100, 100",
          "10: 10, 10",
          "10: 20, 10",
          "10: 20, 20",
          "10: 50, 10",
          "10: 50, 25",
          "10: 50, 50",
          "10: 100, 1",
          "10: 100, 10",
          "10: 100, 50",
          "10: 100, 100",
          "15: 10, 10",
          "15: 20, 10",
          "15: 20, 20",
          "15: 50, 10",
          "15: 50, 25",
          "15: 50, 50",
          "15: 100, 1",
          "15: 100, 10",
          "15: 100, 50",
          "15: 100, 100",
          "20: 10, 10",
          "20: 20, 10",
          "20: 20, 20",
          "20: 50, 10",
          "20: 50, 25",
          "20: 50, 50",
          "20: 100, 1",
          "20: 100, 10",
          "20: 100, 50",
          "20: 100, 100"
         ],
         "categoryorder": "array"
        }
       }
      }
     },
     "metadata": {}
    }
   ],
   "source": [
    "plot_score('c_v')"
   ]
  },
  {
   "cell_type": "code",
   "execution_count": 430,
   "metadata": {},
   "outputs": [
    {
     "output_type": "display_data",
     "data": {
      "application/vnd.plotly.v1+json": {
       "config": {
        "plotlyServerURL": "https://plot.ly"
       },
       "data": [
        {
         "legendgroup": "sbert-default",
         "line": {
          "color": "#660100"
         },
         "name": "sbert-default",
         "showlegend": true,
         "text": [
          "sbert-default<br>Topic size: 1896<br>Unknown: 185945",
          "sbert-default<br>Topic size: 971<br>Unknown: 188090",
          "sbert-default<br>Topic size: 652<br>Unknown: 188320",
          "sbert-default<br>Topic size: 374<br>Unknown: 182550",
          "sbert-default<br>Topic size: 282<br>Unknown: 177045",
          "sbert-default<br>Topic size: 222<br>Unknown: 182990",
          "sbert-default<br>Topic size: 300<br>Unknown: 170080",
          "sbert-default<br>Topic size: 197<br>Unknown: 181430",
          "sbert-default<br>Topic size: 154<br>Unknown: 179670",
          "sbert-default<br>Topic size: 119<br>Unknown: 172450"
         ],
         "type": "scatter",
         "x": [
          "5: 10, 10",
          "5: 20, 10",
          "5: 20, 20",
          "5: 50, 10",
          "5: 50, 25",
          "5: 50, 50",
          "5: 100, 1",
          "5: 100, 10",
          "5: 100, 50",
          "5: 100, 100"
         ],
         "y": [
          0.3431220219598094,
          0.3338376924370151,
          0.3140794223826715,
          0.3087849084520067,
          0.3288620973867511,
          0.3313056379821958,
          0.3129351155666945,
          0.3004313455631829,
          0.3271880189433545,
          0.3128163995213738
         ]
        },
        {
         "legendgroup": "sbert-default",
         "line": {
          "color": "#660100"
         },
         "name": "sbert-default",
         "showlegend": false,
         "text": [
          "sbert-default<br>Topic size: 922<br>Unknown: 193660",
          "sbert-default<br>Topic size: 503<br>Unknown: 187830",
          "sbert-default<br>Topic size: 351<br>Unknown: 181750",
          "sbert-default<br>Topic size: 248<br>Unknown: 183780",
          "sbert-default<br>Topic size: 204<br>Unknown: 182645",
          "sbert-default<br>Topic size: 177<br>Unknown: 181135",
          "sbert-default<br>Topic size: 210<br>Unknown: 169805",
          "sbert-default<br>Topic size: 154<br>Unknown: 182080",
          "sbert-default<br>Topic size: 118<br>Unknown: 175780"
         ],
         "type": "scatter",
         "x": [
          "10: 10, 10",
          "10: 20, 10",
          "10: 20, 20",
          "10: 50, 10",
          "10: 50, 25",
          "10: 50, 50",
          "10: 100, 1",
          "10: 100, 10",
          "10: 100, 50"
         ],
         "y": [
          0.3627577191974807,
          0.3461309939885362,
          0.3157927454698038,
          0.3424143089016899,
          0.3438762194743056,
          0.3709458287564317,
          0.3320616777150814,
          0.333863153551069,
          0.3800985509556255
         ]
        },
        {
         "legendgroup": "sbert-default",
         "line": {
          "color": "#660100"
         },
         "name": "sbert-default",
         "showlegend": false,
         "text": [
          "sbert-default<br>Topic size: 738<br>Unknown: 205200",
          "sbert-default<br>Topic size: 425<br>Unknown: 203275",
          "sbert-default<br>Topic size: 312<br>Unknown: 198540",
          "sbert-default<br>Topic size: 211<br>Unknown: 191905",
          "sbert-default<br>Topic size: 146<br>Unknown: 180010",
          "sbert-default<br>Topic size: 172<br>Unknown: 164975",
          "sbert-default<br>Topic size: 129<br>Unknown: 185330"
         ],
         "type": "scatter",
         "x": [
          "15: 10, 10",
          "15: 20, 10",
          "15: 20, 20",
          "15: 50, 10",
          "15: 50, 50",
          "15: 100, 1",
          "15: 100, 10"
         ],
         "y": [
          0.3407361710878059,
          0.3566122799484757,
          0.3698568789535556,
          0.3933367898178656,
          0.3833267772608277,
          0.3735256703182699,
          0.3891792461093754
         ]
        },
        {
         "legendgroup": "sbert-lexrank-top1",
         "line": {
          "color": "#900300"
         },
         "name": "sbert-lexrank-top1",
         "showlegend": true,
         "text": [
          "sbert-lexrank-top1<br>Topic size: 995<br>Unknown: 172310",
          "sbert-lexrank-top1<br>Topic size: 568<br>Unknown: 146070",
          "sbert-lexrank-top1<br>Topic size: 444<br>Unknown: 136840",
          "sbert-lexrank-top1<br>Topic size: 292<br>Unknown: 139400",
          "sbert-lexrank-top1<br>Topic size: 251<br>Unknown: 132910",
          "sbert-lexrank-top1<br>Topic size: 214<br>Unknown: 134730",
          "sbert-lexrank-top1<br>Topic size: 285<br>Unknown: 146610",
          "sbert-lexrank-top1<br>Topic size: 182<br>Unknown: 135615",
          "sbert-lexrank-top1<br>Topic size: 141<br>Unknown: 119045",
          "sbert-lexrank-top1<br>Topic size: 127<br>Unknown: 117995"
         ],
         "type": "scatter",
         "x": [
          "15: 10, 10",
          "15: 20, 10",
          "15: 20, 20",
          "15: 50, 10",
          "15: 50, 25",
          "15: 50, 50",
          "15: 100, 1",
          "15: 100, 10",
          "15: 100, 50",
          "15: 100, 100"
         ],
         "y": [
          0.2671808185705559,
          0.2956434147569882,
          0.29319425061375,
          0.2913220538225786,
          0.2930118750546175,
          0.2967915973138954,
          0.2552910052910053,
          0.2968845328767392,
          0.3048199672667758,
          0.2981257119188154
         ]
        },
        {
         "legendgroup": "sbert-lexrank-top1",
         "line": {
          "color": "#900300"
         },
         "name": "sbert-lexrank-top1",
         "showlegend": false,
         "text": [
          "sbert-lexrank-top1<br>Topic size: 905<br>Unknown: 174548",
          "sbert-lexrank-top1<br>Topic size: 582<br>Unknown: 170249",
          "sbert-lexrank-top1<br>Topic size: 390<br>Unknown: 141916",
          "sbert-lexrank-top1<br>Topic size: 313<br>Unknown: 166167",
          "sbert-lexrank-top1<br>Topic size: 218<br>Unknown: 130313",
          "sbert-lexrank-top1<br>Topic size: 175<br>Unknown: 119157",
          "sbert-lexrank-top1<br>Topic size: 265<br>Unknown: 151123",
          "sbert-lexrank-top1<br>Topic size: 210<br>Unknown: 158513",
          "sbert-lexrank-top1<br>Topic size: 132<br>Unknown: 126116",
          "sbert-lexrank-top1<br>Topic size: 122<br>Unknown: 125570"
         ],
         "type": "scatter",
         "x": [
          "20: 10, 10",
          "20: 20, 10",
          "20: 20, 20",
          "20: 50, 10",
          "20: 50, 25",
          "20: 50, 50",
          "20: 100, 1",
          "20: 100, 10",
          "20: 100, 50",
          "20: 100, 100"
         ],
         "y": [
          0.2752487354788505,
          0.2741222812125364,
          0.287742575485151,
          0.2708382341409864,
          0.2820159535895576,
          0.2910917051772837,
          0.2604941199447568,
          0.2762602161154078,
          0.2919039939610211,
          0.2962357065353476
         ]
        },
        {
         "legendgroup": "sbert-lexrank-top5",
         "line": {
          "color": "#bb0600"
         },
         "name": "sbert-lexrank-top5",
         "showlegend": true,
         "text": [
          "sbert-lexrank-top5<br>Topic size: 2140<br>Unknown: 161096",
          "sbert-lexrank-top5<br>Topic size: 1131<br>Unknown: 153871",
          "sbert-lexrank-top5<br>Topic size: 836<br>Unknown: 150101",
          "sbert-lexrank-top5<br>Topic size: 498<br>Unknown: 142758",
          "sbert-lexrank-top5<br>Topic size: 433<br>Unknown: 148144",
          "sbert-lexrank-top5<br>Topic size: 333<br>Unknown: 135451",
          "sbert-lexrank-top5<br>Topic size: 369<br>Unknown: 124453",
          "sbert-lexrank-top5<br>Topic size: 297<br>Unknown: 134392",
          "sbert-lexrank-top5<br>Topic size: 203<br>Unknown: 111536",
          "sbert-lexrank-top5<br>Topic size: 199<br>Unknown: 131812"
         ],
         "type": "scatter",
         "x": [
          "5: 10, 10",
          "5: 20, 10",
          "5: 20, 20",
          "5: 50, 10",
          "5: 50, 25",
          "5: 50, 50",
          "5: 100, 1",
          "5: 100, 10",
          "5: 100, 50",
          "5: 100, 100"
         ],
         "y": [
          0.3626619914327543,
          0.379271314509468,
          0.3737871146234595,
          0.4022369561766609,
          0.3710577465671829,
          0.3913034404315931,
          0.4200836730773336,
          0.4141254407522171,
          0.4108008421327501,
          0.4284180043342347
         ]
        },
        {
         "legendgroup": "sbert-lexrank-top5",
         "line": {
          "color": "#bb0600"
         },
         "name": "sbert-lexrank-top5",
         "showlegend": false,
         "text": [
          "sbert-lexrank-top5<br>Topic size: 1333<br>Unknown: 169948",
          "sbert-lexrank-top5<br>Topic size: 788<br>Unknown: 163483",
          "sbert-lexrank-top5<br>Topic size: 606<br>Unknown: 151789",
          "sbert-lexrank-top5<br>Topic size: 387<br>Unknown: 148930",
          "sbert-lexrank-top5<br>Topic size: 358<br>Unknown: 157413",
          "sbert-lexrank-top5<br>Topic size: 297<br>Unknown: 143972",
          "sbert-lexrank-top5<br>Topic size: 295<br>Unknown: 129452",
          "sbert-lexrank-top5<br>Topic size: 230<br>Unknown: 139647",
          "sbert-lexrank-top5<br>Topic size: 183<br>Unknown: 123162",
          "sbert-lexrank-top5<br>Topic size: 161<br>Unknown: 117952"
         ],
         "type": "scatter",
         "x": [
          "10: 10, 10",
          "10: 20, 10",
          "10: 20, 20",
          "10: 50, 10",
          "10: 50, 25",
          "10: 50, 50",
          "10: 100, 1",
          "10: 100, 10",
          "10: 100, 50",
          "10: 100, 100"
         ],
         "y": [
          0.4092960879235902,
          0.4078318584070796,
          0.4043128964059196,
          0.4082024809832971,
          0.4039898001236349,
          0.4161372162109417,
          0.4316112145068025,
          0.4477823083964384,
          0.4402712663494269,
          0.4187587613100548
         ]
        },
        {
         "legendgroup": "sbert-lexrank-top5",
         "line": {
          "color": "#bb0600"
         },
         "name": "sbert-lexrank-top5",
         "showlegend": false,
         "text": [
          "sbert-lexrank-top5<br>Topic size: 1132<br>Unknown: 180465",
          "sbert-lexrank-top5<br>Topic size: 696<br>Unknown: 173951",
          "sbert-lexrank-top5<br>Topic size: 563<br>Unknown: 166568",
          "sbert-lexrank-top5<br>Topic size: 365<br>Unknown: 157272",
          "sbert-lexrank-top5<br>Topic size: 323<br>Unknown: 156678",
          "sbert-lexrank-top5<br>Topic size: 245<br>Unknown: 141331",
          "sbert-lexrank-top5<br>Topic size: 295<br>Unknown: 146673",
          "sbert-lexrank-top5<br>Topic size: 206<br>Unknown: 141583",
          "sbert-lexrank-top5<br>Topic size: 182<br>Unknown: 134081",
          "sbert-lexrank-top5<br>Topic size: 149<br>Unknown: 123281"
         ],
         "type": "scatter",
         "x": [
          "15: 10, 10",
          "15: 20, 10",
          "15: 20, 20",
          "15: 50, 10",
          "15: 50, 25",
          "15: 50, 50",
          "15: 100, 1",
          "15: 100, 10",
          "15: 100, 50",
          "15: 100, 100"
         ],
         "y": [
          0.3914403903266865,
          0.4373983739837398,
          0.4151898030385166,
          0.4445290081097941,
          0.426122419077156,
          0.4308657797306643,
          0.3969186143274923,
          0.4564253912232127,
          0.4532794249775382,
          0.4322701688555347
         ]
        },
        {
         "legendgroup": "sbert-lexrank-top5",
         "line": {
          "color": "#bb0600"
         },
         "name": "sbert-lexrank-top5",
         "showlegend": false,
         "text": [
          "sbert-lexrank-top5<br>Topic size: 1019<br>Unknown: 174684",
          "sbert-lexrank-top5<br>Topic size: 640<br>Unknown: 171719",
          "sbert-lexrank-top5<br>Topic size: 495<br>Unknown: 167793",
          "sbert-lexrank-top5<br>Topic size: 330<br>Unknown: 158205",
          "sbert-lexrank-top5<br>Topic size: 282<br>Unknown: 143166",
          "sbert-lexrank-top5<br>Topic size: 227<br>Unknown: 127898",
          "sbert-lexrank-top5<br>Topic size: 265<br>Unknown: 144576",
          "sbert-lexrank-top5<br>Topic size: 204<br>Unknown: 144744",
          "sbert-lexrank-top5<br>Topic size: 166<br>Unknown: 122429",
          "sbert-lexrank-top5<br>Topic size: 146<br>Unknown: 116951"
         ],
         "type": "scatter",
         "x": [
          "20: 10, 10",
          "20: 20, 10",
          "20: 20, 20",
          "20: 50, 10",
          "20: 50, 25",
          "20: 50, 50",
          "20: 100, 1",
          "20: 100, 10",
          "20: 100, 50",
          "20: 100, 100"
         ],
         "y": [
          0.4031018964963034,
          0.3987791242331752,
          0.407143253593828,
          0.4168220117813735,
          0.4329550445876788,
          0.4439227319402147,
          0.4298257539709514,
          0.4455413276141214,
          0.4553304522328528,
          0.4135814084772075
         ]
        },
        {
         "legendgroup": "sbert-lexrank-weighted",
         "line": {
          "color": "#e81000"
         },
         "name": "sbert-lexrank-weighted",
         "showlegend": true,
         "text": [
          "sbert-lexrank-weighted<br>Topic size: 2215<br>Unknown: 155735",
          "sbert-lexrank-weighted<br>Topic size: 1169<br>Unknown: 145094",
          "sbert-lexrank-weighted<br>Topic size: 881<br>Unknown: 145665",
          "sbert-lexrank-weighted<br>Topic size: 512<br>Unknown: 134962",
          "sbert-lexrank-weighted<br>Topic size: 396<br>Unknown: 134052",
          "sbert-lexrank-weighted<br>Topic size: 320<br>Unknown: 137559",
          "sbert-lexrank-weighted<br>Topic size: 361<br>Unknown: 124682",
          "sbert-lexrank-weighted<br>Topic size: 271<br>Unknown: 132201",
          "sbert-lexrank-weighted<br>Topic size: 201<br>Unknown: 123010",
          "sbert-lexrank-weighted<br>Topic size: 169<br>Unknown: 129006"
         ],
         "type": "scatter",
         "x": [
          "5: 10, 10",
          "5: 20, 10",
          "5: 20, 20",
          "5: 50, 10",
          "5: 50, 25",
          "5: 50, 50",
          "5: 100, 1",
          "5: 100, 10",
          "5: 100, 50",
          "5: 100, 100"
         ],
         "y": [
          0.4958449598219051,
          0.4851859557230795,
          0.4951165501165501,
          0.4973283462463265,
          0.5092726349900442,
          0.502727646012162,
          0.4895880938661156,
          0.5061920532943621,
          0.504470731274855,
          0.5017109195651233
         ]
        },
        {
         "legendgroup": "sbert-lexrank-weighted",
         "line": {
          "color": "#e81000"
         },
         "name": "sbert-lexrank-weighted",
         "showlegend": false,
         "text": [
          "sbert-lexrank-weighted<br>Topic size: 1293<br>Unknown: 170935",
          "sbert-lexrank-weighted<br>Topic size: 729<br>Unknown: 162427",
          "sbert-lexrank-weighted<br>Topic size: 574<br>Unknown: 161807",
          "sbert-lexrank-weighted<br>Topic size: 365<br>Unknown: 155211",
          "sbert-lexrank-weighted<br>Topic size: 312<br>Unknown: 151126",
          "sbert-lexrank-weighted<br>Topic size: 247<br>Unknown: 144339",
          "sbert-lexrank-weighted<br>Topic size: 274<br>Unknown: 130600",
          "sbert-lexrank-weighted<br>Topic size: 201<br>Unknown: 135032",
          "sbert-lexrank-weighted<br>Topic size: 163<br>Unknown: 136181",
          "sbert-lexrank-weighted<br>Topic size: 126<br>Unknown: 110932"
         ],
         "type": "scatter",
         "x": [
          "10: 10, 10",
          "10: 20, 10",
          "10: 20, 20",
          "10: 50, 10",
          "10: 50, 25",
          "10: 50, 50",
          "10: 100, 1",
          "10: 100, 10",
          "10: 100, 50",
          "10: 100, 100"
         ],
         "y": [
          0.5031283985141872,
          0.5130136048494505,
          0.4977893841855945,
          0.5123207308471692,
          0.5017271247834532,
          0.5190378641430317,
          0.5047292284866469,
          0.5260565206118745,
          0.5288271785205441,
          0.5173232083531086
         ]
        },
        {
         "legendgroup": "sbert-lexrank-weighted",
         "line": {
          "color": "#e81000"
         },
         "name": "sbert-lexrank-weighted",
         "showlegend": false,
         "text": [
          "sbert-lexrank-weighted<br>Topic size: 1048<br>Unknown: 176046",
          "sbert-lexrank-weighted<br>Topic size: 658<br>Unknown: 177833",
          "sbert-lexrank-weighted<br>Topic size: 494<br>Unknown: 165271",
          "sbert-lexrank-weighted<br>Topic size: 338<br>Unknown: 166685",
          "sbert-lexrank-weighted<br>Topic size: 286<br>Unknown: 161399",
          "sbert-lexrank-weighted<br>Topic size: 228<br>Unknown: 156457",
          "sbert-lexrank-weighted<br>Topic size: 214<br>Unknown: 120597",
          "sbert-lexrank-weighted<br>Topic size: 172<br>Unknown: 137225",
          "sbert-lexrank-weighted<br>Topic size: 155<br>Unknown: 141932",
          "sbert-lexrank-weighted<br>Topic size: 125<br>Unknown: 132242"
         ],
         "type": "scatter",
         "x": [
          "15: 10, 10",
          "15: 20, 10",
          "15: 20, 20",
          "15: 50, 10",
          "15: 50, 25",
          "15: 50, 50",
          "15: 100, 1",
          "15: 100, 10",
          "15: 100, 50",
          "15: 100, 100"
         ],
         "y": [
          0.4981288444718466,
          0.5020020379167325,
          0.4989719804915368,
          0.503969463787027,
          0.504876514078968,
          0.5172788246566592,
          0.5359583495271408,
          0.5385277733846451,
          0.5396202300529487,
          0.542174335976786
         ]
        },
        {
         "legendgroup": "sbert-lexrank-weighted",
         "line": {
          "color": "#e81000"
         },
         "name": "sbert-lexrank-weighted",
         "showlegend": false,
         "text": [
          "sbert-lexrank-weighted<br>Topic size: 958<br>Unknown: 183047",
          "sbert-lexrank-weighted<br>Topic size: 570<br>Unknown: 170576",
          "sbert-lexrank-weighted<br>Topic size: 428<br>Unknown: 160220",
          "sbert-lexrank-weighted<br>Topic size: 308<br>Unknown: 155995",
          "sbert-lexrank-weighted<br>Topic size: 236<br>Unknown: 146632",
          "sbert-lexrank-weighted<br>Topic size: 210<br>Unknown: 152949",
          "sbert-lexrank-weighted<br>Topic size: 219<br>Unknown: 134265",
          "sbert-lexrank-weighted<br>Topic size: 174<br>Unknown: 148987",
          "sbert-lexrank-weighted<br>Topic size: 136<br>Unknown: 137453",
          "sbert-lexrank-weighted<br>Topic size: 128<br>Unknown: 146128"
         ],
         "type": "scatter",
         "x": [
          "20: 10, 10",
          "20: 20, 10",
          "20: 20, 20",
          "20: 50, 10",
          "20: 50, 25",
          "20: 50, 50",
          "20: 100, 1",
          "20: 100, 10",
          "20: 100, 50",
          "20: 100, 100"
         ],
         "y": [
          0.4910629008050211,
          0.4927796011108306,
          0.5219120014896437,
          0.5192021276595745,
          0.5257937854476707,
          0.5076437388338476,
          0.5225794797687862,
          0.519791768981436,
          0.5313628296921853,
          0.5136850643226317
         ]
        },
        {
         "legendgroup": "sbert-mean",
         "line": {
          "color": "#fd5100"
         },
         "name": "sbert-mean",
         "showlegend": true,
         "text": [
          "sbert-mean<br>Topic size: 2062<br>Unknown: 151790",
          "sbert-mean<br>Topic size: 1063<br>Unknown: 141618",
          "sbert-mean<br>Topic size: 814<br>Unknown: 152206",
          "sbert-mean<br>Topic size: 471<br>Unknown: 138952",
          "sbert-mean<br>Topic size: 379<br>Unknown: 139983",
          "sbert-mean<br>Topic size: 306<br>Unknown: 137669",
          "sbert-mean<br>Topic size: 290<br>Unknown: 108633",
          "sbert-mean<br>Topic size: 251<br>Unknown: 129211",
          "sbert-mean<br>Topic size: 189<br>Unknown: 130519",
          "sbert-mean<br>Topic size: 159<br>Unknown: 130629"
         ],
         "type": "scatter",
         "x": [
          "5: 10, 10",
          "5: 20, 10",
          "5: 20, 20",
          "5: 50, 10",
          "5: 50, 25",
          "5: 50, 50",
          "5: 100, 1",
          "5: 100, 10",
          "5: 100, 50",
          "5: 100, 100"
         ],
         "y": [
          0.5093700546933563,
          0.5066088299418605,
          0.5071085998804047,
          0.5055105997386943,
          0.4943243188163606,
          0.4987577280869013,
          0.4975235529417562,
          0.4952842212592404,
          0.503670827229907,
          0.505895424048507
         ]
        },
        {
         "legendgroup": "sbert-mean",
         "line": {
          "color": "#fd5100"
         },
         "name": "sbert-mean",
         "showlegend": false,
         "text": [
          "sbert-mean<br>Topic size: 1169<br>Unknown: 168708",
          "sbert-mean<br>Topic size: 701<br>Unknown: 166099",
          "sbert-mean<br>Topic size: 508<br>Unknown: 151029",
          "sbert-mean<br>Topic size: 330<br>Unknown: 144545",
          "sbert-mean<br>Topic size: 279<br>Unknown: 145866",
          "sbert-mean<br>Topic size: 227<br>Unknown: 141800",
          "sbert-mean<br>Topic size: 266<br>Unknown: 134045",
          "sbert-mean<br>Topic size: 187<br>Unknown: 138033",
          "sbert-mean<br>Topic size: 161<br>Unknown: 134920",
          "sbert-mean<br>Topic size: 127<br>Unknown: 119106"
         ],
         "type": "scatter",
         "x": [
          "10: 10, 10",
          "10: 20, 10",
          "10: 20, 20",
          "10: 50, 10",
          "10: 50, 25",
          "10: 50, 50",
          "10: 100, 1",
          "10: 100, 10",
          "10: 100, 50",
          "10: 100, 100"
         ],
         "y": [
          0.5295497620909488,
          0.5265431238679114,
          0.5154961879377673,
          0.5246430982690633,
          0.5234324074524492,
          0.521604909744623,
          0.5099183418275516,
          0.5307570764299581,
          0.5301920205562693,
          0.5268546061274103
         ]
        },
        {
         "legendgroup": "sbert-mean",
         "line": {
          "color": "#fd5100"
         },
         "name": "sbert-mean",
         "showlegend": false,
         "text": [
          "sbert-mean<br>Topic size: 911<br>Unknown: 169715",
          "sbert-mean<br>Topic size: 553<br>Unknown: 165919",
          "sbert-mean<br>Topic size: 477<br>Unknown: 172864",
          "sbert-mean<br>Topic size: 263<br>Unknown: 145584",
          "sbert-mean<br>Topic size: 230<br>Unknown: 143620",
          "sbert-mean<br>Topic size: 185<br>Unknown: 137601",
          "sbert-mean<br>Topic size: 212<br>Unknown: 128240",
          "sbert-mean<br>Topic size: 161<br>Unknown: 134317",
          "sbert-mean<br>Topic size: 141<br>Unknown: 135507",
          "sbert-mean<br>Topic size: 117<br>Unknown: 125059"
         ],
         "type": "scatter",
         "x": [
          "15: 10, 10",
          "15: 20, 10",
          "15: 20, 20",
          "15: 50, 10",
          "15: 50, 25",
          "15: 50, 50",
          "15: 100, 1",
          "15: 100, 10",
          "15: 100, 50",
          "15: 100, 100"
         ],
         "y": [
          0.5206718674561025,
          0.5270832085305218,
          0.492085655170663,
          0.5352903601018238,
          0.5068291290212656,
          0.5350075770184214,
          0.5316319102470775,
          0.5472619017197762,
          0.5357695614789338,
          0.5414093415887152
         ]
        },
        {
         "legendgroup": "sbert-mean",
         "line": {
          "color": "#fd5100"
         },
         "name": "sbert-mean",
         "showlegend": false,
         "text": [
          "sbert-mean<br>Topic size: 857<br>Unknown: 180243",
          "sbert-mean<br>Topic size: 515<br>Unknown: 164058",
          "sbert-mean<br>Topic size: 403<br>Unknown: 161256",
          "sbert-mean<br>Topic size: 276<br>Unknown: 159503",
          "sbert-mean<br>Topic size: 226<br>Unknown: 151423",
          "sbert-mean<br>Topic size: 190<br>Unknown: 146848",
          "sbert-mean<br>Topic size: 212<br>Unknown: 133421",
          "sbert-mean<br>Topic size: 157<br>Unknown: 140080",
          "sbert-mean<br>Topic size: 130<br>Unknown: 137358",
          "sbert-mean<br>Topic size: 121<br>Unknown: 137663"
         ],
         "type": "scatter",
         "x": [
          "20: 10, 10",
          "20: 20, 10",
          "20: 20, 20",
          "20: 50, 10",
          "20: 50, 25",
          "20: 50, 50",
          "20: 100, 1",
          "20: 100, 10",
          "20: 100, 50",
          "20: 100, 100"
         ],
         "y": [
          0.5063327329387883,
          0.5079473179966064,
          0.5035846833254408,
          0.5111425001358179,
          0.5346336559500109,
          0.5401204313121412,
          0.5228646598678364,
          0.5437288914823263,
          0.5427146069739189,
          0.5443264393515931
         ]
        },
        {
         "legendgroup": "sbert-tf-idf-top1",
         "line": {
          "color": "#ff8700"
         },
         "name": "sbert-tf-idf-top1",
         "showlegend": true,
         "text": [
          "sbert-tf-idf-top1<br>Topic size: 1302<br>Unknown: 162583",
          "sbert-tf-idf-top1<br>Topic size: 752<br>Unknown: 159697",
          "sbert-tf-idf-top1<br>Topic size: 566<br>Unknown: 161029",
          "sbert-tf-idf-top1<br>Topic size: 326<br>Unknown: 158131",
          "sbert-tf-idf-top1<br>Topic size: 273<br>Unknown: 162760",
          "sbert-tf-idf-top1<br>Topic size: 232<br>Unknown: 157454",
          "sbert-tf-idf-top1<br>Topic size: 261<br>Unknown: 155372",
          "sbert-tf-idf-top1<br>Topic size: 169<br>Unknown: 142025",
          "sbert-tf-idf-top1<br>Topic size: 129<br>Unknown: 138937",
          "sbert-tf-idf-top1<br>Topic size: 103<br>Unknown: 133838"
         ],
         "type": "scatter",
         "x": [
          "15: 10, 10",
          "15: 20, 10",
          "15: 20, 20",
          "15: 50, 10",
          "15: 50, 25",
          "15: 50, 50",
          "15: 100, 1",
          "15: 100, 10",
          "15: 100, 50",
          "15: 100, 100"
         ],
         "y": [
          0.2277016173053229,
          0.2295424759604765,
          0.2308503458748101,
          0.2221103130218134,
          0.2160771966016123,
          0.226586840979901,
          0.1771054441089419,
          0.2100504260128673,
          0.2097754067548839,
          0.2154493738882333
         ]
        },
        {
         "legendgroup": "sbert-tf-idf-top1",
         "line": {
          "color": "#ff8700"
         },
         "name": "sbert-tf-idf-top1",
         "showlegend": false,
         "text": [
          "sbert-tf-idf-top1<br>Topic size: 1288<br>Unknown: 190075",
          "sbert-tf-idf-top1<br>Topic size: 665<br>Unknown: 163287",
          "sbert-tf-idf-top1<br>Topic size: 511<br>Unknown: 161868",
          "sbert-tf-idf-top1<br>Topic size: 296<br>Unknown: 159825",
          "sbert-tf-idf-top1<br>Topic size: 245<br>Unknown: 160002",
          "sbert-tf-idf-top1<br>Topic size: 220<br>Unknown: 161647",
          "sbert-tf-idf-top1<br>Topic size: 144<br>Unknown: 142227",
          "sbert-tf-idf-top1<br>Topic size: 136<br>Unknown: 152855",
          "sbert-tf-idf-top1<br>Topic size: 108<br>Unknown: 144273"
         ],
         "type": "scatter",
         "x": [
          "20: 10, 10",
          "20: 20, 10",
          "20: 20, 20",
          "20: 50, 10",
          "20: 50, 25",
          "20: 50, 50",
          "20: 100, 10",
          "20: 100, 50",
          "20: 100, 100"
         ],
         "y": [
          0.1942450329153138,
          0.2340732823986481,
          0.2316117226121869,
          0.2361500084669593,
          0.2269977876954948,
          0.2268261755024144,
          0.208345427430413,
          0.2130714549683702,
          0.2116537793908789
         ]
        },
        {
         "legendgroup": "sbert-tf-idf-top5",
         "line": {
          "color": "#ffb402"
         },
         "name": "sbert-tf-idf-top5",
         "showlegend": true,
         "text": [
          "sbert-tf-idf-top5<br>Topic size: 1751<br>Unknown: 170864",
          "sbert-tf-idf-top5<br>Topic size: 922<br>Unknown: 165115",
          "sbert-tf-idf-top5<br>Topic size: 671<br>Unknown: 171853",
          "sbert-tf-idf-top5<br>Topic size: 379<br>Unknown: 151077",
          "sbert-tf-idf-top5<br>Topic size: 327<br>Unknown: 165330",
          "sbert-tf-idf-top5<br>Topic size: 258<br>Unknown: 162205",
          "sbert-tf-idf-top5<br>Topic size: 284<br>Unknown: 134862",
          "sbert-tf-idf-top5<br>Topic size: 208<br>Unknown: 149433",
          "sbert-tf-idf-top5<br>Topic size: 168<br>Unknown: 155491",
          "sbert-tf-idf-top5<br>Topic size: 99<br>Unknown: 84934"
         ],
         "type": "scatter",
         "x": [
          "5: 10, 10",
          "5: 20, 10",
          "5: 20, 20",
          "5: 50, 10",
          "5: 50, 25",
          "5: 50, 50",
          "5: 100, 1",
          "5: 100, 10",
          "5: 100, 50",
          "5: 100, 100"
         ],
         "y": [
          0.4328620401480395,
          0.4372219111883784,
          0.4457259653989342,
          0.4465500541279699,
          0.4515639426786234,
          0.4407690766129508,
          0.4403235765040761,
          0.4455455111550106,
          0.44779190400901,
          0.4654761289136343
         ]
        },
        {
         "legendgroup": "sbert-tf-idf-top5",
         "line": {
          "color": "#ffb402"
         },
         "name": "sbert-tf-idf-top5",
         "showlegend": false,
         "text": [
          "sbert-tf-idf-top5<br>Topic size: 956<br>Unknown: 183206",
          "sbert-tf-idf-top5<br>Topic size: 521<br>Unknown: 170760",
          "sbert-tf-idf-top5<br>Topic size: 403<br>Unknown: 171946",
          "sbert-tf-idf-top5<br>Topic size: 278<br>Unknown: 164865",
          "sbert-tf-idf-top5<br>Topic size: 231<br>Unknown: 160668",
          "sbert-tf-idf-top5<br>Topic size: 205<br>Unknown: 159403",
          "sbert-tf-idf-top5<br>Topic size: 213<br>Unknown: 140321",
          "sbert-tf-idf-top5<br>Topic size: 169<br>Unknown: 157660",
          "sbert-tf-idf-top5<br>Topic size: 143<br>Unknown: 154290",
          "sbert-tf-idf-top5<br>Topic size: 113<br>Unknown: 105132"
         ],
         "type": "scatter",
         "x": [
          "10: 10, 10",
          "10: 20, 10",
          "10: 20, 20",
          "10: 50, 10",
          "10: 50, 25",
          "10: 50, 50",
          "10: 100, 1",
          "10: 100, 10",
          "10: 100, 50",
          "10: 100, 100"
         ],
         "y": [
          0.4313994480690392,
          0.4610588219850615,
          0.4638968481375358,
          0.4669728309346447,
          0.4714204042283677,
          0.469314831256234,
          0.4603715597233988,
          0.4735459499359545,
          0.4499031176633415,
          0.4592107795957652
         ]
        },
        {
         "legendgroup": "sbert-tf-idf-top5",
         "line": {
          "color": "#ffb402"
         },
         "name": "sbert-tf-idf-top5",
         "showlegend": false,
         "text": [
          "sbert-tf-idf-top5<br>Topic size: 788<br>Unknown: 189523",
          "sbert-tf-idf-top5<br>Topic size: 460<br>Unknown: 179528",
          "sbert-tf-idf-top5<br>Topic size: 332<br>Unknown: 174636",
          "sbert-tf-idf-top5<br>Topic size: 230<br>Unknown: 172900",
          "sbert-tf-idf-top5<br>Topic size: 198<br>Unknown: 163613",
          "sbert-tf-idf-top5<br>Topic size: 176<br>Unknown: 169493",
          "sbert-tf-idf-top5<br>Topic size: 205<br>Unknown: 160879",
          "sbert-tf-idf-top5<br>Topic size: 145<br>Unknown: 168864",
          "sbert-tf-idf-top5<br>Topic size: 130<br>Unknown: 165443",
          "sbert-tf-idf-top5<br>Topic size: 113<br>Unknown: 160388"
         ],
         "type": "scatter",
         "x": [
          "15: 10, 10",
          "15: 20, 10",
          "15: 20, 20",
          "15: 50, 10",
          "15: 50, 25",
          "15: 50, 50",
          "15: 100, 1",
          "15: 100, 10",
          "15: 100, 50",
          "15: 100, 100"
         ],
         "y": [
          0.4643416865867751,
          0.4749120381145352,
          0.4704724409448819,
          0.4824673313928284,
          0.4684519401863374,
          0.451062639821029,
          0.4685808096685179,
          0.4816432246599844,
          0.466309628975265,
          0.4584051633519741
         ]
        },
        {
         "legendgroup": "sbert-tf-idf-top5",
         "line": {
          "color": "#ffb402"
         },
         "name": "sbert-tf-idf-top5",
         "showlegend": false,
         "text": [
          "sbert-tf-idf-top5<br>Topic size: 696<br>Unknown: 189775",
          "sbert-tf-idf-top5<br>Topic size: 432<br>Unknown: 189483",
          "sbert-tf-idf-top5<br>Topic size: 307<br>Unknown: 178515",
          "sbert-tf-idf-top5<br>Topic size: 242<br>Unknown: 189894",
          "sbert-tf-idf-top5<br>Topic size: 182<br>Unknown: 168151",
          "sbert-tf-idf-top5<br>Topic size: 155<br>Unknown: 139696",
          "sbert-tf-idf-top5<br>Topic size: 204<br>Unknown: 166049",
          "sbert-tf-idf-top5<br>Topic size: 152<br>Unknown: 178992",
          "sbert-tf-idf-top5<br>Topic size: 122<br>Unknown: 140742",
          "sbert-tf-idf-top5<br>Topic size: 110<br>Unknown: 150644"
         ],
         "type": "scatter",
         "x": [
          "20: 10, 10",
          "20: 20, 10",
          "20: 20, 20",
          "20: 50, 10",
          "20: 50, 25",
          "20: 50, 50",
          "20: 100, 1",
          "20: 100, 10",
          "20: 100, 50",
          "20: 100, 100"
         ],
         "y": [
          0.4546337115846768,
          0.4604722713637412,
          0.4607673740717781,
          0.4533045977011494,
          0.4659656889872717,
          0.4146459050502829,
          0.4715297886759904,
          0.4742821810874522,
          0.412507127598914,
          0.4162712861819118
         ]
        },
        {
         "legendgroup": "sbert-tf-idf-weighted",
         "line": {
          "color": "#ffdc0a"
         },
         "name": "sbert-tf-idf-weighted",
         "showlegend": true,
         "text": [
          "sbert-tf-idf-weighted<br>Topic size: 1968<br>Unknown: 161481",
          "sbert-tf-idf-weighted<br>Topic size: 1132<br>Unknown: 159361",
          "sbert-tf-idf-weighted<br>Topic size: 857<br>Unknown: 159629",
          "sbert-tf-idf-weighted<br>Topic size: 506<br>Unknown: 142757",
          "sbert-tf-idf-weighted<br>Topic size: 402<br>Unknown: 135303",
          "sbert-tf-idf-weighted<br>Topic size: 299<br>Unknown: 123437",
          "sbert-tf-idf-weighted<br>Topic size: 340<br>Unknown: 115603",
          "sbert-tf-idf-weighted<br>Topic size: 260<br>Unknown: 122547",
          "sbert-tf-idf-weighted<br>Topic size: 188<br>Unknown: 107362",
          "sbert-tf-idf-weighted<br>Topic size: 181<br>Unknown: 124859"
         ],
         "type": "scatter",
         "x": [
          "5: 10, 10",
          "5: 20, 10",
          "5: 20, 20",
          "5: 50, 10",
          "5: 50, 25",
          "5: 50, 50",
          "5: 100, 1",
          "5: 100, 10",
          "5: 100, 50",
          "5: 100, 100"
         ],
         "y": [
          0.4150478701262661,
          0.4107554947241099,
          0.4050677823278092,
          0.449954173758823,
          0.4496830177552181,
          0.4358130645655662,
          0.4437847759995411,
          0.4476368645408685,
          0.4091883684198478,
          0.4443037406259823
         ]
        },
        {
         "legendgroup": "sbert-tf-idf-weighted",
         "line": {
          "color": "#ffdc0a"
         },
         "name": "sbert-tf-idf-weighted",
         "showlegend": false,
         "text": [
          "sbert-tf-idf-weighted<br>Topic size: 1060<br>Unknown: 163933",
          "sbert-tf-idf-weighted<br>Topic size: 635<br>Unknown: 160890",
          "sbert-tf-idf-weighted<br>Topic size: 465<br>Unknown: 150212",
          "sbert-tf-idf-weighted<br>Topic size: 316<br>Unknown: 146732",
          "sbert-tf-idf-weighted<br>Topic size: 260<br>Unknown: 134451",
          "sbert-tf-idf-weighted<br>Topic size: 227<br>Unknown: 137350",
          "sbert-tf-idf-weighted<br>Topic size: 243<br>Unknown: 125834",
          "sbert-tf-idf-weighted<br>Topic size: 200<br>Unknown: 141507",
          "sbert-tf-idf-weighted<br>Topic size: 174<br>Unknown: 134789",
          "sbert-tf-idf-weighted<br>Topic size: 145<br>Unknown: 125287"
         ],
         "type": "scatter",
         "x": [
          "10: 10, 10",
          "10: 20, 10",
          "10: 20, 20",
          "10: 50, 10",
          "10: 50, 25",
          "10: 50, 50",
          "10: 100, 1",
          "10: 100, 10",
          "10: 100, 50",
          "10: 100, 100"
         ],
         "y": [
          0.4512774564904564,
          0.4558031200808815,
          0.4614003192621497,
          0.4614708121963514,
          0.4878576693069122,
          0.4818589907847659,
          0.4712380775997777,
          0.4813163799551234,
          0.4740342135242523,
          0.4797414485985262
         ]
        },
        {
         "legendgroup": "sbert-tf-idf-weighted",
         "line": {
          "color": "#ffdc0a"
         },
         "name": "sbert-tf-idf-weighted",
         "showlegend": false,
         "text": [
          "sbert-tf-idf-weighted<br>Topic size: 871<br>Unknown: 171902",
          "sbert-tf-idf-weighted<br>Topic size: 503<br>Unknown: 156945",
          "sbert-tf-idf-weighted<br>Topic size: 390<br>Unknown: 151173",
          "sbert-tf-idf-weighted<br>Topic size: 266<br>Unknown: 143514",
          "sbert-tf-idf-weighted<br>Topic size: 250<br>Unknown: 149099",
          "sbert-tf-idf-weighted<br>Topic size: 218<br>Unknown: 141563",
          "sbert-tf-idf-weighted<br>Topic size: 225<br>Unknown: 134190",
          "sbert-tf-idf-weighted<br>Topic size: 172<br>Unknown: 136439",
          "sbert-tf-idf-weighted<br>Topic size: 162<br>Unknown: 138939",
          "sbert-tf-idf-weighted<br>Topic size: 129<br>Unknown: 110520"
         ],
         "type": "scatter",
         "x": [
          "15: 10, 10",
          "15: 20, 10",
          "15: 20, 20",
          "15: 50, 10",
          "15: 50, 25",
          "15: 50, 50",
          "15: 100, 1",
          "15: 100, 10",
          "15: 100, 50",
          "15: 100, 100"
         ],
         "y": [
          0.4518023321000112,
          0.4868988085635932,
          0.4735251086535565,
          0.4892448058709773,
          0.4852570643233451,
          0.4851266558215198,
          0.4866217388403283,
          0.4885237422298576,
          0.4800548385571787,
          0.4407728887361063
         ]
        },
        {
         "legendgroup": "sbert-tf-idf-weighted",
         "line": {
          "color": "#ffdc0a"
         },
         "name": "sbert-tf-idf-weighted",
         "showlegend": false,
         "text": [
          "sbert-tf-idf-weighted<br>Topic size: 790<br>Unknown: 180027",
          "sbert-tf-idf-weighted<br>Topic size: 468<br>Unknown: 166074",
          "sbert-tf-idf-weighted<br>Topic size: 383<br>Unknown: 163967",
          "sbert-tf-idf-weighted<br>Topic size: 252<br>Unknown: 151942",
          "sbert-tf-idf-weighted<br>Topic size: 230<br>Unknown: 152597",
          "sbert-tf-idf-weighted<br>Topic size: 202<br>Unknown: 147752",
          "sbert-tf-idf-weighted<br>Topic size: 209<br>Unknown: 133934",
          "sbert-tf-idf-weighted<br>Topic size: 168<br>Unknown: 149785",
          "sbert-tf-idf-weighted<br>Topic size: 152<br>Unknown: 144955",
          "sbert-tf-idf-weighted<br>Topic size: 138<br>Unknown: 141721"
         ],
         "type": "scatter",
         "x": [
          "20: 10, 10",
          "20: 20, 10",
          "20: 20, 20",
          "20: 50, 10",
          "20: 50, 25",
          "20: 50, 50",
          "20: 100, 1",
          "20: 100, 10",
          "20: 100, 50",
          "20: 100, 100"
         ],
         "y": [
          0.4562382492291494,
          0.4853847584795684,
          0.4810856351928748,
          0.478093634794468,
          0.4775657061347015,
          0.4861700203027318,
          0.4797410330324654,
          0.4840257738889406,
          0.4843768274141359,
          0.4818166441136671
         ]
        },
        {
         "legendgroup": "tfidf",
         "line": {
          "color": "#176e08"
         },
         "name": "tfidf",
         "showlegend": true,
         "text": [
          "tfidf<br>Topic size: 3166<br>Unknown: 101038",
          "tfidf<br>Topic size: 1990<br>Unknown: 99607",
          "tfidf<br>Topic size: 1701<br>Unknown: 100783",
          "tfidf<br>Topic size: 978<br>Unknown: 94076",
          "tfidf<br>Topic size: 897<br>Unknown: 96726",
          "tfidf<br>Topic size: 810<br>Unknown: 102580",
          "tfidf<br>Topic size: 603<br>Unknown: 86810",
          "tfidf<br>Topic size: 557<br>Unknown: 90334",
          "tfidf<br>Topic size: 492<br>Unknown: 94265",
          "tfidf<br>Topic size: 446<br>Unknown: 102057"
         ],
         "type": "scatter",
         "x": [
          "5: 10, 10",
          "5: 20, 10",
          "5: 20, 20",
          "5: 50, 10",
          "5: 50, 25",
          "5: 50, 50",
          "5: 100, 1",
          "5: 100, 10",
          "5: 100, 50",
          "5: 100, 100"
         ],
         "y": [
          0.4538104229169803,
          0.4673077782245454,
          0.4605026733280743,
          0.4554246720418827,
          0.4662993259865197,
          0.4526928228882276,
          0.440584397479507,
          0.4481474997466115,
          0.4542005469965836,
          0.4459765325353006
         ]
        },
        {
         "legendgroup": "tfidf",
         "line": {
          "color": "#176e08"
         },
         "name": "tfidf",
         "showlegend": false,
         "text": [
          "tfidf<br>Topic size: 2521<br>Unknown: 108449",
          "tfidf<br>Topic size: 1658<br>Unknown: 103430",
          "tfidf<br>Topic size: 1428<br>Unknown: 103625",
          "tfidf<br>Topic size: 880<br>Unknown: 98508",
          "tfidf<br>Topic size: 821<br>Unknown: 102868",
          "tfidf<br>Topic size: 735<br>Unknown: 105518",
          "tfidf<br>Topic size: 554<br>Unknown: 91551",
          "tfidf<br>Topic size: 498<br>Unknown: 95789",
          "tfidf<br>Topic size: 434<br>Unknown: 100864",
          "tfidf<br>Topic size: 387<br>Unknown: 104238"
         ],
         "type": "scatter",
         "x": [
          "10: 10, 10",
          "10: 20, 10",
          "10: 20, 20",
          "10: 50, 10",
          "10: 50, 25",
          "10: 50, 50",
          "10: 100, 1",
          "10: 100, 10",
          "10: 100, 50",
          "10: 100, 100"
         ],
         "y": [
          0.5086137254109949,
          0.5185460223161583,
          0.5211320436238149,
          0.5147262075668542,
          0.5201709834258138,
          0.5188964062272661,
          0.5107069693549061,
          0.5178421232334841,
          0.5230006419569551,
          0.5202090328444119
         ]
        },
        {
         "legendgroup": "tfidf",
         "line": {
          "color": "#176e08"
         },
         "name": "tfidf",
         "showlegend": false,
         "text": [
          "tfidf<br>Topic size: 2192<br>Unknown: 115298",
          "tfidf<br>Topic size: 1490<br>Unknown: 109817",
          "tfidf<br>Topic size: 1305<br>Unknown: 111618",
          "tfidf<br>Topic size: 799<br>Unknown: 108555",
          "tfidf<br>Topic size: 728<br>Unknown: 110421",
          "tfidf<br>Topic size: 625<br>Unknown: 108128",
          "tfidf<br>Topic size: 534<br>Unknown: 102198",
          "tfidf<br>Topic size: 478<br>Unknown: 105028",
          "tfidf<br>Topic size: 420<br>Unknown: 107763",
          "tfidf<br>Topic size: 375<br>Unknown: 111247"
         ],
         "type": "scatter",
         "x": [
          "15: 10, 10",
          "15: 20, 10",
          "15: 20, 20",
          "15: 50, 10",
          "15: 50, 25",
          "15: 50, 50",
          "15: 100, 1",
          "15: 100, 10",
          "15: 100, 50",
          "15: 100, 100"
         ],
         "y": [
          0.5443841204465508,
          0.5505168823441916,
          0.5472612430987766,
          0.5443337439962862,
          0.5446418215397792,
          0.5508341309995898,
          0.5394382877929109,
          0.5446919172853487,
          0.5478500689482262,
          0.5504174963605026
         ]
        },
        {
         "legendgroup": "tfidf",
         "line": {
          "color": "#176e08"
         },
         "name": "tfidf",
         "showlegend": false,
         "text": [
          "tfidf<br>Topic size: 1975<br>Unknown: 124230",
          "tfidf<br>Topic size: 1397<br>Unknown: 118391",
          "tfidf<br>Topic size: 1209<br>Unknown: 117410",
          "tfidf<br>Topic size: 743<br>Unknown: 115244",
          "tfidf<br>Topic size: 677<br>Unknown: 114138",
          "tfidf<br>Topic size: 597<br>Unknown: 115866",
          "tfidf<br>Topic size: 493<br>Unknown: 102837",
          "tfidf<br>Topic size: 438<br>Unknown: 106867",
          "tfidf<br>Topic size: 398<br>Unknown: 112509",
          "tfidf<br>Topic size: 361<br>Unknown: 120966"
         ],
         "type": "scatter",
         "x": [
          "20: 10, 10",
          "20: 20, 10",
          "20: 20, 20",
          "20: 50, 10",
          "20: 50, 25",
          "20: 50, 50",
          "20: 100, 1",
          "20: 100, 10",
          "20: 100, 50",
          "20: 100, 100"
         ],
         "y": [
          0.5530540110797152,
          0.5579008391701434,
          0.5531663252002235,
          0.5516658879344427,
          0.5603280243032995,
          0.5573038616110432,
          0.5583917427966205,
          0.562393120231518,
          0.5615920198165629,
          0.5605588829397807
         ]
        },
        {
         "legendgroup": "tfidf-spacy",
         "line": {
          "color": "#32d613"
         },
         "name": "tfidf-spacy",
         "showlegend": true,
         "text": [
          "tfidf-spacy<br>Topic size: 3122<br>Unknown: 104087",
          "tfidf-spacy<br>Topic size: 1987<br>Unknown: 100627",
          "tfidf-spacy<br>Topic size: 1708<br>Unknown: 101697",
          "tfidf-spacy<br>Topic size: 947<br>Unknown: 91029",
          "tfidf-spacy<br>Topic size: 894<br>Unknown: 97191",
          "tfidf-spacy<br>Topic size: 785<br>Unknown: 95429",
          "tfidf-spacy<br>Topic size: 598<br>Unknown: 86577",
          "tfidf-spacy<br>Topic size: 554<br>Unknown: 92231",
          "tfidf-spacy<br>Topic size: 487<br>Unknown: 94829",
          "tfidf-spacy<br>Topic size: 432<br>Unknown: 101513"
         ],
         "type": "scatter",
         "x": [
          "5: 10, 10",
          "5: 20, 10",
          "5: 20, 20",
          "5: 50, 10",
          "5: 50, 25",
          "5: 50, 50",
          "5: 100, 1",
          "5: 100, 10",
          "5: 100, 50",
          "5: 100, 100"
         ],
         "y": [
          0.5159619407788864,
          0.5172017249640632,
          0.5133176282842867,
          0.5160000684861145,
          0.5174283843799211,
          0.5192517843117167,
          0.5151549867434781,
          0.5197117141054169,
          0.5198090810169156,
          0.5307257846320347
         ]
        },
        {
         "legendgroup": "tfidf-spacy",
         "line": {
          "color": "#32d613"
         },
         "name": "tfidf-spacy",
         "showlegend": false,
         "text": [
          "tfidf-spacy<br>Topic size: 2384<br>Unknown: 111531",
          "tfidf-spacy<br>Topic size: 1587<br>Unknown: 107137",
          "tfidf-spacy<br>Topic size: 1386<br>Unknown: 109689",
          "tfidf-spacy<br>Topic size: 839<br>Unknown: 103862",
          "tfidf-spacy<br>Topic size: 764<br>Unknown: 103253",
          "tfidf-spacy<br>Topic size: 682<br>Unknown: 107957",
          "tfidf-spacy<br>Topic size: 544<br>Unknown: 94432",
          "tfidf-spacy<br>Topic size: 500<br>Unknown: 97323",
          "tfidf-spacy<br>Topic size: 447<br>Unknown: 101234",
          "tfidf-spacy<br>Topic size: 412<br>Unknown: 106260"
         ],
         "type": "scatter",
         "x": [
          "10: 10, 10",
          "10: 20, 10",
          "10: 20, 20",
          "10: 50, 10",
          "10: 50, 25",
          "10: 50, 50",
          "10: 100, 1",
          "10: 100, 10",
          "10: 100, 50",
          "10: 100, 100"
         ],
         "y": [
          0.5535370669293134,
          0.5669480778918478,
          0.5621501438660738,
          0.5772395487723955,
          0.5759954167860212,
          0.5785091626632919,
          0.5750212166276073,
          0.5761760231072804,
          0.5751806570055857,
          0.5765906429487537
         ]
        },
        {
         "legendgroup": "tfidf-spacy",
         "line": {
          "color": "#32d613"
         },
         "name": "tfidf-spacy",
         "showlegend": false,
         "text": [
          "tfidf-spacy<br>Topic size: 2049<br>Unknown: 119179",
          "tfidf-spacy<br>Topic size: 1414<br>Unknown: 114679",
          "tfidf-spacy<br>Topic size: 1231<br>Unknown: 113401",
          "tfidf-spacy<br>Topic size: 760<br>Unknown: 112260",
          "tfidf-spacy<br>Topic size: 704<br>Unknown: 109677",
          "tfidf-spacy<br>Topic size: 625<br>Unknown: 108184",
          "tfidf-spacy<br>Topic size: 517<br>Unknown: 102312",
          "tfidf-spacy<br>Topic size: 472<br>Unknown: 109949",
          "tfidf-spacy<br>Topic size: 424<br>Unknown: 107108",
          "tfidf-spacy<br>Topic size: 361<br>Unknown: 104723"
         ],
         "type": "scatter",
         "x": [
          "15: 10, 10",
          "15: 20, 10",
          "15: 20, 20",
          "15: 50, 10",
          "15: 50, 25",
          "15: 50, 50",
          "15: 100, 1",
          "15: 100, 10",
          "15: 100, 50",
          "15: 100, 100"
         ],
         "y": [
          0.5777700774190019,
          0.5826023200398021,
          0.5851440899984589,
          0.59174980005893,
          0.593675383390907,
          0.5943680534906335,
          0.588611639226576,
          0.5968483044266114,
          0.5987112997013987,
          0.6026004384993239
         ]
        },
        {
         "legendgroup": "tfidf-spacy",
         "line": {
          "color": "#32d613"
         },
         "name": "tfidf-spacy",
         "showlegend": false,
         "text": [
          "tfidf-spacy<br>Topic size: 1795<br>Unknown: 122619",
          "tfidf-spacy<br>Topic size: 1316<br>Unknown: 120519",
          "tfidf-spacy<br>Topic size: 1130<br>Unknown: 118965",
          "tfidf-spacy<br>Topic size: 718<br>Unknown: 110459",
          "tfidf-spacy<br>Topic size: 661<br>Unknown: 110827",
          "tfidf-spacy<br>Topic size: 599<br>Unknown: 114948",
          "tfidf-spacy<br>Topic size: 500<br>Unknown: 106795",
          "tfidf-spacy<br>Topic size: 447<br>Unknown: 107348",
          "tfidf-spacy<br>Topic size: 386<br>Unknown: 103489",
          "tfidf-spacy<br>Topic size: 348<br>Unknown: 106281"
         ],
         "type": "scatter",
         "x": [
          "20: 10, 10",
          "20: 20, 10",
          "20: 20, 20",
          "20: 50, 10",
          "20: 50, 25",
          "20: 50, 50",
          "20: 100, 1",
          "20: 100, 10",
          "20: 100, 50",
          "20: 100, 100"
         ],
         "y": [
          0.5794042630715978,
          0.5831613041002278,
          0.5810840235861793,
          0.5956792366005473,
          0.59632025067288,
          0.5999918273945734,
          0.6027045764238073,
          0.6067576722708052,
          0.6114031299790044,
          0.6096710170205089
         ]
        },
        {
         "legendgroup": "use-default",
         "line": {
          "color": "#000d94"
         },
         "name": "use-default",
         "showlegend": true,
         "text": [
          "use-default<br>Topic size: 2320<br>Unknown: 168449",
          "use-default<br>Topic size: 1185<br>Unknown: 157924",
          "use-default<br>Topic size: 851<br>Unknown: 156391",
          "use-default<br>Topic size: 468<br>Unknown: 142916",
          "use-default<br>Topic size: 365<br>Unknown: 140735",
          "use-default<br>Topic size: 305<br>Unknown: 142972",
          "use-default<br>Topic size: 344<br>Unknown: 134310",
          "use-default<br>Topic size: 257<br>Unknown: 131986",
          "use-default<br>Topic size: 189<br>Unknown: 126356",
          "use-default<br>Topic size: 144<br>Unknown: 119373"
         ],
         "type": "scatter",
         "x": [
          "5: 10, 10",
          "5: 20, 10",
          "5: 20, 20",
          "5: 50, 10",
          "5: 50, 25",
          "5: 50, 50",
          "5: 100, 1",
          "5: 100, 10",
          "5: 100, 50",
          "5: 100, 100"
         ],
         "y": [
          0.4666711238884803,
          0.4798684298852118,
          0.5224135648699713,
          0.5102958879807388,
          0.519945088046774,
          0.489693830138503,
          0.5051025635771225,
          0.5310381750043103,
          0.5184216643421664,
          0.5345928358758709
         ]
        },
        {
         "legendgroup": "use-default",
         "line": {
          "color": "#000d94"
         },
         "name": "use-default",
         "showlegend": false,
         "text": [
          "use-default<br>Topic size: 1389<br>Unknown: 165258",
          "use-default<br>Topic size: 764<br>Unknown: 155334",
          "use-default<br>Topic size: 600<br>Unknown: 162100",
          "use-default<br>Topic size: 345<br>Unknown: 141428",
          "use-default<br>Topic size: 321<br>Unknown: 153931",
          "use-default<br>Topic size: 265<br>Unknown: 148088",
          "use-default<br>Topic size: 265<br>Unknown: 129448",
          "use-default<br>Topic size: 212<br>Unknown: 136431",
          "use-default<br>Topic size: 183<br>Unknown: 145104",
          "use-default<br>Topic size: 145<br>Unknown: 133044"
         ],
         "type": "scatter",
         "x": [
          "10: 10, 10",
          "10: 20, 10",
          "10: 20, 20",
          "10: 50, 10",
          "10: 50, 25",
          "10: 50, 50",
          "10: 100, 1",
          "10: 100, 10",
          "10: 100, 50",
          "10: 100, 100"
         ],
         "y": [
          0.5296992624376372,
          0.5369704479824746,
          0.5072467180785306,
          0.5473178376541229,
          0.5423541781613384,
          0.5483801926257418,
          0.5420984109432684,
          0.5546925796941384,
          0.5649402241477618,
          0.5593822238600958
         ]
        },
        {
         "legendgroup": "use-default",
         "line": {
          "color": "#000d94"
         },
         "name": "use-default",
         "showlegend": false,
         "text": [
          "use-default<br>Topic size: 1180<br>Unknown: 176946",
          "use-default<br>Topic size: 680<br>Unknown: 174619",
          "use-default<br>Topic size: 506<br>Unknown: 167956",
          "use-default<br>Topic size: 339<br>Unknown: 157403",
          "use-default<br>Topic size: 274<br>Unknown: 146213",
          "use-default<br>Topic size: 222<br>Unknown: 143338",
          "use-default<br>Topic size: 254<br>Unknown: 133453",
          "use-default<br>Topic size: 197<br>Unknown: 151287",
          "use-default<br>Topic size: 152<br>Unknown: 141350",
          "use-default<br>Topic size: 118<br>Unknown: 131381"
         ],
         "type": "scatter",
         "x": [
          "15: 10, 10",
          "15: 20, 10",
          "15: 20, 20",
          "15: 50, 10",
          "15: 50, 25",
          "15: 50, 50",
          "15: 100, 1",
          "15: 100, 10",
          "15: 100, 50",
          "15: 100, 100"
         ],
         "y": [
          0.5136998780675814,
          0.5272177820191658,
          0.5156337742093504,
          0.5537472137196975,
          0.5531898971000936,
          0.5369265992778477,
          0.5602843252666673,
          0.558047194443076,
          0.5450802364864865,
          0.5644785256613589
         ]
        },
        {
         "legendgroup": "use-default",
         "line": {
          "color": "#000d94"
         },
         "name": "use-default",
         "showlegend": false,
         "text": [
          "use-default<br>Topic size: 1013<br>Unknown: 179619",
          "use-default<br>Topic size: 637<br>Unknown: 176330",
          "use-default<br>Topic size: 471<br>Unknown: 169874",
          "use-default<br>Topic size: 297<br>Unknown: 150140",
          "use-default<br>Topic size: 252<br>Unknown: 151859",
          "use-default<br>Topic size: 206<br>Unknown: 139269",
          "use-default<br>Topic size: 224<br>Unknown: 132618",
          "use-default<br>Topic size: 183<br>Unknown: 143406",
          "use-default<br>Topic size: 147<br>Unknown: 144270",
          "use-default<br>Topic size: 117<br>Unknown: 138515"
         ],
         "type": "scatter",
         "x": [
          "20: 10, 10",
          "20: 20, 10",
          "20: 20, 20",
          "20: 50, 10",
          "20: 50, 25",
          "20: 50, 50",
          "20: 100, 1",
          "20: 100, 10",
          "20: 100, 50",
          "20: 100, 100"
         ],
         "y": [
          0.523288361417455,
          0.5195758240886432,
          0.5276221934989708,
          0.5403398969717395,
          0.5374561994280305,
          0.5158702357253317,
          0.5639531864060525,
          0.5389743086354754,
          0.5424736922373037,
          0.5451285066353099
         ]
        },
        {
         "legendgroup": "use-lexrank-top1",
         "line": {
          "color": "#0017d1"
         },
         "name": "use-lexrank-top1",
         "showlegend": true,
         "text": [
          "use-lexrank-top1<br>Topic size: 1024<br>Unknown: 176210",
          "use-lexrank-top1<br>Topic size: 621<br>Unknown: 169745",
          "use-lexrank-top1<br>Topic size: 463<br>Unknown: 151009",
          "use-lexrank-top1<br>Topic size: 349<br>Unknown: 163865",
          "use-lexrank-top1<br>Topic size: 258<br>Unknown: 141003",
          "use-lexrank-top1<br>Topic size: 212<br>Unknown: 140589",
          "use-lexrank-top1<br>Topic size: 270<br>Unknown: 144281",
          "use-lexrank-top1<br>Topic size: 207<br>Unknown: 154798",
          "use-lexrank-top1<br>Topic size: 156<br>Unknown: 143121",
          "use-lexrank-top1<br>Topic size: 129<br>Unknown: 137992"
         ],
         "type": "scatter",
         "x": [
          "15: 10, 10",
          "15: 20, 10",
          "15: 20, 20",
          "15: 50, 10",
          "15: 50, 25",
          "15: 50, 50",
          "15: 100, 1",
          "15: 100, 10",
          "15: 100, 50",
          "15: 100, 100"
         ],
         "y": [
          0.3397213513162532,
          0.3493213862168928,
          0.3155668057090567,
          0.3285389518729291,
          0.3245257381761171,
          0.3303192245951273,
          0.3281546608052753,
          0.3643707858088096,
          0.3078570098678086,
          0.3007150629566298
         ]
        },
        {
         "legendgroup": "use-lexrank-top1",
         "line": {
          "color": "#0017d1"
         },
         "name": "use-lexrank-top1",
         "showlegend": false,
         "text": [
          "use-lexrank-top1<br>Topic size: 873<br>Unknown: 161017",
          "use-lexrank-top1<br>Topic size: 528<br>Unknown: 152389",
          "use-lexrank-top1<br>Topic size: 441<br>Unknown: 167588",
          "use-lexrank-top1<br>Topic size: 274<br>Unknown: 145308",
          "use-lexrank-top1<br>Topic size: 234<br>Unknown: 145740",
          "use-lexrank-top1<br>Topic size: 190<br>Unknown: 143712",
          "use-lexrank-top1<br>Topic size: 240<br>Unknown: 143090",
          "use-lexrank-top1<br>Topic size: 166<br>Unknown: 137125",
          "use-lexrank-top1<br>Topic size: 129<br>Unknown: 136533",
          "use-lexrank-top1<br>Topic size: 118<br>Unknown: 137751"
         ],
         "type": "scatter",
         "x": [
          "20: 10, 10",
          "20: 20, 10",
          "20: 20, 20",
          "20: 50, 10",
          "20: 50, 25",
          "20: 50, 50",
          "20: 100, 1",
          "20: 100, 10",
          "20: 100, 50",
          "20: 100, 100"
         ],
         "y": [
          0.3036700445016353,
          0.3280044624842745,
          0.3419021231831449,
          0.3156689851580043,
          0.3254167155456494,
          0.3194009056078021,
          0.3449683438853715,
          0.337010415138624,
          0.3248587033054863,
          0.341418086451199
         ]
        },
        {
         "legendgroup": "use-lexrank-top5",
         "line": {
          "color": "#001ef7"
         },
         "name": "use-lexrank-top5",
         "showlegend": true,
         "text": [
          "use-lexrank-top5<br>Topic size: 1107<br>Unknown: 160424",
          "use-lexrank-top5<br>Topic size: 676<br>Unknown: 160709",
          "use-lexrank-top5<br>Topic size: 560<br>Unknown: 157444",
          "use-lexrank-top5<br>Topic size: 372<br>Unknown: 149258",
          "use-lexrank-top5<br>Topic size: 305<br>Unknown: 133281",
          "use-lexrank-top5<br>Topic size: 276<br>Unknown: 140985",
          "use-lexrank-top5<br>Topic size: 283<br>Unknown: 131438",
          "use-lexrank-top5<br>Topic size: 230<br>Unknown: 142580",
          "use-lexrank-top5<br>Topic size: 189<br>Unknown: 135696",
          "use-lexrank-top5<br>Topic size: 159<br>Unknown: 137316"
         ],
         "type": "scatter",
         "x": [
          "15: 10, 10",
          "15: 20, 10",
          "15: 20, 20",
          "15: 50, 10",
          "15: 50, 25",
          "15: 50, 50",
          "15: 100, 1",
          "15: 100, 10",
          "15: 100, 50",
          "15: 100, 100"
         ],
         "y": [
          0.2846585827187284,
          0.2893630545643663,
          0.290973823684104,
          0.2968663171374036,
          0.2924846020813738,
          0.2693856358742874,
          0.2889607570758812,
          0.2914742897060589,
          0.2836549386924346,
          0.2935862326822219
         ]
        },
        {
         "legendgroup": "use-lexrank-top5",
         "line": {
          "color": "#001ef7"
         },
         "name": "use-lexrank-top5",
         "showlegend": false,
         "text": [
          "use-lexrank-top5<br>Topic size: 1010<br>Unknown: 165575",
          "use-lexrank-top5<br>Topic size: 674<br>Unknown: 166743",
          "use-lexrank-top5<br>Topic size: 546<br>Unknown: 160540",
          "use-lexrank-top5<br>Topic size: 352<br>Unknown: 151167",
          "use-lexrank-top5<br>Topic size: 312<br>Unknown: 147368",
          "use-lexrank-top5<br>Topic size: 273<br>Unknown: 147209",
          "use-lexrank-top5<br>Topic size: 289<br>Unknown: 140051",
          "use-lexrank-top5<br>Topic size: 228<br>Unknown: 151085",
          "use-lexrank-top5<br>Topic size: 177<br>Unknown: 139598",
          "use-lexrank-top5<br>Topic size: 145<br>Unknown: 138498"
         ],
         "type": "scatter",
         "x": [
          "20: 10, 10",
          "20: 20, 10",
          "20: 20, 20",
          "20: 50, 10",
          "20: 50, 25",
          "20: 50, 50",
          "20: 100, 1",
          "20: 100, 10",
          "20: 100, 50",
          "20: 100, 100"
         ],
         "y": [
          0.2789490147012824,
          0.2852298067393459,
          0.2965732087227414,
          0.2906090586825756,
          0.2958233328357009,
          0.2723792963280791,
          0.2881336204388058,
          0.2859704115314288,
          0.2964286081970082,
          0.2962209098292441
         ]
        },
        {
         "legendgroup": "use-lexrank-weighted",
         "line": {
          "color": "#691fff"
         },
         "name": "use-lexrank-weighted",
         "showlegend": true,
         "text": [
          "use-lexrank-weighted<br>Topic size: 1023<br>Unknown: 165425",
          "use-lexrank-weighted<br>Topic size: 642<br>Unknown: 163991",
          "use-lexrank-weighted<br>Topic size: 519<br>Unknown: 160937",
          "use-lexrank-weighted<br>Topic size: 316<br>Unknown: 152270",
          "use-lexrank-weighted<br>Topic size: 265<br>Unknown: 144103",
          "use-lexrank-weighted<br>Topic size: 243<br>Unknown: 153640",
          "use-lexrank-weighted<br>Topic size: 248<br>Unknown: 140402",
          "use-lexrank-weighted<br>Topic size: 197<br>Unknown: 147651",
          "use-lexrank-weighted<br>Topic size: 161<br>Unknown: 146824",
          "use-lexrank-weighted<br>Topic size: 146<br>Unknown: 147573"
         ],
         "type": "scatter",
         "x": [
          "15: 10, 10",
          "15: 20, 10",
          "15: 20, 20",
          "15: 50, 10",
          "15: 50, 25",
          "15: 50, 50",
          "15: 100, 1",
          "15: 100, 10",
          "15: 100, 50",
          "15: 100, 100"
         ],
         "y": [
          0.3308859248566947,
          0.3316948671897154,
          0.3360125540628468,
          0.3362964327660456,
          0.3375838370456239,
          0.3337696484059324,
          0.3292932321166633,
          0.3343672322490003,
          0.3290107330584495,
          0.3285937483615926
         ]
        },
        {
         "legendgroup": "use-lexrank-weighted",
         "line": {
          "color": "#691fff"
         },
         "name": "use-lexrank-weighted",
         "showlegend": false,
         "text": [
          "use-lexrank-weighted<br>Topic size: 958<br>Unknown: 170818",
          "use-lexrank-weighted<br>Topic size: 567<br>Unknown: 159346",
          "use-lexrank-weighted<br>Topic size: 477<br>Unknown: 163184",
          "use-lexrank-weighted<br>Topic size: 301<br>Unknown: 152277",
          "use-lexrank-weighted<br>Topic size: 251<br>Unknown: 147466",
          "use-lexrank-weighted<br>Topic size: 237<br>Unknown: 154875",
          "use-lexrank-weighted<br>Topic size: 238<br>Unknown: 139242",
          "use-lexrank-weighted<br>Topic size: 186<br>Unknown: 148863",
          "use-lexrank-weighted<br>Topic size: 158<br>Unknown: 153003",
          "use-lexrank-weighted<br>Topic size: 137<br>Unknown: 149190"
         ],
         "type": "scatter",
         "x": [
          "20: 10, 10",
          "20: 20, 10",
          "20: 20, 20",
          "20: 50, 10",
          "20: 50, 25",
          "20: 50, 50",
          "20: 100, 1",
          "20: 100, 10",
          "20: 100, 50",
          "20: 100, 100"
         ],
         "y": [
          0.3283038196985219,
          0.334849339096661,
          0.3345990907212234,
          0.3364804823865439,
          0.3321658472842561,
          0.3244416096221966,
          0.331789802289282,
          0.3373574420883724,
          0.3366618644906577,
          0.3328291573654893
         ]
        },
        {
         "legendgroup": "use-mean",
         "line": {
          "color": "#b11eff"
         },
         "name": "use-mean",
         "showlegend": true,
         "text": [
          "use-mean<br>Topic size: 958<br>Unknown: 175245",
          "use-mean<br>Topic size: 555<br>Unknown: 165079",
          "use-mean<br>Topic size: 442<br>Unknown: 159221",
          "use-mean<br>Topic size: 282<br>Unknown: 150523",
          "use-mean<br>Topic size: 263<br>Unknown: 153819",
          "use-mean<br>Topic size: 217<br>Unknown: 152398",
          "use-mean<br>Topic size: 208<br>Unknown: 132104",
          "use-mean<br>Topic size: 174<br>Unknown: 141971",
          "use-mean<br>Topic size: 143<br>Unknown: 143597",
          "use-mean<br>Topic size: 117<br>Unknown: 131022"
         ],
         "type": "scatter",
         "x": [
          "15: 10, 10",
          "15: 20, 10",
          "15: 20, 20",
          "15: 50, 10",
          "15: 50, 25",
          "15: 50, 50",
          "15: 100, 1",
          "15: 100, 10",
          "15: 100, 50",
          "15: 100, 100"
         ],
         "y": [
          0.4641265154311348,
          0.4875417103051854,
          0.4945340149429807,
          0.4876217427677308,
          0.5080278577088285,
          0.4974232877414067,
          0.5209729506058453,
          0.5172000223135425,
          0.5114553744954403,
          0.4972891741321621
         ]
        },
        {
         "legendgroup": "use-mean",
         "line": {
          "color": "#b11eff"
         },
         "name": "use-mean",
         "showlegend": false,
         "text": [
          "use-mean<br>Topic size: 784<br>Unknown: 164685",
          "use-mean<br>Topic size: 478<br>Unknown: 164395",
          "use-mean<br>Topic size: 376<br>Unknown: 153545",
          "use-mean<br>Topic size: 235<br>Unknown: 144317",
          "use-mean<br>Topic size: 199<br>Unknown: 141705",
          "use-mean<br>Topic size: 182<br>Unknown: 145783",
          "use-mean<br>Topic size: 203<br>Unknown: 140046",
          "use-mean<br>Topic size: 160<br>Unknown: 147992",
          "use-mean<br>Topic size: 125<br>Unknown: 137174",
          "use-mean<br>Topic size: 111<br>Unknown: 135007"
         ],
         "type": "scatter",
         "x": [
          "20: 10, 10",
          "20: 20, 10",
          "20: 20, 20",
          "20: 50, 10",
          "20: 50, 25",
          "20: 50, 50",
          "20: 100, 1",
          "20: 100, 10",
          "20: 100, 50",
          "20: 100, 100"
         ],
         "y": [
          0.4959114099079769,
          0.4963043064930126,
          0.5123857450960255,
          0.5184304064092679,
          0.5240661705697819,
          0.5202689322860188,
          0.5159852429320663,
          0.512982590763033,
          0.5267951907852383,
          0.5188489281982005
         ]
        },
        {
         "legendgroup": "use-tf-idf-top5",
         "line": {
          "color": "#fc5eff"
         },
         "name": "use-tf-idf-top5",
         "showlegend": true,
         "text": [
          "use-tf-idf-top5<br>Topic size: 739<br>Unknown: 173283",
          "use-tf-idf-top5<br>Topic size: 416<br>Unknown: 160302",
          "use-tf-idf-top5<br>Topic size: 312<br>Unknown: 148997",
          "use-tf-idf-top5<br>Topic size: 222<br>Unknown: 150589",
          "use-tf-idf-top5<br>Topic size: 188<br>Unknown: 148560",
          "use-tf-idf-top5<br>Topic size: 156<br>Unknown: 146495",
          "use-tf-idf-top5<br>Topic size: 186<br>Unknown: 143857",
          "use-tf-idf-top5<br>Topic size: 130<br>Unknown: 142614",
          "use-tf-idf-top5<br>Topic size: 119<br>Unknown: 147638",
          "use-tf-idf-top5<br>Topic size: 105<br>Unknown: 148130"
         ],
         "type": "scatter",
         "x": [
          "15: 10, 10",
          "15: 20, 10",
          "15: 20, 20",
          "15: 50, 10",
          "15: 50, 25",
          "15: 50, 50",
          "15: 100, 1",
          "15: 100, 10",
          "15: 100, 50",
          "15: 100, 100"
         ],
         "y": [
          0.3701874299140278,
          0.3955706984667802,
          0.3847695794510199,
          0.3973080097408883,
          0.3878822366647698,
          0.4141635073393603,
          0.3977996118145157,
          0.395729184219888,
          0.4138266891332509,
          0.4009607701751992
         ]
        },
        {
         "legendgroup": "use-tf-idf-top5",
         "line": {
          "color": "#fc5eff"
         },
         "name": "use-tf-idf-top5",
         "showlegend": false,
         "text": [
          "use-tf-idf-top5<br>Topic size: 666<br>Unknown: 184270",
          "use-tf-idf-top5<br>Topic size: 390<br>Unknown: 173755",
          "use-tf-idf-top5<br>Topic size: 309<br>Unknown: 170156",
          "use-tf-idf-top5<br>Topic size: 216<br>Unknown: 161310",
          "use-tf-idf-top5<br>Topic size: 170<br>Unknown: 152722",
          "use-tf-idf-top5<br>Topic size: 147<br>Unknown: 152042",
          "use-tf-idf-top5<br>Topic size: 149<br>Unknown: 132123",
          "use-tf-idf-top5<br>Topic size: 126<br>Unknown: 159325",
          "use-tf-idf-top5<br>Topic size: 103<br>Unknown: 144677",
          "use-tf-idf-top5<br>Topic size: 98<br>Unknown: 149071"
         ],
         "type": "scatter",
         "x": [
          "20: 10, 10",
          "20: 20, 10",
          "20: 20, 20",
          "20: 50, 10",
          "20: 50, 25",
          "20: 50, 50",
          "20: 100, 1",
          "20: 100, 10",
          "20: 100, 50",
          "20: 100, 100"
         ],
         "y": [
          0.3739078724669503,
          0.3996715064713225,
          0.4063880478483149,
          0.4084710557211234,
          0.3980283677789481,
          0.3899744348087623,
          0.395582824246052,
          0.4094346573056837,
          0.4070196012732451,
          0.3915396392839603
         ]
        },
        {
         "legendgroup": "use-tf-idf-weighted",
         "line": {
          "color": "#ff91ff"
         },
         "name": "use-tf-idf-weighted",
         "showlegend": true,
         "text": [
          "use-tf-idf-weighted<br>Topic size: 885<br>Unknown: 171557",
          "use-tf-idf-weighted<br>Topic size: 553<br>Unknown: 164910",
          "use-tf-idf-weighted<br>Topic size: 384<br>Unknown: 115783",
          "use-tf-idf-weighted<br>Topic size: 302<br>Unknown: 158141",
          "use-tf-idf-weighted<br>Topic size: 262<br>Unknown: 153966",
          "use-tf-idf-weighted<br>Topic size: 189<br>Unknown: 102069",
          "use-tf-idf-weighted<br>Topic size: 237<br>Unknown: 136939",
          "use-tf-idf-weighted<br>Topic size: 185<br>Unknown: 150470",
          "use-tf-idf-weighted<br>Topic size: 135<br>Unknown: 100334",
          "use-tf-idf-weighted<br>Topic size: 151<br>Unknown: 151837"
         ],
         "type": "scatter",
         "x": [
          "15: 10, 10",
          "15: 20, 10",
          "15: 20, 20",
          "15: 50, 10",
          "15: 50, 25",
          "15: 50, 50",
          "15: 100, 1",
          "15: 100, 10",
          "15: 100, 50",
          "15: 100, 100"
         ],
         "y": [
          0.4154494826668202,
          0.4219884504582013,
          0.4055991627420199,
          0.4243485902947673,
          0.4258329633803458,
          0.4066668929698903,
          0.4161916911870614,
          0.4197388591122079,
          0.4081818060361528,
          0.4156659034947514
         ]
        },
        {
         "legendgroup": "use-tf-idf-weighted",
         "line": {
          "color": "#ff91ff"
         },
         "name": "use-tf-idf-weighted",
         "showlegend": false,
         "text": [
          "use-tf-idf-weighted<br>Topic size: 765<br>Unknown: 173416",
          "use-tf-idf-weighted<br>Topic size: 492<br>Unknown: 173609",
          "use-tf-idf-weighted<br>Topic size: 404<br>Unknown: 165925",
          "use-tf-idf-weighted<br>Topic size: 270<br>Unknown: 160523",
          "use-tf-idf-weighted<br>Topic size: 220<br>Unknown: 117088",
          "use-tf-idf-weighted<br>Topic size: 185<br>Unknown: 112144",
          "use-tf-idf-weighted<br>Topic size: 236<br>Unknown: 158101",
          "use-tf-idf-weighted<br>Topic size: 167<br>Unknown: 147824",
          "use-tf-idf-weighted<br>Topic size: 129<br>Unknown: 109917",
          "use-tf-idf-weighted<br>Topic size: 148<br>Unknown: 160908"
         ],
         "type": "scatter",
         "x": [
          "20: 10, 10",
          "20: 20, 10",
          "20: 20, 20",
          "20: 50, 10",
          "20: 50, 25",
          "20: 50, 50",
          "20: 100, 1",
          "20: 100, 10",
          "20: 100, 50",
          "20: 100, 100"
         ],
         "y": [
          0.4410635734498893,
          0.405737180853331,
          0.409231208175546,
          0.4111217016758563,
          0.3945420836850355,
          0.4079602700041385,
          0.4099717175709222,
          0.437089318657629,
          0.4075225648872106,
          0.4126289790171049
         ]
        }
       ],
       "layout": {
        "height": 1200,
        "template": {
         "data": {
          "bar": [
           {
            "error_x": {
             "color": "#2a3f5f"
            },
            "error_y": {
             "color": "#2a3f5f"
            },
            "marker": {
             "line": {
              "color": "#E5ECF6",
              "width": 0.5
             }
            },
            "type": "bar"
           }
          ],
          "barpolar": [
           {
            "marker": {
             "line": {
              "color": "#E5ECF6",
              "width": 0.5
             }
            },
            "type": "barpolar"
           }
          ],
          "carpet": [
           {
            "aaxis": {
             "endlinecolor": "#2a3f5f",
             "gridcolor": "white",
             "linecolor": "white",
             "minorgridcolor": "white",
             "startlinecolor": "#2a3f5f"
            },
            "baxis": {
             "endlinecolor": "#2a3f5f",
             "gridcolor": "white",
             "linecolor": "white",
             "minorgridcolor": "white",
             "startlinecolor": "#2a3f5f"
            },
            "type": "carpet"
           }
          ],
          "choropleth": [
           {
            "colorbar": {
             "outlinewidth": 0,
             "ticks": ""
            },
            "type": "choropleth"
           }
          ],
          "contour": [
           {
            "colorbar": {
             "outlinewidth": 0,
             "ticks": ""
            },
            "colorscale": [
             [
              0,
              "#0d0887"
             ],
             [
              0.1111111111111111,
              "#46039f"
             ],
             [
              0.2222222222222222,
              "#7201a8"
             ],
             [
              0.3333333333333333,
              "#9c179e"
             ],
             [
              0.4444444444444444,
              "#bd3786"
             ],
             [
              0.5555555555555556,
              "#d8576b"
             ],
             [
              0.6666666666666666,
              "#ed7953"
             ],
             [
              0.7777777777777778,
              "#fb9f3a"
             ],
             [
              0.8888888888888888,
              "#fdca26"
             ],
             [
              1,
              "#f0f921"
             ]
            ],
            "type": "contour"
           }
          ],
          "contourcarpet": [
           {
            "colorbar": {
             "outlinewidth": 0,
             "ticks": ""
            },
            "type": "contourcarpet"
           }
          ],
          "heatmap": [
           {
            "colorbar": {
             "outlinewidth": 0,
             "ticks": ""
            },
            "colorscale": [
             [
              0,
              "#0d0887"
             ],
             [
              0.1111111111111111,
              "#46039f"
             ],
             [
              0.2222222222222222,
              "#7201a8"
             ],
             [
              0.3333333333333333,
              "#9c179e"
             ],
             [
              0.4444444444444444,
              "#bd3786"
             ],
             [
              0.5555555555555556,
              "#d8576b"
             ],
             [
              0.6666666666666666,
              "#ed7953"
             ],
             [
              0.7777777777777778,
              "#fb9f3a"
             ],
             [
              0.8888888888888888,
              "#fdca26"
             ],
             [
              1,
              "#f0f921"
             ]
            ],
            "type": "heatmap"
           }
          ],
          "heatmapgl": [
           {
            "colorbar": {
             "outlinewidth": 0,
             "ticks": ""
            },
            "colorscale": [
             [
              0,
              "#0d0887"
             ],
             [
              0.1111111111111111,
              "#46039f"
             ],
             [
              0.2222222222222222,
              "#7201a8"
             ],
             [
              0.3333333333333333,
              "#9c179e"
             ],
             [
              0.4444444444444444,
              "#bd3786"
             ],
             [
              0.5555555555555556,
              "#d8576b"
             ],
             [
              0.6666666666666666,
              "#ed7953"
             ],
             [
              0.7777777777777778,
              "#fb9f3a"
             ],
             [
              0.8888888888888888,
              "#fdca26"
             ],
             [
              1,
              "#f0f921"
             ]
            ],
            "type": "heatmapgl"
           }
          ],
          "histogram": [
           {
            "marker": {
             "colorbar": {
              "outlinewidth": 0,
              "ticks": ""
             }
            },
            "type": "histogram"
           }
          ],
          "histogram2d": [
           {
            "colorbar": {
             "outlinewidth": 0,
             "ticks": ""
            },
            "colorscale": [
             [
              0,
              "#0d0887"
             ],
             [
              0.1111111111111111,
              "#46039f"
             ],
             [
              0.2222222222222222,
              "#7201a8"
             ],
             [
              0.3333333333333333,
              "#9c179e"
             ],
             [
              0.4444444444444444,
              "#bd3786"
             ],
             [
              0.5555555555555556,
              "#d8576b"
             ],
             [
              0.6666666666666666,
              "#ed7953"
             ],
             [
              0.7777777777777778,
              "#fb9f3a"
             ],
             [
              0.8888888888888888,
              "#fdca26"
             ],
             [
              1,
              "#f0f921"
             ]
            ],
            "type": "histogram2d"
           }
          ],
          "histogram2dcontour": [
           {
            "colorbar": {
             "outlinewidth": 0,
             "ticks": ""
            },
            "colorscale": [
             [
              0,
              "#0d0887"
             ],
             [
              0.1111111111111111,
              "#46039f"
             ],
             [
              0.2222222222222222,
              "#7201a8"
             ],
             [
              0.3333333333333333,
              "#9c179e"
             ],
             [
              0.4444444444444444,
              "#bd3786"
             ],
             [
              0.5555555555555556,
              "#d8576b"
             ],
             [
              0.6666666666666666,
              "#ed7953"
             ],
             [
              0.7777777777777778,
              "#fb9f3a"
             ],
             [
              0.8888888888888888,
              "#fdca26"
             ],
             [
              1,
              "#f0f921"
             ]
            ],
            "type": "histogram2dcontour"
           }
          ],
          "mesh3d": [
           {
            "colorbar": {
             "outlinewidth": 0,
             "ticks": ""
            },
            "type": "mesh3d"
           }
          ],
          "parcoords": [
           {
            "line": {
             "colorbar": {
              "outlinewidth": 0,
              "ticks": ""
             }
            },
            "type": "parcoords"
           }
          ],
          "pie": [
           {
            "automargin": true,
            "type": "pie"
           }
          ],
          "scatter": [
           {
            "marker": {
             "colorbar": {
              "outlinewidth": 0,
              "ticks": ""
             }
            },
            "type": "scatter"
           }
          ],
          "scatter3d": [
           {
            "line": {
             "colorbar": {
              "outlinewidth": 0,
              "ticks": ""
             }
            },
            "marker": {
             "colorbar": {
              "outlinewidth": 0,
              "ticks": ""
             }
            },
            "type": "scatter3d"
           }
          ],
          "scattercarpet": [
           {
            "marker": {
             "colorbar": {
              "outlinewidth": 0,
              "ticks": ""
             }
            },
            "type": "scattercarpet"
           }
          ],
          "scattergeo": [
           {
            "marker": {
             "colorbar": {
              "outlinewidth": 0,
              "ticks": ""
             }
            },
            "type": "scattergeo"
           }
          ],
          "scattergl": [
           {
            "marker": {
             "colorbar": {
              "outlinewidth": 0,
              "ticks": ""
             }
            },
            "type": "scattergl"
           }
          ],
          "scattermapbox": [
           {
            "marker": {
             "colorbar": {
              "outlinewidth": 0,
              "ticks": ""
             }
            },
            "type": "scattermapbox"
           }
          ],
          "scatterpolar": [
           {
            "marker": {
             "colorbar": {
              "outlinewidth": 0,
              "ticks": ""
             }
            },
            "type": "scatterpolar"
           }
          ],
          "scatterpolargl": [
           {
            "marker": {
             "colorbar": {
              "outlinewidth": 0,
              "ticks": ""
             }
            },
            "type": "scatterpolargl"
           }
          ],
          "scatterternary": [
           {
            "marker": {
             "colorbar": {
              "outlinewidth": 0,
              "ticks": ""
             }
            },
            "type": "scatterternary"
           }
          ],
          "surface": [
           {
            "colorbar": {
             "outlinewidth": 0,
             "ticks": ""
            },
            "colorscale": [
             [
              0,
              "#0d0887"
             ],
             [
              0.1111111111111111,
              "#46039f"
             ],
             [
              0.2222222222222222,
              "#7201a8"
             ],
             [
              0.3333333333333333,
              "#9c179e"
             ],
             [
              0.4444444444444444,
              "#bd3786"
             ],
             [
              0.5555555555555556,
              "#d8576b"
             ],
             [
              0.6666666666666666,
              "#ed7953"
             ],
             [
              0.7777777777777778,
              "#fb9f3a"
             ],
             [
              0.8888888888888888,
              "#fdca26"
             ],
             [
              1,
              "#f0f921"
             ]
            ],
            "type": "surface"
           }
          ],
          "table": [
           {
            "cells": {
             "fill": {
              "color": "#EBF0F8"
             },
             "line": {
              "color": "white"
             }
            },
            "header": {
             "fill": {
              "color": "#C8D4E3"
             },
             "line": {
              "color": "white"
             }
            },
            "type": "table"
           }
          ]
         },
         "layout": {
          "annotationdefaults": {
           "arrowcolor": "#2a3f5f",
           "arrowhead": 0,
           "arrowwidth": 1
          },
          "autotypenumbers": "strict",
          "coloraxis": {
           "colorbar": {
            "outlinewidth": 0,
            "ticks": ""
           }
          },
          "colorscale": {
           "diverging": [
            [
             0,
             "#8e0152"
            ],
            [
             0.1,
             "#c51b7d"
            ],
            [
             0.2,
             "#de77ae"
            ],
            [
             0.3,
             "#f1b6da"
            ],
            [
             0.4,
             "#fde0ef"
            ],
            [
             0.5,
             "#f7f7f7"
            ],
            [
             0.6,
             "#e6f5d0"
            ],
            [
             0.7,
             "#b8e186"
            ],
            [
             0.8,
             "#7fbc41"
            ],
            [
             0.9,
             "#4d9221"
            ],
            [
             1,
             "#276419"
            ]
           ],
           "sequential": [
            [
             0,
             "#0d0887"
            ],
            [
             0.1111111111111111,
             "#46039f"
            ],
            [
             0.2222222222222222,
             "#7201a8"
            ],
            [
             0.3333333333333333,
             "#9c179e"
            ],
            [
             0.4444444444444444,
             "#bd3786"
            ],
            [
             0.5555555555555556,
             "#d8576b"
            ],
            [
             0.6666666666666666,
             "#ed7953"
            ],
            [
             0.7777777777777778,
             "#fb9f3a"
            ],
            [
             0.8888888888888888,
             "#fdca26"
            ],
            [
             1,
             "#f0f921"
            ]
           ],
           "sequentialminus": [
            [
             0,
             "#0d0887"
            ],
            [
             0.1111111111111111,
             "#46039f"
            ],
            [
             0.2222222222222222,
             "#7201a8"
            ],
            [
             0.3333333333333333,
             "#9c179e"
            ],
            [
             0.4444444444444444,
             "#bd3786"
            ],
            [
             0.5555555555555556,
             "#d8576b"
            ],
            [
             0.6666666666666666,
             "#ed7953"
            ],
            [
             0.7777777777777778,
             "#fb9f3a"
            ],
            [
             0.8888888888888888,
             "#fdca26"
            ],
            [
             1,
             "#f0f921"
            ]
           ]
          },
          "colorway": [
           "#636efa",
           "#EF553B",
           "#00cc96",
           "#ab63fa",
           "#FFA15A",
           "#19d3f3",
           "#FF6692",
           "#B6E880",
           "#FF97FF",
           "#FECB52"
          ],
          "font": {
           "color": "#2a3f5f"
          },
          "geo": {
           "bgcolor": "white",
           "lakecolor": "white",
           "landcolor": "#E5ECF6",
           "showlakes": true,
           "showland": true,
           "subunitcolor": "white"
          },
          "hoverlabel": {
           "align": "left"
          },
          "hovermode": "closest",
          "mapbox": {
           "style": "light"
          },
          "paper_bgcolor": "white",
          "plot_bgcolor": "#E5ECF6",
          "polar": {
           "angularaxis": {
            "gridcolor": "white",
            "linecolor": "white",
            "ticks": ""
           },
           "bgcolor": "#E5ECF6",
           "radialaxis": {
            "gridcolor": "white",
            "linecolor": "white",
            "ticks": ""
           }
          },
          "scene": {
           "xaxis": {
            "backgroundcolor": "#E5ECF6",
            "gridcolor": "white",
            "gridwidth": 2,
            "linecolor": "white",
            "showbackground": true,
            "ticks": "",
            "zerolinecolor": "white"
           },
           "yaxis": {
            "backgroundcolor": "#E5ECF6",
            "gridcolor": "white",
            "gridwidth": 2,
            "linecolor": "white",
            "showbackground": true,
            "ticks": "",
            "zerolinecolor": "white"
           },
           "zaxis": {
            "backgroundcolor": "#E5ECF6",
            "gridcolor": "white",
            "gridwidth": 2,
            "linecolor": "white",
            "showbackground": true,
            "ticks": "",
            "zerolinecolor": "white"
           }
          },
          "shapedefaults": {
           "line": {
            "color": "#2a3f5f"
           }
          },
          "ternary": {
           "aaxis": {
            "gridcolor": "white",
            "linecolor": "white",
            "ticks": ""
           },
           "baxis": {
            "gridcolor": "white",
            "linecolor": "white",
            "ticks": ""
           },
           "bgcolor": "#E5ECF6",
           "caxis": {
            "gridcolor": "white",
            "linecolor": "white",
            "ticks": ""
           }
          },
          "title": {
           "x": 0.05
          },
          "xaxis": {
           "automargin": true,
           "gridcolor": "white",
           "linecolor": "white",
           "ticks": "",
           "title": {
            "standoff": 15
           },
           "zerolinecolor": "white",
           "zerolinewidth": 2
          },
          "yaxis": {
           "automargin": true,
           "gridcolor": "white",
           "linecolor": "white",
           "ticks": "",
           "title": {
            "standoff": 15
           },
           "zerolinecolor": "white",
           "zerolinewidth": 2
          }
         }
        },
        "width": 2000,
        "xaxis": {
         "categoryarray": [
          "5: 10, 10",
          "5: 20, 10",
          "5: 20, 20",
          "5: 50, 10",
          "5: 50, 25",
          "5: 50, 50",
          "5: 100, 1",
          "5: 100, 10",
          "5: 100, 50",
          "5: 100, 100",
          "10: 10, 10",
          "10: 20, 10",
          "10: 20, 20",
          "10: 50, 10",
          "10: 50, 25",
          "10: 50, 50",
          "10: 100, 1",
          "10: 100, 10",
          "10: 100, 50",
          "10: 100, 100",
          "15: 10, 10",
          "15: 20, 10",
          "15: 20, 20",
          "15: 50, 10",
          "15: 50, 25",
          "15: 50, 50",
          "15: 100, 1",
          "15: 100, 10",
          "15: 100, 50",
          "15: 100, 100",
          "20: 10, 10",
          "20: 20, 10",
          "20: 20, 20",
          "20: 50, 10",
          "20: 50, 25",
          "20: 50, 50",
          "20: 100, 1",
          "20: 100, 10",
          "20: 100, 50",
          "20: 100, 100"
         ],
         "categoryorder": "array"
        }
       }
      }
     },
     "metadata": {}
    }
   ],
   "source": [
    "plot_score('c_su')"
   ]
  },
  {
   "cell_type": "code",
   "execution_count": 431,
   "metadata": {},
   "outputs": [
    {
     "output_type": "display_data",
     "data": {
      "application/vnd.plotly.v1+json": {
       "config": {
        "plotlyServerURL": "https://plot.ly"
       },
       "data": [
        {
         "legendgroup": "sbert-default",
         "line": {
          "color": "#660100"
         },
         "name": "sbert-default",
         "showlegend": true,
         "text": [
          "sbert-default<br>Topic size: 1896<br>Unknown: 185945",
          "sbert-default<br>Topic size: 971<br>Unknown: 188090",
          "sbert-default<br>Topic size: 652<br>Unknown: 188320",
          "sbert-default<br>Topic size: 374<br>Unknown: 182550",
          "sbert-default<br>Topic size: 282<br>Unknown: 177045",
          "sbert-default<br>Topic size: 222<br>Unknown: 182990",
          "sbert-default<br>Topic size: 300<br>Unknown: 170080",
          "sbert-default<br>Topic size: 197<br>Unknown: 181430",
          "sbert-default<br>Topic size: 154<br>Unknown: 179670",
          "sbert-default<br>Topic size: 119<br>Unknown: 172450"
         ],
         "type": "scatter",
         "x": [
          "5: 10, 10",
          "5: 20, 10",
          "5: 20, 20",
          "5: 50, 10",
          "5: 50, 25",
          "5: 50, 50",
          "5: 100, 1",
          "5: 100, 10",
          "5: 100, 50",
          "5: 100, 100"
         ],
         "y": [
          0.612756040062805,
          0.6153957174346594,
          0.6048638705244154,
          0.5819793205317577,
          0.5656062573814657,
          0.5868389286906082,
          0.5436226201829677,
          0.5704279636828794,
          0.5728764617334487,
          0.5404289329958705
         ]
        },
        {
         "legendgroup": "sbert-default",
         "line": {
          "color": "#660100"
         },
         "name": "sbert-default",
         "showlegend": false,
         "text": [
          "sbert-default<br>Topic size: 922<br>Unknown: 193660",
          "sbert-default<br>Topic size: 503<br>Unknown: 187830",
          "sbert-default<br>Topic size: 351<br>Unknown: 181750",
          "sbert-default<br>Topic size: 248<br>Unknown: 183780",
          "sbert-default<br>Topic size: 204<br>Unknown: 182645",
          "sbert-default<br>Topic size: 177<br>Unknown: 181135",
          "sbert-default<br>Topic size: 210<br>Unknown: 169805",
          "sbert-default<br>Topic size: 154<br>Unknown: 182080",
          "sbert-default<br>Topic size: 118<br>Unknown: 175780"
         ],
         "type": "scatter",
         "x": [
          "10: 10, 10",
          "10: 20, 10",
          "10: 20, 20",
          "10: 50, 10",
          "10: 50, 25",
          "10: 50, 50",
          "10: 100, 1",
          "10: 100, 10",
          "10: 100, 50"
         ],
         "y": [
          0.6347148659826907,
          0.6066053631678849,
          0.5724193673485216,
          0.5905373593881091,
          0.5875504261825754,
          0.5927380689682842,
          0.54290857246197,
          0.5817021846502246,
          0.5807914706904889
         ]
        },
        {
         "legendgroup": "sbert-default",
         "line": {
          "color": "#660100"
         },
         "name": "sbert-default",
         "showlegend": false,
         "text": [
          "sbert-default<br>Topic size: 738<br>Unknown: 205200",
          "sbert-default<br>Topic size: 425<br>Unknown: 203275",
          "sbert-default<br>Topic size: 312<br>Unknown: 198540",
          "sbert-default<br>Topic size: 211<br>Unknown: 191905",
          "sbert-default<br>Topic size: 146<br>Unknown: 180010",
          "sbert-default<br>Topic size: 172<br>Unknown: 164975",
          "sbert-default<br>Topic size: 129<br>Unknown: 185330"
         ],
         "type": "scatter",
         "x": [
          "15: 10, 10",
          "15: 20, 10",
          "15: 20, 20",
          "15: 50, 10",
          "15: 50, 50",
          "15: 100, 1",
          "15: 100, 10"
         ],
         "y": [
          0.6697100694654671,
          0.6663891503173339,
          0.650658015352363,
          0.6370271111004762,
          0.5940880309124634,
          0.5434149564422983,
          0.6133331751793071
         ]
        },
        {
         "legendgroup": "sbert-lexrank-top1",
         "line": {
          "color": "#900300"
         },
         "name": "sbert-lexrank-top1",
         "showlegend": true,
         "text": [
          "sbert-lexrank-top1<br>Topic size: 995<br>Unknown: 172310",
          "sbert-lexrank-top1<br>Topic size: 568<br>Unknown: 146070",
          "sbert-lexrank-top1<br>Topic size: 444<br>Unknown: 136840",
          "sbert-lexrank-top1<br>Topic size: 292<br>Unknown: 139400",
          "sbert-lexrank-top1<br>Topic size: 251<br>Unknown: 132910",
          "sbert-lexrank-top1<br>Topic size: 214<br>Unknown: 134730",
          "sbert-lexrank-top1<br>Topic size: 285<br>Unknown: 146610",
          "sbert-lexrank-top1<br>Topic size: 182<br>Unknown: 135615",
          "sbert-lexrank-top1<br>Topic size: 141<br>Unknown: 119045",
          "sbert-lexrank-top1<br>Topic size: 127<br>Unknown: 117995"
         ],
         "type": "scatter",
         "x": [
          "15: 10, 10",
          "15: 20, 10",
          "15: 20, 20",
          "15: 50, 10",
          "15: 50, 25",
          "15: 50, 50",
          "15: 100, 1",
          "15: 100, 10",
          "15: 100, 50",
          "15: 100, 100"
         ],
         "y": [
          0.5401845652601994,
          0.454527447163994,
          0.4269901284836871,
          0.4328391445480785,
          0.4129565165584333,
          0.4188437962819227,
          0.4448020392070565,
          0.42602036494248,
          0.3868012409445151,
          0.3797767158276345
         ]
        },
        {
         "legendgroup": "sbert-lexrank-top1",
         "line": {
          "color": "#900300"
         },
         "name": "sbert-lexrank-top1",
         "showlegend": false,
         "text": [
          "sbert-lexrank-top1<br>Topic size: 905<br>Unknown: 174548",
          "sbert-lexrank-top1<br>Topic size: 582<br>Unknown: 170249",
          "sbert-lexrank-top1<br>Topic size: 390<br>Unknown: 141916",
          "sbert-lexrank-top1<br>Topic size: 313<br>Unknown: 166167",
          "sbert-lexrank-top1<br>Topic size: 218<br>Unknown: 130313",
          "sbert-lexrank-top1<br>Topic size: 175<br>Unknown: 119157",
          "sbert-lexrank-top1<br>Topic size: 265<br>Unknown: 151123",
          "sbert-lexrank-top1<br>Topic size: 210<br>Unknown: 158513",
          "sbert-lexrank-top1<br>Topic size: 132<br>Unknown: 126116",
          "sbert-lexrank-top1<br>Topic size: 122<br>Unknown: 125570"
         ],
         "type": "scatter",
         "x": [
          "20: 10, 10",
          "20: 20, 10",
          "20: 20, 20",
          "20: 50, 10",
          "20: 50, 25",
          "20: 50, 50",
          "20: 100, 1",
          "20: 100, 10",
          "20: 100, 50",
          "20: 100, 100"
         ],
         "y": [
          0.5471493013532842,
          0.5304942397326532,
          0.4376621298386282,
          0.515670013857984,
          0.4021492716774589,
          0.3773617661525997,
          0.4627605588058839,
          0.4877886843544146,
          0.3943234492654143,
          0.3967704210147535
         ]
        },
        {
         "legendgroup": "sbert-lexrank-top5",
         "line": {
          "color": "#bb0600"
         },
         "name": "sbert-lexrank-top5",
         "showlegend": true,
         "text": [
          "sbert-lexrank-top5<br>Topic size: 2140<br>Unknown: 161096",
          "sbert-lexrank-top5<br>Topic size: 1131<br>Unknown: 153871",
          "sbert-lexrank-top5<br>Topic size: 836<br>Unknown: 150101",
          "sbert-lexrank-top5<br>Topic size: 498<br>Unknown: 142758",
          "sbert-lexrank-top5<br>Topic size: 433<br>Unknown: 148144",
          "sbert-lexrank-top5<br>Topic size: 333<br>Unknown: 135451",
          "sbert-lexrank-top5<br>Topic size: 369<br>Unknown: 124453",
          "sbert-lexrank-top5<br>Topic size: 297<br>Unknown: 134392",
          "sbert-lexrank-top5<br>Topic size: 203<br>Unknown: 111536",
          "sbert-lexrank-top5<br>Topic size: 199<br>Unknown: 131812"
         ],
         "type": "scatter",
         "x": [
          "5: 10, 10",
          "5: 20, 10",
          "5: 20, 20",
          "5: 50, 10",
          "5: 50, 25",
          "5: 50, 50",
          "5: 100, 1",
          "5: 100, 10",
          "5: 100, 50",
          "5: 100, 100"
         ],
         "y": [
          0.5310851474849543,
          0.5138015726094687,
          0.4997596089639146,
          0.4950329941522559,
          0.4935358502538071,
          0.4719993055706256,
          0.461745868148857,
          0.4820694848747748,
          0.4340875974972144,
          0.4855946099796939
         ]
        },
        {
         "legendgroup": "sbert-lexrank-top5",
         "line": {
          "color": "#bb0600"
         },
         "name": "sbert-lexrank-top5",
         "showlegend": false,
         "text": [
          "sbert-lexrank-top5<br>Topic size: 1333<br>Unknown: 169948",
          "sbert-lexrank-top5<br>Topic size: 788<br>Unknown: 163483",
          "sbert-lexrank-top5<br>Topic size: 606<br>Unknown: 151789",
          "sbert-lexrank-top5<br>Topic size: 387<br>Unknown: 148930",
          "sbert-lexrank-top5<br>Topic size: 358<br>Unknown: 157413",
          "sbert-lexrank-top5<br>Topic size: 297<br>Unknown: 143972",
          "sbert-lexrank-top5<br>Topic size: 295<br>Unknown: 129452",
          "sbert-lexrank-top5<br>Topic size: 230<br>Unknown: 139647",
          "sbert-lexrank-top5<br>Topic size: 183<br>Unknown: 123162",
          "sbert-lexrank-top5<br>Topic size: 161<br>Unknown: 117952"
         ],
         "type": "scatter",
         "x": [
          "10: 10, 10",
          "10: 20, 10",
          "10: 20, 20",
          "10: 50, 10",
          "10: 50, 25",
          "10: 50, 50",
          "10: 100, 1",
          "10: 100, 10",
          "10: 100, 50",
          "10: 100, 100"
         ],
         "y": [
          0.5716509481135562,
          0.5517305787708721,
          0.5174210954562973,
          0.5127781099337243,
          0.5348092072660162,
          0.5044718764877916,
          0.4779934611137059,
          0.5130201902361347,
          0.4723940415868766,
          0.4519075034927281
         ]
        },
        {
         "legendgroup": "sbert-lexrank-top5",
         "line": {
          "color": "#bb0600"
         },
         "name": "sbert-lexrank-top5",
         "showlegend": false,
         "text": [
          "sbert-lexrank-top5<br>Topic size: 1132<br>Unknown: 180465",
          "sbert-lexrank-top5<br>Topic size: 696<br>Unknown: 173951",
          "sbert-lexrank-top5<br>Topic size: 563<br>Unknown: 166568",
          "sbert-lexrank-top5<br>Topic size: 365<br>Unknown: 157272",
          "sbert-lexrank-top5<br>Topic size: 323<br>Unknown: 156678",
          "sbert-lexrank-top5<br>Topic size: 245<br>Unknown: 141331",
          "sbert-lexrank-top5<br>Topic size: 295<br>Unknown: 146673",
          "sbert-lexrank-top5<br>Topic size: 206<br>Unknown: 141583",
          "sbert-lexrank-top5<br>Topic size: 182<br>Unknown: 134081",
          "sbert-lexrank-top5<br>Topic size: 149<br>Unknown: 123281"
         ],
         "type": "scatter",
         "x": [
          "15: 10, 10",
          "15: 20, 10",
          "15: 20, 20",
          "15: 50, 10",
          "15: 50, 25",
          "15: 50, 50",
          "15: 100, 1",
          "15: 100, 10",
          "15: 100, 50",
          "15: 100, 100"
         ],
         "y": [
          0.5971069299710863,
          0.5945353155129123,
          0.5638593195135411,
          0.5515125890535484,
          0.5417682092724709,
          0.5044865027899261,
          0.5024056866430013,
          0.5212094371863916,
          0.501081002270313,
          0.4696780901611612
         ]
        },
        {
         "legendgroup": "sbert-lexrank-top5",
         "line": {
          "color": "#bb0600"
         },
         "name": "sbert-lexrank-top5",
         "showlegend": false,
         "text": [
          "sbert-lexrank-top5<br>Topic size: 1019<br>Unknown: 174684",
          "sbert-lexrank-top5<br>Topic size: 640<br>Unknown: 171719",
          "sbert-lexrank-top5<br>Topic size: 495<br>Unknown: 167793",
          "sbert-lexrank-top5<br>Topic size: 330<br>Unknown: 158205",
          "sbert-lexrank-top5<br>Topic size: 282<br>Unknown: 143166",
          "sbert-lexrank-top5<br>Topic size: 227<br>Unknown: 127898",
          "sbert-lexrank-top5<br>Topic size: 265<br>Unknown: 144576",
          "sbert-lexrank-top5<br>Topic size: 204<br>Unknown: 144744",
          "sbert-lexrank-top5<br>Topic size: 166<br>Unknown: 122429",
          "sbert-lexrank-top5<br>Topic size: 146<br>Unknown: 116951"
         ],
         "type": "scatter",
         "x": [
          "20: 10, 10",
          "20: 20, 10",
          "20: 20, 20",
          "20: 50, 10",
          "20: 50, 25",
          "20: 50, 50",
          "20: 100, 1",
          "20: 100, 10",
          "20: 100, 50",
          "20: 100, 100"
         ],
         "y": [
          0.5824065826865166,
          0.5714979538226984,
          0.5629589931250472,
          0.5415481699621372,
          0.5138822961167878,
          0.4853648515734911,
          0.5132728103527059,
          0.5226247562618731,
          0.4820996363245193,
          0.4442875671061056
         ]
        },
        {
         "legendgroup": "sbert-lexrank-weighted",
         "line": {
          "color": "#e81000"
         },
         "name": "sbert-lexrank-weighted",
         "showlegend": true,
         "text": [
          "sbert-lexrank-weighted<br>Topic size: 2215<br>Unknown: 155735",
          "sbert-lexrank-weighted<br>Topic size: 1169<br>Unknown: 145094",
          "sbert-lexrank-weighted<br>Topic size: 881<br>Unknown: 145665",
          "sbert-lexrank-weighted<br>Topic size: 512<br>Unknown: 134962",
          "sbert-lexrank-weighted<br>Topic size: 396<br>Unknown: 134052",
          "sbert-lexrank-weighted<br>Topic size: 320<br>Unknown: 137559",
          "sbert-lexrank-weighted<br>Topic size: 361<br>Unknown: 124682",
          "sbert-lexrank-weighted<br>Topic size: 271<br>Unknown: 132201",
          "sbert-lexrank-weighted<br>Topic size: 201<br>Unknown: 123010",
          "sbert-lexrank-weighted<br>Topic size: 169<br>Unknown: 129006"
         ],
         "type": "scatter",
         "x": [
          "5: 10, 10",
          "5: 20, 10",
          "5: 20, 20",
          "5: 50, 10",
          "5: 50, 25",
          "5: 50, 50",
          "5: 100, 1",
          "5: 100, 10",
          "5: 100, 50",
          "5: 100, 100"
         ],
         "y": [
          0.5694488560564122,
          0.5409709803643832,
          0.5507016357044977,
          0.5266948969450805,
          0.5356189667974965,
          0.5402638372292489,
          0.5037415481100728,
          0.5285357600030418,
          0.511998703516711,
          0.525623973727422
         ]
        },
        {
         "legendgroup": "sbert-lexrank-weighted",
         "line": {
          "color": "#e81000"
         },
         "name": "sbert-lexrank-weighted",
         "showlegend": false,
         "text": [
          "sbert-lexrank-weighted<br>Topic size: 1293<br>Unknown: 170935",
          "sbert-lexrank-weighted<br>Topic size: 729<br>Unknown: 162427",
          "sbert-lexrank-weighted<br>Topic size: 574<br>Unknown: 161807",
          "sbert-lexrank-weighted<br>Topic size: 365<br>Unknown: 155211",
          "sbert-lexrank-weighted<br>Topic size: 312<br>Unknown: 151126",
          "sbert-lexrank-weighted<br>Topic size: 247<br>Unknown: 144339",
          "sbert-lexrank-weighted<br>Topic size: 274<br>Unknown: 130600",
          "sbert-lexrank-weighted<br>Topic size: 201<br>Unknown: 135032",
          "sbert-lexrank-weighted<br>Topic size: 163<br>Unknown: 136181",
          "sbert-lexrank-weighted<br>Topic size: 126<br>Unknown: 110932"
         ],
         "type": "scatter",
         "x": [
          "10: 10, 10",
          "10: 20, 10",
          "10: 20, 20",
          "10: 50, 10",
          "10: 50, 25",
          "10: 50, 50",
          "10: 100, 1",
          "10: 100, 10",
          "10: 100, 50",
          "10: 100, 100"
         ],
         "y": [
          0.6139720393028522,
          0.5984879190689287,
          0.5898308848018354,
          0.5810183570200315,
          0.5684836633260002,
          0.566413811777353,
          0.5234008539997055,
          0.5486950055466836,
          0.5574129545527748,
          0.5101320738073662
         ]
        },
        {
         "legendgroup": "sbert-lexrank-weighted",
         "line": {
          "color": "#e81000"
         },
         "name": "sbert-lexrank-weighted",
         "showlegend": false,
         "text": [
          "sbert-lexrank-weighted<br>Topic size: 1048<br>Unknown: 176046",
          "sbert-lexrank-weighted<br>Topic size: 658<br>Unknown: 177833",
          "sbert-lexrank-weighted<br>Topic size: 494<br>Unknown: 165271",
          "sbert-lexrank-weighted<br>Topic size: 338<br>Unknown: 166685",
          "sbert-lexrank-weighted<br>Topic size: 286<br>Unknown: 161399",
          "sbert-lexrank-weighted<br>Topic size: 228<br>Unknown: 156457",
          "sbert-lexrank-weighted<br>Topic size: 214<br>Unknown: 120597",
          "sbert-lexrank-weighted<br>Topic size: 172<br>Unknown: 137225",
          "sbert-lexrank-weighted<br>Topic size: 155<br>Unknown: 141932",
          "sbert-lexrank-weighted<br>Topic size: 125<br>Unknown: 132242"
         ],
         "type": "scatter",
         "x": [
          "15: 10, 10",
          "15: 20, 10",
          "15: 20, 20",
          "15: 50, 10",
          "15: 50, 25",
          "15: 50, 50",
          "15: 100, 1",
          "15: 100, 10",
          "15: 100, 50",
          "15: 100, 100"
         ],
         "y": [
          0.6278337377153641,
          0.6343584813043355,
          0.6003169942811973,
          0.605599463949818,
          0.5963563175071567,
          0.5907449490395059,
          0.5300528035174951,
          0.5621043291981072,
          0.570936685831016,
          0.558417008419579
         ]
        },
        {
         "legendgroup": "sbert-lexrank-weighted",
         "line": {
          "color": "#e81000"
         },
         "name": "sbert-lexrank-weighted",
         "showlegend": false,
         "text": [
          "sbert-lexrank-weighted<br>Topic size: 958<br>Unknown: 183047",
          "sbert-lexrank-weighted<br>Topic size: 570<br>Unknown: 170576",
          "sbert-lexrank-weighted<br>Topic size: 428<br>Unknown: 160220",
          "sbert-lexrank-weighted<br>Topic size: 308<br>Unknown: 155995",
          "sbert-lexrank-weighted<br>Topic size: 236<br>Unknown: 146632",
          "sbert-lexrank-weighted<br>Topic size: 210<br>Unknown: 152949",
          "sbert-lexrank-weighted<br>Topic size: 219<br>Unknown: 134265",
          "sbert-lexrank-weighted<br>Topic size: 174<br>Unknown: 148987",
          "sbert-lexrank-weighted<br>Topic size: 136<br>Unknown: 137453",
          "sbert-lexrank-weighted<br>Topic size: 128<br>Unknown: 146128"
         ],
         "type": "scatter",
         "x": [
          "20: 10, 10",
          "20: 20, 10",
          "20: 20, 20",
          "20: 50, 10",
          "20: 50, 25",
          "20: 50, 50",
          "20: 100, 1",
          "20: 100, 10",
          "20: 100, 50",
          "20: 100, 100"
         ],
         "y": [
          0.6418721000605204,
          0.6107590610449454,
          0.6040173654892822,
          0.5901453743962807,
          0.5758063997685668,
          0.5776041001405032,
          0.54675796431365,
          0.5738506540537729,
          0.5583295813593966,
          0.5665949330331393
         ]
        },
        {
         "legendgroup": "sbert-mean",
         "line": {
          "color": "#fd5100"
         },
         "name": "sbert-mean",
         "showlegend": true,
         "text": [
          "sbert-mean<br>Topic size: 2062<br>Unknown: 151790",
          "sbert-mean<br>Topic size: 1063<br>Unknown: 141618",
          "sbert-mean<br>Topic size: 814<br>Unknown: 152206",
          "sbert-mean<br>Topic size: 471<br>Unknown: 138952",
          "sbert-mean<br>Topic size: 379<br>Unknown: 139983",
          "sbert-mean<br>Topic size: 306<br>Unknown: 137669",
          "sbert-mean<br>Topic size: 290<br>Unknown: 108633",
          "sbert-mean<br>Topic size: 251<br>Unknown: 129211",
          "sbert-mean<br>Topic size: 189<br>Unknown: 130519",
          "sbert-mean<br>Topic size: 159<br>Unknown: 130629"
         ],
         "type": "scatter",
         "x": [
          "5: 10, 10",
          "5: 20, 10",
          "5: 20, 20",
          "5: 50, 10",
          "5: 50, 25",
          "5: 50, 50",
          "5: 100, 1",
          "5: 100, 10",
          "5: 100, 50",
          "5: 100, 100"
         ],
         "y": [
          0.5663109448384449,
          0.54511677514392,
          0.5700104627628555,
          0.5389388581825671,
          0.5389153179422138,
          0.5365340911451517,
          0.4829955072615192,
          0.5172940470545782,
          0.5274550347906,
          0.530588928869102
         ]
        },
        {
         "legendgroup": "sbert-mean",
         "line": {
          "color": "#fd5100"
         },
         "name": "sbert-mean",
         "showlegend": false,
         "text": [
          "sbert-mean<br>Topic size: 1169<br>Unknown: 168708",
          "sbert-mean<br>Topic size: 701<br>Unknown: 166099",
          "sbert-mean<br>Topic size: 508<br>Unknown: 151029",
          "sbert-mean<br>Topic size: 330<br>Unknown: 144545",
          "sbert-mean<br>Topic size: 279<br>Unknown: 145866",
          "sbert-mean<br>Topic size: 227<br>Unknown: 141800",
          "sbert-mean<br>Topic size: 266<br>Unknown: 134045",
          "sbert-mean<br>Topic size: 187<br>Unknown: 138033",
          "sbert-mean<br>Topic size: 161<br>Unknown: 134920",
          "sbert-mean<br>Topic size: 127<br>Unknown: 119106"
         ],
         "type": "scatter",
         "x": [
          "10: 10, 10",
          "10: 20, 10",
          "10: 20, 20",
          "10: 50, 10",
          "10: 50, 25",
          "10: 50, 50",
          "10: 100, 1",
          "10: 100, 10",
          "10: 100, 50",
          "10: 100, 100"
         ],
         "y": [
          0.6221437149390495,
          0.6155128966831247,
          0.5766112703889078,
          0.5687274531574731,
          0.5718736882890446,
          0.5610922022251834,
          0.5373409852946717,
          0.560771743074876,
          0.5539055824979844,
          0.5284942891781521
         ]
        },
        {
         "legendgroup": "sbert-mean",
         "line": {
          "color": "#fd5100"
         },
         "name": "sbert-mean",
         "showlegend": false,
         "text": [
          "sbert-mean<br>Topic size: 911<br>Unknown: 169715",
          "sbert-mean<br>Topic size: 553<br>Unknown: 165919",
          "sbert-mean<br>Topic size: 477<br>Unknown: 172864",
          "sbert-mean<br>Topic size: 263<br>Unknown: 145584",
          "sbert-mean<br>Topic size: 230<br>Unknown: 143620",
          "sbert-mean<br>Topic size: 185<br>Unknown: 137601",
          "sbert-mean<br>Topic size: 212<br>Unknown: 128240",
          "sbert-mean<br>Topic size: 161<br>Unknown: 134317",
          "sbert-mean<br>Topic size: 141<br>Unknown: 135507",
          "sbert-mean<br>Topic size: 117<br>Unknown: 125059"
         ],
         "type": "scatter",
         "x": [
          "15: 10, 10",
          "15: 20, 10",
          "15: 20, 20",
          "15: 50, 10",
          "15: 50, 25",
          "15: 50, 50",
          "15: 100, 1",
          "15: 100, 10",
          "15: 100, 50",
          "15: 100, 100"
         ],
         "y": [
          0.6201616195916255,
          0.6153487005485991,
          0.6193308372119015,
          0.5777327253932513,
          0.5584359257991867,
          0.5634196304739435,
          0.540390576692342,
          0.5626796127340197,
          0.5595835309024693,
          0.5466502227880331
         ]
        },
        {
         "legendgroup": "sbert-mean",
         "line": {
          "color": "#fd5100"
         },
         "name": "sbert-mean",
         "showlegend": false,
         "text": [
          "sbert-mean<br>Topic size: 857<br>Unknown: 180243",
          "sbert-mean<br>Topic size: 515<br>Unknown: 164058",
          "sbert-mean<br>Topic size: 403<br>Unknown: 161256",
          "sbert-mean<br>Topic size: 276<br>Unknown: 159503",
          "sbert-mean<br>Topic size: 226<br>Unknown: 151423",
          "sbert-mean<br>Topic size: 190<br>Unknown: 146848",
          "sbert-mean<br>Topic size: 212<br>Unknown: 133421",
          "sbert-mean<br>Topic size: 157<br>Unknown: 140080",
          "sbert-mean<br>Topic size: 130<br>Unknown: 137358",
          "sbert-mean<br>Topic size: 121<br>Unknown: 137663"
         ],
         "type": "scatter",
         "x": [
          "20: 10, 10",
          "20: 20, 10",
          "20: 20, 20",
          "20: 50, 10",
          "20: 50, 25",
          "20: 50, 50",
          "20: 100, 1",
          "20: 100, 10",
          "20: 100, 50",
          "20: 100, 100"
         ],
         "y": [
          0.6423246908079336,
          0.6025625620814509,
          0.5935224864985423,
          0.5940784485854514,
          0.5910777423719935,
          0.5843262119967132,
          0.5466921646487531,
          0.5725036856205317,
          0.5648471460129695,
          0.568324232917954
         ]
        },
        {
         "legendgroup": "sbert-tf-idf-top1",
         "line": {
          "color": "#ff8700"
         },
         "name": "sbert-tf-idf-top1",
         "showlegend": true,
         "text": [
          "sbert-tf-idf-top1<br>Topic size: 1302<br>Unknown: 162583",
          "sbert-tf-idf-top1<br>Topic size: 752<br>Unknown: 159697",
          "sbert-tf-idf-top1<br>Topic size: 566<br>Unknown: 161029",
          "sbert-tf-idf-top1<br>Topic size: 326<br>Unknown: 158131",
          "sbert-tf-idf-top1<br>Topic size: 273<br>Unknown: 162760",
          "sbert-tf-idf-top1<br>Topic size: 232<br>Unknown: 157454",
          "sbert-tf-idf-top1<br>Topic size: 261<br>Unknown: 155372",
          "sbert-tf-idf-top1<br>Topic size: 169<br>Unknown: 142025",
          "sbert-tf-idf-top1<br>Topic size: 129<br>Unknown: 138937",
          "sbert-tf-idf-top1<br>Topic size: 103<br>Unknown: 133838"
         ],
         "type": "scatter",
         "x": [
          "15: 10, 10",
          "15: 20, 10",
          "15: 20, 20",
          "15: 50, 10",
          "15: 50, 25",
          "15: 50, 50",
          "15: 100, 1",
          "15: 100, 10",
          "15: 100, 50",
          "15: 100, 100"
         ],
         "y": [
          0.4839542767887254,
          0.4740284996994449,
          0.4770005372896337,
          0.4601895265281168,
          0.4741832971016034,
          0.4558058415633536,
          0.4442655426002478,
          0.3975040453413597,
          0.3844691670918157,
          0.3690633700495954
         ]
        },
        {
         "legendgroup": "sbert-tf-idf-top1",
         "line": {
          "color": "#ff8700"
         },
         "name": "sbert-tf-idf-top1",
         "showlegend": false,
         "text": [
          "sbert-tf-idf-top1<br>Topic size: 1288<br>Unknown: 190075",
          "sbert-tf-idf-top1<br>Topic size: 665<br>Unknown: 163287",
          "sbert-tf-idf-top1<br>Topic size: 511<br>Unknown: 161868",
          "sbert-tf-idf-top1<br>Topic size: 296<br>Unknown: 159825",
          "sbert-tf-idf-top1<br>Topic size: 245<br>Unknown: 160002",
          "sbert-tf-idf-top1<br>Topic size: 220<br>Unknown: 161647",
          "sbert-tf-idf-top1<br>Topic size: 144<br>Unknown: 142227",
          "sbert-tf-idf-top1<br>Topic size: 136<br>Unknown: 152855",
          "sbert-tf-idf-top1<br>Topic size: 108<br>Unknown: 144273"
         ],
         "type": "scatter",
         "x": [
          "20: 10, 10",
          "20: 20, 10",
          "20: 20, 20",
          "20: 50, 10",
          "20: 50, 25",
          "20: 50, 50",
          "20: 100, 10",
          "20: 100, 50",
          "20: 100, 100"
         ],
         "y": [
          0.6002951777140826,
          0.4867970237065236,
          0.4787642805185914,
          0.4706187451640605,
          0.4671912464962345,
          0.4717585114639928,
          0.3965632430503396,
          0.4319163436904684,
          0.4015567035187389
         ]
        },
        {
         "legendgroup": "sbert-tf-idf-top5",
         "line": {
          "color": "#ffb402"
         },
         "name": "sbert-tf-idf-top5",
         "showlegend": true,
         "text": [
          "sbert-tf-idf-top5<br>Topic size: 1751<br>Unknown: 170864",
          "sbert-tf-idf-top5<br>Topic size: 922<br>Unknown: 165115",
          "sbert-tf-idf-top5<br>Topic size: 671<br>Unknown: 171853",
          "sbert-tf-idf-top5<br>Topic size: 379<br>Unknown: 151077",
          "sbert-tf-idf-top5<br>Topic size: 327<br>Unknown: 165330",
          "sbert-tf-idf-top5<br>Topic size: 258<br>Unknown: 162205",
          "sbert-tf-idf-top5<br>Topic size: 284<br>Unknown: 134862",
          "sbert-tf-idf-top5<br>Topic size: 208<br>Unknown: 149433",
          "sbert-tf-idf-top5<br>Topic size: 168<br>Unknown: 155491",
          "sbert-tf-idf-top5<br>Topic size: 99<br>Unknown: 84934"
         ],
         "type": "scatter",
         "x": [
          "5: 10, 10",
          "5: 20, 10",
          "5: 20, 20",
          "5: 50, 10",
          "5: 50, 25",
          "5: 50, 50",
          "5: 100, 1",
          "5: 100, 10",
          "5: 100, 50",
          "5: 100, 100"
         ],
         "y": [
          0.5816622801063285,
          0.5658412873674268,
          0.5879205627986106,
          0.5333977482776004,
          0.5718705828210775,
          0.5601478562869386,
          0.4920793846341368,
          0.5298953384030732,
          0.5490141323879365,
          0.4354019413268957
         ]
        },
        {
         "legendgroup": "sbert-tf-idf-top5",
         "line": {
          "color": "#ffb402"
         },
         "name": "sbert-tf-idf-top5",
         "showlegend": false,
         "text": [
          "sbert-tf-idf-top5<br>Topic size: 956<br>Unknown: 183206",
          "sbert-tf-idf-top5<br>Topic size: 521<br>Unknown: 170760",
          "sbert-tf-idf-top5<br>Topic size: 403<br>Unknown: 171946",
          "sbert-tf-idf-top5<br>Topic size: 278<br>Unknown: 164865",
          "sbert-tf-idf-top5<br>Topic size: 231<br>Unknown: 160668",
          "sbert-tf-idf-top5<br>Topic size: 205<br>Unknown: 159403",
          "sbert-tf-idf-top5<br>Topic size: 213<br>Unknown: 140321",
          "sbert-tf-idf-top5<br>Topic size: 169<br>Unknown: 157660",
          "sbert-tf-idf-top5<br>Topic size: 143<br>Unknown: 154290",
          "sbert-tf-idf-top5<br>Topic size: 113<br>Unknown: 105132"
         ],
         "type": "scatter",
         "x": [
          "10: 10, 10",
          "10: 20, 10",
          "10: 20, 20",
          "10: 50, 10",
          "10: 50, 25",
          "10: 50, 50",
          "10: 100, 1",
          "10: 100, 10",
          "10: 100, 50",
          "10: 100, 100"
         ],
         "y": [
          0.6168092914531381,
          0.5916837193407837,
          0.5977894796352682,
          0.5810611464142135,
          0.5738957597173144,
          0.5684907926341073,
          0.516655601659751,
          0.5665899256294975,
          0.5453860865407603,
          0.4542639590008375
         ]
        },
        {
         "legendgroup": "sbert-tf-idf-top5",
         "line": {
          "color": "#ffb402"
         },
         "name": "sbert-tf-idf-top5",
         "showlegend": false,
         "text": [
          "sbert-tf-idf-top5<br>Topic size: 788<br>Unknown: 189523",
          "sbert-tf-idf-top5<br>Topic size: 460<br>Unknown: 179528",
          "sbert-tf-idf-top5<br>Topic size: 332<br>Unknown: 174636",
          "sbert-tf-idf-top5<br>Topic size: 230<br>Unknown: 172900",
          "sbert-tf-idf-top5<br>Topic size: 198<br>Unknown: 163613",
          "sbert-tf-idf-top5<br>Topic size: 176<br>Unknown: 169493",
          "sbert-tf-idf-top5<br>Topic size: 205<br>Unknown: 160879",
          "sbert-tf-idf-top5<br>Topic size: 145<br>Unknown: 168864",
          "sbert-tf-idf-top5<br>Topic size: 130<br>Unknown: 165443",
          "sbert-tf-idf-top5<br>Topic size: 113<br>Unknown: 160388"
         ],
         "type": "scatter",
         "x": [
          "15: 10, 10",
          "15: 20, 10",
          "15: 20, 20",
          "15: 50, 10",
          "15: 50, 25",
          "15: 50, 50",
          "15: 100, 1",
          "15: 100, 10",
          "15: 100, 50",
          "15: 100, 100"
         ],
         "y": [
          0.6485827576469839,
          0.6232617896009673,
          0.6061287400886657,
          0.6076128843175851,
          0.5794581448053128,
          0.586697114288634,
          0.5690585697423582,
          0.5982850798800028,
          0.5850679814848928,
          0.5689535363052823
         ]
        },
        {
         "legendgroup": "sbert-tf-idf-top5",
         "line": {
          "color": "#ffb402"
         },
         "name": "sbert-tf-idf-top5",
         "showlegend": false,
         "text": [
          "sbert-tf-idf-top5<br>Topic size: 696<br>Unknown: 189775",
          "sbert-tf-idf-top5<br>Topic size: 432<br>Unknown: 189483",
          "sbert-tf-idf-top5<br>Topic size: 307<br>Unknown: 178515",
          "sbert-tf-idf-top5<br>Topic size: 242<br>Unknown: 189894",
          "sbert-tf-idf-top5<br>Topic size: 182<br>Unknown: 168151",
          "sbert-tf-idf-top5<br>Topic size: 155<br>Unknown: 139696",
          "sbert-tf-idf-top5<br>Topic size: 204<br>Unknown: 166049",
          "sbert-tf-idf-top5<br>Topic size: 152<br>Unknown: 178992",
          "sbert-tf-idf-top5<br>Topic size: 122<br>Unknown: 140742",
          "sbert-tf-idf-top5<br>Topic size: 110<br>Unknown: 150644"
         ],
         "type": "scatter",
         "x": [
          "20: 10, 10",
          "20: 20, 10",
          "20: 20, 20",
          "20: 50, 10",
          "20: 50, 25",
          "20: 50, 50",
          "20: 100, 1",
          "20: 100, 10",
          "20: 100, 50",
          "20: 100, 100"
         ],
         "y": [
          0.6466757889879792,
          0.6469512821120298,
          0.6152014029876686,
          0.6455064980045497,
          0.5890539311599196,
          0.4936183120610402,
          0.5868477280666835,
          0.6240873627620531,
          0.4938763619413855,
          0.5193051387556848
         ]
        },
        {
         "legendgroup": "sbert-tf-idf-weighted",
         "line": {
          "color": "#ffdc0a"
         },
         "name": "sbert-tf-idf-weighted",
         "showlegend": true,
         "text": [
          "sbert-tf-idf-weighted<br>Topic size: 1968<br>Unknown: 161481",
          "sbert-tf-idf-weighted<br>Topic size: 1132<br>Unknown: 159361",
          "sbert-tf-idf-weighted<br>Topic size: 857<br>Unknown: 159629",
          "sbert-tf-idf-weighted<br>Topic size: 506<br>Unknown: 142757",
          "sbert-tf-idf-weighted<br>Topic size: 402<br>Unknown: 135303",
          "sbert-tf-idf-weighted<br>Topic size: 299<br>Unknown: 123437",
          "sbert-tf-idf-weighted<br>Topic size: 340<br>Unknown: 115603",
          "sbert-tf-idf-weighted<br>Topic size: 260<br>Unknown: 122547",
          "sbert-tf-idf-weighted<br>Topic size: 188<br>Unknown: 107362",
          "sbert-tf-idf-weighted<br>Topic size: 181<br>Unknown: 124859"
         ],
         "type": "scatter",
         "x": [
          "5: 10, 10",
          "5: 20, 10",
          "5: 20, 20",
          "5: 50, 10",
          "5: 50, 25",
          "5: 50, 50",
          "5: 100, 1",
          "5: 100, 10",
          "5: 100, 50",
          "5: 100, 100"
         ],
         "y": [
          0.5500167418137117,
          0.5420004432764461,
          0.5399965510685055,
          0.5159836156315731,
          0.5012560403328506,
          0.470956585756293,
          0.4580314752544721,
          0.4726091966062637,
          0.428695205969195,
          0.4816614080607422
         ]
        },
        {
         "legendgroup": "sbert-tf-idf-weighted",
         "line": {
          "color": "#ffdc0a"
         },
         "name": "sbert-tf-idf-weighted",
         "showlegend": false,
         "text": [
          "sbert-tf-idf-weighted<br>Topic size: 1060<br>Unknown: 163933",
          "sbert-tf-idf-weighted<br>Topic size: 635<br>Unknown: 160890",
          "sbert-tf-idf-weighted<br>Topic size: 465<br>Unknown: 150212",
          "sbert-tf-idf-weighted<br>Topic size: 316<br>Unknown: 146732",
          "sbert-tf-idf-weighted<br>Topic size: 260<br>Unknown: 134451",
          "sbert-tf-idf-weighted<br>Topic size: 227<br>Unknown: 137350",
          "sbert-tf-idf-weighted<br>Topic size: 243<br>Unknown: 125834",
          "sbert-tf-idf-weighted<br>Topic size: 200<br>Unknown: 141507",
          "sbert-tf-idf-weighted<br>Topic size: 174<br>Unknown: 134789",
          "sbert-tf-idf-weighted<br>Topic size: 145<br>Unknown: 125287"
         ],
         "type": "scatter",
         "x": [
          "10: 10, 10",
          "10: 20, 10",
          "10: 20, 20",
          "10: 50, 10",
          "10: 50, 25",
          "10: 50, 50",
          "10: 100, 1",
          "10: 100, 10",
          "10: 100, 50",
          "10: 100, 100"
         ],
         "y": [
          0.5712799079495076,
          0.5645391144237196,
          0.5442647034273217,
          0.5346581836118751,
          0.5248100950562451,
          0.528193197267667,
          0.495929309827135,
          0.5352751829298644,
          0.5183772796007239,
          0.5002224217610861
         ]
        },
        {
         "legendgroup": "sbert-tf-idf-weighted",
         "line": {
          "color": "#ffdc0a"
         },
         "name": "sbert-tf-idf-weighted",
         "showlegend": false,
         "text": [
          "sbert-tf-idf-weighted<br>Topic size: 871<br>Unknown: 171902",
          "sbert-tf-idf-weighted<br>Topic size: 503<br>Unknown: 156945",
          "sbert-tf-idf-weighted<br>Topic size: 390<br>Unknown: 151173",
          "sbert-tf-idf-weighted<br>Topic size: 266<br>Unknown: 143514",
          "sbert-tf-idf-weighted<br>Topic size: 250<br>Unknown: 149099",
          "sbert-tf-idf-weighted<br>Topic size: 218<br>Unknown: 141563",
          "sbert-tf-idf-weighted<br>Topic size: 225<br>Unknown: 134190",
          "sbert-tf-idf-weighted<br>Topic size: 172<br>Unknown: 136439",
          "sbert-tf-idf-weighted<br>Topic size: 162<br>Unknown: 138939",
          "sbert-tf-idf-weighted<br>Topic size: 129<br>Unknown: 110520"
         ],
         "type": "scatter",
         "x": [
          "15: 10, 10",
          "15: 20, 10",
          "15: 20, 20",
          "15: 50, 10",
          "15: 50, 25",
          "15: 50, 50",
          "15: 100, 1",
          "15: 100, 10",
          "15: 100, 50",
          "15: 100, 100"
         ],
         "y": [
          0.5927706964303404,
          0.5722340285328326,
          0.5522000271329143,
          0.543791590208418,
          0.5544072201870536,
          0.5381069641854767,
          0.522073194259208,
          0.529697898567354,
          0.5296979982700594,
          0.4539901154004946
         ]
        },
        {
         "legendgroup": "sbert-tf-idf-weighted",
         "line": {
          "color": "#ffdc0a"
         },
         "name": "sbert-tf-idf-weighted",
         "showlegend": false,
         "text": [
          "sbert-tf-idf-weighted<br>Topic size: 790<br>Unknown: 180027",
          "sbert-tf-idf-weighted<br>Topic size: 468<br>Unknown: 166074",
          "sbert-tf-idf-weighted<br>Topic size: 383<br>Unknown: 163967",
          "sbert-tf-idf-weighted<br>Topic size: 252<br>Unknown: 151942",
          "sbert-tf-idf-weighted<br>Topic size: 230<br>Unknown: 152597",
          "sbert-tf-idf-weighted<br>Topic size: 202<br>Unknown: 147752",
          "sbert-tf-idf-weighted<br>Topic size: 209<br>Unknown: 133934",
          "sbert-tf-idf-weighted<br>Topic size: 168<br>Unknown: 149785",
          "sbert-tf-idf-weighted<br>Topic size: 152<br>Unknown: 144955",
          "sbert-tf-idf-weighted<br>Topic size: 138<br>Unknown: 141721"
         ],
         "type": "scatter",
         "x": [
          "20: 10, 10",
          "20: 20, 10",
          "20: 20, 20",
          "20: 50, 10",
          "20: 50, 25",
          "20: 50, 50",
          "20: 100, 1",
          "20: 100, 10",
          "20: 100, 50",
          "20: 100, 100"
         ],
         "y": [
          0.6190076105487263,
          0.5948197620704672,
          0.587676203711605,
          0.5558730366064722,
          0.5568913941515232,
          0.5527140996880439,
          0.5143053224922269,
          0.5559251102218278,
          0.5460611069249653,
          0.538063556478929
         ]
        },
        {
         "legendgroup": "tfidf",
         "line": {
          "color": "#176e08"
         },
         "name": "tfidf",
         "showlegend": true,
         "text": [
          "tfidf<br>Topic size: 3166<br>Unknown: 101038",
          "tfidf<br>Topic size: 1990<br>Unknown: 99607",
          "tfidf<br>Topic size: 1701<br>Unknown: 100783",
          "tfidf<br>Topic size: 978<br>Unknown: 94076",
          "tfidf<br>Topic size: 897<br>Unknown: 96726",
          "tfidf<br>Topic size: 810<br>Unknown: 102580",
          "tfidf<br>Topic size: 603<br>Unknown: 86810",
          "tfidf<br>Topic size: 557<br>Unknown: 90334",
          "tfidf<br>Topic size: 492<br>Unknown: 94265",
          "tfidf<br>Topic size: 446<br>Unknown: 102057"
         ],
         "type": "scatter",
         "x": [
          "5: 10, 10",
          "5: 20, 10",
          "5: 20, 20",
          "5: 50, 10",
          "5: 50, 25",
          "5: 50, 50",
          "5: 100, 1",
          "5: 100, 10",
          "5: 100, 50",
          "5: 100, 100"
         ],
         "y": [
          0.4289288163195337,
          0.4377862089092887,
          0.438838919404826,
          0.4346106930201786,
          0.4450231865278365,
          0.4488319547911646,
          0.4258448770618716,
          0.4337381616723262,
          0.4443136401408729,
          0.4532726771703029
         ]
        },
        {
         "legendgroup": "tfidf",
         "line": {
          "color": "#176e08"
         },
         "name": "tfidf",
         "showlegend": false,
         "text": [
          "tfidf<br>Topic size: 2521<br>Unknown: 108449",
          "tfidf<br>Topic size: 1658<br>Unknown: 103430",
          "tfidf<br>Topic size: 1428<br>Unknown: 103625",
          "tfidf<br>Topic size: 880<br>Unknown: 98508",
          "tfidf<br>Topic size: 821<br>Unknown: 102868",
          "tfidf<br>Topic size: 735<br>Unknown: 105518",
          "tfidf<br>Topic size: 554<br>Unknown: 91551",
          "tfidf<br>Topic size: 498<br>Unknown: 95789",
          "tfidf<br>Topic size: 434<br>Unknown: 100864",
          "tfidf<br>Topic size: 387<br>Unknown: 104238"
         ],
         "type": "scatter",
         "x": [
          "10: 10, 10",
          "10: 20, 10",
          "10: 20, 20",
          "10: 50, 10",
          "10: 50, 25",
          "10: 50, 50",
          "10: 100, 1",
          "10: 100, 10",
          "10: 100, 50",
          "10: 100, 100"
         ],
         "y": [
          0.4791581004532635,
          0.4817581846276783,
          0.4868340039233093,
          0.4813766821483863,
          0.4928369321012605,
          0.4980974780523018,
          0.4800996088830593,
          0.4895875943624261,
          0.5022405514640254,
          0.5072472898600943
         ]
        },
        {
         "legendgroup": "tfidf",
         "line": {
          "color": "#176e08"
         },
         "name": "tfidf",
         "showlegend": false,
         "text": [
          "tfidf<br>Topic size: 2192<br>Unknown: 115298",
          "tfidf<br>Topic size: 1490<br>Unknown: 109817",
          "tfidf<br>Topic size: 1305<br>Unknown: 111618",
          "tfidf<br>Topic size: 799<br>Unknown: 108555",
          "tfidf<br>Topic size: 728<br>Unknown: 110421",
          "tfidf<br>Topic size: 625<br>Unknown: 108128",
          "tfidf<br>Topic size: 534<br>Unknown: 102198",
          "tfidf<br>Topic size: 478<br>Unknown: 105028",
          "tfidf<br>Topic size: 420<br>Unknown: 107763",
          "tfidf<br>Topic size: 375<br>Unknown: 111247"
         ],
         "type": "scatter",
         "x": [
          "15: 10, 10",
          "15: 20, 10",
          "15: 20, 20",
          "15: 50, 10",
          "15: 50, 25",
          "15: 50, 50",
          "15: 100, 1",
          "15: 100, 10",
          "15: 100, 50",
          "15: 100, 100"
         ],
         "y": [
          0.5128599346120718,
          0.5122009779251181,
          0.5170802346191093,
          0.5148973545647751,
          0.5200157039002532,
          0.5241505714884566,
          0.511261589464289,
          0.5164858778813912,
          0.5263276377295861,
          0.5345920431557654
         ]
        },
        {
         "legendgroup": "tfidf",
         "line": {
          "color": "#176e08"
         },
         "name": "tfidf",
         "showlegend": false,
         "text": [
          "tfidf<br>Topic size: 1975<br>Unknown: 124230",
          "tfidf<br>Topic size: 1397<br>Unknown: 118391",
          "tfidf<br>Topic size: 1209<br>Unknown: 117410",
          "tfidf<br>Topic size: 743<br>Unknown: 115244",
          "tfidf<br>Topic size: 677<br>Unknown: 114138",
          "tfidf<br>Topic size: 597<br>Unknown: 115866",
          "tfidf<br>Topic size: 493<br>Unknown: 102837",
          "tfidf<br>Topic size: 438<br>Unknown: 106867",
          "tfidf<br>Topic size: 398<br>Unknown: 112509",
          "tfidf<br>Topic size: 361<br>Unknown: 120966"
         ],
         "type": "scatter",
         "x": [
          "20: 10, 10",
          "20: 20, 10",
          "20: 20, 20",
          "20: 50, 10",
          "20: 50, 25",
          "20: 50, 50",
          "20: 100, 1",
          "20: 100, 10",
          "20: 100, 50",
          "20: 100, 100"
         ],
         "y": [
          0.534348669960056,
          0.5314841669996543,
          0.5292133827667843,
          0.5302491103202847,
          0.5359742163868598,
          0.5377032462749985,
          0.5233974058864708,
          0.5315956876630965,
          0.5405536395068566,
          0.556373966809353
         ]
        },
        {
         "legendgroup": "tfidf-spacy",
         "line": {
          "color": "#32d613"
         },
         "name": "tfidf-spacy",
         "showlegend": true,
         "text": [
          "tfidf-spacy<br>Topic size: 3122<br>Unknown: 104087",
          "tfidf-spacy<br>Topic size: 1987<br>Unknown: 100627",
          "tfidf-spacy<br>Topic size: 1708<br>Unknown: 101697",
          "tfidf-spacy<br>Topic size: 947<br>Unknown: 91029",
          "tfidf-spacy<br>Topic size: 894<br>Unknown: 97191",
          "tfidf-spacy<br>Topic size: 785<br>Unknown: 95429",
          "tfidf-spacy<br>Topic size: 598<br>Unknown: 86577",
          "tfidf-spacy<br>Topic size: 554<br>Unknown: 92231",
          "tfidf-spacy<br>Topic size: 487<br>Unknown: 94829",
          "tfidf-spacy<br>Topic size: 432<br>Unknown: 101513"
         ],
         "type": "scatter",
         "x": [
          "5: 10, 10",
          "5: 20, 10",
          "5: 20, 20",
          "5: 50, 10",
          "5: 50, 25",
          "5: 50, 50",
          "5: 100, 1",
          "5: 100, 10",
          "5: 100, 50",
          "5: 100, 100"
         ],
         "y": [
          0.4750633647938302,
          0.4756876107667753,
          0.4791201012358728,
          0.4765660446572513,
          0.4870039995036415,
          0.4882618915015528,
          0.4828292050068472,
          0.4898003472222222,
          0.4949629065653986,
          0.5100462478941914
         ]
        },
        {
         "legendgroup": "tfidf-spacy",
         "line": {
          "color": "#32d613"
         },
         "name": "tfidf-spacy",
         "showlegend": false,
         "text": [
          "tfidf-spacy<br>Topic size: 2384<br>Unknown: 111531",
          "tfidf-spacy<br>Topic size: 1587<br>Unknown: 107137",
          "tfidf-spacy<br>Topic size: 1386<br>Unknown: 109689",
          "tfidf-spacy<br>Topic size: 839<br>Unknown: 103862",
          "tfidf-spacy<br>Topic size: 764<br>Unknown: 103253",
          "tfidf-spacy<br>Topic size: 682<br>Unknown: 107957",
          "tfidf-spacy<br>Topic size: 544<br>Unknown: 94432",
          "tfidf-spacy<br>Topic size: 500<br>Unknown: 97323",
          "tfidf-spacy<br>Topic size: 447<br>Unknown: 101234",
          "tfidf-spacy<br>Topic size: 412<br>Unknown: 106260"
         ],
         "type": "scatter",
         "x": [
          "10: 10, 10",
          "10: 20, 10",
          "10: 20, 20",
          "10: 50, 10",
          "10: 50, 25",
          "10: 50, 50",
          "10: 100, 1",
          "10: 100, 10",
          "10: 100, 50",
          "10: 100, 100"
         ],
         "y": [
          0.5158985903219657,
          0.5237144779563507,
          0.5267966603727997,
          0.5360534788052227,
          0.535876136292814,
          0.5453381046070962,
          0.5342315292889007,
          0.5358803619228812,
          0.54306279799824,
          0.5512788310799691
         ]
        },
        {
         "legendgroup": "tfidf-spacy",
         "line": {
          "color": "#32d613"
         },
         "name": "tfidf-spacy",
         "showlegend": false,
         "text": [
          "tfidf-spacy<br>Topic size: 2049<br>Unknown: 119179",
          "tfidf-spacy<br>Topic size: 1414<br>Unknown: 114679",
          "tfidf-spacy<br>Topic size: 1231<br>Unknown: 113401",
          "tfidf-spacy<br>Topic size: 760<br>Unknown: 112260",
          "tfidf-spacy<br>Topic size: 704<br>Unknown: 109677",
          "tfidf-spacy<br>Topic size: 625<br>Unknown: 108184",
          "tfidf-spacy<br>Topic size: 517<br>Unknown: 102312",
          "tfidf-spacy<br>Topic size: 472<br>Unknown: 109949",
          "tfidf-spacy<br>Topic size: 424<br>Unknown: 107108",
          "tfidf-spacy<br>Topic size: 361<br>Unknown: 104723"
         ],
         "type": "scatter",
         "x": [
          "15: 10, 10",
          "15: 20, 10",
          "15: 20, 20",
          "15: 50, 10",
          "15: 50, 25",
          "15: 50, 50",
          "15: 100, 1",
          "15: 100, 10",
          "15: 100, 50",
          "15: 100, 100"
         ],
         "y": [
          0.5430127344373942,
          0.5438646437393787,
          0.5461110747694119,
          0.5562781847092251,
          0.5570548636968518,
          0.5577381902588241,
          0.5504048157299827,
          0.5626479979715414,
          0.5650017772334257,
          0.5699085038591948
         ]
        },
        {
         "legendgroup": "tfidf-spacy",
         "line": {
          "color": "#32d613"
         },
         "name": "tfidf-spacy",
         "showlegend": false,
         "text": [
          "tfidf-spacy<br>Topic size: 1795<br>Unknown: 122619",
          "tfidf-spacy<br>Topic size: 1316<br>Unknown: 120519",
          "tfidf-spacy<br>Topic size: 1130<br>Unknown: 118965",
          "tfidf-spacy<br>Topic size: 718<br>Unknown: 110459",
          "tfidf-spacy<br>Topic size: 661<br>Unknown: 110827",
          "tfidf-spacy<br>Topic size: 599<br>Unknown: 114948",
          "tfidf-spacy<br>Topic size: 500<br>Unknown: 106795",
          "tfidf-spacy<br>Topic size: 447<br>Unknown: 107348",
          "tfidf-spacy<br>Topic size: 386<br>Unknown: 103489",
          "tfidf-spacy<br>Topic size: 348<br>Unknown: 106281"
         ],
         "type": "scatter",
         "x": [
          "20: 10, 10",
          "20: 20, 10",
          "20: 20, 20",
          "20: 50, 10",
          "20: 50, 25",
          "20: 50, 50",
          "20: 100, 1",
          "20: 100, 10",
          "20: 100, 50",
          "20: 100, 100"
         ],
         "y": [
          0.5516079129540485,
          0.55383567313994,
          0.5544058142831371,
          0.5554593909064423,
          0.5596885333333333,
          0.570627707825616,
          0.5636243426255223,
          0.5649145217261715,
          0.5691213625607909,
          0.5756316789012749
         ]
        },
        {
         "legendgroup": "use-default",
         "line": {
          "color": "#000d94"
         },
         "name": "use-default",
         "showlegend": true,
         "text": [
          "use-default<br>Topic size: 2320<br>Unknown: 168449",
          "use-default<br>Topic size: 1185<br>Unknown: 157924",
          "use-default<br>Topic size: 851<br>Unknown: 156391",
          "use-default<br>Topic size: 468<br>Unknown: 142916",
          "use-default<br>Topic size: 365<br>Unknown: 140735",
          "use-default<br>Topic size: 305<br>Unknown: 142972",
          "use-default<br>Topic size: 344<br>Unknown: 134310",
          "use-default<br>Topic size: 257<br>Unknown: 131986",
          "use-default<br>Topic size: 189<br>Unknown: 126356",
          "use-default<br>Topic size: 144<br>Unknown: 119373"
         ],
         "type": "scatter",
         "x": [
          "5: 10, 10",
          "5: 20, 10",
          "5: 20, 20",
          "5: 50, 10",
          "5: 50, 25",
          "5: 50, 50",
          "5: 100, 1",
          "5: 100, 10",
          "5: 100, 50",
          "5: 100, 100"
         ],
         "y": [
          0.5887086124781012,
          0.566783101903889,
          0.5895652319839568,
          0.5520047000346585,
          0.5521259868653051,
          0.5432396306730551,
          0.5330478866410082,
          0.5460409317210475,
          0.5317742755465176,
          0.5374310290822351
         ]
        },
        {
         "legendgroup": "use-default",
         "line": {
          "color": "#000d94"
         },
         "name": "use-default",
         "showlegend": false,
         "text": [
          "use-default<br>Topic size: 1389<br>Unknown: 165258",
          "use-default<br>Topic size: 764<br>Unknown: 155334",
          "use-default<br>Topic size: 600<br>Unknown: 162100",
          "use-default<br>Topic size: 345<br>Unknown: 141428",
          "use-default<br>Topic size: 321<br>Unknown: 153931",
          "use-default<br>Topic size: 265<br>Unknown: 148088",
          "use-default<br>Topic size: 265<br>Unknown: 129448",
          "use-default<br>Topic size: 212<br>Unknown: 136431",
          "use-default<br>Topic size: 183<br>Unknown: 145104",
          "use-default<br>Topic size: 145<br>Unknown: 133044"
         ],
         "type": "scatter",
         "x": [
          "10: 10, 10",
          "10: 20, 10",
          "10: 20, 20",
          "10: 50, 10",
          "10: 50, 25",
          "10: 50, 50",
          "10: 100, 1",
          "10: 100, 10",
          "10: 100, 50",
          "10: 100, 100"
         ],
         "y": [
          0.6121376050852622,
          0.595294646689696,
          0.5930214586688792,
          0.5713589730056717,
          0.5960473545887818,
          0.5896834325567616,
          0.5464626229208402,
          0.5700552334501526,
          0.5997290890619709,
          0.5736304025385818
         ]
        },
        {
         "legendgroup": "use-default",
         "line": {
          "color": "#000d94"
         },
         "name": "use-default",
         "showlegend": false,
         "text": [
          "use-default<br>Topic size: 1180<br>Unknown: 176946",
          "use-default<br>Topic size: 680<br>Unknown: 174619",
          "use-default<br>Topic size: 506<br>Unknown: 167956",
          "use-default<br>Topic size: 339<br>Unknown: 157403",
          "use-default<br>Topic size: 274<br>Unknown: 146213",
          "use-default<br>Topic size: 222<br>Unknown: 143338",
          "use-default<br>Topic size: 254<br>Unknown: 133453",
          "use-default<br>Topic size: 197<br>Unknown: 151287",
          "use-default<br>Topic size: 152<br>Unknown: 141350",
          "use-default<br>Topic size: 118<br>Unknown: 131381"
         ],
         "type": "scatter",
         "x": [
          "15: 10, 10",
          "15: 20, 10",
          "15: 20, 20",
          "15: 50, 10",
          "15: 50, 25",
          "15: 50, 50",
          "15: 100, 1",
          "15: 100, 10",
          "15: 100, 50",
          "15: 100, 100"
         ],
         "y": [
          0.6331520199444728,
          0.6356344610587144,
          0.6117733028259281,
          0.6102656806792595,
          0.5896914907971078,
          0.574759869188518,
          0.5672235644465956,
          0.6008288829550512,
          0.5793298090510811,
          0.5765513802814707
         ]
        },
        {
         "legendgroup": "use-default",
         "line": {
          "color": "#000d94"
         },
         "name": "use-default",
         "showlegend": false,
         "text": [
          "use-default<br>Topic size: 1013<br>Unknown: 179619",
          "use-default<br>Topic size: 637<br>Unknown: 176330",
          "use-default<br>Topic size: 471<br>Unknown: 169874",
          "use-default<br>Topic size: 297<br>Unknown: 150140",
          "use-default<br>Topic size: 252<br>Unknown: 151859",
          "use-default<br>Topic size: 206<br>Unknown: 139269",
          "use-default<br>Topic size: 224<br>Unknown: 132618",
          "use-default<br>Topic size: 183<br>Unknown: 143406",
          "use-default<br>Topic size: 147<br>Unknown: 144270",
          "use-default<br>Topic size: 117<br>Unknown: 138515"
         ],
         "type": "scatter",
         "x": [
          "20: 10, 10",
          "20: 20, 10",
          "20: 20, 20",
          "20: 50, 10",
          "20: 50, 25",
          "20: 50, 50",
          "20: 100, 1",
          "20: 100, 10",
          "20: 100, 50",
          "20: 100, 100"
         ],
         "y": [
          0.6469775875941189,
          0.6357236868344435,
          0.6229952778757974,
          0.5920147400718025,
          0.5920767918627792,
          0.5547402648280185,
          0.5672924421427415,
          0.5796753943577266,
          0.5807214247844954,
          0.5765389978111685
         ]
        },
        {
         "legendgroup": "use-lexrank-top1",
         "line": {
          "color": "#0017d1"
         },
         "name": "use-lexrank-top1",
         "showlegend": true,
         "text": [
          "use-lexrank-top1<br>Topic size: 1024<br>Unknown: 176210",
          "use-lexrank-top1<br>Topic size: 621<br>Unknown: 169745",
          "use-lexrank-top1<br>Topic size: 463<br>Unknown: 151009",
          "use-lexrank-top1<br>Topic size: 349<br>Unknown: 163865",
          "use-lexrank-top1<br>Topic size: 258<br>Unknown: 141003",
          "use-lexrank-top1<br>Topic size: 212<br>Unknown: 140589",
          "use-lexrank-top1<br>Topic size: 270<br>Unknown: 144281",
          "use-lexrank-top1<br>Topic size: 207<br>Unknown: 154798",
          "use-lexrank-top1<br>Topic size: 156<br>Unknown: 143121",
          "use-lexrank-top1<br>Topic size: 129<br>Unknown: 137992"
         ],
         "type": "scatter",
         "x": [
          "15: 10, 10",
          "15: 20, 10",
          "15: 20, 20",
          "15: 50, 10",
          "15: 50, 25",
          "15: 50, 50",
          "15: 100, 1",
          "15: 100, 10",
          "15: 100, 50",
          "15: 100, 100"
         ],
         "y": [
          0.5731905523370121,
          0.5546628282299573,
          0.4764746845988541,
          0.5251793244359432,
          0.4542386695022094,
          0.4566164210384843,
          0.4661878685573818,
          0.5121337261410077,
          0.4523046008289027,
          0.4346416801723168
         ]
        },
        {
         "legendgroup": "use-lexrank-top1",
         "line": {
          "color": "#0017d1"
         },
         "name": "use-lexrank-top1",
         "showlegend": false,
         "text": [
          "use-lexrank-top1<br>Topic size: 873<br>Unknown: 161017",
          "use-lexrank-top1<br>Topic size: 528<br>Unknown: 152389",
          "use-lexrank-top1<br>Topic size: 441<br>Unknown: 167588",
          "use-lexrank-top1<br>Topic size: 274<br>Unknown: 145308",
          "use-lexrank-top1<br>Topic size: 234<br>Unknown: 145740",
          "use-lexrank-top1<br>Topic size: 190<br>Unknown: 143712",
          "use-lexrank-top1<br>Topic size: 240<br>Unknown: 143090",
          "use-lexrank-top1<br>Topic size: 166<br>Unknown: 137125",
          "use-lexrank-top1<br>Topic size: 129<br>Unknown: 136533",
          "use-lexrank-top1<br>Topic size: 118<br>Unknown: 137751"
         ],
         "type": "scatter",
         "x": [
          "20: 10, 10",
          "20: 20, 10",
          "20: 20, 20",
          "20: 50, 10",
          "20: 50, 25",
          "20: 50, 50",
          "20: 100, 1",
          "20: 100, 10",
          "20: 100, 50",
          "20: 100, 100"
         ],
         "y": [
          0.5036261561038873,
          0.487449093557442,
          0.5434464774281805,
          0.4588804334901734,
          0.4654376913720062,
          0.4585885231168658,
          0.4714755084262334,
          0.4476693199508226,
          0.4423135236623591,
          0.4556592429084439
         ]
        },
        {
         "legendgroup": "use-lexrank-top5",
         "line": {
          "color": "#001ef7"
         },
         "name": "use-lexrank-top5",
         "showlegend": true,
         "text": [
          "use-lexrank-top5<br>Topic size: 1107<br>Unknown: 160424",
          "use-lexrank-top5<br>Topic size: 676<br>Unknown: 160709",
          "use-lexrank-top5<br>Topic size: 560<br>Unknown: 157444",
          "use-lexrank-top5<br>Topic size: 372<br>Unknown: 149258",
          "use-lexrank-top5<br>Topic size: 305<br>Unknown: 133281",
          "use-lexrank-top5<br>Topic size: 276<br>Unknown: 140985",
          "use-lexrank-top5<br>Topic size: 283<br>Unknown: 131438",
          "use-lexrank-top5<br>Topic size: 230<br>Unknown: 142580",
          "use-lexrank-top5<br>Topic size: 189<br>Unknown: 135696",
          "use-lexrank-top5<br>Topic size: 159<br>Unknown: 137316"
         ],
         "type": "scatter",
         "x": [
          "15: 10, 10",
          "15: 20, 10",
          "15: 20, 20",
          "15: 50, 10",
          "15: 50, 25",
          "15: 50, 50",
          "15: 100, 1",
          "15: 100, 10",
          "15: 100, 50",
          "15: 100, 100"
         ],
         "y": [
          0.5088817206191275,
          0.5116693686174606,
          0.5035131852879945,
          0.479713614149608,
          0.4304462509729309,
          0.4381094569807618,
          0.4246589485875376,
          0.4565624772188321,
          0.4318759639993898,
          0.4463713221712194
         ]
        },
        {
         "legendgroup": "use-lexrank-top5",
         "line": {
          "color": "#001ef7"
         },
         "name": "use-lexrank-top5",
         "showlegend": false,
         "text": [
          "use-lexrank-top5<br>Topic size: 1010<br>Unknown: 165575",
          "use-lexrank-top5<br>Topic size: 674<br>Unknown: 166743",
          "use-lexrank-top5<br>Topic size: 546<br>Unknown: 160540",
          "use-lexrank-top5<br>Topic size: 352<br>Unknown: 151167",
          "use-lexrank-top5<br>Topic size: 312<br>Unknown: 147368",
          "use-lexrank-top5<br>Topic size: 273<br>Unknown: 147209",
          "use-lexrank-top5<br>Topic size: 289<br>Unknown: 140051",
          "use-lexrank-top5<br>Topic size: 228<br>Unknown: 151085",
          "use-lexrank-top5<br>Topic size: 177<br>Unknown: 139598",
          "use-lexrank-top5<br>Topic size: 145<br>Unknown: 138498"
         ],
         "type": "scatter",
         "x": [
          "20: 10, 10",
          "20: 20, 10",
          "20: 20, 20",
          "20: 50, 10",
          "20: 50, 25",
          "20: 50, 50",
          "20: 100, 1",
          "20: 100, 10",
          "20: 100, 50",
          "20: 100, 100"
         ],
         "y": [
          0.5222003327204273,
          0.5266845635251599,
          0.5125517955801105,
          0.4794438171380117,
          0.4709886645018121,
          0.4581929829791039,
          0.4471903422597228,
          0.4780168661124294,
          0.4526440259888873,
          0.4506072499410437
         ]
        },
        {
         "legendgroup": "use-lexrank-weighted",
         "line": {
          "color": "#691fff"
         },
         "name": "use-lexrank-weighted",
         "showlegend": true,
         "text": [
          "use-lexrank-weighted<br>Topic size: 1023<br>Unknown: 165425",
          "use-lexrank-weighted<br>Topic size: 642<br>Unknown: 163991",
          "use-lexrank-weighted<br>Topic size: 519<br>Unknown: 160937",
          "use-lexrank-weighted<br>Topic size: 316<br>Unknown: 152270",
          "use-lexrank-weighted<br>Topic size: 265<br>Unknown: 144103",
          "use-lexrank-weighted<br>Topic size: 243<br>Unknown: 153640",
          "use-lexrank-weighted<br>Topic size: 248<br>Unknown: 140402",
          "use-lexrank-weighted<br>Topic size: 197<br>Unknown: 147651",
          "use-lexrank-weighted<br>Topic size: 161<br>Unknown: 146824",
          "use-lexrank-weighted<br>Topic size: 146<br>Unknown: 147573"
         ],
         "type": "scatter",
         "x": [
          "15: 10, 10",
          "15: 20, 10",
          "15: 20, 20",
          "15: 50, 10",
          "15: 50, 25",
          "15: 50, 50",
          "15: 100, 1",
          "15: 100, 10",
          "15: 100, 50",
          "15: 100, 100"
         ],
         "y": [
          0.5459941531601281,
          0.5426014078087811,
          0.5366624552448991,
          0.5112031173891866,
          0.4892251356502663,
          0.5160248147624552,
          0.4743344742142308,
          0.498007801557803,
          0.4938873176355448,
          0.4967597239260002
         ]
        },
        {
         "legendgroup": "use-lexrank-weighted",
         "line": {
          "color": "#691fff"
         },
         "name": "use-lexrank-weighted",
         "showlegend": false,
         "text": [
          "use-lexrank-weighted<br>Topic size: 958<br>Unknown: 170818",
          "use-lexrank-weighted<br>Topic size: 567<br>Unknown: 159346",
          "use-lexrank-weighted<br>Topic size: 477<br>Unknown: 163184",
          "use-lexrank-weighted<br>Topic size: 301<br>Unknown: 152277",
          "use-lexrank-weighted<br>Topic size: 251<br>Unknown: 147466",
          "use-lexrank-weighted<br>Topic size: 237<br>Unknown: 154875",
          "use-lexrank-weighted<br>Topic size: 238<br>Unknown: 139242",
          "use-lexrank-weighted<br>Topic size: 186<br>Unknown: 148863",
          "use-lexrank-weighted<br>Topic size: 158<br>Unknown: 153003",
          "use-lexrank-weighted<br>Topic size: 137<br>Unknown: 149190"
         ],
         "type": "scatter",
         "x": [
          "20: 10, 10",
          "20: 20, 10",
          "20: 20, 20",
          "20: 50, 10",
          "20: 50, 25",
          "20: 50, 50",
          "20: 100, 1",
          "20: 100, 10",
          "20: 100, 50",
          "20: 100, 100"
         ],
         "y": [
          0.5628568187833188,
          0.5290175759764199,
          0.5421593218782736,
          0.5102574164836725,
          0.4954560613640153,
          0.5122093504344228,
          0.4716944105526309,
          0.501925902559292,
          0.5173030878977118,
          0.5051285935983687
         ]
        },
        {
         "legendgroup": "use-mean",
         "line": {
          "color": "#b11eff"
         },
         "name": "use-mean",
         "showlegend": true,
         "text": [
          "use-mean<br>Topic size: 958<br>Unknown: 175245",
          "use-mean<br>Topic size: 555<br>Unknown: 165079",
          "use-mean<br>Topic size: 442<br>Unknown: 159221",
          "use-mean<br>Topic size: 282<br>Unknown: 150523",
          "use-mean<br>Topic size: 263<br>Unknown: 153819",
          "use-mean<br>Topic size: 217<br>Unknown: 152398",
          "use-mean<br>Topic size: 208<br>Unknown: 132104",
          "use-mean<br>Topic size: 174<br>Unknown: 141971",
          "use-mean<br>Topic size: 143<br>Unknown: 143597",
          "use-mean<br>Topic size: 117<br>Unknown: 131022"
         ],
         "type": "scatter",
         "x": [
          "15: 10, 10",
          "15: 20, 10",
          "15: 20, 20",
          "15: 50, 10",
          "15: 50, 25",
          "15: 50, 50",
          "15: 100, 1",
          "15: 100, 10",
          "15: 100, 50",
          "15: 100, 100"
         ],
         "y": [
          0.6073749606344299,
          0.594853201201543,
          0.5842445629739945,
          0.5591475124953815,
          0.5817192451858882,
          0.5714170931792799,
          0.546442247383884,
          0.5622920279562711,
          0.5631325474986578,
          0.532751753312255
         ]
        },
        {
         "legendgroup": "use-mean",
         "line": {
          "color": "#b11eff"
         },
         "name": "use-mean",
         "showlegend": false,
         "text": [
          "use-mean<br>Topic size: 784<br>Unknown: 164685",
          "use-mean<br>Topic size: 478<br>Unknown: 164395",
          "use-mean<br>Topic size: 376<br>Unknown: 153545",
          "use-mean<br>Topic size: 235<br>Unknown: 144317",
          "use-mean<br>Topic size: 199<br>Unknown: 141705",
          "use-mean<br>Topic size: 182<br>Unknown: 145783",
          "use-mean<br>Topic size: 203<br>Unknown: 140046",
          "use-mean<br>Topic size: 160<br>Unknown: 147992",
          "use-mean<br>Topic size: 125<br>Unknown: 137174",
          "use-mean<br>Topic size: 111<br>Unknown: 135007"
         ],
         "type": "scatter",
         "x": [
          "20: 10, 10",
          "20: 20, 10",
          "20: 20, 20",
          "20: 50, 10",
          "20: 50, 25",
          "20: 50, 50",
          "20: 100, 1",
          "20: 100, 10",
          "20: 100, 50",
          "20: 100, 100"
         ],
         "y": [
          0.5960570232505515,
          0.5946765049359718,
          0.5822154434930205,
          0.5649683340209984,
          0.5664410999569083,
          0.572839043973857,
          0.5538524439356461,
          0.5691354290217556,
          0.5613033829413215,
          0.552814428285153
         ]
        },
        {
         "legendgroup": "use-tf-idf-top5",
         "line": {
          "color": "#fc5eff"
         },
         "name": "use-tf-idf-top5",
         "showlegend": true,
         "text": [
          "use-tf-idf-top5<br>Topic size: 739<br>Unknown: 173283",
          "use-tf-idf-top5<br>Topic size: 416<br>Unknown: 160302",
          "use-tf-idf-top5<br>Topic size: 312<br>Unknown: 148997",
          "use-tf-idf-top5<br>Topic size: 222<br>Unknown: 150589",
          "use-tf-idf-top5<br>Topic size: 188<br>Unknown: 148560",
          "use-tf-idf-top5<br>Topic size: 156<br>Unknown: 146495",
          "use-tf-idf-top5<br>Topic size: 186<br>Unknown: 143857",
          "use-tf-idf-top5<br>Topic size: 130<br>Unknown: 142614",
          "use-tf-idf-top5<br>Topic size: 119<br>Unknown: 147638",
          "use-tf-idf-top5<br>Topic size: 105<br>Unknown: 148130"
         ],
         "type": "scatter",
         "x": [
          "15: 10, 10",
          "15: 20, 10",
          "15: 20, 20",
          "15: 50, 10",
          "15: 50, 25",
          "15: 50, 50",
          "15: 100, 1",
          "15: 100, 10",
          "15: 100, 50",
          "15: 100, 100"
         ],
         "y": [
          0.5639598924417663,
          0.5370900446341936,
          0.4977724593504152,
          0.51220732278001,
          0.501649765644538,
          0.513590268587312,
          0.4977050316099419,
          0.4907365330866829,
          0.5164122642152128,
          0.5101517563578474
         ]
        },
        {
         "legendgroup": "use-tf-idf-top5",
         "line": {
          "color": "#fc5eff"
         },
         "name": "use-tf-idf-top5",
         "showlegend": false,
         "text": [
          "use-tf-idf-top5<br>Topic size: 666<br>Unknown: 184270",
          "use-tf-idf-top5<br>Topic size: 390<br>Unknown: 173755",
          "use-tf-idf-top5<br>Topic size: 309<br>Unknown: 170156",
          "use-tf-idf-top5<br>Topic size: 216<br>Unknown: 161310",
          "use-tf-idf-top5<br>Topic size: 170<br>Unknown: 152722",
          "use-tf-idf-top5<br>Topic size: 147<br>Unknown: 152042",
          "use-tf-idf-top5<br>Topic size: 149<br>Unknown: 132123",
          "use-tf-idf-top5<br>Topic size: 126<br>Unknown: 159325",
          "use-tf-idf-top5<br>Topic size: 103<br>Unknown: 144677",
          "use-tf-idf-top5<br>Topic size: 98<br>Unknown: 149071"
         ],
         "type": "scatter",
         "x": [
          "20: 10, 10",
          "20: 20, 10",
          "20: 20, 20",
          "20: 50, 10",
          "20: 50, 25",
          "20: 50, 50",
          "20: 100, 1",
          "20: 100, 10",
          "20: 100, 50",
          "20: 100, 100"
         ],
         "y": [
          0.601683971695115,
          0.5795675271351186,
          0.5724443767876743,
          0.5491322979545445,
          0.5200323625891673,
          0.5118993536251982,
          0.4686362226322062,
          0.5442103626075201,
          0.5054327284590626,
          0.5071767678169855
         ]
        },
        {
         "legendgroup": "use-tf-idf-weighted",
         "line": {
          "color": "#ff91ff"
         },
         "name": "use-tf-idf-weighted",
         "showlegend": true,
         "text": [
          "use-tf-idf-weighted<br>Topic size: 885<br>Unknown: 171557",
          "use-tf-idf-weighted<br>Topic size: 553<br>Unknown: 164910",
          "use-tf-idf-weighted<br>Topic size: 384<br>Unknown: 115783",
          "use-tf-idf-weighted<br>Topic size: 302<br>Unknown: 158141",
          "use-tf-idf-weighted<br>Topic size: 262<br>Unknown: 153966",
          "use-tf-idf-weighted<br>Topic size: 189<br>Unknown: 102069",
          "use-tf-idf-weighted<br>Topic size: 237<br>Unknown: 136939",
          "use-tf-idf-weighted<br>Topic size: 185<br>Unknown: 150470",
          "use-tf-idf-weighted<br>Topic size: 135<br>Unknown: 100334",
          "use-tf-idf-weighted<br>Topic size: 151<br>Unknown: 151837"
         ],
         "type": "scatter",
         "x": [
          "15: 10, 10",
          "15: 20, 10",
          "15: 20, 20",
          "15: 50, 10",
          "15: 50, 25",
          "15: 50, 50",
          "15: 100, 1",
          "15: 100, 10",
          "15: 100, 50",
          "15: 100, 100"
         ],
         "y": [
          0.5789938658487799,
          0.5636775588259749,
          0.4333246194373504,
          0.5460152686933792,
          0.5371147500155656,
          0.4168787977496008,
          0.4884067848921696,
          0.5245086676490555,
          0.4176568960469695,
          0.5287956610458981
         ]
        },
        {
         "legendgroup": "use-tf-idf-weighted",
         "line": {
          "color": "#ff91ff"
         },
         "name": "use-tf-idf-weighted",
         "showlegend": false,
         "text": [
          "use-tf-idf-weighted<br>Topic size: 765<br>Unknown: 173416",
          "use-tf-idf-weighted<br>Topic size: 492<br>Unknown: 173609",
          "use-tf-idf-weighted<br>Topic size: 404<br>Unknown: 165925",
          "use-tf-idf-weighted<br>Topic size: 270<br>Unknown: 160523",
          "use-tf-idf-weighted<br>Topic size: 220<br>Unknown: 117088",
          "use-tf-idf-weighted<br>Topic size: 185<br>Unknown: 112144",
          "use-tf-idf-weighted<br>Topic size: 236<br>Unknown: 158101",
          "use-tf-idf-weighted<br>Topic size: 167<br>Unknown: 147824",
          "use-tf-idf-weighted<br>Topic size: 129<br>Unknown: 109917",
          "use-tf-idf-weighted<br>Topic size: 148<br>Unknown: 160908"
         ],
         "type": "scatter",
         "x": [
          "20: 10, 10",
          "20: 20, 10",
          "20: 20, 20",
          "20: 50, 10",
          "20: 50, 25",
          "20: 50, 50",
          "20: 100, 1",
          "20: 100, 10",
          "20: 100, 50",
          "20: 100, 100"
         ],
         "y": [
          0.5949383192297906,
          0.5791991765311374,
          0.5608116483353028,
          0.5459308273654335,
          0.4312197041802709,
          0.4353756912886694,
          0.540570276739596,
          0.528623774821923,
          0.4337440841158261,
          0.552378288086666
         ]
        }
       ],
       "layout": {
        "height": 1200,
        "template": {
         "data": {
          "bar": [
           {
            "error_x": {
             "color": "#2a3f5f"
            },
            "error_y": {
             "color": "#2a3f5f"
            },
            "marker": {
             "line": {
              "color": "#E5ECF6",
              "width": 0.5
             }
            },
            "type": "bar"
           }
          ],
          "barpolar": [
           {
            "marker": {
             "line": {
              "color": "#E5ECF6",
              "width": 0.5
             }
            },
            "type": "barpolar"
           }
          ],
          "carpet": [
           {
            "aaxis": {
             "endlinecolor": "#2a3f5f",
             "gridcolor": "white",
             "linecolor": "white",
             "minorgridcolor": "white",
             "startlinecolor": "#2a3f5f"
            },
            "baxis": {
             "endlinecolor": "#2a3f5f",
             "gridcolor": "white",
             "linecolor": "white",
             "minorgridcolor": "white",
             "startlinecolor": "#2a3f5f"
            },
            "type": "carpet"
           }
          ],
          "choropleth": [
           {
            "colorbar": {
             "outlinewidth": 0,
             "ticks": ""
            },
            "type": "choropleth"
           }
          ],
          "contour": [
           {
            "colorbar": {
             "outlinewidth": 0,
             "ticks": ""
            },
            "colorscale": [
             [
              0,
              "#0d0887"
             ],
             [
              0.1111111111111111,
              "#46039f"
             ],
             [
              0.2222222222222222,
              "#7201a8"
             ],
             [
              0.3333333333333333,
              "#9c179e"
             ],
             [
              0.4444444444444444,
              "#bd3786"
             ],
             [
              0.5555555555555556,
              "#d8576b"
             ],
             [
              0.6666666666666666,
              "#ed7953"
             ],
             [
              0.7777777777777778,
              "#fb9f3a"
             ],
             [
              0.8888888888888888,
              "#fdca26"
             ],
             [
              1,
              "#f0f921"
             ]
            ],
            "type": "contour"
           }
          ],
          "contourcarpet": [
           {
            "colorbar": {
             "outlinewidth": 0,
             "ticks": ""
            },
            "type": "contourcarpet"
           }
          ],
          "heatmap": [
           {
            "colorbar": {
             "outlinewidth": 0,
             "ticks": ""
            },
            "colorscale": [
             [
              0,
              "#0d0887"
             ],
             [
              0.1111111111111111,
              "#46039f"
             ],
             [
              0.2222222222222222,
              "#7201a8"
             ],
             [
              0.3333333333333333,
              "#9c179e"
             ],
             [
              0.4444444444444444,
              "#bd3786"
             ],
             [
              0.5555555555555556,
              "#d8576b"
             ],
             [
              0.6666666666666666,
              "#ed7953"
             ],
             [
              0.7777777777777778,
              "#fb9f3a"
             ],
             [
              0.8888888888888888,
              "#fdca26"
             ],
             [
              1,
              "#f0f921"
             ]
            ],
            "type": "heatmap"
           }
          ],
          "heatmapgl": [
           {
            "colorbar": {
             "outlinewidth": 0,
             "ticks": ""
            },
            "colorscale": [
             [
              0,
              "#0d0887"
             ],
             [
              0.1111111111111111,
              "#46039f"
             ],
             [
              0.2222222222222222,
              "#7201a8"
             ],
             [
              0.3333333333333333,
              "#9c179e"
             ],
             [
              0.4444444444444444,
              "#bd3786"
             ],
             [
              0.5555555555555556,
              "#d8576b"
             ],
             [
              0.6666666666666666,
              "#ed7953"
             ],
             [
              0.7777777777777778,
              "#fb9f3a"
             ],
             [
              0.8888888888888888,
              "#fdca26"
             ],
             [
              1,
              "#f0f921"
             ]
            ],
            "type": "heatmapgl"
           }
          ],
          "histogram": [
           {
            "marker": {
             "colorbar": {
              "outlinewidth": 0,
              "ticks": ""
             }
            },
            "type": "histogram"
           }
          ],
          "histogram2d": [
           {
            "colorbar": {
             "outlinewidth": 0,
             "ticks": ""
            },
            "colorscale": [
             [
              0,
              "#0d0887"
             ],
             [
              0.1111111111111111,
              "#46039f"
             ],
             [
              0.2222222222222222,
              "#7201a8"
             ],
             [
              0.3333333333333333,
              "#9c179e"
             ],
             [
              0.4444444444444444,
              "#bd3786"
             ],
             [
              0.5555555555555556,
              "#d8576b"
             ],
             [
              0.6666666666666666,
              "#ed7953"
             ],
             [
              0.7777777777777778,
              "#fb9f3a"
             ],
             [
              0.8888888888888888,
              "#fdca26"
             ],
             [
              1,
              "#f0f921"
             ]
            ],
            "type": "histogram2d"
           }
          ],
          "histogram2dcontour": [
           {
            "colorbar": {
             "outlinewidth": 0,
             "ticks": ""
            },
            "colorscale": [
             [
              0,
              "#0d0887"
             ],
             [
              0.1111111111111111,
              "#46039f"
             ],
             [
              0.2222222222222222,
              "#7201a8"
             ],
             [
              0.3333333333333333,
              "#9c179e"
             ],
             [
              0.4444444444444444,
              "#bd3786"
             ],
             [
              0.5555555555555556,
              "#d8576b"
             ],
             [
              0.6666666666666666,
              "#ed7953"
             ],
             [
              0.7777777777777778,
              "#fb9f3a"
             ],
             [
              0.8888888888888888,
              "#fdca26"
             ],
             [
              1,
              "#f0f921"
             ]
            ],
            "type": "histogram2dcontour"
           }
          ],
          "mesh3d": [
           {
            "colorbar": {
             "outlinewidth": 0,
             "ticks": ""
            },
            "type": "mesh3d"
           }
          ],
          "parcoords": [
           {
            "line": {
             "colorbar": {
              "outlinewidth": 0,
              "ticks": ""
             }
            },
            "type": "parcoords"
           }
          ],
          "pie": [
           {
            "automargin": true,
            "type": "pie"
           }
          ],
          "scatter": [
           {
            "marker": {
             "colorbar": {
              "outlinewidth": 0,
              "ticks": ""
             }
            },
            "type": "scatter"
           }
          ],
          "scatter3d": [
           {
            "line": {
             "colorbar": {
              "outlinewidth": 0,
              "ticks": ""
             }
            },
            "marker": {
             "colorbar": {
              "outlinewidth": 0,
              "ticks": ""
             }
            },
            "type": "scatter3d"
           }
          ],
          "scattercarpet": [
           {
            "marker": {
             "colorbar": {
              "outlinewidth": 0,
              "ticks": ""
             }
            },
            "type": "scattercarpet"
           }
          ],
          "scattergeo": [
           {
            "marker": {
             "colorbar": {
              "outlinewidth": 0,
              "ticks": ""
             }
            },
            "type": "scattergeo"
           }
          ],
          "scattergl": [
           {
            "marker": {
             "colorbar": {
              "outlinewidth": 0,
              "ticks": ""
             }
            },
            "type": "scattergl"
           }
          ],
          "scattermapbox": [
           {
            "marker": {
             "colorbar": {
              "outlinewidth": 0,
              "ticks": ""
             }
            },
            "type": "scattermapbox"
           }
          ],
          "scatterpolar": [
           {
            "marker": {
             "colorbar": {
              "outlinewidth": 0,
              "ticks": ""
             }
            },
            "type": "scatterpolar"
           }
          ],
          "scatterpolargl": [
           {
            "marker": {
             "colorbar": {
              "outlinewidth": 0,
              "ticks": ""
             }
            },
            "type": "scatterpolargl"
           }
          ],
          "scatterternary": [
           {
            "marker": {
             "colorbar": {
              "outlinewidth": 0,
              "ticks": ""
             }
            },
            "type": "scatterternary"
           }
          ],
          "surface": [
           {
            "colorbar": {
             "outlinewidth": 0,
             "ticks": ""
            },
            "colorscale": [
             [
              0,
              "#0d0887"
             ],
             [
              0.1111111111111111,
              "#46039f"
             ],
             [
              0.2222222222222222,
              "#7201a8"
             ],
             [
              0.3333333333333333,
              "#9c179e"
             ],
             [
              0.4444444444444444,
              "#bd3786"
             ],
             [
              0.5555555555555556,
              "#d8576b"
             ],
             [
              0.6666666666666666,
              "#ed7953"
             ],
             [
              0.7777777777777778,
              "#fb9f3a"
             ],
             [
              0.8888888888888888,
              "#fdca26"
             ],
             [
              1,
              "#f0f921"
             ]
            ],
            "type": "surface"
           }
          ],
          "table": [
           {
            "cells": {
             "fill": {
              "color": "#EBF0F8"
             },
             "line": {
              "color": "white"
             }
            },
            "header": {
             "fill": {
              "color": "#C8D4E3"
             },
             "line": {
              "color": "white"
             }
            },
            "type": "table"
           }
          ]
         },
         "layout": {
          "annotationdefaults": {
           "arrowcolor": "#2a3f5f",
           "arrowhead": 0,
           "arrowwidth": 1
          },
          "autotypenumbers": "strict",
          "coloraxis": {
           "colorbar": {
            "outlinewidth": 0,
            "ticks": ""
           }
          },
          "colorscale": {
           "diverging": [
            [
             0,
             "#8e0152"
            ],
            [
             0.1,
             "#c51b7d"
            ],
            [
             0.2,
             "#de77ae"
            ],
            [
             0.3,
             "#f1b6da"
            ],
            [
             0.4,
             "#fde0ef"
            ],
            [
             0.5,
             "#f7f7f7"
            ],
            [
             0.6,
             "#e6f5d0"
            ],
            [
             0.7,
             "#b8e186"
            ],
            [
             0.8,
             "#7fbc41"
            ],
            [
             0.9,
             "#4d9221"
            ],
            [
             1,
             "#276419"
            ]
           ],
           "sequential": [
            [
             0,
             "#0d0887"
            ],
            [
             0.1111111111111111,
             "#46039f"
            ],
            [
             0.2222222222222222,
             "#7201a8"
            ],
            [
             0.3333333333333333,
             "#9c179e"
            ],
            [
             0.4444444444444444,
             "#bd3786"
            ],
            [
             0.5555555555555556,
             "#d8576b"
            ],
            [
             0.6666666666666666,
             "#ed7953"
            ],
            [
             0.7777777777777778,
             "#fb9f3a"
            ],
            [
             0.8888888888888888,
             "#fdca26"
            ],
            [
             1,
             "#f0f921"
            ]
           ],
           "sequentialminus": [
            [
             0,
             "#0d0887"
            ],
            [
             0.1111111111111111,
             "#46039f"
            ],
            [
             0.2222222222222222,
             "#7201a8"
            ],
            [
             0.3333333333333333,
             "#9c179e"
            ],
            [
             0.4444444444444444,
             "#bd3786"
            ],
            [
             0.5555555555555556,
             "#d8576b"
            ],
            [
             0.6666666666666666,
             "#ed7953"
            ],
            [
             0.7777777777777778,
             "#fb9f3a"
            ],
            [
             0.8888888888888888,
             "#fdca26"
            ],
            [
             1,
             "#f0f921"
            ]
           ]
          },
          "colorway": [
           "#636efa",
           "#EF553B",
           "#00cc96",
           "#ab63fa",
           "#FFA15A",
           "#19d3f3",
           "#FF6692",
           "#B6E880",
           "#FF97FF",
           "#FECB52"
          ],
          "font": {
           "color": "#2a3f5f"
          },
          "geo": {
           "bgcolor": "white",
           "lakecolor": "white",
           "landcolor": "#E5ECF6",
           "showlakes": true,
           "showland": true,
           "subunitcolor": "white"
          },
          "hoverlabel": {
           "align": "left"
          },
          "hovermode": "closest",
          "mapbox": {
           "style": "light"
          },
          "paper_bgcolor": "white",
          "plot_bgcolor": "#E5ECF6",
          "polar": {
           "angularaxis": {
            "gridcolor": "white",
            "linecolor": "white",
            "ticks": ""
           },
           "bgcolor": "#E5ECF6",
           "radialaxis": {
            "gridcolor": "white",
            "linecolor": "white",
            "ticks": ""
           }
          },
          "scene": {
           "xaxis": {
            "backgroundcolor": "#E5ECF6",
            "gridcolor": "white",
            "gridwidth": 2,
            "linecolor": "white",
            "showbackground": true,
            "ticks": "",
            "zerolinecolor": "white"
           },
           "yaxis": {
            "backgroundcolor": "#E5ECF6",
            "gridcolor": "white",
            "gridwidth": 2,
            "linecolor": "white",
            "showbackground": true,
            "ticks": "",
            "zerolinecolor": "white"
           },
           "zaxis": {
            "backgroundcolor": "#E5ECF6",
            "gridcolor": "white",
            "gridwidth": 2,
            "linecolor": "white",
            "showbackground": true,
            "ticks": "",
            "zerolinecolor": "white"
           }
          },
          "shapedefaults": {
           "line": {
            "color": "#2a3f5f"
           }
          },
          "ternary": {
           "aaxis": {
            "gridcolor": "white",
            "linecolor": "white",
            "ticks": ""
           },
           "baxis": {
            "gridcolor": "white",
            "linecolor": "white",
            "ticks": ""
           },
           "bgcolor": "#E5ECF6",
           "caxis": {
            "gridcolor": "white",
            "linecolor": "white",
            "ticks": ""
           }
          },
          "title": {
           "x": 0.05
          },
          "xaxis": {
           "automargin": true,
           "gridcolor": "white",
           "linecolor": "white",
           "ticks": "",
           "title": {
            "standoff": 15
           },
           "zerolinecolor": "white",
           "zerolinewidth": 2
          },
          "yaxis": {
           "automargin": true,
           "gridcolor": "white",
           "linecolor": "white",
           "ticks": "",
           "title": {
            "standoff": 15
           },
           "zerolinecolor": "white",
           "zerolinewidth": 2
          }
         }
        },
        "width": 2000,
        "xaxis": {
         "categoryarray": [
          "5: 10, 10",
          "5: 20, 10",
          "5: 20, 20",
          "5: 50, 10",
          "5: 50, 25",
          "5: 50, 50",
          "5: 100, 1",
          "5: 100, 10",
          "5: 100, 50",
          "5: 100, 100",
          "10: 10, 10",
          "10: 20, 10",
          "10: 20, 20",
          "10: 50, 10",
          "10: 50, 25",
          "10: 50, 50",
          "10: 100, 1",
          "10: 100, 10",
          "10: 100, 50",
          "10: 100, 100",
          "15: 10, 10",
          "15: 20, 10",
          "15: 20, 20",
          "15: 50, 10",
          "15: 50, 25",
          "15: 50, 50",
          "15: 100, 1",
          "15: 100, 10",
          "15: 100, 50",
          "15: 100, 100",
          "20: 10, 10",
          "20: 20, 10",
          "20: 20, 20",
          "20: 50, 10",
          "20: 50, 25",
          "20: 50, 50",
          "20: 100, 1",
          "20: 100, 10",
          "20: 100, 50",
          "20: 100, 100"
         ],
         "categoryorder": "array"
        }
       }
      }
     },
     "metadata": {}
    }
   ],
   "source": [
    "plot_score('c_cu')"
   ]
  },
  {
   "cell_type": "code",
   "execution_count": 432,
   "metadata": {},
   "outputs": [
    {
     "output_type": "display_data",
     "data": {
      "application/vnd.plotly.v1+json": {
       "config": {
        "plotlyServerURL": "https://plot.ly"
       },
       "data": [
        {
         "legendgroup": "sbert-default",
         "line": {
          "color": "#660100"
         },
         "name": "sbert-default",
         "showlegend": true,
         "text": [
          "sbert-default<br>Topic size: 1896<br>Unknown: 185945",
          "sbert-default<br>Topic size: 971<br>Unknown: 188090",
          "sbert-default<br>Topic size: 652<br>Unknown: 188320",
          "sbert-default<br>Topic size: 374<br>Unknown: 182550",
          "sbert-default<br>Topic size: 282<br>Unknown: 177045",
          "sbert-default<br>Topic size: 222<br>Unknown: 182990",
          "sbert-default<br>Topic size: 300<br>Unknown: 170080",
          "sbert-default<br>Topic size: 197<br>Unknown: 181430",
          "sbert-default<br>Topic size: 154<br>Unknown: 179670",
          "sbert-default<br>Topic size: 119<br>Unknown: 172450"
         ],
         "type": "scatter",
         "x": [
          "5: 10, 10",
          "5: 20, 10",
          "5: 20, 20",
          "5: 50, 10",
          "5: 50, 25",
          "5: 50, 50",
          "5: 100, 1",
          "5: 100, 10",
          "5: 100, 50",
          "5: 100, 100"
         ],
         "y": [
          null,
          -1.4925285138127469,
          -1.3148604954535683,
          -1.003617998548984,
          -0.9255211582640142,
          -0.8570882249297397,
          -0.8314971310135619,
          -0.797834564021845,
          -0.7364120693347128,
          -0.6350959135378766
         ]
        },
        {
         "legendgroup": "sbert-default",
         "line": {
          "color": "#660100"
         },
         "name": "sbert-default",
         "showlegend": false,
         "text": [
          "sbert-default<br>Topic size: 922<br>Unknown: 193660",
          "sbert-default<br>Topic size: 503<br>Unknown: 187830",
          "sbert-default<br>Topic size: 351<br>Unknown: 181750",
          "sbert-default<br>Topic size: 248<br>Unknown: 183780",
          "sbert-default<br>Topic size: 204<br>Unknown: 182645",
          "sbert-default<br>Topic size: 177<br>Unknown: 181135",
          "sbert-default<br>Topic size: 210<br>Unknown: 169805",
          "sbert-default<br>Topic size: 154<br>Unknown: 182080",
          "sbert-default<br>Topic size: 118<br>Unknown: 175780"
         ],
         "type": "scatter",
         "x": [
          "10: 10, 10",
          "10: 20, 10",
          "10: 20, 20",
          "10: 50, 10",
          "10: 50, 25",
          "10: 50, 50",
          "10: 100, 1",
          "10: 100, 10",
          "10: 100, 50"
         ],
         "y": [
          -1.4389081835643054,
          -1.1866589838452146,
          -1.0371084241998365,
          -0.9048858031008,
          -0.8760492682215889,
          -0.8194754927897097,
          -0.7863876773738102,
          -0.7648454743228086,
          -0.6815949380533259
         ]
        },
        {
         "legendgroup": "sbert-default",
         "line": {
          "color": "#660100"
         },
         "name": "sbert-default",
         "showlegend": false,
         "text": [
          "sbert-default<br>Topic size: 738<br>Unknown: 205200",
          "sbert-default<br>Topic size: 425<br>Unknown: 203275",
          "sbert-default<br>Topic size: 312<br>Unknown: 198540",
          "sbert-default<br>Topic size: 211<br>Unknown: 191905",
          "sbert-default<br>Topic size: 146<br>Unknown: 180010",
          "sbert-default<br>Topic size: 172<br>Unknown: 164975",
          "sbert-default<br>Topic size: 129<br>Unknown: 185330"
         ],
         "type": "scatter",
         "x": [
          "15: 10, 10",
          "15: 20, 10",
          "15: 20, 20",
          "15: 50, 10",
          "15: 50, 50",
          "15: 100, 1",
          "15: 100, 10"
         ],
         "y": [
          -1.357117223966088,
          -1.1428140012701098,
          -1.009897270182187,
          -0.8800747802285152,
          -0.7770904866967818,
          -0.7286518246971623,
          -0.7136802409030123
         ]
        },
        {
         "legendgroup": "sbert-lexrank-top1",
         "line": {
          "color": "#900300"
         },
         "name": "sbert-lexrank-top1",
         "showlegend": true,
         "text": [
          "sbert-lexrank-top1<br>Topic size: 995<br>Unknown: 172310",
          "sbert-lexrank-top1<br>Topic size: 568<br>Unknown: 146070",
          "sbert-lexrank-top1<br>Topic size: 444<br>Unknown: 136840",
          "sbert-lexrank-top1<br>Topic size: 292<br>Unknown: 139400",
          "sbert-lexrank-top1<br>Topic size: 251<br>Unknown: 132910",
          "sbert-lexrank-top1<br>Topic size: 214<br>Unknown: 134730",
          "sbert-lexrank-top1<br>Topic size: 285<br>Unknown: 146610",
          "sbert-lexrank-top1<br>Topic size: 182<br>Unknown: 135615",
          "sbert-lexrank-top1<br>Topic size: 141<br>Unknown: 119045",
          "sbert-lexrank-top1<br>Topic size: 127<br>Unknown: 117995"
         ],
         "type": "scatter",
         "x": [
          "15: 10, 10",
          "15: 20, 10",
          "15: 20, 20",
          "15: 50, 10",
          "15: 50, 25",
          "15: 50, 50",
          "15: 100, 1",
          "15: 100, 10",
          "15: 100, 50",
          "15: 100, 100"
         ],
         "y": [
          -1.556736119578779,
          -1.2757136833081275,
          -1.1616732338484517,
          -0.9826734163635032,
          -0.9219342542032328,
          -0.8682803848299482,
          -0.9049335107021838,
          -0.7845742721310286,
          -0.6744158141894078,
          -0.6445480039237159
         ]
        },
        {
         "legendgroup": "sbert-lexrank-top1",
         "line": {
          "color": "#900300"
         },
         "name": "sbert-lexrank-top1",
         "showlegend": false,
         "text": [
          "sbert-lexrank-top1<br>Topic size: 905<br>Unknown: 174548",
          "sbert-lexrank-top1<br>Topic size: 582<br>Unknown: 170249",
          "sbert-lexrank-top1<br>Topic size: 390<br>Unknown: 141916",
          "sbert-lexrank-top1<br>Topic size: 313<br>Unknown: 166167",
          "sbert-lexrank-top1<br>Topic size: 218<br>Unknown: 130313",
          "sbert-lexrank-top1<br>Topic size: 175<br>Unknown: 119157",
          "sbert-lexrank-top1<br>Topic size: 265<br>Unknown: 151123",
          "sbert-lexrank-top1<br>Topic size: 210<br>Unknown: 158513",
          "sbert-lexrank-top1<br>Topic size: 132<br>Unknown: 126116",
          "sbert-lexrank-top1<br>Topic size: 122<br>Unknown: 125570"
         ],
         "type": "scatter",
         "x": [
          "20: 10, 10",
          "20: 20, 10",
          "20: 20, 20",
          "20: 50, 10",
          "20: 50, 25",
          "20: 50, 50",
          "20: 100, 1",
          "20: 100, 10",
          "20: 100, 50",
          "20: 100, 100"
         ],
         "y": [
          -1.5138585435718233,
          -1.3243798864334135,
          -1.1416691562515282,
          -1.0240783169603218,
          -0.9005153066278894,
          -0.8052243900350706,
          -0.9098694935741324,
          -0.8336795252797319,
          -0.6871379757821338,
          -0.6850333859123444
         ]
        },
        {
         "legendgroup": "sbert-lexrank-top5",
         "line": {
          "color": "#bb0600"
         },
         "name": "sbert-lexrank-top5",
         "showlegend": true,
         "text": [
          "sbert-lexrank-top5<br>Topic size: 2140<br>Unknown: 161096",
          "sbert-lexrank-top5<br>Topic size: 1131<br>Unknown: 153871",
          "sbert-lexrank-top5<br>Topic size: 836<br>Unknown: 150101",
          "sbert-lexrank-top5<br>Topic size: 498<br>Unknown: 142758",
          "sbert-lexrank-top5<br>Topic size: 433<br>Unknown: 148144",
          "sbert-lexrank-top5<br>Topic size: 333<br>Unknown: 135451",
          "sbert-lexrank-top5<br>Topic size: 369<br>Unknown: 124453",
          "sbert-lexrank-top5<br>Topic size: 297<br>Unknown: 134392",
          "sbert-lexrank-top5<br>Topic size: 203<br>Unknown: 111536",
          "sbert-lexrank-top5<br>Topic size: 199<br>Unknown: 131812"
         ],
         "type": "scatter",
         "x": [
          "5: 10, 10",
          "5: 20, 10",
          "5: 20, 20",
          "5: 50, 10",
          "5: 50, 25",
          "5: 50, 50",
          "5: 100, 1",
          "5: 100, 10",
          "5: 100, 50",
          "5: 100, 100"
         ],
         "y": [
          null,
          null,
          -1.4139348092227837,
          -1.1902554367498166,
          -1.161214522639346,
          -1.082330671649324,
          -1.0398555768271074,
          -1.0360749495135984,
          -0.8896690394662133,
          -0.9350132657145696
         ]
        },
        {
         "legendgroup": "sbert-lexrank-top5",
         "line": {
          "color": "#bb0600"
         },
         "name": "sbert-lexrank-top5",
         "showlegend": false,
         "text": [
          "sbert-lexrank-top5<br>Topic size: 1333<br>Unknown: 169948",
          "sbert-lexrank-top5<br>Topic size: 788<br>Unknown: 163483",
          "sbert-lexrank-top5<br>Topic size: 606<br>Unknown: 151789",
          "sbert-lexrank-top5<br>Topic size: 387<br>Unknown: 148930",
          "sbert-lexrank-top5<br>Topic size: 358<br>Unknown: 157413",
          "sbert-lexrank-top5<br>Topic size: 297<br>Unknown: 143972",
          "sbert-lexrank-top5<br>Topic size: 295<br>Unknown: 129452",
          "sbert-lexrank-top5<br>Topic size: 230<br>Unknown: 139647",
          "sbert-lexrank-top5<br>Topic size: 183<br>Unknown: 123162",
          "sbert-lexrank-top5<br>Topic size: 161<br>Unknown: 117952"
         ],
         "type": "scatter",
         "x": [
          "10: 10, 10",
          "10: 20, 10",
          "10: 20, 20",
          "10: 50, 10",
          "10: 50, 25",
          "10: 50, 50",
          "10: 100, 1",
          "10: 100, 10",
          "10: 100, 50",
          "10: 100, 100"
         ],
         "y": [
          null,
          -1.422359887855562,
          -1.3068195499637505,
          -1.1331844558217845,
          -1.1646166135087073,
          -1.0911013252991553,
          -1.0328491238390534,
          -0.9957556308133576,
          -0.8964840293871741,
          -0.8447513266819101
         ]
        },
        {
         "legendgroup": "sbert-lexrank-top5",
         "line": {
          "color": "#bb0600"
         },
         "name": "sbert-lexrank-top5",
         "showlegend": false,
         "text": [
          "sbert-lexrank-top5<br>Topic size: 1132<br>Unknown: 180465",
          "sbert-lexrank-top5<br>Topic size: 696<br>Unknown: 173951",
          "sbert-lexrank-top5<br>Topic size: 563<br>Unknown: 166568",
          "sbert-lexrank-top5<br>Topic size: 365<br>Unknown: 157272",
          "sbert-lexrank-top5<br>Topic size: 323<br>Unknown: 156678",
          "sbert-lexrank-top5<br>Topic size: 245<br>Unknown: 141331",
          "sbert-lexrank-top5<br>Topic size: 295<br>Unknown: 146673",
          "sbert-lexrank-top5<br>Topic size: 206<br>Unknown: 141583",
          "sbert-lexrank-top5<br>Topic size: 182<br>Unknown: 134081",
          "sbert-lexrank-top5<br>Topic size: 149<br>Unknown: 123281"
         ],
         "type": "scatter",
         "x": [
          "15: 10, 10",
          "15: 20, 10",
          "15: 20, 20",
          "15: 50, 10",
          "15: 50, 25",
          "15: 50, 50",
          "15: 100, 1",
          "15: 100, 10",
          "15: 100, 50",
          "15: 100, 100"
         ],
         "y": [
          null,
          -1.3685304630727986,
          -1.313847465434964,
          -1.1270792241949117,
          -1.1124360642526807,
          -0.9942273205187512,
          -1.0714197056668415,
          -0.9381344216429386,
          -0.907015889181539,
          -0.8440576564438321
         ]
        },
        {
         "legendgroup": "sbert-lexrank-top5",
         "line": {
          "color": "#bb0600"
         },
         "name": "sbert-lexrank-top5",
         "showlegend": false,
         "text": [
          "sbert-lexrank-top5<br>Topic size: 1019<br>Unknown: 174684",
          "sbert-lexrank-top5<br>Topic size: 640<br>Unknown: 171719",
          "sbert-lexrank-top5<br>Topic size: 495<br>Unknown: 167793",
          "sbert-lexrank-top5<br>Topic size: 330<br>Unknown: 158205",
          "sbert-lexrank-top5<br>Topic size: 282<br>Unknown: 143166",
          "sbert-lexrank-top5<br>Topic size: 227<br>Unknown: 127898",
          "sbert-lexrank-top5<br>Topic size: 265<br>Unknown: 144576",
          "sbert-lexrank-top5<br>Topic size: 204<br>Unknown: 144744",
          "sbert-lexrank-top5<br>Topic size: 166<br>Unknown: 122429",
          "sbert-lexrank-top5<br>Topic size: 146<br>Unknown: 116951"
         ],
         "type": "scatter",
         "x": [
          "20: 10, 10",
          "20: 20, 10",
          "20: 20, 20",
          "20: 50, 10",
          "20: 50, 25",
          "20: 50, 50",
          "20: 100, 1",
          "20: 100, 10",
          "20: 100, 50",
          "20: 100, 100"
         ],
         "y": [
          null,
          -1.3478332453446105,
          -1.261960639565789,
          -1.1224095749471654,
          -1.0255878697809826,
          -0.9352855642283934,
          -0.9910116786677304,
          -0.9766326360043156,
          -0.8437900139179133,
          -0.8407016270547146
         ]
        },
        {
         "legendgroup": "sbert-lexrank-weighted",
         "line": {
          "color": "#e81000"
         },
         "name": "sbert-lexrank-weighted",
         "showlegend": true,
         "text": [
          "sbert-lexrank-weighted<br>Topic size: 2215<br>Unknown: 155735",
          "sbert-lexrank-weighted<br>Topic size: 1169<br>Unknown: 145094",
          "sbert-lexrank-weighted<br>Topic size: 881<br>Unknown: 145665",
          "sbert-lexrank-weighted<br>Topic size: 512<br>Unknown: 134962",
          "sbert-lexrank-weighted<br>Topic size: 396<br>Unknown: 134052",
          "sbert-lexrank-weighted<br>Topic size: 320<br>Unknown: 137559",
          "sbert-lexrank-weighted<br>Topic size: 361<br>Unknown: 124682",
          "sbert-lexrank-weighted<br>Topic size: 271<br>Unknown: 132201",
          "sbert-lexrank-weighted<br>Topic size: 201<br>Unknown: 123010",
          "sbert-lexrank-weighted<br>Topic size: 169<br>Unknown: 129006"
         ],
         "type": "scatter",
         "x": [
          "5: 10, 10",
          "5: 20, 10",
          "5: 20, 20",
          "5: 50, 10",
          "5: 50, 25",
          "5: 50, 50",
          "5: 100, 1",
          "5: 100, 10",
          "5: 100, 50",
          "5: 100, 100"
         ],
         "y": [
          null,
          null,
          -1.36707805017108,
          -1.186536371666404,
          -1.1212081257702091,
          -1.0779079093106634,
          -1.0180121898894094,
          -1.0046431675772112,
          -0.90572150397369,
          -0.8587498035832152
         ]
        },
        {
         "legendgroup": "sbert-lexrank-weighted",
         "line": {
          "color": "#e81000"
         },
         "name": "sbert-lexrank-weighted",
         "showlegend": false,
         "text": [
          "sbert-lexrank-weighted<br>Topic size: 1293<br>Unknown: 170935",
          "sbert-lexrank-weighted<br>Topic size: 729<br>Unknown: 162427",
          "sbert-lexrank-weighted<br>Topic size: 574<br>Unknown: 161807",
          "sbert-lexrank-weighted<br>Topic size: 365<br>Unknown: 155211",
          "sbert-lexrank-weighted<br>Topic size: 312<br>Unknown: 151126",
          "sbert-lexrank-weighted<br>Topic size: 247<br>Unknown: 144339",
          "sbert-lexrank-weighted<br>Topic size: 274<br>Unknown: 130600",
          "sbert-lexrank-weighted<br>Topic size: 201<br>Unknown: 135032",
          "sbert-lexrank-weighted<br>Topic size: 163<br>Unknown: 136181",
          "sbert-lexrank-weighted<br>Topic size: 126<br>Unknown: 110932"
         ],
         "type": "scatter",
         "x": [
          "10: 10, 10",
          "10: 20, 10",
          "10: 20, 20",
          "10: 50, 10",
          "10: 50, 25",
          "10: 50, 50",
          "10: 100, 1",
          "10: 100, 10",
          "10: 100, 50",
          "10: 100, 100"
         ],
         "y": [
          null,
          -1.3442623308368196,
          -1.251634748008522,
          -1.1375098496263196,
          -1.0832781595431211,
          -1.0044363845159423,
          -1.0056450097433678,
          -0.9623607018189992,
          -0.9035841485253776,
          -0.7497449686233509
         ]
        },
        {
         "legendgroup": "sbert-lexrank-weighted",
         "line": {
          "color": "#e81000"
         },
         "name": "sbert-lexrank-weighted",
         "showlegend": false,
         "text": [
          "sbert-lexrank-weighted<br>Topic size: 1048<br>Unknown: 176046",
          "sbert-lexrank-weighted<br>Topic size: 658<br>Unknown: 177833",
          "sbert-lexrank-weighted<br>Topic size: 494<br>Unknown: 165271",
          "sbert-lexrank-weighted<br>Topic size: 338<br>Unknown: 166685",
          "sbert-lexrank-weighted<br>Topic size: 286<br>Unknown: 161399",
          "sbert-lexrank-weighted<br>Topic size: 228<br>Unknown: 156457",
          "sbert-lexrank-weighted<br>Topic size: 214<br>Unknown: 120597",
          "sbert-lexrank-weighted<br>Topic size: 172<br>Unknown: 137225",
          "sbert-lexrank-weighted<br>Topic size: 155<br>Unknown: 141932",
          "sbert-lexrank-weighted<br>Topic size: 125<br>Unknown: 132242"
         ],
         "type": "scatter",
         "x": [
          "15: 10, 10",
          "15: 20, 10",
          "15: 20, 20",
          "15: 50, 10",
          "15: 50, 25",
          "15: 50, 50",
          "15: 100, 1",
          "15: 100, 10",
          "15: 100, 50",
          "15: 100, 100"
         ],
         "y": [
          null,
          -1.3086428472223557,
          -1.214935738194318,
          -1.111905851120954,
          -1.0778146800865829,
          -1.0158705654913562,
          -0.8909783591384334,
          -0.9100744278897216,
          -0.8857112410580734,
          -0.7887753872837819
         ]
        },
        {
         "legendgroup": "sbert-lexrank-weighted",
         "line": {
          "color": "#e81000"
         },
         "name": "sbert-lexrank-weighted",
         "showlegend": false,
         "text": [
          "sbert-lexrank-weighted<br>Topic size: 958<br>Unknown: 183047",
          "sbert-lexrank-weighted<br>Topic size: 570<br>Unknown: 170576",
          "sbert-lexrank-weighted<br>Topic size: 428<br>Unknown: 160220",
          "sbert-lexrank-weighted<br>Topic size: 308<br>Unknown: 155995",
          "sbert-lexrank-weighted<br>Topic size: 236<br>Unknown: 146632",
          "sbert-lexrank-weighted<br>Topic size: 210<br>Unknown: 152949",
          "sbert-lexrank-weighted<br>Topic size: 219<br>Unknown: 134265",
          "sbert-lexrank-weighted<br>Topic size: 174<br>Unknown: 148987",
          "sbert-lexrank-weighted<br>Topic size: 136<br>Unknown: 137453",
          "sbert-lexrank-weighted<br>Topic size: 128<br>Unknown: 146128"
         ],
         "type": "scatter",
         "x": [
          "20: 10, 10",
          "20: 20, 10",
          "20: 20, 20",
          "20: 50, 10",
          "20: 50, 25",
          "20: 50, 50",
          "20: 100, 1",
          "20: 100, 10",
          "20: 100, 50",
          "20: 100, 100"
         ],
         "y": [
          -1.4109458792957468,
          -1.2491107342561394,
          -1.171137226144384,
          -1.077259063966658,
          -1.0142736873804394,
          -1.0028862818607789,
          -0.9517853574150966,
          -0.9428177004951688,
          -0.8292909610697252,
          -0.8352425061119936
         ]
        },
        {
         "legendgroup": "sbert-mean",
         "line": {
          "color": "#fd5100"
         },
         "name": "sbert-mean",
         "showlegend": true,
         "text": [
          "sbert-mean<br>Topic size: 2062<br>Unknown: 151790",
          "sbert-mean<br>Topic size: 1063<br>Unknown: 141618",
          "sbert-mean<br>Topic size: 814<br>Unknown: 152206",
          "sbert-mean<br>Topic size: 471<br>Unknown: 138952",
          "sbert-mean<br>Topic size: 379<br>Unknown: 139983",
          "sbert-mean<br>Topic size: 306<br>Unknown: 137669",
          "sbert-mean<br>Topic size: 290<br>Unknown: 108633",
          "sbert-mean<br>Topic size: 251<br>Unknown: 129211",
          "sbert-mean<br>Topic size: 189<br>Unknown: 130519",
          "sbert-mean<br>Topic size: 159<br>Unknown: 130629"
         ],
         "type": "scatter",
         "x": [
          "5: 10, 10",
          "5: 20, 10",
          "5: 20, 20",
          "5: 50, 10",
          "5: 50, 25",
          "5: 50, 50",
          "5: 100, 1",
          "5: 100, 10",
          "5: 100, 50",
          "5: 100, 100"
         ],
         "y": [
          null,
          null,
          -1.3653223477060572,
          -1.1302945594809952,
          -1.0847132413951024,
          -1.0171466548767676,
          -0.9188778868576049,
          -0.9548169261593809,
          -0.8985987973241285,
          -0.872294939688403
         ]
        },
        {
         "legendgroup": "sbert-mean",
         "line": {
          "color": "#fd5100"
         },
         "name": "sbert-mean",
         "showlegend": false,
         "text": [
          "sbert-mean<br>Topic size: 1169<br>Unknown: 168708",
          "sbert-mean<br>Topic size: 701<br>Unknown: 166099",
          "sbert-mean<br>Topic size: 508<br>Unknown: 151029",
          "sbert-mean<br>Topic size: 330<br>Unknown: 144545",
          "sbert-mean<br>Topic size: 279<br>Unknown: 145866",
          "sbert-mean<br>Topic size: 227<br>Unknown: 141800",
          "sbert-mean<br>Topic size: 266<br>Unknown: 134045",
          "sbert-mean<br>Topic size: 187<br>Unknown: 138033",
          "sbert-mean<br>Topic size: 161<br>Unknown: 134920",
          "sbert-mean<br>Topic size: 127<br>Unknown: 119106"
         ],
         "type": "scatter",
         "x": [
          "10: 10, 10",
          "10: 20, 10",
          "10: 20, 20",
          "10: 50, 10",
          "10: 50, 25",
          "10: 50, 50",
          "10: 100, 1",
          "10: 100, 10",
          "10: 100, 50",
          "10: 100, 100"
         ],
         "y": [
          null,
          -1.3040025033848757,
          -1.2005343019967254,
          -1.0450217112241569,
          -1.0409625770751334,
          -0.9945999504386264,
          -0.99352931556152,
          -0.929001156313766,
          -0.8927943275644555,
          -0.8038188551471019
         ]
        },
        {
         "legendgroup": "sbert-mean",
         "line": {
          "color": "#fd5100"
         },
         "name": "sbert-mean",
         "showlegend": false,
         "text": [
          "sbert-mean<br>Topic size: 911<br>Unknown: 169715",
          "sbert-mean<br>Topic size: 553<br>Unknown: 165919",
          "sbert-mean<br>Topic size: 477<br>Unknown: 172864",
          "sbert-mean<br>Topic size: 263<br>Unknown: 145584",
          "sbert-mean<br>Topic size: 230<br>Unknown: 143620",
          "sbert-mean<br>Topic size: 185<br>Unknown: 137601",
          "sbert-mean<br>Topic size: 212<br>Unknown: 128240",
          "sbert-mean<br>Topic size: 161<br>Unknown: 134317",
          "sbert-mean<br>Topic size: 141<br>Unknown: 135507",
          "sbert-mean<br>Topic size: 117<br>Unknown: 125059"
         ],
         "type": "scatter",
         "x": [
          "15: 10, 10",
          "15: 20, 10",
          "15: 20, 20",
          "15: 50, 10",
          "15: 50, 25",
          "15: 50, 50",
          "15: 100, 1",
          "15: 100, 10",
          "15: 100, 50",
          "15: 100, 100"
         ],
         "y": [
          -1.404987555538164,
          -1.2428261587930949,
          -1.202052638132057,
          -1.0152118073335936,
          -0.9836650764473488,
          -0.9069625491183636,
          -0.9021792071342424,
          -0.8672519468128204,
          -0.8682290585250227,
          -0.7753087079130673
         ]
        },
        {
         "legendgroup": "sbert-mean",
         "line": {
          "color": "#fd5100"
         },
         "name": "sbert-mean",
         "showlegend": false,
         "text": [
          "sbert-mean<br>Topic size: 857<br>Unknown: 180243",
          "sbert-mean<br>Topic size: 515<br>Unknown: 164058",
          "sbert-mean<br>Topic size: 403<br>Unknown: 161256",
          "sbert-mean<br>Topic size: 276<br>Unknown: 159503",
          "sbert-mean<br>Topic size: 226<br>Unknown: 151423",
          "sbert-mean<br>Topic size: 190<br>Unknown: 146848",
          "sbert-mean<br>Topic size: 212<br>Unknown: 133421",
          "sbert-mean<br>Topic size: 157<br>Unknown: 140080",
          "sbert-mean<br>Topic size: 130<br>Unknown: 137358",
          "sbert-mean<br>Topic size: 121<br>Unknown: 137663"
         ],
         "type": "scatter",
         "x": [
          "20: 10, 10",
          "20: 20, 10",
          "20: 20, 20",
          "20: 50, 10",
          "20: 50, 25",
          "20: 50, 50",
          "20: 100, 1",
          "20: 100, 10",
          "20: 100, 50",
          "20: 100, 100"
         ],
         "y": [
          -1.394536793197411,
          -1.2037579727611885,
          -1.1557019544807017,
          -1.057047315034984,
          -1.002191068775712,
          -0.943537602208992,
          -0.9264373070697516,
          -0.8617516788769848,
          -0.813330294302938,
          -0.7971319033820994
         ]
        },
        {
         "legendgroup": "sbert-tf-idf-top1",
         "line": {
          "color": "#ff8700"
         },
         "name": "sbert-tf-idf-top1",
         "showlegend": true,
         "text": [
          "sbert-tf-idf-top1<br>Topic size: 1302<br>Unknown: 162583",
          "sbert-tf-idf-top1<br>Topic size: 752<br>Unknown: 159697",
          "sbert-tf-idf-top1<br>Topic size: 566<br>Unknown: 161029",
          "sbert-tf-idf-top1<br>Topic size: 326<br>Unknown: 158131",
          "sbert-tf-idf-top1<br>Topic size: 273<br>Unknown: 162760",
          "sbert-tf-idf-top1<br>Topic size: 232<br>Unknown: 157454",
          "sbert-tf-idf-top1<br>Topic size: 261<br>Unknown: 155372",
          "sbert-tf-idf-top1<br>Topic size: 169<br>Unknown: 142025",
          "sbert-tf-idf-top1<br>Topic size: 129<br>Unknown: 138937",
          "sbert-tf-idf-top1<br>Topic size: 103<br>Unknown: 133838"
         ],
         "type": "scatter",
         "x": [
          "15: 10, 10",
          "15: 20, 10",
          "15: 20, 20",
          "15: 50, 10",
          "15: 50, 25",
          "15: 50, 50",
          "15: 100, 1",
          "15: 100, 10",
          "15: 100, 50",
          "15: 100, 100"
         ],
         "y": [
          null,
          -1.4836583544876225,
          -1.3794304823774577,
          -1.036530011886562,
          -0.9778171378330586,
          -0.8670775449936431,
          -0.7916274950152324,
          -0.7010478584236401,
          -0.6234679815515027,
          -0.5133969070333478
         ]
        },
        {
         "legendgroup": "sbert-tf-idf-top1",
         "line": {
          "color": "#ff8700"
         },
         "name": "sbert-tf-idf-top1",
         "showlegend": false,
         "text": [
          "sbert-tf-idf-top1<br>Topic size: 1288<br>Unknown: 190075",
          "sbert-tf-idf-top1<br>Topic size: 665<br>Unknown: 163287",
          "sbert-tf-idf-top1<br>Topic size: 511<br>Unknown: 161868",
          "sbert-tf-idf-top1<br>Topic size: 296<br>Unknown: 159825",
          "sbert-tf-idf-top1<br>Topic size: 245<br>Unknown: 160002",
          "sbert-tf-idf-top1<br>Topic size: 220<br>Unknown: 161647",
          "sbert-tf-idf-top1<br>Topic size: 144<br>Unknown: 142227",
          "sbert-tf-idf-top1<br>Topic size: 136<br>Unknown: 152855",
          "sbert-tf-idf-top1<br>Topic size: 108<br>Unknown: 144273"
         ],
         "type": "scatter",
         "x": [
          "20: 10, 10",
          "20: 20, 10",
          "20: 20, 20",
          "20: 50, 10",
          "20: 50, 25",
          "20: 50, 50",
          "20: 100, 10",
          "20: 100, 50",
          "20: 100, 100"
         ],
         "y": [
          null,
          -1.446284571324442,
          -1.36203443655866,
          -0.9570576534884754,
          -0.8916324596444076,
          -0.8632112749842241,
          -0.6383841165918089,
          -0.6384936363553827,
          -0.5455324217994053
         ]
        },
        {
         "legendgroup": "sbert-tf-idf-top5",
         "line": {
          "color": "#ffb402"
         },
         "name": "sbert-tf-idf-top5",
         "showlegend": true,
         "text": [
          "sbert-tf-idf-top5<br>Topic size: 1751<br>Unknown: 170864",
          "sbert-tf-idf-top5<br>Topic size: 922<br>Unknown: 165115",
          "sbert-tf-idf-top5<br>Topic size: 671<br>Unknown: 171853",
          "sbert-tf-idf-top5<br>Topic size: 379<br>Unknown: 151077",
          "sbert-tf-idf-top5<br>Topic size: 327<br>Unknown: 165330",
          "sbert-tf-idf-top5<br>Topic size: 258<br>Unknown: 162205",
          "sbert-tf-idf-top5<br>Topic size: 284<br>Unknown: 134862",
          "sbert-tf-idf-top5<br>Topic size: 208<br>Unknown: 149433",
          "sbert-tf-idf-top5<br>Topic size: 168<br>Unknown: 155491",
          "sbert-tf-idf-top5<br>Topic size: 99<br>Unknown: 84934"
         ],
         "type": "scatter",
         "x": [
          "5: 10, 10",
          "5: 20, 10",
          "5: 20, 20",
          "5: 50, 10",
          "5: 50, 25",
          "5: 50, 50",
          "5: 100, 1",
          "5: 100, 10",
          "5: 100, 50",
          "5: 100, 100"
         ],
         "y": [
          null,
          -1.4699830867788075,
          -1.3432410510232364,
          -1.0748882822243848,
          -1.082228891813195,
          -1.0372679879292537,
          -0.911174147687011,
          -0.9166325926916424,
          -0.8936140827757508,
          -0.7285355662460677
         ]
        },
        {
         "legendgroup": "sbert-tf-idf-top5",
         "line": {
          "color": "#ffb402"
         },
         "name": "sbert-tf-idf-top5",
         "showlegend": false,
         "text": [
          "sbert-tf-idf-top5<br>Topic size: 956<br>Unknown: 183206",
          "sbert-tf-idf-top5<br>Topic size: 521<br>Unknown: 170760",
          "sbert-tf-idf-top5<br>Topic size: 403<br>Unknown: 171946",
          "sbert-tf-idf-top5<br>Topic size: 278<br>Unknown: 164865",
          "sbert-tf-idf-top5<br>Topic size: 231<br>Unknown: 160668",
          "sbert-tf-idf-top5<br>Topic size: 205<br>Unknown: 159403",
          "sbert-tf-idf-top5<br>Topic size: 213<br>Unknown: 140321",
          "sbert-tf-idf-top5<br>Topic size: 169<br>Unknown: 157660",
          "sbert-tf-idf-top5<br>Topic size: 143<br>Unknown: 154290",
          "sbert-tf-idf-top5<br>Topic size: 113<br>Unknown: 105132"
         ],
         "type": "scatter",
         "x": [
          "10: 10, 10",
          "10: 20, 10",
          "10: 20, 20",
          "10: 50, 10",
          "10: 50, 25",
          "10: 50, 50",
          "10: 100, 1",
          "10: 100, 10",
          "10: 100, 50",
          "10: 100, 100"
         ],
         "y": [
          -1.4748525876465817,
          -1.2367366808488625,
          -1.147391928788236,
          -1.051005831587498,
          -1.0210377918347755,
          -0.967450698808362,
          -0.909120466019026,
          -0.9293813086777286,
          -0.8657586884780929,
          -0.8013102480863425
         ]
        },
        {
         "legendgroup": "sbert-tf-idf-top5",
         "line": {
          "color": "#ffb402"
         },
         "name": "sbert-tf-idf-top5",
         "showlegend": false,
         "text": [
          "sbert-tf-idf-top5<br>Topic size: 788<br>Unknown: 189523",
          "sbert-tf-idf-top5<br>Topic size: 460<br>Unknown: 179528",
          "sbert-tf-idf-top5<br>Topic size: 332<br>Unknown: 174636",
          "sbert-tf-idf-top5<br>Topic size: 230<br>Unknown: 172900",
          "sbert-tf-idf-top5<br>Topic size: 198<br>Unknown: 163613",
          "sbert-tf-idf-top5<br>Topic size: 176<br>Unknown: 169493",
          "sbert-tf-idf-top5<br>Topic size: 205<br>Unknown: 160879",
          "sbert-tf-idf-top5<br>Topic size: 145<br>Unknown: 168864",
          "sbert-tf-idf-top5<br>Topic size: 130<br>Unknown: 165443",
          "sbert-tf-idf-top5<br>Topic size: 113<br>Unknown: 160388"
         ],
         "type": "scatter",
         "x": [
          "15: 10, 10",
          "15: 20, 10",
          "15: 20, 20",
          "15: 50, 10",
          "15: 50, 25",
          "15: 50, 50",
          "15: 100, 1",
          "15: 100, 10",
          "15: 100, 50",
          "15: 100, 100"
         ],
         "y": [
          -1.392029080140737,
          -1.223471365669779,
          -1.1312166197238722,
          -1.0200174012023533,
          -0.9822845476141412,
          -0.9572655269516877,
          -0.9563822016576574,
          -0.8735721500817979,
          -0.8721892124772409,
          -0.8008091663108458
         ]
        },
        {
         "legendgroup": "sbert-tf-idf-top5",
         "line": {
          "color": "#ffb402"
         },
         "name": "sbert-tf-idf-top5",
         "showlegend": false,
         "text": [
          "sbert-tf-idf-top5<br>Topic size: 696<br>Unknown: 189775",
          "sbert-tf-idf-top5<br>Topic size: 432<br>Unknown: 189483",
          "sbert-tf-idf-top5<br>Topic size: 307<br>Unknown: 178515",
          "sbert-tf-idf-top5<br>Topic size: 242<br>Unknown: 189894",
          "sbert-tf-idf-top5<br>Topic size: 182<br>Unknown: 168151",
          "sbert-tf-idf-top5<br>Topic size: 155<br>Unknown: 139696",
          "sbert-tf-idf-top5<br>Topic size: 204<br>Unknown: 166049",
          "sbert-tf-idf-top5<br>Topic size: 152<br>Unknown: 178992",
          "sbert-tf-idf-top5<br>Topic size: 122<br>Unknown: 140742",
          "sbert-tf-idf-top5<br>Topic size: 110<br>Unknown: 150644"
         ],
         "type": "scatter",
         "x": [
          "20: 10, 10",
          "20: 20, 10",
          "20: 20, 20",
          "20: 50, 10",
          "20: 50, 25",
          "20: 50, 50",
          "20: 100, 1",
          "20: 100, 10",
          "20: 100, 50",
          "20: 100, 100"
         ],
         "y": [
          -1.3700340649649585,
          -1.207961695944037,
          -1.1159681257444567,
          -1.055410978800265,
          -0.9945851765785256,
          -0.9257715504777648,
          -0.9259418980527716,
          -0.9356454118995912,
          -0.8461817565013693,
          -0.8126444719766197
         ]
        },
        {
         "legendgroup": "sbert-tf-idf-weighted",
         "line": {
          "color": "#ffdc0a"
         },
         "name": "sbert-tf-idf-weighted",
         "showlegend": true,
         "text": [
          "sbert-tf-idf-weighted<br>Topic size: 1968<br>Unknown: 161481",
          "sbert-tf-idf-weighted<br>Topic size: 1132<br>Unknown: 159361",
          "sbert-tf-idf-weighted<br>Topic size: 857<br>Unknown: 159629",
          "sbert-tf-idf-weighted<br>Topic size: 506<br>Unknown: 142757",
          "sbert-tf-idf-weighted<br>Topic size: 402<br>Unknown: 135303",
          "sbert-tf-idf-weighted<br>Topic size: 299<br>Unknown: 123437",
          "sbert-tf-idf-weighted<br>Topic size: 340<br>Unknown: 115603",
          "sbert-tf-idf-weighted<br>Topic size: 260<br>Unknown: 122547",
          "sbert-tf-idf-weighted<br>Topic size: 188<br>Unknown: 107362",
          "sbert-tf-idf-weighted<br>Topic size: 181<br>Unknown: 124859"
         ],
         "type": "scatter",
         "x": [
          "5: 10, 10",
          "5: 20, 10",
          "5: 20, 20",
          "5: 50, 10",
          "5: 50, 25",
          "5: 50, 50",
          "5: 100, 1",
          "5: 100, 10",
          "5: 100, 50",
          "5: 100, 100"
         ],
         "y": [
          null,
          null,
          -1.3834588767726788,
          -1.1575475480993995,
          -1.1132409535150425,
          -1.0180786854983448,
          -0.9792510970904732,
          -0.9647428939722276,
          -0.8776696664203475,
          -0.8920792820691749
         ]
        },
        {
         "legendgroup": "sbert-tf-idf-weighted",
         "line": {
          "color": "#ffdc0a"
         },
         "name": "sbert-tf-idf-weighted",
         "showlegend": false,
         "text": [
          "sbert-tf-idf-weighted<br>Topic size: 1060<br>Unknown: 163933",
          "sbert-tf-idf-weighted<br>Topic size: 635<br>Unknown: 160890",
          "sbert-tf-idf-weighted<br>Topic size: 465<br>Unknown: 150212",
          "sbert-tf-idf-weighted<br>Topic size: 316<br>Unknown: 146732",
          "sbert-tf-idf-weighted<br>Topic size: 260<br>Unknown: 134451",
          "sbert-tf-idf-weighted<br>Topic size: 227<br>Unknown: 137350",
          "sbert-tf-idf-weighted<br>Topic size: 243<br>Unknown: 125834",
          "sbert-tf-idf-weighted<br>Topic size: 200<br>Unknown: 141507",
          "sbert-tf-idf-weighted<br>Topic size: 174<br>Unknown: 134789",
          "sbert-tf-idf-weighted<br>Topic size: 145<br>Unknown: 125287"
         ],
         "type": "scatter",
         "x": [
          "10: 10, 10",
          "10: 20, 10",
          "10: 20, 20",
          "10: 50, 10",
          "10: 50, 25",
          "10: 50, 50",
          "10: 100, 1",
          "10: 100, 10",
          "10: 100, 50",
          "10: 100, 100"
         ],
         "y": [
          null,
          -1.3067066037474175,
          -1.174811864296898,
          -1.0480535220679077,
          -0.984391800753138,
          -0.9639692870131564,
          -0.910631004661298,
          -0.9167987226167396,
          -0.8869475202825825,
          -0.8080267407382564
         ]
        },
        {
         "legendgroup": "sbert-tf-idf-weighted",
         "line": {
          "color": "#ffdc0a"
         },
         "name": "sbert-tf-idf-weighted",
         "showlegend": false,
         "text": [
          "sbert-tf-idf-weighted<br>Topic size: 871<br>Unknown: 171902",
          "sbert-tf-idf-weighted<br>Topic size: 503<br>Unknown: 156945",
          "sbert-tf-idf-weighted<br>Topic size: 390<br>Unknown: 151173",
          "sbert-tf-idf-weighted<br>Topic size: 266<br>Unknown: 143514",
          "sbert-tf-idf-weighted<br>Topic size: 250<br>Unknown: 149099",
          "sbert-tf-idf-weighted<br>Topic size: 218<br>Unknown: 141563",
          "sbert-tf-idf-weighted<br>Topic size: 225<br>Unknown: 134190",
          "sbert-tf-idf-weighted<br>Topic size: 172<br>Unknown: 136439",
          "sbert-tf-idf-weighted<br>Topic size: 162<br>Unknown: 138939",
          "sbert-tf-idf-weighted<br>Topic size: 129<br>Unknown: 110520"
         ],
         "type": "scatter",
         "x": [
          "15: 10, 10",
          "15: 20, 10",
          "15: 20, 20",
          "15: 50, 10",
          "15: 50, 25",
          "15: 50, 50",
          "15: 100, 1",
          "15: 100, 10",
          "15: 100, 50",
          "15: 100, 100"
         ],
         "y": [
          -1.4043337810830347,
          -1.2247376479775915,
          -1.1371015069845252,
          -1.0125983484612489,
          -0.9854568227657844,
          -0.959460155930062,
          -0.9200049831460704,
          -0.8798811755354918,
          -0.8807177013369428,
          -0.7957354746647722
         ]
        },
        {
         "legendgroup": "sbert-tf-idf-weighted",
         "line": {
          "color": "#ffdc0a"
         },
         "name": "sbert-tf-idf-weighted",
         "showlegend": false,
         "text": [
          "sbert-tf-idf-weighted<br>Topic size: 790<br>Unknown: 180027",
          "sbert-tf-idf-weighted<br>Topic size: 468<br>Unknown: 166074",
          "sbert-tf-idf-weighted<br>Topic size: 383<br>Unknown: 163967",
          "sbert-tf-idf-weighted<br>Topic size: 252<br>Unknown: 151942",
          "sbert-tf-idf-weighted<br>Topic size: 230<br>Unknown: 152597",
          "sbert-tf-idf-weighted<br>Topic size: 202<br>Unknown: 147752",
          "sbert-tf-idf-weighted<br>Topic size: 209<br>Unknown: 133934",
          "sbert-tf-idf-weighted<br>Topic size: 168<br>Unknown: 149785",
          "sbert-tf-idf-weighted<br>Topic size: 152<br>Unknown: 144955",
          "sbert-tf-idf-weighted<br>Topic size: 138<br>Unknown: 141721"
         ],
         "type": "scatter",
         "x": [
          "20: 10, 10",
          "20: 20, 10",
          "20: 20, 20",
          "20: 50, 10",
          "20: 50, 25",
          "20: 50, 50",
          "20: 100, 1",
          "20: 100, 10",
          "20: 100, 50",
          "20: 100, 100"
         ],
         "y": [
          -1.3587997078288585,
          -1.2092286323454728,
          -1.144501451385321,
          -0.994134386808722,
          -0.9877397927627314,
          -0.9374376562207318,
          -0.8998143287253845,
          -0.9074824529179448,
          -0.8715820266453586,
          -0.8327967258797867
         ]
        },
        {
         "legendgroup": "tfidf",
         "line": {
          "color": "#176e08"
         },
         "name": "tfidf",
         "showlegend": true,
         "text": [
          "tfidf<br>Topic size: 3166<br>Unknown: 101038",
          "tfidf<br>Topic size: 1990<br>Unknown: 99607",
          "tfidf<br>Topic size: 1701<br>Unknown: 100783",
          "tfidf<br>Topic size: 978<br>Unknown: 94076",
          "tfidf<br>Topic size: 897<br>Unknown: 96726",
          "tfidf<br>Topic size: 810<br>Unknown: 102580",
          "tfidf<br>Topic size: 603<br>Unknown: 86810",
          "tfidf<br>Topic size: 557<br>Unknown: 90334",
          "tfidf<br>Topic size: 492<br>Unknown: 94265",
          "tfidf<br>Topic size: 446<br>Unknown: 102057"
         ],
         "type": "scatter",
         "x": [
          "5: 10, 10",
          "5: 20, 10",
          "5: 20, 20",
          "5: 50, 10",
          "5: 50, 25",
          "5: 50, 50",
          "5: 100, 1",
          "5: 100, 10",
          "5: 100, 50",
          "5: 100, 100"
         ],
         "y": [
          null,
          null,
          null,
          -1.5165243018362815,
          -1.5006014074706475,
          -1.4725926062679822,
          -1.3274472521969305,
          -1.329377287680488,
          -1.3001969719069104,
          -1.2498368431923788
         ]
        },
        {
         "legendgroup": "tfidf",
         "line": {
          "color": "#176e08"
         },
         "name": "tfidf",
         "showlegend": false,
         "text": [
          "tfidf<br>Topic size: 2521<br>Unknown: 108449",
          "tfidf<br>Topic size: 1658<br>Unknown: 103430",
          "tfidf<br>Topic size: 1428<br>Unknown: 103625",
          "tfidf<br>Topic size: 880<br>Unknown: 98508",
          "tfidf<br>Topic size: 821<br>Unknown: 102868",
          "tfidf<br>Topic size: 735<br>Unknown: 105518",
          "tfidf<br>Topic size: 554<br>Unknown: 91551",
          "tfidf<br>Topic size: 498<br>Unknown: 95789",
          "tfidf<br>Topic size: 434<br>Unknown: 100864",
          "tfidf<br>Topic size: 387<br>Unknown: 104238"
         ],
         "type": "scatter",
         "x": [
          "10: 10, 10",
          "10: 20, 10",
          "10: 20, 20",
          "10: 50, 10",
          "10: 50, 25",
          "10: 50, 50",
          "10: 100, 1",
          "10: 100, 10",
          "10: 100, 50",
          "10: 100, 100"
         ],
         "y": [
          null,
          null,
          null,
          -1.5049237269684377,
          -1.4855023011510653,
          -1.4513354715591449,
          -1.349172566627884,
          -1.3142318573402207,
          -1.2739114865779813,
          -1.2505403010551717
         ]
        },
        {
         "legendgroup": "tfidf",
         "line": {
          "color": "#176e08"
         },
         "name": "tfidf",
         "showlegend": false,
         "text": [
          "tfidf<br>Topic size: 2192<br>Unknown: 115298",
          "tfidf<br>Topic size: 1490<br>Unknown: 109817",
          "tfidf<br>Topic size: 1305<br>Unknown: 111618",
          "tfidf<br>Topic size: 799<br>Unknown: 108555",
          "tfidf<br>Topic size: 728<br>Unknown: 110421",
          "tfidf<br>Topic size: 625<br>Unknown: 108128",
          "tfidf<br>Topic size: 534<br>Unknown: 102198",
          "tfidf<br>Topic size: 478<br>Unknown: 105028",
          "tfidf<br>Topic size: 420<br>Unknown: 107763",
          "tfidf<br>Topic size: 375<br>Unknown: 111247"
         ],
         "type": "scatter",
         "x": [
          "15: 10, 10",
          "15: 20, 10",
          "15: 20, 20",
          "15: 50, 10",
          "15: 50, 25",
          "15: 50, 50",
          "15: 100, 1",
          "15: 100, 10",
          "15: 100, 50",
          "15: 100, 100"
         ],
         "y": [
          null,
          null,
          null,
          -1.4729911277407413,
          -1.4483042189736586,
          -1.3887263403815926,
          -1.3402623633479436,
          -1.316779495374664,
          -1.252488814255193,
          -1.2199155902002412
         ]
        },
        {
         "legendgroup": "tfidf",
         "line": {
          "color": "#176e08"
         },
         "name": "tfidf",
         "showlegend": false,
         "text": [
          "tfidf<br>Topic size: 1975<br>Unknown: 124230",
          "tfidf<br>Topic size: 1397<br>Unknown: 118391",
          "tfidf<br>Topic size: 1209<br>Unknown: 117410",
          "tfidf<br>Topic size: 743<br>Unknown: 115244",
          "tfidf<br>Topic size: 677<br>Unknown: 114138",
          "tfidf<br>Topic size: 597<br>Unknown: 115866",
          "tfidf<br>Topic size: 493<br>Unknown: 102837",
          "tfidf<br>Topic size: 438<br>Unknown: 106867",
          "tfidf<br>Topic size: 398<br>Unknown: 112509",
          "tfidf<br>Topic size: 361<br>Unknown: 120966"
         ],
         "type": "scatter",
         "x": [
          "20: 10, 10",
          "20: 20, 10",
          "20: 20, 20",
          "20: 50, 10",
          "20: 50, 25",
          "20: 50, 50",
          "20: 100, 1",
          "20: 100, 10",
          "20: 100, 50",
          "20: 100, 100"
         ],
         "y": [
          null,
          null,
          null,
          -1.4101382382612924,
          -1.4124749511374453,
          -1.3743707324143843,
          -1.296584148442969,
          -1.2881181794112864,
          -1.2472905973218955,
          -1.233164878630556
         ]
        },
        {
         "legendgroup": "tfidf-spacy",
         "line": {
          "color": "#32d613"
         },
         "name": "tfidf-spacy",
         "showlegend": true,
         "text": [
          "tfidf-spacy<br>Topic size: 3122<br>Unknown: 104087",
          "tfidf-spacy<br>Topic size: 1987<br>Unknown: 100627",
          "tfidf-spacy<br>Topic size: 1708<br>Unknown: 101697",
          "tfidf-spacy<br>Topic size: 947<br>Unknown: 91029",
          "tfidf-spacy<br>Topic size: 894<br>Unknown: 97191",
          "tfidf-spacy<br>Topic size: 785<br>Unknown: 95429",
          "tfidf-spacy<br>Topic size: 598<br>Unknown: 86577",
          "tfidf-spacy<br>Topic size: 554<br>Unknown: 92231",
          "tfidf-spacy<br>Topic size: 487<br>Unknown: 94829",
          "tfidf-spacy<br>Topic size: 432<br>Unknown: 101513"
         ],
         "type": "scatter",
         "x": [
          "5: 10, 10",
          "5: 20, 10",
          "5: 20, 20",
          "5: 50, 10",
          "5: 50, 25",
          "5: 50, 50",
          "5: 100, 1",
          "5: 100, 10",
          "5: 100, 50",
          "5: 100, 100"
         ],
         "y": [
          null,
          null,
          null,
          -1.4486677635591902,
          -1.4524513542652917,
          -1.407931131709342,
          -1.3179193943777237,
          -1.300439883835606,
          -1.288323682054856,
          -1.254390756456811
         ]
        },
        {
         "legendgroup": "tfidf-spacy",
         "line": {
          "color": "#32d613"
         },
         "name": "tfidf-spacy",
         "showlegend": false,
         "text": [
          "tfidf-spacy<br>Topic size: 2384<br>Unknown: 111531",
          "tfidf-spacy<br>Topic size: 1587<br>Unknown: 107137",
          "tfidf-spacy<br>Topic size: 1386<br>Unknown: 109689",
          "tfidf-spacy<br>Topic size: 839<br>Unknown: 103862",
          "tfidf-spacy<br>Topic size: 764<br>Unknown: 103253",
          "tfidf-spacy<br>Topic size: 682<br>Unknown: 107957",
          "tfidf-spacy<br>Topic size: 544<br>Unknown: 94432",
          "tfidf-spacy<br>Topic size: 500<br>Unknown: 97323",
          "tfidf-spacy<br>Topic size: 447<br>Unknown: 101234",
          "tfidf-spacy<br>Topic size: 412<br>Unknown: 106260"
         ],
         "type": "scatter",
         "x": [
          "10: 10, 10",
          "10: 20, 10",
          "10: 20, 20",
          "10: 50, 10",
          "10: 50, 25",
          "10: 50, 50",
          "10: 100, 1",
          "10: 100, 10",
          "10: 100, 50",
          "10: 100, 100"
         ],
         "y": [
          null,
          null,
          null,
          -1.437229750043206,
          -1.4328055589556408,
          -1.389979654443823,
          -1.3162558920957523,
          -1.2931149437783611,
          -1.2549027841902658,
          -1.2678898862312935
         ]
        },
        {
         "legendgroup": "tfidf-spacy",
         "line": {
          "color": "#32d613"
         },
         "name": "tfidf-spacy",
         "showlegend": false,
         "text": [
          "tfidf-spacy<br>Topic size: 2049<br>Unknown: 119179",
          "tfidf-spacy<br>Topic size: 1414<br>Unknown: 114679",
          "tfidf-spacy<br>Topic size: 1231<br>Unknown: 113401",
          "tfidf-spacy<br>Topic size: 760<br>Unknown: 112260",
          "tfidf-spacy<br>Topic size: 704<br>Unknown: 109677",
          "tfidf-spacy<br>Topic size: 625<br>Unknown: 108184",
          "tfidf-spacy<br>Topic size: 517<br>Unknown: 102312",
          "tfidf-spacy<br>Topic size: 472<br>Unknown: 109949",
          "tfidf-spacy<br>Topic size: 424<br>Unknown: 107108",
          "tfidf-spacy<br>Topic size: 361<br>Unknown: 104723"
         ],
         "type": "scatter",
         "x": [
          "15: 10, 10",
          "15: 20, 10",
          "15: 20, 20",
          "15: 50, 10",
          "15: 50, 25",
          "15: 50, 50",
          "15: 100, 1",
          "15: 100, 10",
          "15: 100, 50",
          "15: 100, 100"
         ],
         "y": [
          null,
          null,
          null,
          -1.4219901410724158,
          -1.398294842279388,
          -1.3390377764961283,
          -1.3003137986999278,
          -1.2786999908737893,
          -1.24828245870693,
          -1.18990359242706
         ]
        },
        {
         "legendgroup": "tfidf-spacy",
         "line": {
          "color": "#32d613"
         },
         "name": "tfidf-spacy",
         "showlegend": false,
         "text": [
          "tfidf-spacy<br>Topic size: 1795<br>Unknown: 122619",
          "tfidf-spacy<br>Topic size: 1316<br>Unknown: 120519",
          "tfidf-spacy<br>Topic size: 1130<br>Unknown: 118965",
          "tfidf-spacy<br>Topic size: 718<br>Unknown: 110459",
          "tfidf-spacy<br>Topic size: 661<br>Unknown: 110827",
          "tfidf-spacy<br>Topic size: 599<br>Unknown: 114948",
          "tfidf-spacy<br>Topic size: 500<br>Unknown: 106795",
          "tfidf-spacy<br>Topic size: 447<br>Unknown: 107348",
          "tfidf-spacy<br>Topic size: 386<br>Unknown: 103489",
          "tfidf-spacy<br>Topic size: 348<br>Unknown: 106281"
         ],
         "type": "scatter",
         "x": [
          "20: 10, 10",
          "20: 20, 10",
          "20: 20, 20",
          "20: 50, 10",
          "20: 50, 25",
          "20: 50, 50",
          "20: 100, 1",
          "20: 100, 10",
          "20: 100, 50",
          "20: 100, 100"
         ],
         "y": [
          null,
          null,
          null,
          -1.3921573498232365,
          -1.387998159534723,
          -1.355878216252088,
          -1.304517311217416,
          -1.2715194997946575,
          -1.2168635385794555,
          -1.2096400842913717
         ]
        },
        {
         "legendgroup": "use-default",
         "line": {
          "color": "#000d94"
         },
         "name": "use-default",
         "showlegend": true,
         "text": [
          "use-default<br>Topic size: 2320<br>Unknown: 168449",
          "use-default<br>Topic size: 1185<br>Unknown: 157924",
          "use-default<br>Topic size: 851<br>Unknown: 156391",
          "use-default<br>Topic size: 468<br>Unknown: 142916",
          "use-default<br>Topic size: 365<br>Unknown: 140735",
          "use-default<br>Topic size: 305<br>Unknown: 142972",
          "use-default<br>Topic size: 344<br>Unknown: 134310",
          "use-default<br>Topic size: 257<br>Unknown: 131986",
          "use-default<br>Topic size: 189<br>Unknown: 126356",
          "use-default<br>Topic size: 144<br>Unknown: 119373"
         ],
         "type": "scatter",
         "x": [
          "5: 10, 10",
          "5: 20, 10",
          "5: 20, 20",
          "5: 50, 10",
          "5: 50, 25",
          "5: 50, 50",
          "5: 100, 1",
          "5: 100, 10",
          "5: 100, 50",
          "5: 100, 100"
         ],
         "y": [
          null,
          null,
          -1.364592225931852,
          -1.1698571159745126,
          -1.11981821477673,
          -1.0786513730758187,
          -1.0177534464134492,
          -1.015306514651238,
          -0.9148234609002924,
          -0.810731973657466
         ]
        },
        {
         "legendgroup": "use-default",
         "line": {
          "color": "#000d94"
         },
         "name": "use-default",
         "showlegend": false,
         "text": [
          "use-default<br>Topic size: 1389<br>Unknown: 165258",
          "use-default<br>Topic size: 764<br>Unknown: 155334",
          "use-default<br>Topic size: 600<br>Unknown: 162100",
          "use-default<br>Topic size: 345<br>Unknown: 141428",
          "use-default<br>Topic size: 321<br>Unknown: 153931",
          "use-default<br>Topic size: 265<br>Unknown: 148088",
          "use-default<br>Topic size: 265<br>Unknown: 129448",
          "use-default<br>Topic size: 212<br>Unknown: 136431",
          "use-default<br>Topic size: 183<br>Unknown: 145104",
          "use-default<br>Topic size: 145<br>Unknown: 133044"
         ],
         "type": "scatter",
         "x": [
          "10: 10, 10",
          "10: 20, 10",
          "10: 20, 20",
          "10: 50, 10",
          "10: 50, 25",
          "10: 50, 50",
          "10: 100, 1",
          "10: 100, 10",
          "10: 100, 50",
          "10: 100, 100"
         ],
         "y": [
          null,
          -1.3329103146068493,
          -1.268827990207626,
          -1.1125263827119427,
          -1.093800404725219,
          -1.058497911621321,
          -0.9930455361518054,
          -0.9816159186358056,
          -0.9487210032235454,
          -0.8646627493574925
         ]
        },
        {
         "legendgroup": "use-default",
         "line": {
          "color": "#000d94"
         },
         "name": "use-default",
         "showlegend": false,
         "text": [
          "use-default<br>Topic size: 1180<br>Unknown: 176946",
          "use-default<br>Topic size: 680<br>Unknown: 174619",
          "use-default<br>Topic size: 506<br>Unknown: 167956",
          "use-default<br>Topic size: 339<br>Unknown: 157403",
          "use-default<br>Topic size: 274<br>Unknown: 146213",
          "use-default<br>Topic size: 222<br>Unknown: 143338",
          "use-default<br>Topic size: 254<br>Unknown: 133453",
          "use-default<br>Topic size: 197<br>Unknown: 151287",
          "use-default<br>Topic size: 152<br>Unknown: 141350",
          "use-default<br>Topic size: 118<br>Unknown: 131381"
         ],
         "type": "scatter",
         "x": [
          "15: 10, 10",
          "15: 20, 10",
          "15: 20, 20",
          "15: 50, 10",
          "15: 50, 25",
          "15: 50, 50",
          "15: 100, 1",
          "15: 100, 10",
          "15: 100, 50",
          "15: 100, 100"
         ],
         "y": [
          null,
          -1.300067455899106,
          -1.223358128181628,
          -1.1239316913741553,
          -1.0607845240705989,
          -1.004638610425897,
          -0.9815280282507028,
          -0.9731414050753964,
          -0.8968524518074261,
          -0.8078688724200688
         ]
        },
        {
         "legendgroup": "use-default",
         "line": {
          "color": "#000d94"
         },
         "name": "use-default",
         "showlegend": false,
         "text": [
          "use-default<br>Topic size: 1013<br>Unknown: 179619",
          "use-default<br>Topic size: 637<br>Unknown: 176330",
          "use-default<br>Topic size: 471<br>Unknown: 169874",
          "use-default<br>Topic size: 297<br>Unknown: 150140",
          "use-default<br>Topic size: 252<br>Unknown: 151859",
          "use-default<br>Topic size: 206<br>Unknown: 139269",
          "use-default<br>Topic size: 224<br>Unknown: 132618",
          "use-default<br>Topic size: 183<br>Unknown: 143406",
          "use-default<br>Topic size: 147<br>Unknown: 144270",
          "use-default<br>Topic size: 117<br>Unknown: 138515"
         ],
         "type": "scatter",
         "x": [
          "20: 10, 10",
          "20: 20, 10",
          "20: 20, 20",
          "20: 50, 10",
          "20: 50, 25",
          "20: 50, 50",
          "20: 100, 1",
          "20: 100, 10",
          "20: 100, 50",
          "20: 100, 100"
         ],
         "y": [
          null,
          -1.2832249706508845,
          -1.2202410307540124,
          -1.0743981629858803,
          -1.0579245690448336,
          -1.0086474944329498,
          -0.9358978997317282,
          -0.941542021745489,
          -0.8854790147734876,
          -0.8395335711790337
         ]
        },
        {
         "legendgroup": "use-lexrank-top1",
         "line": {
          "color": "#0017d1"
         },
         "name": "use-lexrank-top1",
         "showlegend": true,
         "text": [
          "use-lexrank-top1<br>Topic size: 1024<br>Unknown: 176210",
          "use-lexrank-top1<br>Topic size: 621<br>Unknown: 169745",
          "use-lexrank-top1<br>Topic size: 463<br>Unknown: 151009",
          "use-lexrank-top1<br>Topic size: 349<br>Unknown: 163865",
          "use-lexrank-top1<br>Topic size: 258<br>Unknown: 141003",
          "use-lexrank-top1<br>Topic size: 212<br>Unknown: 140589",
          "use-lexrank-top1<br>Topic size: 270<br>Unknown: 144281",
          "use-lexrank-top1<br>Topic size: 207<br>Unknown: 154798",
          "use-lexrank-top1<br>Topic size: 156<br>Unknown: 143121",
          "use-lexrank-top1<br>Topic size: 129<br>Unknown: 137992"
         ],
         "type": "scatter",
         "x": [
          "15: 10, 10",
          "15: 20, 10",
          "15: 20, 20",
          "15: 50, 10",
          "15: 50, 25",
          "15: 50, 50",
          "15: 100, 1",
          "15: 100, 10",
          "15: 100, 50",
          "15: 100, 100"
         ],
         "y": [
          null,
          -1.3348503098169977,
          -1.177386872977535,
          -1.067942127044356,
          -0.9399649284668636,
          -0.8669243024476072,
          -0.886062410443794,
          -0.8188901905365124,
          -0.7534481497029362,
          -0.6776198560664112
         ]
        },
        {
         "legendgroup": "use-lexrank-top1",
         "line": {
          "color": "#0017d1"
         },
         "name": "use-lexrank-top1",
         "showlegend": false,
         "text": [
          "use-lexrank-top1<br>Topic size: 873<br>Unknown: 161017",
          "use-lexrank-top1<br>Topic size: 528<br>Unknown: 152389",
          "use-lexrank-top1<br>Topic size: 441<br>Unknown: 167588",
          "use-lexrank-top1<br>Topic size: 274<br>Unknown: 145308",
          "use-lexrank-top1<br>Topic size: 234<br>Unknown: 145740",
          "use-lexrank-top1<br>Topic size: 190<br>Unknown: 143712",
          "use-lexrank-top1<br>Topic size: 240<br>Unknown: 143090",
          "use-lexrank-top1<br>Topic size: 166<br>Unknown: 137125",
          "use-lexrank-top1<br>Topic size: 129<br>Unknown: 136533",
          "use-lexrank-top1<br>Topic size: 118<br>Unknown: 137751"
         ],
         "type": "scatter",
         "x": [
          "20: 10, 10",
          "20: 20, 10",
          "20: 20, 20",
          "20: 50, 10",
          "20: 50, 25",
          "20: 50, 50",
          "20: 100, 1",
          "20: 100, 10",
          "20: 100, 50",
          "20: 100, 100"
         ],
         "y": [
          -1.4247555283607394,
          -1.2291499391103204,
          -1.181737401057342,
          -0.9506025699690284,
          -0.9033279602842852,
          -0.8626631076248712,
          -0.8267726888391432,
          -0.7408515127664193,
          -0.6704043467990448,
          -0.6298271823437928
         ]
        },
        {
         "legendgroup": "use-lexrank-top5",
         "line": {
          "color": "#001ef7"
         },
         "name": "use-lexrank-top5",
         "showlegend": true,
         "text": [
          "use-lexrank-top5<br>Topic size: 1107<br>Unknown: 160424",
          "use-lexrank-top5<br>Topic size: 676<br>Unknown: 160709",
          "use-lexrank-top5<br>Topic size: 560<br>Unknown: 157444",
          "use-lexrank-top5<br>Topic size: 372<br>Unknown: 149258",
          "use-lexrank-top5<br>Topic size: 305<br>Unknown: 133281",
          "use-lexrank-top5<br>Topic size: 276<br>Unknown: 140985",
          "use-lexrank-top5<br>Topic size: 283<br>Unknown: 131438",
          "use-lexrank-top5<br>Topic size: 230<br>Unknown: 142580",
          "use-lexrank-top5<br>Topic size: 189<br>Unknown: 135696",
          "use-lexrank-top5<br>Topic size: 159<br>Unknown: 137316"
         ],
         "type": "scatter",
         "x": [
          "15: 10, 10",
          "15: 20, 10",
          "15: 20, 20",
          "15: 50, 10",
          "15: 50, 25",
          "15: 50, 50",
          "15: 100, 1",
          "15: 100, 10",
          "15: 100, 50",
          "15: 100, 100"
         ],
         "y": [
          null,
          -1.3557741977408413,
          -1.2797936905949467,
          -1.138726274118392,
          -1.072587208114967,
          -1.0211966324305717,
          -0.9799093535717586,
          -0.9659014452518953,
          -0.8898121749061291,
          -0.8281452547875614
         ]
        },
        {
         "legendgroup": "use-lexrank-top5",
         "line": {
          "color": "#001ef7"
         },
         "name": "use-lexrank-top5",
         "showlegend": false,
         "text": [
          "use-lexrank-top5<br>Topic size: 1010<br>Unknown: 165575",
          "use-lexrank-top5<br>Topic size: 674<br>Unknown: 166743",
          "use-lexrank-top5<br>Topic size: 546<br>Unknown: 160540",
          "use-lexrank-top5<br>Topic size: 352<br>Unknown: 151167",
          "use-lexrank-top5<br>Topic size: 312<br>Unknown: 147368",
          "use-lexrank-top5<br>Topic size: 273<br>Unknown: 147209",
          "use-lexrank-top5<br>Topic size: 289<br>Unknown: 140051",
          "use-lexrank-top5<br>Topic size: 228<br>Unknown: 151085",
          "use-lexrank-top5<br>Topic size: 177<br>Unknown: 139598",
          "use-lexrank-top5<br>Topic size: 145<br>Unknown: 138498"
         ],
         "type": "scatter",
         "x": [
          "20: 10, 10",
          "20: 20, 10",
          "20: 20, 20",
          "20: 50, 10",
          "20: 50, 25",
          "20: 50, 50",
          "20: 100, 1",
          "20: 100, 10",
          "20: 100, 50",
          "20: 100, 100"
         ],
         "y": [
          null,
          -1.3465506746204343,
          -1.254143010675626,
          -1.1089644706856734,
          -1.074116028539678,
          -1.0158358940506826,
          -0.9993412494133476,
          -0.9592408192941956,
          -0.856730321917961,
          -0.7872727488367759
         ]
        },
        {
         "legendgroup": "use-lexrank-weighted",
         "line": {
          "color": "#691fff"
         },
         "name": "use-lexrank-weighted",
         "showlegend": true,
         "text": [
          "use-lexrank-weighted<br>Topic size: 1023<br>Unknown: 165425",
          "use-lexrank-weighted<br>Topic size: 642<br>Unknown: 163991",
          "use-lexrank-weighted<br>Topic size: 519<br>Unknown: 160937",
          "use-lexrank-weighted<br>Topic size: 316<br>Unknown: 152270",
          "use-lexrank-weighted<br>Topic size: 265<br>Unknown: 144103",
          "use-lexrank-weighted<br>Topic size: 243<br>Unknown: 153640",
          "use-lexrank-weighted<br>Topic size: 248<br>Unknown: 140402",
          "use-lexrank-weighted<br>Topic size: 197<br>Unknown: 147651",
          "use-lexrank-weighted<br>Topic size: 161<br>Unknown: 146824",
          "use-lexrank-weighted<br>Topic size: 146<br>Unknown: 147573"
         ],
         "type": "scatter",
         "x": [
          "15: 10, 10",
          "15: 20, 10",
          "15: 20, 20",
          "15: 50, 10",
          "15: 50, 25",
          "15: 50, 50",
          "15: 100, 1",
          "15: 100, 10",
          "15: 100, 50",
          "15: 100, 100"
         ],
         "y": [
          null,
          -1.264545068930092,
          -1.231039985033233,
          -1.0604055890872357,
          -1.0234084003118498,
          -1.0080271215858194,
          -0.971788752671516,
          -0.9309439085251564,
          -0.8785905311812297,
          -0.865587195427879
         ]
        },
        {
         "legendgroup": "use-lexrank-weighted",
         "line": {
          "color": "#691fff"
         },
         "name": "use-lexrank-weighted",
         "showlegend": false,
         "text": [
          "use-lexrank-weighted<br>Topic size: 958<br>Unknown: 170818",
          "use-lexrank-weighted<br>Topic size: 567<br>Unknown: 159346",
          "use-lexrank-weighted<br>Topic size: 477<br>Unknown: 163184",
          "use-lexrank-weighted<br>Topic size: 301<br>Unknown: 152277",
          "use-lexrank-weighted<br>Topic size: 251<br>Unknown: 147466",
          "use-lexrank-weighted<br>Topic size: 237<br>Unknown: 154875",
          "use-lexrank-weighted<br>Topic size: 238<br>Unknown: 139242",
          "use-lexrank-weighted<br>Topic size: 186<br>Unknown: 148863",
          "use-lexrank-weighted<br>Topic size: 158<br>Unknown: 153003",
          "use-lexrank-weighted<br>Topic size: 137<br>Unknown: 149190"
         ],
         "type": "scatter",
         "x": [
          "20: 10, 10",
          "20: 20, 10",
          "20: 20, 20",
          "20: 50, 10",
          "20: 50, 25",
          "20: 50, 50",
          "20: 100, 1",
          "20: 100, 10",
          "20: 100, 50",
          "20: 100, 100"
         ],
         "y": [
          -1.3788106329892835,
          -1.222882405327675,
          -1.1679222166883827,
          -1.048163361203984,
          -1.0097266156566262,
          -1.0103264054907704,
          -0.9348688748221958,
          -0.9250200548310432,
          -0.8819027611740081,
          -0.8195336299143416
         ]
        },
        {
         "legendgroup": "use-mean",
         "line": {
          "color": "#b11eff"
         },
         "name": "use-mean",
         "showlegend": true,
         "text": [
          "use-mean<br>Topic size: 958<br>Unknown: 175245",
          "use-mean<br>Topic size: 555<br>Unknown: 165079",
          "use-mean<br>Topic size: 442<br>Unknown: 159221",
          "use-mean<br>Topic size: 282<br>Unknown: 150523",
          "use-mean<br>Topic size: 263<br>Unknown: 153819",
          "use-mean<br>Topic size: 217<br>Unknown: 152398",
          "use-mean<br>Topic size: 208<br>Unknown: 132104",
          "use-mean<br>Topic size: 174<br>Unknown: 141971",
          "use-mean<br>Topic size: 143<br>Unknown: 143597",
          "use-mean<br>Topic size: 117<br>Unknown: 131022"
         ],
         "type": "scatter",
         "x": [
          "15: 10, 10",
          "15: 20, 10",
          "15: 20, 20",
          "15: 50, 10",
          "15: 50, 25",
          "15: 50, 50",
          "15: 100, 1",
          "15: 100, 10",
          "15: 100, 50",
          "15: 100, 100"
         ],
         "y": [
          -1.4386923100781026,
          -1.247974388958759,
          -1.1852265666438313,
          -1.0612005125265285,
          -1.0671054777378317,
          -0.9884200204175576,
          -0.8971376439022037,
          -0.9107905788492624,
          -0.8821990932543337,
          -0.7739315854086832
         ]
        },
        {
         "legendgroup": "use-mean",
         "line": {
          "color": "#b11eff"
         },
         "name": "use-mean",
         "showlegend": false,
         "text": [
          "use-mean<br>Topic size: 784<br>Unknown: 164685",
          "use-mean<br>Topic size: 478<br>Unknown: 164395",
          "use-mean<br>Topic size: 376<br>Unknown: 153545",
          "use-mean<br>Topic size: 235<br>Unknown: 144317",
          "use-mean<br>Topic size: 199<br>Unknown: 141705",
          "use-mean<br>Topic size: 182<br>Unknown: 145783",
          "use-mean<br>Topic size: 203<br>Unknown: 140046",
          "use-mean<br>Topic size: 160<br>Unknown: 147992",
          "use-mean<br>Topic size: 125<br>Unknown: 137174",
          "use-mean<br>Topic size: 111<br>Unknown: 135007"
         ],
         "type": "scatter",
         "x": [
          "20: 10, 10",
          "20: 20, 10",
          "20: 20, 20",
          "20: 50, 10",
          "20: 50, 25",
          "20: 50, 50",
          "20: 100, 1",
          "20: 100, 10",
          "20: 100, 50",
          "20: 100, 100"
         ],
         "y": [
          -1.3675477401413312,
          -1.2584027840320935,
          -1.1656185093969813,
          -1.0118646434525176,
          -0.9601082768461996,
          -0.9446470993801228,
          -0.9242532976568965,
          -0.9051256490389084,
          -0.8184367347432907,
          -0.774082495767248
         ]
        },
        {
         "legendgroup": "use-tf-idf-top5",
         "line": {
          "color": "#fc5eff"
         },
         "name": "use-tf-idf-top5",
         "showlegend": true,
         "text": [
          "use-tf-idf-top5<br>Topic size: 739<br>Unknown: 173283",
          "use-tf-idf-top5<br>Topic size: 416<br>Unknown: 160302",
          "use-tf-idf-top5<br>Topic size: 312<br>Unknown: 148997",
          "use-tf-idf-top5<br>Topic size: 222<br>Unknown: 150589",
          "use-tf-idf-top5<br>Topic size: 188<br>Unknown: 148560",
          "use-tf-idf-top5<br>Topic size: 156<br>Unknown: 146495",
          "use-tf-idf-top5<br>Topic size: 186<br>Unknown: 143857",
          "use-tf-idf-top5<br>Topic size: 130<br>Unknown: 142614",
          "use-tf-idf-top5<br>Topic size: 119<br>Unknown: 147638",
          "use-tf-idf-top5<br>Topic size: 105<br>Unknown: 148130"
         ],
         "type": "scatter",
         "x": [
          "15: 10, 10",
          "15: 20, 10",
          "15: 20, 20",
          "15: 50, 10",
          "15: 50, 25",
          "15: 50, 50",
          "15: 100, 1",
          "15: 100, 10",
          "15: 100, 50",
          "15: 100, 100"
         ],
         "y": [
          -1.325727188972364,
          -1.1446727636101826,
          -1.066525330660362,
          -0.97428888488497,
          -0.9527911239924036,
          -0.8406704395848413,
          -0.8629484929776748,
          -0.8042377382191818,
          -0.731052347879402,
          -0.7238516590546047
         ]
        },
        {
         "legendgroup": "use-tf-idf-top5",
         "line": {
          "color": "#fc5eff"
         },
         "name": "use-tf-idf-top5",
         "showlegend": false,
         "text": [
          "use-tf-idf-top5<br>Topic size: 666<br>Unknown: 184270",
          "use-tf-idf-top5<br>Topic size: 390<br>Unknown: 173755",
          "use-tf-idf-top5<br>Topic size: 309<br>Unknown: 170156",
          "use-tf-idf-top5<br>Topic size: 216<br>Unknown: 161310",
          "use-tf-idf-top5<br>Topic size: 170<br>Unknown: 152722",
          "use-tf-idf-top5<br>Topic size: 147<br>Unknown: 152042",
          "use-tf-idf-top5<br>Topic size: 149<br>Unknown: 132123",
          "use-tf-idf-top5<br>Topic size: 126<br>Unknown: 159325",
          "use-tf-idf-top5<br>Topic size: 103<br>Unknown: 144677",
          "use-tf-idf-top5<br>Topic size: 98<br>Unknown: 149071"
         ],
         "type": "scatter",
         "x": [
          "20: 10, 10",
          "20: 20, 10",
          "20: 20, 20",
          "20: 50, 10",
          "20: 50, 25",
          "20: 50, 50",
          "20: 100, 1",
          "20: 100, 10",
          "20: 100, 50",
          "20: 100, 100"
         ],
         "y": [
          -1.3481228978163011,
          -1.1632742123690436,
          -1.1205498997780037,
          -0.9633135529508456,
          -0.9244738360907804,
          -0.835001422413989,
          -0.7633361840048203,
          -0.7693121822364021,
          -0.6962481731920948,
          -0.7108296645006079
         ]
        },
        {
         "legendgroup": "use-tf-idf-weighted",
         "line": {
          "color": "#ff91ff"
         },
         "name": "use-tf-idf-weighted",
         "showlegend": true,
         "text": [
          "use-tf-idf-weighted<br>Topic size: 885<br>Unknown: 171557",
          "use-tf-idf-weighted<br>Topic size: 553<br>Unknown: 164910",
          "use-tf-idf-weighted<br>Topic size: 384<br>Unknown: 115783",
          "use-tf-idf-weighted<br>Topic size: 302<br>Unknown: 158141",
          "use-tf-idf-weighted<br>Topic size: 262<br>Unknown: 153966",
          "use-tf-idf-weighted<br>Topic size: 189<br>Unknown: 102069",
          "use-tf-idf-weighted<br>Topic size: 237<br>Unknown: 136939",
          "use-tf-idf-weighted<br>Topic size: 185<br>Unknown: 150470",
          "use-tf-idf-weighted<br>Topic size: 135<br>Unknown: 100334",
          "use-tf-idf-weighted<br>Topic size: 151<br>Unknown: 151837"
         ],
         "type": "scatter",
         "x": [
          "15: 10, 10",
          "15: 20, 10",
          "15: 20, 20",
          "15: 50, 10",
          "15: 50, 25",
          "15: 50, 50",
          "15: 100, 1",
          "15: 100, 10",
          "15: 100, 50",
          "15: 100, 100"
         ],
         "y": [
          -1.4132688010439909,
          -1.255880726205551,
          -1.107956643094979,
          -1.0637968487711746,
          -1.044705363548647,
          -0.924577090718294,
          -0.9277624325853926,
          -0.9460176954855488,
          -0.835469876589018,
          -0.8871645496437494
         ]
        },
        {
         "legendgroup": "use-tf-idf-weighted",
         "line": {
          "color": "#ff91ff"
         },
         "name": "use-tf-idf-weighted",
         "showlegend": false,
         "text": [
          "use-tf-idf-weighted<br>Topic size: 765<br>Unknown: 173416",
          "use-tf-idf-weighted<br>Topic size: 492<br>Unknown: 173609",
          "use-tf-idf-weighted<br>Topic size: 404<br>Unknown: 165925",
          "use-tf-idf-weighted<br>Topic size: 270<br>Unknown: 160523",
          "use-tf-idf-weighted<br>Topic size: 220<br>Unknown: 117088",
          "use-tf-idf-weighted<br>Topic size: 185<br>Unknown: 112144",
          "use-tf-idf-weighted<br>Topic size: 236<br>Unknown: 158101",
          "use-tf-idf-weighted<br>Topic size: 167<br>Unknown: 147824",
          "use-tf-idf-weighted<br>Topic size: 129<br>Unknown: 109917",
          "use-tf-idf-weighted<br>Topic size: 148<br>Unknown: 160908"
         ],
         "type": "scatter",
         "x": [
          "20: 10, 10",
          "20: 20, 10",
          "20: 20, 20",
          "20: 50, 10",
          "20: 50, 25",
          "20: 50, 50",
          "20: 100, 1",
          "20: 100, 10",
          "20: 100, 50",
          "20: 100, 100"
         ],
         "y": [
          -1.3407126369619249,
          -1.210312408582415,
          -1.159203356153282,
          -1.036211873256931,
          -0.9906813379512236,
          -0.9236563237750752,
          -0.9544016817711414,
          -0.8890434486435806,
          -0.8311521092170253,
          -0.8909018112073189
         ]
        }
       ],
       "layout": {
        "height": 1200,
        "template": {
         "data": {
          "bar": [
           {
            "error_x": {
             "color": "#2a3f5f"
            },
            "error_y": {
             "color": "#2a3f5f"
            },
            "marker": {
             "line": {
              "color": "#E5ECF6",
              "width": 0.5
             }
            },
            "type": "bar"
           }
          ],
          "barpolar": [
           {
            "marker": {
             "line": {
              "color": "#E5ECF6",
              "width": 0.5
             }
            },
            "type": "barpolar"
           }
          ],
          "carpet": [
           {
            "aaxis": {
             "endlinecolor": "#2a3f5f",
             "gridcolor": "white",
             "linecolor": "white",
             "minorgridcolor": "white",
             "startlinecolor": "#2a3f5f"
            },
            "baxis": {
             "endlinecolor": "#2a3f5f",
             "gridcolor": "white",
             "linecolor": "white",
             "minorgridcolor": "white",
             "startlinecolor": "#2a3f5f"
            },
            "type": "carpet"
           }
          ],
          "choropleth": [
           {
            "colorbar": {
             "outlinewidth": 0,
             "ticks": ""
            },
            "type": "choropleth"
           }
          ],
          "contour": [
           {
            "colorbar": {
             "outlinewidth": 0,
             "ticks": ""
            },
            "colorscale": [
             [
              0,
              "#0d0887"
             ],
             [
              0.1111111111111111,
              "#46039f"
             ],
             [
              0.2222222222222222,
              "#7201a8"
             ],
             [
              0.3333333333333333,
              "#9c179e"
             ],
             [
              0.4444444444444444,
              "#bd3786"
             ],
             [
              0.5555555555555556,
              "#d8576b"
             ],
             [
              0.6666666666666666,
              "#ed7953"
             ],
             [
              0.7777777777777778,
              "#fb9f3a"
             ],
             [
              0.8888888888888888,
              "#fdca26"
             ],
             [
              1,
              "#f0f921"
             ]
            ],
            "type": "contour"
           }
          ],
          "contourcarpet": [
           {
            "colorbar": {
             "outlinewidth": 0,
             "ticks": ""
            },
            "type": "contourcarpet"
           }
          ],
          "heatmap": [
           {
            "colorbar": {
             "outlinewidth": 0,
             "ticks": ""
            },
            "colorscale": [
             [
              0,
              "#0d0887"
             ],
             [
              0.1111111111111111,
              "#46039f"
             ],
             [
              0.2222222222222222,
              "#7201a8"
             ],
             [
              0.3333333333333333,
              "#9c179e"
             ],
             [
              0.4444444444444444,
              "#bd3786"
             ],
             [
              0.5555555555555556,
              "#d8576b"
             ],
             [
              0.6666666666666666,
              "#ed7953"
             ],
             [
              0.7777777777777778,
              "#fb9f3a"
             ],
             [
              0.8888888888888888,
              "#fdca26"
             ],
             [
              1,
              "#f0f921"
             ]
            ],
            "type": "heatmap"
           }
          ],
          "heatmapgl": [
           {
            "colorbar": {
             "outlinewidth": 0,
             "ticks": ""
            },
            "colorscale": [
             [
              0,
              "#0d0887"
             ],
             [
              0.1111111111111111,
              "#46039f"
             ],
             [
              0.2222222222222222,
              "#7201a8"
             ],
             [
              0.3333333333333333,
              "#9c179e"
             ],
             [
              0.4444444444444444,
              "#bd3786"
             ],
             [
              0.5555555555555556,
              "#d8576b"
             ],
             [
              0.6666666666666666,
              "#ed7953"
             ],
             [
              0.7777777777777778,
              "#fb9f3a"
             ],
             [
              0.8888888888888888,
              "#fdca26"
             ],
             [
              1,
              "#f0f921"
             ]
            ],
            "type": "heatmapgl"
           }
          ],
          "histogram": [
           {
            "marker": {
             "colorbar": {
              "outlinewidth": 0,
              "ticks": ""
             }
            },
            "type": "histogram"
           }
          ],
          "histogram2d": [
           {
            "colorbar": {
             "outlinewidth": 0,
             "ticks": ""
            },
            "colorscale": [
             [
              0,
              "#0d0887"
             ],
             [
              0.1111111111111111,
              "#46039f"
             ],
             [
              0.2222222222222222,
              "#7201a8"
             ],
             [
              0.3333333333333333,
              "#9c179e"
             ],
             [
              0.4444444444444444,
              "#bd3786"
             ],
             [
              0.5555555555555556,
              "#d8576b"
             ],
             [
              0.6666666666666666,
              "#ed7953"
             ],
             [
              0.7777777777777778,
              "#fb9f3a"
             ],
             [
              0.8888888888888888,
              "#fdca26"
             ],
             [
              1,
              "#f0f921"
             ]
            ],
            "type": "histogram2d"
           }
          ],
          "histogram2dcontour": [
           {
            "colorbar": {
             "outlinewidth": 0,
             "ticks": ""
            },
            "colorscale": [
             [
              0,
              "#0d0887"
             ],
             [
              0.1111111111111111,
              "#46039f"
             ],
             [
              0.2222222222222222,
              "#7201a8"
             ],
             [
              0.3333333333333333,
              "#9c179e"
             ],
             [
              0.4444444444444444,
              "#bd3786"
             ],
             [
              0.5555555555555556,
              "#d8576b"
             ],
             [
              0.6666666666666666,
              "#ed7953"
             ],
             [
              0.7777777777777778,
              "#fb9f3a"
             ],
             [
              0.8888888888888888,
              "#fdca26"
             ],
             [
              1,
              "#f0f921"
             ]
            ],
            "type": "histogram2dcontour"
           }
          ],
          "mesh3d": [
           {
            "colorbar": {
             "outlinewidth": 0,
             "ticks": ""
            },
            "type": "mesh3d"
           }
          ],
          "parcoords": [
           {
            "line": {
             "colorbar": {
              "outlinewidth": 0,
              "ticks": ""
             }
            },
            "type": "parcoords"
           }
          ],
          "pie": [
           {
            "automargin": true,
            "type": "pie"
           }
          ],
          "scatter": [
           {
            "marker": {
             "colorbar": {
              "outlinewidth": 0,
              "ticks": ""
             }
            },
            "type": "scatter"
           }
          ],
          "scatter3d": [
           {
            "line": {
             "colorbar": {
              "outlinewidth": 0,
              "ticks": ""
             }
            },
            "marker": {
             "colorbar": {
              "outlinewidth": 0,
              "ticks": ""
             }
            },
            "type": "scatter3d"
           }
          ],
          "scattercarpet": [
           {
            "marker": {
             "colorbar": {
              "outlinewidth": 0,
              "ticks": ""
             }
            },
            "type": "scattercarpet"
           }
          ],
          "scattergeo": [
           {
            "marker": {
             "colorbar": {
              "outlinewidth": 0,
              "ticks": ""
             }
            },
            "type": "scattergeo"
           }
          ],
          "scattergl": [
           {
            "marker": {
             "colorbar": {
              "outlinewidth": 0,
              "ticks": ""
             }
            },
            "type": "scattergl"
           }
          ],
          "scattermapbox": [
           {
            "marker": {
             "colorbar": {
              "outlinewidth": 0,
              "ticks": ""
             }
            },
            "type": "scattermapbox"
           }
          ],
          "scatterpolar": [
           {
            "marker": {
             "colorbar": {
              "outlinewidth": 0,
              "ticks": ""
             }
            },
            "type": "scatterpolar"
           }
          ],
          "scatterpolargl": [
           {
            "marker": {
             "colorbar": {
              "outlinewidth": 0,
              "ticks": ""
             }
            },
            "type": "scatterpolargl"
           }
          ],
          "scatterternary": [
           {
            "marker": {
             "colorbar": {
              "outlinewidth": 0,
              "ticks": ""
             }
            },
            "type": "scatterternary"
           }
          ],
          "surface": [
           {
            "colorbar": {
             "outlinewidth": 0,
             "ticks": ""
            },
            "colorscale": [
             [
              0,
              "#0d0887"
             ],
             [
              0.1111111111111111,
              "#46039f"
             ],
             [
              0.2222222222222222,
              "#7201a8"
             ],
             [
              0.3333333333333333,
              "#9c179e"
             ],
             [
              0.4444444444444444,
              "#bd3786"
             ],
             [
              0.5555555555555556,
              "#d8576b"
             ],
             [
              0.6666666666666666,
              "#ed7953"
             ],
             [
              0.7777777777777778,
              "#fb9f3a"
             ],
             [
              0.8888888888888888,
              "#fdca26"
             ],
             [
              1,
              "#f0f921"
             ]
            ],
            "type": "surface"
           }
          ],
          "table": [
           {
            "cells": {
             "fill": {
              "color": "#EBF0F8"
             },
             "line": {
              "color": "white"
             }
            },
            "header": {
             "fill": {
              "color": "#C8D4E3"
             },
             "line": {
              "color": "white"
             }
            },
            "type": "table"
           }
          ]
         },
         "layout": {
          "annotationdefaults": {
           "arrowcolor": "#2a3f5f",
           "arrowhead": 0,
           "arrowwidth": 1
          },
          "autotypenumbers": "strict",
          "coloraxis": {
           "colorbar": {
            "outlinewidth": 0,
            "ticks": ""
           }
          },
          "colorscale": {
           "diverging": [
            [
             0,
             "#8e0152"
            ],
            [
             0.1,
             "#c51b7d"
            ],
            [
             0.2,
             "#de77ae"
            ],
            [
             0.3,
             "#f1b6da"
            ],
            [
             0.4,
             "#fde0ef"
            ],
            [
             0.5,
             "#f7f7f7"
            ],
            [
             0.6,
             "#e6f5d0"
            ],
            [
             0.7,
             "#b8e186"
            ],
            [
             0.8,
             "#7fbc41"
            ],
            [
             0.9,
             "#4d9221"
            ],
            [
             1,
             "#276419"
            ]
           ],
           "sequential": [
            [
             0,
             "#0d0887"
            ],
            [
             0.1111111111111111,
             "#46039f"
            ],
            [
             0.2222222222222222,
             "#7201a8"
            ],
            [
             0.3333333333333333,
             "#9c179e"
            ],
            [
             0.4444444444444444,
             "#bd3786"
            ],
            [
             0.5555555555555556,
             "#d8576b"
            ],
            [
             0.6666666666666666,
             "#ed7953"
            ],
            [
             0.7777777777777778,
             "#fb9f3a"
            ],
            [
             0.8888888888888888,
             "#fdca26"
            ],
            [
             1,
             "#f0f921"
            ]
           ],
           "sequentialminus": [
            [
             0,
             "#0d0887"
            ],
            [
             0.1111111111111111,
             "#46039f"
            ],
            [
             0.2222222222222222,
             "#7201a8"
            ],
            [
             0.3333333333333333,
             "#9c179e"
            ],
            [
             0.4444444444444444,
             "#bd3786"
            ],
            [
             0.5555555555555556,
             "#d8576b"
            ],
            [
             0.6666666666666666,
             "#ed7953"
            ],
            [
             0.7777777777777778,
             "#fb9f3a"
            ],
            [
             0.8888888888888888,
             "#fdca26"
            ],
            [
             1,
             "#f0f921"
            ]
           ]
          },
          "colorway": [
           "#636efa",
           "#EF553B",
           "#00cc96",
           "#ab63fa",
           "#FFA15A",
           "#19d3f3",
           "#FF6692",
           "#B6E880",
           "#FF97FF",
           "#FECB52"
          ],
          "font": {
           "color": "#2a3f5f"
          },
          "geo": {
           "bgcolor": "white",
           "lakecolor": "white",
           "landcolor": "#E5ECF6",
           "showlakes": true,
           "showland": true,
           "subunitcolor": "white"
          },
          "hoverlabel": {
           "align": "left"
          },
          "hovermode": "closest",
          "mapbox": {
           "style": "light"
          },
          "paper_bgcolor": "white",
          "plot_bgcolor": "#E5ECF6",
          "polar": {
           "angularaxis": {
            "gridcolor": "white",
            "linecolor": "white",
            "ticks": ""
           },
           "bgcolor": "#E5ECF6",
           "radialaxis": {
            "gridcolor": "white",
            "linecolor": "white",
            "ticks": ""
           }
          },
          "scene": {
           "xaxis": {
            "backgroundcolor": "#E5ECF6",
            "gridcolor": "white",
            "gridwidth": 2,
            "linecolor": "white",
            "showbackground": true,
            "ticks": "",
            "zerolinecolor": "white"
           },
           "yaxis": {
            "backgroundcolor": "#E5ECF6",
            "gridcolor": "white",
            "gridwidth": 2,
            "linecolor": "white",
            "showbackground": true,
            "ticks": "",
            "zerolinecolor": "white"
           },
           "zaxis": {
            "backgroundcolor": "#E5ECF6",
            "gridcolor": "white",
            "gridwidth": 2,
            "linecolor": "white",
            "showbackground": true,
            "ticks": "",
            "zerolinecolor": "white"
           }
          },
          "shapedefaults": {
           "line": {
            "color": "#2a3f5f"
           }
          },
          "ternary": {
           "aaxis": {
            "gridcolor": "white",
            "linecolor": "white",
            "ticks": ""
           },
           "baxis": {
            "gridcolor": "white",
            "linecolor": "white",
            "ticks": ""
           },
           "bgcolor": "#E5ECF6",
           "caxis": {
            "gridcolor": "white",
            "linecolor": "white",
            "ticks": ""
           }
          },
          "title": {
           "x": 0.05
          },
          "xaxis": {
           "automargin": true,
           "gridcolor": "white",
           "linecolor": "white",
           "ticks": "",
           "title": {
            "standoff": 15
           },
           "zerolinecolor": "white",
           "zerolinewidth": 2
          },
          "yaxis": {
           "automargin": true,
           "gridcolor": "white",
           "linecolor": "white",
           "ticks": "",
           "title": {
            "standoff": 15
           },
           "zerolinecolor": "white",
           "zerolinewidth": 2
          }
         }
        },
        "width": 2000,
        "xaxis": {
         "categoryarray": [
          "5: 10, 10",
          "5: 20, 10",
          "5: 20, 20",
          "5: 50, 10",
          "5: 50, 25",
          "5: 50, 50",
          "5: 100, 1",
          "5: 100, 10",
          "5: 100, 50",
          "5: 100, 100",
          "10: 10, 10",
          "10: 20, 10",
          "10: 20, 20",
          "10: 50, 10",
          "10: 50, 25",
          "10: 50, 50",
          "10: 100, 1",
          "10: 100, 10",
          "10: 100, 50",
          "10: 100, 100",
          "15: 10, 10",
          "15: 20, 10",
          "15: 20, 20",
          "15: 50, 10",
          "15: 50, 25",
          "15: 50, 50",
          "15: 100, 1",
          "15: 100, 10",
          "15: 100, 50",
          "15: 100, 100",
          "20: 10, 10",
          "20: 20, 10",
          "20: 20, 20",
          "20: 50, 10",
          "20: 50, 25",
          "20: 50, 50",
          "20: 100, 1",
          "20: 100, 10",
          "20: 100, 50",
          "20: 100, 100"
         ],
         "categoryorder": "array"
        }
       }
      }
     },
     "metadata": {}
    }
   ],
   "source": [
    "plot_score('u_mass')"
   ]
  },
  {
   "cell_type": "code",
   "execution_count": 483,
   "metadata": {},
   "outputs": [
    {
     "output_type": "display_data",
     "data": {
      "application/vnd.plotly.v1+json": {
       "config": {
        "plotlyServerURL": "https://plot.ly"
       },
       "data": [
        {
         "legendgroup": "sbert-default",
         "line": {
          "color": "#660100"
         },
         "name": "sbert-default",
         "showlegend": true,
         "text": [
          "sbert-default<br>Topics: 1896<br>Unknown: 185945",
          "sbert-default<br>Topics: 971<br>Unknown: 188090",
          "sbert-default<br>Topics: 652<br>Unknown: 188320",
          "sbert-default<br>Topics: 374<br>Unknown: 182550",
          "sbert-default<br>Topics: 282<br>Unknown: 177045",
          "sbert-default<br>Topics: 222<br>Unknown: 182990",
          "sbert-default<br>Topics: 300<br>Unknown: 170080",
          "sbert-default<br>Topics: 197<br>Unknown: 181430",
          "sbert-default<br>Topics: 154<br>Unknown: 179670",
          "sbert-default<br>Topics: 119<br>Unknown: 172450"
         ],
         "type": "scatter",
         "x": [
          "5: 10, 10",
          "5: 20, 10",
          "5: 20, 20",
          "5: 50, 10",
          "5: 50, 25",
          "5: 50, 50",
          "5: 100, 1",
          "5: 100, 10",
          "5: 100, 50",
          "5: 100, 100"
         ],
         "y": [
          0.19814127943058488,
          0.18728216073101284,
          0.2546780438424191,
          0.4373496384754425,
          0.5239868178573517,
          0.4790184357129379,
          0.5724631684531866,
          0.46331306036625586,
          0.47564342711047153,
          0.49264522951444095
         ]
        },
        {
         "legendgroup": "sbert-default",
         "line": {
          "color": "#660100"
         },
         "name": "sbert-default",
         "showlegend": false,
         "text": [
          "sbert-default<br>Topics: 922<br>Unknown: 193660",
          "sbert-default<br>Topics: 503<br>Unknown: 187830",
          "sbert-default<br>Topics: 351<br>Unknown: 181750",
          "sbert-default<br>Topics: 248<br>Unknown: 183780",
          "sbert-default<br>Topics: 204<br>Unknown: 182645",
          "sbert-default<br>Topics: 177<br>Unknown: 181135",
          "sbert-default<br>Topics: 210<br>Unknown: 169805",
          "sbert-default<br>Topics: 154<br>Unknown: 182080",
          "sbert-default<br>Topics: 118<br>Unknown: 175780"
         ],
         "type": "scatter",
         "x": [
          "10: 10, 10",
          "10: 20, 10",
          "10: 20, 20",
          "10: 50, 10",
          "10: 50, 25",
          "10: 50, 50",
          "10: 100, 1",
          "10: 100, 10",
          "10: 100, 50"
         ],
         "y": [
          0.20900488842227843,
          0.3414079813342832,
          0.4526840697326501,
          0.4913718710344002,
          0.4711093736223972,
          0.48867514471227746,
          0.5161076264827605,
          0.46766310886861423,
          0.5129477192496339
         ]
        },
        {
         "legendgroup": "sbert-default",
         "line": {
          "color": "#660100"
         },
         "name": "sbert-default",
         "showlegend": false,
         "text": [
          "sbert-default<br>Topics: 738<br>Unknown: 205200",
          "sbert-default<br>Topics: 425<br>Unknown: 203275",
          "sbert-default<br>Topics: 312<br>Unknown: 198540",
          "sbert-default<br>Topics: 211<br>Unknown: 191905",
          "sbert-default<br>Topics: 146<br>Unknown: 180010",
          "sbert-default<br>Topics: 172<br>Unknown: 164975",
          "sbert-default<br>Topics: 129<br>Unknown: 185330"
         ],
         "type": "scatter",
         "x": [
          "15: 10, 10",
          "15: 20, 10",
          "15: 20, 20",
          "15: 50, 10",
          "15: 50, 50",
          "15: 100, 1",
          "15: 100, 10"
         ],
         "y": [
          0.21136588792369693,
          0.35793274362431604,
          0.49373682336309754,
          0.4836094296690032,
          0.4940679473843795,
          0.5430457090071739,
          0.4947420002273358
         ]
        },
        {
         "legendgroup": "sbert-lexrank-top1",
         "line": {
          "color": "#900300"
         },
         "name": "sbert-lexrank-top1",
         "showlegend": true,
         "text": [
          "sbert-lexrank-top1<br>Topics: 995<br>Unknown: 172310",
          "sbert-lexrank-top1<br>Topics: 568<br>Unknown: 146070",
          "sbert-lexrank-top1<br>Topics: 444<br>Unknown: 136840",
          "sbert-lexrank-top1<br>Topics: 292<br>Unknown: 139400",
          "sbert-lexrank-top1<br>Topics: 251<br>Unknown: 132910",
          "sbert-lexrank-top1<br>Topics: 214<br>Unknown: 134730",
          "sbert-lexrank-top1<br>Topics: 285<br>Unknown: 146610",
          "sbert-lexrank-top1<br>Topics: 182<br>Unknown: 135615",
          "sbert-lexrank-top1<br>Topics: 141<br>Unknown: 119045",
          "sbert-lexrank-top1<br>Topics: 127<br>Unknown: 117995"
         ],
         "type": "scatter",
         "x": [
          "15: 10, 10",
          "15: 20, 10",
          "15: 20, 20",
          "15: 50, 10",
          "15: 50, 25",
          "15: 50, 50",
          "15: 100, 1",
          "15: 100, 10",
          "15: 100, 50",
          "15: 100, 100"
         ],
         "y": [
          0.16461530425744714,
          0.3590714294755952,
          0.44588791391577565,
          0.5779879539577598,
          0.5670344076608202,
          0.5515898242264681,
          0.5530494965673101,
          0.5515726199785789,
          0.5981345623429228,
          0.5980997854627316
         ]
        },
        {
         "legendgroup": "sbert-lexrank-top1",
         "line": {
          "color": "#900300"
         },
         "name": "sbert-lexrank-top1",
         "showlegend": false,
         "text": [
          "sbert-lexrank-top1<br>Topics: 905<br>Unknown: 174548",
          "sbert-lexrank-top1<br>Topics: 582<br>Unknown: 170249",
          "sbert-lexrank-top1<br>Topics: 390<br>Unknown: 141916",
          "sbert-lexrank-top1<br>Topics: 313<br>Unknown: 166167",
          "sbert-lexrank-top1<br>Topics: 218<br>Unknown: 130313",
          "sbert-lexrank-top1<br>Topics: 175<br>Unknown: 119157",
          "sbert-lexrank-top1<br>Topics: 265<br>Unknown: 151123",
          "sbert-lexrank-top1<br>Topics: 210<br>Unknown: 158513",
          "sbert-lexrank-top1<br>Topics: 132<br>Unknown: 126116",
          "sbert-lexrank-top1<br>Topics: 122<br>Unknown: 125570"
         ],
         "type": "scatter",
         "x": [
          "20: 10, 10",
          "20: 20, 10",
          "20: 20, 20",
          "20: 50, 10",
          "20: 50, 25",
          "20: 50, 50",
          "20: 100, 1",
          "20: 100, 10",
          "20: 100, 50",
          "20: 100, 100"
         ],
         "y": [
          0.18182754415592223,
          0.28137162456662995,
          0.465934983164215,
          0.4994843446910452,
          0.5471061508441198,
          0.5739612675724324,
          0.5255156987316578,
          0.49612707971713244,
          0.5693570024084823,
          0.5696884332517649
         ]
        },
        {
         "legendgroup": "sbert-lexrank-top5",
         "line": {
          "color": "#bb0600"
         },
         "name": "sbert-lexrank-top5",
         "showlegend": true,
         "text": [
          "sbert-lexrank-top5<br>Topics: 2140<br>Unknown: 161096",
          "sbert-lexrank-top5<br>Topics: 1131<br>Unknown: 153871",
          "sbert-lexrank-top5<br>Topics: 836<br>Unknown: 150101",
          "sbert-lexrank-top5<br>Topics: 498<br>Unknown: 142758",
          "sbert-lexrank-top5<br>Topics: 433<br>Unknown: 148144",
          "sbert-lexrank-top5<br>Topics: 333<br>Unknown: 135451",
          "sbert-lexrank-top5<br>Topics: 369<br>Unknown: 124453",
          "sbert-lexrank-top5<br>Topics: 297<br>Unknown: 134392",
          "sbert-lexrank-top5<br>Topics: 203<br>Unknown: 111536",
          "sbert-lexrank-top5<br>Topics: 199<br>Unknown: 131812"
         ],
         "type": "scatter",
         "x": [
          "5: 10, 10",
          "5: 20, 10",
          "5: 20, 20",
          "5: 50, 10",
          "5: 50, 25",
          "5: 50, 50",
          "5: 100, 1",
          "5: 100, 10",
          "5: 100, 50",
          "5: 100, 100"
         ],
         "y": [
          0.27700871818305706,
          0.34566845595040413,
          0.3197725577375435,
          0.4682245600145125,
          0.47247822316946425,
          0.597712912028652,
          0.6170944381303213,
          0.6522009771123141,
          0.6535961664910099,
          0.6083997502720065
         ]
        },
        {
         "legendgroup": "sbert-lexrank-top5",
         "line": {
          "color": "#bb0600"
         },
         "name": "sbert-lexrank-top5",
         "showlegend": false,
         "text": [
          "sbert-lexrank-top5<br>Topics: 1333<br>Unknown: 169948",
          "sbert-lexrank-top5<br>Topics: 788<br>Unknown: 163483",
          "sbert-lexrank-top5<br>Topics: 606<br>Unknown: 151789",
          "sbert-lexrank-top5<br>Topics: 387<br>Unknown: 148930",
          "sbert-lexrank-top5<br>Topics: 358<br>Unknown: 157413",
          "sbert-lexrank-top5<br>Topics: 297<br>Unknown: 143972",
          "sbert-lexrank-top5<br>Topics: 295<br>Unknown: 129452",
          "sbert-lexrank-top5<br>Topics: 230<br>Unknown: 139647",
          "sbert-lexrank-top5<br>Topics: 183<br>Unknown: 123162",
          "sbert-lexrank-top5<br>Topics: 161<br>Unknown: 117952"
         ],
         "type": "scatter",
         "x": [
          "10: 10, 10",
          "10: 20, 10",
          "10: 20, 20",
          "10: 50, 10",
          "10: 50, 25",
          "10: 50, 50",
          "10: 100, 1",
          "10: 100, 10",
          "10: 100, 50",
          "10: 100, 100"
         ],
         "y": [
          0.31230479537824046,
          0.3147813049401062,
          0.3935144628860384,
          0.5246462184356167,
          0.5177946542357064,
          0.6202596898868535,
          0.6709128954792091,
          0.6084298865481848,
          0.6337011184309507,
          0.6338259372374887
         ]
        },
        {
         "legendgroup": "sbert-lexrank-top5",
         "line": {
          "color": "#bb0600"
         },
         "name": "sbert-lexrank-top5",
         "showlegend": false,
         "text": [
          "sbert-lexrank-top5<br>Topics: 1132<br>Unknown: 180465",
          "sbert-lexrank-top5<br>Topics: 696<br>Unknown: 173951",
          "sbert-lexrank-top5<br>Topics: 563<br>Unknown: 166568",
          "sbert-lexrank-top5<br>Topics: 365<br>Unknown: 157272",
          "sbert-lexrank-top5<br>Topics: 323<br>Unknown: 156678",
          "sbert-lexrank-top5<br>Topics: 245<br>Unknown: 141331",
          "sbert-lexrank-top5<br>Topics: 295<br>Unknown: 146673",
          "sbert-lexrank-top5<br>Topics: 206<br>Unknown: 141583",
          "sbert-lexrank-top5<br>Topics: 182<br>Unknown: 134081",
          "sbert-lexrank-top5<br>Topics: 149<br>Unknown: 123281"
         ],
         "type": "scatter",
         "x": [
          "15: 10, 10",
          "15: 20, 10",
          "15: 20, 20",
          "15: 50, 10",
          "15: 50, 25",
          "15: 50, 50",
          "15: 100, 1",
          "15: 100, 10",
          "15: 100, 50",
          "15: 100, 100"
         ],
         "y": [
          0.281229691405402,
          0.33532038084364835,
          0.3773990546282866,
          0.5450119621835091,
          0.5764706874692919,
          0.6067339678056214,
          0.6059025449969058,
          0.6075698208528828,
          0.6154499772129999,
          0.6253908402590023
         ]
        },
        {
         "legendgroup": "sbert-lexrank-top5",
         "line": {
          "color": "#bb0600"
         },
         "name": "sbert-lexrank-top5",
         "showlegend": false,
         "text": [
          "sbert-lexrank-top5<br>Topics: 1019<br>Unknown: 174684",
          "sbert-lexrank-top5<br>Topics: 640<br>Unknown: 171719",
          "sbert-lexrank-top5<br>Topics: 495<br>Unknown: 167793",
          "sbert-lexrank-top5<br>Topics: 330<br>Unknown: 158205",
          "sbert-lexrank-top5<br>Topics: 282<br>Unknown: 143166",
          "sbert-lexrank-top5<br>Topics: 227<br>Unknown: 127898",
          "sbert-lexrank-top5<br>Topics: 265<br>Unknown: 144576",
          "sbert-lexrank-top5<br>Topics: 204<br>Unknown: 144744",
          "sbert-lexrank-top5<br>Topics: 166<br>Unknown: 122429",
          "sbert-lexrank-top5<br>Topics: 146<br>Unknown: 116951"
         ],
         "type": "scatter",
         "x": [
          "20: 10, 10",
          "20: 20, 10",
          "20: 20, 20",
          "20: 50, 10",
          "20: 50, 25",
          "20: 50, 50",
          "20: 100, 1",
          "20: 100, 10",
          "20: 100, 50",
          "20: 100, 100"
         ],
         "y": [
          0.3150630723982189,
          0.3322528311987361,
          0.40285974252523815,
          0.5584276727567727,
          0.6303547224507111,
          0.6430255711137193,
          0.6171566134524282,
          0.5843165472196267,
          0.6481189016104356,
          0.6273239352599342
         ]
        },
        {
         "legendgroup": "sbert-lexrank-weighted",
         "line": {
          "color": "#e81000"
         },
         "name": "sbert-lexrank-weighted",
         "showlegend": true,
         "text": [
          "sbert-lexrank-weighted<br>Topics: 2215<br>Unknown: 155735",
          "sbert-lexrank-weighted<br>Topics: 1169<br>Unknown: 145094",
          "sbert-lexrank-weighted<br>Topics: 881<br>Unknown: 145665",
          "sbert-lexrank-weighted<br>Topics: 512<br>Unknown: 134962",
          "sbert-lexrank-weighted<br>Topics: 396<br>Unknown: 134052",
          "sbert-lexrank-weighted<br>Topics: 320<br>Unknown: 137559",
          "sbert-lexrank-weighted<br>Topics: 361<br>Unknown: 124682",
          "sbert-lexrank-weighted<br>Topics: 271<br>Unknown: 132201",
          "sbert-lexrank-weighted<br>Topics: 201<br>Unknown: 123010",
          "sbert-lexrank-weighted<br>Topics: 169<br>Unknown: 129006"
         ],
         "type": "scatter",
         "x": [
          "5: 10, 10",
          "5: 20, 10",
          "5: 20, 20",
          "5: 50, 10",
          "5: 50, 25",
          "5: 50, 50",
          "5: 100, 1",
          "5: 100, 10",
          "5: 100, 50",
          "5: 100, 100"
         ],
         "y": [
          0.3927816352854205,
          0.44871921267574844,
          0.40572260989040665,
          0.5354314908390665,
          0.6109864669066766,
          0.6717709595231258,
          0.667884826278431,
          0.6892185955416124,
          0.6786492600604527,
          0.6589834324895918
         ]
        },
        {
         "legendgroup": "sbert-lexrank-weighted",
         "line": {
          "color": "#e81000"
         },
         "name": "sbert-lexrank-weighted",
         "showlegend": false,
         "text": [
          "sbert-lexrank-weighted<br>Topics: 1293<br>Unknown: 170935",
          "sbert-lexrank-weighted<br>Topics: 729<br>Unknown: 162427",
          "sbert-lexrank-weighted<br>Topics: 574<br>Unknown: 161807",
          "sbert-lexrank-weighted<br>Topics: 365<br>Unknown: 155211",
          "sbert-lexrank-weighted<br>Topics: 312<br>Unknown: 151126",
          "sbert-lexrank-weighted<br>Topics: 247<br>Unknown: 144339",
          "sbert-lexrank-weighted<br>Topics: 274<br>Unknown: 130600",
          "sbert-lexrank-weighted<br>Topics: 201<br>Unknown: 135032",
          "sbert-lexrank-weighted<br>Topics: 163<br>Unknown: 136181",
          "sbert-lexrank-weighted<br>Topics: 126<br>Unknown: 110932"
         ],
         "type": "scatter",
         "x": [
          "10: 10, 10",
          "10: 20, 10",
          "10: 20, 20",
          "10: 50, 10",
          "10: 50, 25",
          "10: 50, 50",
          "10: 100, 1",
          "10: 100, 10",
          "10: 100, 50",
          "10: 100, 100"
         ],
         "y": [
          0.3836179604609957,
          0.40376684666680207,
          0.44701563221698026,
          0.5858206430209878,
          0.6506243882609901,
          0.650375522306259,
          0.6943925503485397,
          0.6525128934173503,
          0.6461144425998777,
          0.7133752231764025
         ]
        },
        {
         "legendgroup": "sbert-lexrank-weighted",
         "line": {
          "color": "#e81000"
         },
         "name": "sbert-lexrank-weighted",
         "showlegend": false,
         "text": [
          "sbert-lexrank-weighted<br>Topics: 1048<br>Unknown: 176046",
          "sbert-lexrank-weighted<br>Topics: 658<br>Unknown: 177833",
          "sbert-lexrank-weighted<br>Topics: 494<br>Unknown: 165271",
          "sbert-lexrank-weighted<br>Topics: 338<br>Unknown: 166685",
          "sbert-lexrank-weighted<br>Topics: 286<br>Unknown: 161399",
          "sbert-lexrank-weighted<br>Topics: 228<br>Unknown: 156457",
          "sbert-lexrank-weighted<br>Topics: 214<br>Unknown: 120597",
          "sbert-lexrank-weighted<br>Topics: 172<br>Unknown: 137225",
          "sbert-lexrank-weighted<br>Topics: 155<br>Unknown: 141932",
          "sbert-lexrank-weighted<br>Topics: 125<br>Unknown: 132242"
         ],
         "type": "scatter",
         "x": [
          "15: 10, 10",
          "15: 20, 10",
          "15: 20, 20",
          "15: 50, 10",
          "15: 50, 25",
          "15: 50, 50",
          "15: 100, 1",
          "15: 100, 10",
          "15: 100, 50",
          "15: 100, 100"
         ],
         "y": [
          0.38175024431024324,
          0.38507368672262676,
          0.4725785458714784,
          0.5858319883659204,
          0.6256443505284414,
          0.6072701791928798,
          0.713204104431153,
          0.6522408615810462,
          0.6410413607460452,
          0.6736535082733269
         ]
        },
        {
         "legendgroup": "sbert-lexrank-weighted",
         "line": {
          "color": "#e81000"
         },
         "name": "sbert-lexrank-weighted",
         "showlegend": false,
         "text": [
          "sbert-lexrank-weighted<br>Topics: 958<br>Unknown: 183047",
          "sbert-lexrank-weighted<br>Topics: 570<br>Unknown: 170576",
          "sbert-lexrank-weighted<br>Topics: 428<br>Unknown: 160220",
          "sbert-lexrank-weighted<br>Topics: 308<br>Unknown: 155995",
          "sbert-lexrank-weighted<br>Topics: 236<br>Unknown: 146632",
          "sbert-lexrank-weighted<br>Topics: 210<br>Unknown: 152949",
          "sbert-lexrank-weighted<br>Topics: 219<br>Unknown: 134265",
          "sbert-lexrank-weighted<br>Topics: 174<br>Unknown: 148987",
          "sbert-lexrank-weighted<br>Topics: 136<br>Unknown: 137453",
          "sbert-lexrank-weighted<br>Topics: 128<br>Unknown: 146128"
         ],
         "type": "scatter",
         "x": [
          "20: 10, 10",
          "20: 20, 10",
          "20: 20, 20",
          "20: 50, 10",
          "20: 50, 25",
          "20: 50, 50",
          "20: 100, 1",
          "20: 100, 10",
          "20: 100, 50",
          "20: 100, 100"
         ],
         "y": [
          0.3087867783007751,
          0.4274883316148563,
          0.5342909101601003,
          0.6567092465004682,
          0.6387052669773204,
          0.6003426667608162,
          0.6657362951353861,
          0.6101389343492843,
          0.6511478950650429,
          0.6183917675795947
         ]
        },
        {
         "legendgroup": "sbert-mean",
         "line": {
          "color": "#fd5100"
         },
         "name": "sbert-mean",
         "showlegend": true,
         "text": [
          "sbert-mean<br>Topics: 2062<br>Unknown: 151790",
          "sbert-mean<br>Topics: 1063<br>Unknown: 141618",
          "sbert-mean<br>Topics: 814<br>Unknown: 152206",
          "sbert-mean<br>Topics: 471<br>Unknown: 138952",
          "sbert-mean<br>Topics: 379<br>Unknown: 139983",
          "sbert-mean<br>Topics: 306<br>Unknown: 137669",
          "sbert-mean<br>Topics: 290<br>Unknown: 108633",
          "sbert-mean<br>Topics: 251<br>Unknown: 129211",
          "sbert-mean<br>Topics: 189<br>Unknown: 130519",
          "sbert-mean<br>Topics: 159<br>Unknown: 130629"
         ],
         "type": "scatter",
         "x": [
          "5: 10, 10",
          "5: 20, 10",
          "5: 20, 20",
          "5: 50, 10",
          "5: 50, 25",
          "5: 50, 50",
          "5: 100, 1",
          "5: 100, 10",
          "5: 100, 50",
          "5: 100, 100"
         ],
         "y": [
          0.4168677900001312,
          0.48245924587916744,
          0.4061092879126653,
          0.5598394507983149,
          0.6097397381596307,
          0.6998567822310385,
          0.7736394570414346,
          0.6832808864350908,
          0.6575715093770342,
          0.6501251141582925
         ]
        },
        {
         "legendgroup": "sbert-mean",
         "line": {
          "color": "#fd5100"
         },
         "name": "sbert-mean",
         "showlegend": false,
         "text": [
          "sbert-mean<br>Topics: 1169<br>Unknown: 168708",
          "sbert-mean<br>Topics: 701<br>Unknown: 166099",
          "sbert-mean<br>Topics: 508<br>Unknown: 151029",
          "sbert-mean<br>Topics: 330<br>Unknown: 144545",
          "sbert-mean<br>Topics: 279<br>Unknown: 145866",
          "sbert-mean<br>Topics: 227<br>Unknown: 141800",
          "sbert-mean<br>Topics: 266<br>Unknown: 134045",
          "sbert-mean<br>Topics: 187<br>Unknown: 138033",
          "sbert-mean<br>Topics: 161<br>Unknown: 134920",
          "sbert-mean<br>Topics: 127<br>Unknown: 119106"
         ],
         "type": "scatter",
         "x": [
          "10: 10, 10",
          "10: 20, 10",
          "10: 20, 20",
          "10: 50, 10",
          "10: 50, 25",
          "10: 50, 50",
          "10: 100, 1",
          "10: 100, 10",
          "10: 100, 50",
          "10: 100, 100"
         ],
         "y": [
          0.4173200761917711,
          0.4176511864011497,
          0.5104274725005521,
          0.6674327250336194,
          0.6700086149774189,
          0.6446316233187583,
          0.6854708373522057,
          0.6491878507987795,
          0.6511879539641283,
          0.6892925586906594
         ]
        },
        {
         "legendgroup": "sbert-mean",
         "line": {
          "color": "#fd5100"
         },
         "name": "sbert-mean",
         "showlegend": false,
         "text": [
          "sbert-mean<br>Topics: 911<br>Unknown: 169715",
          "sbert-mean<br>Topics: 553<br>Unknown: 165919",
          "sbert-mean<br>Topics: 477<br>Unknown: 172864",
          "sbert-mean<br>Topics: 263<br>Unknown: 145584",
          "sbert-mean<br>Topics: 230<br>Unknown: 143620",
          "sbert-mean<br>Topics: 185<br>Unknown: 137601",
          "sbert-mean<br>Topics: 212<br>Unknown: 128240",
          "sbert-mean<br>Topics: 161<br>Unknown: 134317",
          "sbert-mean<br>Topics: 141<br>Unknown: 135507",
          "sbert-mean<br>Topics: 117<br>Unknown: 125059"
         ],
         "type": "scatter",
         "x": [
          "15: 10, 10",
          "15: 20, 10",
          "15: 20, 20",
          "15: 50, 10",
          "15: 50, 25",
          "15: 50, 50",
          "15: 100, 1",
          "15: 100, 10",
          "15: 100, 50",
          "15: 100, 100"
         ],
         "y": [
          0.35872659421849884,
          0.46277575083154143,
          0.4621070715958384,
          0.6681508900899658,
          0.6370580230186216,
          0.656755207883001,
          0.6908854724072381,
          0.6683879107068785,
          0.6504182641796792,
          0.6884226965869183
         ]
        },
        {
         "legendgroup": "sbert-mean",
         "line": {
          "color": "#fd5100"
         },
         "name": "sbert-mean",
         "showlegend": false,
         "text": [
          "sbert-mean<br>Topics: 857<br>Unknown: 180243",
          "sbert-mean<br>Topics: 515<br>Unknown: 164058",
          "sbert-mean<br>Topics: 403<br>Unknown: 161256",
          "sbert-mean<br>Topics: 276<br>Unknown: 159503",
          "sbert-mean<br>Topics: 226<br>Unknown: 151423",
          "sbert-mean<br>Topics: 190<br>Unknown: 146848",
          "sbert-mean<br>Topics: 212<br>Unknown: 133421",
          "sbert-mean<br>Topics: 157<br>Unknown: 140080",
          "sbert-mean<br>Topics: 130<br>Unknown: 137358",
          "sbert-mean<br>Topics: 121<br>Unknown: 137663"
         ],
         "type": "scatter",
         "x": [
          "20: 10, 10",
          "20: 20, 10",
          "20: 20, 20",
          "20: 50, 10",
          "20: 50, 25",
          "20: 50, 50",
          "20: 100, 1",
          "20: 100, 10",
          "20: 100, 50",
          "20: 100, 100"
         ],
         "y": [
          0.3359732714483291,
          0.4759829001912988,
          0.5387371470248066,
          0.6276791497062475,
          0.6296203337496573,
          0.6343824751162358,
          0.6692561868586241,
          0.6538856432069001,
          0.6593513836547853,
          0.6601318458371418
         ]
        },
        {
         "legendgroup": "sbert-tf-idf-top1",
         "line": {
          "color": "#ff8700"
         },
         "name": "sbert-tf-idf-top1",
         "showlegend": true,
         "text": [
          "sbert-tf-idf-top1<br>Topics: 1302<br>Unknown: 162583",
          "sbert-tf-idf-top1<br>Topics: 752<br>Unknown: 159697",
          "sbert-tf-idf-top1<br>Topics: 566<br>Unknown: 161029",
          "sbert-tf-idf-top1<br>Topics: 326<br>Unknown: 158131",
          "sbert-tf-idf-top1<br>Topics: 273<br>Unknown: 162760",
          "sbert-tf-idf-top1<br>Topics: 232<br>Unknown: 157454",
          "sbert-tf-idf-top1<br>Topics: 261<br>Unknown: 155372",
          "sbert-tf-idf-top1<br>Topics: 169<br>Unknown: 142025",
          "sbert-tf-idf-top1<br>Topics: 129<br>Unknown: 138937",
          "sbert-tf-idf-top1<br>Topics: 103<br>Unknown: 133838"
         ],
         "type": "scatter",
         "x": [
          "15: 10, 10",
          "15: 20, 10",
          "15: 20, 20",
          "15: 50, 10",
          "15: 50, 25",
          "15: 50, 50",
          "15: 100, 1",
          "15: 100, 10",
          "15: 100, 50",
          "15: 100, 100"
         ],
         "y": [
          0.1949018294961018,
          0.209767403118251,
          0.2663264002925933,
          0.4710951551180128,
          0.4670643697059962,
          0.4763393299698494,
          0.4933995376388038,
          0.5018162608454835,
          0.5095241565876889,
          0.540411265136993
         ]
        },
        {
         "legendgroup": "sbert-tf-idf-top1",
         "line": {
          "color": "#ff8700"
         },
         "name": "sbert-tf-idf-top1",
         "showlegend": false,
         "text": [
          "sbert-tf-idf-top1<br>Topics: 1288<br>Unknown: 190075",
          "sbert-tf-idf-top1<br>Topics: 665<br>Unknown: 163287",
          "sbert-tf-idf-top1<br>Topics: 511<br>Unknown: 161868",
          "sbert-tf-idf-top1<br>Topics: 296<br>Unknown: 159825",
          "sbert-tf-idf-top1<br>Topics: 245<br>Unknown: 160002",
          "sbert-tf-idf-top1<br>Topics: 220<br>Unknown: 161647",
          "sbert-tf-idf-top1<br>Topics: 144<br>Unknown: 142227",
          "sbert-tf-idf-top1<br>Topics: 136<br>Unknown: 152855",
          "sbert-tf-idf-top1<br>Topics: 108<br>Unknown: 144273"
         ],
         "type": "scatter",
         "x": [
          "20: 10, 10",
          "20: 20, 10",
          "20: 20, 20",
          "20: 50, 10",
          "20: 50, 25",
          "20: 50, 50",
          "20: 100, 10",
          "20: 100, 50",
          "20: 100, 100"
         ],
         "y": [
          0.09375721595957277,
          0.22687866428496045,
          0.2848120347414493,
          0.5146131249749676,
          0.475150394662729,
          0.46044861718196395,
          0.5042818589534318,
          0.4816274242507983,
          0.5105403595960746
         ]
        },
        {
         "legendgroup": "sbert-tf-idf-top5",
         "line": {
          "color": "#ffb402"
         },
         "name": "sbert-tf-idf-top5",
         "showlegend": true,
         "text": [
          "sbert-tf-idf-top5<br>Topics: 1751<br>Unknown: 170864",
          "sbert-tf-idf-top5<br>Topics: 922<br>Unknown: 165115",
          "sbert-tf-idf-top5<br>Topics: 671<br>Unknown: 171853",
          "sbert-tf-idf-top5<br>Topics: 379<br>Unknown: 151077",
          "sbert-tf-idf-top5<br>Topics: 327<br>Unknown: 165330",
          "sbert-tf-idf-top5<br>Topics: 258<br>Unknown: 162205",
          "sbert-tf-idf-top5<br>Topics: 284<br>Unknown: 134862",
          "sbert-tf-idf-top5<br>Topics: 208<br>Unknown: 149433",
          "sbert-tf-idf-top5<br>Topics: 168<br>Unknown: 155491",
          "sbert-tf-idf-top5<br>Topics: 99<br>Unknown: 84934"
         ],
         "type": "scatter",
         "x": [
          "5: 10, 10",
          "5: 20, 10",
          "5: 20, 20",
          "5: 50, 10",
          "5: 50, 25",
          "5: 50, 50",
          "5: 100, 1",
          "5: 100, 10",
          "5: 100, 50",
          "5: 100, 100"
         ],
         "y": [
          0.3124866302444685,
          0.3037608048540132,
          0.35457691962795684,
          0.5615316931907942,
          0.5762457332913646,
          0.5694757157070585,
          0.681406831313314,
          0.5913489996080517,
          0.5640594638215021,
          0.7331097225887712
         ]
        },
        {
         "legendgroup": "sbert-tf-idf-top5",
         "line": {
          "color": "#ffb402"
         },
         "name": "sbert-tf-idf-top5",
         "showlegend": false,
         "text": [
          "sbert-tf-idf-top5<br>Topics: 956<br>Unknown: 183206",
          "sbert-tf-idf-top5<br>Topics: 521<br>Unknown: 170760",
          "sbert-tf-idf-top5<br>Topics: 403<br>Unknown: 171946",
          "sbert-tf-idf-top5<br>Topics: 278<br>Unknown: 164865",
          "sbert-tf-idf-top5<br>Topics: 231<br>Unknown: 160668",
          "sbert-tf-idf-top5<br>Topics: 205<br>Unknown: 159403",
          "sbert-tf-idf-top5<br>Topics: 213<br>Unknown: 140321",
          "sbert-tf-idf-top5<br>Topics: 169<br>Unknown: 157660",
          "sbert-tf-idf-top5<br>Topics: 143<br>Unknown: 154290",
          "sbert-tf-idf-top5<br>Topics: 113<br>Unknown: 105132"
         ],
         "type": "scatter",
         "x": [
          "10: 10, 10",
          "10: 20, 10",
          "10: 20, 20",
          "10: 50, 10",
          "10: 50, 25",
          "10: 50, 50",
          "10: 100, 1",
          "10: 100, 10",
          "10: 100, 50",
          "10: 100, 100"
         ],
         "y": [
          0.2589499065394084,
          0.4252935322745203,
          0.49566079463541335,
          0.5945815463347474,
          0.5729903173436727,
          0.5703239101476472,
          0.6237148976936707,
          0.5662823053710384,
          0.5633598550855534,
          0.6748678885591346
         ]
        },
        {
         "legendgroup": "sbert-tf-idf-top5",
         "line": {
          "color": "#ffb402"
         },
         "name": "sbert-tf-idf-top5",
         "showlegend": false,
         "text": [
          "sbert-tf-idf-top5<br>Topics: 788<br>Unknown: 189523",
          "sbert-tf-idf-top5<br>Topics: 460<br>Unknown: 179528",
          "sbert-tf-idf-top5<br>Topics: 332<br>Unknown: 174636",
          "sbert-tf-idf-top5<br>Topics: 230<br>Unknown: 172900",
          "sbert-tf-idf-top5<br>Topics: 198<br>Unknown: 163613",
          "sbert-tf-idf-top5<br>Topics: 176<br>Unknown: 169493",
          "sbert-tf-idf-top5<br>Topics: 205<br>Unknown: 160879",
          "sbert-tf-idf-top5<br>Topics: 145<br>Unknown: 168864",
          "sbert-tf-idf-top5<br>Topics: 130<br>Unknown: 165443",
          "sbert-tf-idf-top5<br>Topics: 113<br>Unknown: 160388"
         ],
         "type": "scatter",
         "x": [
          "15: 10, 10",
          "15: 20, 10",
          "15: 20, 20",
          "15: 50, 10",
          "15: 50, 25",
          "15: 50, 50",
          "15: 100, 1",
          "15: 100, 10",
          "15: 100, 50",
          "15: 100, 100"
         ],
         "y": [
          0.30044844961671424,
          0.4399944281841457,
          0.5510851841913768,
          0.5534586941984705,
          0.553440642558063,
          0.5254779420357906,
          0.5694853585052334,
          0.5502948295316958,
          0.5428849666779223,
          0.5596621530571226
         ]
        },
        {
         "legendgroup": "sbert-tf-idf-top5",
         "line": {
          "color": "#ffb402"
         },
         "name": "sbert-tf-idf-top5",
         "showlegend": false,
         "text": [
          "sbert-tf-idf-top5<br>Topics: 696<br>Unknown: 189775",
          "sbert-tf-idf-top5<br>Topics: 432<br>Unknown: 189483",
          "sbert-tf-idf-top5<br>Topics: 307<br>Unknown: 178515",
          "sbert-tf-idf-top5<br>Topics: 242<br>Unknown: 189894",
          "sbert-tf-idf-top5<br>Topics: 182<br>Unknown: 168151",
          "sbert-tf-idf-top5<br>Topics: 155<br>Unknown: 139696",
          "sbert-tf-idf-top5<br>Topics: 204<br>Unknown: 166049",
          "sbert-tf-idf-top5<br>Topics: 152<br>Unknown: 178992",
          "sbert-tf-idf-top5<br>Topics: 122<br>Unknown: 140742",
          "sbert-tf-idf-top5<br>Topics: 110<br>Unknown: 150644"
         ],
         "type": "scatter",
         "x": [
          "20: 10, 10",
          "20: 20, 10",
          "20: 20, 20",
          "20: 50, 10",
          "20: 50, 25",
          "20: 50, 50",
          "20: 100, 1",
          "20: 100, 10",
          "20: 100, 50",
          "20: 100, 100"
         ],
         "y": [
          0.31198772736195324,
          0.4273004613333415,
          0.5681868048037296,
          0.5017071370908783,
          0.5309476085836867,
          0.564149855655666,
          0.5671356255226677,
          0.5131134489796498,
          0.5664671173055371,
          0.5517731960045249
         ]
        },
        {
         "legendgroup": "sbert-tf-idf-weighted",
         "line": {
          "color": "#ffdc0a"
         },
         "name": "sbert-tf-idf-weighted",
         "showlegend": true,
         "text": [
          "sbert-tf-idf-weighted<br>Topics: 1968<br>Unknown: 161481",
          "sbert-tf-idf-weighted<br>Topics: 1132<br>Unknown: 159361",
          "sbert-tf-idf-weighted<br>Topics: 857<br>Unknown: 159629",
          "sbert-tf-idf-weighted<br>Topics: 506<br>Unknown: 142757",
          "sbert-tf-idf-weighted<br>Topics: 402<br>Unknown: 135303",
          "sbert-tf-idf-weighted<br>Topics: 299<br>Unknown: 123437",
          "sbert-tf-idf-weighted<br>Topics: 340<br>Unknown: 115603",
          "sbert-tf-idf-weighted<br>Topics: 260<br>Unknown: 122547",
          "sbert-tf-idf-weighted<br>Topics: 188<br>Unknown: 107362",
          "sbert-tf-idf-weighted<br>Topics: 181<br>Unknown: 124859"
         ],
         "type": "scatter",
         "x": [
          "5: 10, 10",
          "5: 20, 10",
          "5: 20, 20",
          "5: 50, 10",
          "5: 50, 25",
          "5: 50, 50",
          "5: 100, 1",
          "5: 100, 10",
          "5: 100, 50",
          "5: 100, 100"
         ],
         "y": [
          0.31953998824110313,
          0.3545470362280205,
          0.32318619521296144,
          0.5008489470518321,
          0.5724154351946117,
          0.6942099557941854,
          0.6873225451299521,
          0.6749960963610322,
          0.6557981631311074,
          0.632517366520272
         ]
        },
        {
         "legendgroup": "sbert-tf-idf-weighted",
         "line": {
          "color": "#ffdc0a"
         },
         "name": "sbert-tf-idf-weighted",
         "showlegend": false,
         "text": [
          "sbert-tf-idf-weighted<br>Topics: 1060<br>Unknown: 163933",
          "sbert-tf-idf-weighted<br>Topics: 635<br>Unknown: 160890",
          "sbert-tf-idf-weighted<br>Topics: 465<br>Unknown: 150212",
          "sbert-tf-idf-weighted<br>Topics: 316<br>Unknown: 146732",
          "sbert-tf-idf-weighted<br>Topics: 260<br>Unknown: 134451",
          "sbert-tf-idf-weighted<br>Topics: 227<br>Unknown: 137350",
          "sbert-tf-idf-weighted<br>Topics: 243<br>Unknown: 125834",
          "sbert-tf-idf-weighted<br>Topics: 200<br>Unknown: 141507",
          "sbert-tf-idf-weighted<br>Topics: 174<br>Unknown: 134789",
          "sbert-tf-idf-weighted<br>Topics: 145<br>Unknown: 125287"
         ],
         "type": "scatter",
         "x": [
          "10: 10, 10",
          "10: 20, 10",
          "10: 20, 20",
          "10: 50, 10",
          "10: 50, 25",
          "10: 50, 50",
          "10: 100, 1",
          "10: 100, 10",
          "10: 100, 50",
          "10: 100, 100"
         ],
         "y": [
          0.3783834051381539,
          0.3983928556894498,
          0.502764712708917,
          0.6404874084563327,
          0.6686955556999495,
          0.6383421049001616,
          0.6806572649209263,
          0.6236370132090655,
          0.6267000548665675,
          0.6554903885731316
         ]
        },
        {
         "legendgroup": "sbert-tf-idf-weighted",
         "line": {
          "color": "#ffdc0a"
         },
         "name": "sbert-tf-idf-weighted",
         "showlegend": false,
         "text": [
          "sbert-tf-idf-weighted<br>Topics: 871<br>Unknown: 171902",
          "sbert-tf-idf-weighted<br>Topics: 503<br>Unknown: 156945",
          "sbert-tf-idf-weighted<br>Topics: 390<br>Unknown: 151173",
          "sbert-tf-idf-weighted<br>Topics: 266<br>Unknown: 143514",
          "sbert-tf-idf-weighted<br>Topics: 250<br>Unknown: 149099",
          "sbert-tf-idf-weighted<br>Topics: 218<br>Unknown: 141563",
          "sbert-tf-idf-weighted<br>Topics: 225<br>Unknown: 134190",
          "sbert-tf-idf-weighted<br>Topics: 172<br>Unknown: 136439",
          "sbert-tf-idf-weighted<br>Topics: 162<br>Unknown: 138939",
          "sbert-tf-idf-weighted<br>Topics: 129<br>Unknown: 110520"
         ],
         "type": "scatter",
         "x": [
          "15: 10, 10",
          "15: 20, 10",
          "15: 20, 20",
          "15: 50, 10",
          "15: 50, 25",
          "15: 50, 50",
          "15: 100, 1",
          "15: 100, 10",
          "15: 100, 50",
          "15: 100, 100"
         ],
         "y": [
          0.31824401887305587,
          0.47751705907017117,
          0.5547309336496087,
          0.6493175982002117,
          0.6280055379053463,
          0.6265154597197764,
          0.6568144788353206,
          0.6323250820994548,
          0.6173243398786703,
          0.6602892368341049
         ]
        },
        {
         "legendgroup": "sbert-tf-idf-weighted",
         "line": {
          "color": "#ffdc0a"
         },
         "name": "sbert-tf-idf-weighted",
         "showlegend": false,
         "text": [
          "sbert-tf-idf-weighted<br>Topics: 790<br>Unknown: 180027",
          "sbert-tf-idf-weighted<br>Topics: 468<br>Unknown: 166074",
          "sbert-tf-idf-weighted<br>Topics: 383<br>Unknown: 163967",
          "sbert-tf-idf-weighted<br>Topics: 252<br>Unknown: 151942",
          "sbert-tf-idf-weighted<br>Topics: 230<br>Unknown: 152597",
          "sbert-tf-idf-weighted<br>Topics: 202<br>Unknown: 147752",
          "sbert-tf-idf-weighted<br>Topics: 209<br>Unknown: 133934",
          "sbert-tf-idf-weighted<br>Topics: 168<br>Unknown: 149785",
          "sbert-tf-idf-weighted<br>Topics: 152<br>Unknown: 144955",
          "sbert-tf-idf-weighted<br>Topics: 138<br>Unknown: 141721"
         ],
         "type": "scatter",
         "x": [
          "20: 10, 10",
          "20: 20, 10",
          "20: 20, 20",
          "20: 50, 10",
          "20: 50, 25",
          "20: 50, 50",
          "20: 100, 1",
          "20: 100, 10",
          "20: 100, 50",
          "20: 100, 100"
         ],
         "y": [
          0.3232526013235039,
          0.47414691758122485,
          0.5352477776011696,
          0.617538763546948,
          0.6005756840033526,
          0.6096659869834248,
          0.6478913604784443,
          0.5934553366021109,
          0.6050284961311639,
          0.6137160037011848
         ]
        },
        {
         "legendgroup": "tfidf",
         "line": {
          "color": "#176e08"
         },
         "name": "tfidf",
         "showlegend": true,
         "text": [
          "tfidf<br>Topics: 3166<br>Unknown: 101038",
          "tfidf<br>Topics: 1990<br>Unknown: 99607",
          "tfidf<br>Topics: 1701<br>Unknown: 100783",
          "tfidf<br>Topics: 978<br>Unknown: 94076",
          "tfidf<br>Topics: 897<br>Unknown: 96726",
          "tfidf<br>Topics: 810<br>Unknown: 102580",
          "tfidf<br>Topics: 603<br>Unknown: 86810",
          "tfidf<br>Topics: 557<br>Unknown: 90334",
          "tfidf<br>Topics: 492<br>Unknown: 94265",
          "tfidf<br>Topics: 446<br>Unknown: 102057"
         ],
         "type": "scatter",
         "x": [
          "5: 10, 10",
          "5: 20, 10",
          "5: 20, 20",
          "5: 50, 10",
          "5: 50, 25",
          "5: 50, 50",
          "5: 100, 1",
          "5: 100, 10",
          "5: 100, 50",
          "5: 100, 100"
         ],
         "y": [
          0.5010762925657056,
          0.530674761441833,
          0.529358573779477,
          0.44644293174101535,
          0.45744388727214946,
          0.4526773269616673,
          0.5451697877541675,
          0.5526654694189166,
          0.5746793070440971,
          0.5841114143915169
         ]
        },
        {
         "legendgroup": "tfidf",
         "line": {
          "color": "#176e08"
         },
         "name": "tfidf",
         "showlegend": false,
         "text": [
          "tfidf<br>Topics: 2521<br>Unknown: 108449",
          "tfidf<br>Topics: 1658<br>Unknown: 103430",
          "tfidf<br>Topics: 1428<br>Unknown: 103625",
          "tfidf<br>Topics: 880<br>Unknown: 98508",
          "tfidf<br>Topics: 821<br>Unknown: 102868",
          "tfidf<br>Topics: 735<br>Unknown: 105518",
          "tfidf<br>Topics: 554<br>Unknown: 91551",
          "tfidf<br>Topics: 498<br>Unknown: 95789",
          "tfidf<br>Topics: 434<br>Unknown: 100864",
          "tfidf<br>Topics: 387<br>Unknown: 104238"
         ],
         "type": "scatter",
         "x": [
          "10: 10, 10",
          "10: 20, 10",
          "10: 20, 20",
          "10: 50, 10",
          "10: 50, 25",
          "10: 50, 50",
          "10: 100, 1",
          "10: 100, 10",
          "10: 100, 50",
          "10: 100, 100"
         ],
         "y": [
          0.5291454326627749,
          0.5678636813350562,
          0.5776289815707182,
          0.4820983785656484,
          0.48663884204483654,
          0.49896637909736363,
          0.5821923658872656,
          0.6027007676310947,
          0.6307387398319876,
          0.6539040448700204
         ]
        },
        {
         "legendgroup": "tfidf",
         "line": {
          "color": "#176e08"
         },
         "name": "tfidf",
         "showlegend": false,
         "text": [
          "tfidf<br>Topics: 2192<br>Unknown: 115298",
          "tfidf<br>Topics: 1490<br>Unknown: 109817",
          "tfidf<br>Topics: 1305<br>Unknown: 111618",
          "tfidf<br>Topics: 799<br>Unknown: 108555",
          "tfidf<br>Topics: 728<br>Unknown: 110421",
          "tfidf<br>Topics: 625<br>Unknown: 108128",
          "tfidf<br>Topics: 534<br>Unknown: 102198",
          "tfidf<br>Topics: 478<br>Unknown: 105028",
          "tfidf<br>Topics: 420<br>Unknown: 107763",
          "tfidf<br>Topics: 375<br>Unknown: 111247"
         ],
         "type": "scatter",
         "x": [
          "15: 10, 10",
          "15: 20, 10",
          "15: 20, 20",
          "15: 50, 10",
          "15: 50, 25",
          "15: 50, 50",
          "15: 100, 1",
          "15: 100, 10",
          "15: 100, 50",
          "15: 100, 100"
         ],
         "y": [
          0.5425039341073928,
          0.580508357033162,
          0.5812727953570687,
          0.4941404488271044,
          0.5052891805189313,
          0.5450735294424838,
          0.584260285571228,
          0.6055324701930683,
          0.6428552372038767,
          0.6721314106314472
         ]
        },
        {
         "legendgroup": "tfidf",
         "line": {
          "color": "#176e08"
         },
         "name": "tfidf",
         "showlegend": false,
         "text": [
          "tfidf<br>Topics: 1975<br>Unknown: 124230",
          "tfidf<br>Topics: 1397<br>Unknown: 118391",
          "tfidf<br>Topics: 1209<br>Unknown: 117410",
          "tfidf<br>Topics: 743<br>Unknown: 115244",
          "tfidf<br>Topics: 677<br>Unknown: 114138",
          "tfidf<br>Topics: 597<br>Unknown: 115866",
          "tfidf<br>Topics: 493<br>Unknown: 102837",
          "tfidf<br>Topics: 438<br>Unknown: 106867",
          "tfidf<br>Topics: 398<br>Unknown: 112509",
          "tfidf<br>Topics: 361<br>Unknown: 120966"
         ],
         "type": "scatter",
         "x": [
          "20: 10, 10",
          "20: 20, 10",
          "20: 20, 20",
          "20: 50, 10",
          "20: 50, 25",
          "20: 50, 50",
          "20: 100, 1",
          "20: 100, 10",
          "20: 100, 50",
          "20: 100, 100"
         ],
         "y": [
          0.5285588864334252,
          0.5662693955448628,
          0.5751110976391897,
          0.5064024461110741,
          0.5229293615823385,
          0.5420285563696972,
          0.6173516258967864,
          0.6356299885709122,
          0.6544664786072467,
          0.6649092709143951
         ]
        },
        {
         "legendgroup": "tfidf-spacy",
         "line": {
          "color": "#32d613"
         },
         "name": "tfidf-spacy",
         "showlegend": true,
         "text": [
          "tfidf-spacy<br>Topics: 3122<br>Unknown: 104087",
          "tfidf-spacy<br>Topics: 1987<br>Unknown: 100627",
          "tfidf-spacy<br>Topics: 1708<br>Unknown: 101697",
          "tfidf-spacy<br>Topics: 947<br>Unknown: 91029",
          "tfidf-spacy<br>Topics: 894<br>Unknown: 97191",
          "tfidf-spacy<br>Topics: 785<br>Unknown: 95429",
          "tfidf-spacy<br>Topics: 598<br>Unknown: 86577",
          "tfidf-spacy<br>Topics: 554<br>Unknown: 92231",
          "tfidf-spacy<br>Topics: 487<br>Unknown: 94829",
          "tfidf-spacy<br>Topics: 432<br>Unknown: 101513"
         ],
         "type": "scatter",
         "x": [
          "5: 10, 10",
          "5: 20, 10",
          "5: 20, 20",
          "5: 50, 10",
          "5: 50, 25",
          "5: 50, 50",
          "5: 100, 1",
          "5: 100, 10",
          "5: 100, 50",
          "5: 100, 100"
         ],
         "y": [
          0.5406863676311107,
          0.5662056070879137,
          0.5671581457028262,
          0.5062248566800643,
          0.49771000727761516,
          0.5241942630498748,
          0.5919552700598733,
          0.5976394366818891,
          0.6159023323920562,
          0.639481706042097
         ]
        },
        {
         "legendgroup": "tfidf-spacy",
         "line": {
          "color": "#32d613"
         },
         "name": "tfidf-spacy",
         "showlegend": false,
         "text": [
          "tfidf-spacy<br>Topics: 2384<br>Unknown: 111531",
          "tfidf-spacy<br>Topics: 1587<br>Unknown: 107137",
          "tfidf-spacy<br>Topics: 1386<br>Unknown: 109689",
          "tfidf-spacy<br>Topics: 839<br>Unknown: 103862",
          "tfidf-spacy<br>Topics: 764<br>Unknown: 103253",
          "tfidf-spacy<br>Topics: 682<br>Unknown: 107957",
          "tfidf-spacy<br>Topics: 544<br>Unknown: 94432",
          "tfidf-spacy<br>Topics: 500<br>Unknown: 97323",
          "tfidf-spacy<br>Topics: 447<br>Unknown: 101234",
          "tfidf-spacy<br>Topics: 412<br>Unknown: 106260"
         ],
         "type": "scatter",
         "x": [
          "10: 10, 10",
          "10: 20, 10",
          "10: 20, 20",
          "10: 50, 10",
          "10: 50, 25",
          "10: 50, 50",
          "10: 100, 1",
          "10: 100, 10",
          "10: 100, 50",
          "10: 100, 100"
         ],
         "y": [
          0.5569475666547175,
          0.5970347291648953,
          0.5941424913919794,
          0.5271190596874991,
          0.5371860065386203,
          0.5508149624793232,
          0.6238150875353563,
          0.6374708069426575,
          0.658535766136194,
          0.6631190342405148
         ]
        },
        {
         "legendgroup": "tfidf-spacy",
         "line": {
          "color": "#32d613"
         },
         "name": "tfidf-spacy",
         "showlegend": false,
         "text": [
          "tfidf-spacy<br>Topics: 2049<br>Unknown: 119179",
          "tfidf-spacy<br>Topics: 1414<br>Unknown: 114679",
          "tfidf-spacy<br>Topics: 1231<br>Unknown: 113401",
          "tfidf-spacy<br>Topics: 760<br>Unknown: 112260",
          "tfidf-spacy<br>Topics: 704<br>Unknown: 109677",
          "tfidf-spacy<br>Topics: 625<br>Unknown: 108184",
          "tfidf-spacy<br>Topics: 517<br>Unknown: 102312",
          "tfidf-spacy<br>Topics: 472<br>Unknown: 109949",
          "tfidf-spacy<br>Topics: 424<br>Unknown: 107108",
          "tfidf-spacy<br>Topics: 361<br>Unknown: 104723"
         ],
         "type": "scatter",
         "x": [
          "15: 10, 10",
          "15: 20, 10",
          "15: 20, 20",
          "15: 50, 10",
          "15: 50, 25",
          "15: 50, 50",
          "15: 100, 1",
          "15: 100, 10",
          "15: 100, 50",
          "15: 100, 100"
         ],
         "y": [
          0.5600075337214421,
          0.5947710046106904,
          0.6094584077028781,
          0.5306275761518713,
          0.5505320943333928,
          0.5819232144917774,
          0.6270060664047323,
          0.6367552303485204,
          0.6724367929059892,
          0.733240959796937
         ]
        },
        {
         "legendgroup": "tfidf-spacy",
         "line": {
          "color": "#32d613"
         },
         "name": "tfidf-spacy",
         "showlegend": false,
         "text": [
          "tfidf-spacy<br>Topics: 1795<br>Unknown: 122619",
          "tfidf-spacy<br>Topics: 1316<br>Unknown: 120519",
          "tfidf-spacy<br>Topics: 1130<br>Unknown: 118965",
          "tfidf-spacy<br>Topics: 718<br>Unknown: 110459",
          "tfidf-spacy<br>Topics: 661<br>Unknown: 110827",
          "tfidf-spacy<br>Topics: 599<br>Unknown: 114948",
          "tfidf-spacy<br>Topics: 500<br>Unknown: 106795",
          "tfidf-spacy<br>Topics: 447<br>Unknown: 107348",
          "tfidf-spacy<br>Topics: 386<br>Unknown: 103489",
          "tfidf-spacy<br>Topics: 348<br>Unknown: 106281"
         ],
         "type": "scatter",
         "x": [
          "20: 10, 10",
          "20: 20, 10",
          "20: 20, 20",
          "20: 50, 10",
          "20: 50, 25",
          "20: 50, 50",
          "20: 100, 1",
          "20: 100, 10",
          "20: 100, 50",
          "20: 100, 100"
         ],
         "y": [
          0.557499343731313,
          0.5835960986117733,
          0.5973810544947558,
          0.5494638695781245,
          0.5591130071159199,
          0.5724997396065249,
          0.6303198880006243,
          0.6600218768546362,
          0.7166731203023661,
          0.7399267944784456
         ]
        },
        {
         "legendgroup": "use-default",
         "line": {
          "color": "#000d94"
         },
         "name": "use-default",
         "showlegend": true,
         "text": [
          "use-default<br>Topics: 2320<br>Unknown: 168449",
          "use-default<br>Topics: 1185<br>Unknown: 157924",
          "use-default<br>Topics: 851<br>Unknown: 156391",
          "use-default<br>Topics: 468<br>Unknown: 142916",
          "use-default<br>Topics: 365<br>Unknown: 140735",
          "use-default<br>Topics: 305<br>Unknown: 142972",
          "use-default<br>Topics: 344<br>Unknown: 134310",
          "use-default<br>Topics: 257<br>Unknown: 131986",
          "use-default<br>Topics: 189<br>Unknown: 126356",
          "use-default<br>Topics: 144<br>Unknown: 119373"
         ],
         "type": "scatter",
         "x": [
          "5: 10, 10",
          "5: 20, 10",
          "5: 20, 20",
          "5: 50, 10",
          "5: 50, 25",
          "5: 50, 50",
          "5: 100, 1",
          "5: 100, 10",
          "5: 100, 50",
          "5: 100, 100"
         ],
         "y": [
          0.33346969856727776,
          0.4080499791368668,
          0.4025721675122515,
          0.5460599518465052,
          0.6245403594104016,
          0.6701039459199271,
          0.6709215823738279,
          0.6886525412220315,
          0.6708287683346229,
          0.6982935935533925
         ]
        },
        {
         "legendgroup": "use-default",
         "line": {
          "color": "#000d94"
         },
         "name": "use-default",
         "showlegend": false,
         "text": [
          "use-default<br>Topics: 1389<br>Unknown: 165258",
          "use-default<br>Topics: 764<br>Unknown: 155334",
          "use-default<br>Topics: 600<br>Unknown: 162100",
          "use-default<br>Topics: 345<br>Unknown: 141428",
          "use-default<br>Topics: 321<br>Unknown: 153931",
          "use-default<br>Topics: 265<br>Unknown: 148088",
          "use-default<br>Topics: 265<br>Unknown: 129448",
          "use-default<br>Topics: 212<br>Unknown: 136431",
          "use-default<br>Topics: 183<br>Unknown: 145104",
          "use-default<br>Topics: 145<br>Unknown: 133044"
         ],
         "type": "scatter",
         "x": [
          "10: 10, 10",
          "10: 20, 10",
          "10: 20, 20",
          "10: 50, 10",
          "10: 50, 25",
          "10: 50, 50",
          "10: 100, 1",
          "10: 100, 10",
          "10: 100, 50",
          "10: 100, 100"
         ],
         "y": [
          0.41508351916850844,
          0.4303959173375573,
          0.44173497136140105,
          0.6568382362973681,
          0.6556693301214647,
          0.6619303153731602,
          0.7127450891769326,
          0.6680990738641258,
          0.6473376389648763,
          0.671639440086151
         ]
        },
        {
         "legendgroup": "use-default",
         "line": {
          "color": "#000d94"
         },
         "name": "use-default",
         "showlegend": false,
         "text": [
          "use-default<br>Topics: 1180<br>Unknown: 176946",
          "use-default<br>Topics: 680<br>Unknown: 174619",
          "use-default<br>Topics: 506<br>Unknown: 167956",
          "use-default<br>Topics: 339<br>Unknown: 157403",
          "use-default<br>Topics: 274<br>Unknown: 146213",
          "use-default<br>Topics: 222<br>Unknown: 143338",
          "use-default<br>Topics: 254<br>Unknown: 133453",
          "use-default<br>Topics: 197<br>Unknown: 151287",
          "use-default<br>Topics: 152<br>Unknown: 141350",
          "use-default<br>Topics: 118<br>Unknown: 131381"
         ],
         "type": "scatter",
         "x": [
          "15: 10, 10",
          "15: 20, 10",
          "15: 20, 20",
          "15: 50, 10",
          "15: 50, 25",
          "15: 50, 50",
          "15: 100, 1",
          "15: 100, 10",
          "15: 100, 50",
          "15: 100, 100"
         ],
         "y": [
          0.38161232285451446,
          0.4045877767973182,
          0.4705058622201495,
          0.6299775379592761,
          0.6766211374938775,
          0.6444528013136963,
          0.7079766210465387,
          0.6322603973187214,
          0.6414105553673967,
          0.6811207526314487
         ]
        },
        {
         "legendgroup": "use-default",
         "line": {
          "color": "#000d94"
         },
         "name": "use-default",
         "showlegend": false,
         "text": [
          "use-default<br>Topics: 1013<br>Unknown: 179619",
          "use-default<br>Topics: 637<br>Unknown: 176330",
          "use-default<br>Topics: 471<br>Unknown: 169874",
          "use-default<br>Topics: 297<br>Unknown: 150140",
          "use-default<br>Topics: 252<br>Unknown: 151859",
          "use-default<br>Topics: 206<br>Unknown: 139269",
          "use-default<br>Topics: 224<br>Unknown: 132618",
          "use-default<br>Topics: 183<br>Unknown: 143406",
          "use-default<br>Topics: 147<br>Unknown: 144270",
          "use-default<br>Topics: 117<br>Unknown: 138515"
         ],
         "type": "scatter",
         "x": [
          "20: 10, 10",
          "20: 20, 10",
          "20: 20, 20",
          "20: 50, 10",
          "20: 50, 25",
          "20: 50, 50",
          "20: 100, 1",
          "20: 100, 10",
          "20: 100, 50",
          "20: 100, 100"
         ],
         "y": [
          0.394161999240908,
          0.40825224672485294,
          0.4867369163952552,
          0.6829367265372066,
          0.6365977834620746,
          0.6297029339011482,
          0.7001101028382777,
          0.6376404361607161,
          0.6344231798221567,
          0.6472030165590555
         ]
        },
        {
         "legendgroup": "use-lexrank-top1",
         "line": {
          "color": "#0017d1"
         },
         "name": "use-lexrank-top1",
         "showlegend": true,
         "text": [
          "use-lexrank-top1<br>Topics: 1024<br>Unknown: 176210",
          "use-lexrank-top1<br>Topics: 621<br>Unknown: 169745",
          "use-lexrank-top1<br>Topics: 463<br>Unknown: 151009",
          "use-lexrank-top1<br>Topics: 349<br>Unknown: 163865",
          "use-lexrank-top1<br>Topics: 258<br>Unknown: 141003",
          "use-lexrank-top1<br>Topics: 212<br>Unknown: 140589",
          "use-lexrank-top1<br>Topics: 270<br>Unknown: 144281",
          "use-lexrank-top1<br>Topics: 207<br>Unknown: 154798",
          "use-lexrank-top1<br>Topics: 156<br>Unknown: 143121",
          "use-lexrank-top1<br>Topics: 129<br>Unknown: 137992"
         ],
         "type": "scatter",
         "x": [
          "15: 10, 10",
          "15: 20, 10",
          "15: 20, 20",
          "15: 50, 10",
          "15: 50, 25",
          "15: 50, 50",
          "15: 100, 1",
          "15: 100, 10",
          "15: 100, 50",
          "15: 100, 100"
         ],
         "y": [
          0.26175018044895243,
          0.31470052258588294,
          0.41735696995820354,
          0.49149519154166044,
          0.5699496008807495,
          0.5577788622440043,
          0.5890755331410179,
          0.5562836962979236,
          0.5372922651897981,
          0.550861624499389
         ]
        },
        {
         "legendgroup": "use-lexrank-top1",
         "line": {
          "color": "#0017d1"
         },
         "name": "use-lexrank-top1",
         "showlegend": false,
         "text": [
          "use-lexrank-top1<br>Topics: 873<br>Unknown: 161017",
          "use-lexrank-top1<br>Topics: 528<br>Unknown: 152389",
          "use-lexrank-top1<br>Topics: 441<br>Unknown: 167588",
          "use-lexrank-top1<br>Topics: 274<br>Unknown: 145308",
          "use-lexrank-top1<br>Topics: 234<br>Unknown: 145740",
          "use-lexrank-top1<br>Topics: 190<br>Unknown: 143712",
          "use-lexrank-top1<br>Topics: 240<br>Unknown: 143090",
          "use-lexrank-top1<br>Topics: 166<br>Unknown: 137125",
          "use-lexrank-top1<br>Topics: 129<br>Unknown: 136533",
          "use-lexrank-top1<br>Topics: 118<br>Unknown: 137751"
         ],
         "type": "scatter",
         "x": [
          "20: 10, 10",
          "20: 20, 10",
          "20: 20, 20",
          "20: 50, 10",
          "20: 50, 25",
          "20: 50, 50",
          "20: 100, 1",
          "20: 100, 10",
          "20: 100, 50",
          "20: 100, 100"
         ],
         "y": [
          0.25052023924123024,
          0.38659725996243266,
          0.4065762286095987,
          0.5681766429064148,
          0.550335784857004,
          0.5332246864975951,
          0.5898946044522515,
          0.5741256018984306,
          0.569521525201627,
          0.5821378144134528
         ]
        },
        {
         "legendgroup": "use-lexrank-top5",
         "line": {
          "color": "#001ef7"
         },
         "name": "use-lexrank-top5",
         "showlegend": true,
         "text": [
          "use-lexrank-top5<br>Topics: 1107<br>Unknown: 160424",
          "use-lexrank-top5<br>Topics: 676<br>Unknown: 160709",
          "use-lexrank-top5<br>Topics: 560<br>Unknown: 157444",
          "use-lexrank-top5<br>Topics: 372<br>Unknown: 149258",
          "use-lexrank-top5<br>Topics: 305<br>Unknown: 133281",
          "use-lexrank-top5<br>Topics: 276<br>Unknown: 140985",
          "use-lexrank-top5<br>Topics: 283<br>Unknown: 131438",
          "use-lexrank-top5<br>Topics: 230<br>Unknown: 142580",
          "use-lexrank-top5<br>Topics: 189<br>Unknown: 135696",
          "use-lexrank-top5<br>Topics: 159<br>Unknown: 137316"
         ],
         "type": "scatter",
         "x": [
          "15: 10, 10",
          "15: 20, 10",
          "15: 20, 20",
          "15: 50, 10",
          "15: 50, 25",
          "15: 50, 50",
          "15: 100, 1",
          "15: 100, 10",
          "15: 100, 50",
          "15: 100, 100"
         ],
         "y": [
          0.2566091325043049,
          0.2838940645769576,
          0.33378937897543554,
          0.468741202456048,
          0.5781800214602918,
          0.5355979478466996,
          0.5838522343888171,
          0.519509038573321,
          0.5222649644083331,
          0.5245895219978782
         ]
        },
        {
         "legendgroup": "use-lexrank-top5",
         "line": {
          "color": "#001ef7"
         },
         "name": "use-lexrank-top5",
         "showlegend": false,
         "text": [
          "use-lexrank-top5<br>Topics: 1010<br>Unknown: 165575",
          "use-lexrank-top5<br>Topics: 674<br>Unknown: 166743",
          "use-lexrank-top5<br>Topics: 546<br>Unknown: 160540",
          "use-lexrank-top5<br>Topics: 352<br>Unknown: 151167",
          "use-lexrank-top5<br>Topics: 312<br>Unknown: 147368",
          "use-lexrank-top5<br>Topics: 273<br>Unknown: 147209",
          "use-lexrank-top5<br>Topics: 289<br>Unknown: 140051",
          "use-lexrank-top5<br>Topics: 228<br>Unknown: 151085",
          "use-lexrank-top5<br>Topics: 177<br>Unknown: 139598",
          "use-lexrank-top5<br>Topics: 145<br>Unknown: 138498"
         ],
         "type": "scatter",
         "x": [
          "20: 10, 10",
          "20: 20, 10",
          "20: 20, 20",
          "20: 50, 10",
          "20: 50, 25",
          "20: 50, 50",
          "20: 100, 1",
          "20: 100, 10",
          "20: 100, 50",
          "20: 100, 100"
         ],
         "y": [
          0.24581897926512455,
          0.2715145333293222,
          0.34044159871057383,
          0.4837107337027765,
          0.5421047490294048,
          0.5226906103354727,
          0.5673867879369219,
          0.498855600395112,
          0.5231970959277532,
          0.5273591844899657
         ]
        },
        {
         "legendgroup": "use-lexrank-weighted",
         "line": {
          "color": "#691fff"
         },
         "name": "use-lexrank-weighted",
         "showlegend": true,
         "text": [
          "use-lexrank-weighted<br>Topics: 1023<br>Unknown: 165425",
          "use-lexrank-weighted<br>Topics: 642<br>Unknown: 163991",
          "use-lexrank-weighted<br>Topics: 519<br>Unknown: 160937",
          "use-lexrank-weighted<br>Topics: 316<br>Unknown: 152270",
          "use-lexrank-weighted<br>Topics: 265<br>Unknown: 144103",
          "use-lexrank-weighted<br>Topics: 243<br>Unknown: 153640",
          "use-lexrank-weighted<br>Topics: 248<br>Unknown: 140402",
          "use-lexrank-weighted<br>Topics: 197<br>Unknown: 147651",
          "use-lexrank-weighted<br>Topics: 161<br>Unknown: 146824",
          "use-lexrank-weighted<br>Topics: 146<br>Unknown: 147573"
         ],
         "type": "scatter",
         "x": [
          "15: 10, 10",
          "15: 20, 10",
          "15: 20, 20",
          "15: 50, 10",
          "15: 50, 25",
          "15: 50, 50",
          "15: 100, 1",
          "15: 100, 10",
          "15: 100, 50",
          "15: 100, 100"
         ],
         "y": [
          0.28494796185118365,
          0.3292828281518095,
          0.3757117057416773,
          0.553960049451373,
          0.5572787776396819,
          0.5203860225442383,
          0.5579588143195082,
          0.5211702207228096,
          0.5140378480881294,
          0.5087837723373685
         ]
        },
        {
         "legendgroup": "use-lexrank-weighted",
         "line": {
          "color": "#691fff"
         },
         "name": "use-lexrank-weighted",
         "showlegend": false,
         "text": [
          "use-lexrank-weighted<br>Topics: 958<br>Unknown: 170818",
          "use-lexrank-weighted<br>Topics: 567<br>Unknown: 159346",
          "use-lexrank-weighted<br>Topics: 477<br>Unknown: 163184",
          "use-lexrank-weighted<br>Topics: 301<br>Unknown: 152277",
          "use-lexrank-weighted<br>Topics: 251<br>Unknown: 147466",
          "use-lexrank-weighted<br>Topics: 237<br>Unknown: 154875",
          "use-lexrank-weighted<br>Topics: 238<br>Unknown: 139242",
          "use-lexrank-weighted<br>Topics: 186<br>Unknown: 148863",
          "use-lexrank-weighted<br>Topics: 158<br>Unknown: 153003",
          "use-lexrank-weighted<br>Topics: 137<br>Unknown: 149190"
         ],
         "type": "scatter",
         "x": [
          "20: 10, 10",
          "20: 20, 10",
          "20: 20, 20",
          "20: 50, 10",
          "20: 50, 25",
          "20: 50, 50",
          "20: 100, 1",
          "20: 100, 10",
          "20: 100, 50",
          "20: 100, 100"
         ],
         "y": [
          0.2482166405614114,
          0.36695168719514826,
          0.3997514191666449,
          0.5723566299438809,
          0.538278761526882,
          0.5073485728527831,
          0.5629005348921343,
          0.5157695130219552,
          0.5034451703408496,
          0.5152030168904503
         ]
        },
        {
         "legendgroup": "use-mean",
         "line": {
          "color": "#b11eff"
         },
         "name": "use-mean",
         "showlegend": true,
         "text": [
          "use-mean<br>Topics: 958<br>Unknown: 175245",
          "use-mean<br>Topics: 555<br>Unknown: 165079",
          "use-mean<br>Topics: 442<br>Unknown: 159221",
          "use-mean<br>Topics: 282<br>Unknown: 150523",
          "use-mean<br>Topics: 263<br>Unknown: 153819",
          "use-mean<br>Topics: 217<br>Unknown: 152398",
          "use-mean<br>Topics: 208<br>Unknown: 132104",
          "use-mean<br>Topics: 174<br>Unknown: 141971",
          "use-mean<br>Topics: 143<br>Unknown: 143597",
          "use-mean<br>Topics: 117<br>Unknown: 131022"
         ],
         "type": "scatter",
         "x": [
          "15: 10, 10",
          "15: 20, 10",
          "15: 20, 20",
          "15: 50, 10",
          "15: 50, 25",
          "15: 50, 50",
          "15: 100, 1",
          "15: 100, 10",
          "15: 100, 50",
          "15: 100, 100"
         ],
         "y": [
          0.30285081081048587,
          0.4399977405423499,
          0.5105334799891424,
          0.6379966551659549,
          0.6229046280484327,
          0.603484212726949,
          0.675461725040217,
          0.630905541277928,
          0.6170803607111004,
          0.6509598134461145
         ]
        },
        {
         "legendgroup": "use-mean",
         "line": {
          "color": "#b11eff"
         },
         "name": "use-mean",
         "showlegend": false,
         "text": [
          "use-mean<br>Topics: 784<br>Unknown: 164685",
          "use-mean<br>Topics: 478<br>Unknown: 164395",
          "use-mean<br>Topics: 376<br>Unknown: 153545",
          "use-mean<br>Topics: 235<br>Unknown: 144317",
          "use-mean<br>Topics: 199<br>Unknown: 141705",
          "use-mean<br>Topics: 182<br>Unknown: 145783",
          "use-mean<br>Topics: 203<br>Unknown: 140046",
          "use-mean<br>Topics: 160<br>Unknown: 147992",
          "use-mean<br>Topics: 125<br>Unknown: 137174",
          "use-mean<br>Topics: 111<br>Unknown: 135007"
         ],
         "type": "scatter",
         "x": [
          "20: 10, 10",
          "20: 20, 10",
          "20: 20, 20",
          "20: 50, 10",
          "20: 50, 25",
          "20: 50, 50",
          "20: 100, 1",
          "20: 100, 10",
          "20: 100, 50",
          "20: 100, 100"
         ],
         "y": [
          0.37658884706938633,
          0.46825878263757514,
          0.5746248726013551,
          0.6391222027030733,
          0.6368808755277279,
          0.6206696949136555,
          0.6465933482234641,
          0.6106980898085997,
          0.6474410402659044,
          0.6529158919134789
         ]
        },
        {
         "legendgroup": "use-tf-idf-top5",
         "line": {
          "color": "#fc5eff"
         },
         "name": "use-tf-idf-top5",
         "showlegend": true,
         "text": [
          "use-tf-idf-top5<br>Topics: 739<br>Unknown: 173283",
          "use-tf-idf-top5<br>Topics: 416<br>Unknown: 160302",
          "use-tf-idf-top5<br>Topics: 312<br>Unknown: 148997",
          "use-tf-idf-top5<br>Topics: 222<br>Unknown: 150589",
          "use-tf-idf-top5<br>Topics: 188<br>Unknown: 148560",
          "use-tf-idf-top5<br>Topics: 156<br>Unknown: 146495",
          "use-tf-idf-top5<br>Topics: 186<br>Unknown: 143857",
          "use-tf-idf-top5<br>Topics: 130<br>Unknown: 142614",
          "use-tf-idf-top5<br>Topics: 119<br>Unknown: 147638",
          "use-tf-idf-top5<br>Topics: 105<br>Unknown: 148130"
         ],
         "type": "scatter",
         "x": [
          "15: 10, 10",
          "15: 20, 10",
          "15: 20, 20",
          "15: 50, 10",
          "15: 50, 25",
          "15: 50, 50",
          "15: 100, 1",
          "15: 100, 10",
          "15: 100, 50",
          "15: 100, 100"
         ],
         "y": [
          0.30205212663102476,
          0.47393351506278103,
          0.5917385499248086,
          0.5562818924267819,
          0.5398938776318115,
          0.5705733410701755,
          0.5758419595309441,
          0.5659933310681367,
          0.579375707958969,
          0.5677393648812861
         ]
        },
        {
         "legendgroup": "use-tf-idf-top5",
         "line": {
          "color": "#fc5eff"
         },
         "name": "use-tf-idf-top5",
         "showlegend": false,
         "text": [
          "use-tf-idf-top5<br>Topics: 666<br>Unknown: 184270",
          "use-tf-idf-top5<br>Topics: 390<br>Unknown: 173755",
          "use-tf-idf-top5<br>Topics: 309<br>Unknown: 170156",
          "use-tf-idf-top5<br>Topics: 216<br>Unknown: 161310",
          "use-tf-idf-top5<br>Topics: 170<br>Unknown: 152722",
          "use-tf-idf-top5<br>Topics: 147<br>Unknown: 152042",
          "use-tf-idf-top5<br>Topics: 149<br>Unknown: 132123",
          "use-tf-idf-top5<br>Topics: 126<br>Unknown: 159325",
          "use-tf-idf-top5<br>Topics: 103<br>Unknown: 144677",
          "use-tf-idf-top5<br>Topics: 98<br>Unknown: 149071"
         ],
         "type": "scatter",
         "x": [
          "20: 10, 10",
          "20: 20, 10",
          "20: 20, 20",
          "20: 50, 10",
          "20: 50, 25",
          "20: 50, 50",
          "20: 100, 1",
          "20: 100, 10",
          "20: 100, 50",
          "20: 100, 100"
         ],
         "y": [
          0.2871045966285343,
          0.45900453767958144,
          0.5507664937820848,
          0.5391267173863158,
          0.5347314946987415,
          0.5425775452911549,
          0.605234068924984,
          0.545985673249396,
          0.5843418791773113,
          0.5611384365397741
         ]
        },
        {
         "legendgroup": "use-tf-idf-weighted",
         "line": {
          "color": "#ff91ff"
         },
         "name": "use-tf-idf-weighted",
         "showlegend": true,
         "text": [
          "use-tf-idf-weighted<br>Topics: 885<br>Unknown: 171557",
          "use-tf-idf-weighted<br>Topics: 553<br>Unknown: 164910",
          "use-tf-idf-weighted<br>Topics: 384<br>Unknown: 115783",
          "use-tf-idf-weighted<br>Topics: 302<br>Unknown: 158141",
          "use-tf-idf-weighted<br>Topics: 262<br>Unknown: 153966",
          "use-tf-idf-weighted<br>Topics: 189<br>Unknown: 102069",
          "use-tf-idf-weighted<br>Topics: 237<br>Unknown: 136939",
          "use-tf-idf-weighted<br>Topics: 185<br>Unknown: 150470",
          "use-tf-idf-weighted<br>Topics: 135<br>Unknown: 100334",
          "use-tf-idf-weighted<br>Topics: 151<br>Unknown: 151837"
         ],
         "type": "scatter",
         "x": [
          "15: 10, 10",
          "15: 20, 10",
          "15: 20, 20",
          "15: 50, 10",
          "15: 50, 25",
          "15: 50, 50",
          "15: 100, 1",
          "15: 100, 10",
          "15: 100, 50",
          "15: 100, 100"
         ],
         "y": [
          0.29461043675185955,
          0.4012481517349188,
          0.6000518020058495,
          0.6082620617356375,
          0.5797517171845163,
          0.6546469127146456,
          0.6172313842549393,
          0.5542923619853963,
          0.6555220349387126,
          0.5470028183081241
         ]
        },
        {
         "legendgroup": "use-tf-idf-weighted",
         "line": {
          "color": "#ff91ff"
         },
         "name": "use-tf-idf-weighted",
         "showlegend": false,
         "text": [
          "use-tf-idf-weighted<br>Topics: 765<br>Unknown: 173416",
          "use-tf-idf-weighted<br>Topics: 492<br>Unknown: 173609",
          "use-tf-idf-weighted<br>Topics: 404<br>Unknown: 165925",
          "use-tf-idf-weighted<br>Topics: 270<br>Unknown: 160523",
          "use-tf-idf-weighted<br>Topics: 220<br>Unknown: 117088",
          "use-tf-idf-weighted<br>Topics: 185<br>Unknown: 112144",
          "use-tf-idf-weighted<br>Topics: 236<br>Unknown: 158101",
          "use-tf-idf-weighted<br>Topics: 167<br>Unknown: 147824",
          "use-tf-idf-weighted<br>Topics: 129<br>Unknown: 109917",
          "use-tf-idf-weighted<br>Topics: 148<br>Unknown: 160908"
         ],
         "type": "scatter",
         "x": [
          "20: 10, 10",
          "20: 20, 10",
          "20: 20, 20",
          "20: 50, 10",
          "20: 50, 25",
          "20: 50, 50",
          "20: 100, 1",
          "20: 100, 10",
          "20: 100, 50",
          "20: 100, 100"
         ],
         "y": [
          0.3356056971429103,
          0.40338507461954964,
          0.4732995897247125,
          0.5670940861942153,
          0.6190750989499707,
          0.6325394702490856,
          0.5625385608263529,
          0.5744572771208994,
          0.633916058294217,
          0.5242176659129336
         ]
        }
       ],
       "layout": {
        "height": 1200,
        "template": {
         "data": {
          "bar": [
           {
            "error_x": {
             "color": "#2a3f5f"
            },
            "error_y": {
             "color": "#2a3f5f"
            },
            "marker": {
             "line": {
              "color": "#E5ECF6",
              "width": 0.5
             }
            },
            "type": "bar"
           }
          ],
          "barpolar": [
           {
            "marker": {
             "line": {
              "color": "#E5ECF6",
              "width": 0.5
             }
            },
            "type": "barpolar"
           }
          ],
          "carpet": [
           {
            "aaxis": {
             "endlinecolor": "#2a3f5f",
             "gridcolor": "white",
             "linecolor": "white",
             "minorgridcolor": "white",
             "startlinecolor": "#2a3f5f"
            },
            "baxis": {
             "endlinecolor": "#2a3f5f",
             "gridcolor": "white",
             "linecolor": "white",
             "minorgridcolor": "white",
             "startlinecolor": "#2a3f5f"
            },
            "type": "carpet"
           }
          ],
          "choropleth": [
           {
            "colorbar": {
             "outlinewidth": 0,
             "ticks": ""
            },
            "type": "choropleth"
           }
          ],
          "contour": [
           {
            "colorbar": {
             "outlinewidth": 0,
             "ticks": ""
            },
            "colorscale": [
             [
              0,
              "#0d0887"
             ],
             [
              0.1111111111111111,
              "#46039f"
             ],
             [
              0.2222222222222222,
              "#7201a8"
             ],
             [
              0.3333333333333333,
              "#9c179e"
             ],
             [
              0.4444444444444444,
              "#bd3786"
             ],
             [
              0.5555555555555556,
              "#d8576b"
             ],
             [
              0.6666666666666666,
              "#ed7953"
             ],
             [
              0.7777777777777778,
              "#fb9f3a"
             ],
             [
              0.8888888888888888,
              "#fdca26"
             ],
             [
              1,
              "#f0f921"
             ]
            ],
            "type": "contour"
           }
          ],
          "contourcarpet": [
           {
            "colorbar": {
             "outlinewidth": 0,
             "ticks": ""
            },
            "type": "contourcarpet"
           }
          ],
          "heatmap": [
           {
            "colorbar": {
             "outlinewidth": 0,
             "ticks": ""
            },
            "colorscale": [
             [
              0,
              "#0d0887"
             ],
             [
              0.1111111111111111,
              "#46039f"
             ],
             [
              0.2222222222222222,
              "#7201a8"
             ],
             [
              0.3333333333333333,
              "#9c179e"
             ],
             [
              0.4444444444444444,
              "#bd3786"
             ],
             [
              0.5555555555555556,
              "#d8576b"
             ],
             [
              0.6666666666666666,
              "#ed7953"
             ],
             [
              0.7777777777777778,
              "#fb9f3a"
             ],
             [
              0.8888888888888888,
              "#fdca26"
             ],
             [
              1,
              "#f0f921"
             ]
            ],
            "type": "heatmap"
           }
          ],
          "heatmapgl": [
           {
            "colorbar": {
             "outlinewidth": 0,
             "ticks": ""
            },
            "colorscale": [
             [
              0,
              "#0d0887"
             ],
             [
              0.1111111111111111,
              "#46039f"
             ],
             [
              0.2222222222222222,
              "#7201a8"
             ],
             [
              0.3333333333333333,
              "#9c179e"
             ],
             [
              0.4444444444444444,
              "#bd3786"
             ],
             [
              0.5555555555555556,
              "#d8576b"
             ],
             [
              0.6666666666666666,
              "#ed7953"
             ],
             [
              0.7777777777777778,
              "#fb9f3a"
             ],
             [
              0.8888888888888888,
              "#fdca26"
             ],
             [
              1,
              "#f0f921"
             ]
            ],
            "type": "heatmapgl"
           }
          ],
          "histogram": [
           {
            "marker": {
             "colorbar": {
              "outlinewidth": 0,
              "ticks": ""
             }
            },
            "type": "histogram"
           }
          ],
          "histogram2d": [
           {
            "colorbar": {
             "outlinewidth": 0,
             "ticks": ""
            },
            "colorscale": [
             [
              0,
              "#0d0887"
             ],
             [
              0.1111111111111111,
              "#46039f"
             ],
             [
              0.2222222222222222,
              "#7201a8"
             ],
             [
              0.3333333333333333,
              "#9c179e"
             ],
             [
              0.4444444444444444,
              "#bd3786"
             ],
             [
              0.5555555555555556,
              "#d8576b"
             ],
             [
              0.6666666666666666,
              "#ed7953"
             ],
             [
              0.7777777777777778,
              "#fb9f3a"
             ],
             [
              0.8888888888888888,
              "#fdca26"
             ],
             [
              1,
              "#f0f921"
             ]
            ],
            "type": "histogram2d"
           }
          ],
          "histogram2dcontour": [
           {
            "colorbar": {
             "outlinewidth": 0,
             "ticks": ""
            },
            "colorscale": [
             [
              0,
              "#0d0887"
             ],
             [
              0.1111111111111111,
              "#46039f"
             ],
             [
              0.2222222222222222,
              "#7201a8"
             ],
             [
              0.3333333333333333,
              "#9c179e"
             ],
             [
              0.4444444444444444,
              "#bd3786"
             ],
             [
              0.5555555555555556,
              "#d8576b"
             ],
             [
              0.6666666666666666,
              "#ed7953"
             ],
             [
              0.7777777777777778,
              "#fb9f3a"
             ],
             [
              0.8888888888888888,
              "#fdca26"
             ],
             [
              1,
              "#f0f921"
             ]
            ],
            "type": "histogram2dcontour"
           }
          ],
          "mesh3d": [
           {
            "colorbar": {
             "outlinewidth": 0,
             "ticks": ""
            },
            "type": "mesh3d"
           }
          ],
          "parcoords": [
           {
            "line": {
             "colorbar": {
              "outlinewidth": 0,
              "ticks": ""
             }
            },
            "type": "parcoords"
           }
          ],
          "pie": [
           {
            "automargin": true,
            "type": "pie"
           }
          ],
          "scatter": [
           {
            "marker": {
             "colorbar": {
              "outlinewidth": 0,
              "ticks": ""
             }
            },
            "type": "scatter"
           }
          ],
          "scatter3d": [
           {
            "line": {
             "colorbar": {
              "outlinewidth": 0,
              "ticks": ""
             }
            },
            "marker": {
             "colorbar": {
              "outlinewidth": 0,
              "ticks": ""
             }
            },
            "type": "scatter3d"
           }
          ],
          "scattercarpet": [
           {
            "marker": {
             "colorbar": {
              "outlinewidth": 0,
              "ticks": ""
             }
            },
            "type": "scattercarpet"
           }
          ],
          "scattergeo": [
           {
            "marker": {
             "colorbar": {
              "outlinewidth": 0,
              "ticks": ""
             }
            },
            "type": "scattergeo"
           }
          ],
          "scattergl": [
           {
            "marker": {
             "colorbar": {
              "outlinewidth": 0,
              "ticks": ""
             }
            },
            "type": "scattergl"
           }
          ],
          "scattermapbox": [
           {
            "marker": {
             "colorbar": {
              "outlinewidth": 0,
              "ticks": ""
             }
            },
            "type": "scattermapbox"
           }
          ],
          "scatterpolar": [
           {
            "marker": {
             "colorbar": {
              "outlinewidth": 0,
              "ticks": ""
             }
            },
            "type": "scatterpolar"
           }
          ],
          "scatterpolargl": [
           {
            "marker": {
             "colorbar": {
              "outlinewidth": 0,
              "ticks": ""
             }
            },
            "type": "scatterpolargl"
           }
          ],
          "scatterternary": [
           {
            "marker": {
             "colorbar": {
              "outlinewidth": 0,
              "ticks": ""
             }
            },
            "type": "scatterternary"
           }
          ],
          "surface": [
           {
            "colorbar": {
             "outlinewidth": 0,
             "ticks": ""
            },
            "colorscale": [
             [
              0,
              "#0d0887"
             ],
             [
              0.1111111111111111,
              "#46039f"
             ],
             [
              0.2222222222222222,
              "#7201a8"
             ],
             [
              0.3333333333333333,
              "#9c179e"
             ],
             [
              0.4444444444444444,
              "#bd3786"
             ],
             [
              0.5555555555555556,
              "#d8576b"
             ],
             [
              0.6666666666666666,
              "#ed7953"
             ],
             [
              0.7777777777777778,
              "#fb9f3a"
             ],
             [
              0.8888888888888888,
              "#fdca26"
             ],
             [
              1,
              "#f0f921"
             ]
            ],
            "type": "surface"
           }
          ],
          "table": [
           {
            "cells": {
             "fill": {
              "color": "#EBF0F8"
             },
             "line": {
              "color": "white"
             }
            },
            "header": {
             "fill": {
              "color": "#C8D4E3"
             },
             "line": {
              "color": "white"
             }
            },
            "type": "table"
           }
          ]
         },
         "layout": {
          "annotationdefaults": {
           "arrowcolor": "#2a3f5f",
           "arrowhead": 0,
           "arrowwidth": 1
          },
          "autotypenumbers": "strict",
          "coloraxis": {
           "colorbar": {
            "outlinewidth": 0,
            "ticks": ""
           }
          },
          "colorscale": {
           "diverging": [
            [
             0,
             "#8e0152"
            ],
            [
             0.1,
             "#c51b7d"
            ],
            [
             0.2,
             "#de77ae"
            ],
            [
             0.3,
             "#f1b6da"
            ],
            [
             0.4,
             "#fde0ef"
            ],
            [
             0.5,
             "#f7f7f7"
            ],
            [
             0.6,
             "#e6f5d0"
            ],
            [
             0.7,
             "#b8e186"
            ],
            [
             0.8,
             "#7fbc41"
            ],
            [
             0.9,
             "#4d9221"
            ],
            [
             1,
             "#276419"
            ]
           ],
           "sequential": [
            [
             0,
             "#0d0887"
            ],
            [
             0.1111111111111111,
             "#46039f"
            ],
            [
             0.2222222222222222,
             "#7201a8"
            ],
            [
             0.3333333333333333,
             "#9c179e"
            ],
            [
             0.4444444444444444,
             "#bd3786"
            ],
            [
             0.5555555555555556,
             "#d8576b"
            ],
            [
             0.6666666666666666,
             "#ed7953"
            ],
            [
             0.7777777777777778,
             "#fb9f3a"
            ],
            [
             0.8888888888888888,
             "#fdca26"
            ],
            [
             1,
             "#f0f921"
            ]
           ],
           "sequentialminus": [
            [
             0,
             "#0d0887"
            ],
            [
             0.1111111111111111,
             "#46039f"
            ],
            [
             0.2222222222222222,
             "#7201a8"
            ],
            [
             0.3333333333333333,
             "#9c179e"
            ],
            [
             0.4444444444444444,
             "#bd3786"
            ],
            [
             0.5555555555555556,
             "#d8576b"
            ],
            [
             0.6666666666666666,
             "#ed7953"
            ],
            [
             0.7777777777777778,
             "#fb9f3a"
            ],
            [
             0.8888888888888888,
             "#fdca26"
            ],
            [
             1,
             "#f0f921"
            ]
           ]
          },
          "colorway": [
           "#636efa",
           "#EF553B",
           "#00cc96",
           "#ab63fa",
           "#FFA15A",
           "#19d3f3",
           "#FF6692",
           "#B6E880",
           "#FF97FF",
           "#FECB52"
          ],
          "font": {
           "color": "#2a3f5f"
          },
          "geo": {
           "bgcolor": "white",
           "lakecolor": "white",
           "landcolor": "#E5ECF6",
           "showlakes": true,
           "showland": true,
           "subunitcolor": "white"
          },
          "hoverlabel": {
           "align": "left"
          },
          "hovermode": "closest",
          "mapbox": {
           "style": "light"
          },
          "paper_bgcolor": "white",
          "plot_bgcolor": "#E5ECF6",
          "polar": {
           "angularaxis": {
            "gridcolor": "white",
            "linecolor": "white",
            "ticks": ""
           },
           "bgcolor": "#E5ECF6",
           "radialaxis": {
            "gridcolor": "white",
            "linecolor": "white",
            "ticks": ""
           }
          },
          "scene": {
           "xaxis": {
            "backgroundcolor": "#E5ECF6",
            "gridcolor": "white",
            "gridwidth": 2,
            "linecolor": "white",
            "showbackground": true,
            "ticks": "",
            "zerolinecolor": "white"
           },
           "yaxis": {
            "backgroundcolor": "#E5ECF6",
            "gridcolor": "white",
            "gridwidth": 2,
            "linecolor": "white",
            "showbackground": true,
            "ticks": "",
            "zerolinecolor": "white"
           },
           "zaxis": {
            "backgroundcolor": "#E5ECF6",
            "gridcolor": "white",
            "gridwidth": 2,
            "linecolor": "white",
            "showbackground": true,
            "ticks": "",
            "zerolinecolor": "white"
           }
          },
          "shapedefaults": {
           "line": {
            "color": "#2a3f5f"
           }
          },
          "ternary": {
           "aaxis": {
            "gridcolor": "white",
            "linecolor": "white",
            "ticks": ""
           },
           "baxis": {
            "gridcolor": "white",
            "linecolor": "white",
            "ticks": ""
           },
           "bgcolor": "#E5ECF6",
           "caxis": {
            "gridcolor": "white",
            "linecolor": "white",
            "ticks": ""
           }
          },
          "title": {
           "x": 0.05
          },
          "xaxis": {
           "automargin": true,
           "gridcolor": "white",
           "linecolor": "white",
           "ticks": "",
           "title": {
            "standoff": 15
           },
           "zerolinecolor": "white",
           "zerolinewidth": 2
          },
          "yaxis": {
           "automargin": true,
           "gridcolor": "white",
           "linecolor": "white",
           "ticks": "",
           "title": {
            "standoff": 15
           },
           "zerolinecolor": "white",
           "zerolinewidth": 2
          }
         }
        },
        "width": 2000,
        "xaxis": {
         "categoryarray": [
          "5: 10, 10",
          "5: 20, 10",
          "5: 20, 20",
          "5: 50, 10",
          "5: 50, 25",
          "5: 50, 50",
          "5: 100, 1",
          "5: 100, 10",
          "5: 100, 50",
          "5: 100, 100",
          "10: 10, 10",
          "10: 20, 10",
          "10: 20, 20",
          "10: 50, 10",
          "10: 50, 25",
          "10: 50, 50",
          "10: 100, 1",
          "10: 100, 10",
          "10: 100, 50",
          "10: 100, 100",
          "15: 10, 10",
          "15: 20, 10",
          "15: 20, 20",
          "15: 50, 10",
          "15: 50, 25",
          "15: 50, 50",
          "15: 100, 1",
          "15: 100, 10",
          "15: 100, 50",
          "15: 100, 100",
          "20: 10, 10",
          "20: 20, 10",
          "20: 20, 20",
          "20: 50, 10",
          "20: 50, 25",
          "20: 50, 50",
          "20: 100, 1",
          "20: 100, 10",
          "20: 100, 50",
          "20: 100, 100"
         ],
         "categoryorder": "array"
        }
       }
      }
     },
     "metadata": {}
    }
   ],
   "source": [
    "from data import total\n",
    "from sklearn.preprocessing import MinMaxScaler\n",
    "from scipy import stats\n",
    "\n",
    "scores['found_norm'] = [(total-x)/total for x in scores['not_found']]\n",
    "\n",
    "def modified_zscore(data):\n",
    "    median = np.median(data)\n",
    "    deviation_from_med = data - median\n",
    "    mad = np.median(np.abs(deviation_from_med))\n",
    "    consistency_correction = 1\n",
    "    consistency_correction = 1.4826\n",
    "    mod_zscore = deviation_from_med / (consistency_correction*mad)\n",
    "\n",
    "    return mod_zscore\n",
    "\n",
    "scores['topics_num_L1'] = 1 / (np.abs(modified_zscore(scores['topics_num'])) + 1)\n",
    "scores['topics_num_L2'] = 1 / (np.power(modified_zscore(scores['topics_num']),2) + 1)\n",
    "\n",
    "minimax = MinMaxScaler().fit_transform(scores[['c_su','u_mass','found_norm','topics_num_L1']])\n",
    "\n",
    "scores['avg'] = np.nanmean(minimax, axis=1)\n",
    "plot_score('avg')"
   ]
  },
  {
   "cell_type": "code",
   "execution_count": 438,
   "metadata": {},
   "outputs": [
    {
     "output_type": "display_data",
     "data": {
      "application/vnd.plotly.v1+json": {
       "config": {
        "plotlyServerURL": "https://plot.ly"
       },
       "data": [
        {
         "legendgroup": "sbert-default",
         "line": {
          "color": "#660100"
         },
         "name": "sbert-default",
         "showlegend": true,
         "text": [
          "sbert-default<br>Topic size: 1896<br>Unknown: 185945",
          "sbert-default<br>Topic size: 971<br>Unknown: 188090",
          "sbert-default<br>Topic size: 652<br>Unknown: 188320",
          "sbert-default<br>Topic size: 374<br>Unknown: 182550",
          "sbert-default<br>Topic size: 282<br>Unknown: 177045",
          "sbert-default<br>Topic size: 222<br>Unknown: 182990",
          "sbert-default<br>Topic size: 300<br>Unknown: 170080",
          "sbert-default<br>Topic size: 197<br>Unknown: 181430",
          "sbert-default<br>Topic size: 154<br>Unknown: 179670",
          "sbert-default<br>Topic size: 119<br>Unknown: 172450"
         ],
         "type": "scatter",
         "x": [
          "5: 10, 10",
          "5: 20, 10",
          "5: 20, 20",
          "5: 50, 10",
          "5: 50, 25",
          "5: 50, 50",
          "5: 100, 1",
          "5: 100, 10",
          "5: 100, 50",
          "5: 100, 100"
         ],
         "y": [
          0.08232584916522741,
          0.17610837438423646,
          0.29006085192697767,
          0.6651162790697674,
          0.8773006134969326,
          0.6412556053811659,
          0.9862068965517242,
          0.5766129032258065,
          0.49140893470790376,
          0.4386503067484662
         ]
        },
        {
         "legendgroup": "sbert-default",
         "line": {
          "color": "#660100"
         },
         "name": "sbert-default",
         "showlegend": false,
         "text": [
          "sbert-default<br>Topic size: 922<br>Unknown: 193660",
          "sbert-default<br>Topic size: 503<br>Unknown: 187830",
          "sbert-default<br>Topic size: 351<br>Unknown: 181750",
          "sbert-default<br>Topic size: 248<br>Unknown: 183780",
          "sbert-default<br>Topic size: 204<br>Unknown: 182645",
          "sbert-default<br>Topic size: 177<br>Unknown: 181135",
          "sbert-default<br>Topic size: 210<br>Unknown: 169805",
          "sbert-default<br>Topic size: 154<br>Unknown: 182080",
          "sbert-default<br>Topic size: 118<br>Unknown: 175780"
         ],
         "type": "scatter",
         "x": [
          "10: 10, 10",
          "10: 20, 10",
          "10: 20, 20",
          "10: 50, 10",
          "10: 50, 25",
          "10: 50, 50",
          "10: 100, 1",
          "10: 100, 10",
          "10: 100, 50"
         ],
         "y": [
          0.1874180865006553,
          0.4156976744186046,
          0.7447916666666666,
          0.7258883248730965,
          0.5933609958506224,
          0.5335820895522388,
          0.6085106382978723,
          0.49140893470790376,
          0.43730886850152906
         ]
        },
        {
         "legendgroup": "sbert-default",
         "line": {
          "color": "#660100"
         },
         "name": "sbert-default",
         "showlegend": false,
         "text": [
          "sbert-default<br>Topic size: 738<br>Unknown: 205200",
          "sbert-default<br>Topic size: 425<br>Unknown: 203275",
          "sbert-default<br>Topic size: 312<br>Unknown: 198540",
          "sbert-default<br>Topic size: 211<br>Unknown: 191905",
          "sbert-default<br>Topic size: 146<br>Unknown: 180010",
          "sbert-default<br>Topic size: 172<br>Unknown: 164975",
          "sbert-default<br>Topic size: 129<br>Unknown: 185330"
         ],
         "type": "scatter",
         "x": [
          "15: 10, 10",
          "15: 20, 10",
          "15: 20, 20",
          "15: 50, 10",
          "15: 50, 50",
          "15: 100, 1",
          "15: 100, 10"
         ],
         "y": [
          0.24697754749568226,
          0.5375939849624061,
          0.9346405228758169,
          0.6111111111111112,
          0.4782608695652174,
          0.5238095238095238,
          0.4525316455696202
         ]
        },
        {
         "legendgroup": "sbert-lexrank-top1",
         "line": {
          "color": "#900300"
         },
         "name": "sbert-lexrank-top1",
         "showlegend": true,
         "text": [
          "sbert-lexrank-top1<br>Topic size: 995<br>Unknown: 172310",
          "sbert-lexrank-top1<br>Topic size: 568<br>Unknown: 146070",
          "sbert-lexrank-top1<br>Topic size: 444<br>Unknown: 136840",
          "sbert-lexrank-top1<br>Topic size: 292<br>Unknown: 139400",
          "sbert-lexrank-top1<br>Topic size: 251<br>Unknown: 132910",
          "sbert-lexrank-top1<br>Topic size: 214<br>Unknown: 134730",
          "sbert-lexrank-top1<br>Topic size: 285<br>Unknown: 146610",
          "sbert-lexrank-top1<br>Topic size: 182<br>Unknown: 135615",
          "sbert-lexrank-top1<br>Topic size: 141<br>Unknown: 119045",
          "sbert-lexrank-top1<br>Topic size: 127<br>Unknown: 117995"
         ],
         "type": "scatter",
         "x": [
          "15: 10, 10",
          "15: 20, 10",
          "15: 20, 20",
          "15: 50, 10",
          "15: 50, 25",
          "15: 50, 50",
          "15: 100, 1",
          "15: 100, 10",
          "15: 100, 50",
          "15: 100, 100"
         ],
         "y": [
          0.17105263157894737,
          0.34963325183374083,
          0.5017543859649123,
          0.9346405228758169,
          0.7371134020618556,
          0.6190476190476191,
          0.8937499999999999,
          0.5437262357414449,
          0.47039473684210525,
          0.449685534591195
         ]
        },
        {
         "legendgroup": "sbert-lexrank-top1",
         "line": {
          "color": "#900300"
         },
         "name": "sbert-lexrank-top1",
         "showlegend": false,
         "text": [
          "sbert-lexrank-top1<br>Topic size: 905<br>Unknown: 174548",
          "sbert-lexrank-top1<br>Topic size: 582<br>Unknown: 170249",
          "sbert-lexrank-top1<br>Topic size: 390<br>Unknown: 141916",
          "sbert-lexrank-top1<br>Topic size: 313<br>Unknown: 166167",
          "sbert-lexrank-top1<br>Topic size: 218<br>Unknown: 130313",
          "sbert-lexrank-top1<br>Topic size: 175<br>Unknown: 119157",
          "sbert-lexrank-top1<br>Topic size: 265<br>Unknown: 151123",
          "sbert-lexrank-top1<br>Topic size: 210<br>Unknown: 158513",
          "sbert-lexrank-top1<br>Topic size: 132<br>Unknown: 126116",
          "sbert-lexrank-top1<br>Topic size: 122<br>Unknown: 125570"
         ],
         "type": "scatter",
         "x": [
          "20: 10, 10",
          "20: 20, 10",
          "20: 20, 20",
          "20: 50, 10",
          "20: 50, 25",
          "20: 50, 50",
          "20: 100, 1",
          "20: 100, 10",
          "20: 100, 50",
          "20: 100, 100"
         ],
         "y": [
          0.19168900804289546,
          0.3380614657210402,
          0.6190476190476191,
          0.9285714285714286,
          0.6299559471365639,
          0.5296296296296297,
          0.7944444444444444,
          0.6085106382978723,
          0.45686900958466453,
          0.44272445820433437
         ]
        },
        {
         "legendgroup": "sbert-lexrank-top5",
         "line": {
          "color": "#bb0600"
         },
         "name": "sbert-lexrank-top5",
         "showlegend": true,
         "text": [
          "sbert-lexrank-top5<br>Topic size: 2140<br>Unknown: 161096",
          "sbert-lexrank-top5<br>Topic size: 1131<br>Unknown: 153871",
          "sbert-lexrank-top5<br>Topic size: 836<br>Unknown: 150101",
          "sbert-lexrank-top5<br>Topic size: 498<br>Unknown: 142758",
          "sbert-lexrank-top5<br>Topic size: 433<br>Unknown: 148144",
          "sbert-lexrank-top5<br>Topic size: 333<br>Unknown: 135451",
          "sbert-lexrank-top5<br>Topic size: 369<br>Unknown: 124453",
          "sbert-lexrank-top5<br>Topic size: 297<br>Unknown: 134392",
          "sbert-lexrank-top5<br>Topic size: 203<br>Unknown: 111536",
          "sbert-lexrank-top5<br>Topic size: 199<br>Unknown: 131812"
         ],
         "type": "scatter",
         "x": [
          "5: 10, 10",
          "5: 20, 10",
          "5: 20, 20",
          "5: 50, 10",
          "5: 50, 25",
          "5: 50, 50",
          "5: 100, 1",
          "5: 100, 10",
          "5: 100, 50",
          "5: 100, 100"
         ],
         "y": [
          0.07218576476527007,
          0.147119341563786,
          0.21122599704579026,
          0.4218289085545722,
          0.5218978102189781,
          0.8218390804597702,
          0.680952380952381,
          0.9662162162162162,
          0.5909090909090909,
          0.5813008130081301
         ]
        },
        {
         "legendgroup": "sbert-lexrank-top5",
         "line": {
          "color": "#bb0600"
         },
         "name": "sbert-lexrank-top5",
         "showlegend": false,
         "text": [
          "sbert-lexrank-top5<br>Topic size: 1333<br>Unknown: 169948",
          "sbert-lexrank-top5<br>Topic size: 788<br>Unknown: 163483",
          "sbert-lexrank-top5<br>Topic size: 606<br>Unknown: 151789",
          "sbert-lexrank-top5<br>Topic size: 387<br>Unknown: 148930",
          "sbert-lexrank-top5<br>Topic size: 358<br>Unknown: 157413",
          "sbert-lexrank-top5<br>Topic size: 297<br>Unknown: 143972",
          "sbert-lexrank-top5<br>Topic size: 295<br>Unknown: 129452",
          "sbert-lexrank-top5<br>Topic size: 230<br>Unknown: 139647",
          "sbert-lexrank-top5<br>Topic size: 183<br>Unknown: 123162",
          "sbert-lexrank-top5<br>Topic size: 161<br>Unknown: 117952"
         ],
         "type": "scatter",
         "x": [
          "10: 10, 10",
          "10: 20, 10",
          "10: 20, 20",
          "10: 50, 10",
          "10: 50, 25",
          "10: 50, 50",
          "10: 100, 1",
          "10: 100, 10",
          "10: 100, 50",
          "10: 100, 100"
         ],
         "y": [
          0.12180579216354344,
          0.2273449920508744,
          0.319910514541387,
          0.6271929824561404,
          0.7185929648241206,
          0.9662162162162162,
          0.9533333333333334,
          0.6651162790697674,
          0.5458015267175573,
          0.5035211267605634
         ]
        },
        {
         "legendgroup": "sbert-lexrank-top5",
         "line": {
          "color": "#bb0600"
         },
         "name": "sbert-lexrank-top5",
         "showlegend": false,
         "text": [
          "sbert-lexrank-top5<br>Topic size: 1132<br>Unknown: 180465",
          "sbert-lexrank-top5<br>Topic size: 696<br>Unknown: 173951",
          "sbert-lexrank-top5<br>Topic size: 563<br>Unknown: 166568",
          "sbert-lexrank-top5<br>Topic size: 365<br>Unknown: 157272",
          "sbert-lexrank-top5<br>Topic size: 323<br>Unknown: 156678",
          "sbert-lexrank-top5<br>Topic size: 245<br>Unknown: 141331",
          "sbert-lexrank-top5<br>Topic size: 295<br>Unknown: 146673",
          "sbert-lexrank-top5<br>Topic size: 206<br>Unknown: 141583",
          "sbert-lexrank-top5<br>Topic size: 182<br>Unknown: 134081",
          "sbert-lexrank-top5<br>Topic size: 149<br>Unknown: 123281"
         ],
         "type": "scatter",
         "x": [
          "15: 10, 10",
          "15: 20, 10",
          "15: 20, 20",
          "15: 50, 10",
          "15: 50, 25",
          "15: 50, 50",
          "15: 100, 1",
          "15: 100, 10",
          "15: 100, 50",
          "15: 100, 100"
         ],
         "y": [
          0.14696813977389517,
          0.26629422718808193,
          0.353960396039604,
          0.6941747572815533,
          0.8719512195121951,
          0.7150000000000001,
          0.9533333333333334,
          0.598326359832636,
          0.5437262357414449,
          0.4831081081081081
         ]
        },
        {
         "legendgroup": "sbert-lexrank-top5",
         "line": {
          "color": "#bb0600"
         },
         "name": "sbert-lexrank-top5",
         "showlegend": false,
         "text": [
          "sbert-lexrank-top5<br>Topic size: 1019<br>Unknown: 174684",
          "sbert-lexrank-top5<br>Topic size: 640<br>Unknown: 171719",
          "sbert-lexrank-top5<br>Topic size: 495<br>Unknown: 167793",
          "sbert-lexrank-top5<br>Topic size: 330<br>Unknown: 158205",
          "sbert-lexrank-top5<br>Topic size: 282<br>Unknown: 143166",
          "sbert-lexrank-top5<br>Topic size: 227<br>Unknown: 127898",
          "sbert-lexrank-top5<br>Topic size: 265<br>Unknown: 144576",
          "sbert-lexrank-top5<br>Topic size: 204<br>Unknown: 144744",
          "sbert-lexrank-top5<br>Topic size: 166<br>Unknown: 122429",
          "sbert-lexrank-top5<br>Topic size: 146<br>Unknown: 116951"
         ],
         "type": "scatter",
         "x": [
          "20: 10, 10",
          "20: 20, 10",
          "20: 20, 20",
          "20: 50, 10",
          "20: 50, 25",
          "20: 50, 50",
          "20: 100, 1",
          "20: 100, 10",
          "20: 100, 50",
          "20: 100, 100"
         ],
         "y": [
          0.16627906976744186,
          0.2972972972972973,
          0.4255952380952381,
          0.8362573099415205,
          0.8773006134969326,
          0.6559633027522935,
          0.7944444444444444,
          0.5933609958506224,
          0.5125448028673835,
          0.4782608695652174
         ]
        },
        {
         "legendgroup": "sbert-lexrank-weighted",
         "line": {
          "color": "#e81000"
         },
         "name": "sbert-lexrank-weighted",
         "showlegend": true,
         "text": [
          "sbert-lexrank-weighted<br>Topic size: 2215<br>Unknown: 155735",
          "sbert-lexrank-weighted<br>Topic size: 1169<br>Unknown: 145094",
          "sbert-lexrank-weighted<br>Topic size: 881<br>Unknown: 145665",
          "sbert-lexrank-weighted<br>Topic size: 512<br>Unknown: 134962",
          "sbert-lexrank-weighted<br>Topic size: 396<br>Unknown: 134052",
          "sbert-lexrank-weighted<br>Topic size: 320<br>Unknown: 137559",
          "sbert-lexrank-weighted<br>Topic size: 361<br>Unknown: 124682",
          "sbert-lexrank-weighted<br>Topic size: 271<br>Unknown: 132201",
          "sbert-lexrank-weighted<br>Topic size: 201<br>Unknown: 123010",
          "sbert-lexrank-weighted<br>Topic size: 169<br>Unknown: 129006"
         ],
         "type": "scatter",
         "x": [
          "5: 10, 10",
          "5: 20, 10",
          "5: 20, 20",
          "5: 50, 10",
          "5: 50, 25",
          "5: 50, 50",
          "5: 100, 1",
          "5: 100, 10",
          "5: 100, 50",
          "5: 100, 100"
         ],
         "y": [
          0.06955252918287938,
          0.14158415841584157,
          0.19806094182825484,
          0.4050991501416431,
          0.6033755274261604,
          0.8881987577639752,
          0.707920792079208,
          0.8218390804597702,
          0.5860655737704918,
          0.5181159420289855
         ]
        },
        {
         "legendgroup": "sbert-lexrank-weighted",
         "line": {
          "color": "#e81000"
         },
         "name": "sbert-lexrank-weighted",
         "showlegend": false,
         "text": [
          "sbert-lexrank-weighted<br>Topic size: 1293<br>Unknown: 170935",
          "sbert-lexrank-weighted<br>Topic size: 729<br>Unknown: 162427",
          "sbert-lexrank-weighted<br>Topic size: 574<br>Unknown: 161807",
          "sbert-lexrank-weighted<br>Topic size: 365<br>Unknown: 155211",
          "sbert-lexrank-weighted<br>Topic size: 312<br>Unknown: 151126",
          "sbert-lexrank-weighted<br>Topic size: 247<br>Unknown: 144339",
          "sbert-lexrank-weighted<br>Topic size: 274<br>Unknown: 130600",
          "sbert-lexrank-weighted<br>Topic size: 201<br>Unknown: 135032",
          "sbert-lexrank-weighted<br>Topic size: 163<br>Unknown: 136181",
          "sbert-lexrank-weighted<br>Topic size: 126<br>Unknown: 110932"
         ],
         "type": "scatter",
         "x": [
          "10: 10, 10",
          "10: 20, 10",
          "10: 20, 20",
          "10: 50, 10",
          "10: 50, 25",
          "10: 50, 50",
          "10: 100, 1",
          "10: 100, 10",
          "10: 100, 50",
          "10: 100, 100"
         ],
         "y": [
          0.12610229276895943,
          0.25087719298245614,
          0.344578313253012,
          0.6941747572815533,
          0.9346405228758169,
          0.7222222222222222,
          0.8362573099415205,
          0.5860655737704918,
          0.5070921985815603,
          0.4482758620689655
         ]
        },
        {
         "legendgroup": "sbert-lexrank-weighted",
         "line": {
          "color": "#e81000"
         },
         "name": "sbert-lexrank-weighted",
         "showlegend": false,
         "text": [
          "sbert-lexrank-weighted<br>Topic size: 1048<br>Unknown: 176046",
          "sbert-lexrank-weighted<br>Topic size: 658<br>Unknown: 177833",
          "sbert-lexrank-weighted<br>Topic size: 494<br>Unknown: 165271",
          "sbert-lexrank-weighted<br>Topic size: 338<br>Unknown: 166685",
          "sbert-lexrank-weighted<br>Topic size: 286<br>Unknown: 161399",
          "sbert-lexrank-weighted<br>Topic size: 228<br>Unknown: 156457",
          "sbert-lexrank-weighted<br>Topic size: 214<br>Unknown: 120597",
          "sbert-lexrank-weighted<br>Topic size: 172<br>Unknown: 137225",
          "sbert-lexrank-weighted<br>Topic size: 155<br>Unknown: 141932",
          "sbert-lexrank-weighted<br>Topic size: 125<br>Unknown: 132242"
         ],
         "type": "scatter",
         "x": [
          "15: 10, 10",
          "15: 20, 10",
          "15: 20, 20",
          "15: 50, 10",
          "15: 50, 25",
          "15: 50, 50",
          "15: 100, 1",
          "15: 100, 10",
          "15: 100, 50",
          "15: 100, 100"
         ],
         "y": [
          0.1608548931383577,
          0.2865731462925852,
          0.42686567164179107,
          0.7988826815642459,
          0.89937106918239,
          0.6589861751152074,
          0.6190476190476191,
          0.5238095238095238,
          0.4931034482758621,
          0.4468750000000001
         ]
        },
        {
         "legendgroup": "sbert-lexrank-weighted",
         "line": {
          "color": "#e81000"
         },
         "name": "sbert-lexrank-weighted",
         "showlegend": false,
         "text": [
          "sbert-lexrank-weighted<br>Topic size: 958<br>Unknown: 183047",
          "sbert-lexrank-weighted<br>Topic size: 570<br>Unknown: 170576",
          "sbert-lexrank-weighted<br>Topic size: 428<br>Unknown: 160220",
          "sbert-lexrank-weighted<br>Topic size: 308<br>Unknown: 155995",
          "sbert-lexrank-weighted<br>Topic size: 236<br>Unknown: 146632",
          "sbert-lexrank-weighted<br>Topic size: 210<br>Unknown: 152949",
          "sbert-lexrank-weighted<br>Topic size: 219<br>Unknown: 134265",
          "sbert-lexrank-weighted<br>Topic size: 174<br>Unknown: 148987",
          "sbert-lexrank-weighted<br>Topic size: 136<br>Unknown: 137453",
          "sbert-lexrank-weighted<br>Topic size: 128<br>Unknown: 146128"
         ],
         "type": "scatter",
         "x": [
          "20: 10, 10",
          "20: 20, 10",
          "20: 20, 20",
          "20: 50, 10",
          "20: 50, 25",
          "20: 50, 50",
          "20: 100, 1",
          "20: 100, 10",
          "20: 100, 50",
          "20: 100, 100"
         ],
         "y": [
          0.17897371714643304,
          0.34793187347931875,
          0.5315985130111524,
          0.9597315436241611,
          0.6842105263157894,
          0.6085106382978723,
          0.6327433628318584,
          0.5276752767527676,
          0.4627831715210356,
          0.45110410094637227
         ]
        },
        {
         "legendgroup": "sbert-mean",
         "line": {
          "color": "#fd5100"
         },
         "name": "sbert-mean",
         "showlegend": true,
         "text": [
          "sbert-mean<br>Topic size: 2062<br>Unknown: 151790",
          "sbert-mean<br>Topic size: 1063<br>Unknown: 141618",
          "sbert-mean<br>Topic size: 814<br>Unknown: 152206",
          "sbert-mean<br>Topic size: 471<br>Unknown: 138952",
          "sbert-mean<br>Topic size: 379<br>Unknown: 139983",
          "sbert-mean<br>Topic size: 306<br>Unknown: 137669",
          "sbert-mean<br>Topic size: 290<br>Unknown: 108633",
          "sbert-mean<br>Topic size: 251<br>Unknown: 129211",
          "sbert-mean<br>Topic size: 189<br>Unknown: 130519",
          "sbert-mean<br>Topic size: 159<br>Unknown: 130629"
         ],
         "type": "scatter",
         "x": [
          "5: 10, 10",
          "5: 20, 10",
          "5: 20, 20",
          "5: 50, 10",
          "5: 50, 25",
          "5: 50, 50",
          "5: 100, 1",
          "5: 100, 10",
          "5: 100, 50",
          "5: 100, 100"
         ],
         "y": [
          0.07514450867052022,
          0.1581858407079646,
          0.2183206106870229,
          0.45833333333333337,
          0.65,
          0.9727891156462586,
          0.9225806451612902,
          0.7371134020618556,
          0.55859375,
          0.5
         ]
        },
        {
         "legendgroup": "sbert-mean",
         "line": {
          "color": "#fd5100"
         },
         "name": "sbert-mean",
         "showlegend": false,
         "text": [
          "sbert-mean<br>Topic size: 1169<br>Unknown: 168708",
          "sbert-mean<br>Topic size: 701<br>Unknown: 166099",
          "sbert-mean<br>Topic size: 508<br>Unknown: 151029",
          "sbert-mean<br>Topic size: 330<br>Unknown: 144545",
          "sbert-mean<br>Topic size: 279<br>Unknown: 145866",
          "sbert-mean<br>Topic size: 227<br>Unknown: 141800",
          "sbert-mean<br>Topic size: 266<br>Unknown: 134045",
          "sbert-mean<br>Topic size: 187<br>Unknown: 138033",
          "sbert-mean<br>Topic size: 161<br>Unknown: 134920",
          "sbert-mean<br>Topic size: 127<br>Unknown: 119106"
         ],
         "type": "scatter",
         "x": [
          "10: 10, 10",
          "10: 20, 10",
          "10: 20, 20",
          "10: 50, 10",
          "10: 50, 25",
          "10: 50, 50",
          "10: 100, 1",
          "10: 100, 10",
          "10: 100, 50",
          "10: 100, 100"
         ],
         "y": [
          0.14158415841584157,
          0.26383763837638374,
          0.4097421203438395,
          0.8362573099415205,
          0.8614457831325302,
          0.6559633027522935,
          0.7988826815642459,
          0.5542635658914729,
          0.5035211267605634,
          0.449685534591195
         ]
        },
        {
         "legendgroup": "sbert-mean",
         "line": {
          "color": "#fd5100"
         },
         "name": "sbert-mean",
         "showlegend": false,
         "text": [
          "sbert-mean<br>Topic size: 911<br>Unknown: 169715",
          "sbert-mean<br>Topic size: 553<br>Unknown: 165919",
          "sbert-mean<br>Topic size: 477<br>Unknown: 172864",
          "sbert-mean<br>Topic size: 263<br>Unknown: 145584",
          "sbert-mean<br>Topic size: 230<br>Unknown: 143620",
          "sbert-mean<br>Topic size: 185<br>Unknown: 137601",
          "sbert-mean<br>Topic size: 212<br>Unknown: 128240",
          "sbert-mean<br>Topic size: 161<br>Unknown: 134317",
          "sbert-mean<br>Topic size: 141<br>Unknown: 135507",
          "sbert-mean<br>Topic size: 117<br>Unknown: 125059"
         ],
         "type": "scatter",
         "x": [
          "15: 10, 10",
          "15: 20, 10",
          "15: 20, 20",
          "15: 50, 10",
          "15: 50, 25",
          "15: 50, 50",
          "15: 100, 1",
          "15: 100, 10",
          "15: 100, 50",
          "15: 100, 100"
         ],
         "y": [
          0.19015957446808512,
          0.36294416243654826,
          0.449685534591195,
          0.7857142857142857,
          0.6651162790697674,
          0.5499999999999999,
          0.6137339055793991,
          0.5035211267605634,
          0.47039473684210525,
          0.43597560975609756
         ]
        },
        {
         "legendgroup": "sbert-mean",
         "line": {
          "color": "#fd5100"
         },
         "name": "sbert-mean",
         "showlegend": false,
         "text": [
          "sbert-mean<br>Topic size: 857<br>Unknown: 180243",
          "sbert-mean<br>Topic size: 515<br>Unknown: 164058",
          "sbert-mean<br>Topic size: 403<br>Unknown: 161256",
          "sbert-mean<br>Topic size: 276<br>Unknown: 159503",
          "sbert-mean<br>Topic size: 226<br>Unknown: 151423",
          "sbert-mean<br>Topic size: 190<br>Unknown: 146848",
          "sbert-mean<br>Topic size: 212<br>Unknown: 133421",
          "sbert-mean<br>Topic size: 157<br>Unknown: 140080",
          "sbert-mean<br>Topic size: 130<br>Unknown: 137358",
          "sbert-mean<br>Topic size: 121<br>Unknown: 137663"
         ],
         "type": "scatter",
         "x": [
          "20: 10, 10",
          "20: 20, 10",
          "20: 20, 20",
          "20: 50, 10",
          "20: 50, 25",
          "20: 50, 50",
          "20: 100, 1",
          "20: 100, 10",
          "20: 100, 50",
          "20: 100, 100"
         ],
         "y": [
          0.20487106017191975,
          0.40168539325842695,
          0.5860655737704918,
          0.8461538461538461,
          0.6529680365296804,
          0.5607843137254902,
          0.6137339055793991,
          0.49652777777777773,
          0.453968253968254,
          0.441358024691358
         ]
        },
        {
         "legendgroup": "sbert-tf-idf-top1",
         "line": {
          "color": "#ff8700"
         },
         "name": "sbert-tf-idf-top1",
         "showlegend": true,
         "text": [
          "sbert-tf-idf-top1<br>Topic size: 1302<br>Unknown: 162583",
          "sbert-tf-idf-top1<br>Topic size: 752<br>Unknown: 159697",
          "sbert-tf-idf-top1<br>Topic size: 566<br>Unknown: 161029",
          "sbert-tf-idf-top1<br>Topic size: 326<br>Unknown: 158131",
          "sbert-tf-idf-top1<br>Topic size: 273<br>Unknown: 162760",
          "sbert-tf-idf-top1<br>Topic size: 232<br>Unknown: 157454",
          "sbert-tf-idf-top1<br>Topic size: 261<br>Unknown: 155372",
          "sbert-tf-idf-top1<br>Topic size: 169<br>Unknown: 142025",
          "sbert-tf-idf-top1<br>Topic size: 129<br>Unknown: 138937",
          "sbert-tf-idf-top1<br>Topic size: 103<br>Unknown: 133838"
         ],
         "type": "scatter",
         "x": [
          "15: 10, 10",
          "15: 20, 10",
          "15: 20, 20",
          "15: 50, 10",
          "15: 50, 25",
          "15: 50, 50",
          "15: 100, 1",
          "15: 100, 10",
          "15: 100, 50",
          "15: 100, 100"
         ],
         "y": [
          0.12510936132983377,
          0.24114671163575044,
          0.3513513513513513,
          0.8562874251497006,
          0.8313953488372093,
          0.6713615023474178,
          0.7771739130434783,
          0.5181159420289855,
          0.4525316455696202,
          0.41812865497076024
         ]
        },
        {
         "legendgroup": "sbert-tf-idf-top1",
         "line": {
          "color": "#ff8700"
         },
         "name": "sbert-tf-idf-top1",
         "showlegend": false,
         "text": [
          "sbert-tf-idf-top1<br>Topic size: 1288<br>Unknown: 190075",
          "sbert-tf-idf-top1<br>Topic size: 665<br>Unknown: 163287",
          "sbert-tf-idf-top1<br>Topic size: 511<br>Unknown: 161868",
          "sbert-tf-idf-top1<br>Topic size: 296<br>Unknown: 159825",
          "sbert-tf-idf-top1<br>Topic size: 245<br>Unknown: 160002",
          "sbert-tf-idf-top1<br>Topic size: 220<br>Unknown: 161647",
          "sbert-tf-idf-top1<br>Topic size: 144<br>Unknown: 142227",
          "sbert-tf-idf-top1<br>Topic size: 136<br>Unknown: 152855",
          "sbert-tf-idf-top1<br>Topic size: 108<br>Unknown: 144273"
         ],
         "type": "scatter",
         "x": [
          "20: 10, 10",
          "20: 20, 10",
          "20: 20, 20",
          "20: 50, 10",
          "20: 50, 25",
          "20: 50, 50",
          "20: 100, 10",
          "20: 100, 50",
          "20: 100, 100"
         ],
         "y": [
          0.1266607617360496,
          0.28260869565217395,
          0.40625,
          0.9597315436241611,
          0.7150000000000001,
          0.6355555555555555,
          0.47508305647840526,
          0.4627831715210356,
          0.42433234421364985
         ]
        },
        {
         "legendgroup": "sbert-tf-idf-top5",
         "line": {
          "color": "#ffb402"
         },
         "name": "sbert-tf-idf-top5",
         "showlegend": true,
         "text": [
          "sbert-tf-idf-top5<br>Topic size: 1751<br>Unknown: 170864",
          "sbert-tf-idf-top5<br>Topic size: 922<br>Unknown: 165115",
          "sbert-tf-idf-top5<br>Topic size: 671<br>Unknown: 171853",
          "sbert-tf-idf-top5<br>Topic size: 379<br>Unknown: 151077",
          "sbert-tf-idf-top5<br>Topic size: 327<br>Unknown: 165330",
          "sbert-tf-idf-top5<br>Topic size: 258<br>Unknown: 162205",
          "sbert-tf-idf-top5<br>Topic size: 284<br>Unknown: 134862",
          "sbert-tf-idf-top5<br>Topic size: 208<br>Unknown: 149433",
          "sbert-tf-idf-top5<br>Topic size: 168<br>Unknown: 155491",
          "sbert-tf-idf-top5<br>Topic size: 99<br>Unknown: 84934"
         ],
         "type": "scatter",
         "x": [
          "5: 10, 10",
          "5: 20, 10",
          "5: 20, 20",
          "5: 50, 10",
          "5: 50, 25",
          "5: 50, 50",
          "5: 100, 1",
          "5: 100, 10",
          "5: 100, 50",
          "5: 100, 100"
         ],
         "y": [
          0.08982412060301508,
          0.1874180865006553,
          0.279296875,
          0.65,
          0.8511904761904762,
          0.7647058823529411,
          0.8881987577639752,
          0.6033755274261604,
          0.516245487364621,
          0.41329479768786126
         ]
        },
        {
         "legendgroup": "sbert-tf-idf-top5",
         "line": {
          "color": "#ffb402"
         },
         "name": "sbert-tf-idf-top5",
         "showlegend": false,
         "text": [
          "sbert-tf-idf-top5<br>Topic size: 956<br>Unknown: 183206",
          "sbert-tf-idf-top5<br>Topic size: 521<br>Unknown: 170760",
          "sbert-tf-idf-top5<br>Topic size: 403<br>Unknown: 171946",
          "sbert-tf-idf-top5<br>Topic size: 278<br>Unknown: 164865",
          "sbert-tf-idf-top5<br>Topic size: 231<br>Unknown: 160668",
          "sbert-tf-idf-top5<br>Topic size: 205<br>Unknown: 159403",
          "sbert-tf-idf-top5<br>Topic size: 213<br>Unknown: 140321",
          "sbert-tf-idf-top5<br>Topic size: 169<br>Unknown: 157660",
          "sbert-tf-idf-top5<br>Topic size: 143<br>Unknown: 154290",
          "sbert-tf-idf-top5<br>Topic size: 113<br>Unknown: 105132"
         ],
         "type": "scatter",
         "x": [
          "10: 10, 10",
          "10: 20, 10",
          "10: 20, 20",
          "10: 50, 10",
          "10: 50, 25",
          "10: 50, 50",
          "10: 100, 1",
          "10: 100, 10",
          "10: 100, 50",
          "10: 100, 100"
         ],
         "y": [
          0.1794228356336261,
          0.39502762430939226,
          0.5860655737704918,
          0.8562874251497006,
          0.6682242990654206,
          0.5958333333333333,
          0.6163793103448275,
          0.5181159420289855,
          0.47350993377483447,
          0.4307228915662651
         ]
        },
        {
         "legendgroup": "sbert-tf-idf-top5",
         "line": {
          "color": "#ffb402"
         },
         "name": "sbert-tf-idf-top5",
         "showlegend": false,
         "text": [
          "sbert-tf-idf-top5<br>Topic size: 788<br>Unknown: 189523",
          "sbert-tf-idf-top5<br>Topic size: 460<br>Unknown: 179528",
          "sbert-tf-idf-top5<br>Topic size: 332<br>Unknown: 174636",
          "sbert-tf-idf-top5<br>Topic size: 230<br>Unknown: 172900",
          "sbert-tf-idf-top5<br>Topic size: 198<br>Unknown: 163613",
          "sbert-tf-idf-top5<br>Topic size: 176<br>Unknown: 169493",
          "sbert-tf-idf-top5<br>Topic size: 205<br>Unknown: 160879",
          "sbert-tf-idf-top5<br>Topic size: 145<br>Unknown: 168864",
          "sbert-tf-idf-top5<br>Topic size: 130<br>Unknown: 165443",
          "sbert-tf-idf-top5<br>Topic size: 113<br>Unknown: 160388"
         ],
         "type": "scatter",
         "x": [
          "15: 10, 10",
          "15: 20, 10",
          "15: 20, 20",
          "15: 50, 10",
          "15: 50, 25",
          "15: 50, 50",
          "15: 100, 1",
          "15: 100, 10",
          "15: 100, 50",
          "15: 100, 100"
         ],
         "y": [
          0.2273449920508744,
          0.47508305647840526,
          0.8265895953757225,
          0.6651162790697674,
          0.5789473684210527,
          0.5315985130111524,
          0.5958333333333333,
          0.4766666666666667,
          0.453968253968254,
          0.4307228915662651
         ]
        },
        {
         "legendgroup": "sbert-tf-idf-top5",
         "line": {
          "color": "#ffb402"
         },
         "name": "sbert-tf-idf-top5",
         "showlegend": false,
         "text": [
          "sbert-tf-idf-top5<br>Topic size: 696<br>Unknown: 189775",
          "sbert-tf-idf-top5<br>Topic size: 432<br>Unknown: 189483",
          "sbert-tf-idf-top5<br>Topic size: 307<br>Unknown: 178515",
          "sbert-tf-idf-top5<br>Topic size: 242<br>Unknown: 189894",
          "sbert-tf-idf-top5<br>Topic size: 182<br>Unknown: 168151",
          "sbert-tf-idf-top5<br>Topic size: 155<br>Unknown: 139696",
          "sbert-tf-idf-top5<br>Topic size: 204<br>Unknown: 166049",
          "sbert-tf-idf-top5<br>Topic size: 152<br>Unknown: 178992",
          "sbert-tf-idf-top5<br>Topic size: 122<br>Unknown: 140742",
          "sbert-tf-idf-top5<br>Topic size: 110<br>Unknown: 150644"
         ],
         "type": "scatter",
         "x": [
          "20: 10, 10",
          "20: 20, 10",
          "20: 20, 20",
          "20: 50, 10",
          "20: 50, 25",
          "20: 50, 50",
          "20: 100, 1",
          "20: 100, 10",
          "20: 100, 50",
          "20: 100, 100"
         ],
         "y": [
          0.26629422718808193,
          0.5238095238095238,
          0.9662162162162162,
          0.7044334975369458,
          0.5437262357414449,
          0.4931034482758621,
          0.5933609958506224,
          0.48805460750853236,
          0.44272445820433437,
          0.42686567164179107
         ]
        },
        {
         "legendgroup": "sbert-tf-idf-weighted",
         "line": {
          "color": "#ffdc0a"
         },
         "name": "sbert-tf-idf-weighted",
         "showlegend": true,
         "text": [
          "sbert-tf-idf-weighted<br>Topic size: 1968<br>Unknown: 161481",
          "sbert-tf-idf-weighted<br>Topic size: 1132<br>Unknown: 159361",
          "sbert-tf-idf-weighted<br>Topic size: 857<br>Unknown: 159629",
          "sbert-tf-idf-weighted<br>Topic size: 506<br>Unknown: 142757",
          "sbert-tf-idf-weighted<br>Topic size: 402<br>Unknown: 135303",
          "sbert-tf-idf-weighted<br>Topic size: 299<br>Unknown: 123437",
          "sbert-tf-idf-weighted<br>Topic size: 340<br>Unknown: 115603",
          "sbert-tf-idf-weighted<br>Topic size: 260<br>Unknown: 122547",
          "sbert-tf-idf-weighted<br>Topic size: 188<br>Unknown: 107362",
          "sbert-tf-idf-weighted<br>Topic size: 181<br>Unknown: 124859"
         ],
         "type": "scatter",
         "x": [
          "5: 10, 10",
          "5: 20, 10",
          "5: 20, 20",
          "5: 50, 10",
          "5: 50, 25",
          "5: 50, 50",
          "5: 100, 1",
          "5: 100, 10",
          "5: 100, 50",
          "5: 100, 100"
         ],
         "y": [
          0.07904919845218353,
          0.14696813977389517,
          0.20487106017191975,
          0.4121037463976945,
          0.5884773662551441,
          0.9794520547945205,
          0.7900552486187845,
          0.772972972972973,
          0.556420233463035,
          0.5416666666666666
         ]
        },
        {
         "legendgroup": "sbert-tf-idf-weighted",
         "line": {
          "color": "#ffdc0a"
         },
         "name": "sbert-tf-idf-weighted",
         "showlegend": false,
         "text": [
          "sbert-tf-idf-weighted<br>Topic size: 1060<br>Unknown: 163933",
          "sbert-tf-idf-weighted<br>Topic size: 635<br>Unknown: 160890",
          "sbert-tf-idf-weighted<br>Topic size: 465<br>Unknown: 150212",
          "sbert-tf-idf-weighted<br>Topic size: 316<br>Unknown: 146732",
          "sbert-tf-idf-weighted<br>Topic size: 260<br>Unknown: 134451",
          "sbert-tf-idf-weighted<br>Topic size: 227<br>Unknown: 137350",
          "sbert-tf-idf-weighted<br>Topic size: 243<br>Unknown: 125834",
          "sbert-tf-idf-weighted<br>Topic size: 200<br>Unknown: 141507",
          "sbert-tf-idf-weighted<br>Topic size: 174<br>Unknown: 134789",
          "sbert-tf-idf-weighted<br>Topic size: 145<br>Unknown: 125287"
         ],
         "type": "scatter",
         "x": [
          "10: 10, 10",
          "10: 20, 10",
          "10: 20, 20",
          "10: 50, 10",
          "10: 50, 25",
          "10: 50, 50",
          "10: 100, 1",
          "10: 100, 10",
          "10: 100, 50",
          "10: 100, 100"
         ],
         "y": [
          0.15871254162042175,
          0.3004201680672269,
          0.46732026143790845,
          0.910828025477707,
          0.772972972972973,
          0.6559633027522935,
          0.707920792079208,
          0.5836734693877551,
          0.5276752767527676,
          0.4766666666666667
         ]
        },
        {
         "legendgroup": "sbert-tf-idf-weighted",
         "line": {
          "color": "#ffdc0a"
         },
         "name": "sbert-tf-idf-weighted",
         "showlegend": false,
         "text": [
          "sbert-tf-idf-weighted<br>Topic size: 871<br>Unknown: 171902",
          "sbert-tf-idf-weighted<br>Topic size: 503<br>Unknown: 156945",
          "sbert-tf-idf-weighted<br>Topic size: 390<br>Unknown: 151173",
          "sbert-tf-idf-weighted<br>Topic size: 266<br>Unknown: 143514",
          "sbert-tf-idf-weighted<br>Topic size: 250<br>Unknown: 149099",
          "sbert-tf-idf-weighted<br>Topic size: 218<br>Unknown: 141563",
          "sbert-tf-idf-weighted<br>Topic size: 225<br>Unknown: 134190",
          "sbert-tf-idf-weighted<br>Topic size: 172<br>Unknown: 136439",
          "sbert-tf-idf-weighted<br>Topic size: 162<br>Unknown: 138939",
          "sbert-tf-idf-weighted<br>Topic size: 129<br>Unknown: 110520"
         ],
         "type": "scatter",
         "x": [
          "15: 10, 10",
          "15: 20, 10",
          "15: 20, 20",
          "15: 50, 10",
          "15: 50, 25",
          "15: 50, 50",
          "15: 100, 1",
          "15: 100, 10",
          "15: 100, 50",
          "15: 100, 100"
         ],
         "y": [
          0.20084269662921347,
          0.4156976744186046,
          0.6190476190476191,
          0.7988826815642459,
          0.7333333333333333,
          0.6299559471365639,
          0.65,
          0.5238095238095238,
          0.5053003533568904,
          0.4525316455696202
         ]
        },
        {
         "legendgroup": "sbert-tf-idf-weighted",
         "line": {
          "color": "#ffdc0a"
         },
         "name": "sbert-tf-idf-weighted",
         "showlegend": false,
         "text": [
          "sbert-tf-idf-weighted<br>Topic size: 790<br>Unknown: 180027",
          "sbert-tf-idf-weighted<br>Topic size: 468<br>Unknown: 166074",
          "sbert-tf-idf-weighted<br>Topic size: 383<br>Unknown: 163967",
          "sbert-tf-idf-weighted<br>Topic size: 252<br>Unknown: 151942",
          "sbert-tf-idf-weighted<br>Topic size: 230<br>Unknown: 152597",
          "sbert-tf-idf-weighted<br>Topic size: 202<br>Unknown: 147752",
          "sbert-tf-idf-weighted<br>Topic size: 209<br>Unknown: 133934",
          "sbert-tf-idf-weighted<br>Topic size: 168<br>Unknown: 149785",
          "sbert-tf-idf-weighted<br>Topic size: 152<br>Unknown: 144955",
          "sbert-tf-idf-weighted<br>Topic size: 138<br>Unknown: 141721"
         ],
         "type": "scatter",
         "x": [
          "20: 10, 10",
          "20: 20, 10",
          "20: 20, 20",
          "20: 50, 10",
          "20: 50, 25",
          "20: 50, 50",
          "20: 100, 1",
          "20: 100, 10",
          "20: 100, 50",
          "20: 100, 100"
         ],
         "y": [
          0.2266244057052298,
          0.4627831715210356,
          0.6383928571428571,
          0.7409326424870467,
          0.6651162790697674,
          0.5884773662551441,
          0.6059322033898304,
          0.516245487364621,
          0.48805460750853236,
          0.4657980456026059
         ]
        },
        {
         "legendgroup": "tfidf",
         "line": {
          "color": "#176e08"
         },
         "name": "tfidf",
         "showlegend": true,
         "text": [
          "tfidf<br>Topic size: 3166<br>Unknown: 101038",
          "tfidf<br>Topic size: 1990<br>Unknown: 99607",
          "tfidf<br>Topic size: 1701<br>Unknown: 100783",
          "tfidf<br>Topic size: 978<br>Unknown: 94076",
          "tfidf<br>Topic size: 897<br>Unknown: 96726",
          "tfidf<br>Topic size: 810<br>Unknown: 102580",
          "tfidf<br>Topic size: 603<br>Unknown: 86810",
          "tfidf<br>Topic size: 557<br>Unknown: 90334",
          "tfidf<br>Topic size: 492<br>Unknown: 94265",
          "tfidf<br>Topic size: 446<br>Unknown: 102057"
         ],
         "type": "scatter",
         "x": [
          "5: 10, 10",
          "5: 20, 10",
          "5: 20, 20",
          "5: 50, 10",
          "5: 50, 25",
          "5: 50, 50",
          "5: 100, 1",
          "5: 100, 10",
          "5: 100, 50",
          "5: 100, 100"
         ],
         "y": [
          0.0475557033588294,
          0.0780993992353905,
          0.0927367055771725,
          0.1746031746031746,
          0.1937669376693767,
          0.2196620583717358,
          0.32207207207207206,
          0.3592964824120603,
          0.4294294294294294,
          0.4982578397212543
         ]
        },
        {
         "legendgroup": "tfidf",
         "line": {
          "color": "#176e08"
         },
         "name": "tfidf",
         "showlegend": false,
         "text": [
          "tfidf<br>Topic size: 2521<br>Unknown: 108449",
          "tfidf<br>Topic size: 1658<br>Unknown: 103430",
          "tfidf<br>Topic size: 1428<br>Unknown: 103625",
          "tfidf<br>Topic size: 880<br>Unknown: 98508",
          "tfidf<br>Topic size: 821<br>Unknown: 102868",
          "tfidf<br>Topic size: 735<br>Unknown: 105518",
          "tfidf<br>Topic size: 554<br>Unknown: 91551",
          "tfidf<br>Topic size: 498<br>Unknown: 95789",
          "tfidf<br>Topic size: 434<br>Unknown: 100864",
          "tfidf<br>Topic size: 387<br>Unknown: 104238"
         ],
         "type": "scatter",
         "x": [
          "10: 10, 10",
          "10: 20, 10",
          "10: 20, 20",
          "10: 50, 10",
          "10: 50, 25",
          "10: 50, 50",
          "10: 100, 1",
          "10: 100, 10",
          "10: 100, 50",
          "10: 100, 100"
         ],
         "y": [
          0.06054191363251482,
          0.09539693128752501,
          0.11268715524034674,
          0.1983356449375867,
          0.21601208459214502,
          0.24826388888888887,
          0.3620253164556962,
          0.4218289085545722,
          0.52,
          0.6271929824561404
         ]
        },
        {
         "legendgroup": "tfidf",
         "line": {
          "color": "#176e08"
         },
         "name": "tfidf",
         "showlegend": false,
         "text": [
          "tfidf<br>Topic size: 2192<br>Unknown: 115298",
          "tfidf<br>Topic size: 1490<br>Unknown: 109817",
          "tfidf<br>Topic size: 1305<br>Unknown: 111618",
          "tfidf<br>Topic size: 799<br>Unknown: 108555",
          "tfidf<br>Topic size: 728<br>Unknown: 110421",
          "tfidf<br>Topic size: 625<br>Unknown: 108128",
          "tfidf<br>Topic size: 534<br>Unknown: 102198",
          "tfidf<br>Topic size: 478<br>Unknown: 105028",
          "tfidf<br>Topic size: 420<br>Unknown: 107763",
          "tfidf<br>Topic size: 375<br>Unknown: 111247"
         ],
         "type": "scatter",
         "x": [
          "15: 10, 10",
          "15: 20, 10",
          "15: 20, 20",
          "15: 50, 10",
          "15: 50, 25",
          "15: 50, 50",
          "15: 100, 1",
          "15: 100, 10",
          "15: 100, 50",
          "15: 100, 100"
         ],
         "y": [
          0.07033939990162322,
          0.10743801652892561,
          0.12478184991273998,
          0.22343750000000004,
          0.25131810193321613,
          0.30686695278969955,
          0.3813333333333333,
          0.4482758620689655,
          0.5478927203065134,
          0.6620370370370371
         ]
        },
        {
         "legendgroup": "tfidf",
         "line": {
          "color": "#176e08"
         },
         "name": "tfidf",
         "showlegend": false,
         "text": [
          "tfidf<br>Topic size: 1975<br>Unknown: 124230",
          "tfidf<br>Topic size: 1397<br>Unknown: 118391",
          "tfidf<br>Topic size: 1209<br>Unknown: 117410",
          "tfidf<br>Topic size: 743<br>Unknown: 115244",
          "tfidf<br>Topic size: 677<br>Unknown: 114138",
          "tfidf<br>Topic size: 597<br>Unknown: 115866",
          "tfidf<br>Topic size: 493<br>Unknown: 102837",
          "tfidf<br>Topic size: 438<br>Unknown: 106867",
          "tfidf<br>Topic size: 398<br>Unknown: 112509",
          "tfidf<br>Topic size: 361<br>Unknown: 120966"
         ],
         "type": "scatter",
         "x": [
          "20: 10, 10",
          "20: 20, 10",
          "20: 20, 20",
          "20: 50, 10",
          "20: 50, 25",
          "20: 50, 50",
          "20: 100, 1",
          "20: 100, 10",
          "20: 100, 50",
          "20: 100, 100"
         ],
         "y": [
          0.07874449339207049,
          0.11550888529886916,
          0.1361904761904762,
          0.24486301369863017,
          0.27606177606177607,
          0.3264840182648402,
          0.4281437125748503,
          0.5125448028673835,
          0.598326359832636,
          0.707920792079208
         ]
        },
        {
         "legendgroup": "tfidf-spacy",
         "line": {
          "color": "#32d613"
         },
         "name": "tfidf-spacy",
         "showlegend": true,
         "text": [
          "tfidf-spacy<br>Topic size: 3122<br>Unknown: 104087",
          "tfidf-spacy<br>Topic size: 1987<br>Unknown: 100627",
          "tfidf-spacy<br>Topic size: 1708<br>Unknown: 101697",
          "tfidf-spacy<br>Topic size: 947<br>Unknown: 91029",
          "tfidf-spacy<br>Topic size: 894<br>Unknown: 97191",
          "tfidf-spacy<br>Topic size: 785<br>Unknown: 95429",
          "tfidf-spacy<br>Topic size: 598<br>Unknown: 86577",
          "tfidf-spacy<br>Topic size: 554<br>Unknown: 92231",
          "tfidf-spacy<br>Topic size: 487<br>Unknown: 94829",
          "tfidf-spacy<br>Topic size: 432<br>Unknown: 101513"
         ],
         "type": "scatter",
         "x": [
          "5: 10, 10",
          "5: 20, 10",
          "5: 20, 20",
          "5: 50, 10",
          "5: 50, 25",
          "5: 50, 50",
          "5: 100, 1",
          "5: 100, 10",
          "5: 100, 50",
          "5: 100, 100"
         ],
         "y": [
          0.04826189672629092,
          0.07822757111597374,
          0.09231762427372499,
          0.1814720812182741,
          0.19455782312925168,
          0.22843450479233227,
          0.32574031890660593,
          0.3620253164556962,
          0.43597560975609756,
          0.5238095238095238
         ]
        },
        {
         "legendgroup": "tfidf-spacy",
         "line": {
          "color": "#32d613"
         },
         "name": "tfidf-spacy",
         "showlegend": false,
         "text": [
          "tfidf-spacy<br>Topic size: 2384<br>Unknown: 111531",
          "tfidf-spacy<br>Topic size: 1587<br>Unknown: 107137",
          "tfidf-spacy<br>Topic size: 1386<br>Unknown: 109689",
          "tfidf-spacy<br>Topic size: 839<br>Unknown: 103862",
          "tfidf-spacy<br>Topic size: 764<br>Unknown: 103253",
          "tfidf-spacy<br>Topic size: 682<br>Unknown: 107957",
          "tfidf-spacy<br>Topic size: 544<br>Unknown: 94432",
          "tfidf-spacy<br>Topic size: 500<br>Unknown: 97323",
          "tfidf-spacy<br>Topic size: 447<br>Unknown: 101234",
          "tfidf-spacy<br>Topic size: 412<br>Unknown: 106260"
         ],
         "type": "scatter",
         "x": [
          "10: 10, 10",
          "10: 20, 10",
          "10: 20, 20",
          "10: 50, 10",
          "10: 50, 25",
          "10: 50, 50",
          "10: 100, 1",
          "10: 100, 10",
          "10: 100, 50",
          "10: 100, 100"
         ],
         "y": [
          0.06426966292134831,
          0.10014005602240895,
          0.11654441727791362,
          0.21029411764705883,
          0.23636363636363636,
          0.2734225621414914,
          0.3714285714285714,
          0.41935483870967744,
          0.49652777777777773,
          0.5652173913043479
         ]
        },
        {
         "legendgroup": "tfidf-spacy",
         "line": {
          "color": "#32d613"
         },
         "name": "tfidf-spacy",
         "showlegend": false,
         "text": [
          "tfidf-spacy<br>Topic size: 2049<br>Unknown: 119179",
          "tfidf-spacy<br>Topic size: 1414<br>Unknown: 114679",
          "tfidf-spacy<br>Topic size: 1231<br>Unknown: 113401",
          "tfidf-spacy<br>Topic size: 760<br>Unknown: 112260",
          "tfidf-spacy<br>Topic size: 704<br>Unknown: 109677",
          "tfidf-spacy<br>Topic size: 625<br>Unknown: 108184",
          "tfidf-spacy<br>Topic size: 517<br>Unknown: 102312",
          "tfidf-spacy<br>Topic size: 472<br>Unknown: 109949",
          "tfidf-spacy<br>Topic size: 424<br>Unknown: 107108",
          "tfidf-spacy<br>Topic size: 361<br>Unknown: 104723"
         ],
         "type": "scatter",
         "x": [
          "15: 10, 10",
          "15: 20, 10",
          "15: 20, 20",
          "15: 50, 10",
          "15: 50, 25",
          "15: 50, 50",
          "15: 100, 1",
          "15: 100, 10",
          "15: 100, 50",
          "15: 100, 100"
         ],
         "y": [
          0.07566137566137567,
          0.11394422310756971,
          0.1333955223880597,
          0.23793677204658897,
          0.26238532110091745,
          0.30686695278969955,
          0.39944134078212296,
          0.45686900958466453,
          0.539622641509434,
          0.707920792079208
         ]
        },
        {
         "legendgroup": "tfidf-spacy",
         "line": {
          "color": "#32d613"
         },
         "name": "tfidf-spacy",
         "showlegend": false,
         "text": [
          "tfidf-spacy<br>Topic size: 1795<br>Unknown: 122619",
          "tfidf-spacy<br>Topic size: 1316<br>Unknown: 120519",
          "tfidf-spacy<br>Topic size: 1130<br>Unknown: 118965",
          "tfidf-spacy<br>Topic size: 718<br>Unknown: 110459",
          "tfidf-spacy<br>Topic size: 661<br>Unknown: 110827",
          "tfidf-spacy<br>Topic size: 599<br>Unknown: 114948",
          "tfidf-spacy<br>Topic size: 500<br>Unknown: 106795",
          "tfidf-spacy<br>Topic size: 447<br>Unknown: 107348",
          "tfidf-spacy<br>Topic size: 386<br>Unknown: 103489",
          "tfidf-spacy<br>Topic size: 348<br>Unknown: 106281"
         ],
         "type": "scatter",
         "x": [
          "20: 10, 10",
          "20: 20, 10",
          "20: 20, 20",
          "20: 50, 10",
          "20: 50, 25",
          "20: 50, 50",
          "20: 100, 1",
          "20: 100, 10",
          "20: 100, 50",
          "20: 100, 100"
         ],
         "y": [
          0.08740831295843521,
          0.12359550561797754,
          0.14727085478887744,
          0.2558139534883721,
          0.2848605577689243,
          0.32499999999999996,
          0.41935483870967744,
          0.49652777777777773,
          0.6299559471365639,
          0.7566137566137566
         ]
        },
        {
         "legendgroup": "use-default",
         "line": {
          "color": "#000d94"
         },
         "name": "use-default",
         "showlegend": true,
         "text": [
          "use-default<br>Topic size: 2320<br>Unknown: 168449",
          "use-default<br>Topic size: 1185<br>Unknown: 157924",
          "use-default<br>Topic size: 851<br>Unknown: 156391",
          "use-default<br>Topic size: 468<br>Unknown: 142916",
          "use-default<br>Topic size: 365<br>Unknown: 140735",
          "use-default<br>Topic size: 305<br>Unknown: 142972",
          "use-default<br>Topic size: 344<br>Unknown: 134310",
          "use-default<br>Topic size: 257<br>Unknown: 131986",
          "use-default<br>Topic size: 189<br>Unknown: 126356",
          "use-default<br>Topic size: 144<br>Unknown: 119373"
         ],
         "type": "scatter",
         "x": [
          "5: 10, 10",
          "5: 20, 10",
          "5: 20, 20",
          "5: 50, 10",
          "5: 50, 25",
          "5: 50, 50",
          "5: 100, 1",
          "5: 100, 10",
          "5: 100, 50",
          "5: 100, 100"
         ],
         "y": [
          0.06617306802406293,
          0.13937621832358674,
          0.20664739884393063,
          0.4627831715210356,
          0.6941747572815533,
          0.9794520547945205,
          0.772972972972973,
          0.7606382978723405,
          0.55859375,
          0.47508305647840526
         ]
        },
        {
         "legendgroup": "use-default",
         "line": {
          "color": "#000d94"
         },
         "name": "use-default",
         "showlegend": false,
         "text": [
          "use-default<br>Topic size: 1389<br>Unknown: 165258",
          "use-default<br>Topic size: 764<br>Unknown: 155334",
          "use-default<br>Topic size: 600<br>Unknown: 162100",
          "use-default<br>Topic size: 345<br>Unknown: 141428",
          "use-default<br>Topic size: 321<br>Unknown: 153931",
          "use-default<br>Topic size: 265<br>Unknown: 148088",
          "use-default<br>Topic size: 265<br>Unknown: 129448",
          "use-default<br>Topic size: 212<br>Unknown: 136431",
          "use-default<br>Topic size: 183<br>Unknown: 145104",
          "use-default<br>Topic size: 145<br>Unknown: 133044"
         ],
         "type": "scatter",
         "x": [
          "10: 10, 10",
          "10: 20, 10",
          "10: 20, 20",
          "10: 50, 10",
          "10: 50, 25",
          "10: 50, 50",
          "10: 100, 1",
          "10: 100, 10",
          "10: 100, 50",
          "10: 100, 100"
         ],
         "y": [
          0.11626016260162601,
          0.23636363636363636,
          0.3242630385487529,
          0.7688172043010754,
          0.882716049382716,
          0.7944444444444444,
          0.7944444444444444,
          0.6137339055793991,
          0.5458015267175573,
          0.4766666666666667
         ]
        },
        {
         "legendgroup": "use-default",
         "line": {
          "color": "#000d94"
         },
         "name": "use-default",
         "showlegend": false,
         "text": [
          "use-default<br>Topic size: 1180<br>Unknown: 176946",
          "use-default<br>Topic size: 680<br>Unknown: 174619",
          "use-default<br>Topic size: 506<br>Unknown: 167956",
          "use-default<br>Topic size: 339<br>Unknown: 157403",
          "use-default<br>Topic size: 274<br>Unknown: 146213",
          "use-default<br>Topic size: 222<br>Unknown: 143338",
          "use-default<br>Topic size: 254<br>Unknown: 133453",
          "use-default<br>Topic size: 197<br>Unknown: 151287",
          "use-default<br>Topic size: 152<br>Unknown: 141350",
          "use-default<br>Topic size: 118<br>Unknown: 131381"
         ],
         "type": "scatter",
         "x": [
          "15: 10, 10",
          "15: 20, 10",
          "15: 20, 20",
          "15: 50, 10",
          "15: 50, 25",
          "15: 50, 50",
          "15: 100, 1",
          "15: 100, 10",
          "15: 100, 50",
          "15: 100, 100"
         ],
         "y": [
          0.14005876591576885,
          0.2744721689059501,
          0.4121037463976945,
          0.7944444444444444,
          0.8362573099415205,
          0.6412556053811659,
          0.7486910994764399,
          0.5766129032258065,
          0.48805460750853236,
          0.43730886850152906
         ]
        },
        {
         "legendgroup": "use-default",
         "line": {
          "color": "#000d94"
         },
         "name": "use-default",
         "showlegend": false,
         "text": [
          "use-default<br>Topic size: 1013<br>Unknown: 179619",
          "use-default<br>Topic size: 637<br>Unknown: 176330",
          "use-default<br>Topic size: 471<br>Unknown: 169874",
          "use-default<br>Topic size: 297<br>Unknown: 150140",
          "use-default<br>Topic size: 252<br>Unknown: 151859",
          "use-default<br>Topic size: 206<br>Unknown: 139269",
          "use-default<br>Topic size: 224<br>Unknown: 132618",
          "use-default<br>Topic size: 183<br>Unknown: 143406",
          "use-default<br>Topic size: 147<br>Unknown: 144270",
          "use-default<br>Topic size: 117<br>Unknown: 138515"
         ],
         "type": "scatter",
         "x": [
          "20: 10, 10",
          "20: 20, 10",
          "20: 20, 20",
          "20: 50, 10",
          "20: 50, 25",
          "20: 50, 50",
          "20: 100, 1",
          "20: 100, 10",
          "20: 100, 50",
          "20: 100, 100"
         ],
         "y": [
          0.1674473067915691,
          0.299163179916318,
          0.45833333333333337,
          0.9662162162162162,
          0.7409326424870467,
          0.598326359832636,
          0.6470588235294118,
          0.5458015267175573,
          0.47986577181208045,
          0.43597560975609756
         ]
        },
        {
         "legendgroup": "use-lexrank-top1",
         "line": {
          "color": "#0017d1"
         },
         "name": "use-lexrank-top1",
         "showlegend": true,
         "text": [
          "use-lexrank-top1<br>Topic size: 1024<br>Unknown: 176210",
          "use-lexrank-top1<br>Topic size: 621<br>Unknown: 169745",
          "use-lexrank-top1<br>Topic size: 463<br>Unknown: 151009",
          "use-lexrank-top1<br>Topic size: 349<br>Unknown: 163865",
          "use-lexrank-top1<br>Topic size: 258<br>Unknown: 141003",
          "use-lexrank-top1<br>Topic size: 212<br>Unknown: 140589",
          "use-lexrank-top1<br>Topic size: 270<br>Unknown: 144281",
          "use-lexrank-top1<br>Topic size: 207<br>Unknown: 154798",
          "use-lexrank-top1<br>Topic size: 156<br>Unknown: 143121",
          "use-lexrank-top1<br>Topic size: 129<br>Unknown: 137992"
         ],
         "type": "scatter",
         "x": [
          "15: 10, 10",
          "15: 20, 10",
          "15: 20, 20",
          "15: 50, 10",
          "15: 50, 25",
          "15: 50, 50",
          "15: 100, 1",
          "15: 100, 10",
          "15: 100, 50",
          "15: 100, 100"
         ],
         "y": [
          0.1653179190751445,
          0.30952380952380953,
          0.47039473684210525,
          0.7526315789473683,
          0.7647058823529411,
          0.6137339055793991,
          0.8171428571428572,
          0.6008403361344538,
          0.4948096885813149,
          0.4525316455696202
         ]
        },
        {
         "legendgroup": "use-lexrank-top1",
         "line": {
          "color": "#0017d1"
         },
         "name": "use-lexrank-top1",
         "showlegend": false,
         "text": [
          "use-lexrank-top1<br>Topic size: 873<br>Unknown: 161017",
          "use-lexrank-top1<br>Topic size: 528<br>Unknown: 152389",
          "use-lexrank-top1<br>Topic size: 441<br>Unknown: 167588",
          "use-lexrank-top1<br>Topic size: 274<br>Unknown: 145308",
          "use-lexrank-top1<br>Topic size: 234<br>Unknown: 145740",
          "use-lexrank-top1<br>Topic size: 190<br>Unknown: 143712",
          "use-lexrank-top1<br>Topic size: 240<br>Unknown: 143090",
          "use-lexrank-top1<br>Topic size: 166<br>Unknown: 137125",
          "use-lexrank-top1<br>Topic size: 129<br>Unknown: 136533",
          "use-lexrank-top1<br>Topic size: 118<br>Unknown: 137751"
         ],
         "type": "scatter",
         "x": [
          "20: 10, 10",
          "20: 20, 10",
          "20: 20, 20",
          "20: 50, 10",
          "20: 50, 25",
          "20: 50, 50",
          "20: 100, 1",
          "20: 100, 10",
          "20: 100, 50",
          "20: 100, 100"
         ],
         "y": [
          0.2002801120448179,
          0.3875338753387534,
          0.5070921985815603,
          0.8362573099415205,
          0.6777251184834123,
          0.5607843137254902,
          0.6975609756097562,
          0.5125448028673835,
          0.4525316455696202,
          0.43730886850152906
         ]
        },
        {
         "legendgroup": "use-lexrank-top5",
         "line": {
          "color": "#001ef7"
         },
         "name": "use-lexrank-top5",
         "showlegend": true,
         "text": [
          "use-lexrank-top5<br>Topic size: 1107<br>Unknown: 160424",
          "use-lexrank-top5<br>Topic size: 676<br>Unknown: 160709",
          "use-lexrank-top5<br>Topic size: 560<br>Unknown: 157444",
          "use-lexrank-top5<br>Topic size: 372<br>Unknown: 149258",
          "use-lexrank-top5<br>Topic size: 305<br>Unknown: 133281",
          "use-lexrank-top5<br>Topic size: 276<br>Unknown: 140985",
          "use-lexrank-top5<br>Topic size: 283<br>Unknown: 131438",
          "use-lexrank-top5<br>Topic size: 230<br>Unknown: 142580",
          "use-lexrank-top5<br>Topic size: 189<br>Unknown: 135696",
          "use-lexrank-top5<br>Topic size: 159<br>Unknown: 137316"
         ],
         "type": "scatter",
         "x": [
          "15: 10, 10",
          "15: 20, 10",
          "15: 20, 20",
          "15: 50, 10",
          "15: 50, 25",
          "15: 50, 50",
          "15: 100, 1",
          "15: 100, 10",
          "15: 100, 50",
          "15: 100, 100"
         ],
         "y": [
          0.1508438818565401,
          0.2765957446808511,
          0.3566084788029925,
          0.6713615023474178,
          0.9794520547945205,
          0.8461538461538461,
          0.882716049382716,
          0.6651162790697674,
          0.55859375,
          0.5
         ]
        },
        {
         "legendgroup": "use-lexrank-top5",
         "line": {
          "color": "#001ef7"
         },
         "name": "use-lexrank-top5",
         "showlegend": false,
         "text": [
          "use-lexrank-top5<br>Topic size: 1010<br>Unknown: 165575",
          "use-lexrank-top5<br>Topic size: 674<br>Unknown: 166743",
          "use-lexrank-top5<br>Topic size: 546<br>Unknown: 160540",
          "use-lexrank-top5<br>Topic size: 352<br>Unknown: 151167",
          "use-lexrank-top5<br>Topic size: 312<br>Unknown: 147368",
          "use-lexrank-top5<br>Topic size: 273<br>Unknown: 147209",
          "use-lexrank-top5<br>Topic size: 289<br>Unknown: 140051",
          "use-lexrank-top5<br>Topic size: 228<br>Unknown: 151085",
          "use-lexrank-top5<br>Topic size: 177<br>Unknown: 139598",
          "use-lexrank-top5<br>Topic size: 145<br>Unknown: 138498"
         ],
         "type": "scatter",
         "x": [
          "20: 10, 10",
          "20: 20, 10",
          "20: 20, 20",
          "20: 50, 10",
          "20: 50, 25",
          "20: 50, 50",
          "20: 100, 1",
          "20: 100, 10",
          "20: 100, 50",
          "20: 100, 100"
         ],
         "y": [
          0.16803760282021152,
          0.2776699029126214,
          0.3695090439276486,
          0.7409326424870467,
          0.9346405228758169,
          0.8313953488372093,
          0.9166666666666667,
          0.6589861751152074,
          0.5335820895522388,
          0.4766666666666667
         ]
        },
        {
         "legendgroup": "use-lexrank-weighted",
         "line": {
          "color": "#691fff"
         },
         "name": "use-lexrank-weighted",
         "showlegend": true,
         "text": [
          "use-lexrank-weighted<br>Topic size: 1023<br>Unknown: 165425",
          "use-lexrank-weighted<br>Topic size: 642<br>Unknown: 163991",
          "use-lexrank-weighted<br>Topic size: 519<br>Unknown: 160937",
          "use-lexrank-weighted<br>Topic size: 316<br>Unknown: 152270",
          "use-lexrank-weighted<br>Topic size: 265<br>Unknown: 144103",
          "use-lexrank-weighted<br>Topic size: 243<br>Unknown: 153640",
          "use-lexrank-weighted<br>Topic size: 248<br>Unknown: 140402",
          "use-lexrank-weighted<br>Topic size: 197<br>Unknown: 147651",
          "use-lexrank-weighted<br>Topic size: 161<br>Unknown: 146824",
          "use-lexrank-weighted<br>Topic size: 146<br>Unknown: 147573"
         ],
         "type": "scatter",
         "x": [
          "15: 10, 10",
          "15: 20, 10",
          "15: 20, 20",
          "15: 50, 10",
          "15: 50, 25",
          "15: 50, 50",
          "15: 100, 1",
          "15: 100, 10",
          "15: 100, 50",
          "15: 100, 100"
         ],
         "y": [
          0.16550925925925927,
          0.29606625258799174,
          0.3972222222222222,
          0.910828025477707,
          0.7944444444444444,
          0.707920792079208,
          0.7258883248730965,
          0.5766129032258065,
          0.5035211267605634,
          0.4782608695652174
         ]
        },
        {
         "legendgroup": "use-lexrank-weighted",
         "line": {
          "color": "#691fff"
         },
         "name": "use-lexrank-weighted",
         "showlegend": false,
         "text": [
          "use-lexrank-weighted<br>Topic size: 958<br>Unknown: 170818",
          "use-lexrank-weighted<br>Topic size: 567<br>Unknown: 159346",
          "use-lexrank-weighted<br>Topic size: 477<br>Unknown: 163184",
          "use-lexrank-weighted<br>Topic size: 301<br>Unknown: 152277",
          "use-lexrank-weighted<br>Topic size: 251<br>Unknown: 147466",
          "use-lexrank-weighted<br>Topic size: 237<br>Unknown: 154875",
          "use-lexrank-weighted<br>Topic size: 238<br>Unknown: 139242",
          "use-lexrank-weighted<br>Topic size: 186<br>Unknown: 148863",
          "use-lexrank-weighted<br>Topic size: 158<br>Unknown: 153003",
          "use-lexrank-weighted<br>Topic size: 137<br>Unknown: 149190"
         ],
         "type": "scatter",
         "x": [
          "20: 10, 10",
          "20: 20, 10",
          "20: 20, 20",
          "20: 50, 10",
          "20: 50, 25",
          "20: 50, 50",
          "20: 100, 1",
          "20: 100, 10",
          "20: 100, 50",
          "20: 100, 100"
         ],
         "y": [
          0.17897371714643304,
          0.35049019607843135,
          0.449685534591195,
          0.9930555555555555,
          0.7371134020618556,
          0.6875,
          0.6908212560386474,
          0.5521235521235521,
          0.4982578397212543,
          0.4642857142857143
         ]
        },
        {
         "legendgroup": "use-mean",
         "line": {
          "color": "#b11eff"
         },
         "name": "use-mean",
         "showlegend": true,
         "text": [
          "use-mean<br>Topic size: 958<br>Unknown: 175245",
          "use-mean<br>Topic size: 555<br>Unknown: 165079",
          "use-mean<br>Topic size: 442<br>Unknown: 159221",
          "use-mean<br>Topic size: 282<br>Unknown: 150523",
          "use-mean<br>Topic size: 263<br>Unknown: 153819",
          "use-mean<br>Topic size: 217<br>Unknown: 152398",
          "use-mean<br>Topic size: 208<br>Unknown: 132104",
          "use-mean<br>Topic size: 174<br>Unknown: 141971",
          "use-mean<br>Topic size: 143<br>Unknown: 143597",
          "use-mean<br>Topic size: 117<br>Unknown: 131022"
         ],
         "type": "scatter",
         "x": [
          "15: 10, 10",
          "15: 20, 10",
          "15: 20, 20",
          "15: 50, 10",
          "15: 50, 25",
          "15: 50, 50",
          "15: 100, 1",
          "15: 100, 10",
          "15: 100, 50",
          "15: 100, 100"
         ],
         "y": [
          0.17897371714643304,
          0.3611111111111111,
          0.5053003533568904,
          0.8773006134969326,
          0.7857142857142857,
          0.6271929824561404,
          0.6033755274261604,
          0.5276752767527676,
          0.47350993377483447,
          0.43597560975609756
         ]
        },
        {
         "legendgroup": "use-mean",
         "line": {
          "color": "#b11eff"
         },
         "name": "use-mean",
         "showlegend": false,
         "text": [
          "use-mean<br>Topic size: 784<br>Unknown: 164685",
          "use-mean<br>Topic size: 478<br>Unknown: 164395",
          "use-mean<br>Topic size: 376<br>Unknown: 153545",
          "use-mean<br>Topic size: 235<br>Unknown: 144317",
          "use-mean<br>Topic size: 199<br>Unknown: 141705",
          "use-mean<br>Topic size: 182<br>Unknown: 145783",
          "use-mean<br>Topic size: 203<br>Unknown: 140046",
          "use-mean<br>Topic size: 160<br>Unknown: 147992",
          "use-mean<br>Topic size: 125<br>Unknown: 137174",
          "use-mean<br>Topic size: 111<br>Unknown: 135007"
         ],
         "type": "scatter",
         "x": [
          "20: 10, 10",
          "20: 20, 10",
          "20: 20, 20",
          "20: 50, 10",
          "20: 50, 25",
          "20: 50, 50",
          "20: 100, 1",
          "20: 100, 10",
          "20: 100, 50",
          "20: 100, 100"
         ],
         "y": [
          0.22879999999999998,
          0.4482758620689655,
          0.6589861751152074,
          0.680952380952381,
          0.5813008130081301,
          0.5437262357414449,
          0.5909090909090909,
          0.5017543859649123,
          0.4468750000000001,
          0.4281437125748503
         ]
        },
        {
         "legendgroup": "use-tf-idf-top5",
         "line": {
          "color": "#fc5eff"
         },
         "name": "use-tf-idf-top5",
         "showlegend": true,
         "text": [
          "use-tf-idf-top5<br>Topic size: 739<br>Unknown: 173283",
          "use-tf-idf-top5<br>Topic size: 416<br>Unknown: 160302",
          "use-tf-idf-top5<br>Topic size: 312<br>Unknown: 148997",
          "use-tf-idf-top5<br>Topic size: 222<br>Unknown: 150589",
          "use-tf-idf-top5<br>Topic size: 188<br>Unknown: 148560",
          "use-tf-idf-top5<br>Topic size: 156<br>Unknown: 146495",
          "use-tf-idf-top5<br>Topic size: 186<br>Unknown: 143857",
          "use-tf-idf-top5<br>Topic size: 130<br>Unknown: 142614",
          "use-tf-idf-top5<br>Topic size: 119<br>Unknown: 147638",
          "use-tf-idf-top5<br>Topic size: 105<br>Unknown: 148130"
         ],
         "type": "scatter",
         "x": [
          "15: 10, 10",
          "15: 20, 10",
          "15: 20, 20",
          "15: 50, 10",
          "15: 50, 25",
          "15: 50, 50",
          "15: 100, 1",
          "15: 100, 10",
          "15: 100, 50",
          "15: 100, 100"
         ],
         "y": [
          0.24655172413793106,
          0.556420233463035,
          0.9346405228758169,
          0.6412556053811659,
          0.556420233463035,
          0.4948096885813149,
          0.5521235521235521,
          0.453968253968254,
          0.4386503067484662,
          0.42058823529411765
         ]
        },
        {
         "legendgroup": "use-tf-idf-top5",
         "line": {
          "color": "#fc5eff"
         },
         "name": "use-tf-idf-top5",
         "showlegend": false,
         "text": [
          "use-tf-idf-top5<br>Topic size: 666<br>Unknown: 184270",
          "use-tf-idf-top5<br>Topic size: 390<br>Unknown: 173755",
          "use-tf-idf-top5<br>Topic size: 309<br>Unknown: 170156",
          "use-tf-idf-top5<br>Topic size: 216<br>Unknown: 161310",
          "use-tf-idf-top5<br>Topic size: 170<br>Unknown: 152722",
          "use-tf-idf-top5<br>Topic size: 147<br>Unknown: 152042",
          "use-tf-idf-top5<br>Topic size: 149<br>Unknown: 132123",
          "use-tf-idf-top5<br>Topic size: 126<br>Unknown: 159325",
          "use-tf-idf-top5<br>Topic size: 103<br>Unknown: 144677",
          "use-tf-idf-top5<br>Topic size: 98<br>Unknown: 149071"
         ],
         "type": "scatter",
         "x": [
          "20: 10, 10",
          "20: 20, 10",
          "20: 20, 20",
          "20: 50, 10",
          "20: 50, 25",
          "20: 50, 50",
          "20: 100, 1",
          "20: 100, 10",
          "20: 100, 50",
          "20: 100, 100"
         ],
         "y": [
          0.28205128205128205,
          0.6190476190476191,
          0.9533333333333334,
          0.6244541484716157,
          0.52,
          0.47986577181208045,
          0.4831081081081081,
          0.4482758620689655,
          0.41812865497076024,
          0.4121037463976945
         ]
        },
        {
         "legendgroup": "use-tf-idf-weighted",
         "line": {
          "color": "#ff91ff"
         },
         "name": "use-tf-idf-weighted",
         "showlegend": true,
         "text": [
          "use-tf-idf-weighted<br>Topic size: 885<br>Unknown: 171557",
          "use-tf-idf-weighted<br>Topic size: 553<br>Unknown: 164910",
          "use-tf-idf-weighted<br>Topic size: 384<br>Unknown: 115783",
          "use-tf-idf-weighted<br>Topic size: 302<br>Unknown: 158141",
          "use-tf-idf-weighted<br>Topic size: 262<br>Unknown: 153966",
          "use-tf-idf-weighted<br>Topic size: 189<br>Unknown: 102069",
          "use-tf-idf-weighted<br>Topic size: 237<br>Unknown: 136939",
          "use-tf-idf-weighted<br>Topic size: 185<br>Unknown: 150470",
          "use-tf-idf-weighted<br>Topic size: 135<br>Unknown: 100334",
          "use-tf-idf-weighted<br>Topic size: 151<br>Unknown: 151837"
         ],
         "type": "scatter",
         "x": [
          "15: 10, 10",
          "15: 20, 10",
          "15: 20, 20",
          "15: 50, 10",
          "15: 50, 25",
          "15: 50, 50",
          "15: 100, 1",
          "15: 100, 10",
          "15: 100, 50",
          "15: 100, 100"
         ],
         "y": [
          0.196969696969697,
          0.36294416243654826,
          0.6355555555555555,
          1,
          0.7814207650273224,
          0.55859375,
          0.6875,
          0.5499999999999999,
          0.4612903225806451,
          0.4863945578231293
         ]
        },
        {
         "legendgroup": "use-tf-idf-weighted",
         "line": {
          "color": "#ff91ff"
         },
         "name": "use-tf-idf-weighted",
         "showlegend": false,
         "text": [
          "use-tf-idf-weighted<br>Topic size: 765<br>Unknown: 173416",
          "use-tf-idf-weighted<br>Topic size: 492<br>Unknown: 173609",
          "use-tf-idf-weighted<br>Topic size: 404<br>Unknown: 165925",
          "use-tf-idf-weighted<br>Topic size: 270<br>Unknown: 160523",
          "use-tf-idf-weighted<br>Topic size: 220<br>Unknown: 117088",
          "use-tf-idf-weighted<br>Topic size: 185<br>Unknown: 112144",
          "use-tf-idf-weighted<br>Topic size: 236<br>Unknown: 158101",
          "use-tf-idf-weighted<br>Topic size: 167<br>Unknown: 147824",
          "use-tf-idf-weighted<br>Topic size: 129<br>Unknown: 109917",
          "use-tf-idf-weighted<br>Topic size: 148<br>Unknown: 160908"
         ],
         "type": "scatter",
         "x": [
          "20: 10, 10",
          "20: 20, 10",
          "20: 20, 20",
          "20: 50, 10",
          "20: 50, 25",
          "20: 50, 50",
          "20: 100, 1",
          "20: 100, 10",
          "20: 100, 50",
          "20: 100, 100"
         ],
         "y": [
          0.23597359735973594,
          0.4294294294294294,
          0.5836734693877551,
          0.8171428571428572,
          0.6355555555555555,
          0.5499999999999999,
          0.6842105263157894,
          0.5143884892086331,
          0.4525316455696202,
          0.48148148148148157
         ]
        }
       ],
       "layout": {
        "height": 1200,
        "template": {
         "data": {
          "bar": [
           {
            "error_x": {
             "color": "#2a3f5f"
            },
            "error_y": {
             "color": "#2a3f5f"
            },
            "marker": {
             "line": {
              "color": "#E5ECF6",
              "width": 0.5
             }
            },
            "type": "bar"
           }
          ],
          "barpolar": [
           {
            "marker": {
             "line": {
              "color": "#E5ECF6",
              "width": 0.5
             }
            },
            "type": "barpolar"
           }
          ],
          "carpet": [
           {
            "aaxis": {
             "endlinecolor": "#2a3f5f",
             "gridcolor": "white",
             "linecolor": "white",
             "minorgridcolor": "white",
             "startlinecolor": "#2a3f5f"
            },
            "baxis": {
             "endlinecolor": "#2a3f5f",
             "gridcolor": "white",
             "linecolor": "white",
             "minorgridcolor": "white",
             "startlinecolor": "#2a3f5f"
            },
            "type": "carpet"
           }
          ],
          "choropleth": [
           {
            "colorbar": {
             "outlinewidth": 0,
             "ticks": ""
            },
            "type": "choropleth"
           }
          ],
          "contour": [
           {
            "colorbar": {
             "outlinewidth": 0,
             "ticks": ""
            },
            "colorscale": [
             [
              0,
              "#0d0887"
             ],
             [
              0.1111111111111111,
              "#46039f"
             ],
             [
              0.2222222222222222,
              "#7201a8"
             ],
             [
              0.3333333333333333,
              "#9c179e"
             ],
             [
              0.4444444444444444,
              "#bd3786"
             ],
             [
              0.5555555555555556,
              "#d8576b"
             ],
             [
              0.6666666666666666,
              "#ed7953"
             ],
             [
              0.7777777777777778,
              "#fb9f3a"
             ],
             [
              0.8888888888888888,
              "#fdca26"
             ],
             [
              1,
              "#f0f921"
             ]
            ],
            "type": "contour"
           }
          ],
          "contourcarpet": [
           {
            "colorbar": {
             "outlinewidth": 0,
             "ticks": ""
            },
            "type": "contourcarpet"
           }
          ],
          "heatmap": [
           {
            "colorbar": {
             "outlinewidth": 0,
             "ticks": ""
            },
            "colorscale": [
             [
              0,
              "#0d0887"
             ],
             [
              0.1111111111111111,
              "#46039f"
             ],
             [
              0.2222222222222222,
              "#7201a8"
             ],
             [
              0.3333333333333333,
              "#9c179e"
             ],
             [
              0.4444444444444444,
              "#bd3786"
             ],
             [
              0.5555555555555556,
              "#d8576b"
             ],
             [
              0.6666666666666666,
              "#ed7953"
             ],
             [
              0.7777777777777778,
              "#fb9f3a"
             ],
             [
              0.8888888888888888,
              "#fdca26"
             ],
             [
              1,
              "#f0f921"
             ]
            ],
            "type": "heatmap"
           }
          ],
          "heatmapgl": [
           {
            "colorbar": {
             "outlinewidth": 0,
             "ticks": ""
            },
            "colorscale": [
             [
              0,
              "#0d0887"
             ],
             [
              0.1111111111111111,
              "#46039f"
             ],
             [
              0.2222222222222222,
              "#7201a8"
             ],
             [
              0.3333333333333333,
              "#9c179e"
             ],
             [
              0.4444444444444444,
              "#bd3786"
             ],
             [
              0.5555555555555556,
              "#d8576b"
             ],
             [
              0.6666666666666666,
              "#ed7953"
             ],
             [
              0.7777777777777778,
              "#fb9f3a"
             ],
             [
              0.8888888888888888,
              "#fdca26"
             ],
             [
              1,
              "#f0f921"
             ]
            ],
            "type": "heatmapgl"
           }
          ],
          "histogram": [
           {
            "marker": {
             "colorbar": {
              "outlinewidth": 0,
              "ticks": ""
             }
            },
            "type": "histogram"
           }
          ],
          "histogram2d": [
           {
            "colorbar": {
             "outlinewidth": 0,
             "ticks": ""
            },
            "colorscale": [
             [
              0,
              "#0d0887"
             ],
             [
              0.1111111111111111,
              "#46039f"
             ],
             [
              0.2222222222222222,
              "#7201a8"
             ],
             [
              0.3333333333333333,
              "#9c179e"
             ],
             [
              0.4444444444444444,
              "#bd3786"
             ],
             [
              0.5555555555555556,
              "#d8576b"
             ],
             [
              0.6666666666666666,
              "#ed7953"
             ],
             [
              0.7777777777777778,
              "#fb9f3a"
             ],
             [
              0.8888888888888888,
              "#fdca26"
             ],
             [
              1,
              "#f0f921"
             ]
            ],
            "type": "histogram2d"
           }
          ],
          "histogram2dcontour": [
           {
            "colorbar": {
             "outlinewidth": 0,
             "ticks": ""
            },
            "colorscale": [
             [
              0,
              "#0d0887"
             ],
             [
              0.1111111111111111,
              "#46039f"
             ],
             [
              0.2222222222222222,
              "#7201a8"
             ],
             [
              0.3333333333333333,
              "#9c179e"
             ],
             [
              0.4444444444444444,
              "#bd3786"
             ],
             [
              0.5555555555555556,
              "#d8576b"
             ],
             [
              0.6666666666666666,
              "#ed7953"
             ],
             [
              0.7777777777777778,
              "#fb9f3a"
             ],
             [
              0.8888888888888888,
              "#fdca26"
             ],
             [
              1,
              "#f0f921"
             ]
            ],
            "type": "histogram2dcontour"
           }
          ],
          "mesh3d": [
           {
            "colorbar": {
             "outlinewidth": 0,
             "ticks": ""
            },
            "type": "mesh3d"
           }
          ],
          "parcoords": [
           {
            "line": {
             "colorbar": {
              "outlinewidth": 0,
              "ticks": ""
             }
            },
            "type": "parcoords"
           }
          ],
          "pie": [
           {
            "automargin": true,
            "type": "pie"
           }
          ],
          "scatter": [
           {
            "marker": {
             "colorbar": {
              "outlinewidth": 0,
              "ticks": ""
             }
            },
            "type": "scatter"
           }
          ],
          "scatter3d": [
           {
            "line": {
             "colorbar": {
              "outlinewidth": 0,
              "ticks": ""
             }
            },
            "marker": {
             "colorbar": {
              "outlinewidth": 0,
              "ticks": ""
             }
            },
            "type": "scatter3d"
           }
          ],
          "scattercarpet": [
           {
            "marker": {
             "colorbar": {
              "outlinewidth": 0,
              "ticks": ""
             }
            },
            "type": "scattercarpet"
           }
          ],
          "scattergeo": [
           {
            "marker": {
             "colorbar": {
              "outlinewidth": 0,
              "ticks": ""
             }
            },
            "type": "scattergeo"
           }
          ],
          "scattergl": [
           {
            "marker": {
             "colorbar": {
              "outlinewidth": 0,
              "ticks": ""
             }
            },
            "type": "scattergl"
           }
          ],
          "scattermapbox": [
           {
            "marker": {
             "colorbar": {
              "outlinewidth": 0,
              "ticks": ""
             }
            },
            "type": "scattermapbox"
           }
          ],
          "scatterpolar": [
           {
            "marker": {
             "colorbar": {
              "outlinewidth": 0,
              "ticks": ""
             }
            },
            "type": "scatterpolar"
           }
          ],
          "scatterpolargl": [
           {
            "marker": {
             "colorbar": {
              "outlinewidth": 0,
              "ticks": ""
             }
            },
            "type": "scatterpolargl"
           }
          ],
          "scatterternary": [
           {
            "marker": {
             "colorbar": {
              "outlinewidth": 0,
              "ticks": ""
             }
            },
            "type": "scatterternary"
           }
          ],
          "surface": [
           {
            "colorbar": {
             "outlinewidth": 0,
             "ticks": ""
            },
            "colorscale": [
             [
              0,
              "#0d0887"
             ],
             [
              0.1111111111111111,
              "#46039f"
             ],
             [
              0.2222222222222222,
              "#7201a8"
             ],
             [
              0.3333333333333333,
              "#9c179e"
             ],
             [
              0.4444444444444444,
              "#bd3786"
             ],
             [
              0.5555555555555556,
              "#d8576b"
             ],
             [
              0.6666666666666666,
              "#ed7953"
             ],
             [
              0.7777777777777778,
              "#fb9f3a"
             ],
             [
              0.8888888888888888,
              "#fdca26"
             ],
             [
              1,
              "#f0f921"
             ]
            ],
            "type": "surface"
           }
          ],
          "table": [
           {
            "cells": {
             "fill": {
              "color": "#EBF0F8"
             },
             "line": {
              "color": "white"
             }
            },
            "header": {
             "fill": {
              "color": "#C8D4E3"
             },
             "line": {
              "color": "white"
             }
            },
            "type": "table"
           }
          ]
         },
         "layout": {
          "annotationdefaults": {
           "arrowcolor": "#2a3f5f",
           "arrowhead": 0,
           "arrowwidth": 1
          },
          "autotypenumbers": "strict",
          "coloraxis": {
           "colorbar": {
            "outlinewidth": 0,
            "ticks": ""
           }
          },
          "colorscale": {
           "diverging": [
            [
             0,
             "#8e0152"
            ],
            [
             0.1,
             "#c51b7d"
            ],
            [
             0.2,
             "#de77ae"
            ],
            [
             0.3,
             "#f1b6da"
            ],
            [
             0.4,
             "#fde0ef"
            ],
            [
             0.5,
             "#f7f7f7"
            ],
            [
             0.6,
             "#e6f5d0"
            ],
            [
             0.7,
             "#b8e186"
            ],
            [
             0.8,
             "#7fbc41"
            ],
            [
             0.9,
             "#4d9221"
            ],
            [
             1,
             "#276419"
            ]
           ],
           "sequential": [
            [
             0,
             "#0d0887"
            ],
            [
             0.1111111111111111,
             "#46039f"
            ],
            [
             0.2222222222222222,
             "#7201a8"
            ],
            [
             0.3333333333333333,
             "#9c179e"
            ],
            [
             0.4444444444444444,
             "#bd3786"
            ],
            [
             0.5555555555555556,
             "#d8576b"
            ],
            [
             0.6666666666666666,
             "#ed7953"
            ],
            [
             0.7777777777777778,
             "#fb9f3a"
            ],
            [
             0.8888888888888888,
             "#fdca26"
            ],
            [
             1,
             "#f0f921"
            ]
           ],
           "sequentialminus": [
            [
             0,
             "#0d0887"
            ],
            [
             0.1111111111111111,
             "#46039f"
            ],
            [
             0.2222222222222222,
             "#7201a8"
            ],
            [
             0.3333333333333333,
             "#9c179e"
            ],
            [
             0.4444444444444444,
             "#bd3786"
            ],
            [
             0.5555555555555556,
             "#d8576b"
            ],
            [
             0.6666666666666666,
             "#ed7953"
            ],
            [
             0.7777777777777778,
             "#fb9f3a"
            ],
            [
             0.8888888888888888,
             "#fdca26"
            ],
            [
             1,
             "#f0f921"
            ]
           ]
          },
          "colorway": [
           "#636efa",
           "#EF553B",
           "#00cc96",
           "#ab63fa",
           "#FFA15A",
           "#19d3f3",
           "#FF6692",
           "#B6E880",
           "#FF97FF",
           "#FECB52"
          ],
          "font": {
           "color": "#2a3f5f"
          },
          "geo": {
           "bgcolor": "white",
           "lakecolor": "white",
           "landcolor": "#E5ECF6",
           "showlakes": true,
           "showland": true,
           "subunitcolor": "white"
          },
          "hoverlabel": {
           "align": "left"
          },
          "hovermode": "closest",
          "mapbox": {
           "style": "light"
          },
          "paper_bgcolor": "white",
          "plot_bgcolor": "#E5ECF6",
          "polar": {
           "angularaxis": {
            "gridcolor": "white",
            "linecolor": "white",
            "ticks": ""
           },
           "bgcolor": "#E5ECF6",
           "radialaxis": {
            "gridcolor": "white",
            "linecolor": "white",
            "ticks": ""
           }
          },
          "scene": {
           "xaxis": {
            "backgroundcolor": "#E5ECF6",
            "gridcolor": "white",
            "gridwidth": 2,
            "linecolor": "white",
            "showbackground": true,
            "ticks": "",
            "zerolinecolor": "white"
           },
           "yaxis": {
            "backgroundcolor": "#E5ECF6",
            "gridcolor": "white",
            "gridwidth": 2,
            "linecolor": "white",
            "showbackground": true,
            "ticks": "",
            "zerolinecolor": "white"
           },
           "zaxis": {
            "backgroundcolor": "#E5ECF6",
            "gridcolor": "white",
            "gridwidth": 2,
            "linecolor": "white",
            "showbackground": true,
            "ticks": "",
            "zerolinecolor": "white"
           }
          },
          "shapedefaults": {
           "line": {
            "color": "#2a3f5f"
           }
          },
          "ternary": {
           "aaxis": {
            "gridcolor": "white",
            "linecolor": "white",
            "ticks": ""
           },
           "baxis": {
            "gridcolor": "white",
            "linecolor": "white",
            "ticks": ""
           },
           "bgcolor": "#E5ECF6",
           "caxis": {
            "gridcolor": "white",
            "linecolor": "white",
            "ticks": ""
           }
          },
          "title": {
           "x": 0.05
          },
          "xaxis": {
           "automargin": true,
           "gridcolor": "white",
           "linecolor": "white",
           "ticks": "",
           "title": {
            "standoff": 15
           },
           "zerolinecolor": "white",
           "zerolinewidth": 2
          },
          "yaxis": {
           "automargin": true,
           "gridcolor": "white",
           "linecolor": "white",
           "ticks": "",
           "title": {
            "standoff": 15
           },
           "zerolinecolor": "white",
           "zerolinewidth": 2
          }
         }
        },
        "width": 2000,
        "xaxis": {
         "categoryarray": [
          "5: 10, 10",
          "5: 20, 10",
          "5: 20, 20",
          "5: 50, 10",
          "5: 50, 25",
          "5: 50, 50",
          "5: 100, 1",
          "5: 100, 10",
          "5: 100, 50",
          "5: 100, 100",
          "10: 10, 10",
          "10: 20, 10",
          "10: 20, 20",
          "10: 50, 10",
          "10: 50, 25",
          "10: 50, 50",
          "10: 100, 1",
          "10: 100, 10",
          "10: 100, 50",
          "10: 100, 100",
          "15: 10, 10",
          "15: 20, 10",
          "15: 20, 20",
          "15: 50, 10",
          "15: 50, 25",
          "15: 50, 50",
          "15: 100, 1",
          "15: 100, 10",
          "15: 100, 50",
          "15: 100, 100",
          "20: 10, 10",
          "20: 20, 10",
          "20: 20, 20",
          "20: 50, 10",
          "20: 50, 25",
          "20: 50, 50",
          "20: 100, 1",
          "20: 100, 10",
          "20: 100, 50",
          "20: 100, 100"
         ],
         "categoryorder": "array"
        }
       }
      }
     },
     "metadata": {}
    }
   ],
   "source": [
    "plot_score('topics_num_norm')"
   ]
  },
  {
   "cell_type": "code",
   "execution_count": 497,
   "metadata": {},
   "outputs": [
    {
     "output_type": "display_data",
     "data": {
      "application/vnd.plotly.v1+json": {
       "config": {
        "plotlyServerURL": "https://plot.ly"
       },
       "data": [
        {
         "legendgroup": "sbert-default",
         "line": {
          "color": "#660100"
         },
         "name": "sbert-default",
         "showlegend": true,
         "text": [
          "sbert-default<br>Topics: 1896<br>Unknown: 185945",
          "sbert-default<br>Topics: 971<br>Unknown: 188090",
          "sbert-default<br>Topics: 652<br>Unknown: 188320",
          "sbert-default<br>Topics: 374<br>Unknown: 182550",
          "sbert-default<br>Topics: 282<br>Unknown: 177045",
          "sbert-default<br>Topics: 222<br>Unknown: 182990",
          "sbert-default<br>Topics: 300<br>Unknown: 170080",
          "sbert-default<br>Topics: 197<br>Unknown: 181430",
          "sbert-default<br>Topics: 154<br>Unknown: 179670",
          "sbert-default<br>Topics: 119<br>Unknown: 172450"
         ],
         "type": "scatter",
         "x": [
          "5: 10, 10",
          "5: 20, 10",
          "5: 20, 20",
          "5: 50, 10",
          "5: 50, 25",
          "5: 50, 50",
          "5: 100, 1",
          "5: 100, 10",
          "5: 100, 50",
          "5: 100, 100"
         ],
         "y": [
          0.36192371703584236,
          0.35456308014343807,
          0.35377382770276067,
          0.3735737693667107,
          0.3924643549577064,
          0.37206389513237137,
          0.41636497778082804,
          0.3774170855995745,
          0.3834565825369319,
          0.4082322461095002
         ]
        },
        {
         "legendgroup": "sbert-default",
         "line": {
          "color": "#660100"
         },
         "name": "sbert-default",
         "showlegend": false,
         "text": [
          "sbert-default<br>Topics: 922<br>Unknown: 193660",
          "sbert-default<br>Topics: 503<br>Unknown: 187830",
          "sbert-default<br>Topics: 351<br>Unknown: 181750",
          "sbert-default<br>Topics: 248<br>Unknown: 183780",
          "sbert-default<br>Topics: 204<br>Unknown: 182645",
          "sbert-default<br>Topics: 177<br>Unknown: 181135",
          "sbert-default<br>Topics: 210<br>Unknown: 169805",
          "sbert-default<br>Topics: 154<br>Unknown: 182080",
          "sbert-default<br>Topics: 118<br>Unknown: 175780"
         ],
         "type": "scatter",
         "x": [
          "10: 10, 10",
          "10: 20, 10",
          "10: 20, 20",
          "10: 50, 10",
          "10: 50, 25",
          "10: 50, 50",
          "10: 100, 1",
          "10: 100, 10",
          "10: 100, 50"
         ],
         "y": [
          0.33544944494964224,
          0.3554552785546386,
          0.3763189952473277,
          0.3693529845752621,
          0.3732477737933874,
          0.378429387643052,
          0.4173086491772901,
          0.3751865895715732,
          0.39680524338143197
         ]
        },
        {
         "legendgroup": "sbert-default",
         "line": {
          "color": "#660100"
         },
         "name": "sbert-default",
         "showlegend": false,
         "text": [
          "sbert-default<br>Topics: 738<br>Unknown: 205200",
          "sbert-default<br>Topics: 425<br>Unknown: 203275",
          "sbert-default<br>Topics: 312<br>Unknown: 198540",
          "sbert-default<br>Topics: 211<br>Unknown: 191905",
          "sbert-default<br>Topics: 146<br>Unknown: 180010",
          "sbert-default<br>Topics: 172<br>Unknown: 164975",
          "sbert-default<br>Topics: 129<br>Unknown: 185330"
         ],
         "type": "scatter",
         "x": [
          "15: 10, 10",
          "15: 20, 10",
          "15: 20, 20",
          "15: 50, 10",
          "15: 50, 50",
          "15: 100, 1",
          "15: 100, 10"
         ],
         "y": [
          0.2958495616217422,
          0.3024552613969768,
          0.3187035670778786,
          0.34147178422524577,
          0.38228986153766964,
          0.4338829504315152,
          0.36403410943156667
         ]
        },
        {
         "legendgroup": "sbert-lexrank-top1",
         "line": {
          "color": "#900300"
         },
         "name": "sbert-lexrank-top1",
         "showlegend": true,
         "text": [
          "sbert-lexrank-top1<br>Topics: 995<br>Unknown: 172310",
          "sbert-lexrank-top1<br>Topics: 568<br>Unknown: 146070",
          "sbert-lexrank-top1<br>Topics: 444<br>Unknown: 136840",
          "sbert-lexrank-top1<br>Topics: 292<br>Unknown: 139400",
          "sbert-lexrank-top1<br>Topics: 251<br>Unknown: 132910",
          "sbert-lexrank-top1<br>Topics: 214<br>Unknown: 134730",
          "sbert-lexrank-top1<br>Topics: 285<br>Unknown: 146610",
          "sbert-lexrank-top1<br>Topics: 182<br>Unknown: 135615",
          "sbert-lexrank-top1<br>Topics: 141<br>Unknown: 119045",
          "sbert-lexrank-top1<br>Topics: 127<br>Unknown: 117995"
         ],
         "type": "scatter",
         "x": [
          "15: 10, 10",
          "15: 20, 10",
          "15: 20, 20",
          "15: 50, 10",
          "15: 50, 25",
          "15: 50, 50",
          "15: 100, 1",
          "15: 100, 10",
          "15: 100, 50",
          "15: 100, 100"
         ],
         "y": [
          0.40871266063860817,
          0.4987560695228454,
          0.5304291131204639,
          0.5216443903024895,
          0.5439150352589949,
          0.5376696463805912,
          0.49690304205342894,
          0.5346327402501587,
          0.5914932313024381,
          0.5950963402707479
         ]
        },
        {
         "legendgroup": "sbert-lexrank-top1",
         "line": {
          "color": "#900300"
         },
         "name": "sbert-lexrank-top1",
         "showlegend": false,
         "text": [
          "sbert-lexrank-top1<br>Topics: 905<br>Unknown: 174548",
          "sbert-lexrank-top1<br>Topics: 582<br>Unknown: 170249",
          "sbert-lexrank-top1<br>Topics: 390<br>Unknown: 141916",
          "sbert-lexrank-top1<br>Topics: 313<br>Unknown: 166167",
          "sbert-lexrank-top1<br>Topics: 218<br>Unknown: 130313",
          "sbert-lexrank-top1<br>Topics: 175<br>Unknown: 119157",
          "sbert-lexrank-top1<br>Topics: 265<br>Unknown: 151123",
          "sbert-lexrank-top1<br>Topics: 210<br>Unknown: 158513",
          "sbert-lexrank-top1<br>Topics: 132<br>Unknown: 126116",
          "sbert-lexrank-top1<br>Topics: 122<br>Unknown: 125570"
         ],
         "type": "scatter",
         "x": [
          "20: 10, 10",
          "20: 20, 10",
          "20: 20, 20",
          "20: 50, 10",
          "20: 50, 25",
          "20: 50, 50",
          "20: 100, 1",
          "20: 100, 10",
          "20: 100, 50",
          "20: 100, 100"
         ],
         "y": [
          0.4010328912375821,
          0.41578504881354766,
          0.5130106549079492,
          0.4297925638693959,
          0.5528267247739478,
          0.5911088996791517,
          0.48141653655439837,
          0.45605751248219895,
          0.5672288660501347,
          0.5691024827136558
         ]
        },
        {
         "legendgroup": "sbert-lexrank-top5",
         "line": {
          "color": "#bb0600"
         },
         "name": "sbert-lexrank-top5",
         "showlegend": true,
         "text": [
          "sbert-lexrank-top5<br>Topics: 2140<br>Unknown: 161096",
          "sbert-lexrank-top5<br>Topics: 1131<br>Unknown: 153871",
          "sbert-lexrank-top5<br>Topics: 836<br>Unknown: 150101",
          "sbert-lexrank-top5<br>Topics: 498<br>Unknown: 142758",
          "sbert-lexrank-top5<br>Topics: 433<br>Unknown: 148144",
          "sbert-lexrank-top5<br>Topics: 333<br>Unknown: 135451",
          "sbert-lexrank-top5<br>Topics: 369<br>Unknown: 124453",
          "sbert-lexrank-top5<br>Topics: 297<br>Unknown: 134392",
          "sbert-lexrank-top5<br>Topics: 203<br>Unknown: 111536",
          "sbert-lexrank-top5<br>Topics: 199<br>Unknown: 131812"
         ],
         "type": "scatter",
         "x": [
          "5: 10, 10",
          "5: 20, 10",
          "5: 20, 20",
          "5: 50, 10",
          "5: 50, 25",
          "5: 50, 50",
          "5: 100, 1",
          "5: 100, 10",
          "5: 100, 50",
          "5: 100, 100"
         ],
         "y": [
          0.4471938644201568,
          0.471986685654479,
          0.48492356261688657,
          0.5101213046685997,
          0.49163907142734586,
          0.5351955115556852,
          0.5729355043494673,
          0.538829504315152,
          0.6172606077243793,
          0.5476828577801417
         ]
        },
        {
         "legendgroup": "sbert-lexrank-top5",
         "line": {
          "color": "#bb0600"
         },
         "name": "sbert-lexrank-top5",
         "showlegend": false,
         "text": [
          "sbert-lexrank-top5<br>Topics: 1333<br>Unknown: 169948",
          "sbert-lexrank-top5<br>Topics: 788<br>Unknown: 163483",
          "sbert-lexrank-top5<br>Topics: 606<br>Unknown: 151789",
          "sbert-lexrank-top5<br>Topics: 387<br>Unknown: 148930",
          "sbert-lexrank-top5<br>Topics: 358<br>Unknown: 157413",
          "sbert-lexrank-top5<br>Topics: 297<br>Unknown: 143972",
          "sbert-lexrank-top5<br>Topics: 295<br>Unknown: 129452",
          "sbert-lexrank-top5<br>Topics: 230<br>Unknown: 139647",
          "sbert-lexrank-top5<br>Topics: 183<br>Unknown: 123162",
          "sbert-lexrank-top5<br>Topics: 161<br>Unknown: 117952"
         ],
         "type": "scatter",
         "x": [
          "10: 10, 10",
          "10: 20, 10",
          "10: 20, 20",
          "10: 50, 10",
          "10: 50, 25",
          "10: 50, 50",
          "10: 100, 1",
          "10: 100, 10",
          "10: 100, 50",
          "10: 100, 100"
         ],
         "y": [
          0.4168179400511298,
          0.4390027966988659,
          0.4791311360087847,
          0.4889418869996397,
          0.45983219806804726,
          0.5059554243947635,
          0.5557812741279619,
          0.5207968018118491,
          0.577365612614313,
          0.595243896161831
         ]
        },
        {
         "legendgroup": "sbert-lexrank-top5",
         "line": {
          "color": "#bb0600"
         },
         "name": "sbert-lexrank-top5",
         "showlegend": false,
         "text": [
          "sbert-lexrank-top5<br>Topics: 1132<br>Unknown: 180465",
          "sbert-lexrank-top5<br>Topics: 696<br>Unknown: 173951",
          "sbert-lexrank-top5<br>Topics: 563<br>Unknown: 166568",
          "sbert-lexrank-top5<br>Topics: 365<br>Unknown: 157272",
          "sbert-lexrank-top5<br>Topics: 323<br>Unknown: 156678",
          "sbert-lexrank-top5<br>Topics: 245<br>Unknown: 141331",
          "sbert-lexrank-top5<br>Topics: 295<br>Unknown: 146673",
          "sbert-lexrank-top5<br>Topics: 206<br>Unknown: 141583",
          "sbert-lexrank-top5<br>Topics: 182<br>Unknown: 134081",
          "sbert-lexrank-top5<br>Topics: 149<br>Unknown: 123281"
         ],
         "type": "scatter",
         "x": [
          "15: 10, 10",
          "15: 20, 10",
          "15: 20, 20",
          "15: 50, 10",
          "15: 50, 25",
          "15: 50, 50",
          "15: 100, 1",
          "15: 100, 10",
          "15: 100, 50",
          "15: 100, 100"
         ],
         "y": [
          0.38072851431806876,
          0.40308151605099257,
          0.42841651939673664,
          0.46031604412950605,
          0.4623543743458641,
          0.5150181013331503,
          0.49668685551533037,
          0.514153355180756,
          0.5398967108762418,
          0.5769572602645712
         ]
        },
        {
         "legendgroup": "sbert-lexrank-top5",
         "line": {
          "color": "#bb0600"
         },
         "name": "sbert-lexrank-top5",
         "showlegend": false,
         "text": [
          "sbert-lexrank-top5<br>Topics: 1019<br>Unknown: 174684",
          "sbert-lexrank-top5<br>Topics: 640<br>Unknown: 171719",
          "sbert-lexrank-top5<br>Topics: 495<br>Unknown: 167793",
          "sbert-lexrank-top5<br>Topics: 330<br>Unknown: 158205",
          "sbert-lexrank-top5<br>Topics: 282<br>Unknown: 143166",
          "sbert-lexrank-top5<br>Topics: 227<br>Unknown: 127898",
          "sbert-lexrank-top5<br>Topics: 265<br>Unknown: 144576",
          "sbert-lexrank-top5<br>Topics: 204<br>Unknown: 144744",
          "sbert-lexrank-top5<br>Topics: 166<br>Unknown: 122429",
          "sbert-lexrank-top5<br>Topics: 146<br>Unknown: 116951"
         ],
         "type": "scatter",
         "x": [
          "20: 10, 10",
          "20: 20, 10",
          "20: 20, 20",
          "20: 50, 10",
          "20: 50, 25",
          "20: 50, 50",
          "20: 100, 1",
          "20: 100, 10",
          "20: 100, 50",
          "20: 100, 100"
         ],
         "y": [
          0.40056620283787725,
          0.410740696257914,
          0.42421289226704184,
          0.45711442444623646,
          0.5087212394694851,
          0.5611138754010604,
          0.5038827788548976,
          0.5033062814199681,
          0.5798809258274282,
          0.5986788600449531
         ]
        },
        {
         "legendgroup": "sbert-lexrank-weighted",
         "line": {
          "color": "#e81000"
         },
         "name": "sbert-lexrank-weighted",
         "showlegend": true,
         "text": [
          "sbert-lexrank-weighted<br>Topics: 2215<br>Unknown: 155735",
          "sbert-lexrank-weighted<br>Topics: 1169<br>Unknown: 145094",
          "sbert-lexrank-weighted<br>Topics: 881<br>Unknown: 145665",
          "sbert-lexrank-weighted<br>Topics: 512<br>Unknown: 134962",
          "sbert-lexrank-weighted<br>Topics: 396<br>Unknown: 134052",
          "sbert-lexrank-weighted<br>Topics: 320<br>Unknown: 137559",
          "sbert-lexrank-weighted<br>Topics: 361<br>Unknown: 124682",
          "sbert-lexrank-weighted<br>Topics: 271<br>Unknown: 132201",
          "sbert-lexrank-weighted<br>Topics: 201<br>Unknown: 123010",
          "sbert-lexrank-weighted<br>Topics: 169<br>Unknown: 129006"
         ],
         "type": "scatter",
         "x": [
          "5: 10, 10",
          "5: 20, 10",
          "5: 20, 20",
          "5: 50, 10",
          "5: 50, 25",
          "5: 50, 50",
          "5: 100, 1",
          "5: 100, 10",
          "5: 100, 50",
          "5: 100, 100"
         ],
         "y": [
          0.4655903093526414,
          0.5021052450971981,
          0.5001458401249078,
          0.5368735308752123,
          0.5399962253144142,
          0.5279618413602595,
          0.5721496834411406,
          0.5463479916956917,
          0.5778872055316302,
          0.5573117375564058
         ]
        },
        {
         "legendgroup": "sbert-lexrank-weighted",
         "line": {
          "color": "#e81000"
         },
         "name": "sbert-lexrank-weighted",
         "showlegend": false,
         "text": [
          "sbert-lexrank-weighted<br>Topics: 1293<br>Unknown: 170935",
          "sbert-lexrank-weighted<br>Topics: 729<br>Unknown: 162427",
          "sbert-lexrank-weighted<br>Topics: 574<br>Unknown: 161807",
          "sbert-lexrank-weighted<br>Topics: 365<br>Unknown: 155211",
          "sbert-lexrank-weighted<br>Topics: 312<br>Unknown: 151126",
          "sbert-lexrank-weighted<br>Topics: 247<br>Unknown: 144339",
          "sbert-lexrank-weighted<br>Topics: 274<br>Unknown: 130600",
          "sbert-lexrank-weighted<br>Topics: 201<br>Unknown: 135032",
          "sbert-lexrank-weighted<br>Topics: 163<br>Unknown: 136181",
          "sbert-lexrank-weighted<br>Topics: 126<br>Unknown: 110932"
         ],
         "type": "scatter",
         "x": [
          "10: 10, 10",
          "10: 20, 10",
          "10: 20, 20",
          "10: 50, 10",
          "10: 50, 25",
          "10: 50, 50",
          "10: 100, 1",
          "10: 100, 10",
          "10: 100, 50",
          "10: 100, 100"
         ],
         "y": [
          0.4134310176209186,
          0.4426264948612803,
          0.4447540449187585,
          0.46738843230444554,
          0.48140624195734605,
          0.5046960520220304,
          0.5518418749892765,
          0.5366333236106583,
          0.5326904929396222,
          0.6193332532642452
         ]
        },
        {
         "legendgroup": "sbert-lexrank-weighted",
         "line": {
          "color": "#e81000"
         },
         "name": "sbert-lexrank-weighted",
         "showlegend": false,
         "text": [
          "sbert-lexrank-weighted<br>Topics: 1048<br>Unknown: 176046",
          "sbert-lexrank-weighted<br>Topics: 658<br>Unknown: 177833",
          "sbert-lexrank-weighted<br>Topics: 494<br>Unknown: 165271",
          "sbert-lexrank-weighted<br>Topics: 338<br>Unknown: 166685",
          "sbert-lexrank-weighted<br>Topics: 286<br>Unknown: 161399",
          "sbert-lexrank-weighted<br>Topics: 228<br>Unknown: 156457",
          "sbert-lexrank-weighted<br>Topics: 214<br>Unknown: 120597",
          "sbert-lexrank-weighted<br>Topics: 172<br>Unknown: 137225",
          "sbert-lexrank-weighted<br>Topics: 155<br>Unknown: 141932",
          "sbert-lexrank-weighted<br>Topics: 125<br>Unknown: 132242"
         ],
         "type": "scatter",
         "x": [
          "15: 10, 10",
          "15: 20, 10",
          "15: 20, 20",
          "15: 50, 10",
          "15: 50, 25",
          "15: 50, 50",
          "15: 100, 1",
          "15: 100, 10",
          "15: 100, 50",
          "15: 100, 100"
         ],
         "y": [
          0.3958924557761268,
          0.3897603074652986,
          0.4328672168556869,
          0.4280150301116964,
          0.44615411011787315,
          0.4631127429953846,
          0.5861674930940411,
          0.529107973165417,
          0.5129557503903368,
          0.5462072988693101
         ]
        },
        {
         "legendgroup": "sbert-lexrank-weighted",
         "line": {
          "color": "#e81000"
         },
         "name": "sbert-lexrank-weighted",
         "showlegend": false,
         "text": [
          "sbert-lexrank-weighted<br>Topics: 958<br>Unknown: 183047",
          "sbert-lexrank-weighted<br>Topics: 570<br>Unknown: 170576",
          "sbert-lexrank-weighted<br>Topics: 428<br>Unknown: 160220",
          "sbert-lexrank-weighted<br>Topics: 308<br>Unknown: 155995",
          "sbert-lexrank-weighted<br>Topics: 236<br>Unknown: 146632",
          "sbert-lexrank-weighted<br>Topics: 210<br>Unknown: 152949",
          "sbert-lexrank-weighted<br>Topics: 219<br>Unknown: 134265",
          "sbert-lexrank-weighted<br>Topics: 174<br>Unknown: 148987",
          "sbert-lexrank-weighted<br>Topics: 136<br>Unknown: 137453",
          "sbert-lexrank-weighted<br>Topics: 128<br>Unknown: 146128"
         ],
         "type": "scatter",
         "x": [
          "20: 10, 10",
          "20: 20, 10",
          "20: 20, 20",
          "20: 50, 10",
          "20: 50, 25",
          "20: 50, 50",
          "20: 100, 1",
          "20: 100, 10",
          "20: 100, 50",
          "20: 100, 100"
         ],
         "y": [
          0.3718682977883774,
          0.41466293773484547,
          0.4501998867594324,
          0.4646981109414409,
          0.496827548341712,
          0.4751505584818901,
          0.5392653089236998,
          0.4887462896556457,
          0.5283255837894412,
          0.4985570406465007
         ]
        },
        {
         "legendgroup": "sbert-mean",
         "line": {
          "color": "#fd5100"
         },
         "name": "sbert-mean",
         "showlegend": true,
         "text": [
          "sbert-mean<br>Topics: 2062<br>Unknown: 151790",
          "sbert-mean<br>Topics: 1063<br>Unknown: 141618",
          "sbert-mean<br>Topics: 814<br>Unknown: 152206",
          "sbert-mean<br>Topics: 471<br>Unknown: 138952",
          "sbert-mean<br>Topics: 379<br>Unknown: 139983",
          "sbert-mean<br>Topics: 306<br>Unknown: 137669",
          "sbert-mean<br>Topics: 290<br>Unknown: 108633",
          "sbert-mean<br>Topics: 251<br>Unknown: 129211",
          "sbert-mean<br>Topics: 189<br>Unknown: 130519",
          "sbert-mean<br>Topics: 159<br>Unknown: 130629"
         ],
         "type": "scatter",
         "x": [
          "5: 10, 10",
          "5: 20, 10",
          "5: 20, 20",
          "5: 50, 10",
          "5: 50, 25",
          "5: 50, 50",
          "5: 100, 1",
          "5: 100, 10",
          "5: 100, 50",
          "5: 100, 100"
         ],
         "y": [
          0.47912770447643394,
          0.514033251548479,
          0.47770018701851313,
          0.5231817167956351,
          0.51964380694199,
          0.5275843728016746,
          0.6272223461386682,
          0.5566082734244977,
          0.5521198291096889,
          0.5517423605511041
         ]
        },
        {
         "legendgroup": "sbert-mean",
         "line": {
          "color": "#fd5100"
         },
         "name": "sbert-mean",
         "showlegend": false,
         "text": [
          "sbert-mean<br>Topics: 1169<br>Unknown: 168708",
          "sbert-mean<br>Topics: 701<br>Unknown: 166099",
          "sbert-mean<br>Topics: 508<br>Unknown: 151029",
          "sbert-mean<br>Topics: 330<br>Unknown: 144545",
          "sbert-mean<br>Topics: 279<br>Unknown: 145866",
          "sbert-mean<br>Topics: 227<br>Unknown: 141800",
          "sbert-mean<br>Topics: 266<br>Unknown: 134045",
          "sbert-mean<br>Topics: 187<br>Unknown: 138033",
          "sbert-mean<br>Topics: 161<br>Unknown: 134920",
          "sbert-mean<br>Topics: 127<br>Unknown: 119106"
         ],
         "type": "scatter",
         "x": [
          "10: 10, 10",
          "10: 20, 10",
          "10: 20, 20",
          "10: 50, 10",
          "10: 50, 25",
          "10: 50, 50",
          "10: 100, 1",
          "10: 100, 10",
          "10: 100, 50",
          "10: 100, 100"
         ],
         "y": [
          0.42107304016608615,
          0.43002590806924834,
          0.48173910059537084,
          0.5039891563577715,
          0.49945610212240277,
          0.5134087126606386,
          0.5400202460408695,
          0.5263352950259939,
          0.5370176552339447,
          0.591283907829041
         ]
        },
        {
         "legendgroup": "sbert-mean",
         "line": {
          "color": "#fd5100"
         },
         "name": "sbert-mean",
         "showlegend": false,
         "text": [
          "sbert-mean<br>Topics: 911<br>Unknown: 169715",
          "sbert-mean<br>Topics: 553<br>Unknown: 165919",
          "sbert-mean<br>Topics: 477<br>Unknown: 172864",
          "sbert-mean<br>Topics: 263<br>Unknown: 145584",
          "sbert-mean<br>Topics: 230<br>Unknown: 143620",
          "sbert-mean<br>Topics: 185<br>Unknown: 137601",
          "sbert-mean<br>Topics: 212<br>Unknown: 128240",
          "sbert-mean<br>Topics: 161<br>Unknown: 134317",
          "sbert-mean<br>Topics: 141<br>Unknown: 135507",
          "sbert-mean<br>Topics: 117<br>Unknown: 125059"
         ],
         "type": "scatter",
         "x": [
          "15: 10, 10",
          "15: 20, 10",
          "15: 20, 20",
          "15: 50, 10",
          "15: 50, 25",
          "15: 50, 50",
          "15: 100, 1",
          "15: 100, 10",
          "15: 100, 50",
          "15: 100, 100"
         ],
         "y": [
          0.41761748708885954,
          0.43064358389238716,
          0.4068115917162809,
          0.5004237942453202,
          0.5071633237822349,
          0.527817717001527,
          0.5599402913370966,
          0.5390868692414598,
          0.535003345744042,
          0.5708559957448999
         ]
        },
        {
         "legendgroup": "sbert-mean",
         "line": {
          "color": "#fd5100"
         },
         "name": "sbert-mean",
         "showlegend": false,
         "text": [
          "sbert-mean<br>Topics: 857<br>Unknown: 180243",
          "sbert-mean<br>Topics: 515<br>Unknown: 164058",
          "sbert-mean<br>Topics: 403<br>Unknown: 161256",
          "sbert-mean<br>Topics: 276<br>Unknown: 159503",
          "sbert-mean<br>Topics: 226<br>Unknown: 151423",
          "sbert-mean<br>Topics: 190<br>Unknown: 146848",
          "sbert-mean<br>Topics: 212<br>Unknown: 133421",
          "sbert-mean<br>Topics: 157<br>Unknown: 140080",
          "sbert-mean<br>Topics: 130<br>Unknown: 137358",
          "sbert-mean<br>Topics: 121<br>Unknown: 137663"
         ],
         "type": "scatter",
         "x": [
          "20: 10, 10",
          "20: 20, 10",
          "20: 20, 20",
          "20: 50, 10",
          "20: 50, 25",
          "20: 50, 50",
          "20: 100, 1",
          "20: 100, 10",
          "20: 100, 50",
          "20: 100, 100"
         ],
         "y": [
          0.38149031449994,
          0.43702966559717243,
          0.44664481924403343,
          0.4526602954549354,
          0.480387076849167,
          0.4960863373539454,
          0.5421615222277508,
          0.5193109483039652,
          0.5286515793627644,
          0.5276049619957792
         ]
        },
        {
         "legendgroup": "sbert-tf-idf-top1",
         "line": {
          "color": "#ff8700"
         },
         "name": "sbert-tf-idf-top1",
         "showlegend": true,
         "text": [
          "sbert-tf-idf-top1<br>Topics: 1302<br>Unknown: 162583",
          "sbert-tf-idf-top1<br>Topics: 752<br>Unknown: 159697",
          "sbert-tf-idf-top1<br>Topics: 566<br>Unknown: 161029",
          "sbert-tf-idf-top1<br>Topics: 326<br>Unknown: 158131",
          "sbert-tf-idf-top1<br>Topics: 273<br>Unknown: 162760",
          "sbert-tf-idf-top1<br>Topics: 232<br>Unknown: 157454",
          "sbert-tf-idf-top1<br>Topics: 261<br>Unknown: 155372",
          "sbert-tf-idf-top1<br>Topics: 169<br>Unknown: 142025",
          "sbert-tf-idf-top1<br>Topics: 129<br>Unknown: 138937",
          "sbert-tf-idf-top1<br>Topics: 103<br>Unknown: 133838"
         ],
         "type": "scatter",
         "x": [
          "15: 10, 10",
          "15: 20, 10",
          "15: 20, 20",
          "15: 50, 10",
          "15: 50, 25",
          "15: 50, 50",
          "15: 100, 1",
          "15: 100, 10",
          "15: 100, 50",
          "15: 100, 100"
         ],
         "y": [
          0.44209117581456,
          0.4519945781788858,
          0.4474237770876585,
          0.45736835784019353,
          0.4414837945884735,
          0.4596915052416657,
          0.4668359555959714,
          0.5126366178817151,
          0.5232331897808966,
          0.5407305732374792
         ]
        },
        {
         "legendgroup": "sbert-tf-idf-top1",
         "line": {
          "color": "#ff8700"
         },
         "name": "sbert-tf-idf-top1",
         "showlegend": false,
         "text": [
          "sbert-tf-idf-top1<br>Topics: 1288<br>Unknown: 190075",
          "sbert-tf-idf-top1<br>Topics: 665<br>Unknown: 163287",
          "sbert-tf-idf-top1<br>Topics: 511<br>Unknown: 161868",
          "sbert-tf-idf-top1<br>Topics: 296<br>Unknown: 159825",
          "sbert-tf-idf-top1<br>Topics: 245<br>Unknown: 160002",
          "sbert-tf-idf-top1<br>Topics: 220<br>Unknown: 161647",
          "sbert-tf-idf-top1<br>Topics: 144<br>Unknown: 142227",
          "sbert-tf-idf-top1<br>Topics: 136<br>Unknown: 152855",
          "sbert-tf-idf-top1<br>Topics: 108<br>Unknown: 144273"
         ],
         "type": "scatter",
         "x": [
          "20: 10, 10",
          "20: 20, 10",
          "20: 20, 20",
          "20: 50, 10",
          "20: 50, 25",
          "20: 50, 50",
          "20: 100, 10",
          "20: 100, 50",
          "20: 100, 100"
         ],
         "y": [
          0.34775148842715714,
          0.43967537703961707,
          0.44454472144536145,
          0.4515553420379871,
          0.45094796081190053,
          0.4453030900948819,
          0.5119434483468593,
          0.47547312252286256,
          0.5049225331571814
         ]
        },
        {
         "legendgroup": "sbert-tf-idf-top5",
         "line": {
          "color": "#ffb402"
         },
         "name": "sbert-tf-idf-top5",
         "showlegend": true,
         "text": [
          "sbert-tf-idf-top5<br>Topics: 1751<br>Unknown: 170864",
          "sbert-tf-idf-top5<br>Topics: 922<br>Unknown: 165115",
          "sbert-tf-idf-top5<br>Topics: 671<br>Unknown: 171853",
          "sbert-tf-idf-top5<br>Topics: 379<br>Unknown: 151077",
          "sbert-tf-idf-top5<br>Topics: 327<br>Unknown: 165330",
          "sbert-tf-idf-top5<br>Topics: 258<br>Unknown: 162205",
          "sbert-tf-idf-top5<br>Topics: 284<br>Unknown: 134862",
          "sbert-tf-idf-top5<br>Topics: 208<br>Unknown: 149433",
          "sbert-tf-idf-top5<br>Topics: 168<br>Unknown: 155491",
          "sbert-tf-idf-top5<br>Topics: 99<br>Unknown: 84934"
         ],
         "type": "scatter",
         "x": [
          "5: 10, 10",
          "5: 20, 10",
          "5: 20, 20",
          "5: 50, 10",
          "5: 50, 25",
          "5: 50, 50",
          "5: 100, 1",
          "5: 100, 10",
          "5: 100, 50",
          "5: 100, 100"
         ],
         "y": [
          0.41367465641782336,
          0.43340253590240724,
          0.4102808709229106,
          0.48157438704253386,
          0.4326647564469914,
          0.4433882950431515,
          0.5372166841102894,
          0.4872158262272018,
          0.4664276032462296,
          0.7085462313195958
         ]
        },
        {
         "legendgroup": "sbert-tf-idf-top5",
         "line": {
          "color": "#ffb402"
         },
         "name": "sbert-tf-idf-top5",
         "showlegend": false,
         "text": [
          "sbert-tf-idf-top5<br>Topics: 956<br>Unknown: 183206",
          "sbert-tf-idf-top5<br>Topics: 521<br>Unknown: 170760",
          "sbert-tf-idf-top5<br>Topics: 403<br>Unknown: 171946",
          "sbert-tf-idf-top5<br>Topics: 278<br>Unknown: 164865",
          "sbert-tf-idf-top5<br>Topics: 231<br>Unknown: 160668",
          "sbert-tf-idf-top5<br>Topics: 205<br>Unknown: 159403",
          "sbert-tf-idf-top5<br>Topics: 213<br>Unknown: 140321",
          "sbert-tf-idf-top5<br>Topics: 169<br>Unknown: 157660",
          "sbert-tf-idf-top5<br>Topics: 143<br>Unknown: 154290",
          "sbert-tf-idf-top5<br>Topics: 113<br>Unknown: 105132"
         ],
         "type": "scatter",
         "x": [
          "10: 10, 10",
          "10: 20, 10",
          "10: 20, 20",
          "10: 50, 10",
          "10: 50, 25",
          "10: 50, 50",
          "10: 100, 1",
          "10: 100, 10",
          "10: 100, 50",
          "10: 100, 100"
         ],
         "y": [
          0.3713226841446048,
          0.41403153578230356,
          0.4099617384142889,
          0.43426041899010004,
          0.4486625602662869,
          0.4530034486900125,
          0.5184839490074292,
          0.4589846095774068,
          0.47054887359950587,
          0.6392361408987183
         ]
        },
        {
         "legendgroup": "sbert-tf-idf-top5",
         "line": {
          "color": "#ffb402"
         },
         "name": "sbert-tf-idf-top5",
         "showlegend": false,
         "text": [
          "sbert-tf-idf-top5<br>Topics: 788<br>Unknown: 189523",
          "sbert-tf-idf-top5<br>Topics: 460<br>Unknown: 179528",
          "sbert-tf-idf-top5<br>Topics: 332<br>Unknown: 174636",
          "sbert-tf-idf-top5<br>Topics: 230<br>Unknown: 172900",
          "sbert-tf-idf-top5<br>Topics: 198<br>Unknown: 163613",
          "sbert-tf-idf-top5<br>Topics: 176<br>Unknown: 169493",
          "sbert-tf-idf-top5<br>Topics: 205<br>Unknown: 160879",
          "sbert-tf-idf-top5<br>Topics: 145<br>Unknown: 168864",
          "sbert-tf-idf-top5<br>Topics: 130<br>Unknown: 165443",
          "sbert-tf-idf-top5<br>Topics: 113<br>Unknown: 160388"
         ],
         "type": "scatter",
         "x": [
          "15: 10, 10",
          "15: 20, 10",
          "15: 20, 20",
          "15: 50, 10",
          "15: 50, 25",
          "15: 50, 50",
          "15: 100, 1",
          "15: 100, 10",
          "15: 100, 50",
          "15: 100, 100"
         ],
         "y": [
          0.34964569428478287,
          0.3839438601307414,
          0.4007309163907143,
          0.40668805655165313,
          0.4385566974932656,
          0.41837928727073076,
          0.4479385069402742,
          0.4205377211193658,
          0.4322769932913543,
          0.44962338932450285
         ]
        },
        {
         "legendgroup": "sbert-tf-idf-top5",
         "line": {
          "color": "#ffb402"
         },
         "name": "sbert-tf-idf-top5",
         "showlegend": false,
         "text": [
          "sbert-tf-idf-top5<br>Topics: 696<br>Unknown: 189775",
          "sbert-tf-idf-top5<br>Topics: 432<br>Unknown: 189483",
          "sbert-tf-idf-top5<br>Topics: 307<br>Unknown: 178515",
          "sbert-tf-idf-top5<br>Topics: 242<br>Unknown: 189894",
          "sbert-tf-idf-top5<br>Topics: 182<br>Unknown: 168151",
          "sbert-tf-idf-top5<br>Topics: 155<br>Unknown: 139696",
          "sbert-tf-idf-top5<br>Topics: 204<br>Unknown: 166049",
          "sbert-tf-idf-top5<br>Topics: 152<br>Unknown: 178992",
          "sbert-tf-idf-top5<br>Topics: 122<br>Unknown: 140742",
          "sbert-tf-idf-top5<br>Topics: 110<br>Unknown: 150644"
         ],
         "type": "scatter",
         "x": [
          "20: 10, 10",
          "20: 20, 10",
          "20: 20, 20",
          "20: 50, 10",
          "20: 50, 25",
          "20: 50, 50",
          "20: 100, 1",
          "20: 100, 10",
          "20: 100, 50",
          "20: 100, 100"
         ],
         "y": [
          0.3487809481323885,
          0.3497829555788137,
          0.38742000240207264,
          0.34837259578264673,
          0.42298440368546575,
          0.5206286567266613,
          0.43019748468678687,
          0.38578316147075475,
          0.5170392738877546,
          0.4830602405504178
         ]
        },
        {
         "legendgroup": "sbert-tf-idf-weighted",
         "line": {
          "color": "#ffdc0a"
         },
         "name": "sbert-tf-idf-weighted",
         "showlegend": true,
         "text": [
          "sbert-tf-idf-weighted<br>Topics: 1968<br>Unknown: 161481",
          "sbert-tf-idf-weighted<br>Topics: 1132<br>Unknown: 159361",
          "sbert-tf-idf-weighted<br>Topics: 857<br>Unknown: 159629",
          "sbert-tf-idf-weighted<br>Topics: 506<br>Unknown: 142757",
          "sbert-tf-idf-weighted<br>Topics: 402<br>Unknown: 135303",
          "sbert-tf-idf-weighted<br>Topics: 299<br>Unknown: 123437",
          "sbert-tf-idf-weighted<br>Topics: 340<br>Unknown: 115603",
          "sbert-tf-idf-weighted<br>Topics: 260<br>Unknown: 122547",
          "sbert-tf-idf-weighted<br>Topics: 188<br>Unknown: 107362",
          "sbert-tf-idf-weighted<br>Topics: 181<br>Unknown: 124859"
         ],
         "type": "scatter",
         "x": [
          "5: 10, 10",
          "5: 20, 10",
          "5: 20, 20",
          "5: 50, 10",
          "5: 50, 25",
          "5: 50, 50",
          "5: 100, 1",
          "5: 100, 10",
          "5: 100, 50",
          "5: 100, 100"
         ],
         "y": [
          0.4458727244651099,
          0.4531475730487449,
          0.4522279223787382,
          0.5101247362009506,
          0.5357033783435994,
          0.5764219412178508,
          0.6033045656537926,
          0.5794760050100373,
          0.6315838237564985,
          0.5715423022150541
         ]
        },
        {
         "legendgroup": "sbert-tf-idf-weighted",
         "line": {
          "color": "#ffdc0a"
         },
         "name": "sbert-tf-idf-weighted",
         "showlegend": false,
         "text": [
          "sbert-tf-idf-weighted<br>Topics: 1060<br>Unknown: 163933",
          "sbert-tf-idf-weighted<br>Topics: 635<br>Unknown: 160890",
          "sbert-tf-idf-weighted<br>Topics: 465<br>Unknown: 150212",
          "sbert-tf-idf-weighted<br>Topics: 316<br>Unknown: 146732",
          "sbert-tf-idf-weighted<br>Topics: 260<br>Unknown: 134451",
          "sbert-tf-idf-weighted<br>Topics: 227<br>Unknown: 137350",
          "sbert-tf-idf-weighted<br>Topics: 243<br>Unknown: 125834",
          "sbert-tf-idf-weighted<br>Topics: 200<br>Unknown: 141507",
          "sbert-tf-idf-weighted<br>Topics: 174<br>Unknown: 134789",
          "sbert-tf-idf-weighted<br>Topics: 145<br>Unknown: 125287"
         ],
         "type": "scatter",
         "x": [
          "10: 10, 10",
          "10: 20, 10",
          "10: 20, 20",
          "10: 50, 10",
          "10: 50, 25",
          "10: 50, 50",
          "10: 100, 1",
          "10: 100, 10",
          "10: 100, 50",
          "10: 100, 100"
         ],
         "y": [
          0.4374586071410188,
          0.4479007600844157,
          0.48454266252595096,
          0.4964843951066349,
          0.5386270439064564,
          0.5286790316215706,
          0.5681965581730521,
          0.5144141516394146,
          0.5374671859718958,
          0.570073606368924
         ]
        },
        {
         "legendgroup": "sbert-tf-idf-weighted",
         "line": {
          "color": "#ffdc0a"
         },
         "name": "sbert-tf-idf-weighted",
         "showlegend": false,
         "text": [
          "sbert-tf-idf-weighted<br>Topics: 871<br>Unknown: 171902",
          "sbert-tf-idf-weighted<br>Topics: 503<br>Unknown: 156945",
          "sbert-tf-idf-weighted<br>Topics: 390<br>Unknown: 151173",
          "sbert-tf-idf-weighted<br>Topics: 266<br>Unknown: 143514",
          "sbert-tf-idf-weighted<br>Topics: 250<br>Unknown: 149099",
          "sbert-tf-idf-weighted<br>Topics: 218<br>Unknown: 141563",
          "sbert-tf-idf-weighted<br>Topics: 225<br>Unknown: 134190",
          "sbert-tf-idf-weighted<br>Topics: 172<br>Unknown: 136439",
          "sbert-tf-idf-weighted<br>Topics: 162<br>Unknown: 138939",
          "sbert-tf-idf-weighted<br>Topics: 129<br>Unknown: 110520"
         ],
         "type": "scatter",
         "x": [
          "15: 10, 10",
          "15: 20, 10",
          "15: 20, 20",
          "15: 50, 10",
          "15: 50, 25",
          "15: 50, 50",
          "15: 100, 1",
          "15: 100, 10",
          "15: 100, 50",
          "15: 100, 100"
         ],
         "y": [
          0.41011272583772285,
          0.46143815520820824,
          0.4812449599368598,
          0.5075270662114167,
          0.4883619580323593,
          0.5142219858277713,
          0.5395226738500077,
          0.5318051575931232,
          0.5232263267161951,
          0.6207470445927629
         ]
        },
        {
         "legendgroup": "sbert-tf-idf-weighted",
         "line": {
          "color": "#ffdc0a"
         },
         "name": "sbert-tf-idf-weighted",
         "showlegend": false,
         "text": [
          "sbert-tf-idf-weighted<br>Topics: 790<br>Unknown: 180027",
          "sbert-tf-idf-weighted<br>Topics: 468<br>Unknown: 166074",
          "sbert-tf-idf-weighted<br>Topics: 383<br>Unknown: 163967",
          "sbert-tf-idf-weighted<br>Topics: 252<br>Unknown: 151942",
          "sbert-tf-idf-weighted<br>Topics: 230<br>Unknown: 152597",
          "sbert-tf-idf-weighted<br>Topics: 202<br>Unknown: 147752",
          "sbert-tf-idf-weighted<br>Topics: 209<br>Unknown: 133934",
          "sbert-tf-idf-weighted<br>Topics: 168<br>Unknown: 149785",
          "sbert-tf-idf-weighted<br>Topics: 152<br>Unknown: 144955",
          "sbert-tf-idf-weighted<br>Topics: 138<br>Unknown: 141721"
         ],
         "type": "scatter",
         "x": [
          "20: 10, 10",
          "20: 20, 10",
          "20: 20, 20",
          "20: 50, 10",
          "20: 50, 25",
          "20: 50, 50",
          "20: 100, 1",
          "20: 100, 10",
          "20: 100, 50",
          "20: 100, 100"
         ],
         "y": [
          0.38223152548770656,
          0.4301116963780176,
          0.4373419350410926,
          0.4786061115591167,
          0.47635845786936154,
          0.49298423210884823,
          0.5404011461318051,
          0.48600792683973026,
          0.5025822280939554,
          0.5136798037163496
         ]
        },
        {
         "legendgroup": "tfidf",
         "line": {
          "color": "#176e08"
         },
         "name": "tfidf",
         "showlegend": true,
         "text": [
          "tfidf<br>Topics: 3166<br>Unknown: 101038",
          "tfidf<br>Topics: 1990<br>Unknown: 99607",
          "tfidf<br>Topics: 1701<br>Unknown: 100783",
          "tfidf<br>Topics: 978<br>Unknown: 94076",
          "tfidf<br>Topics: 897<br>Unknown: 96726",
          "tfidf<br>Topics: 810<br>Unknown: 102580",
          "tfidf<br>Topics: 603<br>Unknown: 86810",
          "tfidf<br>Topics: 557<br>Unknown: 90334",
          "tfidf<br>Topics: 492<br>Unknown: 94265",
          "tfidf<br>Topics: 446<br>Unknown: 102057"
         ],
         "type": "scatter",
         "x": [
          "5: 10, 10",
          "5: 20, 10",
          "5: 20, 20",
          "5: 50, 10",
          "5: 50, 25",
          "5: 50, 50",
          "5: 100, 1",
          "5: 100, 10",
          "5: 100, 50",
          "5: 100, 100"
         ],
         "y": [
          0.6532848343427757,
          0.6581953571367294,
          0.6541598750922224,
          0.6771751625688451,
          0.6680816018393013,
          0.6479934114578865,
          0.7021086766295489,
          0.6900159566254311,
          0.6765266029545494,
          0.6497881028773399
         ]
        },
        {
         "legendgroup": "tfidf",
         "line": {
          "color": "#176e08"
         },
         "name": "tfidf",
         "showlegend": false,
         "text": [
          "tfidf<br>Topics: 2521<br>Unknown: 108449",
          "tfidf<br>Topics: 1658<br>Unknown: 103430",
          "tfidf<br>Topics: 1428<br>Unknown: 103625",
          "tfidf<br>Topics: 880<br>Unknown: 98508",
          "tfidf<br>Topics: 821<br>Unknown: 102868",
          "tfidf<br>Topics: 735<br>Unknown: 105518",
          "tfidf<br>Topics: 554<br>Unknown: 91551",
          "tfidf<br>Topics: 498<br>Unknown: 95789",
          "tfidf<br>Topics: 434<br>Unknown: 100864",
          "tfidf<br>Topics: 387<br>Unknown: 104238"
         ],
         "type": "scatter",
         "x": [
          "10: 10, 10",
          "10: 20, 10",
          "10: 20, 20",
          "10: 50, 10",
          "10: 50, 25",
          "10: 50, 50",
          "10: 100, 1",
          "10: 100, 10",
          "10: 100, 50",
          "10: 100, 100"
         ],
         "y": [
          0.6278537480912101,
          0.645076608959731,
          0.6444074601513305,
          0.661966611190227,
          0.6470051301408644,
          0.6379115694113207,
          0.6858397817545425,
          0.671296947651974,
          0.65388192097181,
          0.6423039308203078
         ]
        },
        {
         "legendgroup": "tfidf",
         "line": {
          "color": "#176e08"
         },
         "name": "tfidf",
         "showlegend": false,
         "text": [
          "tfidf<br>Topics: 2192<br>Unknown: 115298",
          "tfidf<br>Topics: 1490<br>Unknown: 109817",
          "tfidf<br>Topics: 1305<br>Unknown: 111618",
          "tfidf<br>Topics: 799<br>Unknown: 108555",
          "tfidf<br>Topics: 728<br>Unknown: 110421",
          "tfidf<br>Topics: 625<br>Unknown: 108128",
          "tfidf<br>Topics: 534<br>Unknown: 102198",
          "tfidf<br>Topics: 478<br>Unknown: 105028",
          "tfidf<br>Topics: 420<br>Unknown: 107763",
          "tfidf<br>Topics: 375<br>Unknown: 111247"
         ],
         "type": "scatter",
         "x": [
          "15: 10, 10",
          "15: 20, 10",
          "15: 20, 20",
          "15: 50, 10",
          "15: 50, 25",
          "15: 50, 50",
          "15: 100, 1",
          "15: 100, 10",
          "15: 100, 50",
          "15: 100, 100"
         ],
         "y": [
          0.604351183020778,
          0.6231594118353551,
          0.616979222071616,
          0.6274900056620284,
          0.6210867662954892,
          0.6289552699758078,
          0.6493042568158811,
          0.6395930202631985,
          0.6302077792838392,
          0.6182523205737522
         ]
        },
        {
         "legendgroup": "tfidf",
         "line": {
          "color": "#176e08"
         },
         "name": "tfidf",
         "showlegend": false,
         "text": [
          "tfidf<br>Topics: 1975<br>Unknown: 124230",
          "tfidf<br>Topics: 1397<br>Unknown: 118391",
          "tfidf<br>Topics: 1209<br>Unknown: 117410",
          "tfidf<br>Topics: 743<br>Unknown: 115244",
          "tfidf<br>Topics: 677<br>Unknown: 114138",
          "tfidf<br>Topics: 597<br>Unknown: 115866",
          "tfidf<br>Topics: 493<br>Unknown: 102837",
          "tfidf<br>Topics: 438<br>Unknown: 106867",
          "tfidf<br>Topics: 398<br>Unknown: 112509",
          "tfidf<br>Topics: 361<br>Unknown: 120966"
         ],
         "type": "scatter",
         "x": [
          "20: 10, 10",
          "20: 20, 10",
          "20: 20, 20",
          "20: 50, 10",
          "20: 50, 25",
          "20: 50, 50",
          "20: 100, 1",
          "20: 100, 10",
          "20: 100, 50",
          "20: 100, 100"
         ],
         "y": [
          0.5737007360636892,
          0.5937374534598425,
          0.5971037866959491,
          0.6045364857677196,
          0.6083317605476726,
          0.6024020726455399,
          0.6471115076437383,
          0.6332824322701303,
          0.6139217267470789,
          0.5849012576566066
         ]
        },
        {
         "legendgroup": "tfidf-spacy",
         "line": {
          "color": "#32d613"
         },
         "name": "tfidf-spacy",
         "showlegend": true,
         "text": [
          "tfidf-spacy<br>Topics: 3122<br>Unknown: 104087",
          "tfidf-spacy<br>Topics: 1987<br>Unknown: 100627",
          "tfidf-spacy<br>Topics: 1708<br>Unknown: 101697",
          "tfidf-spacy<br>Topics: 947<br>Unknown: 91029",
          "tfidf-spacy<br>Topics: 894<br>Unknown: 97191",
          "tfidf-spacy<br>Topics: 785<br>Unknown: 95429",
          "tfidf-spacy<br>Topics: 598<br>Unknown: 86577",
          "tfidf-spacy<br>Topics: 554<br>Unknown: 92231",
          "tfidf-spacy<br>Topics: 487<br>Unknown: 94829",
          "tfidf-spacy<br>Topics: 432<br>Unknown: 101513"
         ],
         "type": "scatter",
         "x": [
          "5: 10, 10",
          "5: 20, 10",
          "5: 20, 20",
          "5: 50, 10",
          "5: 50, 25",
          "5: 50, 50",
          "5: 100, 1",
          "5: 100, 10",
          "5: 100, 50",
          "5: 100, 100"
         ],
         "y": [
          0.6428220922052743,
          0.6546951941389427,
          0.6510234545236175,
          0.6876310416416451,
          0.6664859392961927,
          0.6725322992982516,
          0.7029082236672787,
          0.683506339756018,
          0.6745912187087144,
          0.6516548564761594
         ]
        },
        {
         "legendgroup": "tfidf-spacy",
         "line": {
          "color": "#32d613"
         },
         "name": "tfidf-spacy",
         "showlegend": false,
         "text": [
          "tfidf-spacy<br>Topics: 2384<br>Unknown: 111531",
          "tfidf-spacy<br>Topics: 1587<br>Unknown: 107137",
          "tfidf-spacy<br>Topics: 1386<br>Unknown: 109689",
          "tfidf-spacy<br>Topics: 839<br>Unknown: 103862",
          "tfidf-spacy<br>Topics: 764<br>Unknown: 103253",
          "tfidf-spacy<br>Topics: 682<br>Unknown: 107957",
          "tfidf-spacy<br>Topics: 544<br>Unknown: 94432",
          "tfidf-spacy<br>Topics: 500<br>Unknown: 97323",
          "tfidf-spacy<br>Topics: 447<br>Unknown: 101234",
          "tfidf-spacy<br>Topics: 412<br>Unknown: 106260"
         ],
         "type": "scatter",
         "x": [
          "10: 10, 10",
          "10: 20, 10",
          "10: 20, 20",
          "10: 50, 10",
          "10: 50, 25",
          "10: 50, 50",
          "10: 100, 1",
          "10: 100, 10",
          "10: 100, 50",
          "10: 100, 100"
         ],
         "y": [
          0.6172777653861332,
          0.632355918535422,
          0.6235986479762538,
          0.6435941869841978,
          0.6456839901858175,
          0.6295420620077896,
          0.6759535370519706,
          0.6660329770258909,
          0.6526122540020246,
          0.6353653724070484
         ]
        },
        {
         "legendgroup": "tfidf-spacy",
         "line": {
          "color": "#32d613"
         },
         "name": "tfidf-spacy",
         "showlegend": false,
         "text": [
          "tfidf-spacy<br>Topics: 2049<br>Unknown: 119179",
          "tfidf-spacy<br>Topics: 1414<br>Unknown: 114679",
          "tfidf-spacy<br>Topics: 1231<br>Unknown: 113401",
          "tfidf-spacy<br>Topics: 760<br>Unknown: 112260",
          "tfidf-spacy<br>Topics: 704<br>Unknown: 109677",
          "tfidf-spacy<br>Topics: 625<br>Unknown: 108184",
          "tfidf-spacy<br>Topics: 517<br>Unknown: 102312",
          "tfidf-spacy<br>Topics: 472<br>Unknown: 109949",
          "tfidf-spacy<br>Topics: 424<br>Unknown: 107108",
          "tfidf-spacy<br>Topics: 361<br>Unknown: 104723"
         ],
         "type": "scatter",
         "x": [
          "15: 10, 10",
          "15: 20, 10",
          "15: 20, 20",
          "15: 50, 10",
          "15: 50, 25",
          "15: 50, 50",
          "15: 100, 1",
          "15: 100, 10",
          "15: 100, 50",
          "15: 100, 100"
         ],
         "y": [
          0.5910334059674348,
          0.6064753015459053,
          0.6108607998901909,
          0.6147761783024209,
          0.623639826364463,
          0.6287631041641645,
          0.6489130621278932,
          0.6227064495650533,
          0.6324554329735944,
          0.6406396376301837
         ]
        },
        {
         "legendgroup": "tfidf-spacy",
         "line": {
          "color": "#32d613"
         },
         "name": "tfidf-spacy",
         "showlegend": false,
         "text": [
          "tfidf-spacy<br>Topics: 1795<br>Unknown: 122619",
          "tfidf-spacy<br>Topics: 1316<br>Unknown: 120519",
          "tfidf-spacy<br>Topics: 1130<br>Unknown: 118965",
          "tfidf-spacy<br>Topics: 718<br>Unknown: 110459",
          "tfidf-spacy<br>Topics: 661<br>Unknown: 110827",
          "tfidf-spacy<br>Topics: 599<br>Unknown: 114948",
          "tfidf-spacy<br>Topics: 500<br>Unknown: 106795",
          "tfidf-spacy<br>Topics: 447<br>Unknown: 107348",
          "tfidf-spacy<br>Topics: 386<br>Unknown: 103489",
          "tfidf-spacy<br>Topics: 348<br>Unknown: 106281"
         ],
         "type": "scatter",
         "x": [
          "20: 10, 10",
          "20: 20, 10",
          "20: 20, 20",
          "20: 50, 10",
          "20: 50, 25",
          "20: 50, 50",
          "20: 100, 1",
          "20: 100, 10",
          "20: 100, 50",
          "20: 100, 100"
         ],
         "y": [
          0.5792289346807817,
          0.5864351526174013,
          0.5917677538904998,
          0.62095636806616,
          0.6196935641610761,
          0.6055522193435479,
          0.6335295025993858,
          0.6316318652094093,
          0.6448741485510354,
          0.6352933102276822
         ]
        },
        {
         "legendgroup": "use-default",
         "line": {
          "color": "#000d94"
         },
         "name": "use-default",
         "showlegend": true,
         "text": [
          "use-default<br>Topics: 2320<br>Unknown: 168449",
          "use-default<br>Topics: 1185<br>Unknown: 157924",
          "use-default<br>Topics: 851<br>Unknown: 156391",
          "use-default<br>Topics: 468<br>Unknown: 142916",
          "use-default<br>Topics: 365<br>Unknown: 140735",
          "use-default<br>Topics: 305<br>Unknown: 142972",
          "use-default<br>Topics: 344<br>Unknown: 134310",
          "use-default<br>Topics: 257<br>Unknown: 131986",
          "use-default<br>Topics: 189<br>Unknown: 126356",
          "use-default<br>Topics: 144<br>Unknown: 119373"
         ],
         "type": "scatter",
         "x": [
          "5: 10, 10",
          "5: 20, 10",
          "5: 20, 20",
          "5: 50, 10",
          "5: 50, 25",
          "5: 50, 50",
          "5: 100, 1",
          "5: 100, 10",
          "5: 100, 50",
          "5: 100, 100"
         ],
         "y": [
          0.4219618070449359,
          0.45807868503680316,
          0.46333922413053547,
          0.5095791225571779,
          0.51706329461421,
          0.5093869567455347,
          0.5391108899679151,
          0.5470857711511076,
          0.5664052982859495,
          0.5903676886913851
         ]
        },
        {
         "legendgroup": "use-default",
         "line": {
          "color": "#000d94"
         },
         "name": "use-default",
         "showlegend": false,
         "text": [
          "use-default<br>Topics: 1389<br>Unknown: 165258",
          "use-default<br>Topics: 764<br>Unknown: 155334",
          "use-default<br>Topics: 600<br>Unknown: 162100",
          "use-default<br>Topics: 345<br>Unknown: 141428",
          "use-default<br>Topics: 321<br>Unknown: 153931",
          "use-default<br>Topics: 265<br>Unknown: 148088",
          "use-default<br>Topics: 265<br>Unknown: 129448",
          "use-default<br>Topics: 212<br>Unknown: 136431",
          "use-default<br>Topics: 183<br>Unknown: 145104",
          "use-default<br>Topics: 145<br>Unknown: 133044"
         ],
         "type": "scatter",
         "x": [
          "10: 10, 10",
          "10: 20, 10",
          "10: 20, 20",
          "10: 50, 10",
          "10: 50, 25",
          "10: 50, 50",
          "10: 100, 1",
          "10: 100, 10",
          "10: 100, 50",
          "10: 100, 100"
         ],
         "y": [
          0.43291182677624696,
          0.46696635382530066,
          0.4437486059399825,
          0.5146852426951255,
          0.47178079371343273,
          0.4918312372389891,
          0.555795000257365,
          0.5318326098519294,
          0.5020709297736904,
          0.5434552099239915
         ]
        },
        {
         "legendgroup": "use-default",
         "line": {
          "color": "#000d94"
         },
         "name": "use-default",
         "showlegend": false,
         "text": [
          "use-default<br>Topics: 1180<br>Unknown: 176946",
          "use-default<br>Topics: 680<br>Unknown: 174619",
          "use-default<br>Topics: 506<br>Unknown: 167956",
          "use-default<br>Topics: 339<br>Unknown: 157403",
          "use-default<br>Topics: 274<br>Unknown: 146213",
          "use-default<br>Topics: 222<br>Unknown: 143338",
          "use-default<br>Topics: 254<br>Unknown: 133453",
          "use-default<br>Topics: 197<br>Unknown: 151287",
          "use-default<br>Topics: 152<br>Unknown: 141350",
          "use-default<br>Topics: 118<br>Unknown: 131381"
         ],
         "type": "scatter",
         "x": [
          "15: 10, 10",
          "15: 20, 10",
          "15: 20, 20",
          "15: 50, 10",
          "15: 50, 25",
          "15: 50, 50",
          "15: 100, 1",
          "15: 100, 10",
          "15: 100, 50",
          "15: 100, 100"
         ],
         "y": [
          0.3928040766604327,
          0.40078925244067737,
          0.42365355249386616,
          0.459866513391555,
          0.4982653603966851,
          0.5081310159051524,
          0.5420517131925261,
          0.48085376524887186,
          0.5149529022184857,
          0.5491618482233241
         ]
        },
        {
         "legendgroup": "use-default",
         "line": {
          "color": "#000d94"
         },
         "name": "use-default",
         "showlegend": false,
         "text": [
          "use-default<br>Topics: 1013<br>Unknown: 179619",
          "use-default<br>Topics: 637<br>Unknown: 176330",
          "use-default<br>Topics: 471<br>Unknown: 169874",
          "use-default<br>Topics: 297<br>Unknown: 150140",
          "use-default<br>Topics: 252<br>Unknown: 151859",
          "use-default<br>Topics: 206<br>Unknown: 139269",
          "use-default<br>Topics: 224<br>Unknown: 132618",
          "use-default<br>Topics: 183<br>Unknown: 143406",
          "use-default<br>Topics: 147<br>Unknown: 144270",
          "use-default<br>Topics: 117<br>Unknown: 138515"
         ],
         "type": "scatter",
         "x": [
          "20: 10, 10",
          "20: 20, 10",
          "20: 20, 20",
          "20: 50, 10",
          "20: 50, 25",
          "20: 50, 50",
          "20: 100, 1",
          "20: 100, 10",
          "20: 100, 50",
          "20: 100, 100"
         ],
         "y": [
          0.3836315906868212,
          0.3949179005885078,
          0.4170718734450869,
          0.4847897328552065,
          0.4788909287442307,
          0.5220939210404406,
          0.5449170427054201,
          0.5078976717053,
          0.5049328277542336,
          0.5246812964329222
         ]
        },
        {
         "legendgroup": "use-lexrank-top1",
         "line": {
          "color": "#0017d1"
         },
         "name": "use-lexrank-top1",
         "showlegend": true,
         "text": [
          "use-lexrank-top1<br>Topics: 1024<br>Unknown: 176210",
          "use-lexrank-top1<br>Topics: 621<br>Unknown: 169745",
          "use-lexrank-top1<br>Topics: 463<br>Unknown: 151009",
          "use-lexrank-top1<br>Topics: 349<br>Unknown: 163865",
          "use-lexrank-top1<br>Topics: 258<br>Unknown: 141003",
          "use-lexrank-top1<br>Topics: 212<br>Unknown: 140589",
          "use-lexrank-top1<br>Topics: 270<br>Unknown: 144281",
          "use-lexrank-top1<br>Topics: 207<br>Unknown: 154798",
          "use-lexrank-top1<br>Topics: 156<br>Unknown: 143121",
          "use-lexrank-top1<br>Topics: 129<br>Unknown: 137992"
         ],
         "type": "scatter",
         "x": [
          "15: 10, 10",
          "15: 20, 10",
          "15: 20, 20",
          "15: 50, 10",
          "15: 50, 25",
          "15: 50, 50",
          "15: 100, 1",
          "15: 100, 10",
          "15: 100, 50",
          "15: 100, 100"
         ],
         "y": [
          0.39532968447060035,
          0.4175145411183364,
          0.4818077312423863,
          0.43769195134087124,
          0.5161436439442033,
          0.5175642983374226,
          0.5048950808983752,
          0.4688056551653141,
          0.5088756584252698,
          0.5264759878523755
         ]
        },
        {
         "legendgroup": "use-lexrank-top1",
         "line": {
          "color": "#0017d1"
         },
         "name": "use-lexrank-top1",
         "showlegend": false,
         "text": [
          "use-lexrank-top1<br>Topics: 873<br>Unknown: 161017",
          "use-lexrank-top1<br>Topics: 528<br>Unknown: 152389",
          "use-lexrank-top1<br>Topics: 441<br>Unknown: 167588",
          "use-lexrank-top1<br>Topics: 274<br>Unknown: 145308",
          "use-lexrank-top1<br>Topics: 234<br>Unknown: 145740",
          "use-lexrank-top1<br>Topics: 190<br>Unknown: 143712",
          "use-lexrank-top1<br>Topics: 240<br>Unknown: 143090",
          "use-lexrank-top1<br>Topics: 166<br>Unknown: 137125",
          "use-lexrank-top1<br>Topics: 129<br>Unknown: 136533",
          "use-lexrank-top1<br>Topics: 118<br>Unknown: 137751"
         ],
         "type": "scatter",
         "x": [
          "20: 10, 10",
          "20: 20, 10",
          "20: 20, 20",
          "20: 50, 10",
          "20: 50, 25",
          "20: 50, 50",
          "20: 100, 1",
          "20: 100, 10",
          "20: 100, 50",
          "20: 100, 100"
         ],
         "y": [
          0.44746495547586773,
          0.477072216598322,
          0.4249163563989499,
          0.5013708971741331,
          0.4998884751985999,
          0.506847622805964,
          0.5089820359281437,
          0.5294511264004942,
          0.5314825935521507,
          0.5273029871489113
         ]
        },
        {
         "legendgroup": "use-lexrank-top5",
         "line": {
          "color": "#001ef7"
         },
         "name": "use-lexrank-top5",
         "showlegend": true,
         "text": [
          "use-lexrank-top5<br>Topics: 1107<br>Unknown: 160424",
          "use-lexrank-top5<br>Topics: 676<br>Unknown: 160709",
          "use-lexrank-top5<br>Topics: 560<br>Unknown: 157444",
          "use-lexrank-top5<br>Topics: 372<br>Unknown: 149258",
          "use-lexrank-top5<br>Topics: 305<br>Unknown: 133281",
          "use-lexrank-top5<br>Topics: 276<br>Unknown: 140985",
          "use-lexrank-top5<br>Topics: 283<br>Unknown: 131438",
          "use-lexrank-top5<br>Topics: 230<br>Unknown: 142580",
          "use-lexrank-top5<br>Topics: 189<br>Unknown: 135696",
          "use-lexrank-top5<br>Topics: 159<br>Unknown: 137316"
         ],
         "type": "scatter",
         "x": [
          "15: 10, 10",
          "15: 20, 10",
          "15: 20, 20",
          "15: 50, 10",
          "15: 50, 25",
          "15: 50, 50",
          "15: 100, 1",
          "15: 100, 10",
          "15: 100, 50",
          "15: 100, 100"
         ],
         "y": [
          0.4494998541598751,
          0.4485218674399053,
          0.45972582056517336,
          0.48781634438858673,
          0.5426419367568588,
          0.5162054115265172,
          0.5489662508793302,
          0.5107321174270371,
          0.5343547861297462,
          0.5287957037214969
         ]
        },
        {
         "legendgroup": "use-lexrank-top5",
         "line": {
          "color": "#001ef7"
         },
         "name": "use-lexrank-top5",
         "showlegend": false,
         "text": [
          "use-lexrank-top5<br>Topics: 1010<br>Unknown: 165575",
          "use-lexrank-top5<br>Topics: 674<br>Unknown: 166743",
          "use-lexrank-top5<br>Topics: 546<br>Unknown: 160540",
          "use-lexrank-top5<br>Topics: 352<br>Unknown: 151167",
          "use-lexrank-top5<br>Topics: 312<br>Unknown: 147368",
          "use-lexrank-top5<br>Topics: 273<br>Unknown: 147209",
          "use-lexrank-top5<br>Topics: 289<br>Unknown: 140051",
          "use-lexrank-top5<br>Topics: 228<br>Unknown: 151085",
          "use-lexrank-top5<br>Topics: 177<br>Unknown: 139598",
          "use-lexrank-top5<br>Topics: 145<br>Unknown: 138498"
         ],
         "type": "scatter",
         "x": [
          "20: 10, 10",
          "20: 20, 10",
          "20: 20, 20",
          "20: 50, 10",
          "20: 50, 25",
          "20: 50, 50",
          "20: 100, 1",
          "20: 100, 10",
          "20: 100, 50",
          "20: 100, 100"
         ],
         "y": [
          0.43182403102105243,
          0.42781600123535163,
          0.4491017964071856,
          0.4812655491309644,
          0.49430194053154436,
          0.494847554175317,
          0.5194104627421375,
          0.4815469347837277,
          0.5209649468970369,
          0.5247396324828852
         ]
        },
        {
         "legendgroup": "use-lexrank-weighted",
         "line": {
          "color": "#691fff"
         },
         "name": "use-lexrank-weighted",
         "showlegend": true,
         "text": [
          "use-lexrank-weighted<br>Topics: 1023<br>Unknown: 165425",
          "use-lexrank-weighted<br>Topics: 642<br>Unknown: 163991",
          "use-lexrank-weighted<br>Topics: 519<br>Unknown: 160937",
          "use-lexrank-weighted<br>Topics: 316<br>Unknown: 152270",
          "use-lexrank-weighted<br>Topics: 265<br>Unknown: 144103",
          "use-lexrank-weighted<br>Topics: 243<br>Unknown: 153640",
          "use-lexrank-weighted<br>Topics: 248<br>Unknown: 140402",
          "use-lexrank-weighted<br>Topics: 197<br>Unknown: 147651",
          "use-lexrank-weighted<br>Topics: 161<br>Unknown: 146824",
          "use-lexrank-weighted<br>Topics: 146<br>Unknown: 147573"
         ],
         "type": "scatter",
         "x": [
          "15: 10, 10",
          "15: 20, 10",
          "15: 20, 20",
          "15: 50, 10",
          "15: 50, 25",
          "15: 50, 50",
          "15: 100, 1",
          "15: 100, 10",
          "15: 100, 50",
          "15: 100, 100"
         ],
         "y": [
          0.4323387608736681,
          0.4372595782646741,
          0.44773947806392944,
          0.47748056894806373,
          0.5055058936568124,
          0.47277936962750716,
          0.5182059948870168,
          0.4933308168762761,
          0.4961686941303639,
          0.4935984763996363
         ]
        },
        {
         "legendgroup": "use-lexrank-weighted",
         "line": {
          "color": "#691fff"
         },
         "name": "use-lexrank-weighted",
         "showlegend": false,
         "text": [
          "use-lexrank-weighted<br>Topics: 958<br>Unknown: 170818",
          "use-lexrank-weighted<br>Topics: 567<br>Unknown: 159346",
          "use-lexrank-weighted<br>Topics: 477<br>Unknown: 163184",
          "use-lexrank-weighted<br>Topics: 301<br>Unknown: 152277",
          "use-lexrank-weighted<br>Topics: 251<br>Unknown: 147466",
          "use-lexrank-weighted<br>Topics: 237<br>Unknown: 154875",
          "use-lexrank-weighted<br>Topics: 238<br>Unknown: 139242",
          "use-lexrank-weighted<br>Topics: 186<br>Unknown: 148863",
          "use-lexrank-weighted<br>Topics: 158<br>Unknown: 153003",
          "use-lexrank-weighted<br>Topics: 137<br>Unknown: 149190"
         ],
         "type": "scatter",
         "x": [
          "20: 10, 10",
          "20: 20, 10",
          "20: 20, 20",
          "20: 50, 10",
          "20: 50, 25",
          "20: 50, 50",
          "20: 100, 1",
          "20: 100, 10",
          "20: 100, 50",
          "20: 100, 100"
         ],
         "y": [
          0.41383250690595885,
          0.45319904603400646,
          0.4400288248717465,
          0.4774565482216084,
          0.4939656503611688,
          0.4685414271743047,
          0.5221865724139114,
          0.48917179966714136,
          0.47496525573494847,
          0.48804968858843917
         ]
        },
        {
         "legendgroup": "use-mean",
         "line": {
          "color": "#b11eff"
         },
         "name": "use-mean",
         "showlegend": true,
         "text": [
          "use-mean<br>Topics: 958<br>Unknown: 175245",
          "use-mean<br>Topics: 555<br>Unknown: 165079",
          "use-mean<br>Topics: 442<br>Unknown: 159221",
          "use-mean<br>Topics: 282<br>Unknown: 150523",
          "use-mean<br>Topics: 263<br>Unknown: 153819",
          "use-mean<br>Topics: 217<br>Unknown: 152398",
          "use-mean<br>Topics: 208<br>Unknown: 132104",
          "use-mean<br>Topics: 174<br>Unknown: 141971",
          "use-mean<br>Topics: 143<br>Unknown: 143597",
          "use-mean<br>Topics: 117<br>Unknown: 131022"
         ],
         "type": "scatter",
         "x": [
          "15: 10, 10",
          "15: 20, 10",
          "15: 20, 20",
          "15: 50, 10",
          "15: 50, 25",
          "15: 50, 50",
          "15: 100, 1",
          "15: 100, 10",
          "15: 100, 50",
          "15: 100, 100"
         ],
         "y": [
          0.39864111318909456,
          0.433526071067035,
          0.4536279875778529,
          0.48347545596486113,
          0.4721651253367191,
          0.47704133280716504,
          0.5466808503337165,
          0.5128219206286567,
          0.5072422490263027,
          0.550393768337251
         ]
        },
        {
         "legendgroup": "use-mean",
         "line": {
          "color": "#b11eff"
         },
         "name": "use-mean",
         "showlegend": false,
         "text": [
          "use-mean<br>Topics: 784<br>Unknown: 164685",
          "use-mean<br>Topics: 478<br>Unknown: 164395",
          "use-mean<br>Topics: 376<br>Unknown: 153545",
          "use-mean<br>Topics: 235<br>Unknown: 144317",
          "use-mean<br>Topics: 199<br>Unknown: 141705",
          "use-mean<br>Topics: 182<br>Unknown: 145783",
          "use-mean<br>Topics: 203<br>Unknown: 140046",
          "use-mean<br>Topics: 160<br>Unknown: 147992",
          "use-mean<br>Topics: 125<br>Unknown: 137174",
          "use-mean<br>Topics: 111<br>Unknown: 135007"
         ],
         "type": "scatter",
         "x": [
          "20: 10, 10",
          "20: 20, 10",
          "20: 20, 20",
          "20: 50, 10",
          "20: 50, 25",
          "20: 50, 50",
          "20: 100, 1",
          "20: 100, 10",
          "20: 100, 50",
          "20: 100, 100"
         ],
         "y": [
          0.43487809481323886,
          0.4358732391949625,
          0.4731053652008304,
          0.5047715457337474,
          0.5137347082339618,
          0.4997409193075168,
          0.5194276204038913,
          0.4921606643446631,
          0.5292829813153064,
          0.5367191119194277
         ]
        },
        {
         "legendgroup": "use-tf-idf-top5",
         "line": {
          "color": "#fc5eff"
         },
         "name": "use-tf-idf-top5",
         "showlegend": true,
         "text": [
          "use-tf-idf-top5<br>Topics: 739<br>Unknown: 173283",
          "use-tf-idf-top5<br>Topics: 416<br>Unknown: 160302",
          "use-tf-idf-top5<br>Topics: 312<br>Unknown: 148997",
          "use-tf-idf-top5<br>Topics: 222<br>Unknown: 150589",
          "use-tf-idf-top5<br>Topics: 188<br>Unknown: 148560",
          "use-tf-idf-top5<br>Topics: 156<br>Unknown: 146495",
          "use-tf-idf-top5<br>Topics: 186<br>Unknown: 143857",
          "use-tf-idf-top5<br>Topics: 130<br>Unknown: 142614",
          "use-tf-idf-top5<br>Topics: 119<br>Unknown: 147638",
          "use-tf-idf-top5<br>Topics: 105<br>Unknown: 148130"
         ],
         "type": "scatter",
         "x": [
          "15: 10, 10",
          "15: 20, 10",
          "15: 20, 20",
          "15: 50, 10",
          "15: 50, 25",
          "15: 50, 50",
          "15: 100, 1",
          "15: 100, 10",
          "15: 100, 50",
          "15: 100, 100"
         ],
         "y": [
          0.4053737796613078,
          0.4499185011066692,
          0.48871197433213803,
          0.4832489748297102,
          0.49021155396942506,
          0.49729766827376765,
          0.5063500506151022,
          0.5106154453271108,
          0.4933754267968361,
          0.4916871128802567
         ]
        },
        {
         "legendgroup": "use-tf-idf-top5",
         "line": {
          "color": "#fc5eff"
         },
         "name": "use-tf-idf-top5",
         "showlegend": false,
         "text": [
          "use-tf-idf-top5<br>Topics: 666<br>Unknown: 184270",
          "use-tf-idf-top5<br>Topics: 390<br>Unknown: 173755",
          "use-tf-idf-top5<br>Topics: 309<br>Unknown: 170156",
          "use-tf-idf-top5<br>Topics: 216<br>Unknown: 161310",
          "use-tf-idf-top5<br>Topics: 170<br>Unknown: 152722",
          "use-tf-idf-top5<br>Topics: 147<br>Unknown: 152042",
          "use-tf-idf-top5<br>Topics: 149<br>Unknown: 132123",
          "use-tf-idf-top5<br>Topics: 126<br>Unknown: 159325",
          "use-tf-idf-top5<br>Topics: 103<br>Unknown: 144677",
          "use-tf-idf-top5<br>Topics: 98<br>Unknown: 149071"
         ],
         "type": "scatter",
         "x": [
          "20: 10, 10",
          "20: 20, 10",
          "20: 20, 20",
          "20: 50, 10",
          "20: 50, 25",
          "20: 50, 50",
          "20: 100, 1",
          "20: 100, 10",
          "20: 100, 50",
          "20: 100, 100"
         ],
         "y": [
          0.3676715337233842,
          0.40375409639174376,
          0.4161041813221694,
          0.44645951649709176,
          0.47592951632551517,
          0.4782629583240396,
          0.5466156512190519,
          0.4532711082133727,
          0.5035361940874697,
          0.48845804093818096
         ]
        },
        {
         "legendgroup": "use-tf-idf-weighted",
         "line": {
          "color": "#ff91ff"
         },
         "name": "use-tf-idf-weighted",
         "showlegend": true,
         "text": [
          "use-tf-idf-weighted<br>Topics: 885<br>Unknown: 171557",
          "use-tf-idf-weighted<br>Topics: 553<br>Unknown: 164910",
          "use-tf-idf-weighted<br>Topics: 384<br>Unknown: 115783",
          "use-tf-idf-weighted<br>Topics: 302<br>Unknown: 158141",
          "use-tf-idf-weighted<br>Topics: 262<br>Unknown: 153966",
          "use-tf-idf-weighted<br>Topics: 189<br>Unknown: 102069",
          "use-tf-idf-weighted<br>Topics: 237<br>Unknown: 136939",
          "use-tf-idf-weighted<br>Topics: 185<br>Unknown: 150470",
          "use-tf-idf-weighted<br>Topics: 135<br>Unknown: 100334",
          "use-tf-idf-weighted<br>Topics: 151<br>Unknown: 151837"
         ],
         "type": "scatter",
         "x": [
          "15: 10, 10",
          "15: 20, 10",
          "15: 20, 20",
          "15: 50, 10",
          "15: 50, 25",
          "15: 50, 50",
          "15: 100, 1",
          "15: 100, 10",
          "15: 100, 50",
          "15: 100, 100"
         ],
         "y": [
          0.4112966044987389,
          0.4341060000343153,
          0.6026868898306539,
          0.4573340425166858,
          0.47166069008115574,
          0.6497469244891306,
          0.5300893914177376,
          0.483657327179452,
          0.6557006331177188,
          0.4789664224559477
         ]
        },
        {
         "legendgroup": "use-tf-idf-weighted",
         "line": {
          "color": "#ff91ff"
         },
         "name": "use-tf-idf-weighted",
         "showlegend": false,
         "text": [
          "use-tf-idf-weighted<br>Topics: 765<br>Unknown: 173416",
          "use-tf-idf-weighted<br>Topics: 492<br>Unknown: 173609",
          "use-tf-idf-weighted<br>Topics: 404<br>Unknown: 165925",
          "use-tf-idf-weighted<br>Topics: 270<br>Unknown: 160523",
          "use-tf-idf-weighted<br>Topics: 220<br>Unknown: 117088",
          "use-tf-idf-weighted<br>Topics: 185<br>Unknown: 112144",
          "use-tf-idf-weighted<br>Topics: 236<br>Unknown: 158101",
          "use-tf-idf-weighted<br>Topics: 167<br>Unknown: 147824",
          "use-tf-idf-weighted<br>Topics: 129<br>Unknown: 109917",
          "use-tf-idf-weighted<br>Topics: 148<br>Unknown: 160908"
         ],
         "type": "scatter",
         "x": [
          "20: 10, 10",
          "20: 20, 10",
          "20: 20, 20",
          "20: 50, 10",
          "20: 50, 25",
          "20: 50, 50",
          "20: 100, 1",
          "20: 100, 10",
          "20: 100, 50",
          "20: 100, 100"
         ],
         "y": [
          0.40491738585865517,
          0.40425510011495636,
          0.4306229946982825,
          0.44916013245714875,
          0.5982087401128974,
          0.6151742360551105,
          0.45747130381071666,
          0.4927371617795927,
          0.622816258600278,
          0.4478389925021018
         ]
        }
       ],
       "layout": {
        "height": 1200,
        "template": {
         "data": {
          "bar": [
           {
            "error_x": {
             "color": "#2a3f5f"
            },
            "error_y": {
             "color": "#2a3f5f"
            },
            "marker": {
             "line": {
              "color": "#E5ECF6",
              "width": 0.5
             }
            },
            "type": "bar"
           }
          ],
          "barpolar": [
           {
            "marker": {
             "line": {
              "color": "#E5ECF6",
              "width": 0.5
             }
            },
            "type": "barpolar"
           }
          ],
          "carpet": [
           {
            "aaxis": {
             "endlinecolor": "#2a3f5f",
             "gridcolor": "white",
             "linecolor": "white",
             "minorgridcolor": "white",
             "startlinecolor": "#2a3f5f"
            },
            "baxis": {
             "endlinecolor": "#2a3f5f",
             "gridcolor": "white",
             "linecolor": "white",
             "minorgridcolor": "white",
             "startlinecolor": "#2a3f5f"
            },
            "type": "carpet"
           }
          ],
          "choropleth": [
           {
            "colorbar": {
             "outlinewidth": 0,
             "ticks": ""
            },
            "type": "choropleth"
           }
          ],
          "contour": [
           {
            "colorbar": {
             "outlinewidth": 0,
             "ticks": ""
            },
            "colorscale": [
             [
              0,
              "#0d0887"
             ],
             [
              0.1111111111111111,
              "#46039f"
             ],
             [
              0.2222222222222222,
              "#7201a8"
             ],
             [
              0.3333333333333333,
              "#9c179e"
             ],
             [
              0.4444444444444444,
              "#bd3786"
             ],
             [
              0.5555555555555556,
              "#d8576b"
             ],
             [
              0.6666666666666666,
              "#ed7953"
             ],
             [
              0.7777777777777778,
              "#fb9f3a"
             ],
             [
              0.8888888888888888,
              "#fdca26"
             ],
             [
              1,
              "#f0f921"
             ]
            ],
            "type": "contour"
           }
          ],
          "contourcarpet": [
           {
            "colorbar": {
             "outlinewidth": 0,
             "ticks": ""
            },
            "type": "contourcarpet"
           }
          ],
          "heatmap": [
           {
            "colorbar": {
             "outlinewidth": 0,
             "ticks": ""
            },
            "colorscale": [
             [
              0,
              "#0d0887"
             ],
             [
              0.1111111111111111,
              "#46039f"
             ],
             [
              0.2222222222222222,
              "#7201a8"
             ],
             [
              0.3333333333333333,
              "#9c179e"
             ],
             [
              0.4444444444444444,
              "#bd3786"
             ],
             [
              0.5555555555555556,
              "#d8576b"
             ],
             [
              0.6666666666666666,
              "#ed7953"
             ],
             [
              0.7777777777777778,
              "#fb9f3a"
             ],
             [
              0.8888888888888888,
              "#fdca26"
             ],
             [
              1,
              "#f0f921"
             ]
            ],
            "type": "heatmap"
           }
          ],
          "heatmapgl": [
           {
            "colorbar": {
             "outlinewidth": 0,
             "ticks": ""
            },
            "colorscale": [
             [
              0,
              "#0d0887"
             ],
             [
              0.1111111111111111,
              "#46039f"
             ],
             [
              0.2222222222222222,
              "#7201a8"
             ],
             [
              0.3333333333333333,
              "#9c179e"
             ],
             [
              0.4444444444444444,
              "#bd3786"
             ],
             [
              0.5555555555555556,
              "#d8576b"
             ],
             [
              0.6666666666666666,
              "#ed7953"
             ],
             [
              0.7777777777777778,
              "#fb9f3a"
             ],
             [
              0.8888888888888888,
              "#fdca26"
             ],
             [
              1,
              "#f0f921"
             ]
            ],
            "type": "heatmapgl"
           }
          ],
          "histogram": [
           {
            "marker": {
             "colorbar": {
              "outlinewidth": 0,
              "ticks": ""
             }
            },
            "type": "histogram"
           }
          ],
          "histogram2d": [
           {
            "colorbar": {
             "outlinewidth": 0,
             "ticks": ""
            },
            "colorscale": [
             [
              0,
              "#0d0887"
             ],
             [
              0.1111111111111111,
              "#46039f"
             ],
             [
              0.2222222222222222,
              "#7201a8"
             ],
             [
              0.3333333333333333,
              "#9c179e"
             ],
             [
              0.4444444444444444,
              "#bd3786"
             ],
             [
              0.5555555555555556,
              "#d8576b"
             ],
             [
              0.6666666666666666,
              "#ed7953"
             ],
             [
              0.7777777777777778,
              "#fb9f3a"
             ],
             [
              0.8888888888888888,
              "#fdca26"
             ],
             [
              1,
              "#f0f921"
             ]
            ],
            "type": "histogram2d"
           }
          ],
          "histogram2dcontour": [
           {
            "colorbar": {
             "outlinewidth": 0,
             "ticks": ""
            },
            "colorscale": [
             [
              0,
              "#0d0887"
             ],
             [
              0.1111111111111111,
              "#46039f"
             ],
             [
              0.2222222222222222,
              "#7201a8"
             ],
             [
              0.3333333333333333,
              "#9c179e"
             ],
             [
              0.4444444444444444,
              "#bd3786"
             ],
             [
              0.5555555555555556,
              "#d8576b"
             ],
             [
              0.6666666666666666,
              "#ed7953"
             ],
             [
              0.7777777777777778,
              "#fb9f3a"
             ],
             [
              0.8888888888888888,
              "#fdca26"
             ],
             [
              1,
              "#f0f921"
             ]
            ],
            "type": "histogram2dcontour"
           }
          ],
          "mesh3d": [
           {
            "colorbar": {
             "outlinewidth": 0,
             "ticks": ""
            },
            "type": "mesh3d"
           }
          ],
          "parcoords": [
           {
            "line": {
             "colorbar": {
              "outlinewidth": 0,
              "ticks": ""
             }
            },
            "type": "parcoords"
           }
          ],
          "pie": [
           {
            "automargin": true,
            "type": "pie"
           }
          ],
          "scatter": [
           {
            "marker": {
             "colorbar": {
              "outlinewidth": 0,
              "ticks": ""
             }
            },
            "type": "scatter"
           }
          ],
          "scatter3d": [
           {
            "line": {
             "colorbar": {
              "outlinewidth": 0,
              "ticks": ""
             }
            },
            "marker": {
             "colorbar": {
              "outlinewidth": 0,
              "ticks": ""
             }
            },
            "type": "scatter3d"
           }
          ],
          "scattercarpet": [
           {
            "marker": {
             "colorbar": {
              "outlinewidth": 0,
              "ticks": ""
             }
            },
            "type": "scattercarpet"
           }
          ],
          "scattergeo": [
           {
            "marker": {
             "colorbar": {
              "outlinewidth": 0,
              "ticks": ""
             }
            },
            "type": "scattergeo"
           }
          ],
          "scattergl": [
           {
            "marker": {
             "colorbar": {
              "outlinewidth": 0,
              "ticks": ""
             }
            },
            "type": "scattergl"
           }
          ],
          "scattermapbox": [
           {
            "marker": {
             "colorbar": {
              "outlinewidth": 0,
              "ticks": ""
             }
            },
            "type": "scattermapbox"
           }
          ],
          "scatterpolar": [
           {
            "marker": {
             "colorbar": {
              "outlinewidth": 0,
              "ticks": ""
             }
            },
            "type": "scatterpolar"
           }
          ],
          "scatterpolargl": [
           {
            "marker": {
             "colorbar": {
              "outlinewidth": 0,
              "ticks": ""
             }
            },
            "type": "scatterpolargl"
           }
          ],
          "scatterternary": [
           {
            "marker": {
             "colorbar": {
              "outlinewidth": 0,
              "ticks": ""
             }
            },
            "type": "scatterternary"
           }
          ],
          "surface": [
           {
            "colorbar": {
             "outlinewidth": 0,
             "ticks": ""
            },
            "colorscale": [
             [
              0,
              "#0d0887"
             ],
             [
              0.1111111111111111,
              "#46039f"
             ],
             [
              0.2222222222222222,
              "#7201a8"
             ],
             [
              0.3333333333333333,
              "#9c179e"
             ],
             [
              0.4444444444444444,
              "#bd3786"
             ],
             [
              0.5555555555555556,
              "#d8576b"
             ],
             [
              0.6666666666666666,
              "#ed7953"
             ],
             [
              0.7777777777777778,
              "#fb9f3a"
             ],
             [
              0.8888888888888888,
              "#fdca26"
             ],
             [
              1,
              "#f0f921"
             ]
            ],
            "type": "surface"
           }
          ],
          "table": [
           {
            "cells": {
             "fill": {
              "color": "#EBF0F8"
             },
             "line": {
              "color": "white"
             }
            },
            "header": {
             "fill": {
              "color": "#C8D4E3"
             },
             "line": {
              "color": "white"
             }
            },
            "type": "table"
           }
          ]
         },
         "layout": {
          "annotationdefaults": {
           "arrowcolor": "#2a3f5f",
           "arrowhead": 0,
           "arrowwidth": 1
          },
          "autotypenumbers": "strict",
          "coloraxis": {
           "colorbar": {
            "outlinewidth": 0,
            "ticks": ""
           }
          },
          "colorscale": {
           "diverging": [
            [
             0,
             "#8e0152"
            ],
            [
             0.1,
             "#c51b7d"
            ],
            [
             0.2,
             "#de77ae"
            ],
            [
             0.3,
             "#f1b6da"
            ],
            [
             0.4,
             "#fde0ef"
            ],
            [
             0.5,
             "#f7f7f7"
            ],
            [
             0.6,
             "#e6f5d0"
            ],
            [
             0.7,
             "#b8e186"
            ],
            [
             0.8,
             "#7fbc41"
            ],
            [
             0.9,
             "#4d9221"
            ],
            [
             1,
             "#276419"
            ]
           ],
           "sequential": [
            [
             0,
             "#0d0887"
            ],
            [
             0.1111111111111111,
             "#46039f"
            ],
            [
             0.2222222222222222,
             "#7201a8"
            ],
            [
             0.3333333333333333,
             "#9c179e"
            ],
            [
             0.4444444444444444,
             "#bd3786"
            ],
            [
             0.5555555555555556,
             "#d8576b"
            ],
            [
             0.6666666666666666,
             "#ed7953"
            ],
            [
             0.7777777777777778,
             "#fb9f3a"
            ],
            [
             0.8888888888888888,
             "#fdca26"
            ],
            [
             1,
             "#f0f921"
            ]
           ],
           "sequentialminus": [
            [
             0,
             "#0d0887"
            ],
            [
             0.1111111111111111,
             "#46039f"
            ],
            [
             0.2222222222222222,
             "#7201a8"
            ],
            [
             0.3333333333333333,
             "#9c179e"
            ],
            [
             0.4444444444444444,
             "#bd3786"
            ],
            [
             0.5555555555555556,
             "#d8576b"
            ],
            [
             0.6666666666666666,
             "#ed7953"
            ],
            [
             0.7777777777777778,
             "#fb9f3a"
            ],
            [
             0.8888888888888888,
             "#fdca26"
            ],
            [
             1,
             "#f0f921"
            ]
           ]
          },
          "colorway": [
           "#636efa",
           "#EF553B",
           "#00cc96",
           "#ab63fa",
           "#FFA15A",
           "#19d3f3",
           "#FF6692",
           "#B6E880",
           "#FF97FF",
           "#FECB52"
          ],
          "font": {
           "color": "#2a3f5f"
          },
          "geo": {
           "bgcolor": "white",
           "lakecolor": "white",
           "landcolor": "#E5ECF6",
           "showlakes": true,
           "showland": true,
           "subunitcolor": "white"
          },
          "hoverlabel": {
           "align": "left"
          },
          "hovermode": "closest",
          "mapbox": {
           "style": "light"
          },
          "paper_bgcolor": "white",
          "plot_bgcolor": "#E5ECF6",
          "polar": {
           "angularaxis": {
            "gridcolor": "white",
            "linecolor": "white",
            "ticks": ""
           },
           "bgcolor": "#E5ECF6",
           "radialaxis": {
            "gridcolor": "white",
            "linecolor": "white",
            "ticks": ""
           }
          },
          "scene": {
           "xaxis": {
            "backgroundcolor": "#E5ECF6",
            "gridcolor": "white",
            "gridwidth": 2,
            "linecolor": "white",
            "showbackground": true,
            "ticks": "",
            "zerolinecolor": "white"
           },
           "yaxis": {
            "backgroundcolor": "#E5ECF6",
            "gridcolor": "white",
            "gridwidth": 2,
            "linecolor": "white",
            "showbackground": true,
            "ticks": "",
            "zerolinecolor": "white"
           },
           "zaxis": {
            "backgroundcolor": "#E5ECF6",
            "gridcolor": "white",
            "gridwidth": 2,
            "linecolor": "white",
            "showbackground": true,
            "ticks": "",
            "zerolinecolor": "white"
           }
          },
          "shapedefaults": {
           "line": {
            "color": "#2a3f5f"
           }
          },
          "ternary": {
           "aaxis": {
            "gridcolor": "white",
            "linecolor": "white",
            "ticks": ""
           },
           "baxis": {
            "gridcolor": "white",
            "linecolor": "white",
            "ticks": ""
           },
           "bgcolor": "#E5ECF6",
           "caxis": {
            "gridcolor": "white",
            "linecolor": "white",
            "ticks": ""
           }
          },
          "title": {
           "x": 0.05
          },
          "xaxis": {
           "automargin": true,
           "gridcolor": "white",
           "linecolor": "white",
           "ticks": "",
           "title": {
            "standoff": 15
           },
           "zerolinecolor": "white",
           "zerolinewidth": 2
          },
          "yaxis": {
           "automargin": true,
           "gridcolor": "white",
           "linecolor": "white",
           "ticks": "",
           "title": {
            "standoff": 15
           },
           "zerolinecolor": "white",
           "zerolinewidth": 2
          }
         }
        },
        "width": 2000,
        "xaxis": {
         "categoryarray": [
          "5: 10, 10",
          "5: 20, 10",
          "5: 20, 20",
          "5: 50, 10",
          "5: 50, 25",
          "5: 50, 50",
          "5: 100, 1",
          "5: 100, 10",
          "5: 100, 50",
          "5: 100, 100",
          "10: 10, 10",
          "10: 20, 10",
          "10: 20, 20",
          "10: 50, 10",
          "10: 50, 25",
          "10: 50, 50",
          "10: 100, 1",
          "10: 100, 10",
          "10: 100, 50",
          "10: 100, 100",
          "15: 10, 10",
          "15: 20, 10",
          "15: 20, 20",
          "15: 50, 10",
          "15: 50, 25",
          "15: 50, 50",
          "15: 100, 1",
          "15: 100, 10",
          "15: 100, 50",
          "15: 100, 100",
          "20: 10, 10",
          "20: 20, 10",
          "20: 20, 20",
          "20: 50, 10",
          "20: 50, 25",
          "20: 50, 50",
          "20: 100, 1",
          "20: 100, 10",
          "20: 100, 50",
          "20: 100, 100"
         ],
         "categoryorder": "array"
        }
       }
      }
     },
     "metadata": {}
    }
   ],
   "source": [
    "plot_score('found_norm')"
   ]
  }
 ],
 "metadata": {
  "interpreter": {
   "hash": "d1d681f4305f1255ac663c15d05f8c35ebb140d52bd435c8c2dc01f94f8fa81b"
  },
  "kernelspec": {
   "name": "python388jvsc74a57bd0d1d681f4305f1255ac663c15d05f8c35ebb140d52bd435c8c2dc01f94f8fa81b",
   "display_name": "Python"
  },
  "language_info": {
   "codemirror_mode": {
    "name": "ipython",
    "version": 3
   },
   "file_extension": ".py",
   "mimetype": "text/x-python",
   "name": "python",
   "nbconvert_exporter": "python",
   "pygments_lexer": "ipython3",
   "version": "3.8.8"
  },
  "orig_nbformat": 2
 },
 "nbformat": 4,
 "nbformat_minor": 2
}
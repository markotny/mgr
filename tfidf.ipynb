{
 "cells": [
  {
   "cell_type": "code",
   "execution_count": 1,
   "metadata": {},
   "outputs": [],
   "source": [
    "from sklearn.feature_extraction.text import CountVectorizer, TfidfVectorizer\n",
    "import pandas as pd\n",
    "import numpy as np\n",
    "import pickle"
   ]
  },
  {
   "cell_type": "code",
   "execution_count": 2,
   "metadata": {},
   "outputs": [],
   "source": [
    "model_path='/data/model/'\n",
    "# model_path='model/'"
   ]
  },
  {
   "cell_type": "code",
   "execution_count": 3,
   "metadata": {},
   "outputs": [
    {
     "data": {
      "text/plain": "svmem(total=16614080512, available=11224821760, percent=32.4, used=3796738048, free=10434498560, active=276271104, inactive=4316852224, buffers=191901696, cached=2190942208, shared=1273618432, slab=237334528)"
     },
     "execution_count": 3,
     "metadata": {},
     "output_type": "execute_result"
    }
   ],
   "source": [
    "import psutil\n",
    "psutil.virtual_memory()"
   ]
  },
  {
   "cell_type": "code",
   "execution_count": 4,
   "metadata": {},
   "outputs": [],
   "source": [
    "df_all = pd.read_csv('parsed/corpus/all.csv', index_col=0, na_filter=False)"
   ]
  },
  {
   "cell_type": "code",
   "execution_count": 5,
   "metadata": {},
   "outputs": [],
   "source": [
    "with open('polish_stopwords.txt') as f:\n",
    "    stop_words = [x.strip() for x in f]\n",
    "\n",
    "tfidf_vectorizer = TfidfVectorizer(stop_words=stop_words, ngram_range=(1, 3), min_df=5)"
   ]
  },
  {
   "cell_type": "code",
   "execution_count": 8,
   "metadata": {},
   "outputs": [],
   "source": [
    "embeddings_tfidf = tfidf_vectorizer.fit_transform(df_all[df_all.rok == '2015'].text.to_list())"
   ]
  },
  {
   "cell_type": "code",
   "execution_count": 8,
   "metadata": {},
   "outputs": [],
   "source": [
    "with open(f'{model_path}embeddings-tfidf.pkl', \"wb\") as fOut:\n",
    "    pickle.dump(embeddings_tfidf, fOut)"
   ]
  },
  {
   "cell_type": "code",
   "execution_count": 13,
   "metadata": {},
   "outputs": [
    {
     "name": "stdout",
     "output_type": "stream",
     "text": [
      "['priorytetowa' 'osadzonych' 'zatrudnienia' 'służby więziennej'\n",
      " 'więziennej']\n"
     ]
    }
   ],
   "source": [
    "feature_names = np.array(tfidf_vectorizer.get_feature_names())\n",
    "\n",
    "def get_top_tf_idf_words(response, top_n=5):\n",
    "    sorted_nzs = np.argsort(response.data)[:-(top_n+1):-1]\n",
    "    return feature_names[response.indices[sorted_nzs]]\n",
    "\n",
    "tfidf_words = [get_top_tf_idf_words(x) for x in embeddings_tfidf]"
   ]
  },
  {
   "cell_type": "code",
   "execution_count": null,
   "metadata": {},
   "outputs": [],
   "source": [
    "with open(f'{model_path}tfidf-words.pkl', \"wb\") as fOut:\n",
    "    pickle.dump(tfidf_words, fOut)"
   ]
  }
 ],
 "metadata": {
  "kernelspec": {
   "display_name": "Python 3.8.8 64-bit ('mgr-bertopic': conda)",
   "name": "python388jvsc74a57bd0c6ae52f1445a8fae5e70ee721b51176387554ea761a26639d9bc16ead0d5d490"
  },
  "language_info": {
   "codemirror_mode": {
    "name": "ipython",
    "version": 3
   },
   "file_extension": ".py",
   "mimetype": "text/x-python",
   "name": "python",
   "nbconvert_exporter": "python",
   "pygments_lexer": "ipython3",
   "version": "3.8.8"
  },
  "metadata": {
   "interpreter": {
    "hash": "659221476be32520fda7afbbe264f7f8859662e147c49939a460412189e53c58"
   }
  },
  "orig_nbformat": 2
 },
 "nbformat": 4,
 "nbformat_minor": 2
}
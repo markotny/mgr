{
 "cells": [
  {
   "cell_type": "code",
   "execution_count": 11,
   "metadata": {},
   "outputs": [],
   "source": [
    "from sklearn.feature_extraction.text import TfidfVectorizer\n",
    "import pandas as pd\n",
    "import numpy as np\n",
    "import pickle\n",
    "import umap\n",
    "import spacy\n",
    "from tqdm import tqdm"
   ]
  },
  {
   "cell_type": "code",
   "execution_count": 2,
   "metadata": {},
   "outputs": [],
   "source": [
    "# model_path='/data/model/'\n",
    "model_path='model/'"
   ]
  },
  {
   "cell_type": "code",
   "execution_count": 3,
   "metadata": {},
   "outputs": [
    {
     "data": {
      "text/plain": "svmem(total=59098333184, available=55813578752, percent=5.6, used=2673225728, free=53153333248, active=2641756160, inactive=2720854016, buffers=58015744, cached=3213758464, shared=9109504, slab=204210176)"
     },
     "execution_count": 3,
     "metadata": {},
     "output_type": "execute_result"
    }
   ],
   "source": [
    "import psutil\n",
    "psutil.virtual_memory()"
   ]
  },
  {
   "cell_type": "code",
   "execution_count": 9,
   "metadata": {},
   "outputs": [],
   "source": [
    "df_reader = pd.read_csv('parsed/corpus/all.csv', usecols=['text'], chunksize=10000)\n",
    "docs_gen = (x for df in df_reader for x in df.text.to_list())"
   ]
  },
  {
   "cell_type": "code",
   "execution_count": 5,
   "metadata": {},
   "outputs": [],
   "source": [
    "with open('polish_stopwords.txt') as f:\n",
    "    stop_words = [x.strip() for x in f]\n",
    "\n",
    "nlp = spacy.load('pl_spacy_model')\n",
    "\n",
    "def tokenize(text):\n",
    "    analysis = nlp(text)\n",
    "    return [token.lemma_ for token in analysis]\n",
    "\n",
    "tfidf_vectorizer = TfidfVectorizer(tokenizer=tokenize, ngram_range=(1, 3), min_df=5, max_df=0.1)"
   ]
  },
  {
   "cell_type": "code",
   "execution_count": 12,
   "metadata": {},
   "outputs": [
    {
     "name": "stderr",
     "output_type": "stream",
     "text": [
      "  0%|          | 602/330490 [05:10<48:53:53,  1.87it/s]"
     ]
    }
   ],
   "source": [
    "embeddings_tfidf = tfidf_vectorizer.fit_transform(tqdm(docs_gen, total=330490))"
   ]
  },
  {
   "cell_type": "code",
   "execution_count": 6,
   "metadata": {},
   "outputs": [],
   "source": [
    "with open(f'{model_path}embeddings-tfidf-2015-morf.pkl', \"wb\") as fOut:\n",
    "    pickle.dump(embeddings_tfidf, fOut)"
   ]
  },
  {
   "cell_type": "code",
   "execution_count": 40,
   "metadata": {},
   "outputs": [
    {
     "data": {
      "text/plain": "(41930, 290255)"
     },
     "execution_count": 40,
     "metadata": {},
     "output_type": "execute_result"
    }
   ],
   "source": [
    "embeddings_tfidf.shape"
   ]
  },
  {
   "cell_type": "code",
   "execution_count": 12,
   "metadata": {},
   "outputs": [],
   "source": [
    "feature_names = np.array(tfidf_vectorizer.get_feature_names())\n",
    "\n",
    "def get_top_tf_idf_words(response, top_n=5):\n",
    "    sorted_nzs = np.argsort(response.data)[:-(top_n+1):-1]\n",
    "    return feature_names[response.indices[sorted_nzs]]\n",
    "\n",
    "tfidf_words = [get_top_tf_idf_words(x) for x in embeddings_tfidf]"
   ]
  },
  {
   "cell_type": "code",
   "execution_count": 13,
   "metadata": {},
   "outputs": [],
   "source": [
    "df['tfidf_words'] = tfidf_words"
   ]
  },
  {
   "cell_type": "code",
   "execution_count": 21,
   "metadata": {},
   "outputs": [],
   "source": [
    "with open(f'{model_path}tfidf-words-max03.pkl', \"rb\") as fIn:\n",
    "    tfidf_words_cmp = pickle.load(fIn)\n",
    "\n",
    "df_all['tfidf_words_cmp'] = tfidf_words_cmp"
   ]
  },
  {
   "cell_type": "code",
   "execution_count": 22,
   "metadata": {},
   "outputs": [],
   "source": [
    "df['tfidf_words_cmp'] = df_all[df_all.rok=='2015'].tfidf_words_cmp"
   ]
  },
  {
   "cell_type": "code",
   "execution_count": 39,
   "metadata": {},
   "outputs": [
    {
     "data": {
      "text/plain": "['Panie Marszałku! Panie Ministrze! Wysoka Izbo! Procedując dzisiaj projekt nowelizacji ustawy, przekonujemy się po raz kolejny, jak trudnym elementem funkcjonowania, realizacji zadań przez nasz system opieki zdrowotnej jest moment kontraktowania procedur. Ze swego doświadczenia mam w pamięci już wielokrotne finał roku, zakończenie roku, czas na kontraktowanie, przedłużanie bądź uczestniczenie podmiotów w procedurze konkursowej. Wiązało się to niejednokrotnie z wielkimi emocjami. Analizując aktualną sytuację i zapowiedzi rządu co do zmiany podmiotu, co do sposobu zarządzania, co do zmiany płatnika, zmian organizacyjnych w resorcie, uważamy, że proponowane zmiany mają szeroki związek właśnie z tą przygotowywaną reformą. Nie ukrywam, że jeślibyśmy poszli tym torem, to obdarzając zaufaniem, przyjmując określone propozycje, możemy domniemywać, że jest to również czas czy okres, czasokres, który zostanie poświęcony na głęboką analizę mechanizmów, które funkcjonują i pozwalają zapewnić realizację procedur medycznych, że ten czas zostanie również wykorzystany na nową wycenę procedur z uwzględnieniem tych głosów, które mówią o niedoszacowaniu w pewnych obszarach, o potrzebie przeznaczenia większych środków i większej liczby procedur do zakontraktowania. Myślę również, że te elementy, które są niezbędne do określenia tych potrzeb, jak mapa potrzeb zdrowotnych... Wiemy przecież, że pierwsza mapa miała, jest przygotowywana przez ministra, że potrzebna jest wycena. Zastanawiamy się jednak, jak w tym czasokresie bez zmiany wartości, które będą występowały w kontraktach, będą funkcjonować ośrodki, które mają trudności finansowe. Przecież w tym czasie, kiedy nie było konkursów, nie było zmiany wartości, następuje zmiana kosztów funkcjonowania w różnych elementach. Przecież w tym czasie dochodzą nowe wymogi, którym muszą ośrodki medyczne sprostać. Przecież w tym czasie weszły również takie elementy jak pakiet onkologiczny, o którym już była mowa tu na tej sali, na poprzedniej sesji, w części pytań i odpowiedzi, który również wpływa bardzo znacząco na sytuację finansową nie tylko jednostek specjalistycznych, ale tych innych szpitali, które mają część kontraktu wydzielone i określone pakietem onkologicznym. Myślę jednak dalej, że jest to również czas - zgodnie z zapowiedziami - na rozpoczęcie prac albo zakończenie prac nad projektem sieci szpitali. W związku z tym myślę, że w dalszych pracach będziemy mogli mówić i o skonkretyzowaniu ostatecznego terminu określającego koniec tego okresu, który zakończy okres przedłużania i trwania naszej służby zdrowia, naszego systemu opieki zdrowotnej bez nowego kontraktowania. Dziękuję bardzo.',\n array(['kontraktować', 'procedura', 'zmiana wartość', 'czas',\n        'system opieka zdrowotny'], dtype='<U49'),\n array(['zmiany wartości', 'procedur', 'mapa', 'kontraktowania', 'zmiany'],\n       dtype='<U58')]"
     },
     "execution_count": 39,
     "metadata": {},
     "output_type": "execute_result"
    }
   ],
   "source": [
    "df[['text','tfidf_words','tfidf_words_cmp']].iloc[3293].to_list()"
   ]
  },
  {
   "cell_type": "code",
   "execution_count": 9,
   "metadata": {},
   "outputs": [],
   "source": [
    "with open(f'{model_path}tfidf-words-max300k.pkl', \"wb\") as fOut:\n",
    "    pickle.dump(tfidf_words, fOut)"
   ]
  },
  {
   "cell_type": "code",
   "execution_count": 10,
   "metadata": {},
   "outputs": [
    {
     "data": {
      "text/plain": "(330490, 3300133)"
     },
     "execution_count": 10,
     "metadata": {},
     "output_type": "execute_result"
    }
   ],
   "source": [
    "embeddings_tfidf.shape"
   ]
  },
  {
   "cell_type": "code",
   "execution_count": 12,
   "metadata": {},
   "outputs": [],
   "source": [
    "word_weights = dict(zip(tfidf_vectorizer.get_feature_names(), tfidf_vectorizer.idf_))"
   ]
  },
  {
   "cell_type": "code",
   "execution_count": 22,
   "metadata": {},
   "outputs": [],
   "source": [
    "with open(f'{model_path}tfidf-word-weights-max03.pkl', \"wb\") as fOut:\n",
    "    pickle.dump(word_weights, fOut)"
   ]
  },
  {
   "cell_type": "markdown",
   "metadata": {},
   "source": [
    "# Reduce dims"
   ]
  },
  {
   "cell_type": "code",
   "execution_count": 4,
   "metadata": {},
   "outputs": [],
   "source": [
    "with open(f'{model_path}embeddings-tfidf-all-max300k.pkl', \"rb\") as fIn:\n",
    "    embeddings_tfidf = pickle.load(fIn)"
   ]
  },
  {
   "cell_type": "code",
   "execution_count": 41,
   "metadata": {},
   "outputs": [],
   "source": [
    "embeddings_reduced = umap.UMAP(n_neighbors=15,\n",
    "                    n_components=5,\n",
    "                    min_dist=0.0,\n",
    "                    metric='hellinger').fit_transform(embeddings_tfidf)"
   ]
  },
  {
   "cell_type": "code",
   "execution_count": 42,
   "metadata": {},
   "outputs": [],
   "source": [
    "with open(f'{model_path}embeddings-tfidf-2015-morf-5d.pkl', \"wb\") as fOut:\n",
    "    pickle.dump(embeddings_reduced, fOut)"
   ]
  }
 ],
 "metadata": {
  "kernelspec": {
   "display_name": "Python 3.8.8 64-bit ('mgr': conda)",
   "language": "python",
   "name": "python388jvsc74a57bd0659221476be32520fda7afbbe264f7f8859662e147c49939a460412189e53c58"
  },
  "language_info": {
   "codemirror_mode": {
    "name": "ipython",
    "version": 3
   },
   "file_extension": ".py",
   "mimetype": "text/x-python",
   "name": "python",
   "nbconvert_exporter": "python",
   "pygments_lexer": "ipython3",
   "version": "3.8.8"
  },
  "metadata": {
   "interpreter": {
    "hash": "659221476be32520fda7afbbe264f7f8859662e147c49939a460412189e53c58"
   }
  },
  "orig_nbformat": 2
 },
 "nbformat": 4,
 "nbformat_minor": 2
}
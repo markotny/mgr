{
 "cells": [
  {
   "cell_type": "code",
   "execution_count": 1,
   "metadata": {},
   "outputs": [],
   "source": [
    "from bs4 import BeautifulSoup\n",
    "from posl import load_posl_df\n",
    "from glob import glob\n",
    "from datetime import datetime\n",
    "from tqdm import tqdm\n",
    "from multiprocessing import Pool\n",
    "import os\n",
    "import pandas as pd\n",
    "import re\n",
    "%matplotlib tk"
   ]
  },
  {
   "cell_type": "code",
   "execution_count": 2,
   "metadata": {},
   "outputs": [],
   "source": [
    "def is_comment(tag):\n",
    "    text = tag.getText()\n",
    "    return text.startswith(\"(\") and text.endswith(\")\")\n",
    "\n",
    "def is_speaker(tag):\n",
    "    return not is_comment(tag) and not tag['who'].lower().startswith(('#komentarz', '#glos', '#marszalek', '#poslowie', '#wicemarszalek', '#gwar', '#dziennego')) \n",
    "\n",
    "def get_speaker_name(speaker_dict, tag):\n",
    "    speaker_id = tag.find(is_speaker)['who'][1:]\n",
    "    speaker = speaker_dict[speaker_id].split()[-2:]\n",
    "    return ' '.join(speaker)\n",
    "\n",
    "def get_id(doc_id, tag):\n",
    "    return f'{doc_id}-{tag[\"xml:id\"]}'\n",
    "\n",
    "def parse_folder(folder):\n",
    "    with open(os.path.join(folder, \"header.xml\"), 'r') as header_file:\n",
    "        header = BeautifulSoup(header_file, 'lxml')\n",
    "\n",
    "    doc_id =  header.find(\"teiheader\")[\"xml:id\"]\n",
    "    doc_date = datetime.strptime(header.find(\"date\").text[:10], '%Y-%m-%d')\n",
    "    doc_title = header.find(\"title\").text\n",
    "    doc_speakers = {x[\"xml:id\"]: x.text.strip() for x in header.find_all(\"person\")}\n",
    "\n",
    "    with open(os.path.join(folder, \"text_structure.xml\"), 'r') as data_file:\n",
    "        data = BeautifulSoup(data_file, 'lxml')\n",
    "    \n",
    "    divs = data.find_all('div')\n",
    "    texts = [[get_id(doc_id, div), get_speaker_name(doc_speakers, div), doc_date, ' '.join([x.text for x in div.find_all(is_speaker)])] for div in divs if div.find(is_speaker)]\n",
    "    texts = [t for t in texts if len(t[3]) >= 200]\n",
    "    df = pd.DataFrame(texts, columns=[\"id\", \"speaker\", \"date\", \"text\"])\n",
    "\n",
    "    return df   "
   ]
  },
  {
   "cell_type": "code",
   "execution_count": 3,
   "metadata": {},
   "outputs": [
    {
     "name": "stderr",
     "output_type": "stream",
     "text": [
      "100%|██████████| 3398/3398 [01:21<00:00, 41.65it/s]\n"
     ]
    }
   ],
   "source": [
    "with Pool(8) as p:\n",
    "    folders = glob('corpus/*/sejm/posiedzenia/pp/*')\n",
    "    frames = list(tqdm(p.imap(parse_folder, folders), total=len(folders)))\n",
    "\n",
    "corpus = pd.concat(frames)"
   ]
  },
  {
   "cell_type": "code",
   "execution_count": 43,
   "metadata": {},
   "outputs": [
    {
     "name": "stderr",
     "output_type": "stream",
     "text": [
      "100%|██████████| 330490/330490 [22:59<00:00, 239.53it/s]\n"
     ]
    }
   ],
   "source": [
    "posl = load_posl_df()\n",
    "with open('posl/kadencje_start') as f:\n",
    "    all_kadencje = sorted([datetime.strptime(x.strip(), '%Y-%m-%d') for x in f], reverse=True)\n",
    "\n",
    "def find_speaker(row_tuple):\n",
    "    _, row = row_tuple\n",
    "    speaker = row.speaker.split()\n",
    "\n",
    "    kadencja = next((k for k in all_kadencje if row.date >= k))\n",
    "\n",
    "    found = posl[(posl.rok == kadencja.year) & (posl.posel.str.contains(rf\"(?:^| ){re.escape(speaker[0])}(?:$| )\")) & (posl.posel.str.contains(rf'(?:^| ){re.escape(speaker[1])}(?:$| )') if len(speaker) == 2 else True)]\n",
    "\n",
    "    if len(found) == 1:\n",
    "        return found.squeeze().to_list()\n",
    "    else:\n",
    "        return ['' for x in range(6)]\n",
    "\n",
    "with Pool(8) as p:\n",
    "    posly = list(tqdm(p.imap(find_speaker, corpus.iterrows()), total=len(corpus)))"
   ]
  },
  {
   "cell_type": "code",
   "execution_count": 44,
   "metadata": {},
   "outputs": [
    {
     "data": {
      "text/html": "<div>\n<style scoped>\n    .dataframe tbody tr th:only-of-type {\n        vertical-align: middle;\n    }\n\n    .dataframe tbody tr th {\n        vertical-align: top;\n    }\n\n    .dataframe thead th {\n        text-align: right;\n    }\n</style>\n<table border=\"1\" class=\"dataframe\">\n  <thead>\n    <tr style=\"text-align: right;\">\n      <th></th>\n      <th>rok</th>\n      <th>posel</th>\n      <th>okreg</th>\n      <th>klub</th>\n      <th>lista</th>\n      <th>partia</th>\n    </tr>\n  </thead>\n  <tbody>\n    <tr>\n      <th>0</th>\n      <td>1965</td>\n      <td>Jerzy Olszewski</td>\n      <td>Chrzanów</td>\n      <td>PZPR</td>\n      <td></td>\n      <td></td>\n    </tr>\n    <tr>\n      <th>1</th>\n      <td>1965</td>\n      <td>Maria Krystyna Mielczarek</td>\n      <td>Pabianice</td>\n      <td>PZPR</td>\n      <td></td>\n      <td></td>\n    </tr>\n    <tr>\n      <th>2</th>\n      <td>1965</td>\n      <td>Andrzej Borodzik</td>\n      <td>Warszawa</td>\n      <td>PZPR</td>\n      <td></td>\n      <td></td>\n    </tr>\n    <tr>\n      <th>3</th>\n      <td>1965</td>\n      <td>Lucyna Adamowicz</td>\n      <td>Gdynia</td>\n      <td>bezp.</td>\n      <td></td>\n      <td></td>\n    </tr>\n    <tr>\n      <th>4</th>\n      <td>1965</td>\n      <td>Czesław Domagała</td>\n      <td>Chrzanów</td>\n      <td>PZPR</td>\n      <td></td>\n      <td></td>\n    </tr>\n    <tr>\n      <th>...</th>\n      <td>...</td>\n      <td>...</td>\n      <td>...</td>\n      <td>...</td>\n      <td>...</td>\n      <td>...</td>\n    </tr>\n    <tr>\n      <th>330485</th>\n      <td></td>\n      <td></td>\n      <td></td>\n      <td></td>\n      <td></td>\n      <td></td>\n    </tr>\n    <tr>\n      <th>330486</th>\n      <td></td>\n      <td></td>\n      <td></td>\n      <td></td>\n      <td></td>\n      <td></td>\n    </tr>\n    <tr>\n      <th>330487</th>\n      <td></td>\n      <td></td>\n      <td></td>\n      <td></td>\n      <td></td>\n      <td></td>\n    </tr>\n    <tr>\n      <th>330488</th>\n      <td></td>\n      <td></td>\n      <td></td>\n      <td></td>\n      <td></td>\n      <td></td>\n    </tr>\n    <tr>\n      <th>330489</th>\n      <td></td>\n      <td></td>\n      <td></td>\n      <td></td>\n      <td></td>\n      <td></td>\n    </tr>\n  </tbody>\n</table>\n<p>330490 rows × 6 columns</p>\n</div>",
      "text/plain": "         rok                      posel      okreg   klub lista partia\n0       1965            Jerzy Olszewski   Chrzanów   PZPR             \n1       1965  Maria Krystyna Mielczarek  Pabianice   PZPR             \n2       1965           Andrzej Borodzik   Warszawa   PZPR             \n3       1965           Lucyna Adamowicz     Gdynia  bezp.             \n4       1965           Czesław Domagała   Chrzanów   PZPR             \n...      ...                        ...        ...    ...   ...    ...\n330485                                                                \n330486                                                                \n330487                                                                \n330488                                                                \n330489                                                                \n\n[330490 rows x 6 columns]"
     },
     "execution_count": 44,
     "metadata": {},
     "output_type": "execute_result"
    }
   ],
   "source": [
    "df_posly = pd.DataFrame(posly, columns=posl.columns)\n",
    "df_posly"
   ]
  },
  {
   "cell_type": "code",
   "execution_count": 58,
   "metadata": {},
   "outputs": [
    {
     "data": {
      "text/html": "<div>\n<style scoped>\n    .dataframe tbody tr th:only-of-type {\n        vertical-align: middle;\n    }\n\n    .dataframe tbody tr th {\n        vertical-align: top;\n    }\n\n    .dataframe thead th {\n        text-align: right;\n    }\n</style>\n<table border=\"1\" class=\"dataframe\">\n  <thead>\n    <tr style=\"text-align: right;\">\n      <th></th>\n      <th>id</th>\n      <th>speaker</th>\n      <th>date</th>\n      <th>text</th>\n      <th>rok</th>\n      <th>posel</th>\n      <th>okreg</th>\n      <th>klub</th>\n      <th>lista</th>\n      <th>partia</th>\n    </tr>\n  </thead>\n  <tbody>\n    <tr>\n      <th>0</th>\n      <td>PPC-196569-sjm-ppxxx-00005-01-div-3</td>\n      <td>Olszewski Jerzy</td>\n      <td>1965-12-13</td>\n      <td>Wysoki Sejmie! Wzrastające znaczenie handlu za...</td>\n      <td>1965</td>\n      <td>Jerzy Olszewski</td>\n      <td>Chrzanów</td>\n      <td>PZPR</td>\n      <td></td>\n      <td></td>\n    </tr>\n    <tr>\n      <th>1</th>\n      <td>PPC-196569-sjm-ppxxx-00005-01-div-5</td>\n      <td>Mielczarek Maria</td>\n      <td>1965-12-13</td>\n      <td>Wysoki Sejmie! Pragnę nawiązać do tej części p...</td>\n      <td>1965</td>\n      <td>Maria Krystyna Mielczarek</td>\n      <td>Pabianice</td>\n      <td>PZPR</td>\n      <td></td>\n      <td></td>\n    </tr>\n    <tr>\n      <th>2</th>\n      <td>PPC-196569-sjm-ppxxx-00005-01-div-7</td>\n      <td>Borodzik Andrzej</td>\n      <td>1965-12-13</td>\n      <td>Wysoki Sejmie! Projekt uchwały o Narodowym Pla...</td>\n      <td>1965</td>\n      <td>Andrzej Borodzik</td>\n      <td>Warszawa</td>\n      <td>PZPR</td>\n      <td></td>\n      <td></td>\n    </tr>\n    <tr>\n      <th>3</th>\n      <td>PPC-196569-sjm-ppxxx-00005-01-div-9</td>\n      <td>Adamowicz Lucyna</td>\n      <td>1965-12-13</td>\n      <td>Wysoki Sejmie! Omawiając zagadnienie produkcji...</td>\n      <td>1965</td>\n      <td>Lucyna Adamowicz</td>\n      <td>Gdynia</td>\n      <td>bezp.</td>\n      <td></td>\n      <td></td>\n    </tr>\n    <tr>\n      <th>4</th>\n      <td>PPC-196569-sjm-ppxxx-00005-01-div-11</td>\n      <td>Domagała Czesław</td>\n      <td>1965-12-13</td>\n      <td>Wysoka Izbo! W swoim wystąpieniu pragnąłbym zw...</td>\n      <td>1965</td>\n      <td>Czesław Domagała</td>\n      <td>Chrzanów</td>\n      <td>PZPR</td>\n      <td></td>\n      <td></td>\n    </tr>\n    <tr>\n      <th>...</th>\n      <td>...</td>\n      <td>...</td>\n      <td>...</td>\n      <td>...</td>\n      <td>...</td>\n      <td>...</td>\n      <td>...</td>\n      <td>...</td>\n      <td>...</td>\n      <td>...</td>\n    </tr>\n    <tr>\n      <th>15</th>\n      <td>PPC-193035-sjm-ppxxx-00114-01-div-37</td>\n      <td>P. Czernichowski</td>\n      <td>1934-02-09</td>\n      <td>Wysoka Izbo! Zwyczajem dawnych lat przy budżec...</td>\n      <td></td>\n      <td></td>\n      <td></td>\n      <td></td>\n      <td></td>\n      <td></td>\n    </tr>\n    <tr>\n      <th>16</th>\n      <td>PPC-193035-sjm-ppxxx-00114-01-div-39</td>\n      <td>P. Górczak</td>\n      <td>1934-02-09</td>\n      <td>W referacie budżetowym na rok 1934/35 resortu ...</td>\n      <td></td>\n      <td></td>\n      <td></td>\n      <td></td>\n      <td></td>\n      <td></td>\n    </tr>\n    <tr>\n      <th>17</th>\n      <td>PPC-193035-sjm-ppxxx-00114-01-div-41</td>\n      <td>P. Szymanowski</td>\n      <td>1934-02-09</td>\n      <td>Wysoki Sejmie! Zabieram głos, jako poseł z zie...</td>\n      <td></td>\n      <td></td>\n      <td></td>\n      <td></td>\n      <td></td>\n      <td></td>\n    </tr>\n    <tr>\n      <th>18</th>\n      <td>PPC-193035-sjm-ppxxx-00114-01-div-43</td>\n      <td>P. Rottenstreich</td>\n      <td>1934-02-09</td>\n      <td>Wysoka Izbo! Każde państwo prowadzi w obecnych...</td>\n      <td></td>\n      <td></td>\n      <td></td>\n      <td></td>\n      <td></td>\n      <td></td>\n    </tr>\n    <tr>\n      <th>19</th>\n      <td>PPC-193035-sjm-ppxxx-00114-01-div-45</td>\n      <td>p. Borecki</td>\n      <td>1934-02-09</td>\n      <td>Wniosek Związku Parlamentarnego Polskich Socja...</td>\n      <td></td>\n      <td></td>\n      <td></td>\n      <td></td>\n      <td></td>\n      <td></td>\n    </tr>\n  </tbody>\n</table>\n<p>330490 rows × 10 columns</p>\n</div>",
      "text/plain": "                                      id           speaker       date  \\\n0    PPC-196569-sjm-ppxxx-00005-01-div-3   Olszewski Jerzy 1965-12-13   \n1    PPC-196569-sjm-ppxxx-00005-01-div-5  Mielczarek Maria 1965-12-13   \n2    PPC-196569-sjm-ppxxx-00005-01-div-7  Borodzik Andrzej 1965-12-13   \n3    PPC-196569-sjm-ppxxx-00005-01-div-9  Adamowicz Lucyna 1965-12-13   \n4   PPC-196569-sjm-ppxxx-00005-01-div-11  Domagała Czesław 1965-12-13   \n..                                   ...               ...        ...   \n15  PPC-193035-sjm-ppxxx-00114-01-div-37  P. Czernichowski 1934-02-09   \n16  PPC-193035-sjm-ppxxx-00114-01-div-39        P. Górczak 1934-02-09   \n17  PPC-193035-sjm-ppxxx-00114-01-div-41    P. Szymanowski 1934-02-09   \n18  PPC-193035-sjm-ppxxx-00114-01-div-43  P. Rottenstreich 1934-02-09   \n19  PPC-193035-sjm-ppxxx-00114-01-div-45        p. Borecki 1934-02-09   \n\n                                                 text   rok  \\\n0   Wysoki Sejmie! Wzrastające znaczenie handlu za...  1965   \n1   Wysoki Sejmie! Pragnę nawiązać do tej części p...  1965   \n2   Wysoki Sejmie! Projekt uchwały o Narodowym Pla...  1965   \n3   Wysoki Sejmie! Omawiając zagadnienie produkcji...  1965   \n4   Wysoka Izbo! W swoim wystąpieniu pragnąłbym zw...  1965   \n..                                                ...   ...   \n15  Wysoka Izbo! Zwyczajem dawnych lat przy budżec...         \n16  W referacie budżetowym na rok 1934/35 resortu ...         \n17  Wysoki Sejmie! Zabieram głos, jako poseł z zie...         \n18  Wysoka Izbo! Każde państwo prowadzi w obecnych...         \n19  Wniosek Związku Parlamentarnego Polskich Socja...         \n\n                        posel      okreg   klub lista partia  \n0             Jerzy Olszewski   Chrzanów   PZPR               \n1   Maria Krystyna Mielczarek  Pabianice   PZPR               \n2            Andrzej Borodzik   Warszawa   PZPR               \n3            Lucyna Adamowicz     Gdynia  bezp.               \n4            Czesław Domagała   Chrzanów   PZPR               \n..                        ...        ...    ...   ...    ...  \n15                                                            \n16                                                            \n17                                                            \n18                                                            \n19                                                            \n\n[330490 rows x 10 columns]"
     },
     "execution_count": 58,
     "metadata": {},
     "output_type": "execute_result"
    }
   ],
   "source": [
    "df_posly.index = corpus.index\n",
    "df_all = pd.concat([corpus, df_posly], axis=1)\n",
    "df_all"
   ]
  },
  {
   "cell_type": "code",
   "execution_count": 59,
   "metadata": {},
   "outputs": [],
   "source": [
    "df_all.to_csv('parsed/corpus/all.csv')"
   ]
  },
  {
   "cell_type": "markdown",
   "metadata": {},
   "source": [
    "# Finding doc"
   ]
  },
  {
   "cell_type": "code",
   "execution_count": 1,
   "metadata": {},
   "outputs": [],
   "source": [
    "from bs4 import BeautifulSoup\n",
    "from glob import glob\n",
    "from datetime import datetime\n",
    "import os\n",
    "import pandas as pd\n",
    "import re"
   ]
  },
  {
   "cell_type": "code",
   "execution_count": 2,
   "metadata": {},
   "outputs": [],
   "source": [
    "doc_id = 'PPC-201519-sjm-ppxxx-00060-03-div-105'"
   ]
  },
  {
   "cell_type": "code",
   "execution_count": 10,
   "metadata": {},
   "outputs": [],
   "source": [
    "def get_speaker_name(speaker_dict, tag):\n",
    "    speaker_id = tag['who'][1:]\n",
    "    return speaker_dict[speaker_id]\n",
    "\n",
    "def parse_folder(folder):\n",
    "    with open(os.path.join(folder, \"header.xml\"), 'r') as header_file:\n",
    "        header = BeautifulSoup(header_file, 'lxml')\n",
    "\n",
    "    doc_date = datetime.strptime(header.find(\"date\").text[:10], '%Y-%m-%d')\n",
    "    doc_title = header.find(\"title\").text\n",
    "    doc_speakers = {x[\"xml:id\"]: x.text.strip() for x in header.find_all(\"person\")}\n",
    "\n",
    "    with open(os.path.join(folder, \"text_structure.xml\"), 'r') as data_file:\n",
    "        data = BeautifulSoup(data_file, 'lxml')\n",
    "    \n",
    "    divs = data.find_all('div')\n",
    "    texts = [{'id': div[\"xml:id\"], 'speeches': [{'speaker': get_speaker_name(doc_speakers, u),'text': u.text} for u in div.find_all('u')]} for div in divs]\n",
    "    return texts\n",
    "\n",
    "def find_folder(doc_id):\n",
    "    sitting_id, speech_id = re.search(r\"PPC-(.+)-(div-\\d+)\", doc_id).groups()\n",
    "    folders = glob('corpus/*/sejm/posiedzenia/pp/' + sitting_id)\n",
    "    if len(folders) != 1:\n",
    "        return None\n",
    "    \n",
    "    texts = parse_folder(folders[0])\n",
    "    return texts"
   ]
  },
  {
   "cell_type": "code",
   "execution_count": 12,
   "metadata": {},
   "outputs": [],
   "source": [
    "texts = find_folder(doc_id)\n",
    "df = pd.DataFrame(texts)"
   ]
  },
  {
   "cell_type": "markdown",
   "metadata": {},
   "source": [
    "# Cities"
   ]
  },
  {
   "cell_type": "code",
   "execution_count": 1,
   "metadata": {},
   "outputs": [],
   "source": [
    "from bs4 import BeautifulSoup\n",
    "import requests\n",
    "import pandas as pd\n",
    "import pickle"
   ]
  },
  {
   "cell_type": "code",
   "execution_count": 41,
   "metadata": {},
   "outputs": [],
   "source": [
    "df = pickle.load(open('app/cache/data.pkl','rb'))"
   ]
  },
  {
   "cell_type": "code",
   "execution_count": 4,
   "metadata": {},
   "outputs": [],
   "source": [
    "link = 'https://www.polskawliczbach.pl/Miasta'\n",
    "res = requests.get(link)\n",
    "soup = BeautifulSoup(res.text, 'html.parser')"
   ]
  },
  {
   "cell_type": "code",
   "execution_count": null,
   "metadata": {},
   "outputs": [],
   "source": [
    "table = soup.find(\"table\", {\"id\": \"lstTab\"})"
   ]
  },
  {
   "cell_type": "code",
   "execution_count": 29,
   "metadata": {},
   "outputs": [],
   "source": [
    "cities = {row.find_all('a')[0].text: row.find_all('a')[2].text for row in table.tbody.find_all(\"tr\")}"
   ]
  },
  {
   "cell_type": "code",
   "execution_count": 45,
   "metadata": {},
   "outputs": [],
   "source": [
    "pickle.dump(cities, open('parsed/wojew.pkl','wb'))"
   ]
  }
 ],
 "metadata": {
  "kernelspec": {
   "display_name": "Python 3.8.8 64-bit ('dash-elk': conda)",
   "name": "python388jvsc74a57bd0d1d681f4305f1255ac663c15d05f8c35ebb140d52bd435c8c2dc01f94f8fa81b"
  },
  "language_info": {
   "name": "python",
   "version": ""
  },
  "metadata": {
   "interpreter": {
    "hash": "916dbcbb3f70747c44a77c7bcd40155683ae19c65e1c03b4aa3499c5328201f1"
   }
  },
  "orig_nbformat": 2
 },
 "nbformat": 4,
 "nbformat_minor": 2
}
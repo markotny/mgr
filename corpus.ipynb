{
 "cells": [
  {
   "cell_type": "code",
   "execution_count": 1,
   "metadata": {},
   "outputs": [],
   "source": [
    "from bs4 import BeautifulSoup\n",
    "from posl import load_posl_df\n",
    "from glob import glob\n",
    "from datetime import datetime\n",
    "from tqdm import tqdm\n",
    "from multiprocessing import Pool\n",
    "import os\n",
    "import pandas as pd\n",
    "import re\n",
    "%matplotlib tk"
   ]
  },
  {
   "cell_type": "code",
   "execution_count": 2,
   "metadata": {},
   "outputs": [],
   "source": [
    "def is_comment(tag):\n",
    "    text = tag.getText()\n",
    "    return text.startswith(\"(\") and text.endswith(\")\")\n",
    "\n",
    "def is_speaker(tag):\n",
    "    return not is_comment(tag) and not tag['who'].lower().startswith(('#komentarz', '#glos', '#marszalek', '#poslowie', '#wicemarszalek', '#gwar', '#dziennego')) \n",
    "\n",
    "def get_speaker_name(speaker_dict, tag):\n",
    "    speaker_id = tag.find(is_speaker)['who'][1:]\n",
    "    speaker = speaker_dict[speaker_id].split()[-2:]\n",
    "    return ' '.join(speaker)\n",
    "\n",
    "def get_id(doc_id, tag):\n",
    "    return f'{doc_id}-{tag[\"xml:id\"]}'\n",
    "\n",
    "def parse_folder(folder):\n",
    "    with open(os.path.join(folder, \"header.xml\"), 'r') as header_file:\n",
    "        header = BeautifulSoup(header_file, 'lxml')\n",
    "\n",
    "    doc_id =  header.find(\"teiheader\")[\"xml:id\"]\n",
    "    doc_date = datetime.strptime(header.find(\"date\").text[:10], '%Y-%m-%d')\n",
    "    doc_title = header.find(\"title\").text\n",
    "    doc_speakers = {x[\"xml:id\"]: x.text.strip() for x in header.find_all(\"person\")}\n",
    "\n",
    "    with open(os.path.join(folder, \"text_structure.xml\"), 'r') as data_file:\n",
    "        data = BeautifulSoup(data_file, 'lxml')\n",
    "    \n",
    "    divs = data.find_all('div')\n",
    "    texts = [[get_id(doc_id, div), get_speaker_name(doc_speakers, div), doc_date, ' '.join([x.text for x in div.find_all(is_speaker)])] for div in divs if div.find(is_speaker)]\n",
    "    texts = [t for t in texts if len(t[3]) >= 200]\n",
    "    df = pd.DataFrame(texts, columns=[\"id\", \"speaker\", \"date\", \"text\"])\n",
    "\n",
    "    return df   "
   ]
  },
  {
   "cell_type": "code",
   "execution_count": 3,
   "metadata": {},
   "outputs": [
    {
     "name": "stderr",
     "output_type": "stream",
     "text": [
      "100%|██████████| 3398/3398 [01:21<00:00, 41.65it/s]\n"
     ]
    }
   ],
   "source": [
    "with Pool(8) as p:\n",
    "    folders = glob('corpus/*/sejm/posiedzenia/pp/*')\n",
    "    frames = list(tqdm(p.imap(parse_folder, folders), total=len(folders)))\n",
    "\n",
    "corpus = pd.concat(frames)"
   ]
  },
  {
   "cell_type": "code",
   "execution_count": 43,
   "metadata": {},
   "outputs": [
    {
     "name": "stderr",
     "output_type": "stream",
     "text": [
      "100%|██████████| 330490/330490 [22:59<00:00, 239.53it/s]\n"
     ]
    }
   ],
   "source": [
    "posl = load_posl_df()\n",
    "with open('posl/kadencje_start') as f:\n",
    "    all_kadencje = sorted([datetime.strptime(x.strip(), '%Y-%m-%d') for x in f], reverse=True)\n",
    "\n",
    "def find_speaker(row_tuple):\n",
    "    _, row = row_tuple\n",
    "    speaker = row.speaker.split()\n",
    "\n",
    "    kadencja = next((k for k in all_kadencje if row.date >= k))\n",
    "\n",
    "    found = posl[(posl.rok == kadencja.year) & (posl.posel.str.contains(rf\"(?:^| ){re.escape(speaker[0])}(?:$| )\")) & (posl.posel.str.contains(rf'(?:^| ){re.escape(speaker[1])}(?:$| )') if len(speaker) == 2 else True)]\n",
    "\n",
    "    if len(found) == 1:\n",
    "        return found.squeeze().to_list()\n",
    "    else:\n",
    "        return ['' for x in range(6)]\n",
    "\n",
    "with Pool(8) as p:\n",
    "    posly = list(tqdm(p.imap(find_speaker, corpus.iterrows()), total=len(corpus)))"
   ]
  },
  {
   "cell_type": "code",
   "execution_count": 44,
   "metadata": {},
   "outputs": [
    {
     "data": {
      "text/html": "<div>\n<style scoped>\n    .dataframe tbody tr th:only-of-type {\n        vertical-align: middle;\n    }\n\n    .dataframe tbody tr th {\n        vertical-align: top;\n    }\n\n    .dataframe thead th {\n        text-align: right;\n    }\n</style>\n<table border=\"1\" class=\"dataframe\">\n  <thead>\n    <tr style=\"text-align: right;\">\n      <th></th>\n      <th>rok</th>\n      <th>posel</th>\n      <th>okreg</th>\n      <th>klub</th>\n      <th>lista</th>\n      <th>partia</th>\n    </tr>\n  </thead>\n  <tbody>\n    <tr>\n      <th>0</th>\n      <td>1965</td>\n      <td>Jerzy Olszewski</td>\n      <td>Chrzanów</td>\n      <td>PZPR</td>\n      <td></td>\n      <td></td>\n    </tr>\n    <tr>\n      <th>1</th>\n      <td>1965</td>\n      <td>Maria Krystyna Mielczarek</td>\n      <td>Pabianice</td>\n      <td>PZPR</td>\n      <td></td>\n      <td></td>\n    </tr>\n    <tr>\n      <th>2</th>\n      <td>1965</td>\n      <td>Andrzej Borodzik</td>\n      <td>Warszawa</td>\n      <td>PZPR</td>\n      <td></td>\n      <td></td>\n    </tr>\n    <tr>\n      <th>3</th>\n      <td>1965</td>\n      <td>Lucyna Adamowicz</td>\n      <td>Gdynia</td>\n      <td>bezp.</td>\n      <td></td>\n      <td></td>\n    </tr>\n    <tr>\n      <th>4</th>\n      <td>1965</td>\n      <td>Czesław Domagała</td>\n      <td>Chrzanów</td>\n      <td>PZPR</td>\n      <td></td>\n      <td></td>\n    </tr>\n    <tr>\n      <th>...</th>\n      <td>...</td>\n      <td>...</td>\n      <td>...</td>\n      <td>...</td>\n      <td>...</td>\n      <td>...</td>\n    </tr>\n    <tr>\n      <th>330485</th>\n      <td></td>\n      <td></td>\n      <td></td>\n      <td></td>\n      <td></td>\n      <td></td>\n    </tr>\n    <tr>\n      <th>330486</th>\n      <td></td>\n      <td></td>\n      <td></td>\n      <td></td>\n      <td></td>\n      <td></td>\n    </tr>\n    <tr>\n      <th>330487</th>\n      <td></td>\n      <td></td>\n      <td></td>\n      <td></td>\n      <td></td>\n      <td></td>\n    </tr>\n    <tr>\n      <th>330488</th>\n      <td></td>\n      <td></td>\n      <td></td>\n      <td></td>\n      <td></td>\n      <td></td>\n    </tr>\n    <tr>\n      <th>330489</th>\n      <td></td>\n      <td></td>\n      <td></td>\n      <td></td>\n      <td></td>\n      <td></td>\n    </tr>\n  </tbody>\n</table>\n<p>330490 rows × 6 columns</p>\n</div>",
      "text/plain": "         rok                      posel      okreg   klub lista partia\n0       1965            Jerzy Olszewski   Chrzanów   PZPR             \n1       1965  Maria Krystyna Mielczarek  Pabianice   PZPR             \n2       1965           Andrzej Borodzik   Warszawa   PZPR             \n3       1965           Lucyna Adamowicz     Gdynia  bezp.             \n4       1965           Czesław Domagała   Chrzanów   PZPR             \n...      ...                        ...        ...    ...   ...    ...\n330485                                                                \n330486                                                                \n330487                                                                \n330488                                                                \n330489                                                                \n\n[330490 rows x 6 columns]"
     },
     "execution_count": 44,
     "metadata": {},
     "output_type": "execute_result"
    }
   ],
   "source": [
    "df_posly = pd.DataFrame(posly, columns=posl.columns)\n",
    "df_posly"
   ]
  },
  {
   "cell_type": "code",
   "execution_count": 58,
   "metadata": {},
   "outputs": [
    {
     "data": {
      "text/html": "<div>\n<style scoped>\n    .dataframe tbody tr th:only-of-type {\n        vertical-align: middle;\n    }\n\n    .dataframe tbody tr th {\n        vertical-align: top;\n    }\n\n    .dataframe thead th {\n        text-align: right;\n    }\n</style>\n<table border=\"1\" class=\"dataframe\">\n  <thead>\n    <tr style=\"text-align: right;\">\n      <th></th>\n      <th>id</th>\n      <th>speaker</th>\n      <th>date</th>\n      <th>text</th>\n      <th>rok</th>\n      <th>posel</th>\n      <th>okreg</th>\n      <th>klub</th>\n      <th>lista</th>\n      <th>partia</th>\n    </tr>\n  </thead>\n  <tbody>\n    <tr>\n      <th>0</th>\n      <td>PPC-196569-sjm-ppxxx-00005-01-div-3</td>\n      <td>Olszewski Jerzy</td>\n      <td>1965-12-13</td>\n      <td>Wysoki Sejmie! Wzrastające znaczenie handlu za...</td>\n      <td>1965</td>\n      <td>Jerzy Olszewski</td>\n      <td>Chrzanów</td>\n      <td>PZPR</td>\n      <td></td>\n      <td></td>\n    </tr>\n    <tr>\n      <th>1</th>\n      <td>PPC-196569-sjm-ppxxx-00005-01-div-5</td>\n      <td>Mielczarek Maria</td>\n      <td>1965-12-13</td>\n      <td>Wysoki Sejmie! Pragnę nawiązać do tej części p...</td>\n      <td>1965</td>\n      <td>Maria Krystyna Mielczarek</td>\n      <td>Pabianice</td>\n      <td>PZPR</td>\n      <td></td>\n      <td></td>\n    </tr>\n    <tr>\n      <th>2</th>\n      <td>PPC-196569-sjm-ppxxx-00005-01-div-7</td>\n      <td>Borodzik Andrzej</td>\n      <td>1965-12-13</td>\n      <td>Wysoki Sejmie! Projekt uchwały o Narodowym Pla...</td>\n      <td>1965</td>\n      <td>Andrzej Borodzik</td>\n      <td>Warszawa</td>\n      <td>PZPR</td>\n      <td></td>\n      <td></td>\n    </tr>\n    <tr>\n      <th>3</th>\n      <td>PPC-196569-sjm-ppxxx-00005-01-div-9</td>\n      <td>Adamowicz Lucyna</td>\n      <td>1965-12-13</td>\n      <td>Wysoki Sejmie! Omawiając zagadnienie produkcji...</td>\n      <td>1965</td>\n      <td>Lucyna Adamowicz</td>\n      <td>Gdynia</td>\n      <td>bezp.</td>\n      <td></td>\n      <td></td>\n    </tr>\n    <tr>\n      <th>4</th>\n      <td>PPC-196569-sjm-ppxxx-00005-01-div-11</td>\n      <td>Domagała Czesław</td>\n      <td>1965-12-13</td>\n      <td>Wysoka Izbo! W swoim wystąpieniu pragnąłbym zw...</td>\n      <td>1965</td>\n      <td>Czesław Domagała</td>\n      <td>Chrzanów</td>\n      <td>PZPR</td>\n      <td></td>\n      <td></td>\n    </tr>\n    <tr>\n      <th>...</th>\n      <td>...</td>\n      <td>...</td>\n      <td>...</td>\n      <td>...</td>\n      <td>...</td>\n      <td>...</td>\n      <td>...</td>\n      <td>...</td>\n      <td>...</td>\n      <td>...</td>\n    </tr>\n    <tr>\n      <th>15</th>\n      <td>PPC-193035-sjm-ppxxx-00114-01-div-37</td>\n      <td>P. Czernichowski</td>\n      <td>1934-02-09</td>\n      <td>Wysoka Izbo! Zwyczajem dawnych lat przy budżec...</td>\n      <td></td>\n      <td></td>\n      <td></td>\n      <td></td>\n      <td></td>\n      <td></td>\n    </tr>\n    <tr>\n      <th>16</th>\n      <td>PPC-193035-sjm-ppxxx-00114-01-div-39</td>\n      <td>P. Górczak</td>\n      <td>1934-02-09</td>\n      <td>W referacie budżetowym na rok 1934/35 resortu ...</td>\n      <td></td>\n      <td></td>\n      <td></td>\n      <td></td>\n      <td></td>\n      <td></td>\n    </tr>\n    <tr>\n      <th>17</th>\n      <td>PPC-193035-sjm-ppxxx-00114-01-div-41</td>\n      <td>P. Szymanowski</td>\n      <td>1934-02-09</td>\n      <td>Wysoki Sejmie! Zabieram głos, jako poseł z zie...</td>\n      <td></td>\n      <td></td>\n      <td></td>\n      <td></td>\n      <td></td>\n      <td></td>\n    </tr>\n    <tr>\n      <th>18</th>\n      <td>PPC-193035-sjm-ppxxx-00114-01-div-43</td>\n      <td>P. Rottenstreich</td>\n      <td>1934-02-09</td>\n      <td>Wysoka Izbo! Każde państwo prowadzi w obecnych...</td>\n      <td></td>\n      <td></td>\n      <td></td>\n      <td></td>\n      <td></td>\n      <td></td>\n    </tr>\n    <tr>\n      <th>19</th>\n      <td>PPC-193035-sjm-ppxxx-00114-01-div-45</td>\n      <td>p. Borecki</td>\n      <td>1934-02-09</td>\n      <td>Wniosek Związku Parlamentarnego Polskich Socja...</td>\n      <td></td>\n      <td></td>\n      <td></td>\n      <td></td>\n      <td></td>\n      <td></td>\n    </tr>\n  </tbody>\n</table>\n<p>330490 rows × 10 columns</p>\n</div>",
      "text/plain": "                                      id           speaker       date  \\\n0    PPC-196569-sjm-ppxxx-00005-01-div-3   Olszewski Jerzy 1965-12-13   \n1    PPC-196569-sjm-ppxxx-00005-01-div-5  Mielczarek Maria 1965-12-13   \n2    PPC-196569-sjm-ppxxx-00005-01-div-7  Borodzik Andrzej 1965-12-13   \n3    PPC-196569-sjm-ppxxx-00005-01-div-9  Adamowicz Lucyna 1965-12-13   \n4   PPC-196569-sjm-ppxxx-00005-01-div-11  Domagała Czesław 1965-12-13   \n..                                   ...               ...        ...   \n15  PPC-193035-sjm-ppxxx-00114-01-div-37  P. Czernichowski 1934-02-09   \n16  PPC-193035-sjm-ppxxx-00114-01-div-39        P. Górczak 1934-02-09   \n17  PPC-193035-sjm-ppxxx-00114-01-div-41    P. Szymanowski 1934-02-09   \n18  PPC-193035-sjm-ppxxx-00114-01-div-43  P. Rottenstreich 1934-02-09   \n19  PPC-193035-sjm-ppxxx-00114-01-div-45        p. Borecki 1934-02-09   \n\n                                                 text   rok  \\\n0   Wysoki Sejmie! Wzrastające znaczenie handlu za...  1965   \n1   Wysoki Sejmie! Pragnę nawiązać do tej części p...  1965   \n2   Wysoki Sejmie! Projekt uchwały o Narodowym Pla...  1965   \n3   Wysoki Sejmie! Omawiając zagadnienie produkcji...  1965   \n4   Wysoka Izbo! W swoim wystąpieniu pragnąłbym zw...  1965   \n..                                                ...   ...   \n15  Wysoka Izbo! Zwyczajem dawnych lat przy budżec...         \n16  W referacie budżetowym na rok 1934/35 resortu ...         \n17  Wysoki Sejmie! Zabieram głos, jako poseł z zie...         \n18  Wysoka Izbo! Każde państwo prowadzi w obecnych...         \n19  Wniosek Związku Parlamentarnego Polskich Socja...         \n\n                        posel      okreg   klub lista partia  \n0             Jerzy Olszewski   Chrzanów   PZPR               \n1   Maria Krystyna Mielczarek  Pabianice   PZPR               \n2            Andrzej Borodzik   Warszawa   PZPR               \n3            Lucyna Adamowicz     Gdynia  bezp.               \n4            Czesław Domagała   Chrzanów   PZPR               \n..                        ...        ...    ...   ...    ...  \n15                                                            \n16                                                            \n17                                                            \n18                                                            \n19                                                            \n\n[330490 rows x 10 columns]"
     },
     "execution_count": 58,
     "metadata": {},
     "output_type": "execute_result"
    }
   ],
   "source": [
    "df_posly.index = corpus.index\n",
    "df_all = pd.concat([corpus, df_posly], axis=1)\n",
    "df_all"
   ]
  },
  {
   "cell_type": "code",
   "execution_count": 59,
   "metadata": {},
   "outputs": [],
   "source": [
    "df_all.to_csv('parsed/corpus/all.csv')"
   ]
  },
  {
   "cell_type": "code",
   "execution_count": 2,
   "metadata": {},
   "outputs": [],
   "source": [
    "corpus = pd.read_csv('parsed/corpus/all.csv', index_col=0, na_filter=False)"
   ]
  },
  {
   "cell_type": "code",
   "execution_count": null,
   "metadata": {},
   "outputs": [],
   "source": [
    " corpus.replace('bezp.', '', inplace=True)"
   ]
  },
  {
   "cell_type": "code",
   "execution_count": 53,
   "metadata": {},
   "outputs": [
    {
     "data": {
      "text/plain": "<AxesSubplot:>"
     },
     "execution_count": 53,
     "metadata": {},
     "output_type": "execute_result"
    }
   ],
   "source": [
    "corpus.data.hist(bins=100)"
   ]
  },
  {
   "cell_type": "code",
   "execution_count": 46,
   "metadata": {},
   "outputs": [
    {
     "data": {
      "text/plain": "<AxesSubplot:>"
     },
     "execution_count": 46,
     "metadata": {},
     "output_type": "execute_result"
    }
   ],
   "source": [
    "corpus['text_lengts'] = [len(x.split()) if len(x) < 50000 else 5000 for x in corpus['text']]\n",
    "corpus['text_lengts'].hist(bins=500)"
   ]
  },
  {
   "cell_type": "code",
   "execution_count": 42,
   "metadata": {},
   "outputs": [
    {
     "data": {
      "text/html": "<div>\n<style scoped>\n    .dataframe tbody tr th:only-of-type {\n        vertical-align: middle;\n    }\n\n    .dataframe tbody tr th {\n        vertical-align: top;\n    }\n\n    .dataframe thead th {\n        text-align: right;\n    }\n</style>\n<table border=\"1\" class=\"dataframe\">\n  <thead>\n    <tr style=\"text-align: right;\">\n      <th></th>\n      <th>id</th>\n      <th>speaker</th>\n      <th>date</th>\n      <th>text</th>\n      <th>rok</th>\n      <th>posel</th>\n      <th>okreg</th>\n      <th>klub</th>\n      <th>lista</th>\n      <th>partia</th>\n      <th>text_lengts</th>\n    </tr>\n  </thead>\n  <tbody>\n    <tr>\n      <th>51</th>\n      <td>PPC-199701-sjm-ppxxx-00039-02-div-116</td>\n      <td>Lesław Podkański</td>\n      <td>1998-12-17</td>\n      <td>Panie Marszałku! Wysoka Izbo! Przypadł mi obow...</td>\n      <td>1997</td>\n      <td>Lesław Podkański</td>\n      <td>Zamość</td>\n      <td>Klub Parlamentarny Polskiego Stronnictwa Ludowego</td>\n      <td>Polskie Stronnictwo Ludowe</td>\n      <td>Polskie Stronnictwo Ludowe</td>\n      <td>50000</td>\n    </tr>\n    <tr>\n      <th>9</th>\n      <td>PPC-199397-sjm-ppxxx-00089-01-div-23</td>\n      <td>Wiesław Kaczmarek</td>\n      <td>1996-09-25</td>\n      <td>Pani Marszałek! Wysoka Izbo! Myślę, że przy ok...</td>\n      <td>1993</td>\n      <td>Wiesław Kaczmarek</td>\n      <td>Warszawa</td>\n      <td>Sojusz Lewicy Demokratycznej Klub Parlamentarny</td>\n      <td>Sojusz Lewicy Demokratycznej</td>\n      <td>Socjaldemokracja Rzeczypospolitej Polskiej</td>\n      <td>50000</td>\n    </tr>\n    <tr>\n      <th>12</th>\n      <td>PPC-192227-sjm-ppxxx-00198-01-div-29</td>\n      <td>Władysław Grabski</td>\n      <td>1925-04-28</td>\n      <td>Przemówienie moje jest spóźnione, powinno było...</td>\n      <td></td>\n      <td></td>\n      <td></td>\n      <td></td>\n      <td></td>\n      <td></td>\n      <td>50000</td>\n    </tr>\n    <tr>\n      <th>11</th>\n      <td>PPC-191922-sjm-ppxxx-00044-01-div-25</td>\n      <td>Jan Dąbski.</td>\n      <td>1919-06-03</td>\n      <td>Wysoki Sejmie! Reforma rolna jest największem ...</td>\n      <td></td>\n      <td></td>\n      <td></td>\n      <td></td>\n      <td></td>\n      <td></td>\n      <td>50000</td>\n    </tr>\n    <tr>\n      <th>1</th>\n      <td>PPC-192227-sjm-ppxxx-00259-01-div-7</td>\n      <td>P. Frostig</td>\n      <td>1925-12-12</td>\n      <td>Wysoki Sejmie! Ekspose p. Ministra Skarbu było...</td>\n      <td></td>\n      <td></td>\n      <td></td>\n      <td></td>\n      <td></td>\n      <td></td>\n      <td>50000</td>\n    </tr>\n    <tr>\n      <th>...</th>\n      <td>...</td>\n      <td>...</td>\n      <td>...</td>\n      <td>...</td>\n      <td>...</td>\n      <td>...</td>\n      <td>...</td>\n      <td>...</td>\n      <td>...</td>\n      <td>...</td>\n      <td>...</td>\n    </tr>\n    <tr>\n      <th>24</th>\n      <td>PPC-192227-sjm-ppxxx-00118-01-div-59</td>\n      <td>p. Ledwoch</td>\n      <td>1924-04-10</td>\n      <td>Na końcu pierwszej rezolucji dodać: — „wyznacz...</td>\n      <td></td>\n      <td></td>\n      <td></td>\n      <td></td>\n      <td></td>\n      <td></td>\n      <td>200</td>\n    </tr>\n    <tr>\n      <th>40</th>\n      <td>PPC-191922-sjm-ppxxx-00157-01-div-97</td>\n      <td>P. Diamand</td>\n      <td>1920-07-01</td>\n      <td>Posłowie nie liczyli na to, że tak prędko skoń...</td>\n      <td></td>\n      <td></td>\n      <td></td>\n      <td></td>\n      <td></td>\n      <td></td>\n      <td>200</td>\n    </tr>\n    <tr>\n      <th>24</th>\n      <td>PPC-192830-sjm-ppxxx-00033-01-div-50</td>\n      <td>P. Chrucki</td>\n      <td>1928-11-23</td>\n      <td>Do nowych dobrych zwyczajów, które już się wpr...</td>\n      <td></td>\n      <td></td>\n      <td></td>\n      <td></td>\n      <td></td>\n      <td></td>\n      <td>200</td>\n    </tr>\n    <tr>\n      <th>187</th>\n      <td>PPC-200711-sjm-ppxxx-00100-02-div-1054</td>\n      <td>Waldemar Pawlak</td>\n      <td>2011-09-16</td>\n      <td>W trybie podziękowania. Chciałbym w imieniu Ra...</td>\n      <td>2007</td>\n      <td>Waldemar Pawlak</td>\n      <td>Płock</td>\n      <td>Klub Poselski Polskiego Stronnictwa Ludowego</td>\n      <td>Polskie Stronnictwo Ludowe</td>\n      <td></td>\n      <td>200</td>\n    </tr>\n    <tr>\n      <th>13</th>\n      <td>PPC-193538-sjm-ppxxx-00076-01-div-29</td>\n      <td>p. Tarnowski</td>\n      <td>1938-02-24</td>\n      <td>— „Sejm wzywa Rząd, by kwoty, przekazywane z b...</td>\n      <td></td>\n      <td></td>\n      <td></td>\n      <td></td>\n      <td></td>\n      <td></td>\n      <td>200</td>\n    </tr>\n  </tbody>\n</table>\n<p>330490 rows × 11 columns</p>\n</div>",
      "text/plain": "                                         id            speaker        date  \\\n51    PPC-199701-sjm-ppxxx-00039-02-div-116   Lesław Podkański  1998-12-17   \n9      PPC-199397-sjm-ppxxx-00089-01-div-23  Wiesław Kaczmarek  1996-09-25   \n12     PPC-192227-sjm-ppxxx-00198-01-div-29  Władysław Grabski  1925-04-28   \n11     PPC-191922-sjm-ppxxx-00044-01-div-25        Jan Dąbski.  1919-06-03   \n1       PPC-192227-sjm-ppxxx-00259-01-div-7         P. Frostig  1925-12-12   \n..                                      ...                ...         ...   \n24     PPC-192227-sjm-ppxxx-00118-01-div-59         p. Ledwoch  1924-04-10   \n40     PPC-191922-sjm-ppxxx-00157-01-div-97         P. Diamand  1920-07-01   \n24     PPC-192830-sjm-ppxxx-00033-01-div-50         P. Chrucki  1928-11-23   \n187  PPC-200711-sjm-ppxxx-00100-02-div-1054    Waldemar Pawlak  2011-09-16   \n13     PPC-193538-sjm-ppxxx-00076-01-div-29       p. Tarnowski  1938-02-24   \n\n                                                  text   rok  \\\n51   Panie Marszałku! Wysoka Izbo! Przypadł mi obow...  1997   \n9    Pani Marszałek! Wysoka Izbo! Myślę, że przy ok...  1993   \n12   Przemówienie moje jest spóźnione, powinno było...         \n11   Wysoki Sejmie! Reforma rolna jest największem ...         \n1    Wysoki Sejmie! Ekspose p. Ministra Skarbu było...         \n..                                                 ...   ...   \n24   Na końcu pierwszej rezolucji dodać: — „wyznacz...         \n40   Posłowie nie liczyli na to, że tak prędko skoń...         \n24   Do nowych dobrych zwyczajów, które już się wpr...         \n187  W trybie podziękowania. Chciałbym w imieniu Ra...  2007   \n13   — „Sejm wzywa Rząd, by kwoty, przekazywane z b...         \n\n                 posel     okreg  \\\n51    Lesław Podkański    Zamość   \n9    Wiesław Kaczmarek  Warszawa   \n12                                 \n11                                 \n1                                  \n..                 ...       ...   \n24                                 \n40                                 \n24                                 \n187    Waldemar Pawlak     Płock   \n13                                 \n\n                                                  klub  \\\n51   Klub Parlamentarny Polskiego Stronnictwa Ludowego   \n9      Sojusz Lewicy Demokratycznej Klub Parlamentarny   \n12                                                       \n11                                                       \n1                                                        \n..                                                 ...   \n24                                                       \n40                                                       \n24                                                       \n187       Klub Poselski Polskiego Stronnictwa Ludowego   \n13                                                       \n\n                            lista                                      partia  \\\n51     Polskie Stronnictwo Ludowe                  Polskie Stronnictwo Ludowe   \n9    Sojusz Lewicy Demokratycznej  Socjaldemokracja Rzeczypospolitej Polskiej   \n12                                                                              \n11                                                                              \n1                                                                               \n..                            ...                                         ...   \n24                                                                              \n40                                                                              \n24                                                                              \n187    Polskie Stronnictwo Ludowe                                               \n13                                                                              \n\n     text_lengts  \n51         50000  \n9          50000  \n12         50000  \n11         50000  \n1          50000  \n..           ...  \n24           200  \n40           200  \n24           200  \n187          200  \n13           200  \n\n[330490 rows x 11 columns]"
     },
     "execution_count": 42,
     "metadata": {},
     "output_type": "execute_result"
    }
   ],
   "source": [
    "corpus.sort_values(by=['text_lengts'],ascending=False)"
   ]
  }
 ],
 "metadata": {
  "kernelspec": {
   "display_name": "Python 3.8.8 64-bit ('mgr-bertopic': conda)",
   "name": "python388jvsc74a57bd04c5c8db328c264de2407c70dad8cea85c5f3b5b9d4ef25d8020199a954a0aca6"
  },
  "language_info": {
   "codemirror_mode": {
    "name": "ipython",
    "version": 3
   },
   "file_extension": ".py",
   "mimetype": "text/x-python",
   "name": "python",
   "nbconvert_exporter": "python",
   "pygments_lexer": "ipython3",
   "version": "3.8.8"
  },
  "metadata": {
   "interpreter": {
    "hash": "767d51c1340bd893661ea55ea3124f6de3c7a262a8b4abca0554b478b1e2ff90"
   }
  },
  "orig_nbformat": 2
 },
 "nbformat": 4,
 "nbformat_minor": 2
}